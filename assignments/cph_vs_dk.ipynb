{
 "cells": [
  {
   "attachments": {},
   "cell_type": "markdown",
   "metadata": {},
   "source": [
    "# Explainer Jupyter Notebook\n",
    "### A Copenhagen Data Story - Inequality in Health and Wealth\n",
    "Technical University of Denmark\n",
    "\n",
    "02806 Social Data Analysis and Visualization\n",
    "\n",
    "May 12, 2023\n",
    "* Søren Blatt Bendtsen - s164521\n",
    "* Vivién Varadi - s222737\n",
    "* Thomas Adamopoulos -s213163"
   ]
  },
  {
   "attachments": {},
   "cell_type": "markdown",
   "metadata": {},
   "source": [
    "# 1. Motivation\n",
    "\n",
    "As also mentioned in the article, our motivation to deap dive further into health and wealth in Copenhagen came from discussions on different views on life in Copenhagen. We were very motivated to look further into actual topics that we notice in our everyday life of living in Copenhagen. \n",
    "\n",
    "We have gathered our data set from the tool Velstand & Ulighed created by Rockwool Fonden. Rockwool Fonden uses data delivered by Danmark Statistik (DST) from their administrative register. The underlying data is therefore row based on individual people living in Denmark identifiable by their CPR-number [1]. The data publicly available to download from Rockwool Fonden's tool is aggregated on a yearly base for groups of the population.\n",
    "\n",
    "First of all, as this project is for the class \"Social Data Analysis and Visualization\", we wanted to have a social aspect on the project. And working with inequality has just that. Second of all, we chose to work with this specific data set as it has several interesting continous numerical attributes, as well as interesting demographic categorical attributes, that we imagined to find interesting trends within. We decided to work with the 20 municipalities located in the greater region of Copenhagen, as well as an average for the whole of Denmark.\n",
    "\n",
    "Our goal with this project was to bring facts into a discussion that is very often based on assumptions, opinions and what you are used to hearing in the news. We, among ourselves in the group, had discussions based on experience, and we believed that looking at the actual data within these topics, would bring a deeper dimension to our discussion. For the end user of the article, we wanted to create an article with interactive visualizations, where we would highlight the most important aspects, but that at the same time would allow the user dig down even further in the data."
   ]
  },
  {
   "attachments": {},
   "cell_type": "markdown",
   "metadata": {},
   "source": [
    "# 2. Basic stats and data preparation\n",
    "\n",
    "Quite a lot of data preparation and cleaning was required to create the final data set that we have worked on. This work has been done in four separate Jupyter Notebooks, as it required many lines of code. Among other things, the following have been done.\n",
    "\n",
    "* From the tool Velstand & Ulighed, we decided to download data sets for disposable income, number of days spent in the hospital and number of hospitalizations. Only small chunks of data could be downloaded at the time for small group of years, municipalities, ages, genders, educations and ethnicities and therefore many small data sets had to be merged together.\n",
    "* When downloading the data sets, the demographic variables were not named. This therefore had to be done for each small data set before merging them together.\n",
    "* Remove duplicates. Every chunk of data included an average for the total Denmark. Duplicates of this have been moved.\n",
    "* Translation from Danish to English\n",
    "* Matching of municipality code to actual municipality name\n",
    "* Weighted calculations: as the data is on an aggregated basis, we had to use the number of observations (included from Velstand & Ulighed) within each group in order to calculate a variety of weighted numbers, that can then be used when grouping by a combination of different variables.\n",
    "* Calculate Greater Copenhagen average. We wanted to compare the whole of Denmark to Copenhagen. For that reason we have calculated weighted averages for the Greater Copenhagen Region based on data from the 20 municipalities within Copenhagen.\n",
    "* Select relevant columns\n",
    "\n",
    "After doing the above work for the data sets related to Income, Days in Hospital and Number of Hospitalizations, they have at last been merged together to one complete data set called copenhagen_data.csv."
   ]
  },
  {
   "cell_type": "code",
   "execution_count": 3,
   "metadata": {},
   "outputs": [],
   "source": [
    "# import libraries\n",
    "# Used for working with dataframes, visualizing data and doing machine learning\n",
    "import pandas as pd\n",
    "import numpy as np\n",
    "import matplotlib.pyplot as plt\n",
    "import plotly.express as px\n",
    "import plotly.graph_objs as go\n",
    "from sklearn.cluster import KMeans\n",
    "from sklearn.preprocessing import StandardScaler\n",
    "from sklearn.decomposition import PCA\n",
    "import matplotlib.pyplot as plt\n",
    "import seaborn as sns\n",
    "import matplotlib.cm as cm\n",
    "from sklearn.preprocessing import OrdinalEncoder, LabelEncoder\n",
    "from sklearn.metrics import mean_squared_error, r2_score\n",
<<<<<<< HEAD
    "from sklearn.model_selection import train_test_split\n",
    "from sklearn.model_selection import cross_val_score, GridSearchCV, KFold\n",
    "from sklearn.linear_model import LinearRegression, Ridge\n",
    "from scipy import stats\n",
    "from sklearn.preprocessing import PolynomialFeatures\n",
    "from sklearn.pipeline import make_pipeline"
=======
    "from sklearn.model_selection import train_test_split"
>>>>>>> ee76a606b13737ddfbc3075ccd0fc6deab97afeb
   ]
  },
  {
   "cell_type": "code",
   "execution_count": 4,
   "metadata": {},
   "outputs": [],
   "source": [
    "# Load data set and save to data frame\n",
    "df = pd.read_csv('copenhagen_data.csv')"
   ]
  },
  {
   "attachments": {},
   "cell_type": "markdown",
   "metadata": {},
   "source": [
    "At this point, we realized that there was many rows with Null Values. This was due to the data for Income, Days in Hospital and Number of Hospitalizations not being available for the same number of years and demographic groups. For that reason we are dropping missing values below."
   ]
  },
  {
   "cell_type": "code",
   "execution_count": 3,
   "metadata": {},
   "outputs": [],
   "source": [
    "# Drop rows with missing values\n",
    "df_2= df.dropna()\n",
    "df_dk = df_2[df_2.municipality == 'Denmark']\n",
    "df_cph = df_2[df_2.municipality == 'Greater Copenhagen']"
   ]
  },
  {
   "cell_type": "code",
   "execution_count": null,
   "metadata": {},
   "outputs": [],
   "source": [
    "df_2.describe()"
   ]
  },
  {
   "cell_type": "code",
   "execution_count": null,
   "metadata": {},
   "outputs": [],
   "source": [
    "#This doesn't really make sense\n",
    "#df_boxplot = df_2[['income', 'days in hospital', 'number of hospitalizations']]\n",
    "#plt.figure(figsize= (10,6))\n",
    "#df_boxplot.boxplot()\n",
    "#plt.xticks(rotation=45)\n",
    "#plt.title('Exploratory analysis of main variables')\n",
    "#plt.show()"
   ]
  },
  {
   "attachments": {},
   "cell_type": "markdown",
   "metadata": {},
   "source": [
    "After dropping the NaN values, we ended up having 11320 observations that we could work with, which is still more than enough. \n",
    "- box plots of distribution of income, health. \n",
    "- also distribution of # of observations. Who are the biggest groups and who are the smallest ones?"
   ]
  },
  {
   "attachments": {},
   "cell_type": "markdown",
   "metadata": {},
   "source": [
    "Why do we do one-hot encoding? And what is the purpose of the following box-plots? \n",
    "\n",
    "Let's consider what we include and show here. I think some plots of distributions etc. is a good idea, but let's consider what makes sence."
   ]
  },
  {
   "cell_type": "code",
   "execution_count": null,
   "metadata": {},
   "outputs": [],
   "source": [
    "# Perform one-hot encoding on the 'gender' column\n",
    "one_hot_encoded_gender = pd.get_dummies(df.gender, prefix='gender')\n",
    "\n",
    "# Concatenate the one-hot encoded columns to the original DataFrame\n",
    "df_gender = pd.concat([df.drop('gender', axis=1), one_hot_encoded_gender], axis=1)\n",
    "df_gender\n"
   ]
  },
  {
   "cell_type": "code",
   "execution_count": null,
   "metadata": {},
   "outputs": [],
   "source": [
    "women_dk = df[(df.gender == 'Women') & (df.municipality == 'Denmark')]\n",
    "women_cph = df[(df.gender == 'Women') & (df.municipality == 'Greater Copenhagen')]"
   ]
  },
  {
   "cell_type": "code",
   "execution_count": null,
   "metadata": {},
   "outputs": [],
   "source": [
    "women_cph.isnull().sum()"
   ]
  },
  {
   "cell_type": "code",
   "execution_count": null,
   "metadata": {},
   "outputs": [],
   "source": [
    "women_dk.isnull().sum()"
   ]
  },
  {
   "cell_type": "code",
   "execution_count": null,
   "metadata": {},
   "outputs": [],
   "source": [
    "women_dk.describe()"
   ]
  },
  {
   "cell_type": "code",
   "execution_count": null,
   "metadata": {},
   "outputs": [],
   "source": [
    "women_cph.describe()"
   ]
  },
  {
   "cell_type": "code",
   "execution_count": null,
   "metadata": {},
   "outputs": [],
   "source": [
    "plt.figure(figsize= (10,6))\n",
    "women_dk.boxplot()\n",
    "plt.xticks(rotation=45)\n",
    "plt.title('Women in Denmark features boxplot')\n",
    "plt.show()\n",
    "\n",
    "plt.figure(figsize= (10,6))\n",
    "women_cph.boxplot()\n",
    "plt.xticks(rotation=45)\n",
    "plt.title('Women in Copenhagen features boxplot ')\n",
    "plt.show()"
   ]
  },
  {
   "cell_type": "code",
   "execution_count": null,
   "metadata": {},
   "outputs": [],
   "source": [
    "women_dk_drop = women_dk.dropna()\n",
    "women_cph_drop = women_cph.dropna()"
   ]
  },
  {
   "cell_type": "code",
   "execution_count": null,
   "metadata": {},
   "outputs": [],
   "source": [
    "df_2= df.dropna()\n",
    "df_dk = df_2[df_2.municipality == 'Denmark']\n",
    "df_cph = df_2[df_2.municipality == 'Greater Copenhagen']"
   ]
  },
  {
   "cell_type": "code",
   "execution_count": null,
   "metadata": {},
   "outputs": [],
   "source": [
    "df2_dk_income_per_year = df_dk.groupby('year')['weighted_inc_mun'].sum().reset_index(name='count')\n",
    "df2_cph_income_per_year = df_cph.groupby('year')['weighted_inc_mun'].sum().reset_index(name='count')"
   ]
  },
  {
   "cell_type": "code",
   "execution_count": null,
   "metadata": {},
   "outputs": [],
   "source": [
    "dk_income_per_year = df_dk.groupby('year')['weighted_inc_mun'].sum().reset_index(name='count')\n",
    "cph_income_per_year = df_cph.groupby('year')['weighted_inc_mun'].sum().reset_index(name='count')\n",
    "\n",
    "dk_income_per_year\n"
   ]
  },
  {
   "attachments": {},
   "cell_type": "markdown",
   "metadata": {},
   "source": [
    "# 3. Data analysis\n",
    "\n",
    "Describe your data analysis and explain what you've learned about the dataset.\n",
    "If relevant, talk about your machine-learning."
   ]
  },
  {
   "attachments": {},
   "cell_type": "markdown",
   "metadata": {},
   "source": [
    "# 4. Genre\n",
    "\n",
    "We have written this article in the Magazine Genre while following the Martini Glass Structure. By this, we mean that we have started out with a broader scope, which was a comparison of Greater Copenhagen to the rest of Denmark. Then we have found some interesting insights and afterwards narrowed our scope down to understand these insights better within the Region of Copenhagen. \n",
    "\n",
    "### 4.1 Visual Narrative:\n",
    "We have applied a variety of different visual narrative tactics to assist and facilitate our story telling. From a visual structuring perspective, we have used Progress Bars in our bar plots in section 5.1 below. We have done so in order visualize a development over time with side by side bars to compare different categories. This is a way to include a lot of information into one visualization that is easy to follow for the reader and does not feel confusing or overcrowded with information. From a highlighting perspetive, we have used a combination of Motion and Feature Distinction in our Maps in section 5.2 below. We have used an intense color scheme as feature distinction so that the reader quickly cathces the areas with large differenes, which is what we are trying to highlight in this story on inequality. And at the same time we are using Motion in form of a Gif, where the reader can press play and the map changes from year to year. In order to transition from one visualization to the next, we have applied Continuity Editing with descriptive texts that guides the reader.\n",
    "\n",
    "### 4.2 Narrative Structure:\n",
    "With a focus on narrative structure within each visualization, we have had a strong focus on interactivity to engage the reader with the story. But first of all from an ordering perspective, we have guided the reader through our visualizations linearly by focusing on the development over time. As mentioned, we have wanted to engage the reader with interactive plots, where we have applied drop-down menus for filtering as well as informative tool-tips for hover highlighting. Due to limitations in our plots, we have also used explicit instructions in order to guide the reader on how to interact with the visualizations. Although the reader can play around with the visualizations and find interesting insights, we have used an accompanying article to highlight the most important messages that we have found."
   ]
  },
  {
   "attachments": {},
   "cell_type": "markdown",
   "metadata": {},
   "source": [
    "# 5. Visualizations\n",
    "\n",
    "As mentioned above, we have had a strong focus on interactivity in our visualizations. For that reason, we have applied the open source graphing library of Plotly, which is a leading Python library for interactive, scientific data visualization."
   ]
  },
  {
   "attachments": {},
   "cell_type": "markdown",
   "metadata": {},
   "source": [
    "## 5.1 Plotting timelines - Greater Copenhagen vs Denmark\n",
    "\n",
    "Starting at the wide foot of our martini glass structure, we have made comparative visualizations between the Region of Greater Copenhagen and Denmark as a whole. We have decided to create a side by side bar plot with our 3 continous variables respectively on the y-axis and years on the x-axis. The side by side bars show Denmark and Greater Copenhagen.\n",
    "\n",
    "### Data prep\n",
    "As a first step, a bit of data preparation was required to set up the right data frames for the visualization., such as filtering for the correct regions, creating lists with unique variables and grouping over these variables. We have used the sum of the weighted variables in the grouping by, to take into considerations the number of observations and their respective weight.\n",
    "\n",
    "### Plotly side by side bar\n",
    "We have used the graph.objs library of Plotly to create the side by side bar plots, where we have added a trace for DK and CPH respectively to show them as bars side by side. We have used different colors for CPH and DK together with a descriptive legend to visually separate them.\n",
    "\n",
    "### Drop down menus\n",
    "Four drop down menus are created for each of the demographic variables. These are then placed side by side on the top of the visualization. We had expected it to be possible to create cross-filtering, so that several drop down filters could be applied at the same time, slicing and dicing the data set inside the visualization. In the process, after trying many different approaches and reading blogs and Stack Overflow, we found out that this was not possible with more than 2 attributes. For that reason only one drop down filter can be applied at the time."
   ]
  },
  {
   "cell_type": "code",
   "execution_count": 4,
   "metadata": {},
   "outputs": [],
   "source": [
    "# Data preparation for visualization:\n",
    "\n",
    "# Data frame with Greater Copenhagen and Denmark\n",
    "df_cop_dk = df_2[(df_2.municipality == 'Denmark') | (df_2.municipality == 'Greater Copenhagen')]\n",
    "\n",
    "# unique years and municipalities for plotting\n",
    "years = df_cop_dk.year.unique()\n",
    "municipalities = df_cop_dk.municipality.unique()\n",
    "\n",
    "# Yearly average income\n",
    "dk_yearly_avg_inc = df_cop_dk[(df_cop_dk.municipality=='Denmark')].groupby(['year', 'municipality'])['weighted_inc_mun'].sum()\n",
    "cop_yearly_avg_inc = df_cop_dk[(df_cop_dk.municipality=='Greater Copenhagen')].groupby(['year', 'municipality'])['weighted_inc_mun'].sum()\n",
    "df_income = df_cop_dk.groupby(['year', 'municipality'])['weighted_inc_mun'].sum().reset_index(name='count')\n",
    "\n",
    "# Yearly average days in hospital\n",
    "dk_yearly_avg_hosp_days = df_cop_dk[(df_cop_dk.municipality=='Denmark')].groupby(['year', 'municipality'])['weighted_hosp_days_mun'].sum()\n",
    "cop_yearly_avg_hosp_days = df_cop_dk[(df_cop_dk.municipality=='Greater Copenhagen')].groupby(['year', 'municipality'])['weighted_hosp_days_mun'].sum()\n",
    "df_days = df_cop_dk.groupby(['year', 'municipality'])['weighted_hosp_days_mun'].sum().reset_index(name='count')\n",
    "\n",
    "# Yearly average hospitalizations\n",
    "dk_yearly_avg_hosp_times = df_cop_dk[(df_cop_dk.municipality=='Denmark')].groupby(['year', 'municipality'])['weighted_hospitalizations_mun'].sum()\n",
    "cop_yearly_avg_hosp_times = df_cop_dk[(df_cop_dk.municipality=='Greater Copenhagen')].groupby(['year', 'municipality'])['weighted_hospitalizations_mun'].sum()\n",
    "df_hosp = df_cop_dk.groupby(['year', 'municipality'])['weighted_hospitalizations_mun'].sum().reset_index(name='count')"
   ]
  },
  {
   "attachments": {},
   "cell_type": "markdown",
   "metadata": {},
   "source": [
    "### Interactive visualization for income with filters for age, gender, education and ethnicity"
   ]
  },
  {
   "cell_type": "code",
   "execution_count": 5,
   "metadata": {},
   "outputs": [
    {
     "data": {
      "application/vnd.plotly.v1+json": {
       "config": {
        "plotlyServerURL": "https://plot.ly"
       },
       "data": [
        {
         "marker": {
          "color": "rgb(55, 83, 109)"
         },
         "name": "Denmark",
         "type": "bar",
         "x": [
          2005,
          2006,
          2007,
          2008,
          2009,
          2010,
          2011,
          2012,
          2013,
          2014,
          2015,
          2016,
          2017,
          2018
         ],
         "y": [
          255616.32526608012,
          260120.7657516041,
          262272.00872240536,
          256640.5968274187,
          258339.40698911736,
          275387.016033431,
          273380.45813095843,
          272492.81552348053,
          277541.72464290314,
          283093.914696419,
          288426.16922337335,
          292967.28475570463,
          298112.57671105646,
          304094.2555620311
         ]
        },
        {
         "marker": {
          "color": "rgb(26, 118, 255)"
         },
         "name": "Greater Copenhagen",
         "type": "bar",
         "x": [
          2005,
          2006,
          2007,
          2008,
          2009,
          2010,
          2011,
          2012,
          2013,
          2014,
          2015,
          2016,
          2017,
          2018
         ],
         "y": [
          271686.73150448233,
          275662.66075669276,
          276050.1566439862,
          269909.53812569403,
          269207.93785791105,
          290563.9268522387,
          289335.7664705521,
          287875.98877217557,
          293504.78056068585,
          300087.8300778641,
          306151.8093014965,
          310943.18766815745,
          315684.46268450306,
          321978.1360394762
         ]
        }
       ],
       "layout": {
        "bargap": 0.15,
        "bargroupgap": 0.1,
        "barmode": "group",
        "legend": {
         "bgcolor": "rgba(255, 255, 255, 0)",
         "bordercolor": "rgba(255, 255, 255, 0)",
         "title": {
          "text": ""
         },
         "x": 0.01,
         "y": 1
        },
        "template": {
         "data": {
          "bar": [
           {
            "error_x": {
             "color": "#2a3f5f"
            },
            "error_y": {
             "color": "#2a3f5f"
            },
            "marker": {
             "line": {
              "color": "#E5ECF6",
              "width": 0.5
             },
             "pattern": {
              "fillmode": "overlay",
              "size": 10,
              "solidity": 0.2
             }
            },
            "type": "bar"
           }
          ],
          "barpolar": [
           {
            "marker": {
             "line": {
              "color": "#E5ECF6",
              "width": 0.5
             },
             "pattern": {
              "fillmode": "overlay",
              "size": 10,
              "solidity": 0.2
             }
            },
            "type": "barpolar"
           }
          ],
          "carpet": [
           {
            "aaxis": {
             "endlinecolor": "#2a3f5f",
             "gridcolor": "white",
             "linecolor": "white",
             "minorgridcolor": "white",
             "startlinecolor": "#2a3f5f"
            },
            "baxis": {
             "endlinecolor": "#2a3f5f",
             "gridcolor": "white",
             "linecolor": "white",
             "minorgridcolor": "white",
             "startlinecolor": "#2a3f5f"
            },
            "type": "carpet"
           }
          ],
          "choropleth": [
           {
            "colorbar": {
             "outlinewidth": 0,
             "ticks": ""
            },
            "type": "choropleth"
           }
          ],
          "contour": [
           {
            "colorbar": {
             "outlinewidth": 0,
             "ticks": ""
            },
            "colorscale": [
             [
              0,
              "#0d0887"
             ],
             [
              0.1111111111111111,
              "#46039f"
             ],
             [
              0.2222222222222222,
              "#7201a8"
             ],
             [
              0.3333333333333333,
              "#9c179e"
             ],
             [
              0.4444444444444444,
              "#bd3786"
             ],
             [
              0.5555555555555556,
              "#d8576b"
             ],
             [
              0.6666666666666666,
              "#ed7953"
             ],
             [
              0.7777777777777778,
              "#fb9f3a"
             ],
             [
              0.8888888888888888,
              "#fdca26"
             ],
             [
              1,
              "#f0f921"
             ]
            ],
            "type": "contour"
           }
          ],
          "contourcarpet": [
           {
            "colorbar": {
             "outlinewidth": 0,
             "ticks": ""
            },
            "type": "contourcarpet"
           }
          ],
          "heatmap": [
           {
            "colorbar": {
             "outlinewidth": 0,
             "ticks": ""
            },
            "colorscale": [
             [
              0,
              "#0d0887"
             ],
             [
              0.1111111111111111,
              "#46039f"
             ],
             [
              0.2222222222222222,
              "#7201a8"
             ],
             [
              0.3333333333333333,
              "#9c179e"
             ],
             [
              0.4444444444444444,
              "#bd3786"
             ],
             [
              0.5555555555555556,
              "#d8576b"
             ],
             [
              0.6666666666666666,
              "#ed7953"
             ],
             [
              0.7777777777777778,
              "#fb9f3a"
             ],
             [
              0.8888888888888888,
              "#fdca26"
             ],
             [
              1,
              "#f0f921"
             ]
            ],
            "type": "heatmap"
           }
          ],
          "heatmapgl": [
           {
            "colorbar": {
             "outlinewidth": 0,
             "ticks": ""
            },
            "colorscale": [
             [
              0,
              "#0d0887"
             ],
             [
              0.1111111111111111,
              "#46039f"
             ],
             [
              0.2222222222222222,
              "#7201a8"
             ],
             [
              0.3333333333333333,
              "#9c179e"
             ],
             [
              0.4444444444444444,
              "#bd3786"
             ],
             [
              0.5555555555555556,
              "#d8576b"
             ],
             [
              0.6666666666666666,
              "#ed7953"
             ],
             [
              0.7777777777777778,
              "#fb9f3a"
             ],
             [
              0.8888888888888888,
              "#fdca26"
             ],
             [
              1,
              "#f0f921"
             ]
            ],
            "type": "heatmapgl"
           }
          ],
          "histogram": [
           {
            "marker": {
             "pattern": {
              "fillmode": "overlay",
              "size": 10,
              "solidity": 0.2
             }
            },
            "type": "histogram"
           }
          ],
          "histogram2d": [
           {
            "colorbar": {
             "outlinewidth": 0,
             "ticks": ""
            },
            "colorscale": [
             [
              0,
              "#0d0887"
             ],
             [
              0.1111111111111111,
              "#46039f"
             ],
             [
              0.2222222222222222,
              "#7201a8"
             ],
             [
              0.3333333333333333,
              "#9c179e"
             ],
             [
              0.4444444444444444,
              "#bd3786"
             ],
             [
              0.5555555555555556,
              "#d8576b"
             ],
             [
              0.6666666666666666,
              "#ed7953"
             ],
             [
              0.7777777777777778,
              "#fb9f3a"
             ],
             [
              0.8888888888888888,
              "#fdca26"
             ],
             [
              1,
              "#f0f921"
             ]
            ],
            "type": "histogram2d"
           }
          ],
          "histogram2dcontour": [
           {
            "colorbar": {
             "outlinewidth": 0,
             "ticks": ""
            },
            "colorscale": [
             [
              0,
              "#0d0887"
             ],
             [
              0.1111111111111111,
              "#46039f"
             ],
             [
              0.2222222222222222,
              "#7201a8"
             ],
             [
              0.3333333333333333,
              "#9c179e"
             ],
             [
              0.4444444444444444,
              "#bd3786"
             ],
             [
              0.5555555555555556,
              "#d8576b"
             ],
             [
              0.6666666666666666,
              "#ed7953"
             ],
             [
              0.7777777777777778,
              "#fb9f3a"
             ],
             [
              0.8888888888888888,
              "#fdca26"
             ],
             [
              1,
              "#f0f921"
             ]
            ],
            "type": "histogram2dcontour"
           }
          ],
          "mesh3d": [
           {
            "colorbar": {
             "outlinewidth": 0,
             "ticks": ""
            },
            "type": "mesh3d"
           }
          ],
          "parcoords": [
           {
            "line": {
             "colorbar": {
              "outlinewidth": 0,
              "ticks": ""
             }
            },
            "type": "parcoords"
           }
          ],
          "pie": [
           {
            "automargin": true,
            "type": "pie"
           }
          ],
          "scatter": [
           {
            "fillpattern": {
             "fillmode": "overlay",
             "size": 10,
             "solidity": 0.2
            },
            "type": "scatter"
           }
          ],
          "scatter3d": [
           {
            "line": {
             "colorbar": {
              "outlinewidth": 0,
              "ticks": ""
             }
            },
            "marker": {
             "colorbar": {
              "outlinewidth": 0,
              "ticks": ""
             }
            },
            "type": "scatter3d"
           }
          ],
          "scattercarpet": [
           {
            "marker": {
             "colorbar": {
              "outlinewidth": 0,
              "ticks": ""
             }
            },
            "type": "scattercarpet"
           }
          ],
          "scattergeo": [
           {
            "marker": {
             "colorbar": {
              "outlinewidth": 0,
              "ticks": ""
             }
            },
            "type": "scattergeo"
           }
          ],
          "scattergl": [
           {
            "marker": {
             "colorbar": {
              "outlinewidth": 0,
              "ticks": ""
             }
            },
            "type": "scattergl"
           }
          ],
          "scattermapbox": [
           {
            "marker": {
             "colorbar": {
              "outlinewidth": 0,
              "ticks": ""
             }
            },
            "type": "scattermapbox"
           }
          ],
          "scatterpolar": [
           {
            "marker": {
             "colorbar": {
              "outlinewidth": 0,
              "ticks": ""
             }
            },
            "type": "scatterpolar"
           }
          ],
          "scatterpolargl": [
           {
            "marker": {
             "colorbar": {
              "outlinewidth": 0,
              "ticks": ""
             }
            },
            "type": "scatterpolargl"
           }
          ],
          "scatterternary": [
           {
            "marker": {
             "colorbar": {
              "outlinewidth": 0,
              "ticks": ""
             }
            },
            "type": "scatterternary"
           }
          ],
          "surface": [
           {
            "colorbar": {
             "outlinewidth": 0,
             "ticks": ""
            },
            "colorscale": [
             [
              0,
              "#0d0887"
             ],
             [
              0.1111111111111111,
              "#46039f"
             ],
             [
              0.2222222222222222,
              "#7201a8"
             ],
             [
              0.3333333333333333,
              "#9c179e"
             ],
             [
              0.4444444444444444,
              "#bd3786"
             ],
             [
              0.5555555555555556,
              "#d8576b"
             ],
             [
              0.6666666666666666,
              "#ed7953"
             ],
             [
              0.7777777777777778,
              "#fb9f3a"
             ],
             [
              0.8888888888888888,
              "#fdca26"
             ],
             [
              1,
              "#f0f921"
             ]
            ],
            "type": "surface"
           }
          ],
          "table": [
           {
            "cells": {
             "fill": {
              "color": "#EBF0F8"
             },
             "line": {
              "color": "white"
             }
            },
            "header": {
             "fill": {
              "color": "#C8D4E3"
             },
             "line": {
              "color": "white"
             }
            },
            "type": "table"
           }
          ]
         },
         "layout": {
          "annotationdefaults": {
           "arrowcolor": "#2a3f5f",
           "arrowhead": 0,
           "arrowwidth": 1
          },
          "autotypenumbers": "strict",
          "coloraxis": {
           "colorbar": {
            "outlinewidth": 0,
            "ticks": ""
           }
          },
          "colorscale": {
           "diverging": [
            [
             0,
             "#8e0152"
            ],
            [
             0.1,
             "#c51b7d"
            ],
            [
             0.2,
             "#de77ae"
            ],
            [
             0.3,
             "#f1b6da"
            ],
            [
             0.4,
             "#fde0ef"
            ],
            [
             0.5,
             "#f7f7f7"
            ],
            [
             0.6,
             "#e6f5d0"
            ],
            [
             0.7,
             "#b8e186"
            ],
            [
             0.8,
             "#7fbc41"
            ],
            [
             0.9,
             "#4d9221"
            ],
            [
             1,
             "#276419"
            ]
           ],
           "sequential": [
            [
             0,
             "#0d0887"
            ],
            [
             0.1111111111111111,
             "#46039f"
            ],
            [
             0.2222222222222222,
             "#7201a8"
            ],
            [
             0.3333333333333333,
             "#9c179e"
            ],
            [
             0.4444444444444444,
             "#bd3786"
            ],
            [
             0.5555555555555556,
             "#d8576b"
            ],
            [
             0.6666666666666666,
             "#ed7953"
            ],
            [
             0.7777777777777778,
             "#fb9f3a"
            ],
            [
             0.8888888888888888,
             "#fdca26"
            ],
            [
             1,
             "#f0f921"
            ]
           ],
           "sequentialminus": [
            [
             0,
             "#0d0887"
            ],
            [
             0.1111111111111111,
             "#46039f"
            ],
            [
             0.2222222222222222,
             "#7201a8"
            ],
            [
             0.3333333333333333,
             "#9c179e"
            ],
            [
             0.4444444444444444,
             "#bd3786"
            ],
            [
             0.5555555555555556,
             "#d8576b"
            ],
            [
             0.6666666666666666,
             "#ed7953"
            ],
            [
             0.7777777777777778,
             "#fb9f3a"
            ],
            [
             0.8888888888888888,
             "#fdca26"
            ],
            [
             1,
             "#f0f921"
            ]
           ]
          },
          "colorway": [
           "#636efa",
           "#EF553B",
           "#00cc96",
           "#ab63fa",
           "#FFA15A",
           "#19d3f3",
           "#FF6692",
           "#B6E880",
           "#FF97FF",
           "#FECB52"
          ],
          "font": {
           "color": "#2a3f5f"
          },
          "geo": {
           "bgcolor": "white",
           "lakecolor": "white",
           "landcolor": "#E5ECF6",
           "showlakes": true,
           "showland": true,
           "subunitcolor": "white"
          },
          "hoverlabel": {
           "align": "left"
          },
          "hovermode": "closest",
          "mapbox": {
           "style": "light"
          },
          "paper_bgcolor": "white",
          "plot_bgcolor": "#E5ECF6",
          "polar": {
           "angularaxis": {
            "gridcolor": "white",
            "linecolor": "white",
            "ticks": ""
           },
           "bgcolor": "#E5ECF6",
           "radialaxis": {
            "gridcolor": "white",
            "linecolor": "white",
            "ticks": ""
           }
          },
          "scene": {
           "xaxis": {
            "backgroundcolor": "#E5ECF6",
            "gridcolor": "white",
            "gridwidth": 2,
            "linecolor": "white",
            "showbackground": true,
            "ticks": "",
            "zerolinecolor": "white"
           },
           "yaxis": {
            "backgroundcolor": "#E5ECF6",
            "gridcolor": "white",
            "gridwidth": 2,
            "linecolor": "white",
            "showbackground": true,
            "ticks": "",
            "zerolinecolor": "white"
           },
           "zaxis": {
            "backgroundcolor": "#E5ECF6",
            "gridcolor": "white",
            "gridwidth": 2,
            "linecolor": "white",
            "showbackground": true,
            "ticks": "",
            "zerolinecolor": "white"
           }
          },
          "shapedefaults": {
           "line": {
            "color": "#2a3f5f"
           }
          },
          "ternary": {
           "aaxis": {
            "gridcolor": "white",
            "linecolor": "white",
            "ticks": ""
           },
           "baxis": {
            "gridcolor": "white",
            "linecolor": "white",
            "ticks": ""
           },
           "bgcolor": "#E5ECF6",
           "caxis": {
            "gridcolor": "white",
            "linecolor": "white",
            "ticks": ""
           }
          },
          "title": {
           "x": 0.05
          },
          "xaxis": {
           "automargin": true,
           "gridcolor": "white",
           "linecolor": "white",
           "ticks": "",
           "title": {
            "standoff": 15
           },
           "zerolinecolor": "white",
           "zerolinewidth": 2
          },
          "yaxis": {
           "automargin": true,
           "gridcolor": "white",
           "linecolor": "white",
           "ticks": "",
           "title": {
            "standoff": 15
           },
           "zerolinecolor": "white",
           "zerolinewidth": 2
          }
         }
        },
        "title": {
         "text": "<b>Annual dissposable income by gender, age, education or ethnicity<b>"
        },
        "updatemenus": [
         {
          "active": 0,
          "buttons": [
           {
            "args": [
             {
              "visible": [
               true,
               true
              ],
              "x": [
               [
                2005,
                2006,
                2007,
                2008,
                2009,
                2010,
                2011,
                2012,
                2013,
                2014,
                2015,
                2016,
                2017,
                2018
               ],
               [
                2005,
                2006,
                2007,
                2008,
                2009,
                2010,
                2011,
                2012,
                2013,
                2014,
                2015,
                2016,
                2017,
                2018
               ]
              ],
              "y": [
               [
                255616.32526608012,
                260120.7657516041,
                262272.00872240536,
                256640.5968274187,
                258339.40698911736,
                275387.016033431,
                273380.45813095843,
                272492.81552348053,
                277541.72464290314,
                283093.914696419,
                288426.16922337335,
                292967.28475570463,
                298112.57671105646,
                304094.2555620311
               ],
               [
                271686.73150448233,
                275662.66075669276,
                276050.1566439862,
                269909.53812569403,
                269207.93785791105,
                290563.9268522387,
                289335.7664705521,
                287875.98877217557,
                293504.78056068585,
                300087.8300778641,
                306151.8093014965,
                310943.18766815745,
                315684.46268450306,
                321978.1360394762
               ]
              ]
             }
            ],
            "label": "Gender",
            "method": "update"
           },
           {
            "args": [
             {
              "visible": [
               true,
               true
              ],
              "x": [
               [
                2005,
                2006,
                2007,
                2008,
                2009,
                2010,
                2011,
                2012,
                2013,
                2014,
                2015,
                2016,
                2017,
                2018
               ],
               [
                2005,
                2006,
                2007,
                2008,
                2009,
                2010,
                2011,
                2012,
                2013,
                2014,
                2015,
                2016,
                2017,
                2018
               ]
              ],
              "y": [
               [
                256344.59735534847,
                260733.90422862017,
                263027.834527846,
                258039.76989817823,
                259678.559446148,
                277028.5474008803,
                274937.1008626648,
                273625.8994511366,
                278487.5422498559,
                284526.2622077037,
                290065.3166180831,
                294794.4305733327,
                299741.06330890895,
                306548.3050182929
               ],
               [
                272905.5874281097,
                277251.05134006497,
                277316.7120813592,
                271123.28611689457,
                269922.9873498877,
                292190.3671041596,
                290865.2768097168,
                288907.0725082984,
                294655.4863289442,
                301212.75835428,
                307335.9464009689,
                312318.1847065628,
                317294.8241760219,
                324153.8694719548
               ]
              ]
             }
            ],
            "label": "Men",
            "method": "update"
           },
           {
            "args": [
             {
              "visible": [
               true,
               true
              ],
              "x": [
               [
                2005,
                2006,
                2007,
                2008,
                2009,
                2010,
                2011,
                2012,
                2013,
                2014,
                2015,
                2016,
                2017,
                2018
               ],
               [
                2005,
                2006,
                2007,
                2008,
                2009,
                2010,
                2011,
                2012,
                2013,
                2014,
                2015,
                2016,
                2017,
                2018
               ]
              ],
              "y": [
               [
                254922.49916265503,
                259537.33780283,
                261551.4091604857,
                255312.64959464266,
                257069.0704764591,
                273829.4097438811,
                271904.19962388393,
                271417.2097295354,
                276643.71582853614,
                281733.2196619694,
                286865.3770722307,
                291222.3717646406,
                296555.1024351528,
                301743.907596313
               ],
               [
                270512.7841916316,
                274135.3631392141,
                274827.85617336055,
                268747.2001225806,
                268523.7682798461,
                289007.5044824832,
                287871.9095774151,
                286884.9411066788,
                292400.11453402747,
                299007.68993810937,
                305010.4558991772,
                309616.21478203905,
                314130.6594494165,
                319878.0253359577
               ]
              ]
             }
            ],
            "label": "Women",
            "method": "update"
           }
          ],
          "direction": "down",
          "showactive": true,
          "x": 0.15,
          "y": 1.13
         },
         {
          "active": 0,
          "buttons": [
           {
            "args": [
             {
              "visible": [
               true,
               true,
               true,
               true
              ],
              "x": [
               [
                2005,
                2006,
                2007,
                2008,
                2009,
                2010,
                2011,
                2012,
                2013,
                2014,
                2015,
                2016,
                2017,
                2018
               ],
               [
                2005,
                2006,
                2007,
                2008,
                2009,
                2010,
                2011,
                2012,
                2013,
                2014,
                2015,
                2016,
                2017,
                2018
               ],
               [
                2005,
                2006,
                2007,
                2008,
                2009,
                2010,
                2011,
                2012,
                2013,
                2014,
                2015,
                2016,
                2017,
                2018
               ],
               [
                2005,
                2006,
                2007,
                2008,
                2009,
                2010,
                2011,
                2012,
                2013,
                2014,
                2015,
                2016,
                2017,
                2018
               ]
              ],
              "y": [
               [
                255616.32526608012,
                260120.7657516041,
                262272.00872240536,
                256640.5968274187,
                258339.40698911736,
                275387.016033431,
                273380.45813095843,
                272492.81552348053,
                277541.72464290314,
                283093.914696419,
                288426.16922337335,
                292967.28475570463,
                298112.57671105646,
                304094.2555620311
               ],
               [
                271686.73150448233,
                275662.66075669276,
                276050.1566439862,
                269909.53812569403,
                269207.93785791105,
                290563.9268522387,
                289335.7664705521,
                287875.98877217557,
                293504.78056068585,
                300087.8300778641,
                306151.8093014965,
                310943.18766815745,
                315684.46268450306,
                321978.1360394762
               ]
              ]
             }
            ],
            "label": "Age",
            "method": "update"
           },
           {
            "args": [
             {
              "visible": [
               true,
               true,
               true,
               true
              ],
              "x": [
               [
                2005,
                2006,
                2007,
                2008,
                2009,
                2010,
                2011,
                2012,
                2013,
                2014,
                2015,
                2016,
                2017,
                2018
               ],
               [
                2005,
                2006,
                2007,
                2008,
                2009,
                2010,
                2011,
                2012,
                2013,
                2014,
                2015,
                2016,
                2017,
                2018
               ],
               [
                2005,
                2006,
                2007,
                2008,
                2009,
                2010,
                2011,
                2012,
                2013,
                2014,
                2015,
                2016,
                2017,
                2018
               ],
               [
                2005,
                2006,
                2007,
                2008,
                2009,
                2010,
                2011,
                2012,
                2013,
                2014,
                2015,
                2016,
                2017,
                2018
               ]
              ],
              "y": [
               [
                227422.65029379487,
                230083.8798369937,
                231191.01838626972,
                227802.8374832497,
                230895.6636575781,
                244692.47991848728,
                241720.75453098086,
                239197.826071625,
                242061.6305089619,
                245050.24819002728,
                246238.3854421938,
                249250.6901583563,
                252050.6595058227,
                256935.00547787195
               ],
               [
                242305.45943269017,
                244283.819200052,
                243830.17219673246,
                240282.01970058522,
                242022.63269140862,
                258118.78467050297,
                254977.158619118,
                251453.56705629456,
                254802.46024169223,
                257876.44574226532,
                259426.79625047007,
                263520.7267548591,
                266596.6534301278,
                272301.06755492854
               ]
              ]
             }
            ],
            "label": "30-39",
            "method": "update"
           },
           {
            "args": [
             {
              "visible": [
               true,
               true,
               true,
               true
              ],
              "x": [
               [
                2005,
                2006,
                2007,
                2008,
                2009,
                2010,
                2011,
                2012,
                2013,
                2014,
                2015,
                2016,
                2017,
                2018
               ],
               [
                2005,
                2006,
                2007,
                2008,
                2009,
                2010,
                2011,
                2012,
                2013,
                2014,
                2015,
                2016,
                2017,
                2018
               ],
               [
                2005,
                2006,
                2007,
                2008,
                2009,
                2010,
                2011,
                2012,
                2013,
                2014,
                2015,
                2016,
                2017,
                2018
               ],
               [
                2005,
                2006,
                2007,
                2008,
                2009,
                2010,
                2011,
                2012,
                2013,
                2014,
                2015,
                2016,
                2017,
                2018
               ]
              ],
              "y": [
               [
                255495.90328008716,
                259419.39410268108,
                261440.23816665108,
                255542.7671120948,
                255926.3084015463,
                273224.527946365,
                271660.8169048823,
                270656.9316612477,
                276074.67134623183,
                281666.4509394061,
                287096.0140861679,
                290954.7729562398,
                295987.44782409136,
                301259.5236448265
               ],
               [
                274575.38014281046,
                277511.8388940897,
                278629.3865168262,
                272410.07813210064,
                269930.58584871405,
                293053.4072159116,
                292093.54732453637,
                290792.86623670557,
                297399.80854374106,
                304795.3897127079,
                311857.7419663975,
                315317.65728269966,
                319663.6860551738,
                325107.73481954134
               ]
              ]
             }
            ],
            "label": "40-49",
            "method": "update"
           },
           {
            "args": [
             {
              "visible": [
               true,
               true,
               true,
               true
              ],
              "x": [
               [
                2005,
                2006,
                2007,
                2008,
                2009,
                2010,
                2011,
                2012,
                2013,
                2014,
                2015,
                2016,
                2017,
                2018
               ],
               [
                2005,
                2006,
                2007,
                2008,
                2009,
                2010,
                2011,
                2012,
                2013,
                2014,
                2015,
                2016,
                2017,
                2018
               ],
               [
                2005,
                2006,
                2007,
                2008,
                2009,
                2010,
                2011,
                2012,
                2013,
                2014,
                2015,
                2016,
                2017,
                2018
               ],
               [
                2005,
                2006,
                2007,
                2008,
                2009,
                2010,
                2011,
                2012,
                2013,
                2014,
                2015,
                2016,
                2017,
                2018
               ]
              ],
              "y": [
               [
                295986.69731945015,
                300357.9858107876,
                301306.88157161564,
                293606.0294615867,
                295527.12531868287,
                315341.81035306276,
                311799.0114715232,
                310090.9833887048,
                315844.2832026683,
                322283.48886484833,
                330105.0927737408,
                335201.1691139036,
                341095.7614558072,
                348539.46259782783
               ],
               [
                315474.7927285852,
                319791.4067643017,
                317812.97828044405,
                308004.35348979227,
                307405.5958524764,
                335092.0222762894,
                334490.37984469393,
                333744.4117535481,
                340467.9142435296,
                348565.93894276355,
                358151.9946294757,
                363198.1809482965,
                368700.56661739637,
                376484.9962583368
               ]
              ]
             }
            ],
            "label": "50-59",
            "method": "update"
           },
           {
            "args": [
             {
              "visible": [
               true,
               true,
               true,
               true
              ],
              "x": [
               [
                2005,
                2006,
                2007,
                2008,
                2009,
                2010,
                2011,
                2012,
                2013,
                2014,
                2015,
                2016,
                2017,
                2018
               ],
               [
                2005,
                2006,
                2007,
                2008,
                2009,
                2010,
                2011,
                2012,
                2013,
                2014,
                2015,
                2016,
                2017,
                2018
               ],
               [
                2005,
                2006,
                2007,
                2008,
                2009,
                2010,
                2011,
                2012,
                2013,
                2014,
                2015,
                2016,
                2017,
                2018
               ],
               [
                2005,
                2006,
                2007,
                2008,
                2009,
                2010,
                2011,
                2012,
                2013,
                2014,
                2015,
                2016,
                2017,
                2018
               ]
              ],
              "y": [
               [
                263251.6738901134,
                271150.50810831174,
                275667.45491507475,
                268120.1661363232,
                269679.88547640684,
                287768.22346366977,
                286807.97251173895,
                288592.6734015425,
                293870.9467100893,
                300624.91121238255,
                307518.2954478022,
                313961.3423094446,
                321011.9716187068,
                327547.9352556646
               ],
               [
                284835.95102680055,
                294100.3947097272,
                296376.0001818464,
                288107.1862836976,
                286362.00128079555,
                308687.32955068036,
                310385.4560631715,
                312645.9450502572,
                318399.16442648304,
                327624.55659154005,
                335952.307924625,
                344220.1746089137,
                351737.03886163206,
                357182.95188103535
               ]
              ]
             }
            ],
            "label": "60-65",
            "method": "update"
           }
          ],
          "direction": "down",
          "showactive": true,
          "x": 0.27,
          "y": 1.13
         },
         {
          "active": 0,
          "buttons": [
           {
            "args": [
             {
              "visible": [
               true,
               true,
               true
              ],
              "x": [
               [
                2005,
                2006,
                2007,
                2008,
                2009,
                2010,
                2011,
                2012,
                2013,
                2014,
                2015,
                2016,
                2017,
                2018
               ],
               [
                2005,
                2006,
                2007,
                2008,
                2009,
                2010,
                2011,
                2012,
                2013,
                2014,
                2015,
                2016,
                2017,
                2018
               ],
               [
                2005,
                2006,
                2007,
                2008,
                2009,
                2010,
                2011,
                2012,
                2013,
                2014,
                2015,
                2016,
                2017,
                2018
               ]
              ],
              "y": [
               [
                255616.32526608012,
                260120.7657516041,
                262272.00872240536,
                256640.5968274187,
                258339.40698911736,
                275387.016033431,
                273380.45813095843,
                272492.81552348053,
                277541.72464290314,
                283093.914696419,
                288426.16922337335,
                292967.28475570463,
                298112.57671105646,
                304094.2555620311
               ],
               [
                271686.73150448233,
                275662.66075669276,
                276050.1566439862,
                269909.53812569403,
                269207.93785791105,
                290563.9268522387,
                289335.7664705521,
                287875.98877217557,
                293504.78056068585,
                300087.8300778641,
                306151.8093014965,
                310943.18766815745,
                315684.46268450306,
                321978.1360394762
               ]
              ]
             }
            ],
            "label": "Ethnicity",
            "method": "update"
           },
           {
            "args": [
             {
              "visible": [
               true,
               true,
               true
              ],
              "x": [
               [
                2005,
                2006,
                2007,
                2008,
                2009,
                2010,
                2011,
                2012,
                2013,
                2014,
                2015,
                2016,
                2017,
                2018
               ],
               [
                2005,
                2006,
                2007,
                2008,
                2009,
                2010,
                2011,
                2012,
                2013,
                2014,
                2015,
                2016,
                2017,
                2018
               ],
               [
                2005,
                2006,
                2007,
                2008,
                2009,
                2010,
                2011,
                2012,
                2013,
                2014,
                2015,
                2016,
                2017,
                2018
               ]
              ],
              "y": [
               [
                258281.37486202142,
                263074.8512751737,
                265450.2801674658,
                259900.76411290476,
                262057.47815189857,
                280592.6402209399,
                279072.1726272854,
                278476.8675847834,
                284243.6900527954,
                290652.4525272264,
                296773.4395842691,
                302379.7568665498,
                308400.37200254254,
                314615.28074235516
               ],
               [
                281072.9995751542,
                286007.2115813999,
                287107.13991342555,
                280920.21660173807,
                280581.64037084655,
                305655.3228689073,
                305548.34291118314,
                304905.940650965,
                312107.5634525918,
                320507.84487348434,
                328488.64115252515,
                335287.6849744296,
                341701.51076571405,
                348700.7659735383
               ]
              ]
             }
            ],
            "label": "Danish",
            "method": "update"
           },
           {
            "args": [
             {
              "visible": [
               true,
               true,
               true
              ],
              "x": [
               [
                2005,
                2006,
                2007,
                2008,
                2009,
                2010,
                2011,
                2012,
                2013,
                2014,
                2015,
                2016,
                2017,
                2018
               ],
               [
                2005,
                2006,
                2007,
                2008,
                2009,
                2010,
                2011,
                2012,
                2013,
                2014,
                2015,
                2016,
                2017,
                2018
               ],
               [
                2005,
                2006,
                2007,
                2008,
                2009,
                2010,
                2011,
                2012,
                2013,
                2014,
                2015,
                2016,
                2017,
                2018
               ]
              ],
              "y": [
               [
                208360.57088823454,
                212267.7242559319,
                214441.8391821674,
                211818.7505999703,
                212044.97117511064,
                221208.42823664026,
                218319.50951579836,
                217162.19427055042,
                219694.9404932719,
                223539.05811649482,
                226589.42552210877,
                228211.36576163367,
                231332.32841949572,
                238259.39219755313
               ],
               [
                210853.8679955954,
                214133.13326837434,
                214245.08332174597,
                211951.35523898914,
                211910.010877796,
                220691.556767576,
                218026.93418132828,
                217160.74108647034,
                220521.02075995127,
                225388.799048367,
                229877.3538417182,
                232874.36894401937,
                236624.43495214375,
                244549.4596423637
               ]
              ]
             }
            ],
            "label": "Immigrants and descendants",
            "method": "update"
           },
           {
            "args": [
             {
              "visible": [
               true,
               true,
               true
              ],
              "x": [
               [
                2005,
                2006,
                2007,
                2008,
                2009,
                2010,
                2011,
                2012,
                2013,
                2014,
                2015,
                2016,
                2017,
                2018
               ],
               [
                2005,
                2006,
                2007,
                2008,
                2009,
                2010,
                2011,
                2012,
                2013,
                2014,
                2015,
                2016,
                2017,
                2018
               ],
               [
                2005,
                2006,
                2007,
                2008,
                2009,
                2010,
                2011,
                2012,
                2013,
                2014,
                2015,
                2016,
                2017,
                2018
               ]
              ],
              "y": [
               [
                255096.1796228542,
                258384.29051739804,
                259757.80077547373,
                252991.72061780703,
                252803.88451731755,
                263993.5899087795,
                260471.46837407397,
                259396.50643259048,
                262802.12391920004,
                266039.0215524669,
                270516.17964343145,
                273297.28334005736,
                277085.4019564684,
                283350.06819559867
               ],
               [
                245154.27334199083,
                244692.9621608295,
                242879.62612768266,
                237243.34600144564,
                236198.13485571882,
                246055.77686896766,
                243351.7520424782,
                241293.69874209617,
                244832.04345201593,
                248911.72312374462,
                253356.87010138744,
                256132.8204783971,
                259323.3451716284,
                265826.5415123864
               ]
              ]
             }
            ],
            "label": "Non-western immigrants and descendants",
            "method": "update"
           }
          ],
          "direction": "down",
          "showactive": true,
          "x": 0.68,
          "y": 1.13
         },
         {
          "active": 0,
          "buttons": [
           {
            "args": [
             {
              "visible": [
               true,
               true
              ],
              "x": [
               [
                2005,
                2006,
                2007,
                2008,
                2009,
                2010,
                2011,
                2012,
                2013,
                2014,
                2015,
                2016,
                2017,
                2018
               ],
               [
                2005,
                2006,
                2007,
                2008,
                2009,
                2010,
                2011,
                2012,
                2013,
                2014,
                2015,
                2016,
                2017,
                2018
               ]
              ],
              "y": [
               [
                255616.32526608012,
                260120.7657516041,
                262272.00872240536,
                256640.5968274187,
                258339.40698911736,
                275387.016033431,
                273380.45813095843,
                272492.81552348053,
                277541.72464290314,
                283093.914696419,
                288426.16922337335,
                292967.28475570463,
                298112.57671105646,
                304094.2555620311
               ],
               [
                271686.73150448233,
                275662.66075669276,
                276050.1566439862,
                269909.53812569403,
                269207.93785791105,
                290563.9268522387,
                289335.7664705521,
                287875.98877217557,
                293504.78056068585,
                300087.8300778641,
                306151.8093014965,
                310943.18766815745,
                315684.46268450306,
                321978.1360394762
               ]
              ]
             }
            ],
            "label": "Education",
            "method": "update"
           },
           {
            "args": [
             {
              "visible": [
               true,
               true
              ],
              "x": [
               [
                2005,
                2006,
                2007,
                2008,
                2009,
                2010,
                2011,
                2012,
                2013,
                2014,
                2015,
                2016,
                2017,
                2018
               ],
               [
                2005,
                2006,
                2007,
                2008,
                2009,
                2010,
                2011,
                2012,
                2013,
                2014,
                2015,
                2016,
                2017,
                2018
               ]
              ],
              "y": [
               [
                284361.8110917449,
                289116.62980455806,
                291184.59623634646,
                282994.36679687485,
                285369.979010013,
                307919.79613698315,
                304834.07883400033,
                303500.9008607487,
                309348.1128167865,
                315241.7827472412,
                320335.5931497686,
                324742.0257007762,
                329868.8767251307,
                335716.11321875214
               ],
               [
                303436.7117018064,
                307863.04593411833,
                308380.0292638882,
                299038.46956215316,
                297646.62842070713,
                326149.9813244057,
                323865.2116674666,
                321224.81649943365,
                327688.3754089365,
                335062.8609823504,
                340343.110329618,
                345083.2103759737,
                349601.8765476272,
                355998.91897391767
               ]
              ]
             }
            ],
            "label": "Higher education",
            "method": "update"
           },
           {
            "args": [
             {
              "visible": [
               true,
               true
              ],
              "x": [
               [
                2005,
                2006,
                2007,
                2008,
                2009,
                2010,
                2011,
                2012,
                2013,
                2014,
                2015,
                2016,
                2017,
                2018
               ],
               [
                2005,
                2006,
                2007,
                2008,
                2009,
                2010,
                2011,
                2012,
                2013,
                2014,
                2015,
                2016,
                2017,
                2018
               ]
              ],
              "y": [
               [
                240107.33419044022,
                244205.58076366433,
                246198.34886959256,
                241655.86480217066,
                242578.89706002283,
                255885.22210481425,
                253953.12215630853,
                252757.72227809933,
                256662.4059909357,
                261343.53248152882,
                266165.1655522709,
                270169.07597559236,
                274746.6443359318,
                280373.83756688633
               ],
               [
                249302.1541758533,
                252426.9619020995,
                252230.90300689393,
                247743.58072532612,
                246842.45690111123,
                261573.79845984158,
                260128.07175369078,
                258586.90584851225,
                262379.8204077089,
                267155.3590995728,
                272774.96756252245,
                276439.88182622107,
                280427.9659252753,
                285908.20572169684
               ]
              ]
             }
            ],
            "label": "No higher education",
            "method": "update"
           }
          ],
          "direction": "down",
          "showactive": true,
          "x": 0.92,
          "y": 1.13
         }
        ],
        "xaxis": {
         "domain": [
          0,
          1
         ],
         "tickfont": {
          "size": 14
         },
         "title": {
          "font": {
           "size": 16
          },
          "text": ""
         }
        },
        "yaxis": {
         "range": [
          0,
          390000
         ],
         "tickfont": {
          "size": 14
         },
         "title": {
          "font": {
           "size": 16
          },
          "text": "<b>Income<b>"
         }
        }
       }
      }
     },
     "metadata": {},
     "output_type": "display_data"
    }
   ],
   "source": [
    "# Create the initial plot\n",
    "fig = go.Figure()\n",
    "# Line plot (commented out)\n",
    "#fig = px.line(df_income, x='year', y='count', color='municipality', markers=True, width=900, height=400)\n",
    "#fig.update_traces(line_color='rgb(55, 83, 109)', selector=dict(name='Denmark'))\n",
    "#fig.update_traces(line_color='rgb(26, 118, 255)', selector=dict(name='Greater Copenhagen'))\n",
    "# Bar plot \n",
    "fig.add_trace(go.Bar(x=years,\n",
    "                y=dk_yearly_avg_inc,\n",
    "                name='Denmark',\n",
    "                marker_color='rgb(55, 83, 109)'\n",
    "                ))\n",
    "fig.add_trace(go.Bar(x=years,\n",
    "                y=cop_yearly_avg_inc,\n",
    "                name='Greater Copenhagen',\n",
    "                marker_color='rgb(26, 118, 255)'\n",
    "                ))\n",
    "\n",
    "# Define the dropdown menu\n",
    "genders = df_cop_dk.gender.unique()\n",
    "buttons = []\n",
    "# Add button for all genders\n",
    "buttons.append(dict(method='update',\n",
    "                    label='Gender',\n",
    "                    args=[{'x': [years]*2,\n",
    "                           'y': [dk_yearly_avg_inc, cop_yearly_avg_inc],\n",
    "                           'visible': [True]*2}],\n",
    "                    )\n",
    "             )\n",
    "\n",
    "\n",
    "# Add button for each gender\n",
    "for gender in genders:\n",
    "    dk_yearly_avg_count = df_cop_dk[(df_cop_dk.municipality=='Denmark') & (df_cop_dk.gender==gender)].groupby(['year', 'municipality', 'gender'])['weighted_inc_gen_mun'].sum()\n",
    "    cop_yearly_avg_count = df_cop_dk[(df_cop_dk.municipality=='Greater Copenhagen') & (df_cop_dk.gender==gender)].groupby(['year', 'municipality', 'gender'])['weighted_inc_gen_mun'].sum()\n",
    "    buttons.append(dict(method='update',\n",
    "                        label=gender,\n",
    "                        args=[{'x': [years]*2,\n",
    "                               'y': [dk_yearly_avg_count, cop_yearly_avg_count],\n",
    "                               'visible': [True]*2}],\n",
    "                        )   \n",
    "                 )\n",
    "\n",
    "# Define the dropdown menu for Age\n",
    "ages = df_cop_dk.age.unique()\n",
    "buttons_2 = []\n",
    "# Add button for all ages\n",
    "buttons_2.append(dict(method='update',\n",
    "                    label='Age',\n",
    "                    args=[{'x': [years]*4,\n",
    "                           'y': [dk_yearly_avg_inc, cop_yearly_avg_inc],\n",
    "                           'visible': [True]*4}],\n",
    "                    )\n",
    "             )\n",
    "# Add button for each age\n",
    "for age in ages:\n",
    "    age_dk_yearly_avg_count = df_cop_dk[(df_cop_dk.municipality=='Denmark') & (df_cop_dk.age==age)].groupby(['year', 'municipality', 'age'])['weighted_inc_age_mun'].sum()\n",
    "    age_cop_yearly_avg_count = df_cop_dk[(df_cop_dk.municipality=='Greater Copenhagen') & (df_cop_dk.age==age)].groupby(['year', 'municipality', 'age'])['weighted_inc_age_mun'].sum()\n",
    "    buttons_2.append(dict(method='update',\n",
    "                        label=age,\n",
    "                        args=[{'x': [years]*4,\n",
    "                               'y': [age_dk_yearly_avg_count, age_cop_yearly_avg_count],\n",
    "                               'visible': [True]*4}],\n",
    "                        )\n",
    "                 )\n",
    "    \n",
    "# Define the dropdown menu for ethnicity\n",
    "ethnicities = df_cop_dk.ethnicity.unique()\n",
    "buttons_3 = []\n",
    "# Add button for all ethnicities\n",
    "buttons_3.append(dict(method='update',\n",
    "                    label='Ethnicity',\n",
    "                    args=[{'x': [years]*3,\n",
    "                           'y': [dk_yearly_avg_inc, cop_yearly_avg_inc],\n",
    "                           'visible': [True]*3}],\n",
    "                    )\n",
    "             )\n",
    "# Add button for each ehtnicity\n",
    "for ethnicity in ethnicities:\n",
    "    eth_dk_yearly_avg_count = df_cop_dk[(df_cop_dk.municipality=='Denmark') & (df_cop_dk.ethnicity==ethnicity)].groupby(['year', 'municipality', 'ethnicity'])['weighted_inc_eth_mun'].sum()\n",
    "    eth_cop_yearly_avg_count = df_cop_dk[(df_cop_dk.municipality=='Greater Copenhagen') & (df_cop_dk.ethnicity==ethnicity)].groupby(['year', 'municipality', 'ethnicity'])['weighted_inc_eth_mun'].sum()\n",
    "    buttons_3.append(dict(method='update',\n",
    "                        label=ethnicity,\n",
    "                        args=[{'x': [years]*3,\n",
    "                               'y': [eth_dk_yearly_avg_count, eth_cop_yearly_avg_count],\n",
    "                               'visible': [True]*3}],\n",
    "    )\n",
    "                       )\n",
    "    \n",
    "# Define the dropdown menu for education\n",
    "educations = df_cop_dk.education.unique()\n",
    "buttons_4 = []\n",
    "# Add button for all educations\n",
    "buttons_4.append(dict(method='update',\n",
    "                    label='Education',\n",
    "                    args=[{'x': [years]*2,\n",
    "                           'y': [dk_yearly_avg_inc, cop_yearly_avg_inc],\n",
    "                           'visible': [True]*2}],\n",
    "                    )\n",
    "             )\n",
    "# Add button for each education\n",
    "for education in educations:\n",
    "    edu_dk_yearly_avg_count = df_cop_dk[(df_cop_dk.municipality=='Denmark') & (df_cop_dk.education==education)].groupby(['year', 'municipality', 'education'])['weighted_inc_edu_mun'].sum()\n",
    "    edu_cop_yearly_avg_count = df_cop_dk[(df_cop_dk.municipality=='Greater Copenhagen') & (df_cop_dk.education==education)].groupby(['year', 'municipality', 'education'])['weighted_inc_edu_mun'].sum()\n",
    "    buttons_4.append(dict(method='update',\n",
    "                        label=education,\n",
    "                        args=[{'x': [years]*2,\n",
    "                               'y': [edu_dk_yearly_avg_count, edu_cop_yearly_avg_count],\n",
    "                               'visible': [True]*2}],\n",
    "    )\n",
    "                       )\n",
    "\n",
    "updatemenus = [{'buttons': buttons,\n",
    "                'direction': 'down',\n",
    "                'showactive': True,\n",
    "                'active': 0,\n",
    "                'y': 1.13,\n",
    "                'x': 0.15}, \n",
    "                {'buttons': buttons_2,\n",
    "                 'direction': 'down',\n",
    "                 'showactive': True,\n",
    "                 'active': 0,\n",
    "                 'y': 1.13,\n",
    "                 'x': 0.27}, \n",
    "                 {'buttons': buttons_3,\n",
    "                 'direction': 'down',\n",
    "                 'showactive': True,\n",
    "                 'active': 0,\n",
    "                 'y': 1.13,\n",
    "                 'x': 0.68},\n",
    "                 {'buttons': buttons_4,\n",
    "                 'direction': 'down',\n",
    "                 'showactive': True,\n",
    "                 'active': 0,\n",
    "                 'y': 1.13,\n",
    "                 'x': 0.92}]\n",
    "\n",
    "\n",
    "# Update the layout to add the dropdown menu and set the title\n",
    "fig.update_layout(\n",
    "    updatemenus=updatemenus,\n",
    "    title='<b>Annual dissposable income by gender, age, education or ethnicity<b>',\n",
    "    xaxis_tickfont_size=14,\n",
    "    xaxis=dict(\n",
    "              title='',\n",
    "              titlefont_size=16,\n",
    "              domain=[0, 1],\n",
    "    ),\n",
    "    # fix the yaxis range to be the same for all plots\n",
    "    yaxis=dict(\n",
    "        title='<b>Income<b>',\n",
    "        titlefont_size=16,\n",
    "        tickfont_size=14,\n",
    "        range=[0, 390000],\n",
    "    ),\n",
    "    legend=dict(\n",
    "        title='',\n",
    "        x=0.01,\n",
    "        y=1,\n",
    "        bgcolor='rgba(255, 255, 255, 0)',\n",
    "        bordercolor='rgba(255, 255, 255, 0)'\n",
    "    ),\n",
    "    barmode='group',\n",
    "    bargap=0.15, # gap between bars of adjacent location coordinates.\n",
    "    bargroupgap=0.1 # gap between bars of the same location coordinate.\n",
    ")\n",
    "fig.write_html('dk_cph_income_bar.html')\n",
    "fig.show()"
   ]
  },
  {
   "attachments": {},
   "cell_type": "markdown",
   "metadata": {},
   "source": [
    "### Interactive visualization for days in hospital with filters for age, gender, education and ethnicity"
   ]
  },
  {
   "cell_type": "code",
   "execution_count": null,
   "metadata": {},
   "outputs": [],
   "source": [
    "# Create the initial plot\n",
    "fig = go.Figure()\n",
    "# Line plot (commented out)\n",
    "#fig = px.line(df_income, x='year', y='count', color='municipality', markers=True, width=900, height=400)\n",
    "#fig.update_traces(line_color='rgb(55, 83, 109)', selector=dict(name='Denmark'))\n",
    "#fig.update_traces(line_color='rgb(26, 118, 255)', selector=dict(name='Greater Copenhagen'))\n",
    "# Bar plot \n",
    "fig.add_trace(go.Bar(x=years,\n",
    "                y=dk_yearly_avg_hosp_days,\n",
    "                name='Denmark',\n",
    "                marker_color='rgb(55, 83, 109)'\n",
    "                ))\n",
    "fig.add_trace(go.Bar(x=years,\n",
    "                y=cop_yearly_avg_hosp_days,\n",
    "                name='Greater Copenhagen',\n",
    "                marker_color='rgb(26, 118, 255)'\n",
    "                ))\n",
    "\n",
    "# Define the dropdown menu\n",
    "genders = df_cop_dk.gender.unique()\n",
    "buttons = []\n",
    "# Add button for all genders\n",
    "buttons.append(dict(method='update',\n",
    "                    label='Gender',\n",
    "                    args=[{'x': [years]*2,\n",
    "                           'y': [dk_yearly_avg_hosp_days, cop_yearly_avg_hosp_days],\n",
    "                           'visible': [True]*2}],\n",
    "                    )\n",
    "             )\n",
    "\n",
    "\n",
    "# Add button for each gender\n",
    "for gender in genders:\n",
    "    dk_yearly_avg_count = df_cop_dk[(df_cop_dk.municipality=='Denmark') & (df_cop_dk.gender==gender)].groupby(['year', 'municipality', 'gender'])['weighted_days_gen_mun'].sum()\n",
    "    cop_yearly_avg_count = df_cop_dk[(df_cop_dk.municipality=='Greater Copenhagen') & (df_cop_dk.gender==gender)].groupby(['year', 'municipality', 'gender'])['weighted_days_gen_mun'].sum()\n",
    "    buttons.append(dict(method='update',\n",
    "                        label=gender,\n",
    "                        args=[{'x': [years]*2,\n",
    "                               'y': [dk_yearly_avg_count, cop_yearly_avg_count],\n",
    "                               'visible': [True]*2}],\n",
    "                        )\n",
    "                        # add selection to the list of visible values\n",
    "                        \n",
    "                 )\n",
    "\n",
    "# Define the dropdown menu for Age\n",
    "ages = df_cop_dk.age.unique()\n",
    "buttons_2 = []\n",
    "# Add button for all ages\n",
    "buttons_2.append(dict(method='update',\n",
    "                    label='Age',\n",
    "                    args=[{'x': [years]*4,\n",
    "                           'y': [dk_yearly_avg_hosp_days, cop_yearly_avg_hosp_days],\n",
    "                           'visible': [True]*4}],\n",
    "                    )\n",
    "             )\n",
    "# Add button for each age\n",
    "for age in ages:\n",
    "    age_dk_yearly_avg_count = df_cop_dk[(df_cop_dk.municipality=='Denmark') & (df_cop_dk.age==age)].groupby(['year', 'municipality', 'age'])['weighted_days_age_mun'].sum()\n",
    "    age_cop_yearly_avg_count = df_cop_dk[(df_cop_dk.municipality=='Greater Copenhagen') & (df_cop_dk.age==age)].groupby(['year', 'municipality', 'age'])['weighted_days_age_mun'].sum()\n",
    "    buttons_2.append(dict(method='update',\n",
    "                        label=age,\n",
    "                        args=[{'x': [years]*4,\n",
    "                               'y': [age_dk_yearly_avg_count, age_cop_yearly_avg_count],\n",
    "                               'visible': [True]*4}],\n",
    "                        )\n",
    "                 )\n",
    "    \n",
    "# Define the dropdown menu for ethnicity\n",
    "ethnicities = df_cop_dk.ethnicity.unique()\n",
    "buttons_3 = []\n",
    "# Add button for all ethnicities\n",
    "buttons_3.append(dict(method='update',\n",
    "                    label='Ethnicity',\n",
    "                    args=[{'x': [years]*3,\n",
    "                           'y': [dk_yearly_avg_hosp_days, cop_yearly_avg_hosp_days],\n",
    "                           'visible': [True]*3}],\n",
    "                    )\n",
    "             )\n",
    "# Add button for each ehtnicity\n",
    "for ethnicity in ethnicities:\n",
    "    eth_dk_yearly_avg_count = df_cop_dk[(df_cop_dk.municipality=='Denmark') & (df_cop_dk.ethnicity==ethnicity)].groupby(['year', 'municipality', 'ethnicity'])['weighted_days_eth_mun'].sum()\n",
    "    eth_cop_yearly_avg_count = df_cop_dk[(df_cop_dk.municipality=='Greater Copenhagen') & (df_cop_dk.ethnicity==ethnicity)].groupby(['year', 'municipality', 'ethnicity'])['weighted_days_eth_mun'].sum()\n",
    "    buttons_3.append(dict(method='update',\n",
    "                        label=ethnicity,\n",
    "                        args=[{'x': [years]*3,\n",
    "                               'y': [eth_dk_yearly_avg_count, eth_cop_yearly_avg_count],\n",
    "                               'visible': [True]*3}],\n",
    "    )\n",
    "                       )\n",
    "    \n",
    "# Define the dropdown menu for education\n",
    "educations = df_cop_dk.education.unique()\n",
    "buttons_4 = []\n",
    "# Add button for all educations\n",
    "buttons_4.append(dict(method='update',\n",
    "                    label='Education',\n",
    "                    args=[{'x': [years]*2,\n",
    "                           'y': [dk_yearly_avg_hosp_days, cop_yearly_avg_hosp_days],\n",
    "                           'visible': [True]*2}],\n",
    "                    )\n",
    "             )\n",
    "# Add button for each education\n",
    "for education in educations:\n",
    "    edu_dk_yearly_avg_count = df_cop_dk[(df_cop_dk.municipality=='Denmark') & (df_cop_dk.education==education)].groupby(['year', 'municipality', 'education'])['weighted_days_edu_mun'].sum()\n",
    "    edu_cop_yearly_avg_count = df_cop_dk[(df_cop_dk.municipality=='Greater Copenhagen') & (df_cop_dk.education==education)].groupby(['year', 'municipality', 'education'])['weighted_days_edu_mun'].sum()\n",
    "    buttons_4.append(dict(method='update',\n",
    "                        label=education,\n",
    "                        args=[{'x': [years]*2,\n",
    "                               'y': [edu_dk_yearly_avg_count, edu_cop_yearly_avg_count],\n",
    "                               'visible': [True]*2}],\n",
    "    )\n",
    "                       )\n",
    "\n",
    "updatemenus = [{'buttons': buttons,\n",
    "                'direction': 'down',\n",
    "                'showactive': True,\n",
    "                'active': 0,\n",
    "                'y': 1.13,\n",
    "                'x': 0.15}, \n",
    "                {'buttons': buttons_2,\n",
    "                 'direction': 'down',\n",
    "                 'showactive': True,\n",
    "                 'active': 0,\n",
    "                 'y': 1.13,\n",
    "                 'x': 0.27}, \n",
    "                 {'buttons': buttons_3,\n",
    "                 'direction': 'down',\n",
    "                 'showactive': True,\n",
    "                 'active': 0,\n",
    "                 'y': 1.13,\n",
    "                 'x': 0.68},\n",
    "                 {'buttons': buttons_4,\n",
    "                 'direction': 'down',\n",
    "                 'showactive': True,\n",
    "                 'active': 0,\n",
    "                 'y': 1.13,\n",
    "                 'x': 0.92}]\n",
    "\n",
    "\n",
    "# Update the layout to add the dropdown menu and set the title\n",
    "fig.update_layout(\n",
    "    updatemenus=updatemenus,\n",
    "    title='<b>Annual number of days spent in the hospital by gender, age, education or ethnicity<b>',\n",
    "    xaxis_tickfont_size=14,\n",
    "    xaxis=dict(\n",
    "              title='',\n",
    "              titlefont_size=16,\n",
    "              domain=[0, 1],\n",
    "    ),\n",
    "    # fix the yaxis range to be the same for all plots\n",
    "    yaxis=dict(\n",
    "        title='<b>Days spent in hospital<b>',\n",
    "        titlefont_size=16,\n",
    "        tickfont_size=14,\n",
    "        range=[0, 3],\n",
    "    ),\n",
    "    legend=dict(\n",
    "        title='',\n",
    "        x=0.01,\n",
    "        y=1,\n",
    "        bgcolor='rgba(255, 255, 255, 0)',\n",
    "        bordercolor='rgba(255, 255, 255, 0)'\n",
    "    ),\n",
    "    barmode='group',\n",
    "    bargap=0.15, # gap between bars of adjacent location coordinates.\n",
    "    bargroupgap=0.1 # gap between bars of the same location coordinate.\n",
    ")\n",
    "fig.write_html('dk_cph_days_hospital_bar.html')\n",
    "fig.show()"
   ]
  },
  {
   "attachments": {},
   "cell_type": "markdown",
   "metadata": {},
   "source": [
    "### Interactive visualization for number of hospitalizations with filters for age, gender, education and ethnicity"
   ]
  },
  {
   "cell_type": "code",
   "execution_count": null,
   "metadata": {},
   "outputs": [],
   "source": [
    "# Create the initial plot\n",
    "fig = go.Figure()\n",
    "# Line plot (commented out)\n",
    "#fig = px.line(df_income, x='year', y='count', color='municipality', markers=True, width=900, height=400)\n",
    "#fig.update_traces(line_color='rgb(55, 83, 109)', selector=dict(name='Denmark'))\n",
    "#fig.update_traces(line_color='rgb(26, 118, 255)', selector=dict(name='Greater Copenhagen'))\n",
    "# Bar plot \n",
    "fig.add_trace(go.Bar(x=years,\n",
    "                y=dk_yearly_avg_hosp_times,\n",
    "                name='Denmark',\n",
    "                marker_color='rgb(55, 83, 109)'\n",
    "                ))\n",
    "fig.add_trace(go.Bar(x=years,\n",
    "                y=cop_yearly_avg_hosp_times,\n",
    "                name='Greater Copenhagen',\n",
    "                marker_color='rgb(26, 118, 255)'\n",
    "                ))\n",
    "\n",
    "# Define the dropdown menu\n",
    "genders = df_cop_dk.gender.unique()\n",
    "buttons = []\n",
    "# Add button for all genders\n",
    "buttons.append(dict(method='update',\n",
    "                    label='Gender',\n",
    "                    args=[{'x': [years]*2,\n",
    "                           'y': [dk_yearly_avg_hosp_times, cop_yearly_avg_hosp_times],\n",
    "                           'visible': [True]*2}],\n",
    "                    )\n",
    "             )\n",
    "\n",
    "\n",
    "# Add button for each gender\n",
    "for gender in genders:\n",
    "    dk_yearly_avg_count = df_cop_dk[(df_cop_dk.municipality=='Denmark') & (df_cop_dk.gender==gender)].groupby(['year', 'municipality', 'gender'])['weighted_hosp_gen_mun'].sum()\n",
    "    cop_yearly_avg_count = df_cop_dk[(df_cop_dk.municipality=='Greater Copenhagen') & (df_cop_dk.gender==gender)].groupby(['year', 'municipality', 'gender'])['weighted_hosp_gen_mun'].sum()\n",
    "    buttons.append(dict(method='update',\n",
    "                        label=gender,\n",
    "                        args=[{'x': [years]*2,\n",
    "                               'y': [dk_yearly_avg_count, cop_yearly_avg_count],\n",
    "                               'visible': [True]*2}],\n",
    "                        )\n",
    "                        # add selection to the list of visible values\n",
    "                        \n",
    "                 )\n",
    "\n",
    "# Define the dropdown menu for Age\n",
    "ages = df_cop_dk.age.unique()\n",
    "buttons_2 = []\n",
    "# Add button for all ages\n",
    "buttons_2.append(dict(method='update',\n",
    "                    label='Age',\n",
    "                    args=[{'x': [years]*4,\n",
    "                           'y': [dk_yearly_avg_hosp_times, cop_yearly_avg_hosp_times],\n",
    "                           'visible': [True]*4}],\n",
    "                    )\n",
    "             )\n",
    "# Add button for each age\n",
    "for age in ages:\n",
    "    age_dk_yearly_avg_count = df_cop_dk[(df_cop_dk.municipality=='Denmark') & (df_cop_dk.age==age)].groupby(['year', 'municipality', 'age'])['weighted_hosp_age_mun'].sum()\n",
    "    age_cop_yearly_avg_count = df_cop_dk[(df_cop_dk.municipality=='Greater Copenhagen') & (df_cop_dk.age==age)].groupby(['year', 'municipality', 'age'])['weighted_hosp_age_mun'].sum()\n",
    "    buttons_2.append(dict(method='update',\n",
    "                        label=age,\n",
    "                        args=[{'x': [years]*4,\n",
    "                               'y': [age_dk_yearly_avg_count, age_cop_yearly_avg_count],\n",
    "                               'visible': [True]*4}],\n",
    "                        )\n",
    "                 )\n",
    "    \n",
    "# Define the dropdown menu for ethnicity\n",
    "ethnicities = df_cop_dk.ethnicity.unique()\n",
    "buttons_3 = []\n",
    "# Add button for all ethnicities\n",
    "buttons_3.append(dict(method='update',\n",
    "                    label='Ethnicity',\n",
    "                    args=[{'x': [years]*3,\n",
    "                           'y': [dk_yearly_avg_hosp_times, cop_yearly_avg_hosp_times],\n",
    "                           'visible': [True]*3}],\n",
    "                    )\n",
    "             )\n",
    "# Add button for each ehtnicity\n",
    "for ethnicity in ethnicities:\n",
    "    eth_dk_yearly_avg_count = df_cop_dk[(df_cop_dk.municipality=='Denmark') & (df_cop_dk.ethnicity==ethnicity)].groupby(['year', 'municipality', 'ethnicity'])['weighted_hosp_eth_mun'].sum()\n",
    "    eth_cop_yearly_avg_count = df_cop_dk[(df_cop_dk.municipality=='Greater Copenhagen') & (df_cop_dk.ethnicity==ethnicity)].groupby(['year', 'municipality', 'ethnicity'])['weighted_hosp_eth_mun'].sum()\n",
    "    buttons_3.append(dict(method='update',\n",
    "                        label=ethnicity,\n",
    "                        args=[{'x': [years]*3,\n",
    "                               'y': [eth_dk_yearly_avg_count, eth_cop_yearly_avg_count],\n",
    "                               'visible': [True]*3}],\n",
    "    )\n",
    "                       )\n",
    "    \n",
    "# Define the dropdown menu for education\n",
    "educations = df_cop_dk.education.unique()\n",
    "buttons_4 = []\n",
    "# Add button for all educations\n",
    "buttons_4.append(dict(method='update',\n",
    "                    label='Education',\n",
    "                    args=[{'x': [years]*2,\n",
    "                           'y': [dk_yearly_avg_hosp_times, cop_yearly_avg_hosp_times],\n",
    "                           'visible': [True]*2}],\n",
    "                    )\n",
    "             )\n",
    "# Add button for each education\n",
    "for education in educations:\n",
    "    edu_dk_yearly_avg_count = df_cop_dk[(df_cop_dk.municipality=='Denmark') & (df_cop_dk.education==education)].groupby(['year', 'municipality', 'education'])['weighted_hosp_edu_mun'].sum()\n",
    "    edu_cop_yearly_avg_count = df_cop_dk[(df_cop_dk.municipality=='Greater Copenhagen') & (df_cop_dk.education==education)].groupby(['year', 'municipality', 'education'])['weighted_hosp_edu_mun'].sum()\n",
    "    buttons_4.append(dict(method='update',\n",
    "                        label=education,\n",
    "                        args=[{'x': [years]*2,\n",
    "                               'y': [edu_dk_yearly_avg_count, edu_cop_yearly_avg_count],\n",
    "                               'visible': [True]*2}],\n",
    "    )\n",
    "                       )\n",
    "\n",
    "updatemenus = [{'buttons': buttons,\n",
    "                'direction': 'down',\n",
    "                'showactive': True,\n",
    "                'active': 0,\n",
    "                'y': 1.13,\n",
    "                'x': 0.15}, \n",
    "                {'buttons': buttons_2,\n",
    "                 'direction': 'down',\n",
    "                 'showactive': True,\n",
    "                 'active': 0,\n",
    "                 'y': 1.13,\n",
    "                 'x': 0.27}, \n",
    "                 {'buttons': buttons_3,\n",
    "                 'direction': 'down',\n",
    "                 'showactive': True,\n",
    "                 'active': 0,\n",
    "                 'y': 1.13,\n",
    "                 'x': 0.68},\n",
    "                 {'buttons': buttons_4,\n",
    "                 'direction': 'down',\n",
    "                 'showactive': True,\n",
    "                 'active': 0,\n",
    "                 'y': 1.13,\n",
    "                 'x': 0.92}]\n",
    "\n",
    "\n",
    "# Update the layout to add the dropdown menu and set the title\n",
    "fig.update_layout(\n",
    "    updatemenus=updatemenus,\n",
    "    title='<b>Annual number of hospitalizations by gender, age, education or ethnicity<b>',\n",
    "    xaxis_tickfont_size=14,\n",
    "    xaxis=dict(\n",
    "              title='',\n",
    "              titlefont_size=16,\n",
    "              domain=[0, 1],\n",
    "    ),\n",
    "    # fix the yaxis range to be the same for all plots\n",
    "    yaxis=dict(\n",
    "        title='<b>Number of hospitalizations<b>',\n",
    "        titlefont_size=16,\n",
    "        tickfont_size=14,\n",
    "        range=[0, 0.5],\n",
    "    ),\n",
    "    legend=dict(\n",
    "        title='',\n",
    "        x=0.01,\n",
    "        y=1,\n",
    "        bgcolor='rgba(255, 255, 255, 0)',\n",
    "        bordercolor='rgba(255, 255, 255, 0)'\n",
    "    ),\n",
    "    barmode='group',\n",
    "    bargap=0.15, # gap between bars of adjacent location coordinates.\n",
    "    bargroupgap=0.1 # gap between bars of the same location coordinate.\n",
    ")\n",
    "fig.write_html('dk_cph_hospitalizations_bar.html')\n",
    "fig.show()"
   ]
  },
  {
   "attachments": {},
   "cell_type": "markdown",
   "metadata": {},
   "source": [
    "### Timelines for Income, Days in Hospital and # of Hospitalizations\n",
    "In the process we also created a more simple line plot over time for each of the three continous variables. At the end of the day we decided not to use these in the article, as the visualizations above capture the same story told in these visualizations."
   ]
  },
  {
   "cell_type": "code",
   "execution_count": null,
   "metadata": {},
   "outputs": [],
   "source": [
    "# Group the data by 'year' and 'municipality', then calculate the sum of 'weighted_inc_mun' for each group\n",
    "df_income = df_cop_dk.groupby(['year', 'municipality'])['weighted_inc_mun'].sum().reset_index(name='count')\n",
    "\n",
    "# Create a line chart using Plotly Express, with 'year' on the x-axis, 'count' on the y-axis, and colored by 'municipality'\n",
    "fig = px.line(df_income, x='year', y='count', color='municipality', markers=True, width=900, height=300)  # Adding markers to the line plot for better visibility of data points\n",
    "\n",
    "# update line colors to rgb(55, 83, 109) for Denmark and rgb(26, 118, 255) for Greater Copenhagen\n",
    "fig.update_traces(line_color='rgb(55, 83, 109)', selector=dict(name='Denmark'))\n",
    "fig.update_traces(line_color='rgb(26, 118, 255)', selector=dict(name='Greater Copenhagen'))\n",
    "\n",
    "# Edit the layout\n",
    "fig.update_layout(title='<b>Income by year per municipality<b>',\n",
    "                   xaxis_title='',\n",
    "                   yaxis_title='<b>Income DKK<b>')\n",
    "\n",
    "fig.show()"
   ]
  },
  {
   "cell_type": "code",
   "execution_count": null,
   "metadata": {},
   "outputs": [],
   "source": [
    "# Group the data by 'year' and 'municipality', then calculate the sum of 'weighted_hosp_days_mun' for each group\n",
    "df_hosp_days = df_cop_dk.groupby(['year', 'municipality'])['weighted_hosp_days_mun'].sum().reset_index(name='count')\n",
    "\n",
    "# Create a line chart using Plotly Express, with 'year' on the x-axis, 'count' on the y-axis, and colored by 'municipality'\n",
    "fig = px.line(df_hosp_days, x='year', y='count', color='municipality', markers=True, width=900, height=300)  # Adding markers to the line plot for better visibility of data points\n",
    "\n",
    "# update line colors to rgb(55, 83, 109) for Denmark and rgb(26, 118, 255) for Greater Copenhagen\n",
    "fig.update_traces(line_color='rgb(55, 83, 109)', selector=dict(name='Denmark'))\n",
    "fig.update_traces(line_color='rgb(26, 118, 255)', selector=dict(name='Greater Copenhagen'))\n",
    "\n",
    "# Edit the layout\n",
    "fig.update_layout(title='<b>Days spent in hospital<b>',\n",
    "                   xaxis_title='',\n",
    "                   yaxis_title='<b>Days per hospital visit<b>')\n",
    "\n",
    "fig.show()"
   ]
  },
  {
   "cell_type": "code",
   "execution_count": null,
   "metadata": {},
   "outputs": [],
   "source": [
    "# Group the data by 'year' and 'municipality', then calculate the sum of 'weighted_hospitalizations_mun' for each group\n",
    "df_hosp_times = df_cop_dk.groupby(['year', 'municipality'])['weighted_hospitalizations_mun'].sum().reset_index(name='count')\n",
    "\n",
    "# Create a line chart using Plotly Express, with 'year' on the x-axis, 'count' on the y-axis, and colored by 'municipality'\n",
    "fig = px.line(df_hosp_times, x='year', y='count', color='municipality', markers=True, width=900, height=300)  # Adding markers to the line plot for better visibility of data points\n",
    "\n",
    "# update line colors to rgb(55, 83, 109) for Denmark and rgb(26, 118, 255) for Greater Copenhagen\n",
    "fig.update_traces(line_color='rgb(55, 83, 109)', selector=dict(name='Denmark'))\n",
    "fig.update_traces(line_color='rgb(26, 118, 255)', selector=dict(name='Greater Copenhagen'))\n",
    "\n",
    "# Edit the layout\n",
    "fig.update_layout(title='<b> Number of hospitalizations per year <b>',\n",
    "                   xaxis_title='<b>Year<b>',\n",
    "                   yaxis_title='<b>Number of hospitalizations<b>')\n",
    "\n",
    "fig.show()"
   ]
  },
  {
   "attachments": {},
   "cell_type": "markdown",
   "metadata": {},
   "source": [
    "## Thomas\n",
    "\n",
    "With the updated plots above, is anything still needed from here? :)\n"
   ]
  },
  {
   "cell_type": "code",
   "execution_count": null,
   "metadata": {},
   "outputs": [],
   "source": [
    "# Group the data by 'year' and 'municipality', then calculate the sum of 'weighted_inc_mun' for each group\n",
    "df_income_gender = df_2.groupby(['year', 'municipality', 'gender'])['weighted_inc_mun'].sum().reset_index(name='count')\n",
    "df_income_gender"
   ]
  },
  {
   "cell_type": "code",
   "execution_count": null,
   "metadata": {},
   "outputs": [],
   "source": [
    "men_yearly_avg_inc = df_income_gender[df_income_gender.gender=='Men'].groupby('year')['count'].mean()\n",
    "women_yearly_avg_inc = df_income_gender[df_income_gender.gender=='Women'].groupby('year')['count'].mean()\n",
    "men_yearly_avg_inc"
   ]
  },
  {
   "cell_type": "code",
   "execution_count": null,
   "metadata": {},
   "outputs": [],
   "source": [
    "years = df_income_gender.year.unique()\n",
    "\n",
    "fig = go.Figure()\n",
    "fig.add_trace(go.Bar(x=years,\n",
    "                y=men_yearly_avg_inc,\n",
    "                name='Men',\n",
    "                marker_color='rgb(55, 83, 109)'\n",
    "                ))\n",
    "fig.add_trace(go.Bar(x=years,\n",
    "                y=women_yearly_avg_inc,\n",
    "                name='Women',\n",
    "                marker_color='rgb(26, 118, 255)'\n",
    "                ))\n",
    "\n",
    "fig.update_layout(\n",
    "    title='Annual gender income',\n",
    "    xaxis_tickfont_size=14,\n",
    "    yaxis=dict(\n",
    "        title='DKK',\n",
    "        titlefont_size=16,\n",
    "        tickfont_size=14,\n",
    "    ),\n",
    "    legend=dict(\n",
    "        x=0,\n",
    "        y=1.0,\n",
    "        bgcolor='rgba(255, 255, 255, 0)',\n",
    "        bordercolor='rgba(255, 255, 255, 0)'\n",
    "    ),\n",
    "    barmode='group',\n",
    "    bargap=0.15, # gap between bars of adjacent location coordinates.\n",
    "    bargroupgap=0.1 # gap between bars of the same location coordinate.\n",
    ")\n",
    "fig.show()"
   ]
  },
  {
   "cell_type": "code",
   "execution_count": null,
   "metadata": {},
   "outputs": [],
   "source": [
    "import plotly.graph_objs as go\n",
    "\n",
    "# Define years and initial municipality for the plot\n",
    "years = df_income_gender.year.unique()\n",
    "municipality = df_income_gender.municipality.unique()[0]\n",
    "\n",
    "# Get the yearly average count for men and women for the initial municipality\n",
    "men_yearly_avg_count = df_income_gender[(df_income_gender.gender=='Men') & (df_income_gender.municipality==municipality)].groupby('year')['count'].mean()\n",
    "women_yearly_avg_count = df_income_gender[(df_income_gender.gender=='Women') & (df_income_gender.municipality==municipality)].groupby('year')['count'].mean()\n",
    "\n",
    "# Create the initial plot\n",
    "fig = go.Figure()\n",
    "fig.add_trace(go.Bar(x=years,\n",
    "                y=men_yearly_avg_count,\n",
    "                name='Men',\n",
    "                marker_color='rgb(55, 83, 109)'\n",
    "                ))\n",
    "fig.add_trace(go.Bar(x=years,\n",
    "                y=women_yearly_avg_count,\n",
    "                name='Women',\n",
    "                marker_color='rgb(26, 118, 255)'\n",
    "                ))\n",
    "\n",
    "# Define the dropdown menu\n",
    "municipalities = df_income_gender.municipality.unique()\n",
    "buttons = []\n",
    "# Add button for all municipalities\n",
    "men_yearly_avg_count_all = df_income_gender[df_income_gender.gender=='Men'].groupby('year')['count'].mean()\n",
    "women_yearly_avg_count_all = df_income_gender[df_income_gender.gender=='Women'].groupby('year')['count'].mean()\n",
    "buttons.append(dict(method='update',\n",
    "                    label='All',\n",
    "                    args=[{'x': [years]*2,\n",
    "                           'y': [men_yearly_avg_count_all, women_yearly_avg_count_all],\n",
    "                           'visible': [True]*2}],\n",
    "                    )\n",
    "             )\n",
    "# Add button for each municipality\n",
    "for municipality in municipalities:\n",
    "    men_yearly_avg_count = df_income_gender[(df_income_gender.gender=='Men') & (df_income_gender.municipality==municipality)].groupby('year')['count'].mean()\n",
    "    women_yearly_avg_count = df_income_gender[(df_income_gender.gender=='Women') & (df_income_gender.municipality==municipality)].groupby('year')['count'].mean()\n",
    "    buttons.append(dict(method='update',\n",
    "                        label=municipality,\n",
    "                        args=[{'x': [years]*2,\n",
    "                               'y': [men_yearly_avg_count, women_yearly_avg_count],\n",
    "                               'visible': [True]*2}],\n",
    "                        )\n",
    "                 )\n",
    "updatemenus = [{'buttons': buttons,\n",
    "                'direction': 'down',\n",
    "                'showactive': True,\n",
    "                'active': 0}]\n",
    "\n",
    "# Update the layout to add the dropdown menu and set the title\n",
    "fig.update_layout(\n",
    "    updatemenus=updatemenus,\n",
    "    title='Annual income by gender for {}'.format(municipalities[0]),\n",
    "    xaxis_tickfont_size=14,\n",
    "    yaxis=dict(\n",
    "        title='Count',\n",
    "        titlefont_size=16,\n",
    "        tickfont_size=14,\n",
    "    ),\n",
    "    legend=dict(\n",
    "        x=0,\n",
    "        y=1.0,\n",
    "        bgcolor='rgba(255, 255, 255, 0)',\n",
    "        bordercolor='rgba(255, 255, 255, 0)'\n",
    "    ),\n",
    "    barmode='group',\n",
    "    bargap=0.15, # gap between bars of adjacent location coordinates.\n",
    "    bargroupgap=0.1 # gap between bars of the same location coordinate.\n",
    ")\n",
    "\n",
    "fig.show()\n"
   ]
  },
  {
   "attachments": {},
   "cell_type": "markdown",
   "metadata": {},
   "source": [
    "## 5.2 Plotting maps - Copenhagen municipalities"
   ]
  },
  {
   "attachments": {},
   "cell_type": "markdown",
   "metadata": {},
   "source": [
    "We're also displaying the above processed data on a map of the Greater Copenhagen area, for which we use Plotly's Choropleth Mapbox. In order to achieve this, we needed GeoJSON data, which we obtained from [Information Lab](https://lab.information.dk/). \n",
    "\n",
    "But this GeoJSON ended up needing a lot of processing to be displayable properly.\n",
    "\n",
    "### Processing the GeoJSON\n",
    "\n",
    "As Denmark consists of a lot of islands and some municipalities occupy more than one geometry, the GeoJSON initially contained multiple polygons for the same municipality, which Plotly is not equipped to handle. It will not display any warnings, but it's only going to display the first instance of the municipality that it finds, which resulted in unexpected behavior on the Copenhagen map. Therefore we had to find a way to remove these redundancies.\n",
    "\n",
    "After some research, we found [MapShaper](https://mapshaper.org/), which is a handy tool for manipulating and exporting map data. Here we could import our GeoJSON, which got displayed on a map inside the tool. There we had the option to select municipalities, merge them and edit their attributes. It was a very manual and tedious job (merging all of 153 small islands into Tårnby is not a small feat), but eventually we ended up with the desired file. \n",
    "\n",
    "After that we were almost done, but there were issues arising from the file encoding as well, we had to convert it to ISO8859-1 to handle the special characters. \n",
    "\n",
    "After all this, there was only one issue remaining: rendering a time-series map with the processed GeoJSON took too long. We don't actually know how long, as we stopped it after around 40 minutes. So we went back to MapShaper, and simplified the GeoJSON file, to contain less and simpler polygons, and it finally worked as expected. The result of this can be seen below."
   ]
  },
  {
   "attachments": {},
   "cell_type": "markdown",
   "metadata": {},
   "source": [
    "### Maps\n",
    "Below we see three maps, each depicting a different aspect of Copenhagen data. "
   ]
  },
  {
   "attachments": {},
   "cell_type": "markdown",
   "metadata": {},
   "source": [
    "This first map depicts the average income per municipality in the Greater Copenhagen area, from 2005 to 2018."
   ]
  },
  {
   "cell_type": "code",
   "execution_count": null,
   "metadata": {},
   "outputs": [],
   "source": [
    "df_mun = df_2.loc[(df_2['municipality'] != 'Denmark') & (df_2['municipality'] != 'Greater Copenhagen')]\n",
    "df_mun_income = df_mun.groupby(['year', 'municipality'])['weighted_inc_mun'].sum().reset_index(name='count')\n",
    "df_mun_hosp_days = df_mun.groupby(['year', 'municipality'])['weighted_hosp_days_mun'].sum().reset_index(name='count')\n",
    "df_mun_hosp_times = df_mun.groupby(['year', 'municipality'])['weighted_hospitalizations_mun'].sum().reset_index(name='count')"
   ]
  },
  {
   "cell_type": "code",
   "execution_count": null,
   "metadata": {},
   "outputs": [],
   "source": [
    "import json\n",
    "with open('denmark.json', encoding='iso-8859-1') as f:\n",
    "    counties = json.load(f)\n",
    "\n",
    "fig = px.choropleth_mapbox(df_mun_income, geojson=counties, locations='municipality', featureidkey='properties.KOMNAVN', color='count',\n",
    "                            color_continuous_scale=\"hot_r\",\n",
    "                            range_color=(200000, 520000),\n",
    "                            mapbox_style=\"carto-positron\",\n",
    "                            zoom=9, center = {\"lat\": 55.7061, \"lon\": 12.5683},\n",
    "                            animation_frame='year',\n",
    "                            opacity=0.5,\n",
    "                            width=900,\n",
    "                            height=650,\n",
    "                            labels={'year': 'Year', 'count': ''},\n",
    "                            title='<b>Average income per municipality per year (DKK)</b>'\n",
    ")\n",
    "fig.update_layout(margin={\"r\":0,\"l\":0, \"b\":0}, title_x=0.5)\n",
    "fig.layout.sliders[0].pad.t = 10\n",
    "fig.layout.updatemenus[0].pad.t = 10\n",
    "fig.layout.updatemenus[0].buttons[0].args[1][\"frame\"][\"duration\"] = 900\n",
    "fig.layout.updatemenus[0].buttons[0].args[1][\"transition\"][\"duration\"] = 900\n",
    "fig.write_html('cph_income_time_map.html')\n",
    "#fig.show()"
   ]
  },
  {
   "attachments": {},
   "cell_type": "markdown",
   "metadata": {},
   "source": [
    "This map depicts the average days spent in hospital during the years."
   ]
  },
  {
   "cell_type": "code",
   "execution_count": null,
   "metadata": {},
   "outputs": [],
   "source": [
    "fig = px.choropleth_mapbox(df_mun_hosp_days, geojson=counties, locations='municipality', featureidkey='properties.KOMNAVN', color='count',\n",
    "                            color_continuous_scale=\"hot_r\",\n",
    "                            range_color=(0.6, 1.3),\n",
    "                            mapbox_style=\"carto-positron\",\n",
    "                            zoom=9, center = {\"lat\": 55.7061, \"lon\": 12.5683},\n",
    "                            animation_frame='year',\n",
    "                            opacity=0.5,\n",
    "                            width=900,\n",
    "                            height=650,\n",
    "                            labels={'year': 'Year', 'count': ''},\n",
    "                            title='<b>Weighted average of days spent in hospital per municipality per year</b>'\n",
    ")\n",
    "fig.update_layout(margin={\"r\":0,\"l\":0, \"b\":0}, title_x=0.5)\n",
    "fig.layout.sliders[0].pad.t = 10\n",
    "fig.layout.updatemenus[0].pad.t = 10\n",
    "fig.layout.updatemenus[0].buttons[0].args[1][\"frame\"][\"duration\"] = 900\n",
    "fig.layout.updatemenus[0].buttons[0].args[1][\"transition\"][\"duration\"] = 900\n",
    "fig.write_html('cph_hosp_days_time_map.html')\n",
    "#fig.show()"
   ]
  },
  {
   "attachments": {},
   "cell_type": "markdown",
   "metadata": {},
   "source": [
    "And the last one shows the number of hospital visits by municipality and year. "
   ]
  },
  {
   "cell_type": "code",
   "execution_count": null,
   "metadata": {},
   "outputs": [],
   "source": [
    "fig = px.choropleth_mapbox(df_mun_hosp_times, geojson=counties, locations='municipality', featureidkey='properties.KOMNAVN', color='count',\n",
    "                            color_continuous_scale=\"hot_r\",\n",
    "                            range_color=(0.14, 0.24),\n",
    "                            mapbox_style=\"carto-positron\",\n",
    "                            zoom=9, center = {\"lat\": 55.7061, \"lon\": 12.5683},\n",
    "                            animation_frame='year',\n",
    "                            opacity=0.5,\n",
    "                            width=900,\n",
    "                            height=650,\n",
    "                            labels={'year': 'Year', 'count': ''},\n",
    "                            title='<b>Weighted average of times of hospitalizations per municipality per year</b>'\n",
    ")\n",
    "fig.update_layout(margin={\"r\":0,\"l\":0, \"b\":0}, title_x=0.5)\n",
    "fig.layout.sliders[0].pad.t = 10\n",
    "fig.layout.updatemenus[0].pad.t = 10\n",
    "fig.layout.updatemenus[0].buttons[0].args[1][\"frame\"][\"duration\"] = 900\n",
    "fig.layout.updatemenus[0].buttons[0].args[1][\"transition\"][\"duration\"] = 900\n",
    "fig.write_html('cph_hosp_times_time_map.html')\n",
    "#fig.show()"
   ]
  },
  {
   "attachments": {},
   "cell_type": "markdown",
   "metadata": {},
   "source": [
    "From running the time series it is visible, that with the salaries raising the average time spent in hospitals is decreasing. But what's even more interesting is that the number of hospital visits seems to increase everywhere expcept for Copenhagen municipality. "
   ]
  },
  {
   "attachments": {},
   "cell_type": "markdown",
   "metadata": {},
   "source": [
    "# 6. Discussion\n",
    "In general, this has been a fun and informative data set to work on. However, it has also had a few drawbacks.\n",
    "\n",
    "### Velstand & Ulighed - tool by Rockwool Fonden\n",
    "When we first found the Vesltand & Ulighed tool by Rockwool Fonden, and saw that the underlying data could be downloaded, we got very excited to work with it. And it wasn't until we had advanced quite a lot with our idea generations for the project, that we realized that only small chunks of data could be downloaded at the time, and that these required a lot of cleaning to get ready for a final data set. At this point, it felt too late to go looking for a different data set. As the data preparation took a very long time, we had to limit ourselves to only work with 3 continous variables, Disposable Income, Days in Hospital and Number of Hospitalizations. Many more interesting attributes were available, such as different measures for education as well as Gini Coefficients for measuring inequality. \n",
    "\n",
    "### Aggregated data\n",
    "Another drawback of the data from Velstand & Ulighed, is the fact that it is aggregated data where each row of data represents a group of people and their income and health values are an average of that specific group. This put a limit to the number of rows we had to work with. For our data visualization, the aggregated data was not a problem, we just had to take into the consideration the weighted numbers based on # of Observations. However, for our machine learning models, having row-level data available would have given much more informative data sets with many rows to train our models on.\n",
    "\n",
    "### Cross filtering\n",
    "As already mentioned, we wished to apply cross filtering for our comparison between Denmark and Greater Copenhagen, which we after a while found out was not possible following the method that we had. There was one way to do so, which was through Plotly's Dash features which is a platform for building, scaling, and deploying data apps in Python. Although Plotly mention that Dash is suppose to be a low-code feature, we were not able to set up the proper apps and get them integrated with html to our Jekyll webpage."
   ]
  },
  {
   "attachments": {},
   "cell_type": "markdown",
   "metadata": {},
   "source": [
    "# 7. Contributions\n",
    "In cooperation we have put together this Jupyter Explainer Notebook, although each of us have taken lead on different parts of the project:\n",
    "\n",
    "### Vivien Váradi:\n",
    "Responsible for the analysis of the 20 Copenhagen Municipalities, creating the GeoJson file for plotting the maps, coding the map plots and writing the article with the insights from the visualization.\n",
    "\n",
    "### Thomas Adamopoulos:\n",
    "Responsible for the machine learning models (Clustering and Regression) applied in this project, the data preparation required for these, their visualizations and interpretations. Also coworked on visualizing the interactive plots for the Denmark vs Greater Copenhagen analysis.\n",
    "\n",
    "### Søren Blatt Bendtsen\n",
    "Responsible for setting up the Jekyll website with the Start Bootstrap - Clean Blog theme, doing the initial data preparation work, writing the article and coworked on visualizing the interactive plots for the Denmark vs Greater Copenhagen analysis."
   ]
  },
  {
   "attachments": {},
   "cell_type": "markdown",
   "metadata": {},
   "source": [
    "# 8. References\n",
    "\n",
    "[1]: Rockwool Fonden, Velstand & Ulighed Documentation, https://www.velstandogulighed.dk/pages/documentation"
   ]
  },
  {
   "attachments": {},
   "cell_type": "markdown",
   "metadata": {},
   "source": [
    "## K-means Clustering"
   ]
  },
  {
   "cell_type": "code",
<<<<<<< HEAD
   "execution_count": 5,
=======
   "execution_count": null,
>>>>>>> ee76a606b13737ddfbc3075ccd0fc6deab97afeb
   "metadata": {},
   "outputs": [],
   "source": [
    "# Load data set and save to data frame\n",
    "df = pd.read_csv('copenhagen_data.csv')"
   ]
  },
  {
   "cell_type": "code",
<<<<<<< HEAD
   "execution_count": 6,
=======
   "execution_count": null,
>>>>>>> ee76a606b13737ddfbc3075ccd0fc6deab97afeb
   "metadata": {},
   "outputs": [],
   "source": [
    "# Drop rows with missing values\n",
    "df_cluster= df.dropna()"
   ]
  },
  {
   "cell_type": "code",
<<<<<<< HEAD
   "execution_count": 7,
=======
   "execution_count": null,
>>>>>>> ee76a606b13737ddfbc3075ccd0fc6deab97afeb
   "metadata": {},
   "outputs": [],
   "source": [
    "# Pick observation only for Denamrk and Copenhagen\n",
    "df_cluster = df_cluster[(df_cluster.municipality == 'Denmark') | (df_cluster.municipality == 'Greater Copenhagen')]"
   ]
  },
  {
   "cell_type": "code",
<<<<<<< HEAD
   "execution_count": 8,
=======
   "execution_count": null,
>>>>>>> ee76a606b13737ddfbc3075ccd0fc6deab97afeb
   "metadata": {},
   "outputs": [],
   "source": [
    "# # Perform one-hot encoding on the relevant columns\n",
    "one_hot_encoded_municipality = pd.get_dummies(df_cluster.municipality, prefix='municipality')\n",
    "one_hot_encoded_gender = pd.get_dummies(df_cluster.gender, prefix='gender')\n",
    "one_hot_encoded_ethnicity = pd.get_dummies(df_cluster.ethnicity, prefix='ethnicity')\n",
    "one_hot_encoded_age = pd.get_dummies(df_cluster.age, prefix='age')\n",
    "one_hot_encoded_education = pd.get_dummies(df_cluster.education, prefix='education')"
   ]
  },
  {
   "cell_type": "code",
<<<<<<< HEAD
   "execution_count": 9,
   "metadata": {},
   "outputs": [
    {
     "data": {
      "text/plain": [
       "(1372, 36)"
      ]
     },
     "execution_count": 9,
     "metadata": {},
     "output_type": "execute_result"
    }
   ],
=======
   "execution_count": null,
   "metadata": {},
   "outputs": [],
>>>>>>> ee76a606b13737ddfbc3075ccd0fc6deab97afeb
   "source": [
    "# # Concatenate the one-hot encoded columns to the original DataFrame\n",
    "df_cluster = pd.concat([df_cluster.drop('municipality', axis=1), one_hot_encoded_municipality], axis=1)\n",
    "df_cluster = pd.concat([df_cluster.drop('gender', axis=1), one_hot_encoded_gender], axis=1)\n",
    "df_cluster = pd.concat([df_cluster.drop('ethnicity', axis=1), one_hot_encoded_ethnicity], axis=1)\n",
    "df_cluster = pd.concat([df_cluster.drop('age', axis=1), one_hot_encoded_age], axis=1)\n",
    "df_cluster = pd.concat([df_cluster.drop('education', axis=1), one_hot_encoded_education], axis=1)\n",
    "\n",
    "\n",
    "data_encoded = ['municipality_Denmark', 'municipality_Greater Copenhagen' ]\n",
    "\n",
    "\n",
    "df_cluster.head()\n",
    "df_cluster.shape\n",
    "# df_cluster.columns\n",
    "# df.head()\n",
    "# df.shape"
   ]
  },
  {
   "cell_type": "code",
<<<<<<< HEAD
   "execution_count": 10,
   "metadata": {},
   "outputs": [
    {
     "data": {
      "text/plain": [
       "Index(['income', 'days in hospital', 'municipality_Denmark',\n",
       "       'municipality_Greater Copenhagen', 'gender_Men', 'gender_Women',\n",
       "       'ethnicity_Danish', 'ethnicity_Immigrants and descendants',\n",
       "       'ethnicity_Non-western immigrants and descendants', 'age_30-39',\n",
       "       'age_40-49', 'age_50-59', 'age_60-65', 'education_Higher education',\n",
       "       'education_No higher education'],\n",
       "      dtype='object')"
      ]
     },
     "execution_count": 10,
     "metadata": {},
     "output_type": "execute_result"
    }
   ],
=======
   "execution_count": null,
   "metadata": {},
   "outputs": [],
>>>>>>> ee76a606b13737ddfbc3075ccd0fc6deab97afeb
   "source": [
    "df_cluster = df_cluster.drop(['year', 'municipality code', 'income observations', 'weighted_inc_mun', 'weighted_inc_gen_mun', 'weighted_inc_age_mun', 'weighted_inc_eth_mun',\n",
    "       'weighted_inc_edu_mun', 'days in hospital observations','weighted_hosp_days_mun', 'weighted_days_gen_mun', 'weighted_days_age_mun', 'weighted_days_eth_mun', \n",
    "       'weighted_days_edu_mun', 'number of hospitalizations', 'number of hospitalizations observations',  'weighted_hospitalizations_mun', 'weighted_hosp_gen_mun',\n",
    "       'weighted_hosp_age_mun', 'weighted_hosp_eth_mun', 'weighted_hosp_edu_mun'], axis=1)\n",
    "df_cluster.columns"
   ]
  },
  {
   "cell_type": "code",
<<<<<<< HEAD
   "execution_count": 11,
=======
   "execution_count": null,
>>>>>>> ee76a606b13737ddfbc3075ccd0fc6deab97afeb
   "metadata": {},
   "outputs": [],
   "source": [
    "# Standardize data, including numerical variables. This step is important for K-Means because it relies on distance measures:\n",
    "\n",
    "scaler = StandardScaler()\n",
    "data_scaled = scaler.fit_transform(df_cluster)"
   ]
  },
  {
   "cell_type": "code",
<<<<<<< HEAD
   "execution_count": 12,
   "metadata": {},
   "outputs": [
    {
     "name": "stderr",
     "output_type": "stream",
     "text": [
      "/var/folders/h6/f8twklt56rdg96n68wjjppdm0000gn/T/ipykernel_64075/2260009517.py:12: UserWarning: color is redundantly defined by the 'color' keyword argument and the fmt string \"bx-\" (-> color='b'). The keyword argument will take precedence.\n",
      "  plt.plot(K, inertias, 'bx-', color = 'orange')\n"
     ]
    },
    {
     "data": {
      "image/png": "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",
      "text/plain": [
       "<Figure size 1200x600 with 1 Axes>"
      ]
     },
     "metadata": {},
     "output_type": "display_data"
    }
   ],
=======
   "execution_count": null,
   "metadata": {},
   "outputs": [],
>>>>>>> ee76a606b13737ddfbc3075ccd0fc6deab97afeb
   "source": [
    "inertias = []\n",
    "K = range(1, 11)\n",
    "\n",
    "for k in K:\n",
    "    kmeans = KMeans(n_clusters=k, random_state=42)\n",
    "    kmeans.fit(data_scaled)\n",
    "    inertias.append(kmeans.inertia_)\n",
    "\n",
    "# Plotting the results\n",
    "figure = plt.subplots(figsize = (12, 6))\n",
    "\n",
    "plt.plot(K, inertias, 'bx-', color = 'orange')\n",
    "plt.xlabel(\"Number of Clusters (K)\")\n",
    "plt.ylabel(\"Cluster Inertia\")\n",
    "plt.title(\"Elbow Plot of KMeans\")\n",
    "plt.show()"
   ]
  },
  {
   "cell_type": "code",
<<<<<<< HEAD
   "execution_count": 13,
   "metadata": {},
   "outputs": [
    {
     "data": {
      "text/plain": [
       "KMeans(n_clusters=4, random_state=42)"
      ]
     },
     "execution_count": 13,
     "metadata": {},
     "output_type": "execute_result"
    }
   ],
=======
   "execution_count": null,
   "metadata": {},
   "outputs": [],
>>>>>>> ee76a606b13737ddfbc3075ccd0fc6deab97afeb
   "source": [
    "k = 4  # Choose an appropriate value based on the elbow plot\n",
    "kmeans = KMeans(n_clusters=k, random_state=42)\n",
    "kmeans.fit(data_scaled)"
   ]
  },
  {
   "cell_type": "code",
<<<<<<< HEAD
   "execution_count": 14,
   "metadata": {},
   "outputs": [
    {
     "data": {
      "text/html": [
       "<div>\n",
       "<style scoped>\n",
       "    .dataframe tbody tr th:only-of-type {\n",
       "        vertical-align: middle;\n",
       "    }\n",
       "\n",
       "    .dataframe tbody tr th {\n",
       "        vertical-align: top;\n",
       "    }\n",
       "\n",
       "    .dataframe thead th {\n",
       "        text-align: right;\n",
       "    }\n",
       "</style>\n",
       "<table border=\"1\" class=\"dataframe\">\n",
       "  <thead>\n",
       "    <tr style=\"text-align: right;\">\n",
       "      <th></th>\n",
       "      <th>income</th>\n",
       "      <th>days in hospital</th>\n",
       "      <th>municipality_Denmark</th>\n",
       "      <th>municipality_Greater Copenhagen</th>\n",
       "      <th>gender_Men</th>\n",
       "      <th>gender_Women</th>\n",
       "      <th>ethnicity_Danish</th>\n",
       "      <th>ethnicity_Immigrants and descendants</th>\n",
       "      <th>ethnicity_Non-western immigrants and descendants</th>\n",
       "      <th>age_30-39</th>\n",
       "      <th>age_40-49</th>\n",
       "      <th>age_50-59</th>\n",
       "      <th>age_60-65</th>\n",
       "      <th>education_Higher education</th>\n",
       "      <th>education_No higher education</th>\n",
       "      <th>cluster</th>\n",
       "    </tr>\n",
       "  </thead>\n",
       "  <tbody>\n",
       "    <tr>\n",
       "      <th>6</th>\n",
       "      <td>271510.362</td>\n",
       "      <td>0.215</td>\n",
       "      <td>1</td>\n",
       "      <td>0</td>\n",
       "      <td>1</td>\n",
       "      <td>0</td>\n",
       "      <td>1</td>\n",
       "      <td>0</td>\n",
       "      <td>0</td>\n",
       "      <td>1</td>\n",
       "      <td>0</td>\n",
       "      <td>0</td>\n",
       "      <td>0</td>\n",
       "      <td>1</td>\n",
       "      <td>0</td>\n",
       "      <td>2</td>\n",
       "    </tr>\n",
       "    <tr>\n",
       "      <th>7</th>\n",
       "      <td>218419.246</td>\n",
       "      <td>0.386</td>\n",
       "      <td>1</td>\n",
       "      <td>0</td>\n",
       "      <td>1</td>\n",
       "      <td>0</td>\n",
       "      <td>1</td>\n",
       "      <td>0</td>\n",
       "      <td>0</td>\n",
       "      <td>1</td>\n",
       "      <td>0</td>\n",
       "      <td>0</td>\n",
       "      <td>0</td>\n",
       "      <td>0</td>\n",
       "      <td>1</td>\n",
       "      <td>2</td>\n",
       "    </tr>\n",
       "    <tr>\n",
       "      <th>8</th>\n",
       "      <td>220190.110</td>\n",
       "      <td>0.202</td>\n",
       "      <td>1</td>\n",
       "      <td>0</td>\n",
       "      <td>1</td>\n",
       "      <td>0</td>\n",
       "      <td>0</td>\n",
       "      <td>1</td>\n",
       "      <td>0</td>\n",
       "      <td>1</td>\n",
       "      <td>0</td>\n",
       "      <td>0</td>\n",
       "      <td>0</td>\n",
       "      <td>1</td>\n",
       "      <td>0</td>\n",
       "      <td>2</td>\n",
       "    </tr>\n",
       "    <tr>\n",
       "      <th>9</th>\n",
       "      <td>169031.486</td>\n",
       "      <td>0.359</td>\n",
       "      <td>1</td>\n",
       "      <td>0</td>\n",
       "      <td>1</td>\n",
       "      <td>0</td>\n",
       "      <td>0</td>\n",
       "      <td>1</td>\n",
       "      <td>0</td>\n",
       "      <td>1</td>\n",
       "      <td>0</td>\n",
       "      <td>0</td>\n",
       "      <td>0</td>\n",
       "      <td>0</td>\n",
       "      <td>1</td>\n",
       "      <td>2</td>\n",
       "    </tr>\n",
       "    <tr>\n",
       "      <th>10</th>\n",
       "      <td>190374.958</td>\n",
       "      <td>0.266</td>\n",
       "      <td>1</td>\n",
       "      <td>0</td>\n",
       "      <td>1</td>\n",
       "      <td>0</td>\n",
       "      <td>0</td>\n",
       "      <td>0</td>\n",
       "      <td>1</td>\n",
       "      <td>1</td>\n",
       "      <td>0</td>\n",
       "      <td>0</td>\n",
       "      <td>0</td>\n",
       "      <td>1</td>\n",
       "      <td>0</td>\n",
       "      <td>2</td>\n",
       "    </tr>\n",
       "  </tbody>\n",
       "</table>\n",
       "</div>"
      ],
      "text/plain": [
       "        income  days in hospital  municipality_Denmark  \\\n",
       "6   271510.362             0.215                     1   \n",
       "7   218419.246             0.386                     1   \n",
       "8   220190.110             0.202                     1   \n",
       "9   169031.486             0.359                     1   \n",
       "10  190374.958             0.266                     1   \n",
       "\n",
       "    municipality_Greater Copenhagen  gender_Men  gender_Women  \\\n",
       "6                                 0           1             0   \n",
       "7                                 0           1             0   \n",
       "8                                 0           1             0   \n",
       "9                                 0           1             0   \n",
       "10                                0           1             0   \n",
       "\n",
       "    ethnicity_Danish  ethnicity_Immigrants and descendants  \\\n",
       "6                  1                                     0   \n",
       "7                  1                                     0   \n",
       "8                  0                                     1   \n",
       "9                  0                                     1   \n",
       "10                 0                                     0   \n",
       "\n",
       "    ethnicity_Non-western immigrants and descendants  age_30-39  age_40-49  \\\n",
       "6                                                  0          1          0   \n",
       "7                                                  0          1          0   \n",
       "8                                                  0          1          0   \n",
       "9                                                  0          1          0   \n",
       "10                                                 1          1          0   \n",
       "\n",
       "    age_50-59  age_60-65  education_Higher education  \\\n",
       "6           0          0                           1   \n",
       "7           0          0                           0   \n",
       "8           0          0                           1   \n",
       "9           0          0                           0   \n",
       "10          0          0                           1   \n",
       "\n",
       "    education_No higher education  cluster  \n",
       "6                               0        2  \n",
       "7                               1        2  \n",
       "8                               0        2  \n",
       "9                               1        2  \n",
       "10                              0        2  "
      ]
     },
     "execution_count": 14,
     "metadata": {},
     "output_type": "execute_result"
    }
   ],
=======
   "execution_count": null,
   "metadata": {},
   "outputs": [],
>>>>>>> ee76a606b13737ddfbc3075ccd0fc6deab97afeb
   "source": [
    "df_cluster['cluster'] = kmeans.labels_\n",
    "df_cluster.head()"
   ]
  },
  {
   "cell_type": "code",
<<<<<<< HEAD
   "execution_count": 15,
=======
   "execution_count": null,
>>>>>>> ee76a606b13737ddfbc3075ccd0fc6deab97afeb
   "metadata": {},
   "outputs": [],
   "source": [
    "cluster_sizes = df_cluster['cluster'].value_counts()\n",
    "print(cluster_sizes)"
   ]
  },
  {
   "cell_type": "code",
<<<<<<< HEAD
   "execution_count": 16,
=======
   "execution_count": null,
>>>>>>> ee76a606b13737ddfbc3075ccd0fc6deab97afeb
   "metadata": {},
   "outputs": [],
   "source": [
    "# Create a DataFrame with the scaled data\n",
    "data_scaled_df = pd.DataFrame(df_cluster, columns=df_cluster.columns)\n",
    "\n",
    "# Add the cluster labels\n",
    "data_scaled_df['cluster'] = kmeans.labels_\n",
    "\n",
    "# Calculate the cluster centroids in the scaled data\n",
    "centroids_scaled = data_scaled_df.groupby('cluster').mean().reset_index()\n",
    "\n",
    "# Transform the centroids back to the original data scale\n",
    "centroids = scaler.inverse_transform(centroids_scaled.drop('cluster', axis=1))\n",
    "\n",
    "# Create a DataFrame with the original-scale centroids\n",
    "centroids_df = pd.DataFrame(centroids, columns=df_cluster.columns[:-1])\n",
    "print(centroids_df)"
   ]
  },
  {
   "cell_type": "code",
<<<<<<< HEAD
   "execution_count": 17,
=======
   "execution_count": null,
>>>>>>> ee76a606b13737ddfbc3075ccd0fc6deab97afeb
   "metadata": {},
   "outputs": [],
   "source": [
    "# Create a list of age group column names to loop through\n",
    "age_cols = ['age_30-39', 'age_40-49', 'age_50-59', 'age_60-65']\n",
    "\n",
    "# Loop through the age group columns and create scatter plots for each one\n",
    "for age_col in age_cols:\n",
    "    plt.figure(figsize=(10, 6))\n",
    "    sns.scatterplot(x=age_col, y='income', hue='cluster', data=df_cluster, palette='Set1')\n",
    "    plt.xlabel(age_col)\n",
    "    plt.ylabel('Income')\n",
    "    plt.title('K-Means Clustering (k = {})'.format(k))\n",
    "    plt.show()"
   ]
  },
  {
   "cell_type": "code",
<<<<<<< HEAD
   "execution_count": 18,
=======
   "execution_count": null,
>>>>>>> ee76a606b13737ddfbc3075ccd0fc6deab97afeb
   "metadata": {},
   "outputs": [],
   "source": [
    "# Calculate the cluster centroids in the scaled data\n",
    "centroids_scaled = data_scaled_df.groupby('cluster').mean().reset_index()\n",
    "\n",
    "# Transform the centroids back to the original data scale\n",
    "centroids = scaler.inverse_transform(centroids_scaled.drop('cluster', axis=1))\n",
    "\n",
    "# Create a DataFrame with the original-scale centroids\n",
    "centroids_df = pd.DataFrame(centroids, columns=df_cluster.columns[:-1])\n",
    "print(centroids_df)"
   ]
  },
  {
   "cell_type": "code",
<<<<<<< HEAD
   "execution_count": 19,
=======
   "execution_count": null,
>>>>>>> ee76a606b13737ddfbc3075ccd0fc6deab97afeb
   "metadata": {},
   "outputs": [],
   "source": [
    "# Create a dictionary that maps each cluster label to a unique color\n",
    "colors = cm.rainbow(np.linspace(0, 1, k))\n",
    "color_dict = {i: colors[i] for i in range(k)}\n",
    "\n",
    "# Plot the scatter plot with color and cluster labels\n",
    "plt.scatter(df_cluster[\"income\"], df_cluster[\"days in hospital\"], c=df_cluster[\"cluster\"], cmap=cm.rainbow)\n",
    "plt.xlabel(\"Income\")\n",
    "plt.ylabel(\"Days in Hospital\")\n",
    "plt.title(\"K-Means Clustering (k = {})\".format(k))\n",
    "\n",
    "# Add a legend with color and cluster labels\n",
    "legend_elements = [plt.scatter([], [], marker=\"o\", s=50, color=color_dict[i], label=\"Cluster {}\".format(i)) for i in range(k)]\n",
    "plt.legend(handles=legend_elements, title=\"Clusters\")\n",
    "\n",
    "# # Add cluster labels\n",
    "# for i, row in df_cluster.iterrows():\n",
    "#     plt.text(row[\"income\"], row[\"days in hospital\"], str(row[\"cluster\"]), color=\"black\")\n",
    "\n",
    "plt.show()"
   ]
  },
  {
   "attachments": {},
   "cell_type": "markdown",
   "metadata": {},
   "source": [
    "## Liner Regression "
   ]
  },
  {
   "cell_type": "code",
<<<<<<< HEAD
   "execution_count": 20,
   "metadata": {},
   "outputs": [
    {
     "data": {
      "text/html": [
       "<div>\n",
       "<style scoped>\n",
       "    .dataframe tbody tr th:only-of-type {\n",
       "        vertical-align: middle;\n",
       "    }\n",
       "\n",
       "    .dataframe tbody tr th {\n",
       "        vertical-align: top;\n",
       "    }\n",
       "\n",
       "    .dataframe thead th {\n",
       "        text-align: right;\n",
       "    }\n",
       "</style>\n",
       "<table border=\"1\" class=\"dataframe\">\n",
       "  <thead>\n",
       "    <tr style=\"text-align: right;\">\n",
       "      <th></th>\n",
       "      <th>municipality</th>\n",
       "      <th>municipality code</th>\n",
       "      <th>year</th>\n",
       "      <th>gender</th>\n",
       "      <th>age</th>\n",
       "      <th>ethnicity</th>\n",
       "      <th>education</th>\n",
       "      <th>income</th>\n",
       "      <th>income observations</th>\n",
       "      <th>weighted_inc_mun</th>\n",
       "      <th>...</th>\n",
       "      <th>weighted_days_age_mun</th>\n",
       "      <th>weighted_days_eth_mun</th>\n",
       "      <th>weighted_days_edu_mun</th>\n",
       "      <th>number of hospitalizations</th>\n",
       "      <th>number of hospitalizations observations</th>\n",
       "      <th>weighted_hospitalizations_mun</th>\n",
       "      <th>weighted_hosp_gen_mun</th>\n",
       "      <th>weighted_hosp_age_mun</th>\n",
       "      <th>weighted_hosp_eth_mun</th>\n",
       "      <th>weighted_hosp_edu_mun</th>\n",
       "    </tr>\n",
       "  </thead>\n",
       "  <tbody>\n",
       "    <tr>\n",
       "      <th>6</th>\n",
       "      <td>Denmark</td>\n",
       "      <td>0</td>\n",
       "      <td>2005</td>\n",
       "      <td>Men</td>\n",
       "      <td>30-39</td>\n",
       "      <td>Danish</td>\n",
       "      <td>Higher education</td>\n",
       "      <td>271510.362</td>\n",
       "      <td>98566.0</td>\n",
       "      <td>10707.481497</td>\n",
       "      <td>...</td>\n",
       "      <td>0.028632</td>\n",
       "      <td>0.005907</td>\n",
       "      <td>0.023621</td>\n",
       "      <td>0.056</td>\n",
       "      <td>103551.0</td>\n",
       "      <td>0.001415</td>\n",
       "      <td>0.002864</td>\n",
       "      <td>0.007458</td>\n",
       "      <td>0.001539</td>\n",
       "      <td>0.006177</td>\n",
       "    </tr>\n",
       "    <tr>\n",
       "      <th>7</th>\n",
       "      <td>Denmark</td>\n",
       "      <td>0</td>\n",
       "      <td>2005</td>\n",
       "      <td>Men</td>\n",
       "      <td>30-39</td>\n",
       "      <td>Danish</td>\n",
       "      <td>No higher education</td>\n",
       "      <td>218419.246</td>\n",
       "      <td>229065.0</td>\n",
       "      <td>20018.126583</td>\n",
       "      <td>...</td>\n",
       "      <td>0.123671</td>\n",
       "      <td>0.025516</td>\n",
       "      <td>0.030419</td>\n",
       "      <td>0.096</td>\n",
       "      <td>249125.0</td>\n",
       "      <td>0.005835</td>\n",
       "      <td>0.011811</td>\n",
       "      <td>0.030758</td>\n",
       "      <td>0.006346</td>\n",
       "      <td>0.007568</td>\n",
       "    </tr>\n",
       "    <tr>\n",
       "      <th>8</th>\n",
       "      <td>Denmark</td>\n",
       "      <td>0</td>\n",
       "      <td>2005</td>\n",
       "      <td>Men</td>\n",
       "      <td>30-39</td>\n",
       "      <td>Immigrants and descendants</td>\n",
       "      <td>Higher education</td>\n",
       "      <td>220190.110</td>\n",
       "      <td>5813.0</td>\n",
       "      <td>512.120219</td>\n",
       "      <td>...</td>\n",
       "      <td>0.001691</td>\n",
       "      <td>0.006485</td>\n",
       "      <td>0.001395</td>\n",
       "      <td>0.062</td>\n",
       "      <td>6508.0</td>\n",
       "      <td>0.000098</td>\n",
       "      <td>0.000199</td>\n",
       "      <td>0.000519</td>\n",
       "      <td>0.001990</td>\n",
       "      <td>0.000430</td>\n",
       "    </tr>\n",
       "    <tr>\n",
       "      <th>9</th>\n",
       "      <td>Denmark</td>\n",
       "      <td>0</td>\n",
       "      <td>2005</td>\n",
       "      <td>Men</td>\n",
       "      <td>30-39</td>\n",
       "      <td>Immigrants and descendants</td>\n",
       "      <td>No higher education</td>\n",
       "      <td>169031.486</td>\n",
       "      <td>14256.0</td>\n",
       "      <td>964.137750</td>\n",
       "      <td>...</td>\n",
       "      <td>0.007378</td>\n",
       "      <td>0.028302</td>\n",
       "      <td>0.001815</td>\n",
       "      <td>0.094</td>\n",
       "      <td>15981.0</td>\n",
       "      <td>0.000366</td>\n",
       "      <td>0.000742</td>\n",
       "      <td>0.001932</td>\n",
       "      <td>0.007411</td>\n",
       "      <td>0.000475</td>\n",
       "    </tr>\n",
       "    <tr>\n",
       "      <th>10</th>\n",
       "      <td>Denmark</td>\n",
       "      <td>0</td>\n",
       "      <td>2005</td>\n",
       "      <td>Men</td>\n",
       "      <td>30-39</td>\n",
       "      <td>Non-western immigrants and descendants</td>\n",
       "      <td>Higher education</td>\n",
       "      <td>190374.958</td>\n",
       "      <td>3201.0</td>\n",
       "      <td>243.819977</td>\n",
       "      <td>...</td>\n",
       "      <td>0.001208</td>\n",
       "      <td>0.007099</td>\n",
       "      <td>0.000997</td>\n",
       "      <td>0.079</td>\n",
       "      <td>3532.0</td>\n",
       "      <td>0.000068</td>\n",
       "      <td>0.000138</td>\n",
       "      <td>0.000359</td>\n",
       "      <td>0.002188</td>\n",
       "      <td>0.000297</td>\n",
       "    </tr>\n",
       "  </tbody>\n",
       "</table>\n",
       "<p>5 rows × 28 columns</p>\n",
       "</div>"
      ],
      "text/plain": [
       "   municipality  municipality code  year gender    age  \\\n",
       "6       Denmark                  0  2005    Men  30-39   \n",
       "7       Denmark                  0  2005    Men  30-39   \n",
       "8       Denmark                  0  2005    Men  30-39   \n",
       "9       Denmark                  0  2005    Men  30-39   \n",
       "10      Denmark                  0  2005    Men  30-39   \n",
       "\n",
       "                                 ethnicity            education      income  \\\n",
       "6                                   Danish     Higher education  271510.362   \n",
       "7                                   Danish  No higher education  218419.246   \n",
       "8               Immigrants and descendants     Higher education  220190.110   \n",
       "9               Immigrants and descendants  No higher education  169031.486   \n",
       "10  Non-western immigrants and descendants     Higher education  190374.958   \n",
       "\n",
       "    income observations  weighted_inc_mun  ...  weighted_days_age_mun  \\\n",
       "6               98566.0      10707.481497  ...               0.028632   \n",
       "7              229065.0      20018.126583  ...               0.123671   \n",
       "8                5813.0        512.120219  ...               0.001691   \n",
       "9               14256.0        964.137750  ...               0.007378   \n",
       "10               3201.0        243.819977  ...               0.001208   \n",
       "\n",
       "    weighted_days_eth_mun  weighted_days_edu_mun  number of hospitalizations  \\\n",
       "6                0.005907               0.023621                       0.056   \n",
       "7                0.025516               0.030419                       0.096   \n",
       "8                0.006485               0.001395                       0.062   \n",
       "9                0.028302               0.001815                       0.094   \n",
       "10               0.007099               0.000997                       0.079   \n",
       "\n",
       "    number of hospitalizations observations  weighted_hospitalizations_mun  \\\n",
       "6                                  103551.0                       0.001415   \n",
       "7                                  249125.0                       0.005835   \n",
       "8                                    6508.0                       0.000098   \n",
       "9                                   15981.0                       0.000366   \n",
       "10                                   3532.0                       0.000068   \n",
       "\n",
       "    weighted_hosp_gen_mun  weighted_hosp_age_mun  weighted_hosp_eth_mun  \\\n",
       "6                0.002864               0.007458               0.001539   \n",
       "7                0.011811               0.030758               0.006346   \n",
       "8                0.000199               0.000519               0.001990   \n",
       "9                0.000742               0.001932               0.007411   \n",
       "10               0.000138               0.000359               0.002188   \n",
       "\n",
       "    weighted_hosp_edu_mun  \n",
       "6                0.006177  \n",
       "7                0.007568  \n",
       "8                0.000430  \n",
       "9                0.000475  \n",
       "10               0.000297  \n",
       "\n",
       "[5 rows x 28 columns]"
      ]
     },
     "execution_count": 20,
     "metadata": {},
     "output_type": "execute_result"
    }
   ],
=======
   "execution_count": null,
   "metadata": {},
   "outputs": [],
>>>>>>> ee76a606b13737ddfbc3075ccd0fc6deab97afeb
   "source": [
    "# Drop rows with missing values\n",
    "df_reg = df.dropna()\n",
    "df_reg.head()\n",
    "# df_reg.shape"
   ]
  },
  {
   "cell_type": "code",
<<<<<<< HEAD
   "execution_count": 21,
   "metadata": {},
   "outputs": [
    {
     "name": "stderr",
     "output_type": "stream",
     "text": [
      "/var/folders/h6/f8twklt56rdg96n68wjjppdm0000gn/T/ipykernel_64075/4183504272.py:6: SettingWithCopyWarning: \n",
      "A value is trying to be set on a copy of a slice from a DataFrame.\n",
      "Try using .loc[row_indexer,col_indexer] = value instead\n",
      "\n",
      "See the caveats in the documentation: https://pandas.pydata.org/pandas-docs/stable/user_guide/indexing.html#returning-a-view-versus-a-copy\n",
      "  df_reg['age'] = ordinal_enc.fit_transform(df_reg[['age']])\n",
      "/var/folders/h6/f8twklt56rdg96n68wjjppdm0000gn/T/ipykernel_64075/4183504272.py:9: SettingWithCopyWarning: \n",
      "A value is trying to be set on a copy of a slice from a DataFrame.\n",
      "Try using .loc[row_indexer,col_indexer] = value instead\n",
      "\n",
      "See the caveats in the documentation: https://pandas.pydata.org/pandas-docs/stable/user_guide/indexing.html#returning-a-view-versus-a-copy\n",
      "  df_reg['education'] = label_enc.fit_transform(df_reg['education'])\n"
     ]
    }
   ],
=======
   "execution_count": null,
   "metadata": {},
   "outputs": [],
>>>>>>> ee76a606b13737ddfbc3075ccd0fc6deab97afeb
   "source": [
    "# assuming df is your DataFrame\n",
    "ordinal_enc = OrdinalEncoder()\n",
    "label_enc = LabelEncoder()\n",
    "\n",
    "# apply ordinal encoding to age\n",
    "df_reg['age'] = ordinal_enc.fit_transform(df_reg[['age']])\n",
    "\n",
    "# apply ordinal label encoding to education\n",
    "df_reg['education'] = label_enc.fit_transform(df_reg['education'])\n",
    "\n",
    "# apply one-hot encoding to gender and ethnicity\n",
    "df_reg = pd.get_dummies(df_reg, columns=['gender', 'ethnicity', 'municipality'])"
   ]
  },
  {
   "cell_type": "code",
<<<<<<< HEAD
   "execution_count": 22,
=======
   "execution_count": null,
>>>>>>> ee76a606b13737ddfbc3075ccd0fc6deab97afeb
   "metadata": {},
   "outputs": [],
   "source": [
    "# Define our features and target variable\n",
    "X = df_reg[['income', 'age', 'education', 'gender_Men', 'gender_Women',\n",
    "            'ethnicity_Danish', 'ethnicity_Immigrants and descendants',\n",
    "            'ethnicity_Non-western immigrants and descendants',\n",
    "            'municipality_Albertslund', 'municipality_Ballerup',\n",
    "            'municipality_Brøndby', 'municipality_Copenhagen',\n",
    "            'municipality_Denmark', 'municipality_Dragør',\n",
    "            'municipality_Frederiksberg', 'municipality_Furesø',\n",
    "            'municipality_Gentofte', 'municipality_Gladsaxe',\n",
    "            'municipality_Glostrup', 'municipality_Greater Copenhagen',\n",
    "            'municipality_Greve', 'municipality_Herlev', 'municipality_Hvidovre',\n",
    "            'municipality_Høje-Taastrup', 'municipality_Ishøj',\n",
    "            'municipality_Lyngby-Taarbæk', 'municipality_Rudersdal',\n",
    "            'municipality_Rødovre', 'municipality_Tårnby',\n",
    "            'municipality_Vallensbæk']]\n",
    "y = df_reg['days in hospital']"
   ]
  },
  {
   "cell_type": "code",
<<<<<<< HEAD
   "execution_count": 23,
   "metadata": {},
   "outputs": [],
   "source": [
    "# Split the data into training and test sets\n",
    "X_train, X_test, y_train, y_test = train_test_split(X, y, test_size=0.2, random_state=42)"
   ]
  },
  {
   "cell_type": "code",
   "execution_count": 24,
   "metadata": {},
   "outputs": [],
   "source": [
    "# Initialize GridSearchCV for Ridge Regression\n",
    "grid = GridSearchCV(estimator=Ridge(), param_grid={'alpha': [0.1, 1, 10]}, cv=10, scoring='neg_mean_squared_error')\n",
    "\n",
    "# Fit on the training data\n",
    "grid.fit(X_train, y_train)\n",
    "\n",
    "# Get the best alpha\n",
    "best_alpha = grid.best_params_['alpha']\n",
    "\n",
    "model = Ridge(alpha=best_alpha)"
   ]
  },
  {
   "cell_type": "code",
   "execution_count": 25,
   "metadata": {},
   "outputs": [
    {
     "name": "stdout",
     "output_type": "stream",
     "text": [
      "linear_regression: Mean MSE: 0.2179108656434698, Standard deviation: 0.018650173067757247\n",
      "ridge_regression: Mean MSE: 0.21788108328496075, Standard deviation: 0.018628350012267546\n",
      "polynomial_regression_degree_2: Mean MSE: 0.09504752330956028, Standard deviation: 0.018356021361190716\n"
     ]
    }
   ],
=======
   "execution_count": null,
   "metadata": {},
   "outputs": [],
>>>>>>> ee76a606b13737ddfbc3075ccd0fc6deab97afeb
   "source": [
    "# Define the models and their hyperparameters\n",
    "models_and_parameters = {\n",
    "    'linear_regression': {\n",
    "        'model': LinearRegression(),\n",
    "        'params': {}\n",
    "    },\n",
    "    'ridge_regression': {\n",
    "        'model': Ridge(),\n",
    "        'params': {'alpha': [0.1, 1, 10]}\n",
    "    },\n",
    "    'polynomial_regression_degree_2': {\n",
    "        'model': make_pipeline(PolynomialFeatures(2), LinearRegression()),\n",
    "        'params': {}\n",
    "    }\n",
    "}\n",
    "\n",
    "\n",
    "# Initialize KFold for outer loop\n",
    "outer_cv = KFold(n_splits=10, shuffle=True, random_state=42)\n",
    "\n",
    "# Loop over the models\n",
    "for model_name, model_info in models_and_parameters.items():\n",
    "    # Initialize GridSearchCV for inner loop\n",
    "    grid = GridSearchCV(estimator=model_info['model'], param_grid=model_info['params'], cv=10, scoring='neg_mean_squared_error')\n",
    "\n",
    "    # Fit and predict on the outer loop, then take the negative mean squared error\n",
    "    nested_score = cross_val_score(grid, X=X_train, y=y_train, cv=outer_cv, scoring='neg_mean_squared_error')\n",
    "\n",
    "    # Print the model's mean MSE and standard deviation\n",
    "    print(f'{model_name}: Mean MSE: {-nested_score.mean()}, Standard deviation: {nested_score.std()}')"
   ]
  },
  {
   "attachments": {},
   "cell_type": "markdown",
   "metadata": {},
   "source": [
    "\n",
    "The Mean Squared Error (MSE) is a measure of how well the model can predict the target variable. A lower MSE means the model has better predictive accuracy.\n",
    "\n",
    "From the results, the 'polynomial_regression_degree_2' model has the lowest Mean MSE (0.095), which suggests it has the best predictive accuracy among the three models on your training data.\n",
    "\n",
    "The Standard deviation indicates the variability of the MSE scores obtained across different folds in the cross-validation. A lower standard deviation means the model's performance is more consistent across different subsets of the dataset.\n",
    "\n",
    "In our results, 'polynomial_regression_degree_2' has the lowest standard deviation, suggesting its performance is the most consistent among the three models.\n",
    "\n",
    "So, based on these results, the 'polynomial_regression_degree_2' model seems to be the best model for our data. We might proceed with this model for further analysis or prediction.\n",
    "\n",
    "However, the results are based on our training data. It's a good practice to validate the model on our test set (X_test, y_test) to see how it performs on unseen data before finalizing it. Additionally, a more complex model (like a polynomial regression of degree 2) may perform better on the training data but could potentially overfit and perform worse on new, unseen data compared to a simpler model. Always we have to validate model performance on a separate test set."
   ]
  },
  {
   "cell_type": "code",
   "execution_count": 26,
   "metadata": {},
   "outputs": [
    {
     "data": {
      "image/png": "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",
      "text/plain": [
       "<Figure size 1000x700 with 3 Axes>"
      ]
     },
     "metadata": {},
     "output_type": "display_data"
    },
    {
     "data": {
      "image/png": "iVBORw0KGgoAAAANSUhEUgAAA94AAAKyCAYAAAAjLAa+AAAAOXRFWHRTb2Z0d2FyZQBNYXRwbG90bGliIHZlcnNpb24zLjYuMiwgaHR0cHM6Ly9tYXRwbG90bGliLm9yZy8o6BhiAAAACXBIWXMAAA9hAAAPYQGoP6dpAAEAAElEQVR4nOydd1hT5xfHvyEkgbCHKCpLQQEn1g04695abbW2KGhtXW2tVal7tGq1v1q1altRq1ZrW7e1WvegzkrdWlEEBw6QnZB5f3/Em2YnICEBzud5ePTe3PHem5v3vuc953wPh2EYBgRBEARBEARBEARBWAUHWzeAIAiCIAiCIAiCICozZHgTBEEQBEEQBEEQhBUhw5sgCIIgCIIgCIIgrAgZ3gRBEARBEARBEARhRcjwJgiCIAiCIAiCIAgrQoY3QRAEQRAEQRAEQVgRMrwJgiAIgiAIgiAIwoqQ4U0QBEEQBEEQBEEQVoQMb4IgCIIgCIIgCIKwImR4W5ENGzaAw+Go/xwdHVG7dm2MHDkSjx49Kpc2BAcHY8SIEerl48ePg8Ph4Pjx4yU6zl9//YU5c+YgNze3TNsHACNGjEBwcHCZH7e0yGQy1KhRAxwOB7/99lupj7NlyxYsW7as7BpmAku+148//hgcDge3bt0yus306dPB4XBw6dIli8+t+4zZI/PmzUNkZCSUSqXZbe/fvw8Oh4MNGzaY3XbOnDngcDhl0EKipJS2LysJMpkMdevWLbffMUHYG4bGMf7+/njrrbdw584dq523JH1rebyDyrqvl8lkCA8Px6JFi8r8/BXhnVxZKY/x7JEjR+Dq6lpudgRRtpDhXQ6sX78eZ86cwaFDhzB69Ghs3boVsbGxKCoqKve2NGvWDGfOnEGzZs1KtN9ff/2FuXPnWsXwtjf27duHp0+fAgCSkpJKfZzyNLwtISEhAQCwbt06g58rlUps3LgRTZs2LfHzYc88fvwYX375JebNmwcHB/Ndnr+/P86cOYNevXqVQ+uI0lLavqwk8Hg8zJo1C/PmzUN2drbVzkMQ9g47jjl8+DDGjx+PPXv2ICYmBjk5OVY536hRo3DmzBmrHNseWLVqFXJycjBhwgSLtq/s96OyMHPmTOzcudOq5+jcuTNatmyJzz77zKrnIawDGd7lQMOGDdG6dWt07NgRs2fPxpQpU5CWloZdu3YZ3UckElmlLe7u7mjdujXc3d2tcvzKQFJSEvh8Prp06YI///wTDx8+tHWTyoSGDRuiZcuW2LRpE+Ryud7n7LWyBnpl4ZtvvoGnpycGDhxocjuFQgGJRAKBQIDWrVujWrVq5dRC6yAWi8vtXNbqr0xRXn3Z0KFDweFw8N1331n1PARhz7DjmA4dOmD69OmYNm0anj17ZnIc8yrUrl0brVu3tsqxbY1cLseSJUsQHx8PFxcXk9uyfWtluB8ymczg2MMaMAxTru9Alrp16yIqKsrq5xk3bhx++uknPHjwwOrnIsoWMrxtANt5pqenA1CFpri6uuLq1avo2rUr3Nzc0LlzZwCAVCrFggULEB4eDoFAgGrVqmHkyJF4/vy51jFlMhmmTJmCGjVqQCgUIiYmBufPn9c7t7HwzHPnzqFPnz7w8fGBk5MT6tati48++giAKsTp008/BQCEhISoQ840j7Ft2za0adMGLi4ucHV1Rbdu3ZCSkqJ3/g0bNqB+/foQCASIiIjAxo0bLbpn/fv3R1BQkMFQ4VatWml5vX799Ve0atUKHh4eEAqFqFOnDuLj4y06z+PHj3HgwAH06dMHn376KZRKpdGQ4y1btqBNmzZwdXWFq6srmjZtqvaQd+jQAb///jvS09O1wvQA49+BoRDnixcv4q233kJwcDCcnZ0RHByMoUOHqp+dkpKQkIAnT57gjz/+0Pts/fr1EAgEePvtt1FcXIxPPvkETZs2hYeHB7y9vdGmTRvs3r3b7DnY0MT79+9rrTd23YcPH0bnzp3h7u4OoVCI6OhoHDlyRGub58+f47333kNAQID6dxAdHY3Dhw+bbItUKkVSUhKGDRum5e1m7/WXX36JBQsWICQkBAKBAMeOHTMaav7777+jadOmEAgECAkJwdKlSw2eMzc3FwkJCfD29oarqyt69eqFe/fugcPhYM6cOVrb3rlzB8OGDYOfn5/6N/Htt9+avCZDBAcHo3fv3tixYweioqLg5OSEuXPnAgCePHmCMWPGoHbt2uDz+QgJCcHcuXP1BkAPHz7EG2+8ATc3N3h6euLtt9/GhQsX9O5FWfRXR48eRYcOHeDj4wNnZ2cEBgZi0KBBWgb86tWr0aRJE7i6usLNzQ3h4eFaM/zGnqc9e/agTZs2EAqFcHNzQ5cuXfQ8RWzY5vXr1zF06FB4eHigevXqiI+PR15enta2fD4fb775Jr7//nswDFOyL4YgKinNmzcHAHV0GMvFixfRt29feHt7w8nJCVFRUfjll1+0thGJRJg8eTJCQkLg5OQEb29vNG/eHFu3blVvYyi02tJxjrGwbEPvpm3btqFr167w9/eHs7MzIiIiMG3aNIsiEi3pxwyxZ88ePHr0CO+8847Bdl+6dAlvvPEGvLy8ULdu3Ve+HwBw+vRptGnTBk5OTqhVqxZmzpyJtWvXGnxXWzqeMwXbP2/atAmffPIJatWqBYFAgNTUVACWvfcBYPfu3WjcuDEEAgHq1KmDb775xuC94HA4GD9+PNasWYOIiAgIBAL8+OOPACx7zyqVSixYsAD169eHs7MzPD090bhxY3zzzTfqbSwZhxgKNS8uLkZiYiJCQkLA5/NRq1YtjBs3Ti+ClH2PHzhwAM2aNYOzszPCw8MNRin26dMHrq6u+OGHH8x/GYRd4WjrBlRF2I5H06MmlUrRt29fjBkzBtOmTYNcLodSqUS/fv1w6tQpTJkyBW3btkV6ejpmz56NDh064OLFi3B2dgYAjB49Ghs3bsTkyZPRpUsXXLt2DQMHDkRBQYHZ9hw8eBB9+vRBREQE/ve//yEwMBD379/Hn3/+CUAV4vTixQusWLECO3bsgL+/PwAgMjISAPDFF19gxowZGDlyJGbMmAGpVIolS5YgNjYW58+fV2+3YcMGjBw5Ev369cNXX32FvLw8zJkzBxKJxGwIcHx8PPr164ejR4/i9ddfV6+/desWzp8/j+XLlwMAzpw5gzfffBNvvvkm5syZAycnJ6Snp+Po0aMWfTcbNmyAQqFAfHw8Xn/9dQQFBWHdunXq3GeWWbNmYf78+Rg4cCA++eQTeHh44Nq1a2qDeNWqVXjvvfdw9+7dVwo7un//PurXr4+33noL3t7eyMzMxOrVq9GiRQvcuHEDvr6+JTre0KFD8fHHH2PdunXo06ePen1OTg52796NAQMGwMvLC3l5eXjx4gUmT56MWrVqQSqV4vDhwxg4cCDWr1+Pd999t9TXpMnmzZvx7rvvol+/fvjxxx/B4/Hw3XffoVu3bjh48KDaoHvnnXdw6dIlfP7556hXrx5yc3Nx6dIls+G/586dQ3Z2Njp27Gjw8+XLl6NevXpYunQp3N3dERYWZnC7I0eOoF+/fmjTpg1+/vlnKBQKfPnll3qDTqVSiT59+uDixYuYM2eOOhy6e/fuese8ceMG2rZti8DAQHz11VeoUaMGDh48iIkTJyIrKwuzZ8+25BaquXTpEm7evIkZM2YgJCQELi4uePLkCVq2bAkHBwfMmjULdevWxZkzZ7BgwQLcv38f69evBwAUFRWhY8eOePHiBRYvXozQ0FAcOHAAb775psFzvUp/df/+ffTq1QuxsbFYt24dPD098ejRIxw4cABSqRRCoRA///wzxo4diwkTJmDp0qVwcHBAamoqbty4YfIebNmyBW+//Ta6du2KrVu3QiKR4Msvv0SHDh1w5MgRxMTEaG0/aNAgvPnmm0hISMDVq1eRmJgIQD8do0OHDli9ejWuXbuGRo0aleh7IYjKSFpaGgCgXr166nXHjh1D9+7d0apVK6xZswYeHh74+eef8eabb0IkEqnzjidNmoRNmzZhwYIFiIqKQlFREa5du2a2P3+VcY4x7ty5g549e+Kjjz6Ci4sLbt26hcWLF+P8+fMmxw2W9GPG+P333+Hn56ceG+kycOBAvPXWW3j//fdNTgBYej+uXLmCLl26oF69evjxxx8hFAqxZs0abN68We+Ylo7nLCUxMRFt2rTBmjVr4ODgAD8/P4vf+wcOHMDAgQPRrl07bNu2DXK5HEuXLtV777Ls2rULp06dwqxZs1CjRg34+flZ/J798ssvMWfOHMyYMQPt2rWDTCbDrVu3tIzj0oxDGIZB//79ceTIESQmJiI2NhZXrlzB7NmzcebMGZw5cwYCgUC9/eXLl/HJJ59g2rRpqF69OtauXYuEhASEhoaiXbt26u34fD7atm2L33//HfPmzSvRd0LYGIawGuvXr2cAMGfPnmVkMhlTUFDA7Nu3j6lWrRrj5ubGPHnyhGEYhomLi2MAMOvWrdPaf+vWrQwAZvv27VrrL1y4wABgVq1axTAMw9y8eZMBwHz88cda2/30008MACYuLk697tixYwwA5tixY+p1devWZerWrcuIxWKj17JkyRIGAJOWlqa1PiMjg3F0dGQmTJigtb6goICpUaMGM2TIEIZhGEahUDA1a9ZkmjVrxiiVSvV29+/fZ3g8HhMUFGT03AzDMDKZjKlevTozbNgwrfVTpkxh+Hw+k5WVxTAMwyxdupQBwOTm5po8niGUSiUTGhrK1KpVi5HL5QzDMMzs2bMZAMyRI0fU2927d4/hcrnM22+/bfJ4vXr1Mnhdhr4DhmGYtLQ0BgCzfv16o8eUy+VMYWEh4+LiwnzzzTdmj2mIuLg4hsfjMU+fPlWvW7FiBQOAOXTokNHzymQyJiEhgYmKitL6LCgoSOsZY5973WdFt41FRUWMt7c306dPH63tFAoF06RJE6Zly5bqda6ursxHH31k9tp0Wbx4MQNA/VtjYe913bp1GalUavAzze+hVatWTM2aNbV+I/n5+Yy3tzej2Y3+/vvvDABm9erVWsdcuHAhA4CZPXu2el23bt2Y2rVrM3l5eVrbjh8/nnFycmJevHhh8XUGBQUxXC6XuX37ttb6MWPGMK6urkx6errWevZ3cv36dYZhGObbb79lADB//PGH3v669+JV+6vffvuNAcD8888/Rq9n/PjxjKenp8lr1n2e2D6mUaNGjEKhUG9XUFDA+Pn5MW3btlWvY3/XX375pdYxx44dyzg5OWn1UQzDMHfu3DH4vRJEZcfQOObAgQNMjRo1mHbt2jEymUy9bXh4OBMVFaW1jmEYpnfv3oy/v7/6d9mwYUOmf//+Js/L/kZZSjLO0d1X91p0300sSqWSkclkzIkTJxgAzOXLl40e05J+zBgRERFM9+7d9daz55g1a5bRz1hKcj8GDx7MuLi4MM+fP1evUygUTGRkpNb9sHQ8Zwls/9yuXTut9SV577do0YIJCAhgJBKJVlt8fHz0vl8AjIeHh95709L3bO/evZmmTZuavCZLxiFxcXFa474DBw4YfNds27aNAcB8//336nVBQUGMk5OT1vtaLBYz3t7ezJgxY/TONX36dMbBwYEpLCw02SbCvqBQ83KgdevW4PF4cHNzQ+/evVGjRg388ccfqF69utZ2gwYN0lret28fPD090adPH8jlcvVf06ZNUaNGDXWI5bFjxwAAb7/9ttb+Q4YMgaOj6aCGf//9F3fv3kVCQgKcnJxKfG0HDx6EXC7Hu+++q9VGJycntG/fXt3G27dv4/Hjxxg2bJiW5zgoKAht27Y1ex5HR0cMHz4cO3bsUIeCKhQKbNq0Cf369YOPjw8AoEWLFupr/+WXX0qk+njixAmkpqYiLi4OXC4XADBy5EhwOBwtD9ihQ4egUCgwbtw4i49dWgoLCzF16lSEhobC0dERjo6OcHV1RVFREW7evFmqYyYkJEAmk2HTpk3qdevXr0dQUJB6phlQhexHR0fD1dUVjo6O4PF4SEpKKvV5dfnrr7/w4sULxMXFaT07SqUS3bt3x4ULF9Sz/S1btsSGDRuwYMECnD17FjKZzKJzPH78GBwOx2hkQN++fcHj8Uweo6ioCBcuXMDAgQO1fiNubm5aUQOA6hkCVM+fJkOHDtVaLi4uxpEjRzBgwAAIhUKt6+/ZsyeKi4tx9uxZi66RpXHjxlreJ0DVh3Ts2BE1a9bUOkePHj202nvixAm4ubnpeeZ1261Jafurpk2bgs/n47333sOPP/6Ie/fu6R27ZcuWyM3NxdChQ7F7925kZWWZvX62j3nnnXe0ImhcXV0xaNAgnD17Vi8EtG/fvlrLjRs3RnFxMZ49e6a13s/PDwBIRZaosmiOY7p37w4vLy/s3r1bPcZITU3FrVu31OMQ3T4tMzMTt2/fBqD6ff/xxx+YNm0ajh8/blEu7quMc0xx7949DBs2DDVq1ACXywWPx0P79u0BwOS7zpJ+zBiPHz9W9ymG0O1bDVGS+3HixAl06tRJ6z3o4OCg956ydDxXEnSvxdL3flFRES5evIj+/fuDz+er93d1ddV777J06tQJXl5e6uWSvGdbtmyJy5cvY+zYsTh48CDy8/P1jl+acQgbNaGrMj948GC4uLjohdc3bdoUgYGB6mUnJyfUq1fPYHqhn58flEolnjx5YrYdhP1Ahnc5sHHjRly4cAEpKSl4/Pgxrly5gujoaK1thEKhnkjQ06dPkZubCz6fDx6Pp/X35MkT9WCUDXOpUaOG1v6Ojo5qg9QYbO5l7dq1S3VtbMhPixYt9Nq4bds2s200ts4Q8fHxKC4uxs8//wxA9ZLIzMzEyJEj1du0a9cOu3btUr88ateujYYNG2rljhmDzc8eMGAAcnNzkZubCw8PD8TExGD79u3qkKNXvWclYdiwYVi5ciVGjRqFgwcP4vz587hw4QKqVatWauGQ2NhY1KtXTx1mfOXKFVy6dEk9yQAAO3bswJAhQ1CrVi1s3rwZZ86cwYULF9TfQVnAPjtvvPGG3rOzePFiMAyDFy9eAFDlnMXFxWHt2rVo06YNvL298e6775p94YjFYvB4PPVEii5s2oQpcnJyoFQqLXp2s7Oz4ejoCG9vb631upNs2dnZkMvlWLFihd619+zZEwAsMjbNXcvTp0+xd+9evXM0aNBA6xzZ2dl6bTTUbpZX6a/q1q2Lw4cPw8/PD+PGjUPdunVRt25drVy6d955B+vWrUN6ejoGDRoEPz8/tGrVCocOHTJ6/WwfY+g+1KxZE0qlUk+BWbd/ZEP+dH9b7ISLLcR6CMIeYMcxR48exZgxY3Dz5k2tiTm2P588ebLe73/s2LEA/utvli9fjqlTp2LXrl3o2LEjvL290b9/f5PlyV5lnGOMwsJCxMbG4ty5c1iwYAGOHz+OCxcuYMeOHQBM/94t6ceMIRaLTTo6LHkvleR+WNq/WzqeKwm612Lpez8nJwcMw5TovaR7rpK8ZxMTE7F06VKcPXsWPXr0gI+PDzp37oyLFy+qj1eacQg7JtAVa+VwOKhRo4ZemLqhZ1kgEBh8Fum9VDGhHO9yICIiQi1EYgxDQiC+vr7w8fHBgQMHDO7j5uYG4L8f6pMnT1CrVi3153K53GzOFNsZlFa5m51B/e233xAUFGR0O8026mLpbF1kZCRatmyJ9evXY8yYMVi/fj1q1qyJrl27am3Xr18/9OvXDxKJBGfPnsXChQsxbNgwBAcHo02bNgaPnZeXh+3btwP4z2uuy5YtWzB27FitexYQEGBR2zVhO0uJRKK1XvellpeXh3379mH27NmYNm2aer1EIlEbpKUlPj4e06ZNw/nz57FlyxY4ODhozchu3rwZISEh2LZtm9azqdtmQ1h6feyzs2LFCqNqrewL1tfXF8uWLcOyZcuQkZGBPXv2qFV1jf0+2P2kUimKiooMqsdaUhfVy8sLHA7HomfXx8cHcrkcL1680DK+dbfz8vICl8vFO++8YzRyIiQkxGzbNDHWhzRu3Biff/65wX1q1qypbrchUR5jv81X6a8A1eRPbGwsFAoFLl68iBUrVuCjjz5C9erV8dZbbwFQRZuMHDkSRUVFOHnyJGbPno3evXvj33//NdjXsH1MZmam3mePHz+Gg4ODljekJLC/t5JqKhBEZUFzHNOxY0coFAqsXbsWv/32G9544w31byMxMdFoBYn69esDAFxcXDB37lzMnTsXT58+VXu/+/Tpg1u3bhnctyTjHM13kGb+rO476OjRo3j8+DGOHz+u9nIDsLhsqiX9mCF8fX1NvsMteS+V5H74+PgYzIvW7d8tHc+VBN1rsfS9L5PJwOFwLGq3sXOV5D3r6OiISZMmYdKkScjNzcXhw4fx2WefoVu3bnjw4AGEQmGpxiHsmOD58+daxjfDMHjy5InR8aYl0HupYkIebzumd+/eyM7OhkKhQPPmzfX+2JdYhw4dAAA//fST1v6//PKL2dIN9erVQ926dbFu3TqTRpUxT1C3bt3g6OiIu3fvGmwj+6KuX78+/P39sXXrVi1l4PT0dPz111+W3RCoBuPnzp3D6dOnsXfvXq2wcENtbt++PRYvXgwAJlU5t2zZArFYjPnz5+PYsWN6f76+vupw865du4LL5WL16tUm22pslpJVvLxy5YrW+j179mgtczgcMAyjNXAAgLVr10KhUJg8tzni4uLg6OiI7777Dj/99BM6d+6s9aLlcDjg8/laL7InT55YpGpu6fVFR0fD09MTN27cMPrsaIaYsQQGBmL8+PHo0qULLl26ZLIt4eHhAIC7d++abbcxXFxc0LJlS+zYsUPL219QUIC9e/dqbcsO3rZt26a1no3SYBEKhejYsSNSUlLQuHFjg9deWi+OJr1798a1a9dQt25dg+dgDe/27dujoKBAT+1et93mzmVJf6UJl8tFq1at1Aqzhr5PFxcX9OjRA9OnT4dUKsX169cNnr9+/fqoVasWtmzZotXHFBUVYfv27Wql89LAhpGWVFiIICorX375Jby8vDBr1iwolUrUr18fYWFhuHz5stH+XHPyjaV69eoYMWIEhg4ditu3bxtVBC/JOMfYO0i3v2bfb7rv2JKWDrSkH9MkPDz8ld5JQMnuR/v27XH06FGtiQelUolff/1VaztLx3OvgqXvfRcXFzRv3hy7du2CVCpV719YWIh9+/ZZdK7Svmc9PT3xxhtvYNy4cXjx4oWe6jtg+TiETd/TFbLbvn07ioqKtNL7Ssq9e/fg4+NjNAKAsE/I423HvPXWW/jpp5/Qs2dPfPjhh2jZsiV4PB4ePnyIY8eOoV+/fhgwYAAiIiIwfPhwLFu2DDweD6+//jquXbumVmo2x7fffos+ffqgdevW+PjjjxEYGIiMjAwcPHhQ3amzSr7ffPMN4uLiwOPxUL9+fQQHB2PevHmYPn067t27p879evr0Kc6fP6+e2XZwcMD8+fMxatQoDBgwAKNHj0Zubi7mzJljcag5oMo5nTRpEoYOHQqJRKKXNzNr1iw8fPgQnTt3Ru3atZGbm4tvvvlGK2/LEElJSfDy8sLkyZMNhoC9++67+N///ofLly+jSZMm+OyzzzB//nyIxWJ1OaIbN24gKytLXcapUaNG2LFjB1avXo3XXnsNDg4OaN68OWrUqIHXX38dCxcuhJeXF4KCgnDkyBF1eBuLu7s72rVrhyVLlsDX1xfBwcE4ceIEkpKS4OnpafE9M0SNGjXQs2dPrF+/HgzD6NXuZktTjR07Fm+88QYePHiA+fPnw9/f32Q4IKCKGKhfvz4mT54MuVwOLy8v7Ny5E6dPn9baztXVFStWrEBcXBxevHiBN954A35+fnj+/DkuX76M58+fY/Xq1cjLy0PHjh0xbNgwhIeHw83NDRcuXFArnpqCHZycPXsWjRs3LvmNesn8+fPRvXt3dOnSBZ988gkUCgUWL14MFxcXLc9F9+7dER0djU8++QT5+fl47bXXcObMGXXZPM3c42+++QYxMTGIjY3FBx98gODgYBQUFCA1NRV79+61WInfFPPmzcOhQ4fQtm1bTJw4EfXr10dxcTHu37+P/fv3Y82aNahduzbi4uLw9ddfY/jw4ViwYAFCQ0Pxxx9/4ODBg3rtNoal/dWaNWtw9OhR9OrVC4GBgSguLlZParEVC0aPHg1nZ2dER0fD398fT548wcKFC+Hh4WHUQ+Dg4IAvv/wSb7/9Nnr37o0xY8ZAIpFgyZIlyM3NxaJFi0p9H8+ePQsul6ulKksQVRkvLy8kJiZiypQp2LJlC4YPH47vvvsOPXr0QLdu3TBixAjUqlULL168wM2bN3Hp0iW1odeqVSv07t0bjRs3hpeXF27evIlNmzaZnBwryTinZ8+e8Pb2RkJCAubNmwdHR0ds2LBBr+Zx27Zt4eXlhffffx+zZ88Gj8fDTz/9hMuXL5u9fkv6MWN06NAB8+bNg0gkKvVkYEnux/Tp07F371507twZ06dPh7OzM9asWaPWUGH7d0vHc6+Cpe99QPX+6tWrF7p164YPP/wQCoUCS5Ysgaurq8VRf5a+Z/v06YOGDRuiefPmqFatGtLT07Fs2TIEBQUhLCys1OOQLl26oFu3bpg6dSry8/MRHR2tVjWPiorSKylXEs6ePYv27dtbFCFB2BG203Wr/LAKmhcuXDC5XVxcHOPi4mLwM5lMxixdupRp0qQJ4+TkxLi6ujLh4eHMmDFjmDt37qi3k0gkzCeffML4+fkxTk5OTOvWrZkzZ87oKU4bU78+c+YM06NHD8bDw4MRCARM3bp19dQyExMTmZo1azIODg56x9i1axfTsWNHxt3dnREIBExQUBDzxhtvMIcPH9Y6xtq1a5mwsDCGz+cz9erVY9atW6enAmmOYcOGMQCY6Ohovc/27dvH9OjRg6lVqxbD5/MZPz8/pmfPnsypU6eMHu/y5csMAJNqlbdu3WIAaKl9bty4kWnRooX6e4mKitJSf37x4gXzxhtvMJ6engyHw9FS4czMzGTeeOMNxtvbm/Hw8GCGDx/OXLx4UU9B+uHDh8ygQYMYLy8vxs3NjenevTtz7do1i79XU+zevZsBwHh7ezPFxcV6ny9atIgJDg5mBAIBExERwfzwww8G1WJ128IwDPPvv/8yXbt2Zdzd3Zlq1aoxEyZMUCt+67bxxIkTTK9evRhvb2+Gx+MxtWrVYnr16sX8+uuvDMMwTHFxMfP+++8zjRs3Ztzd3RlnZ2emfv36zOzZs5mioiKz1xkbG8v07NlTax2rXL5kyRK97Y2py+/Zs4dp3Lgxw+fzmcDAQGbRokUG78eLFy+YkSNHMp6enoxQKGS6dOnCnD17lgGgpUTPnis+Pp6pVasWw+PxmGrVqjFt27ZlFixYYPa6NAkKCmJ69epl8LPnz58zEydOZEJCQhgej8d4e3szr732GjN9+nQtNdSMjAxm4MCBjKurK+Pm5sYMGjSI2b9/PwOA2b17t3q7V+2vzpw5wwwYMIAJCgpiBAIB4+Pjw7Rv357Zs2eP+jg//vgj07FjR6Z69eoMn89natasyQwZMoS5cuWKehtjz/yuXbuYVq1aMU5OToyLiwvTuXNnJjk5WWsb9nvTVPllGOOqx7GxsXoqvARRFTA1jhGLxUxgYCATFhamrgRy+fJlZsiQIYyfnx/D4/GYGjVqMJ06dWLWrFmj3m/atGlM8+bNGS8vL0YgEDB16tRhPv74Y3V1EoYxrExu6TiHYRjm/PnzTNu2bRkXFxemVq1azOzZs5m1a9fq/b7/+usvpk2bNoxQKGSqVavGjBo1irl06ZLeO0C3PZb0Y8ZITU1lOBwO88svv2itN9YvlcX9OHXqFNOqVStGIBAwNWrUYD799FN11Q/dKjCWjudMwfbP7HtcF3PvfZadO3cyjRo10nrvTpw4kfHy8tLaDgAzbtw4g+ey5D371VdfMW3btmV8fX3V50pISGDu37/PMIzl4xBD41mxWMxMnTqVCQoKYng8HuPv78988MEHTE5OjtZ2xt7j7du3Z9q3b6+1LjU11WAVEcL+4TCMRkweQRBEJWP79u148803kZ6erpULV56w9aWTk5MtUvG3F9iarhkZGeUiJmiP3L17F2FhYTh48CC6dOli6+YQBFEJYKs/6Kb3lCddu3bF/fv38e+//9qsDSVFJpOhadOmqFWrFv78809bN8dmzJw5Exs3bsTdu3dfSdWfKH/I8CYIolLDMAzatm2L1157DStXrrT6+bZu3YpHjx6hUaNGcHBwwNmzZ7FkyRJERUWpy3fZI+y9CQ8Ph0wmw9GjR7F8+XK8+eab6lD5qsjIkSPx8OFDk4rqBEEQJeHatWuIiorCX3/99UoCW5YyadIkREVFISAgAC9evMBPP/2EHTt2ICkpCfHx8VY/f2lJSEhAly5d1ClHa9aswYkTJ/Dnn3+aDemvrOTm5qJOnTpYsWKFXjk5wv6haRKCICo1HA4HP/zwA/bs2QOlUmlRvvKr4Obmhp9//hkLFixAUVER/P39MWLECCxYsKDEx1IoFDA1N8rhcIyKC5YUoVCIr7/+Gvfv34dEIkFgYCCmTp2KGTNmlMnxKyJyuRx169ZFYmKirZtCEEQlomHDhli/fn251WBWKBSYNWsWnjx5Ag6Hg8jISGzatAnDhw8v0XEYhjEr7srlcsss77igoACTJ0/G8+fPwePx0KxZM+zfv7/KGt0AkJaWhsTERAwbNszWTSFKAXm8CYIg7JTg4GCkp6cb/bx9+/Y4fvx4+TWIIAiCqLIcP34cHTt2NLnN+vXr9YRvCYJQQYY3QRCEnXL16lWTZf7c3NwMlukiCIIgiLKmoKAAt2/fNrlNSEhImZTDJIjKCBneBEEQBEEQBEEQBGFFrJvsSBAEQRAEQRAEQRBVnColrqZUKvH48WO4ublRwXmCIAjCbmEYBgUFBahZs6bVBQHtEXpfEwRBEBWBkryvq5Th/fjxYwQEBNi6GQRBEARhEQ8ePKiSNdTpfU0QBEFUJCx5X1cpw9vNzQ2A6sa4u7vbuDUEQRAEYZj8/HwEBASo31tVDXpfEwRBEBWBkryvq5ThzYarubu704ucIAiCsHuqapg1va8JgiCIioQl7+uqlzhGEARBEARBEARBEOUIGd4EQRAEQRAEQRAEYUXI8CYIgiAIgiAIgiAIK0KGN0EQBEEQBEEQBEFYETK8CYIgCIIgCIIgCMKKVClVc4KwNXkiKbIKpcgvlsHdmQdfFz48hHxbN4sgCIIgCILQgMZsRFlDhjdBlBOPc8WYuv0KTt3JUq9rF+aLRYMao6answ1bRhAEQRAEQbDQmI2wBhRqThDlQJ5IqteBA8DJO1mYtv0K8kRSG7WMIIgyQy63dQsIgiCIV4TGbIS1IMObIMqBrEKpXgfOcvJOFrIKqRMniApLUREwaRLQpQugVNq6NQRBEMQrQGM2wlpQqDlBlAP5xTKTnxeY+ZwgCDvl8GHgvfeAtDTV8pEjKgOcIAiCqJDQmI2wFuTxJohywN2JZ/JzNzOfEwRhZ+TmAgkJKiM7LQ0ICAD27yejmyAIooJDYzbCWlRYw3vhwoXgcDj46KOPbN0UgjCLrysf7cJ8DX7WLswXvq6kkkkQFYZdu4DISGDdOtXyuHHA9etAjx42bRZBEATx6tCYjbAWFdLwvnDhAr7//ns0btzY1k0hCIvwEPKxaFBjvY68XZgvFg9qTOUpCKIi8PQpMGQIMGAAkJkJ1KsHnDwJrFwJuLnZunUEQRBEGUBjNsJaVLgc78LCQrz99tv44YcfsGDBAls3hyAspqanM1YMjUJWoRQFxTK4OfHg60o1IQnC7mEYYNMm4KOPgJwcgMsFpkwBZs0CnJxs3TqCIAiijKExG2ENKpzhPW7cOPTq1Quvv/46Gd5EhcNDSJ02QVQo0tOBMWOAgwdVy02bAklJQLNmNm0WQRAEYV1ozEaUNRXK8P75559x6dIlXLhwwaLtJRIJJBKJejk/P99aTSMIgiAqE0olsGoVMG2aqlyYQADMng1MngzwSFiHIAiCIIiSUWEM7wcPHuDDDz/En3/+CScLQ/sWLlyIuXPnWrllBEEQRKXi1i1g1CggOVm1HB0NrF0LhIfbtl0EQRAEQVRYOAzDMLZuhCXs2rULAwYMAJfLVa9TKBTgcDhwcHCARCLR+gww7PEOCAhAXl4e3N3dy63tBEEQRAVAJgOWLAHmzgWkUsDVFVi0CPjgA8ChfLVI8/Pz4eHhUWXfV1X9+gmCIIiKQUneVxXG4925c2dcvXpVa93IkSMRHh6OqVOn6hndACAQCCAQCMqriQRBEERF5dIlVV3uf/5RLXfvDqxZAwQF2bRZBEEQBEFUDiqM4e3m5oaGDRtqrXNxcYGPj4/eeoIgCIKwCLEYmDdP5elWKABvb2DZMmD4cIDDsXXrCIIgCIKoJFTIOt4EQRAE8cqcOqVSKV+0SGV0DxkC3LgBvPMOGd0vWbhwIVq0aAE3Nzf4+fmhf//+uH37tsl9jh8/Dg6Ho/d369atcmo1QRAEQdgfFcbjbYjjx4/bugkEQRBERSM/H0hMVKmWA4C/v+r//fvbtFn2yIkTJzBu3Di0aNECcrkc06dPR9euXXHjxg24uLiY3Pf27dta+W7VqlWzdnMJgiAIwm6p0IY3QRAEQZSI/fuB998HHjxQLY8apQoz9/S0abPslQMHDmgtr1+/Hn5+fvj777/Rrl07k/v6+fnBk+4rQRAEQQCgUHOCIAiiKpCVpQoh79VLZXSHhACHDwM//EBGdwnIy8sDAHh7e5vdNioqCv7+/ujcuTOOHTtmcluJRIL8/HytP4IgCIKoTJDhTRAEQVReGAbYtg2IjAQ2b1aVBZs0Cbh6Fejc2datq1AwDINJkyYhJibGpKipv78/vv/+e2zfvh07duxA/fr10blzZ5w8edLoPgsXLoSHh4f6LyAgwBqXQBAEQRA2o8LU8S4LqC4oQRBEFeLRI2DsWGDPHtVygwZAUhLQqpVt22UB9vi+GjduHH7//XecPn0atWvXLtG+ffr0AYfDwR72u9BBIpFAIpGol/Pz8xEQEGBX108QBEEQupTkfU0eb4IgCKJywTCqEPLISJXRzeMBs2eranVXAKPbHpkwYQL27NmDY8eOldjoBoDWrVvjzp07Rj8XCARwd3fX+iMIgiCIygSJqxEEQRCVh7t3gdGjATanuEULlZe7USPbtquCwjAMJkyYgJ07d+L48eMICQkp1XFSUlLg7+9fxq0jCIIgiIoDGd4EQbwyeSIpsgqlyC+Wwd2ZB18XPjyEfFs3i6hKKBTAsmXAzJmAWAw4OwMLFgAffghwubZuXYVl3Lhx2LJlC3bv3g03Nzc8efIEAODh4QFnZ2cAQGJiIh49eoSNGzcCAJYtW4bg4GA0aNAAUqkUmzdvxvbt27F9+3abXQdBEARB2BoyvAmCeCUe54oxdfsVnLqTpV7XLswXiwY1Rk1PZxu2jKgyXL0KJCQAFy6oljt2VIWa161r23ZVAlavXg0A6NChg9b69evXY8SIEQCAzMxMZGRkqD+TSqWYPHkyHj16BGdnZzRo0AC///47evbsWV7NJgiCIAi7g8TVCIIoNXkiKcZvTdEyugFAyOdiZu9INA/yQqFETl5wwjpIJMAXX6j+5HLA3R346iuVEc7h2Lp1r0RVf19V9esnCIIgKgYleV+Rx5sgiFKTVSg1aHQvHxqF9clpSNxxVb2evOBEmXLunMrAvn5dtdy3L7BqFVCrlm3bRRAEQRAEYQAyvAmCKDWFEhnGdwpFVIAnJHIlnHhcMAyDn86lIzk1W2vbk3eyMG37FawYGkWeb6L0FBWp8riXLVOpl1erBqxcCQweXOG93ARBEARBVF7I8CYIotR4OPORkpGDlUdT1etiQ30RFx2Ms/deQCRVaG1/8k4WsgqlZHgTpePIEZVieVqaavmdd4CvvwZ8fGzbLoIgCIIgCDNQHW+CIEpFnkiKmbuu6Xm2T6VmYX1yGuJjDJcdKiiWlUfziMpEbi4wahTw+usqozsgANi/H9i4kYxugiAIgiAqBGR4EwRRKrIKpTiVmmXws+TUbEQFeBr8zM2JZ8VWEZWOXbuAyEhVLW4AGDdOldfdo4dNm0UQBEEQBFESKNScIIhSkW/Gcy2RK/XWtQvzha8rhZkTFvD0KTBhAvDrr6rlevWAtWuB2FjbtosgCIIgCKIUkOFNEATyRFJkFUqRXyyzuPSXuxnPtaez9uftwnyxeFBjyu8mTMMwwKZNwEcfATk5AJcLTJkCzJoFODnZunUEQRAEQRClggxvgqjiPM4VY+r2K1plwSwp/eXryke7MF+cvKMfbt4uzBd1/VxxZFJ7FBTL4ObEg68r1fEmzJCeDowZAxw8qFpu2lQVYt6smU2bRRAEQRAE8apQjjdBVGHyRFI9oxv4r/RXnkhqcJ+7zwpxP7sI8/o1RLswX63PWc92dXcn1PVzRdNAL9T1cyWjmzCOUqkqCdaggcroFgiAL74Azp8no5sgCIIgiEoBebwJogrzrECiZ3SzGCr9pesdF/K5mNk7EtN7RUAsVZBnmyg5t26pFMuTk1XL0dGqXO7wcNu2iyAIgiAIogwhjzdBVFEe54qR8UJkchvN0l+GvOMiqQKJO67i899vIsTXhTzbhOXIZCqvdpMmKqPb1VXl9T55koxugiAIgiAqHWR4E0QVhDWizaFZ+iurUGrWO655/LvPCpGSkYO7zwsNhqwTVZhLl4CWLYHp0wGpFOjeHbh2TVUqzIFeSwRBEARBVD4o1JwgqiCsEd0kwBPRoT5ITs3W20a39Je58mGsd9yQWFtsmC/m9G0ADgAfCxTTiUqKWAzMmwcsWQIoFIC3N7BsGTB8OMDh2Lp1BEEQBEEQVoNcCwRRBWGN6HWn0zAyOgTRoT5an8caKP1lrnyYuzMPT/OLcT+rCENbBmLdiBYY3ykUQj4Xp+5kYdbua9iR8ggTtqbgca647C+KsG9OnVKplC9apDK6hwwBbtwA3nmHjG6CIAiCICo95PEmiCoIa0SLpApM3JqC+JgQxEeHQCJXQuDogNBqrvDXKSVmqnxYlwg/8LkOmPzLPzil4T2PDvXB8qFRmLg1Bcmp2YiPDsHKo6mYtv0KVgyNIs93VSA/H0hMBFatUi37+6v+37+/TZtFEARBEARRnpDhTRBVEE0jWiRVYOXRVPVn7cJ8sWJolN4+HkI+Fg1qjGnbr2gZ3+1ehpFP23EVp1KzIeRzER8TgqgAT0jkSgj5XKwYGoUJW1MgkSsBGFZMJyoh+/cD778PPHigWh41ShVm7ulp02YRBEEQBEGUN2R4E0QVxJQRrRtirklNT2esGBqFrEIpCopl6vJhbM64kM/F8qFRWJ+cpmXMx4b6YvnQKDhqhBQXmMkZJyowWVnAxx8DmzerlkNCgB9+ADp3tm27CIIgCIIgbAQZ3gRRRTFmRJvzQnsI9be5l1UEAIiPCcH65DQ9sbZTqVlgwGBkdIh6nZuZnHGiAsIwwC+/ABMmAM+fqxTKP/pIJajm4mLr1hEEQRAEQdgMMrwJogpjyIguDWzOeFSAp5anW5PTqdmIj6kDQF8xnagEPHoEjB0L7NmjWm7QAEhKAlq1sm27CIIgiHIlTyRFVqEU+cUyuDvz4EvVTAgCABneBEGUAWzOOJvDbYximcJsODtRwWAYYO1aYPJklZAajwd89pnqj0/fMUEQRFXCUEnRdmG+WDSoMWrqiLYSRFWDyokRRCUnTyTF3WeFSMnIwd3nhcgTScv8HB5CPr4Y0AiezqbDx+v4umDF0Cg9xXSignL3ripv+733VEZ3ixbA338Dc+aQ0V1JWLhwIVq0aAE3Nzf4+fmhf//+uH37ttn9Tpw4gddeew1OTk6oU6cO1qxZUw6tJQjCluSJpHpGN6ASVJ22/YpVxh8EUZEgw5sgKjGPc8UYvzUFnf93AgNW/YXOX52wSh3tx7lizNl7HWKZArGhvga3aRfmC38PJ/J0VwYUCuCrr4BGjYBjxwBnZ9XymTOqdUSl4cSJExg3bhzOnj2LQ4cOQS6Xo2vXrigqKjK6T1paGnr27InY2FikpKTgs88+w8SJE7F9+/ZybDlBEOUNK7RqCLaaCUFUZSjUnCAqKeZmnsuqjrbmef66m43lQ6OgBKMlsEbh5ZWIq1eBhATgwgXVcseOKsXyunVt2y7CKhw4cEBref369fDz88Pff/+Ndu3aGdxnzZo1CAwMxLJlywAAERERuHjxIpYuXYpBgwZZu8kEQdiIfDPVSqiaCVHVIcObICoplsw8l4UhrHkekVSBiVtTEB8TgvjoEEjkStTxdSFPd2VAIgG++EL1J5cD7u4qL3dCAqBRJo6o3OTl5QEAvL29jW5z5swZdO3aVWtdt27dkJSUBJlMBh5PPyVFIpFAIpGol/Pz88uoxQRBlBfuZqqVUDUToqpDhjdBVFKMzTwL+VzEx4RAIlcgJSPnlRVHdc8jkiq0lM1/e79NqY5L2BHnzqkM7OvXVct9+wKrVgG1atm2XUS5wjAMJk2ahJiYGDRs2NDodk+ePEH16tW11lWvXh1yuRxZWVnw9/fX22fhwoWYO3dumbeZIIjygxVaPWlg0p+qmRAEGd4EUWkxNPMs5HOxfGgU1ienaRnHr6I4qnse1rCPCvCERK6EE4+L/deeoEO9aiSqVtEoKgJmzgSWLVOpl1erBqxcCQweTF7uKsj48eNx5coVnD592uy2HJ3ng2EYg+tZEhMTMWnSJPVyfn4+AgICXqG1BEGUNx5CPhYNaoxp269oGd+UbkYQKsjwJohKiqGZ5/iYEKxPTtPKvwZeLe9b8zzGDPvoUB+E+LpAyOfSi7eicOQIMHo0kJamWn7nHeDrrwEfH9u2i7AJEyZMwJ49e3Dy5EnUrl3b5LY1atTAkydPtNY9e/YMjo6O8DHy/AgEAggEgjJrL0EQtqGmpzNWDI1CVqEUBcUyuDnx4OtKdbwJAiDDmyAqLWyJr2k7ruD0S0M7KsBTyyDWxFzed55IiqxCKfKLZXAVOMLJ0QGFUjkKJQrM6BWJyw9z8ThPbNCwZ5e/6N+IXr72Tm6uqiZ3UpJqOSAA+O47oEcPmzaLsA0Mw2DChAnYuXMnjh8/jpCQELP7tGnTBnv37tVa9+eff6J58+YG87sJgqhceAjJ0CYIQ5DhTRCVGKlCiaaBXhj5UujMhW/6J29McfRxrlhPIT0m1AcjokMwcWsKRFIFYsN8Ma9vA3x34p7BYySnZqNIKi/9xRDWZ9cuYOxYIDNTtTxuHLBwIeDmZtNmEbZj3Lhx2LJlC3bv3g03Nze1J9vDwwPOzqrUkcTERDx69AgbN24EALz//vtYuXIlJk2ahNGjR+PMmTNISkrC1q1bbXYdBEEQBGFryPAmiEpMnlim5eFOimtucntDiqPGypKdTs0GA1X4+sqjqTh1Jwuz9lxXLxtCJFWU/CII6/P0KTBhAvDrr6rlevWAtWuB2FjbtouwOatXrwYAdOjQQWv9+vXrMWLECABAZmYmMjIy1J+FhIRg//79+Pjjj/Htt9+iZs2aWL58OZUSIwiCIKo0ZHgTRCVGV/gs5UEuokN99ELBAeOKo6bKkiWnZuPj1+tpCan5uvKx7nSaQSPbw5nCTO0KhgE2bQI++gjIyQG4XGDKFGDWLMDJydatI+wAVhTNFBs2bNBb1759e1y6dMkKLSIIgiCIigkZ3gRRidEVWFt3Og3Lh0YBgJbxbUpx1FhZMpY8sQwJP15UL8eG+mL50Ch1CLp6fZgv/NxIPMluSE8HxowBDh5ULTdtqsrrbtbMps0iCIIgCIKojJDhTRCVGN3SHiKpAhO3pmBm70jM6h2JgmI5hHwuXASOEPK5Bo9hqCyZKU6lZgFg8F67Olh2+A4AldG9cAAJq9kFSqWqBve0aapyYQIBMHu2SlCNhK8IgiAIgiCsAhneRJVHU63b3ZkHX5fKpcZZ09MZSwY3QU6RFPnFcrg7O8KV74g5e6/j8M1n6u2M1fJ25nMRG+r70qDWJjrUBykPcvXWn0rNxvRekYjwd4ejAwcpD3Ixd+91zO3XsFS1woky4tYtYNQoIDlZtRwdrcrlDg+3bbsIgiAIgiAqOWR4E1UaQ2rdxgzQioruNY7vFIqUjByLank/zhVj1q6riIsOhhKM1j6xoT6Ie6lqbohHuWJcfZSnJbQmkZeuVjjxishkwJIlwNy5gFQKuLoCixYBH3wAODjYunUEQRAEQRCVHjK8iSqLMbVuQwZoRcXQNVpay1tz37/uvUB8TAgSYuqAx+XA24UPhZLBW9+fNalUHhXgafT4RDlx6RKQkAD8849quXt3YM0aICjIps0iCIIgCKJyUNmjR8sKMryJKospte7KYiAauka5ksH4TqFaSuSXMnLUSuRsLW/NfUVSBdadTkPToZ5Yc+Ie4qNDkPIgF1GBngYV0mNDfZHyIBeR/u56nxmrFU6UMWIxMG+eytOtUADe3sCyZcDw4QCHY+vWEQRBEARRCbBV9GhFNPbJ8CaqLObUuiuDgah7jUI+FyE+Lth45r6W1zs61EetRM7W8tbdNz4mBOuT05Ccmo2oQC/ceJyHkdEhALQV0mNCfTC5W30M/eEsVrxUUNfEUK1woow5dUqVy/3vv6rlIUOA5cuB6tVt2y6CIAiCICosusauq8DRJtGjFTVVlAxvospiTq27MhiIutcYHxOCefuu63mp2eWZvSPVtbx199UMUWfLkv18Lh1RgV6Ijw6BRK6EhzMPbk6OiN9wAVGBnnrCa8ZqhRNlRH4+kJioUi0HAH9/1f/797dpswiCIAiCqNgYMna3jGpV7tGjFTlVtMKo6qxevRqNGzeGu7s73N3d0aZNG/zxxx+2bhZRgWFrXBuishiIutcYFeCJ0wZCwwGV8d0s0FPdWenuK5Er1f9ny5I1rO2Jbg1UXlSBowPO3MvGW9+fRYS/O2b3aYAWQd4Y3ykUQj4XsSZqhRNlwP79QMOG/xndo0YBN26Q0U0QBEEQxCthzNjNFZd/9KglqaL2SoXxeNeuXRuLFi1CaGgoAODHH39Ev379kJKSggYNGti4dURFRLfGNUu7SmQg6l6jpvFsCLGGUJruvgJHBwj5XMTHhGjlhx+5+QwcDtA5vDpiQn3Rpo4PztzLRv9vkyGSKhAb6oNdY6Ph4AD423H4T4UlKwv4+GNg82bVckgI8MMPQOfOtm0XQRAEQRCVAmPGrsDRtA/XGtGjhRKZRVpF9kiFMbz79Omjtfz5559j9erVOHv2LBneRKmp6emMFUOjkFUoRUGxDG5OPPi62r84Q0nQvEaJ3LgCOaDqIHXzd5YMboI8sRRSuRLr4lpgxbE7WvnhsaG+SOwZDoDBiqN39MLYT6VmY+6+6/iifyNrXF7VhWGAX34BJkwAnj9XlQX76COVoJqLi61bRxAEQRBEJcGYLlLKg1xEh/oYFNq1VvSohzMfKRk5ZrWK7JEKY3hrolAo8Ouvv6KoqAht2rQxup1EIoFEIlEv5+fnl0fziAqGh9D+DO2yVmpkrzFPJEW7MF8tDz9LuzBfOPEcMH5rikGxCoWjEov/uGXAsM4Cs/8mPh/QCCkZuQbPn5yaDanCtLedKAGPHgFjxwJ79qiWGzQAkpKAVq1s2y6CIAiCICodxnSRWM0fBw5Hb+xojejRPJEUM3dds0irSHc/e1BAr1CG99WrV9GmTRsUFxfD1dUVO3fuRGRkpNHtFy5ciLlz55ZjCwni1bGmUqOp8PovBjTC7D3XjYpVfNYzAqeM5IefTs3Goxwx4mNCjNYIL5LIX6ntBFRe7rVrgcmTVUJqPB7w2WeqP759TR4RBEEQBFE5YHV/dB03IqkC285nYOngJigslls9ejSrUIpTqYbzu5NTszGrd6Teee1JAb1CGd7169fHP//8g9zcXGzfvh1xcXE4ceKEUeM7MTERkyZNUi/n5+cjICCgvJpLECXGWkqNhsLHiyRy5Iv/6yCzi6Q4fPOZwf1P3snChGLThnOuWIaoAE+jn9tz6E+F4O5dYPRo4Ngx1XKLFiovdyMK4ScIgiAIomSUxAtsynEzr19DVHd3QnV367fLXClgTa0i9lj2pIBeoQxvPp+vFldr3rw5Lly4gG+++Qbfffedwe0FAgEEAkF5NpEgXglLlBpL2kGYmumrU81Vve5eVpHJ4wj5XJOfmxLYqCwq8TZBoQCWLQNmzgTEYsDZGViwAPjwQ4Br+jshCIIgCILQpTRe4PLQRTLXrpKWArbGuPpVqDDlxAzBMIxWDjdBVHTMzeSVVKnR3Exfnui/kgvmOjMGQKyR8mvRoT5IeZALP3eB3jaVSSW+3Ll2DWjTRhVaLhYDHTsCV68CkyaR0U0QBEEQRIkpydhQFw8hH3X9XNE00At1/VzLdGxnSbtKWgq4rMfVr0qF8Xh/9tln6NGjBwICAlBQUICff/4Zx48fx4EDB2zdNIIoM0o6k2cOczN9zwok6nAebxfD+TsAEBPqAw5UohXz9l7XqgUeHeqDkdEh2HIuHe5OXMzv1wBimRL5Yhk8nHlwd+ZRGbGSIpEACxcCX3wByGSAuzvw1VdAQgLA4di6dQRBEARBVFDszQvMYkm76vq5lqgUcFmPq1+VCmN4P336FO+88w4yMzPh4eGBxo0b48CBA+jSpYutm0YQZYYx8QrA8EyeufwcczN9GS9ESPjxIgBVKPm6ES3AMNASrogO9UF8TAgKJTL8eOw+pnQPxwfFcuSJZRA4OiDlQS62nEtHXJtg+Hs6Y7qO2mRMqA8+H9AIQT5U4soizp1TGdjXr6uW+/YFVq0CatWybbsIgiAIgqjw2JsXmMXSdpUk5L2k42prU2EM76SkJFs3gSCsjinxCt2ZPEvyc8zN9GkikioQv+ECZvSKwIevh+FZgURtWF99lIfzaS+QnJqN4/9mIT4mBFEBnpDIlWhTxwdRAZ5QMgzm7r2uV+LhdGo2pu+8ikWDGqO2l7C0t6byU1SkyuNetkylXl6tGrByJTB4MHm5CYIgCIIoE+zNC8xSknZZWgq4JOPq8qDCGN4EUVWwZCbPUpVGUzN9bF62JiKpAp/tvIakuOYY+9Ml9fqkuOb4+tAd9Ta6JcOS4prDz81Jz+hmOZ2ajTyRDG4C24Qv2T1HjqgUy9PSVMvvvAN8/TXg42PbdhEEQRClwl7qBhOELqbGhrFhvnDkcpAnKv/xmrW80+UhCmcpZHgThB1ibibP0vwcYzN9saG+iIsOxsStKRDyuVoebCceF/7uTtgU3xJShRIcDgfOPNNCXi4CRxSaqdOdXyy3Wd6Q3ZKbqxJOYyN6AgKA774DevSwabMIQpOTJ09iyZIl+Pvvv5GZmYmdO3eif//+Rrc/fvw4OnbsqLf+5s2bCA8Pt2JLCcI+sKe6wQShi7GxYXSoD+LaBqPHN6fQPMhL/byW1ySSNb3TlnrIrQ0Z3gRRAWHzYAwZzZcyclAk+S9PRnemz4nHhVShxFvfnwUALB8ahS3n0gEAUQGeKJYpkCuWora3M5YeuIXfrz1FUlxzk+crlirg42a6Q3N14tosb8gu2bULGDsWyMxULY8bpxJUc3OzabMIQpeioiI0adIEI0eOxKBBgyze7/bt23B3/6+wa7Vq1azRPIKwK+ytbjBBGIIdGz4rkCDjhQgAkPIgFxO3pkAkVeDknSzM3n0Ns/s0QOLOq+U2iWRP3mlrYHXD+8GDB+BwOKhduzYA4Pz589iyZQsiIyPx3nvvWfv0BFEpcXfiQcjnYvnQKKxPTtMK/Y4O9cEbzWprba8505eSkYMjt54hKtATUYFe2HIuHcNaBekdJybUB5O7hePYv1lIeZCLTuHVjG43IKoWwKj+f9pAuHlMqA+e5UsQTAJrwNOnwIQJwK+/qpbr1QPWrgViY23bLoIwQo8ePdCjFFEYfn5+8PT0LPsGEYQdY6+K0QShi4eQj6xCqVpkV5f6/u5I3HEFp3TGddaeRLIX77Q1sHod72HDhuHYsWMAgCdPnqBLly44f/48PvvsM8ybN8/apyeISomvKx8ze0difXKaVl61kM9FVKAXHueKcSn9Be4+L9Srx+gqcMS602kYGR2CNnV8EFnTQ+84gCov+6uDtxEfE4J1p9Pw0ev1jG43a/c1HLyRifn9GyImVDsvOSbUB/P7N8LOSw/LXT3SrmAYYONGICJCZXRzuUBiInD5MhndRKUkKioK/v7+6Ny5s3ocYAyJRIL8/HytP4KoiNirYjRhH+SJpLj7rBApGTkGx2jljannNSrAU8/oZmEnkewVe7vPLFb3eF+7dg0tW7YEAPzyyy9o2LAhkpOT8eeff+L999/HrFmzrN0Egqh0eAj5aBboicQdV9XrjHnANUOCHueKcTE9B1GBnpi4NQVrhr+GqABPPbE0llOpWRgRHQyRVIGsQqlR8bTk1GyM7RCKP65lYmR0CKb2CEdhsQKuTlw8y5fgYbYI03tFVtoZTLOkpwNjxgAHD6qWmzYF1q0DoqJs2iyCsAb+/v74/vvv8dprr0EikWDTpk3o3Lkzjh8/jnbt2hncZ+HChZg7d245t5Qgyh57VYwmbI895v6bel4lcqXJfe1xEilPJMWT/GI8zBGDw+HgUkYO1p1O08pZtyVWN7xlMhkEAgEA4PDhw+jbty8AIDw8HJlsbiNBECVGJFVoLcfHhBj0SLMhQUsGN8HU7Vfwd3oOlg+NApAGmUJptmNlPy+WKUxux3XgYOXRu3rtAoBDH7eDf1UUlFEqgdWrgWnTgMJCQCAAZs9WCarxaPBFVE7q16+P+vXrq5fbtGmDBw8eYOnSpUYN78TEREyaNEm9nJ+fj4CAAKu3lSDKGnurG0zYB/aa+2/qefV0rliTSI9zxZj62xWcStUWjFs+NAoTt6bYhcaC1Q3vBg0aYM2aNejVqxcOHTqE+fPnAwAeP34MHyqVQxBasMqReWIphAJHOHA4cHTgwMdF1Uloqkq6CrR/vqY81yfvZCGn6L+8s4lbUxAfE4JqbgIUFptWIxc4Omj9awwOYFB47XZmPvzcBJZcfuXi1i1g1CggOVm1HB2tyuUmVWeiCtK6dWts3rzZ6OcCgUA9SU8QFRl7qxtM2Af2mvtv6nkN8hFWmEkk9cRGqnZbWWdUfEwIVh5NVYfH26rUn9UN78WLF2PAgAFYsmQJ4uLi0KRJEwDAnj171CHoBEEYDkGKDvXByOgQfLH/JkbF1kH8hgtqj/LCgY0QG+ar3t6c5zpfw8Bma3GvO52G3eOjERvqq9dZAap6jhyOqk43j+uALaNb4a+72Vh3Ok3Lsx0b6osa7k64nJGjJ7z2xYBGVWugIZMBS5YAc+cCUing6gosXgy8/z7gYHVZDYKwS1JSUuDv72/rZhBEuVDZlZmJkmPPuf+mnteKMomkO7GhW4Un0FsIAMgvlmLO3us2C/e3uuHdoUMHZGVlIT8/H15eXur17733HoRCobVPTxAVAmMhSOxMXVSgF1YcvaOesQOA+ftuYN2IFuBANVtqziPt7qT/cxdJFZDJlBjbsS6UYLTC1KNDfTC7TyQW7b+Jw7eeq9fHaITtiKSKl+rn9TF333U9EY7TqdmYseuazUN7yo1Ll4CEBOCff1TL3bsDa9YAQUE2bRZBvAqFhYVITf1vQi0tLQ3//PMPvL29ERgYiMTERDx69AgbN24EACxbtgzBwcFo0KABpFIpNm/ejO3bt2P79u22ugSCKHcqszIzUXIqSu4/A6hCGF9SUSaRNCc2TFX96d+kJv5Oz9HatzzD/culjjfDMPj7779x9+5dDBs2DG5ubuDz+WR4E8RLTIUgJadmIz5aZXDHR4eo14ukCsRvuIA/JsZCrmSgZBgtD7gmsWG+cOI5YOHARpi/74aWt1rOMEj48SLiY0IQHx0CiVypNuK/2H8TRzWMbkBlTHM4HOz4oC1eiKT46242coqketuxVInyKWIxMG+eytOtUADe3sCyZcDw4QCHY3Z3grBnLl68iI4dO6qX2VzsuLg4bNiwAZmZmcjIyFB/LpVKMXnyZDx69AjOzs5o0KABfv/9d/Ts2bPc204QRMWHTcOzRWhwWWHPuf/mRN/YSST2e7iXVQR3Z6ldfQ+aExvGNI+SU7Mxd+91LScWS3mNVa1ueKenp6N79+7IyMiARCJBly5d4Obmhi+//BLFxcVYs2aNtZtAEHaPuRAkNoxcN5xcJFUgRyRF00BVNMliAyFB0aE+iGsbjJ7LT+O1IC+sG9FCK2RdLFWoQ881SYprbtSYPnUnCwyAYT+cAwB8985rGN8pVC+/mw1Jt0flyzLj1ClVLve//6qWhwwBli8Hqle3bbsIoozo0KEDGIYx+vmGDRu0lqdMmYIpU6ZYuVUEQVQF7FEJvDTYa9i2paJv9v49aE5smK7Wk40RGk4sTcpjrGp1w/vDDz9E8+bNcfnyZS0xtQEDBmDUqFHWPj1BVAjMhSCZEjjTDE9iQ4KeFUiQ8UIEAEh5kKsOC2c7zN/eb4P72SIIHB3goiPSxubFVHMTYNXbzfSMaJYiiRxCPhdCPheh1Vyx8cx9rY4uNswXu8ZGI+HHC3YTQlWm5Oer6nCvWqVa9vdX/b9/f5s2iyAIgiAqA/aqBF5a7DFs2xLRNwB2/T3kiaTILpJidt8GmLPnusXVenQpj7Gq1Q3v06dPIzk5GXy+9hcSFBSER48eWfv0BFEhMBWCFB3qg5QHuep/NTEUnuQh5COrUIqEHy8aPNepO1kY0bYYY3+6BADYNz5GLa5mKi9GM69byOfChc/FpoSWEPIcMWfPNb2QnlN3sjBv33VsSmgFL2ElM7z371eJpT14oFoeNUoVZu7padNmEQRBEERlwV6VwF8Fe8v9t1T0zdrfQ2nTCTQ98azjKMjbdCqzISdWeYX7W93wViqVUCj06/o+fPgQbm5u1j49QVQIjIUgsarmP5/PwIROYYjfcEHdsbSt4wOBowOyiqTqY7BYGroOABwHBiNjggEwaBLoZTQvBlDlzaw7nYakuOb4fP9NnE7NRlJccz1RNZbTqdl4lCuGM58Lj5LcEHslKwv4+GOALYtUpw7w/fdA5862bRdBEARBVDLsWQm8smAu4tLdmQe5kkFSXHODqYTAq38PpQ1j142I0EybjAn1wWkDY9PYMF88K5BorSvPcH+rG95dunTBsmXL8P333wMAOBwOCgsLMXv2bBJaISoc1hT40AxByhPLIORzwXXggOvAwVeDVWX49k2IAQNgzu5rWh5p3Q7Kw5lnMudac7avsFiBq4/y8Gn3cDg6OBjNi2FF3ub0icSqY6nqDs1cSE+eWIacIimquzu9yu2xLQwD/PILMGEC8Py5qizYRx+pBNVcXGzdOoIgCIKodFQUJfCKjKmIyy4RfuBzHTB79xUtB4tuFOSrfA+vkk5gLCJi3ek0LB8aBQ6Ho2fMLx7UGEI+Fy2DvW0S7m91w/vrr79Gx44dERkZieLiYgwbNgx37tyBr68vtm7dau3TE0SZUR7CEpaEII3fmqLnYdbtoPhcB6To1NRmO8ot59LVIetCPhfV3AQ4n/YCXx+6g1VvNzN5bjcnR/h7OGPK9qvqdebKmAkcHbRqiFc4Hj0Cxo4F9uxRLTdoACQlAa1a2bZdBEEQBFGJsWclcFtTVo4gU6Jvc/o2wLQdV/XGnJpRkFce5L7S92BpjnmuSIYiqRxFUgU8nXnwcxOgUGLY0y6SKjBxawp2j4uGA4dj0MC2Vbi/1Q3vmjVr4p9//sHWrVtx6dIlKJVKJCQk4O2334azs+1V8AjCEuxF4MPSDipx51WD4eIcANN7RWLQ6r8AAO+1q4PZu//LzzZnRDvzHJGZJ9Zax+af654P+C8/vXcjf4uuz65gGGDtWmDyZJWQGo8HTJ+uElTjV92XPUEQBEGUB/aqBG5rytoRZEz0zVyp23EdQvF2y8BX+h7MpRPkiqV4XijBiqN3tMaZsWG+mN+vIYR8rpbwL4tIqoADh4O6fq6lbps1KJc63s7OzoiPj0d8fHx5nI4gyhx7Efh4VRGM06nZcOAAzYO8cPJOFmJCfbHs8B3156aM6JhQH3Ad9GtSsyE9ALT2Y/PTt55Lxzutg8xfnD1x9y4wejRw7JhquWVLlZe7YUPbtosgdFAoFLh69SqCgoLg5eVl6+YQRqgMdYgJwhbYoxK4pVjjd28tR5ChiMt7WUUm93HiceH/ihGf5tIJuA4O+N+hWwYFfGfuvoaZvSORuOOq3n7twnzh6uSIu88K7arftbrhvXHjRpOfv/vuu9ZuAkG8MvYi8OEt5JsUuHBz4pltq1iqUL/EXrwUZmNZdzoNW0a3Bge3tEQpokN9MCI6BE/yxXrGORvSEx8TgnEdQiFnGHg68/Dnjaf4+VwGZvdpUHHyuxUKYNkyYOZMQCwGnJ2BBQuADz8EuFxbt44g8NFHH6FRo0ZISEiAQqFA+/bt8ddff0EoFGLfvn3o0KGDrZtI6GDv9W8Jwt6xNyVwS7DW7748HUHmjGIP51fLsc8TScF1gLqyji6xob5w4MCgMwhQGd8zekXopSN0ifDDrN6RuPe8EDkiGZx4XBy59Qy3M/Mxt19Dm/a75VLHWxOZTAaRSAQ+nw+hUEiGN1EhsKXABztjmiOSQqZQIuVBrtrY1hS4aB7kpZVnw6qf6wqsuTvz1C8xyeM8rXOJpArkFknRNNALI6NDIJErIXB0UNcCXzmsmUEPt0iqQEpGDvo2qYn+3ybj5/daIyrAE30b10SgTwURH7t2DYiPBy5cUC136qRSLK9b17btIggNfvvtNwwfPhwAsHfvXqSlpeHWrVvYuHEjpk+fjuTkZBu3kNDEXtKUCIIoP8z97uf3a4gXImmpvLDWdATpeuhdnRzRJcIPh24+09v2VXPs2YmJv9NzsHxoFJRg9KImZ/SOwP1skd6+muPbPLEcM3tHgs91QJ5YClcnHhy5DkjccUXPgTQyOgSzd1/D0sFNKm+Od05Ojt66O3fu4IMPPsCnn35q7dMTRJlgK4EPQzOmmsY220nN7B2JDvWqqTuSLhF+eLNloF497phQH7zVPEC97MJ31AstF8kUBpXNhXwufF35aBboqfZwx2sY50/zi/HHtUxEBXrizxtPsfJoKo5Mal/m96TMkUiAhQuBL74AZDLA3R346isgIQHg6IfWE4QtycrKQo0aNQAA+/fvx+DBg1GvXj0kJCRg+fLlNm4doYu9pCmxUMg7QVgfc7/71OeFSPjxIoCSe8Gt5Qgy5qFf0F+VYqdpfL9qjr3uxITmmBIA/D2coFACRRI5HHVSHH1d+Vgb1wJfHbxlsLqPC5+L8Vsu6ZUSY8e5UYFeNq3/Xi453rqEhYVh0aJFGD58OG7dumWLJhBEibCFwIexGVNNNcmVR1ORnJqNOX0awN/TGXkiKbKLpJjROxJz915HVKCX2jhmPd5z917H0pflyaQKJSZ2CsP4jqFIvpuNdafTjAqsxceEYNnhfzEiOgQM9A36T7uF45sj/2JkdAgmbk2pGIqj586pDOzr11XLffsCq1YBtWrZtl0EYYTq1avjxo0b8Pf3x4EDB7Bq1SoAgEgkApfSIewOe0lTAijknSDKC3O/e80yrCWNftF0BOlGNnoJVV7qkmLKQz9j1zUsGdwE03rIyyzHXndiQrP+NgAkxTVHwo8X8cWAhuBwOGoHkZDPxboRLbD4gH7Ot2Y0ga4KOwtbFteW9d9tYngDAJfLxePHj211eoIoMeUt8GFOTZKdGQRUs4Kag6ofR7bEsFZBeh7v6FAfjIqpgxyRDDN3X9M6fmyYL3aNjYZUoUBsqI9exxUV4ImVR1Nx9t4LPW93yoNcOHKByJoemLg1Ba8Fedm34mhRkSqPe9kylXp5tWrAypXA4MHk5SbsmpEjR2LIkCHw9/cHh8NBly5dAADnzp1DeHi4jVtH6GIvdYgp5J0gyg9zv3tdB4eh6Bdj0SmsI2j27msGIxtLM5lmzkNfWCwvU3VwSycmFvx+ExtGtsCETmEAVN7qgmK50Zzvk3eyUCQ1Xb5WIlfatP671Q3vPWzt25cwDIPMzEysXLkS0dHR1j49QZQp5SnwkSP6T/jMUL62l5CnLqPgInDUGlS5Ozti6Z+3DZYU69XIH+tO39MzrE/dycL8329gRq8IzO3XELP3XNfqiFl7VHdmkiU21BdRAZ7YObYtarg72e8g7sgRlWJ5Wppq+Z13gK+/Bnx8bNsugrCAOXPmoGHDhnjw4AEGDx4MgUAAQDWZPW3aNBu3jtDFXuoQ21vIO0FUZkz97tkyq7poemHNRafU9HTGggGNMPmXf4x6fksymWaNyBxTaS2WTEyw416RRAF/Lycs6NcQxXIl0sworYukCqMlxgDA05ln02hMqxve/fv311rmcDioVq0aOnXqhK+++srapyeICkmeSArpyxk/IZ+L5UOj9GY1Y0N9sXxoFH4+nwE+10Grg3bkcozOCFZ3dzIahnPqThYKiuV4f/PfmNSlHqZ1D4dEroSHMw8ypdLgPiweQh6quwuQJ5Yh66Vaul0N5HJzVTW5k5JUywEBwHffAT162LRZBFFS3njjDb11cXFxNmgJYQ57qUNsTyHvBFHZMfa7ZwW+Jm5N0duH9cJaGp1SWCw3OpYr6WRaWUfmmJs4MDcxce1xnsFxb1Jcc6PpkCxSudJoibGYUB8E+QhtOja1uuGtNDNYJwhCn2cFEvx1LxvRoT6ICvTC+uQ0/RqGqVlgwGDhwMZ4USRRrxfyuXAAx2jZManC9G8yTyzDokGNMXFrCtrW8cGcfg0gkSkBRrvkg6YXHgDAABI5g+P/Psd3J+6heZCX/eQO7toFjB0LZGaqlseNUwmqubnZtFkEYQklEU2bOHGiFVtClAZ7qENsLyHvBFFV0P3duwgccTE9BxO3puh5YzWjXyyNTinLybSyjMyxdOLA1MTEtUd5Bse9APRK2moSG+qLv+5lo09jf73riQ3zxfx+DeEqsFmWNQAb5ngTBGGcXLFMXbbLmcc1GNoNAKdTs1EklcNVoBo0sd7xRX/c1JoJZZXQp22/gtpe5g3h9clpeK9dHTSs5YHE7Vdw6qWoxfKhUWDA4FJGrhEvvA/GdwpD41qeGLflku1zB58+BSZMAH79VbVcrx6wdi0QG2ub9hBEKfj6668t2o7D4ZDhbafYug6xvYS8E0RVQvd37yJwxB9BXiajXyw1qC2dTLOkkkFpInOMHdfSiQPNiYk8sQzFMgX+upeNiVtTsGJoFJYdvqO3f8qDXNx4nIeRLzWONI3vmFAfTO5WH0N/OIvXw/2wYmgUnuQX42GOWL1vz+WnbO4UsorhPWnSJIu3/d///meNJhBEhYTtyMAAK4c1w5WHuWge5GVynwKxHFwHYOvoVhBJFfjpXLpe+BHbOS0e1BhXH+aZmC1U5R4lp2ZjUpd6+N+hf7VqdbMlH2b0isDnv9804IXPBsBBnyb+atV1m+QOMgywaRPw0UdATg7A5QJTpgCzZgFOTuXbFoJ4RdJYPQKCKCX2EvJOEFUZS6JfLDWoLZlMK0klA0sjc/JEUpVA766rWmNN9rgl8cRrTkw8zhVjzYm7AABvF77BqE3WIfXz+Qytqj0ezjy4OTkifsMFiKQK9T1a8PtNuxOUtIrhnZKin7tgCA6pBxOEGmM1u3s29DcpFJFfLFPXg4wN9UVcdDDO3nuht31yajY+6xGBCVtTsHxolHqd5rlm9mmA/t8mAwAUSugZ1iKpAutOp6FnQ3/jeeKpWfjw9TD4uKpEn8o9dzA9HRgzBjh4ULXctCmwbh0QFVW+7SAIgrAj7CHknbAtVMfd9piLfrE0OsXcZBqAElcyMNe2x7linPj3OfZdeWxU1G1m70ij+wPG01pqejpj6eAmyBfLMHfvdYNRmxO3pmDi1hTsHh+NZ/kS5IllEDg64My9bHU6JXuP7FVQ0iqG97Fjx6xxWIKotJiq2T1/33XM6BWBz3Ze09tPVx3zVGoWlGDU3mZdiqRyLc+1bkmwtKwitcHuzDdezzszT2zyeuRKRl0OotxyB5VKYPVqYNo0oLAQEAiA2bNVgmo8yl8kKg8PHz7Enj17kJGRAalUqvUZRZERprB1yDthO6iOe8WgJNEppibT7j4rLFPDkx2njmgbbLKcF4/LQWyYr8Fzx4b5wpHLQZ7I8LnFUgVm771usCIPoBp/pmTkYP/VTDSo6YGfzqVrbat5j+6ZUT+3laAk5XgThI3JE0mRmVdstIM8lZqNz3pFagmbAf/V5L78MFcvJKd5oOHwdBe+6idvrCRYUlxz9bEZRn9/IZ+LDvWqIU9susMS8rkokjiUX+7grVvAqFFAsspbj+hoVS431TUmKhlHjhxB3759ERISgtu3b6Nhw4a4f/8+GIZBs2bNbN28SgV5B4nKAtVxr1iUJDrF2GRaWVcyYD3IQ1sGmtzufpYIcW2DoWQYvajKuLbB6PGN8TzrIqnxGt1s1GbXyOrqkHJNB1KwjxC1PJ3V98KciJqtBCXLxfC+cOECfv31V4Oz8zt27CiPJhCEXZEnkiK7SAoGwJzd1zC0VZDJ7dOzRRgRHYzPekWo1TEP33wKBgwu3H+hJUIRHeqDPo1V4ekAtJTHHbkOiA31MRgmznrPY1+GnD/OEeP18Go4fOs5gP+E2/LEMjOqkj5wdODgWYHE+rmDMhmwZAkwdy4glQKursDixcD77wMOpktOEERFJDExEZ988gnmzZsHNzc3bN++HX5+fnj77bfRvXt3q5zz5MmTWLJkCf7++29kZmZi586deqVCdTlx4gQmTZqE69evo2bNmpgyZQref/99q7SvrMkTSdWiPBwOR51faGtRHoIoLfYadksYR9egzhNJcfdZocUTgWVdyYA15M2V81IwjDqq8uPX66kdNSkPctWK7sYmfIokhlMqWdJfiPDTuXR15R1NB9KRSe218sUvpucYHafaUlDS6ob3zz//jHfffRddu3bFoUOH0LVrV9y5cwdPnjzBgAEDrH16grA72HCvJgGeSMnIQXJqNka8VGg0Ri0vJyz64xaSU7MxvlMo2tTxgUzBIOm0frmF5NRsLNh3E2Pa10GDmh5ayuNCPlfl1eZwtF7CsWG+mNk7Eo9fqj/2/zYZUYGeWNC/IZS4gaO3niM+JgTrk9MQHx2iFrhgz8cSHeqD2X0bQMB1QM+GNaz7Ir90CUhIAP75R7XcvTuwZg0QZHoSgyAqMjdv3sTWrVsBAI6OjhCLxXB1dcW8efPQr18/fPDBB2V+zqKiIjRp0gQjR47EoEGDzG6flpaGnj17YvTo0di8eTOSk5MxduxYVKtWzaL9bcnjXDGm/nZFL7qIzS8k7yBRkWCjNrKLpFg3ooVWaVFNqI67fVOaNIGyqmTAPkOswa3reNEtLesp5CM+RjVOjArwVGsQ6aI74ZMnkoJnxqgXODogOTUbDgC2vdcGB288UU+KsteTJ5LixL/PUd3dCRM6hmFcx1D8dVc7B9yWgpJWN7y/+OILfP311xg3bhzc3NzwzTffICQkBGPGjIG/v7+1T0/YOVUtlE8z3Gtk9H952OY8yFcf5qk/iwrwxMX0F+jZsAaiAjzxdqsgvVrdp1KzMLtvJObu0c6VEUkVSPjxImb2jsSMXhHIL5aD5+CAG5l56P9tstbLODk1G7N2XUNCTB189Ho98LgOiPR3h6eQjxm9IjBt+xW81TJQK0/8WX4xnB25qOUttN5NFIuBefNUnm6FAvD2BpYtA4YPB0iwkajkuLi4QCKRAABq1qyJu3fvokGDBgCArCzDHq1XpUePHujRo4fF269ZswaBgYFYtmwZACAiIgIXL17E0qVL7drwVvfPqfpaGwBsW6mhilDVxgTWxJhgKzuJpPm+r2h13KvSc1LaNIGyqGSg+QyN7xSK6FAfLcdLipHSstGhPtgyujUcHYBVbzfTG6OyaE74ZBVKcfz2M720Ss1jsppGp1KzMaKgGCkZOVg3ogWCvYXq68kRyfTE32JDfbFzbFtk5hYjxNcF/jaMWrK64X337l306tULACAQCFBUVAQOh4OPP/4YnTp1wty5c63dBMJOqYpCH2y4l5DPVYeCAzDqQY4N9cXMPpFqpXFAJVzWqJYHFu43Xqv7rZaBkMoZDG0VhJExdbQ6PJFUgcQdV3FkUnv4uQpQKJEbFG4DgL8zcjHT0xnz9l3HaZ12rRgahYQfL6o70dgwXywc0Mi6RvepU6pc7n//VS0PGQIsXw5Ur269cxKEHdG6dWskJycjMjISvXr1wieffIKrV69ix44daN26ta2bBwA4c+YMunbtqrWuW7duSEpKgkwmA89OxQ5NheMmp2Yj/mVkEnkHrUNVHBNYC1OCrQC0BFgrWh33yvqcvGpdbEO8SiUD3Wfov3FqmjqUfGr3cCw5cMug9zu7UAJPIR83MvNV3u9AT71JH80Jn/xiGTafTUdSXAuAA70Jo5HRIZi49b+qWRK5Esmp2eByOFjxcvycJ5Ji5q6rBkrdZmHevhuICvSCp5CHILiYvX5rYXXD29vbGwUFBQCAWrVq4dq1a2jUqBFyc3MhEomsfXrCTqnoQh8lnW3VDfdiGAYK5X/qZYaUxkN8XVBQLINcocTSwU3UM4Y1PZyx6IB+De3k1GwIHB2wNq4Flhy8pTf7qNvh5Yll+PrQbQxrrR+azXaeXSOrY76O0Q3g5Wwkg5/fa42HOWIIHB0QWs0Vta1ldOfnA4mJwKpVqmV/f9X/zeSZEkRl43//+x8KCwsBAHPmzEFhYSG2bduG0NBQfP311zZunYonT56gus5kWPXq1SGXy5GVlWUw2k0ikag9+QCQn59v9XbqYk6MqNwrNVQhKvqYwN6wdBLJ1mG3JaWyPiemJhMKJa8mkmZMfM3cOFb3GdIdp3o488DnOqgdQKwOkCHvNzv+FDimq41kAFAyjFrh3MOZh0WDGuObI/+iSYAnpnSvjwcvxOqqO7pRGmzo+8k7WXhWIPlvksKEOFt8dIjN+2+rG96xsbE4dOgQGjVqhCFDhuDDDz/E0aNHcejQIXTu3NnapyfslIos9FHS2VZD2/80qhXO3MvWEjrTVBqPDvVB78Y1AYZBooY3mq3rbUz1MbKmB746eMtkKQb2HM58Lqb0iACXA4zvFIqoAE9I5Eq48B3hIeRhycFbiArwNFGvOxsjC6W4kZmPtnV8kF0kgZxhyj7k648/VHW5HzxQLY8apQoz9/Qsu3MQRAWhTp066v8LhUKsYiej7AyOTtoH87JMgu56loULF9o8As6cGJHAsRwrNZSSihKCq9tOpZKpsGMCe8TcJJKbEw9HJrWvcHXcK/LY0RimJhOmbr+CuX0bYGN8SyiUDP42EK5dGkPSknGsoWdIc5y6a2xbiGX/tYPVATI2/nyvXR00rOWBDclpWuPKdmG++GJAI/AcOOr9j74U9WV1kHTRLaWb8UIEF4Gj2ecegM37b6vJ/v7zUvBo5cqVeOuttwCo1FgnT56Mp0+fYuDAgUhKSrLW6Qk7p6zLHJQX5mZb80RSi7bPE8uw7nQaZvZugOhQH63P2JCa+ftuwM/dSeuz5NRskzW0TRnKyanZavGL2DBfpGTk4M3vzkCqYJCSkYOEHy9i7E+XcCH9BZa8NN5ZD48xhHwuUjJyMGztOQxcfQadvzqBCVtT8DjXdJ1vi8jKAt55B+jZU2V016kDHD4M/PADGd0EYcfUqFEDT5480Vr37NkzODo6wsfHx+A+iYmJyMvLU/89YCfayhFWjMgQ0aE+5VOp4RV4nCvG+K0p6Py/Exiw6q+y7Y/LEEPtzHhhOgLSXscE9oq5SSQfFz7q+rna7bNsjIo6djSG2XKyd7KQllWEd9edx8gNF5CSkYPlQ6PUqYqlmQi0dBxriSq65jZRAZ4mS4HFhPpivY7RrT7vjit4VijR2n/d6TSMjA4xOkZedzpNa/207VfMlhCr7eVs82feaoZ3s2bN8Nprr2Hbtm1wcVHF0js4OGDKlCnYs2cP/ve//8HLy3CtYaLyU9ZlDsoLc7OtzwokuPusECkZObj7vBC5Ihn+Ts/R21bg6ACRVIG07CJEBXohKa45Vr3dDElxzREV6KUOqTFn+OpibnuJXInYMF+M6xCKBb/fRHxMiNrIZtHsPM2VjVAqGb2O1tgkhMUwDLBtGxAZCWzerCoLNmkScOUKQFEyRBXHwcEBXC7X6J890KZNGxw6dEhr3Z9//onmzZsbze8WCARwd3fX+itvWDEiXeM7NswXn/dvhJ4Na9hUlMcUJZ0UthXG2mkOex0T2CumJpHsPWrDFBV17GgIdgLqXlaRye00x3XJqdmq6jIxIaVOE7AkagCw7BnS3Mbc+FNuYLzIcjo1GzIFo7WODW1nx8g/v9dab4wM/Of9PnknC3yug8k219BxZtkCq4WaJycnY926dZg2bRo++eQTDBw4EAkJCejYsaO1TklUIMqqzEF5Y262NeOFSKt0QmyYr0EFUbZetqMDRysXRhc/NwGEfK56X3aWMzbM12DH6els+qUT4O2MT7vVx1vfn4VIqkBUgKfe+TU7T9Nq6774657hTrTUIV+PHwMffADs2aNabtAASEoCWrUq2XEIopKyc+dOrWWZTIaUlBT8+OOPVgvVLiwsRGrqf/1EWloa/vnnH3h7eyMwMBCJiYl49OgRNm7cCAB4//33sXLlSkyaNAmjR4/GmTNnkJSUpC6DZs+8ihiRLakoIbjG2mnqXWPPYwJ7xUPIx4L+DfHZzqtaGi0xoT5Y0L9huT8LZZUCUdHGjsauW3MCakTbYJPH0HWAJKdmY2avSIyOCSnVPVQwDJLimkMiVxpUG2ejBixVRWe3MeeoMeeNdnPS/1wztH3vhGh8ezRVr9Sjpuhanlj6ykru1sZqhnebNm3Qpk0bLF++HL/88gvWr1+P119/HcHBwYiPj0dcXBxq165trdMTdk5ZlDmwBeZmW3U5dScLSobRyq0GVCE0K4dF4Wm+xOhgIzrUB/8+LVArlQ9vHYTOEX7ILpBiZu9IzN97XStkJzbMF0E+QqMvpehQHxy8/hSR/u7qDtbQDKVm52mqXveM3hEYsOovo9deopAvhlEZ2JMnA3l5AI8HTJ+uElTj2+ezQBC2oF+/fnrr3njjDTRo0ADbtm1DQkJCmZ/z4sWLWpPmkyZNAgDExcVhw4YNyMzMREZGhvrzkJAQ7N+/Hx9//DG+/fZb1KxZE8uXL7frUmKaaIoRsQPne1lFdp0zXVFCcI21k33XOHA4enmn9jwmsFfyRFLM23cDTQO9MFKj5GfKg1zM33cDSwc3Kbd7WpYq5LYeO5ZkAsHUdRfLFOr1ltTFHt8pVMs4LpYpSnWtj3PFemNHXfFdzagBzYnIPLEMQj4XDg4ciGUKtSgau02OSGq0FFhMqA+EPNMRWc48rsnx8JGbz/Bp9/oYURCs9TxrOrZcBDzU9HTG0sFNUCSRQyRTQCRRwEPI06okZEusLq7m7OyMuLg4xMXF4e7du1i/fj2+++47zJkzB126dMH+/fut3QTCTqmIngVTs626Yg8smgqiLCKpAlvOZeDd1kGY17ch5uy9brR0wmuBXtg6ujXm7r2OZYfvAFB1zDN6RWBKj3A8zBHD3YkHrgMHrgJHgy8lzeNpKkoamqHUfAnoqlgCgIczD8f/fY7M3GItL74uFod83b0LjB4NHDumWm7ZUmWEN2xo2f4EQaBVq1YYPXq0VY7doUMHtTiaITZs2KC3rn379rh06ZJV2lNeVKSyRdYOwS0rj6WxdrLvmj8mxkKuZCrMmMBeySqU4vDNZzh885nRz615X9nnJU8shUSuRJMAT/ydnqMeM7yKCnlpxo5l8fxa0h+w51EwjJ6BC/x33TN6RajXWVoX25hxbClqL7sJ8d0rD3L1ogY8hHwUSRV641TNa/cQ8vGiSIoZvSP1KuHEhPpgVp8GkENp0rAWSeWY0i0cX0KV/shOQLSp4wMuR2XsPy+Q4Kdz6WrxNU3YiIfMXDHSX4iw4ugd7fK8LydnbN13W93w1qRu3bqYNm0aAgIC8Nlnn+HgwYPleXrCDjFW5sBeMTbbGhvmi7i2wVo1Bk3RLswXc/o0wNy915F8Nxs/v9caI9oansU7lZqF54USrZlrNjzo8M2niKzpgZVHU5EU1xxZhVLU9XPVeinxHR2w/9oT9fE0DWtD4X3sS4ADVd4NG+oTG+qDef0b4fN9N3D41jOM7xT6aqGBCgXwzTfAjBmAWAw4OwMLFgAffgjYSa4qQVQExGIxVqxYQVFkZUhFK1tkzRDcspyAMNXO5kGqGrv2dF8NURGU420ZAWHoeTFU0vRVUiBKMnYs7fOr+T27ChxxMT1HT7NHsz8okirU50mKa25U6PbknSxopjNrOjhm9Y7Egn03TFamMWQcW4K5EnPjOoTi7ZaBevfV0r5QpmSw+MBNg1EWi/64iRm9IjHypQNHN4JyZHQIsgqkqObOR4tgb4yOqYPa3kLM3XNNbwJiVu8GcOBwtCaV2IgHADj+73Psu/JYv5b3S5X4lTbuu8vN8D5x4gTWrVuH7du3g8vlYsiQIVYJiSMIa2NottXRgYMey08Z9QAHegtxZFJ7vdnZuf0aYtr2K3iYI8bYn4x7hxw4HKRk5Oh1QCOjQ+D4sjyPRK7Uys1hO5a7zwr1wtzZ2VVDoeQiqQJbz6XjiwGNkFUoxdOCYvC5qs5z8Jq/8FbLQEzuVh9SuQJvNKuNWbuvlTzk69o1ICEBOH9etdypE/D990Ddusb3IQgCXl5eWiW5GIZBQUEBhEIhNm/ebMOWVS7KM2e6LAw5a4XglvUEhK1DhV+VihIFYSsRMmPPi6GSpoD1UyBK+/xaOnnAHitXJMOM3dfU25sTGnteqJ1myDo4mgV6maxMM7ZDKN5oVrtUvxNzkzFOPK5B8UhL+0KlksHRW88NeqMBYEp3JX4+n4GoQC/E6xjmW86lI7KmB6ICPCFXMriYkYOk0/cMeufn7buORQMaIbFHhN6Y+u6zQvi5CYyKuJ26k4Un+cWV1/B+8OABNmzYgA0bNiAtLQ1t27bFihUrMGTIELXSOUFURHRnW/NEUjQP8jLqbfBzExj8obNGfGZescnzKQyoQbLLk7vWB6AKGzf0MtX1MIikCkzbfgXrRrRAQbEchRI5pnYPh1SuRH6xDNXcBDhy8xnm7L2O1yOqw8/dCRM0XjQrj6aiU30/NAtSVSUoUciXRAIsXAh88QUgkwHu7sBXX6mMcCP1fQmC+I+vv/5ay/B2cHBAtWrV0KpVK6oUUoaUl8ewLA25V0nfMmb8W2MCoiKmmQEVKwrCViJk5ryquml31lYhL83zW9LJA19XPsRyhdb25oTG5ArGoPfXVEoPoBJGyxdLAZTchjI3GeNhRJzXXF9YJJEhM1eMgmK5ye1EEgWm94zAjN36XmzNVEg2t92Y8HByajaK5UqEVXfT+4xNbTDFwxwxarg72ey3ajXDu0uXLjh27BiqVauGd999F/Hx8ahfv761TkcQNuVVZvE9hHwUvyzzZegFERvmizNG1MOTU7MxrQdHXWO2eZD+wNtQ295qGYjFB24ZnBXsFF4Nb7cKQqNaHnDhO0IJBj+/1xovCqUQyRRw4nHhxHNAZq4Y/i9zeyzqwM6dUxnY16+rlvv2BVatAmrVMr8vQRAAgBEjRti6CZUOQ0ZneXgMrWHIlSZ9y5TxXyixzgRERUszA/SNOE0RLLmSwYsiKZ4VSFAokds8BN1WkQXmjDRNo6g8VMhLM4FWkskDX1c+fhrVGg9ztOvQm1Lpjw71USuJs/o5LgJHFEnkRo1fFplcCReB5X2PZt/m7aI9GaMr4qZkGLVgmibmDXY+jv/7HEE+QjPb8SBnGPRu5I/46BDIlQz8PZwglSvxvFCCtXHNIZYqIFcycHQw7Ygpkugb+Y9zxSiWKc1OegDW1zgwhdUMb2dnZ2zfvh29e/cuk9qiCxcuxI4dO3Dr1i04Ozujbdu2WLx4MRnzhN1Qkln8PJHqBZ0rlsHNyRE3HuVhZu9IzNurL0oxu08D9F152uh5C8RyTOwUhiBvoda5nuYXI6dIivxiOTycHdVKmi+KpBAKHA3OJgr5XAxrFYQNyWnaiumhvoiLDsbkXy9DJFUgNtQH4zqFQcjnmu+8ioqAmTOBZctU6uXVqgErVwKDB5OXmyAs4MqVKxZv27hxYyu2pPJhzOhcOLCR1T2G9lAC7Gl+Mab+dtmoCNT8fqZFLitS3eRXRdOIE/K5ahEsNmVrxu5rWoaWrUPQbRFZYM5IY42i8kotKM0EWkkmDxYPaox5+67refJNVYRhvbuapbJWvd0MY3+6hIUDGxl1wphysBhCt28T8rlYN6IFGAB/p+cYFHEz9Myaip7oEuEHBgwa1nKHXMEYVTWPfdlnZhdJ0TLEB5/vv4FhrYL0HEDRoT6Y26cBlDDt+df93thJzCYBnqjp4WSiDK5KBNnHpRKGmu9h6/CWESdOnMC4cePQokULyOVyTJ8+HV27dsWNGzcobJ0oE8oqz87cPo9zxZj62xWtzik21Ae1vJzRPNhbT5RCJJGbVA/3EPJQzVUAP3cn9br07CLM2HlVz3heMKAheFwO8kSGXyzxMSFYn5ymL0qRmgUl/iuLdio1G0oAX/RvZPp6jxxRKZanpamW33kH+PprwMfHxB0iCEKTpk2bgsPhqMMQOSYmrBQK430FoY0pj/OcPdfxxYBG+GznVat5DG1dAuxxrhj3s4pMikBJFUosHNgIfm4Cvbq/zYO87K5usjXRNOI035XjO4UafG/aQwh6eUcWmDLSYsN81Xo35ZVaUJqQe0snDwCghrsTklOzERXopZezzQqmje0QCg4ALxc+jt56qpcjDgC1vZxx4MNY+Hs4oX29agbzyyd0CkOwjoPFGIb6NpFUgfgNFzCzdyQW9GuAv+6qvPdvtwrS+l3rPrPGoie6RPhhZu9ITH851mQnoxgwWg6kTuHVMLtPA7XKvTPfEZ92q4+vDt42mEI592W5O1NRoLrfGzuJ+Xd6Dr4d1gzjO4aqj6feL9QXI2OCMX5LCgY0tV2kZbmqmr8KBw4c0Fpev349/Pz88Pfff6Ndu3Y2ahVhb5TWeC4vwZQ8kVTP6AagHvi8FuyNhB8van3WNbK6yZAlhZJBnlimNrwfvhDhs51XDRrPM3Zew+cDGsKRa3hAFxXgaTKvRnNWNzk1G0VSIzk9ubmqmtxJSarlgADgu++AHj0Mb08QhFHS2IkrACkpKZg8eTI+/fRTtGnTBgBw5swZfPXVV/jyyy9t1cQKiSmP86Gbz5DYM8Kox7AsJmqtEc5uabvYgfnQloEmj5dfLMP+K5la76zoUB+sG9HCYiOgsqBpxGm+K029N60ZuWCP6urmQtwNiXfZsj2G7pc5Yz20mit2jW0LNycesoskADTq0OO/8ZxIqkBKRg6aBnhi4tYUNAv0xMjoED2jOzrUB3/eeIrXw/1eTpQAK4dG4VmBRF0724XvaFDxv6TaDCKpAvP33cDvE2Kw72qmnreZFY/TfWYNRU+4Ojli8q+Xta6XnWz4oEMoFAwDpYKBpwtf3xH0shLQX/de6N2PU3eykCuSYnzHUCgZRq+N414a1Zqwk5giqQLjtlzCmPZ1MLV7uHqdu5Mj/rzxFOO3pNh8wrDCGN665OXlAQC8vb2NbiORSCCRSNTL+fn5Vm8XYTtepWREeQmmZBVKDYbhAKrOekqPcHx/8p5WR5SZV2yyBENmXjEcHThwETjChc9FxguRcUXH1Cw8zBHDz90Jr4f74fAt7Rqf5kQpdD836InftQsYOxbIzFQtjxunElRz0xfCIAjCPEFBQer/Dx48GMuXL0fPnj3V6xo3boyAgADMnDkT/fv3t0ELKybsYE0z11HTq1tYLEOdaq56/X9ZTdS6Ojni9Qg/hPu76537dmZ+iQeHJWkXOzAfqRMiq4tUrtR7ZyWnZoPL4WDFy1DaqoKmEaf5LjT33rRG5II9q6vbm3heSdtjyeRB0EtxM1mm6rtnjc6f32uNEQUSg6VhT6dmI7FHhNa5NEPPdb2wDhwOuA4cCHhcg0Z3abUZ4mNCMEsnLQLQFo8z9MzqRk/cfVaoN25mw+dXHk3F3gnRkCsYfHXwll5Uzak7WVAyjJ5QHcvDHDGuPc4zqIA+fsslbH+/rdaEg7eQDyGfC5FUAZFUga8P3cHXh+6oj5cU1xzLDt+xi+oJFdLwZhgGkyZNQkxMDBo2NJ5/tHDhQsydO7ccW0bYilcxnnNFMoxoG4yhLQO1wm1EUkXZl40RSwHoi7LU9HCGRK5AkUSBTQmtcOz2M3UbHB04mPByFlG3A2JVILkcDk78+xxNAzxNhqECQK5YhtUn7mJB/4YQyxVana+nGWEPXdEKLSGQp0+BCROAX39VLderB6xdC8TGluAOEQRhiqtXryIkRN9YCgkJwY0bN2zQooqLuxNPK1dXV2n3jWb6ddHLaqL2ca4Yn/9+A592C8e8fde1zh0T6oMvBphJ43nFdrGTDgzDICbURys0VLMdxtKcyisH3d4wVInEnJhTWefBVwR19bIMcS+vNEBNLDXWvVz46t+PSKowWxq2UCJHUlxz9Tju6qM8XH+ch7XvNkeeWIp7zwvB5zogcedVo5MqeSKpqnzZrqsl0mZgx53dGlRHpL87RsbU0RrvAv9FNlryzJpLlXnwQgyBo4PJ8mi6ufGaNKzpoRcByvbXutfeLswX60a0QPyGC3p9li1SHExRIQ3v8ePH48qVKzh92rjgFAAkJiZi0qRJ6uX8/HwEBARYu3mEDSitSM3jXLHeD1i3VmNZzlYLBY4GRVkWHbipnYsS5os942MgkcnhzHNE2zo+BmcFY0N9kF0oQb0a7vjh9D0k7riKpLjmJtsgcHTAqTtZKJYp0LuRPxJi6sCRy4G3kA8XAdeksEfKg1ytNvq5CVSCaZs2AR99BOTkAFwuMGUKMGsW4OSkdxyCIEpPREQEFixYgKSkJDi9/H1JJBIsWLAAERERZvYmNPF15WNu3wbYYCA/Nzk1G7N2X9MzYkr7rtE0HlwFjriYnoOw6m6Yt++63rlPp2Zjxi79cxs7nrszD44cDv5Oz7G4XWyYO5fDwYjoEDDQj6gaER0CromJXGvnoNsr7H1kw5FNKVhbQ7nbHkT5ygtbevYtMdaruzthQf9GmLHrKk6nZpudhPEQ8qBQMpDIleA5OKBXY388L5AgVySDk5yLHJEMP51LNzipMnv3Nczu0wCJO69iRNtgs9oMugrmxiYYDdUmt+SZtSQXvqRRlGybUh7komWIt9qLzWJMh+jknSwwAOb2bYD0FyJ1BJGXkIdAbyFqeZlWXC9PrGJ4l0RYrW/fviU69oQJE7Bnzx6cPHkStWvrz0ZrIhAIIBAISnR8omJSGpEa9ayxiXCblUdTy3S2mu/ggJm9IsyKspy6k4XZe64hKtALKRk5mNu3AQBohYbHhvpiXr8GEEkV+OrQbXVIjrcLX0tZUrdkhKeQj/GdQvEkrxg1PJzhxHPAD6fuIbKmB5oHemFGrwgs2HdTK7ww5uUgbOLWFAAa+VHPM4H33wdYDYamTYF164CoqhWCSBDlxZo1a9CnTx8EBASgSZMmAIDLly+Dw+Fg3759Nm5dxcJDyEfj2h749DfDqvGGjJjSvGsMGQ/RoT6Y1iMcyw7f0dve0Lk1DW0XviP+zsjB/H031IPS2DBfgwNoY+1i81jFcgU++eWy0YiqpYObGL3WqqRorotmOLIxBWtrhbXaWpSvvKgInn1AFTUyMjoEU3uEw5HjYFIULFckw6iNKi/u8qFRmLPnup4AWFx0MM4ayH2u7++OxB2qMaumNoOhVBlApbg+9WW4vDGD1VBt8tpezhbdV1O58KzxzI47jaFbPk0z9L5NHf1JAVN6Cn+n52BevwbY888js0rttsQqhrelOWYcDsdiBVaGYTBhwgTs3LkTx48fNxhqR1RN8kRSOPO4WPV2M71QcRZDAwRLajVqzlaXRbhTjliKqEAvJO68BsAyMbOVR1Mxe891zOgViUld6yPvZQmyp/nFWHrwNsZ2qothrYLUM5nszCYA/J1huGREdKgP+jauiUM3n+BSeo7e/vExIXi/Q13wuA4QSeWo5eWMRy/E2DCyJXxc+PAVOsLjxyRg2jSgsBAQCIDZs1WCaryqOxgjCGvTsmVLpKWlYfPmzbh16xYYhsGbb76JYcOGUYWPEsL26abQNWIMeXk0B74yJYO7zwvV7wdjxkNyajae5Uv0jmXo3MYMd81BqaGcSVPtYg3HZwUSrbJGuhhLPyqPGsz2jmY4cpFEhi/6N4JUoUSRRF4mec3GxhyvKspnj6Jshqgonn1vFz5m77mOk3ey1OMvQ6JgcW2D8f3Ju1g+NArXH+dZVEFGE83xIutZN+bJjn056bNiaBRyRTKIZMZ/45oh3+3CfFHD3XSkoubzM6NXpN4koKbxHB8TYjQaJCbUB/4eTlg3ogWKZQqtCb+oQE+cuZeNfzJyjOaB6xIfE4JZu64ZDb+3l4kaqxjeSqXp0ILSMG7cOGzZsgW7d++Gm5sbnjx5AgDw8PCAs7N9zGIQ5Y8lAxJjAwRzs8YA1LPVZRXu5OPCx7OC/wZblobhJKdm40WRFG+vPaf+jO3cGAZaHTgr8rFiaBQSe4Zj4f6bBmc55++7jk+7h0MsU+rtz4pjxIb6okejGriYnoOVR1NxZFJ71M15BAxMAJKTXzYkWpXLHR5u8X0gCKL0CIVCvPfee7ZuRoUnx0hZRU10jRhdL4+xgS/7fiiWKYwaD5ac25ThDmh7qjQH0ObaVdPTGTU9nSGVK0zUvPVFgJeznlfLHgSK7AVrlesyNeYoTYksS45rLx5Blori2dcVY2PHX2M7hCJPLNMTWZPIlZjaPVxL/EsTY7nP7HhQyFd5tH8a1QoKJQNHLudldGSu2vg9dScLU7dfwby+DXA27QU8haYnYyRypUW/a2PPz+8TY5CeJYKPGx8Hr/9XMm3d6TRsGd0aHNzS0pFgU1m+2H8TnSOqI3HHVa3PNGudz+gVidfD/eDuzIMDB+oceSceF1ce5oLDAZrU8kQtb2dEBXhiqE55NGvoNb0KFSbHe/Xq1QCADh06aK1fv349RowYUf4NImyOJQOSKw9yjXYk5maNA72F8H8pZGEs3Gn27mtYMKARCovlZmePH+eKMXPXdYyIDgag6jxrezlrdSK63nrNfKE8sfZLhr3OuX0b6A2aRFIFJmxNwbYxrY3mAZ1KzcanAJoHegGAOsxQsx2nUrMwpUd9LPj9JjqGeKLW6mXAwgWARAK4ugKLF6tCzR1M5zURBFF69uzZgx49eoDH45lN5Spp+lZVJU8kxcxdV9FEp/6uJrFhvnB04CAlI0erb9ccZJvKOZy2/Qpm9I402oaUB7mIDfUx2EezBpQlkVmGMNcu1vuTJ5YZrZoRFx2MRQduYeHARiiWKe1CoboqYEmIdUlLZFl6XHv6Xq1Rbs9a6IqxOfG46P7NKYPbGqs6o4khp4yn839ikOt0ftuGcrVP3cnCvawi7LvyGNN6mHaM1PF1MaspYUrQbdbu6xjRNhgMA1zOyFG3QSRVILdIiqaBXhhpIJVFJFVgctf6WoJzmp8J+VxwHThwd+aBATBTx6MdG+qL8Z3qokiqwLw91/U+2zK6NUb9eEH9vdgD5WJ4FxUV4cSJE8jIyIBUqh3WNXHiRIuOwTCMNZpGVGDMDUhm9orE6JgQox2JuVljPzeByfMI+VwMaxWEozefws/dCRK5EjkiGc6nvUCHetW06lX+l0+ehSaBnugUXg3DWgXhywP6s4Bs5xkV6KklZmZItCM5NRvFMu0OWjO8sKjYdCqHWKqAv6cTUk7nGBXceJgjxiA8xaxvp4J39WUuZPfuwJo1gEaZI4IgrEP//v3x5MkT+Pn5mUzlKkn6VlVHVdoxG39n5BrMz40N88W4DqHosfyUehCp6RlkB9kSufEQzpN3sqBUGh+7rDudhl1jozFXR2BN04C6l1Vk8jp0B+iseq+5drHeH1cBD0N/OGfSQ1dQLMeKoVGo6+dqsi1E2WBJiHVdP9cSl+wqSei2PYSjv4pn35oYuzea0Q8pGYaFDlnEUgXWjWhhMDUS0M99bhfmiyAfIWb2jrQ4VxtQ9Q/Jqdm4+jDP6CQfm4/t7lwNHgY0yFgvtylBt1N3sjCibTDe+v6sKtReo02mwtwBldK7rno58F/Uzry919Hkpd6RodD8Ho1qYP/VTL3KDKdSs8CAwdbRrTH0h7N2M1FjdcM7JSUFPXv2hEgkQlFREby9vZGVlQWhUAg/Pz+LDW+C0MVcGFKxTGHyRWGuViO7r7HzjGlfB048B+y7mqk38xji64JCqRwOHA58XbS9FutOp+Hn91pj8YFbRjvPGb0i4OfupBYzi9VRFNekUCJX/183vNCcwrmrwBEL9t0w2o73Wvij5XdL0H31cnAUCsDbG1i2DBg+HDBTtowgiLJBM33LGqlcVRG2X2dTczTFxfzcBLjztADxP2qXptH1DHoI+WYH2Gy6kyHjoXmQFwSOHMzqHQklAxRJ5PBw5sHPTaB+/1iiHMzCThhb0i7W++PrykfzIFXUk2Yqkyb2FKZZFbA0xLqkYe6WHrcsw9FfxYC3dIyme75nBRLkimVw4XPhInCEp7N+DezSYujexIb5Yn6/hvB6WWub1R0yBWtsGvJUx4T6IMhHNYGmO6nSLNBTKyxbE0MRMGz/sOD3m9g1Nhrz913Xq+LDhnX/EeSl5/XWjJLQFHQzhJsTDz+/1xpP8osxqUt9TO3OQWZeMWqbeWY8nHkG+0jNqJ0R0cbzvKu7OxkshwioKkQ8K5BgU0Iru9GksLrh/fHHH6NPnz5YvXo1PD09cfbsWfB4PAwfPhwffvihtU9PVGLKIgzJklqNxs7Tsb6fSeN5avdw9F2ZjHZhvpjYOUz9uUiqQFah1Gi4UXJqNj5+vR7eXXceIqkq/25mnwbo/22ywe2dHLnqmUzd8MKrj0zPcvJM1FiUHjuBMWd+gHPaXdWKIUOA5cuB6tUNbk8QhG3Izc2Fp6enrZtRodDs11ldCzZaKMC7OjyEfKwc1kzPI6VrhJp7D3k484waDwv6N8S8fTdw+KZGtYqXg3hAZXhYohzMHk/TGLH0/cgaNzcz801uby9hmhWBV/UWWyvE2pLjliQc3dx1loUBrztGc3fmwUXgiMJiuV4KyONcMab+dkWrIkt0qA8mdApD0MvUwVfB2L05dScLM3ddw4TOofB3d8Jnu66hSYCn0RQWzd+trqc6NswXCwc0Qm0j5a8MVSzQRDMCRvM8IqkCadlF+LR7OEYUSAyGdRuaYNN0GpkrlVZQLMM3R9IwMjoE7ySdQ1SgJyZ0CoOX0LBhDfw3WajbRwr5XLweUV1tbJvSQzKnlZQnloEDoKaHfZS3tbrh/c8//+C7774Dl8sFl8uFRCJBnTp18OWXXyIuLg4DBw60dhOISoqvK99k2QZLZ7fMzRprDnw0w7iLZUokxNRBVKCXXqiQZmd7MT0HQj5XK5fb0cG0t1iuZLB0cBMIHB3wrECilTOjSUyoD7gOHIyMCYES2qqXQj4XTWp7olWIt1bYD3t/EmJCkC/WH0y5SkSYcuJHvJvyu2qFvz+wahVgYbUCgiCsx+LFixEcHIw333wTADB48GBs374d/v7+2L9/v7rEGGEaS0XSDHmkNI1QJ54DYkJ9DHpc2HBYDyEfSwY3QU6RFPnFcrg7O8LdiYfPf7+Bv+6qykpqlgL6624WeFwHRIf6oqans1HDfV6/hsgXSzGgaS29CeOShOnW9HRG0cvIKUOliS69NHDKA3sIcX4VysLYtFaItSXHtTQc3dx1lmU+ueYY7XGuGJN/vax33i8GNMKcPde1jG7gv3FP78Y10bNhjVd6lkzdm1OpWfigQ108zBXj7/Qc/J2eYziFJdQXk7vVR8KPF7TaOL1nhN7vmP0t5ImlEAoc4cDhwJlv2pPOGseanmwWRwcOHuao7h/7G29UywPb3msDiVyB54USSOUK5In+M741oyRM1atnjXzdiQQHDgef92+ILwY0wmc7rxqNXPAQQqtCgLszH3efF+pdl6lrNvV5rlhmN1E7Vje8eTweOC9DUqtXr46MjAxERETAw8MDGRkZ1j49UckZ1zHUYNmGcR1Dy+wcrEdg9u5reLNloEUDMwBqYYjlQ6Pwxf6bWgOzn0a1MnnOIokcY3+6hOhQHyTEhIADjl6HFxumquN951khBFwu4qND4CL47yc9pn0dZOaJUcPDGWPa1UVijwjIFErkiWTIzC9GDQ8Bcoq0De8Ody/i84PfolbBcwBAztB3UbxwEfyD/Et38wiCKFO+++47bN68GQBw6NAhHD58GAcOHMAvv/yCTz/9FH/++aeNW2j/5ImkyC6SYnbfBqrBegnr3LIex6f5xXjwQoSZvSOxYN9NrUF/TKgPvhjQyKCR4uuq8qaP7xSGEW1DIFcqkXw3Wz2BGx3qg/n9GiIjuwhP8sTwfGm454tlyBPLINQIoQ32dVFf091nhVoGq2YdXxZjYbp+bgJ0ifAz+I6LCfXBW80DSnyPS2pAW2LM2bNRbs7YXDK4iUVCrKUJsTbXrqxCKQolMszr1xCzdl8zelxzmgIFxTKLjGprlAIzdd7EnVfRJMATh28909uPDcF+VcMrT2y69GCuWIafzqWr+4pp269g3YgWKCiWa2knfHPkXywa1FhrzCiVKxFZ00N9rMxcMY7/+xx+boKXE2ByPMkTo1EtT6MTfbFhvqjmJkBSXHMtTzagGqdee5yHzvWrY9uY1niWL4EDhwN/DwG+PnwbR289Vx9H8zenGSVhrF69rpGfnJqNaT0i1PvceVaIn89nmBVpZCdY8kRSjN+aohZ9BEwb/U/zi4064TTridtL1I7VDe+oqChcvHgR9erVQ8eOHTFr1ixkZWVh06ZNaNSokbVPT1RisgqliN9wQSs3j+3Y4jdcwN7xMWX2Uq7p6YwFAxph8i//WCxq4ejAMTqYO3Mv2+LOc/yWFPXxx3UIhROPCxcBF5fSc9Fr+WmtjpVVrhTyuejRwF9PtIftIOfvu4Ffx7SBSKpATKgPrl+5h5lH12Lg9WMAgHTPGtgS/xkGTRmBBftuYMVQH7sa4BBEVSUzMxMBASojaN++fRgyZAi6du2K4OBgtGplekKP0DbuWO/uB+3rwkPIw7rTaXreZzbUXLPOra8rG9Z6GadSs9XHeb9DXXAdOBBJFbiUkQOZQomn+cW4n1WEoS0DMTI6BDcz89Alsgbm7tXvm9kJ3OTUbMzafQ1NA73U75TYMF+M6xiK+A0XtMTeFg9qDAYwarBaKsDlIeRjTt8GmLL9it776nRqNj7bedViL2VpvL7mqofM7tMAiTuv2nUZLHPG5t1nhRimkUdvqv2WpMFZwqMcEdKzRcgVq5S2j//7HH2a1MT0XhEQSxV6x7UkHN0So9oapcBMepxfinsZQyJXIk8s05ucKsn9FPIddZa1o0MCvYWICvRSV4p5q2WgwXREtj2GJvMA1W8h/YUI+6481usj6lZzwafdwwEdYd7YMF98OagxAGDpwdt6Eyvz+zWEgmEwe7e2KnjMy7JeZ++90EqnYSdQNKMkdPUwAFUqzfF/n+s5nh68ECElQ+X1lysZHLr5DBK50iKRxqxCKf5Oz8Gn3eqrx8mmjH5/D2fM6dMAs/dc0xMrHhkdgi3n0gEAA5rWMnne8sLqhvcXX3yBgoICAMD8+fMRFxeHDz74AKGhoVi/fr21T09UYvKLZercPEOU9exWYbHcaD50SkYupnYPV3fAXkIe8otlaK4xcNKE7UQ44Oh5ST7tVh8eTjytzlPI56KWpzN8XPngcDiYv/e6Xls0lSubBHphvo7RzW4DqIz4/GI5uACm5l9G4IZEeBTkQMFxwLrmfXEmbiKGdYqETGFf9Q8Joqrj5eWFBw8eICAgAAcOHMCCBQsAqCp/WFPRfNWqVViyZAkyMzPRoEEDLFu2DLGxsQa3PX78ODp27Ki3/ubNmwgPN13WxproGsGsUb3yaCp+GdPaZKi5gmHUhi7w0tBlVXtfvodWHk1FdKgPogK98PP5DAxqVguTf/lHq69eOKAh5u813TevPJqKSxm5mNu3IbpGVodIqgCP64C7zwowpn0ddf3fk3eycPzf59h/JVMvxFZ38Ay8DBt9meXEepY0PchKJWPQSGCPZ8l7oLQhxqaMqvr+7kjcccVgGSN7KoNlztjM1UntMtf+V60R/vCFCFN3XDE4+b704G0sHdxE7/iWhKNb4hW3Rp66uftrKtdX4OiAYpkCA1f/pV5X0okbBwcOYkN9cSo1y2RqSp/G/hDyuVqpf7poCqGx95X9PXIArDh6x2gfkdgjHE0DvTC1RzgevBCrUxKFfC48hHyDEzYAMH5rit5v6HRqNhjoO4401fM1oy/Yvi421Bdx0cFqLSJD91uz5O2qt5vBicdFrkhm9pkuKJZixdAoLD/8L0ZEh4B5ee2s0T+2Qyh4XAcUSuS4lJGDTWfv47UgL0zpHo4PdKILtpxLx7BWQdh2PgO+MYZLL5Y3Vje8mzf/T1W5WrVq2L9/v7VPSVQRyrvGo7FOn+2Alxy4pacWOat3JIR8rl7HxM4c/jSqlbquNztz+KJQCjCMXr7LzF3XkLjjKpLimhudAGCVK58XSsx2+J65z+A9+SNUP64KTS0MrY/Lc75CnWbNkfcyTGnNO68BIGEdgrAXBg4ciGHDhiEsLAzZ2dno0aMHAJWeSmho2aXYaLJt2zZ89NFHWLVqFaKjo/Hdd9+hR48euHHjBgIDjSvd3r59G+7u7urlatWqWaV9lqDpoWZhjepp26/A11WAb44YH+wu6NcQK156XDLzijG8dRCmdAtX50YKHP/zjr8XWxddI6tjxq5resfzc3cy2n+zfTP7TpmzR79m7cw+kfjuxD31O8XPTaBndLOcvJOFJ/nFWPD7TbVRK+RzMbN3JJoFeuJRrhgAR91u9voMIeRzoWQYsx7D0oYYmzKqTBkw9jQxXBIFehZrtT9PJEXiDv3oBXY5KtDL4HktCXN3dzIdcs0ae6YMeEcHjp44mjnM3V9PIzoE0aE+eJZfjEd5xVrrLZ24+S/XWobpvSKQkpGLpwXFBqMZUzJycSk9FxvjW0KmYEyWDJPIler7KpIqMOXlhNWe8dEmxXeVDLDyaCoi/d0x9v/sXXl8E2X+fnIfLU3SpAUKPUmhJ1AoZ1JARLkFZF0FVlsKoiLgsYqg3CB4sLsu4C0IroD+PLgRFPGggCjQhRbKUSgtR6E0JOmR+/j9kc50JpmZBORyzfP5+PlImpl5887M+37P51l7mPxb96ToAFkzAmdqGjjld/3Z0IFmu49afWG0+OYBANYeqGR0uv3J40wWJznOvKbfSwQ7mNpHlDIxGh0e7DpxFfvOXguoat1/1oDcBBUKV/9GK3N/+4cztAqE+zN8RMCf/1qFBSOy7oo1ArhNOt5hhHErcLs1HtkWfa7ewEVbywIiiQQsDjeuNTpI/cKV+blYsbsc74zrgniJPKDfhTCuXB4vazmkT3PVCTEX2YTXi7gv10L75nyI6uvg4Avxdq+/4p1eD8FZAqCkWU8xQiyAXCy4a/QPwwjjz45//etfSEpKwvnz5/HGG28gMtJXtlddXY3Jkyffkmv+85//xIQJEzBx4kQAwFtvvYWdO3fi3XffxZIlS1iPi42NvSvY1s0WRxPbMbMT8sZfOsLqcHMau2arCyIhHzO/LsG52kasKugGQ4MdEpEAbVVyGBsd0LXT4P6MlhALeTA2OpGToCINRmKddrg9rARmq4oqyBJUpj1lT3ktFm49jrUTe8BocZLnIyAXCzCpTwr0Wg1cbi8iJAII+XxM0CVjgi4ZdrcHyZoILNhyjJQkkosFmDU0HZ8/0RONdmZtYaqeLnUOmTKGwbKShkYHcLUhwNnicqqCsRbfLYHhUBno/XErxk/o1DOBcLTYrhuszD0U24vNgc9L1WDyPVoMXraH1jIRSuY52HUT1fKAXl+C1dzqcGPhtrKA44IFPhjlw7QavDI0HW/tOk37LjULvncDcxsJ1VFN0USQwa4p64vJawRjLif+7h/I4XqObqRagGr3Ue3RqeuLcbCJPI7QCSfAROrm9njJjPfhKiPmbirF0oc6odHhZmxJmdyvHU3ukcl+Xv94T2yZqsPOY1do80r97vZpeh9hnT75rnG6gdvgeCcnJ5Pkakw4e/bsrR5CGP+juJkEJKGQtrAt+lzReILpkunv/hsxsfApZSJa0ICaQZCLBUhWR+CT/edYCd7MNhdas8gmJBir8dqO5UivOgoAsHTuigUjn8NnViXj+E5erseqgm53jf5hGGH82SESifDCCy8EfP7ss8/ekus5HA4cOnQIM2bMoH1+//33Y9++fSxH+ZCTkwObzYaMjAzMmjWLsfz8dqCm3s6aFd5bbsDLQ9Jx/pqV/IzJMRYJeWiwOdGrXTQWjsjCgq3HMLZHIpb/UE4zPPVaNRaNzIY60pfR81+nB2e15CxpF/J43HtKUy8roQE8MLMlOeYVY3PwcVEFzSHQadWYco8WNqcHJy7X4ZP958jxUh2FlzeUksfkpWqwdaoel0xWON1eeLxerD1QGVKpd7CsZL3Nib++vz/A2dJEirHkwWwKmVRzMIItk0ngbgkMczmb+b2TaM4IFbdi/KE4WlzX5SpzD9X28nfgIyRCHKw00ngKgNAzz8Gu21opw4oxOaipt5MkhJFiITzw4mytBUsf6hSQqADYHVZW+bDy2qZqETq4kjB8AJ9N6okLRiukIgGu1NnQWiGFQi6mZaPlYkHQd0jI5zEGcrju5/VWY7Alr6j3gCj9fmVoBs7VNgbIkxFoaCILBpodc5PViVkbShlbZNxeL54b0J5zvBaHC3vP1KKYRfGnT6oGbZSyu8rhJnDLHW9/Y8DpdKK4uBg7duzAiy++eKsvH8b/OG4GAUmoRDBsi34wiIWBcjNMUcG2KhnWP94D8dFyWv+dodFX1iUXC7B8TA6uNtgxrkciJuhTyA2EWOhnDU3HZbMV7TQRtGvyPW6MP7gZL+z5FDKXHW6pDIt7jcWVgscx7f4MXNx2PCBKTIyva6IKKzhKEMMII4zbi//85z94//33cfbsWezfvx+JiYl46623kJycjBEjRtzUa9XW1sLtdqNly5a0z1u2bInLly8zHtO6dWt88MEH6Nq1K+x2O/7zn//g3nvvxY8//og+ffowHmO322G328l/19Vx60pfD/x7a/3RYHORVUJsvZt5Wg0WjsxC9yQVZm8sQacEFaORXVRuwOxNpRiS1YrRAK+3uViNcx5AY/JlAxGk3VtuQOkFM/K0GnRKUGJVUUUAYSdVTml4dhycbi+Kq0ywONzsmfXTtZi76RgKdEmYur4YXRNUyNcl0QiYCPhnDEPN+vo7W40Od0Cvuk6rxqqCbkhQyW5rddvvAZNNEikVYtaGElYH4VaMP5Sy7N9z3VBtL6oDf6amgay0AAIDXNV1NvKYG70u9XpmiwNGixOzN5YytpgQDiKbw8rVNsEE7iSMAQX1dlrJdd/2MVDI6UGSQn0y/nveyMrgnZeqQcXVRkzQJ5PEu0Dw54jrvdT7OfHBklfEPTA0OuBweSAS8LG+KTDnf0+VchGsTQo/FkpV0ayhGZzB0JcG8VnngBhvM1cSaOvejbL/3y7ccsf7mWeeYfz87bffxsGDBxn/FkYY14PfQ0ByvUQwxIJzuc6GC0ZfxFMRJBrvdHvQOUGFZwe0J3tjmKQevj1+BSt2l6NPqgaLRmZhwZbj2HfWgM8m9cTqgm5orZRi0dbjrBvI3nIDXh6cjpp6OxodLhQ2yZBd2X8Qb3yzDJ2rT/l+c688GP+1HBVldswYmI4Jq3/Dx+O7odJgoTHDE+Pbcxf10IURxp8d7777LubMmYNnn30Wr776KkmoplQq8dZbb910x5uAf+Wa1+tlrWbr0KEDOnToQP67V69eOH/+PJYuXcrqeC9ZsgTz58+/eQOmICKI9m0LmQgNdhfpwLKVec/aWIJXR2b7jGgdcwsRwM2wbHF4WEvai8oNeGVoBqmpzQZqdmrhtjJsnapHtdkWlNej0enC8Utmcs8IVq31ZL925Hc98LK2TVEzhmwBaqZgM+G0AwRZXaAGs4DHw/IxOayZToLJ+fewVd8o2CrlmGyS+SOyYHfdHHmwUBDM0UpUy3/3da/X9qI6mGwBLiLpESEWsFYh+l+XSUrP4nDjx1NXA5jBATqR4dHzJhqxWYPdCaVcDIfLA6PFydqjXXzehLxUDQ5VGklHUy4WBu3pJrDndC1e+uooFo3MQrRcDHnTGtWvfQweW/UrK4P3/AcycejcNZRcNAeoG9xItUBek73pdHswIC2WMYDC9pw3OtyYu6kUh6pMWDYmByIhH2N7JAaV3CUCkFyoNtvIICSTDrqx0YGcMUokquX4x187o8Hm+l3s/7cTd6zHe/DgwZg5c2aY2TyMO4obJYKhktVM6a/ljE5aHG7kxCthaHQgWRMRwEhOsEMSBsnPp2vx8oYSdEuOxiM9EvDGjhPonKBCcZExKBPuNYsDT687jA8e7QqBw4Hpv6xH5ifvgO9ywhXZAt9PnI7nIruia4kNBbokVNQ2YkROG1QaLGSvORPulh66MML4s2P58uX48MMPMXLkSLz22mvk57m5uYwl6L8XGo0GAoEgILtdU1MTkAXnQs+ePUn9cSbMnDkTzz//PPnvuro6Ujbt96KFREiyEfsjT6uBTMiHXCzA3wd2gMXuYnVGi8oNsDh9xm4wrg22vmSbk7t/82qDHReuWdj3FL/slMXhhtPthjpCjJX5ubSxfPZrFR7pnkA6BTzwMK5HIqk1HKx32uyvS0zR5qU6Ff4ZQ2pW0tDoy0wylaACzXtLsH24XWwkY6az0eGm9ccCt0dm7Hol026WPFio4HK0lozKRhuVHMCN6a3fKKhZeLZqi5+bHNIh2a0x8+sSMoPaO0UNsZAPVYSYNka2+zD5Hi1aRkk5eRue7qfFuO4JJLHZoaa+5Td2nmSV+iOe31VFFfhmWh6q62xYvvs0p6NJwL+ce8/pWpTXNGD1vnP4uKAbLA43zFZngGwXNSFyuqYBL35Vgh3P5KFvasx1PUehPIPE83C2thFRMhGkQj7mbj6GXWU+fXR/csbx+hR0qjJixldH8frojljNUs0D0JnT5UGCoUI+Dy81nXPG4DQ02NyIkgrh9nrx9NrDGJHTBjnxShgtTvB4PGgixUFlyu4W3DHH+8svv0R0dPSdunwYf2JQNxqXx8v5XaPFAbPFF5EnjpGJBbRFnk1fUK9Vk72Au09cBdBMZDN9cBouGK1IUMkhFPCwq+wKljcRVUSIhXB5PEhSR2Beky7heI7sCpUJt7VChk8ndEfLsiNQTpuMiNMnAADfaXtg1v1P4YpEAzg92FNeiwJdEoR8Xz9hMNwtPXRhhPFnR0VFBXJyAls/JBIJGhu5ZX5uBGKxGF27dsV3332HUaNGkZ9/991315VdLy4uRuvWrVn/LpFIIJFIftdYmXDJZMX8LceRr0uCB94Agzpfl4RvjlWja0I0Jq75De+O68p5vnqbMySuDSYGa4CZ2ZoKlVwMqYCP+Q9kYv5mvyBtqgbzH8jE1Xo7BmW2wpU6G+ZtPgaxQIA5fvq8/dNisHZiTyzYeiygZP7vAztAJADc3H43KQlEMB5TtXkJp4KrF1QhFwM1Dfjr+/tZr9FCKgpZ85kp03kj0mW/Fzd63d8rD3a9COZo3Yje+u8BNQsfCo9BKFlxtvvg9nrxRJ92nOORinzksUTgZkp/LWsbCEB3HHMTVZCKBXh7d3lI32cj17O7POT4B2e1QssoHz8PG6nYynyfUlSD3YXU2Mjrfp64nkGm54HQ+d53xvebiPtBbRnQadV4bXRH8Hi8oIR+BCQiPnswNFWDaw0OvDa6I1btrUBxlYmsKhDwePiksDvmbCqlr2upGrw6Khtutwcm6+2tfLle3HLHOycnh1aO5vV6cfnyZVy9ehXvvPPOrb58GGHQSogUTbJcxMtOLGKsx1qdmLK+GFP7a7HvjAHZbRSQO+mvjX90Ui4Wwuv1opVCikV+TnehPhkto6SoqbMjSR0BHgAeD4iWizG1KeNNLGyFumRyEQuWmYiQCPFxQTfUXjEg7h9L0PqTD8D3elErV2DugCexLU3vu5AfaupsiI6UQMjnYe3EHjBbnQGZm7y7rIcujDD+zEhOTsZ///tfJCYm0j7/5ptvkJ6efkuu+fzzz+PRRx9Fbm4uevXqhQ8++ABVVVV48sknAfiy1RcvXsQnn3wCwMd6npSUhMzMTDgcDnz66af46quv8NVXX92S8bGB6iDtO2ugZZAUMhFsTje57v7fE7GobXBAGqwsXSrC7KHpWLCVXYt79tB0XKmzMR2OK3U25GnVjAaqXqvGzmOXsWJ3OZlZenlohk8XWSZCcaURw5YXkVm0e9NisHZiD7yyoSTgfBlxCsYx7imvhRdedE5QAQBrZp3qKBD7D1WblyjTDVbiGikVYt3EHjAx7C1sTnsAuZ1YALMlsPrsRivWfi/u1HVvBGyO1p0IWlCz8MFsGi52f2KMs4dlcEpkzRicxj0emYh2L69Hd/v10R3RYHNx9ikT32dqsyBABOKIYEPxeVNI76RExMfBSiPiVXK0jJL87nvF9jxQdb4BBNwPuViAnAQVZCIBhHxeSKX2Oq0a20uqka9LghdeBv6jJPDBw8qisyhuKmMngi9T+mvxYdFZRl6Kl78+iumD0jDuowPk+nKrK19uBLfc8R4xYgTN8ebz+YiJiUG/fv2Qlsb9UoQRBhO4SqP8/0Ytk5nSX4viKnq5Ntcil6fVIDpCjEJdMlpIhCi5YMJbu04zOuvU6OSOZ/IgEwlwprYR+85ew5T+WnRJUEEuEsADL/adMZCLErEgf1d2BcvG5KD0oplc2Mb1aDasg2VJGu0urJz/EV7bsRwJ5isAgOoH/oLBSQ/CJItiPKZllBStFRJIRULM3lTKWFq17kAl5gzLvGuMiDDC+LPjxRdfxNNPPw2bzQav14tff/0V69evx+LFi7Fy5cpbcs2HH34YBoMBCxYsQHV1NbKysrB9+3bS+a+urkZVVRX5fYfDgRdeeAEXL16ETCZDZmYmtm3bhiFDhtyS8bGBalQzZZC2TNWjUJ+MVUUV2FV2BXmpGtTU2QLIMAnotWpcqbOhc4IKMyks4FQQBn9tvYPcWwhHsleKGgI+Dy8NTseQCyYs3FZGGqdE7+KENb+R4535dQl0WjVmDErDwq3HAwzecT0TccFoZXTiuZyIonIDnh3QHk9+egivNfVIc0kCSYT8AG3e2UMz8HgQmR6mDBqxt/hr6xKZ0GBZTqoRbbRw60nfihYps8UBu8tNk0fydzKo172dpdzXgzsVPIhoCiiZOPqnAd8zF0y/PRhposvtZbXviKDP2drmKqGgCQ6xENun6SHg81BttgatGJGLhfjyyV44daWesc2CSdmGrYIyT6tGftM76QvQXSHn5mY4mFzPAzWIQL0fbO8qV6m9/9pSqE/G5H5aeOFrwyk+b8KUdcV4Z2wXdEpQ4cVBaXhzx4lm/fkg69pTNhdZaXCrK19uFLfc8Z43b96tvkQYfyKwlUa9ProjvABnmQzTC8tVJp6vSyIjZ8R59p+9xums90nVoLVCirO1jXC6PUEXJXIxaWLIff6+9qQUDNXZ5rrmfXFixDw/Bet2fAkAsLaKw1P6Sch6/BFkVgX2hQO+RXxXmc9BP3TuGov8BQ9P928X1OkPI4wwbh/Gjx8Pl8uF6dOnw2KxYOzYsWjTpg2WL1+OvLy8W3bdyZMns+qEr169mvbv6dOnY/r06bdsLKEiWAlzo92FnHgl/u8Jn3H8ly5t8do3ZZg9LBMLtx6jOd96rRoLR2bhoff249VR2ZznvWC04u//dwSF+mS8PCQNQj4fi7Ye9yv5VmPrVD1O1zRAyOeh+LwJ//7+FF4b3ZFmsO4tN0Ao4Aes0ZP6pODjogqM6UGvfCAQSv82kX18pHsCCnXJiJAIYXG44fV6IeDxsPShTlDKReDzgIn6FDy97jB5vM3p5jRm2TJoe8sN4DedWyrkk6RYs4Zm4FCVETX1Ns4sJ2FEmy0+RmUu3OwWKWZNZzU2Pq3DN6XVeP+nszSW7Ntdyn09CLW8/2aCKxDjTzZbfN6EjNbMSQMCwUgTzRYnI0EXlYwsStocvAlm60RIBXh1exl5rmAVkxaHC1PXF2PZmBzkJCgDSMKo3D7U65deNOO5Ae0x9R4vIiQCeAHwecBf3/8FXRKUKGAgKfy9DuaN6HxzyacRfyfWvAHpsUhQy/HcgPa42mDHirFdcPSCCTweYHW6ESEWkklauViA1kopiouMyIlX0gKLoaxr1PbJu60CBbgNjrdAIEB1dTViY2NpnxsMBsTGxpKMrGGEEQxcpVE/nroaIEUC0MtkmF5Yapn4y0PSYWh0QMDjYf9ZA20joJ6HNSJJWcxVcgdaSIWYu5m9HJFYlIho4ord5Xjm3uae8+LzJrIkke2a0+pL8fSif0Fy1edEr+kyFInv/xs/fnkCv3KMc7wuCVPWFeOjx3Jpmq9U7CmvxfTBHVBnc6I17q5SnTDC+DPj8ccfx+OPP47a2lp4PB643W4sXrwYTz/9NKzWQH3ZPyuCSSo12l0kqWReqgY9k6IxfVAaLputmDs8Ey6Pt1kSSixAtdkKi8ONOKWU87xiAR8WhxtHqnyG4ypGlnQD5m4qRacEFc0ht7s8eKJvCpxuL3LilXC4PeAB2DxFh2qzDVKhAC6PB60VUrRv2QLx0XLGMYQSMP14bwUe6Z5AXn91QTd4vN4AYzpPq8Z4PV3mLJhTy5VB23O6FkaLA6/6qXT0aephf/+ns4zHUY3o2gYH9p01cBKb3swWKXZNZwPmbzmGodmtyUw+wZJ9J/rPQ0Wwd+NmBy24AjFAsz2Up1Vj8j2pmLDmNywPImMqEwmQl6phfM7yUjWorrNh4dbjZIsJ4JNtbRUlZZS/466AVKPkgvk6KibVqKmzMRKlUdtcmite1LjWYCeTNVS7LE+rxoIRWfiksLuvj/r01YDrXY+DeaXOBmOjA3U2F6JkQqjk4qDqPEzrSail+f3TYjBraAZe2VgSEHyYfE87TF1fTJJA5sQrMTS7NQ5XGlFcZYK9B91uD7auSYT8AFv/biMHvuWOt9fLTF5lt9shFt89EYgw7n5wbeSxLSQh9dowgShBHJbdGk6XB4+xsHsT52Hq6bY4XKipt0MuFqDK0IjZG0vxzID2nIya1DERC0WEuPmVXFVUgY2TdZjf1KdHXHNyPy2k166i3cKXody6EQBwJroNZgyait/iszDlmovcDJgWfAEfsDo80LVTB13ELhitUEfcfMKjMMII4/pgMpnw9NNP49tvv4VIJMKMGTMwZcoUzJ8/H0uXLkVGRgZWrVp1p4d5VyFUTWnA5wz+dPoqtpdUk/I4VAdULhbgqyd7YfbQdJRcMAftw9Rp1Zg9PBMXjFbWfYCQJaOiuMqEucMyMd+PFE2nVWOCPhkerxdrD1QiI06BnHglXG5PgKyR3eVBbAspay85MUaiLD6jdRSkIgES1XLM8Ws7IsbpAcU5StVALOAx9l0TCJZBu8hQIv/z6VrM2XyMVbYMaDai62xO1oA0Ibt0Mx3bUEpxP95bQQbfz9Q03NV94Fzvxq3QFg82fy8NSkNOvBIlF82wOd3omqgK2gp48Nw15PdOgsdLJ00kMtpysQDdk6KD6owTlR+f/VqFtRN7Mla7zB+RhWHLi2jHcj1/45vkXInAAPE856VqMLmfluZ0E9+PiZTitR1ljO/frE2lyGkK0rGVcgdzMM0WB65ZHJjjp2uu16rx6qhs3Jcei++a2MupoOp8U+9HsOyzXCzElqk6NNpdmO3ndPt+Vy1EQh5W5nfDmztPMFaGCv24iYI9E8XnTQGEwXcbOfAtc7yXLVsGwKf9+dFHHyEyspnm3e124+effw73eIdxXeDayEMh6jheXcdZIq6KEOOiiTtbRFyH2i+4eYoOVqcbF01WmCwO7D3jM6acbm7GdOqYCQdYLOKTY7Q43KgwNCInQdUsKSHgwfz+SmStWASFrQEuHh/v9xiNZboxsAt9GwqxGfDBw57y5gWf2lvTNVGFpQ91QkMQLUWxgI8o6R0TPwgjjDCa8PLLL+Pnn39Gfn4+duzYgeeeew47duyAzWbD9u3b0bdv3zs9xLsOoWhKU4m8YlpIsHBbGZaPyYFUJMC4HomYoE8h+1AfXfUr/jOhB0a/u4/R4B6QFotZwzLQYHehe1I0GmwuaCJ9Gr3+/Z0EIiRCWr+wkM/DQhbiNj6A4Z3iaFq5crEAm57WobbBjhU/lNPkelbldwOa9gGm3w4AjXY3jlfXYVVRBT56LJeTlXiCPsXHBN87CXO3HMOkPu2QGC1Ha4ay6UjJ9e0b1PsQIRaiS4KKsf+XIFqLkoo4ZZduNkIpxS0qN8Dm9IT0/TudhWN7N26Vtniw+bhgtGLyWl8rA/FMe7xeDO/YGou2ltGeYV9WXEvyIVDvv1ImQrvYSJIdPJTfESEWYOGILLg9XizefhydE1QY7/c8VRksAe8w9fl7aZBPqaatSoZvj1/BlHW+92vT0zrweTzS+Xd7PPjm2GVSxYY4/5R1xVgxtktIyRqmUm6g2cE0WxwwWZxodLjQ6HBDKRNBLhZgX7kBG49cDLhGUbkBszaUYvGD2bC7PAHPw+JR2XC4PWiwOTE6pw2poBAscWNxuGBxuBAbJWFdVzLiFFi680QApwb5G3XJNLudqz30hYEd8O/vT9HOcyuCSL8Xt8yi/te//gXAl/F+7733IBA092KIxWIkJSXhvffeu1WXD+MuxO8lGeEqjQql/ITthSU2mpZRUpiCkLVQr0NIg/F4gFwkwKDMVuDxeCg6fRUpsS0wMLMlJwELcS5qhsTudNN6koR8HrmwtjHX4NWdb2NIxSEAwJV26Vg+dgY+dahpY7Q43Fh3oBIFuiQ82a8dBHweLA43DlcZyQjpntO1pFHIVqqlayqVymqj4JyTMMII49Zj27Zt+PjjjzFgwABMnjwZWq0W7du3x1tvvXWnh3ZXg5BUumS2oaK2EW1VMvxwsgalF81YMbYLjfSyc7wSy8bkYPXeCpqhSM0wnTM0Mjp8cpEAyggxZm+kM4znpWoYs1MEGu0u0uHI06rxytAMjvYfA54Z0B7/2nWK3MMsDjcsDjfe/oEua2RxuFG45jd8+WQvFJhtNCOfOpZGu4uUCKu3MwdimxU5JHiybzu43F50bKtElaERUpGvBF8hb9ZXvmSy4mClkbts96KZ1EF3ebxI1kRgwZbALD917vK0auwovYzDlUYseTCbzNj6Z8f7pGrwuJ69yu1GEKw0m9jPCYf6dpdy3whup7Z4qPMH+J5dPo+H2BYSvPDFEXRKUKJAl0Q+wzEtJHjkg1/IZ9j//n//fF+05G4PJ0HtO19d0A1pTZUkdpeHZrvljFEyHk8kYXLilZi89jBW5ufSxsPn8Wj60mdqGvCv75jfb5uTu/WWmqzxr5okHMxqkxWV1yxYvvt0gGP60uA07P2KrfqmFheMFix5MBs2p4f1eSi5YESBLhkvDU6HUMDjtB+Lz5swIL0lLhjZE1rBytUn6FNoNjGx9s4amo4ZTbK8UVIRWkiFeO/HcoztkUgGFW9VEOn34pY53hUVFQCAe+65B19//TVUKtWtulQYfwBQFzdiE++dooZYyIcqQhySE85VGlVTb2f9G1EmQ7yws4dlYM6wDFibSFCoC4tSLmaVPqGW28jFAqzMz8U7P5TjZQq7rV6rxuxhmXh9RxmnAUEsSgRT5WcHKjF3eCbA88LY4CCJNaJkQiwZkYnyBW/iud0fI9JhhV0gwr91Y3D60Sfw9MAMVOw8QVtg87QavDQoDU63BzuOXWFkDAUAk9WBCLEAT9+jDSjVytNqMKW/FnEKKRk5DiOMMO4cLl26hIyMDABASkoKpFIpJk6ceIdH9ceAQi6GyeLE2gOVeFyfgsw4RUAfpU6rxoM5bbBo2/GA7AyxNj7RNwVtlDKszM8NMMwL9ckBqhmAr4Td6/WS/arU445fMtPL3csNQauuXB5vwDX4fDCysFscbmwvvYwj502cxjFxvpcGBVYhsjEX52k1uH9IGmrq7LA43TBZXfi14hr6aDWYu+UY9p0xsLIzz2kqwf+o6CwpEfTJ/nOcfCjFVUZMvicVNqcbn/5SiX1nDHhlaDryjVbweDzyPuQmqm6JsR1q2wLhUN/uUu4bxe3SFr+etg9ifhRyMeaPyMKMr47Snr2V+bmkTRMgPScSwMPS4uoPat85ldCLyXYruWgO2rpBlDr7/45Q50F5nX3WhCNOOJgA8OOpq/ju+GVapSSx3tTU2bknBDxUXbMgJSaSFiygooVUjHd+PINnB3TA6zvKGEv985rabI6cNyE2UgwLS0CP+hvYYHO68cIXR2h9+vEqOSRCPowWB5LVERDweRDweZj7QBYa7S6sm9jjlgaRfi9ueQ3pDz/8cKsvEcZdDmJxO1RpxHP3pWJwZmss9OtfY2P69M+SL3kwG/M2H6P1ofRJ1eCe9jHo2z6GsWyKKJMZkBbL+TJeMlnx0pdHA8ryCFmtF+7vAC+8yNNqIBML8OaOEwGLcFG5AQu3HkPnBBWp3w3QDYgjVSbMGpaOapMNozq3gd3lxpgeifjx1BV0aqPC5iMXyfOmGC7g3R/fwZjyowCA39pkYMbgqYjr0Rmzh2ei6poFLw1Kg8cLOFxuNNh9me1R7+zDh4/lskYSAcDu9OCHU1dp5CNERLmm3o4ElhLCMMII4/bD4/FAJGo2zAQCASIiIu7giP5YUMpFmNo/FYAXy3eXMzp5czcfw/P3tcffeiYFVCkRvdcL/Po/iT2Cz+OxrrdF5QZMvkeLsR8eID8jgrTjPvrlun4HUwm3sZG5jFcuFkAk4GH+A5mYu+mYX7kuXb6suMoEiZCPtRN7wEwJPAv5PEbm4j3ltfBuL0NnCjmcTqtGsiYC2W0V2FVWE1AVIBUJEB8tg8PlhsfrxQR9CnISVMj1I5ijgqrHPGHNb+iZEo2PmnpCX/zyaPPvSdVg+7Q8qOSiW2Jsh9K2kJeqgZDS+347S7nvdrDNB0HcR5Rm+88PU1aecKyJoNC6A5UAgC4JKgj5PDhcHpy8XAeRgA81R1KH2ndeqE/GIj/JPqDZduueHI0FI7Iwx+89Iu7/+gOVeGFgB4z58BfG3xFsHvqkapColoccnACAJLUc3z/fl7Rpz9Q0oHWUlNaKQj1+YGZLxnkgYHH4yCYJomAme3z2xlIU6JKwoKkd5pez1xiJ40a+vRddE1XolhSNJE0Ea2Y8lGADUVWg06oxtX8qqVueiD/m/sfzsrGf3ST85S9/QW5uLmbMmEH7/M0338Svv/6KL7744lZenoa6ujooFAqYzWZERYVYhxLG78aZmgYMX1GEZWNyUFNnw7aSatY+ayrTJ5sUB+FI11mbS2EAwNDogMvjhcfrhcXuhkIWesTLbHFgyvpiZnZMrQYFuiRMXV+MDZN7o87mQp3VSbLhMmFlfi7j37dM1WFnUxY6J0FJI8tYNCILs5qIbYRuFyb9+jWe2bseErcTVokcpjkLcOGRfLi8wF6KFnieVo0JeSlI0UTA5vTAaHFAJhZALhZi/pZjrJmOnAQVcuKVrL/j++f7skY9wwgjjFsL//2Kz+dj8ODBkEh8ZIdbtmxB//79A5zvr7/++k4M96bjVuzX1SYraurtGPH2XtbvEGs31aGyONyY0l+LI1VG1ozX5H5ajPvoAMMZffhsUk8Urv6NVn1ErMNUAznYdV4Zko4hy/xIngq6oXD1b7TPqJnq4ioTmRUEgNgoCb4vq8HRCyaM7ZGIGV8dxZt/6YTLZitio6Skk3zZbEWneAWGLgs+XwTytGrMeyALG/57kRa4IMazhqGMf86wDIx6Zx9rH/y7f+uCpz49HHR+/G2IWwGzxYHLdTayfLb4vIncz4nnJTdRRSYSiOTBrS7l/iOg2mTFj6euIraFhBbk752ihtnqQIREhEipEI12F8xW9pZEs8WBqeuL0TFeieOXzKSjyaRF//mvVZg/IivAibxSZ0Ntgx2VBgukIgGipEI8turXgOw5EYD78LFcHKy8hphICbLbKkgb0+7ywOJwIV4lh8frRYO9ua86toWE9V6zPReXTFbO4A7xjjA968VVRgDA0m9PMtrYi0dl4ZvSy5w2IVUb3P/8Z2oacO8/f8KWqToMXx7amqDTqjGycxv0SI7GrI2lfkEXDRaOzMQrGwMJHX1/V+PFpt55ok1mVVEFtkzR33W26fXsV7c84/3TTz9h7ty5AZ8PGjQIS5cuvdWXD+MuQJ3NSer9FeqSWckjqEyfXFIcL28owfIxOUiJ8b14F40WVBostPLwk9V1mD8iK+QNjlP6pLwWBbokWBxuWB1uRMvFuFrPXbLDVj5z/pqVdLSpBDd7yw2oNtuwt9yAzMvleOObZcis8Umq/JjcFS8PehoLRw3Bqt3lKNT5NoalD3UiF6MXvjiCz5/ohYVbj5EGiY9cJxfwgpVcZ+lDnVh/g8nK3e8eRhhh3D7k5+fT/v23v/3tDo3kj4vWShmqzaERaBJkZp9P6oWdxy8jN5E7KztraAbned0ebwAZEpPihr+aBQFi3f6u7Ar0WjUt6364KrCf2l9j1z/7ldNUlWV3ebD0L50gEfGx1S8onqfVoFtSNCc5nP9et6fcAKPFgV4paujbaWB1unGII3O+t9yARVvLOJnM26pk5Bi4ekJvB1s4UZrdKkqKmiY7YPmYHFrvvL9k2J/V0abCbHFgOoNNBzQ7eY0OX1lxMN1zImt8rrYRADi1pHMSVAHybVWGRszcQGfZXl3QjbGlQqdVY8XYHKgjxchuo4TN6Ua9zYVIiRBLd57A8/d3QGK0HODxMPOrkpA129meC/8Mv0wswOEqU4DTzZRNj5aL0eh0s9rYi7aVYetUPWb7KRf426MA87tEEOQ12K6/F33h1uPkPTNZnZAI+Si5aMZ5gxVT70klv0sdU74umdbLT4DgUfi9vFF3Crfc8W5oaGCUDROJRKirq7vVlw/jLkCUVERuluN6JHJ+l3ihuBxh6oJw4ZoFL319lHERmbupFEsf6hTSixgKYykAMjJ5pe76NQ8BIDFajpX5uQEENwBQZ6zD9J9WY9KBryH0emCUtsCCex/Hhsx7AB4PDrcHOQkqxEZJcP6aNaC/cN4mukSEj1znIGYNTcczA1JRU28PINfhIqWzOz2ccjFhhBHG7cPHH398p4fwPwGFjHs9o66Je8oNKKi3objKiL6pMZzH8Xk+R5VJ1lKnVWP/WUOAzI1cLEB0hJjWM37ZbMWuE/QezfhoGXYeu0IaxsvG5DTp+fqutaqoAqsKupFKFkBw0qLnBrQnM3sJrDJitViw5TinU8y0h5j9KsJ0WjVmDE7jII2rxZP92jFeQ9ekn0yMIVhP6K1gCycMfLPVAblECD6PByHfJ3PEVjF2OyXD/ggOSDCbrqbejgVbj4esex6nlOGy2RqSlvSK3eXkvbhksuK80RqgWBAdKcbrO04wOvB88DAkuxVmUvh88lI1mDU0HeABAgEfr2woCXnsweDvlLeKkgaVRbtksmLWxlI83ieF9bwWhxuXzFZybYmQ+KoLSi+ZUXrRTDKtE7Zlo53+LhEEeZFSAdPpSTD1on9XVoO/3+/EWL+qILlYgLfHdsHQ7NaM6x1TwC9KJmKtiGULdNxNuOWOd1ZWFj7//HPMmTOH9vlnn31GEsWEcffhZi7kmkgxzhl8kclg7OMEMUkoUhxmiwMz/ZxugB7pDHXjC4VxMy9Vg0ipEAq5GAlqOWvPip6hFwfwGRBSkYBxo+52vhR5f30Gg86dAQBcGfQASl5aiOGtWqFN08bQViXDp79UMhJ/RIoFjJuPxeHGyxtKsTI/l2TOJdAnVUNG7JnGuu+sAS2jpHfdBh5GGGGEcaMIpuTgv3bbXR7sLTfg5cHcxqax0YFZw9KxwK9P1L/CiCCD6pKgglwkgM3pRvF5Ez77tQqPdE9A7xQ1+PxIWB2+TPHxS2ZkxClo6/u09cVY93gPPDsgFW4PIBPzESEWolCfhPH6ZNicbkSIuc07qnO8Mj+XkZwNCO4UhyLdtbfcwEjsRCXGEvJ5WPd4D+yjtFFR544gp1ME6Qm92WzhTAY+MS4+j+NA3B7JsD+KAxLMpjNbndete66QiXE5CGEYEahptDubeHyOMCoWuNyBpIUEiKpH2mena7Fg63HkJKhw5LwJ+b2TsO+MIcBR/D0BGH87PFkTQZ6H+rdIiRAHzxlxqMqI8R7u7mFNpAQD0mIhEwtgdXpQuPo3MtPvTzb5ly5t/Y71EcPV1NkDqm6ox/mvCYTdX8cgX2txuPH0usMo1CejU7zSR3osEeJoEyGyP/qkahAhEQZURgA3Hui43bjljvfs2bMxevRonDlzBv379wcAfP/991i/fv1t7e8OI3Tc7IVcIRejrcp3HCGbxdbjTfRrhyLFUdvg4NQcLdQlh7zxBWPcvFJnQ37vJCzccgzTB6VhwdbjGK9LCijjztOqsWBEFl7dVhZwjqn9UyHkg1a2F2m3YPpPa/BY8TYAgCO2JVb85Tksa5EF7DgP4Dx0WjVW5eei7FIdq7brK0HKHP1BlCpZne6A+0E1dgakxV7XecMII4ww7mYo5GIsGZWNmV+XcOpbEyCMRofbwyGPpUHRGQNyE1S0TLV/hZFUxMwQrtOqsXZizwA1DDYCNovDDalQgFf9GNj7p8XguQEd4HD7/h4qgmWRBXxeQDZfr1WjgGG+QnXGWdnSUzXYPEUPp9sNtwf4/sQVcox5WjXilFJWdumbzRbO1vJGPAPPDWjPeXyUTIQrdTYYGx2os7kQJRNCJRejZZT0upMbTN8HwNqSd7c5IMFsOrmY+3llsuUipUJfmTcHiPc3SibyzVW5IYAJPUIsgFwiuK6WCoCeUfd4vZjUJwUujzegR9w/cwwET26x2eGvj+4ILwLvOxFAOHoh0MamKgk12FyQiwWQigRoIRVh9rAM1lL9OZtKac8QUeK/eNtxzB6WiUVbjwddQ/un+SqFVubnggcfH4U/cSVBnjaqcxtkxvnka7mICRtsrusO0txNuOWO9wMPPICNGzdi8eLF+PLLLyGTydCxY0fs2rULffv2vdWX/5/HzS4x4uqt/j0LeasoKfqkaoJqaRPnDkWK42xTf48/iEUmponA48zVhqDzwsq4marBnGEZ2F5ajUXbfH1oRG/QvjMGTOqTgmcGpMLl8aKFVAipUAC724NpA1LxzH3tYbQ44HJ7cdlshdXhxsKtx0niie5lB/DqzrfRpt7Hfn52xCN4vX8hdl6i91bvLTeAz+OhayKzJN+ecgOcHvqm4L+xxCll+OHvfVFvcyJC0lyqdPZqA6eheDdojYYRRhhh3Ey0jZbjtdHZuNrggMPlgcvtwb6zhoDSRqoT2WB14cWBaeDjZICxOWtYOka9sw/Q+wiOmLLDeVo14qNlWLD5GKOR+8aOMozrkYhxPRJpRvubO07gw8dyYbQ4SYO1a6IKh/0IxuRiAf7WMxFv7CjDnnIDpvTXsgYK/J3jYJVoFocbz9/fntRSlooEaB0lwT++PUmbL0Ie098ZB3xBd2qlgX8POoE9p2sxd3Mphma3RmyUFEfOm7BsTA7aqmTolKDCE58cwopxXbDQryyZYGIGfCRQN8Mm4iqP3ltuwEuD+KxzfF96LAR8Hl74v//S7pNeq8aro7KxcOtx7PJTZ2FLbrA5Ya8MTf/DOCDBbLpgFRr+tggxJ53ilUGfc51WDZPVRcqGsQV8qJKv/mB7R6icEDMGp+G1b04EBNX8M8dMCjrU+89lh/946iq2H60OaGmhsq9Tda/Zfq9Oq8Yz96aiS4ISM78uYfxtTM9QnFKGV0dlw2x1Yv6ITFTUNsLh9qCtSobSC2ba/PVPi8FLg9JJBnTqtf3nuk+qBkI+D8VVRvK9ZdOYJ0jk2HA7Kk1+D2654w0AQ4cOxdChQwM+/+9//4vOnTvfjiH8T+JWlBiF2lt9vaA6tlSJEcBHnNLKr6Q5FCmOKGkg+RfbIhPKvPAADM5ujfzeSaQTeqWJvfT9n3xEZ/3ax5DntTjceGvXaby16zTkYgE2TO6NOZvpfXJ5TRmLkosmLNpWBovDDZHRiG2/fYDkHRsAAJXKVlhb+DIefCEfO/+9h3Fse07XoqB3EuvYjRYnuflwbSwLR2TR5FbUEWIcPW9iNBTvJq3RMMIII4ybiTYqOSIlQhgaHfB4fQ6zv9M9fWAajI0OvP9oV7SJlmHRtuPolKAkHVCFTIQWUqFPy9rhZg0s56Vq8HQ/LS5eszJmauViAcb0SMRqBsbv8bpkmC1OFK7+zVf9VNANMS0kuHDNiin9tWTmqFCfjFVFFWT5J9dYZg/LQEVtI5l98mkUs/enH64yBihgyMUCbJuqxwsDPaT2eEwLCSMZEjGeLVP1mNckxxRKb+7qvedQoEvCugOVWDgyG5eMFrz3aFdcrbdhcFYrFFD26pp6O1xuD/7+RWnIDm0wBCuPrqm3+4IxvJMBdticYRmYuaEkoBy3qNyAVzaUoHOCijZOtuQGlxOWb+QmCrybHJBgNp1cLAhJ99xsccBkcWLWxhLsKTfgUKWR8Tkn3p11ByoxXpdMkipyBXy83kACROJcbFUcVIe8ps7OGFSb3cQ31DJKiit1NpyrbcSYHgkYr08mg2k/n67FS18dxYomZ5PNDo9tIWF8T4lrFeqSMZViY0dHiPFPBpZz4t9P99MynosA0zPU6HDjlY2l6BSvRHGVkbQ7J/VJwedP9KS1lfg73dRrE2vW7GEZ6NhGgeOX6yARCvD9iRqSIJmJvTyUiti7GbfF8abCbDZj7dq1+Oijj3DkyBG43dzseGEw41ZlpkPprb5RMOkxcklrBPs+UwSVbVENNi9cjJs6rRqT+qQgq40CZivz72fTgNxTbsD8rceQk6CCxe7CsBN7MH/5+1BbzPDy+agueAINM2ahh0sAkyU0gjcmRMvFeGlQGt7adQoZcQqsO1BJy2QT2ZMFW4/hvoxW6Ns+BnFKWVhrNIwwwvjTgiAxIip/XhmSgWqzFTweD5pIMd7adQq7T1zFlP5afLL/HPaWG7D7xFXaOfqnxWDmkHSy59Ffu1opE4HPBwpX/8aqIsG2bxH/fuH+DuS/+QC6JkXjrV2naZkjf0fW4nDTxhIpEUIhF6G40oiRb+8lnWOdVo1JeSkYkt0aC7YEapQTzos/LA43aurtsDs9iI+WY/4W3z6Xk6BkzD52TVDh0LlrZOBCHiTDaXd5sKe8Fk/1a4eXh2TA4XTjyb7tYHd50GB3o5VCFlCymqfVoFOCMiSHNhRwGfhysQDJ6ggs2X4cneKVZBBAKRMhIVqOC0Yra998UbmBzEpSwZTc4HLCguFuc0CC2XTBbBEi2VTQO4kMUFGf8wn6FAgFPGgiJbA73TBbnMiIU9A4ArgCPkXlBjzVT0tPWGjVmHxPKql3T0WobRV7Ttei4moD7E63j4SNIfs7oyl7X222oc7mYizJZiJj9P+OT97MTf6GtRN7cLZkzhicxjl2/2eI6nv4Bz3e2nUaH/x8FrOHpiOrrQJeLxjXAuL7rwxJx+gubTBnYykt6x6MIDmUiti7GbfN8d69ezdWrlyJDRs2IDExEaNHj8bKlStv1+X/53CzM9NEyXqo5Gc3iuuV1uD6PpPTeKNSI8FKyp4b0B7/2nUqQPqFQLDo/ZOpMnT6ehHuK/cxOl5sk4Ifpi9B6/v6wm7zQCkXQBnBPbdKFlIZnVaNHccuo7jKiBcHpkEiBDrHKwMy3v3TYvDsgPbg83goq65Do92F2BaS6w6IhBFGGGH8L4Go/BEJeOieFI2K2kasLDrbTNTJsr7LxQKM7ZEIQ70dBbpkeOFb74nv6rRqzB2eSTq6bPtrsP1jxuBmFq895QYUUEpJAZ/jzhSYpRrgn0zojle3Hg8wwgnW5r90bYO5D2TC4fSgzuZCpFSImjobvjx0HmN7JDKWj7s8XlwwWeDxejE0uzXiFDIM79gai7aW0blPUjWY3E+LCWuadcxX5ucy/l4CxFyZrE58VHQWL9zfAUu2lzE6LUTJKhMJFnDj1XpcBv7soRlYsv040uIUtJ7efWcNWLW3Ao/1ChwHFWyBdII4lmghlAj5tMoGKvzL96m4Wx0QLpuOyxahOnxjuifQjqM+5wDwzrguAWSyRMl5MD4Dt9dLOraE5JXN6Q4IKPn3M+elajidcIVMHOB0A773TyLk46P8bnhz54kAm+2zST1R2+CA3eVGvEqOkgsmLGyqniTGQX0HqGuMTquGgMfNAOhye6/rGaLaytSgx+P6FCjkIkhFAlytt6O23gFBEPZBm9MT8E4TcwKwEyT/0RNGt9TxvnDhAlavXo1Vq1ahsbERf/3rX+F0OvHVV1+FGc1/J25mZppass7VF3YrF/Ib7VX3X6idQRgd2eYl2Hy6PD7Gy5wEFeP8sC7mXi8ePvoter6zBqL6OriFImwZWoAW82fjm98uYi+ldG/JqCzOBTBRLQ8wAqiLv28hPoG5wzMDsieEgegvl0Etw7vbF6swwggjjFsBwpCbs6kUHdsokdFagZcp0kFs6zuRqR7XIxEvfHGElukm+DIqahtJI5mNXDSYM2D0q4Zi0skNBpVczJr5OlRlxOzhGZjn13+el6rBzMFpeGzVrwFOH1UijcfjIauNAvU2F84ZLJg+KA3PuNyoszkR00ICmUiAB1bspZ2Di2iVmkmUCPnIiFOwGuh8AJ9N6okLRp/EpkouYiTJYqtW44JCLsbiUdmY6ScVladVo3O8AjFREsbe2fFNJb5cYAvCyMQCTFlfzEic5d9/vKqoAtun5WHOplJOB+SPIDdGgM0xpzp8wRJETH//7NcqrJ3YE4YGbhZ0IY+Hx/yUZ+RiAWYNTcfz97WHy+2F2+OlcUL4AmwZeGDFXtbzurwe1vcvI06Bf+w8EZLN5v8sUINvR6qMSFZHkEGt4vMmWJzcVcUNVhcWjcjCrE2ljERu/vfC31YmWmw6j1Fi+e7TyKAEooIR38nEghsmSP4jJ4xumeM9ZMgQFBUVYdiwYVi+fDkGDRoEgUCA995771Zd8k+Fm9Xj4F+yHir52c0AsRkYLQ443R7spciIXE9fFnWhPlPTwPldtnkJlXGTWLwXbqWX5DFJnCQYq/HajuXoXXUUAPDf1u1he+99lEtbo/i3iwEGx8JtZVhV0A0AAhbABSOycK3RjoUjs2B1uHG2tjGACA3w3TMiSECMu1CfjH7tY3zyMfoU5CSoyHm+G9lPwwgjjDBuNwjSoIqrDXC46Y5wsEx1oS45IOtGgJrZZdtf2aqZCLjc9IByfLSclgW1uzw4Xl3Hyvbty3yxn79Qn4yFWwJ7MX370An8/b72ARrGE/TJmLz2MP71cGe0VUkCZNTytBr8fWAHjP/4N7w7rmuAI0zMBR9g7Guftr6YdMC5KgJ8Wut2MsOZp2UmybI53bhksl5Xr/clkxXzthwLKCVvq5LhmsXJ2R4wd3gmJws+U3Y0L1WDw1UmVhZ1//7j3EQVVHIRpwMSCheQv2Me2aTvbLbeOOP6jVRcch1Pdfh8nATszPZMMqmP9krEkfNGdEuK5pSCjWkhCbhvOQlKxEZJ8ejKXwEAs4amo1/7GGS0jiLtsG0l1eiaqGJtVzQ2sgd+mJ7vYO0n1Gdhb7kBk/tp0Tleib9+sB9/v78DchNVUEeIoZIzyyfKxQLMG56BmCgJzlxtwLMD2uPFgR1QbbahhUSIRLUcrRnelUhJoNtYqPe1o4ztkUgLRE3pr+WUHXO6uQOOdpeH05e53grauwW3zPH+9ttvMW3aNDz11FNITU29VZf50+Jm9Tj4l1j794UpZCKo5OKbHkli08YkNswbdQhvdF64jstL1SCyqR/tke4JeH1HGTonqDBelwyH24OYSAkUchFJTsP3uDH+4Ga8sOdTyFx22MUS7Bv/HCZE9cKHqenIAVg1twtX/4atU/Swutyos7oQJRVCJhbg0ZUHcL6JSIVJk5uK+qbIPhebJdUwudvYT8MII4ww7gRaRknh9nhxzk8xI1immit7W1NnJ50E//0VAForpBAJ+ZxO82EKi69Oq8buE1cQp5Di8yd8md4kdQSS1XI81KVtQOYqT6vB7OEZ8Hi9rCXLnI7t6Vo8c28qtk/LQ53NCSGfh4qrDWRGt7VCysJv4hvD+kk9AwIHQLOtMalPCl4ZloGLTfsbEUzOSVDS9M+5QK0A8F3XS8uCXzZb8VvlNbz305mQbQpqUoLaMw74bIIZg9M4+1fdbg+NXZqAXqvGwpFZWLD1GO0YnVaNBSMyMXRZEes5qZUN/skQNu6aYFxAjQ53wHeoUnHBEiG/l+Q31OOJ5IhcLECntkr0SI6GB4HEgQSzPdWek4sFGJLVGvO2HMO8LcexbEwOPF5vwH1ZMCIL1UYr5gzLgMcLXG2ww+X24nCVkZwLuViAS2Ybstv6ZK94TaXc/9lfic+f6IV5m48xar67OKoxmSpeQiEfpMLt9WLa+mLkJqrQK0UNs9WBFjIRlHIRXh/dkTbHcrEAK/Nz8c4P5Zj+VWBv9cRPDiI3URXwrlwyWXGw0hiwVuXEKyES8FBTZ0OhLhnjeiRCKhLg6AUTJuhTAICRO+JaQyBBMhVKmeiubJf4vbhljveePXuwatUq5ObmIi0tDY8++igefvjhW3W5Px1uVo8DU4k1NXK/cXJvRlbB34Ng2phEJO9GHMIbnZdQGTeJxXD3iaukY/vOj+XITVJhwYhMvPfOJox5fwE6V58CABxL6wr56pVwRLbEtmg5XB4Pzl9jZyK1ONyoMDTS2GP1WjWWj+2CsR8ys8UCdPkwPo+HVQXd4PV6sSrEiOndxH4aRhhhhHGnEKeU+XSrKVmiYJlqVgZxrQZZbaLQUiGBFz7jk9hf87QazB+RCQBotDsxe3gm5vtlnf21snVaNSbqU+CFFyuLKmjl8HlaNSbkpSAvVY2Xh6Sjwe6C0+WTSSN6zPUsJcvB4Msg+rLKhNG8bNdpzBqaDq+3OWPtL2MpFQngcnnB44ExMGFxuPHbuWsY1TkOERIBPB4go3UUlo/JoVVzqeQiTOmvDdBHJoII/hUJTFnw8fokvP/T2ZBtCi7elz2nazG1P/f81dvdASSnSpkIbVQyTF13GH06xOKxnklQyEUQCngwNjphpbDTM90fhUyEjZN7h1xWG4wLyGRxBgRqAN9zygO9hP+nU1cxJKtVyIzroSROrud4IjnSMV6Jj4rOorjKFNDaUVNvh1wsgELuk6KqNttwtrYRbVUyLKC8W/7BrzilDDIRH+VXGxEhFkApF+Oy2YrHmjLcBLiSGa+N7gg+gKUPdcKZmgbweDxYHC7yOS7UJ7MG15gqJoO1n/j/XRMhxobJvXG4yoQhy/bQZLpeH90RK8bkoKbeDrPViWi5GHM3l7L2VhO24UWTFbWNDppm/KFKIzZO1mE+ha3c5fFicGZr2mfEvHRsq0C35GjMHJyOersLFoebDGQU6pM5qw8S1fL/yYTQLXO8e/XqhV69euHf//43PvvsM6xatQrPP/88PB4PvvvuO8THx6NFixa36vJ3PW5Gz83N6HG4E7T8wYjMqJG8G3EIb3ReqMc12p1QyMRwuD24XGdDlEyEJQ9mw2hxkMQbLaOkOFNTj4JeyRB7nLC8PBuLV78NgcsJZ4sonJ4+D990G4xV284hJ8GKnAQV2iikSFRHXNfv8W2CJ8nFsPi8ibaAs20Gayf24IzIU+f5bmM/DSOMMMK4U2gZJcXrlEAskZ2dPSwDs4dmoN7uglwkgFQkIA1HfzZzhUyEeJUMtQ12yEUCTNAnY8bgdFypswHwZXaHLS9CToISU+9JhVTsRbekaJoShdfrhYDHw9KHOqGtSoZvj1/BkQsm/HbuGqOChgdAoS4ZxVVGbCupDvhOEUPQVadVIzZKwjkfEiEfPB6PdH4B4Kl7tFDJRTBZfFkrLhnL+Q9kYoI+MPubp9VgzvAMXK6zw+bwIF4txzlDI1pGSZHROgorxnZBbb0NLaOkAfroROXWugOVjGXb/llwD3xSUaHaFMF4X4j2M//PiMCDx+vF0/ekQiTgodpsg0TIR6RUiPlbjqFPh1iyL3apn9QTWz834OvTv55ESLDf0OhwsQcX/IIXOq0avVLUITOuh5I4ud7jXxmaDpPFiS4JqgA2bwK5iSrSto6UCGG2OiEV0XuJ/dtC1k7sgXEfHSD/TbT3+XMFcJV/8wD846+daVUz1ATKqqKKAIcV8M1rC6kwIDB1PX3sfVI1UEdK8MIXRxiDGC81BTFSW/p8rtNX6oP2VgPAOYMFk9ceJufjUKWRTA5RA0rtYiIwfzO7bFhOggoGiwNP/udQSBwFeakaLBmVjTYq7h7xPypuOau5XC5HYWEhCgsLcfLkSaxcuRKvvfYaZsyYgfvuuw+bN2++1UO463Az9bd/b4/DnaDlD7YZUDfMG3UIb3ReiOOY7pFPi7UdplI2xDytGgtaNUL4xCTEX/JpfR/s3AeTe09ATYMa+OEMySZOMFOqIsRYMiqLxkxJgE2eYk95LcY3GS6riiqwdaoeczaVoqjcwLoZBCOTIeb5bmU/DSOMMO4evPPOO3jzzTdRXV2NzMxMvPXWW8jLy2P9/k8//YTnn38ex44dQ1xcHKZPn44nn3zyNo749yFYAPdKnQ0miwNzmzLVe07XksZ8nlaDFwZ2wLiPDuDVkdmIj5bhl7MGrKTobBMg1u1h2XFwebwBWtmEI2exu9ElQYUoqRBv7TrNOGYfA3o67bz+KCo3YObgdFp/6vdlNZxEZ1fqbMhqowhwfvNSNVjwQCY5zo/3VqC4yhSQnT5w1gCJUICcBBUez0uBXCxEhFgAh9uDSyYbfqu8hrM19XhhYBq+L7uC9CaCJpvTjew2CszdVMrq7MwdnokxH/4SMG5/x4VwKEK1KailzYX6ZHRJUEHI5yE6Qgyn24MIsSCkADhRITC1qWR+94mrGNcj8bp6eIEb26eDJVYag1Q9+JP4zd5UihWULPTvJfkN9fhgrYlUO6rqmoX2DuWlajDlHm6tan9b6efTtZizqRSzh2XQZK6CSZE12FxoGRVYNUM8QyaLg+awEu9f4erf8FF+N/Bwglwfis+bOPujCTuRKK9vtLMHUfyDGKYQbUPiHfr5dC1mbyoln0khn0ebh6+e6hXUkXc2yZxREQpHwf8ibquOd4cOHfDGG29gyZIl2LJlC1atWnU7L39X4Fbpb98o7gQtf7DNgHjZ75RDyHaP9pyuhcfrJRcfmcOGvu+/hqRDm8HzelErV2DxoMmIm/QYVma1wvlrVshFAigjxAHMlHmpGqzK74ZCirxKnlaNfEpZoX/ZXssoCZ4dkIoPfj4Li8OFzgkqFOpT0LKFhHEzCCVi+keRXwgjjDDuHD7//HM8++yzeOedd6DT6fD+++9j8ODBOH78OBISEgK+X1FRgSFDhuDxxx/Hp59+ir1792Ly5MmIiYnB6NGj78AvuDFwBXBbRknRMkoKAFjRZDheszhQZ3Wi+LwJYz78BYX6ZLy/5wyqDBZ8mJ9LIyijgjBOE9Ryci1nc+SCyXBZ7K6gWr+V1yw0nhDiWsRYCFD7w4+eN6G4ykS71h7CQRmajtgoKVlyz+R8LhyRhV8rapEY3QbVZhsqr9nJsR2/ZMazA9pj8bbjGONH0LQyP5fVqC8qN+Bqgx2vje5Ic8DYAtgykSBkm0ITKcZ96bF4uHsC4++ZqE/BzCHp8G4v4wyAE3Jty8fk0KSdrqeHV9fUf3wz5dD6pGqCkvoFlPCfriXLtwkSNi4EC3KEUnEZamsi4HuOY1pIAp59j5db7YbJVvr5dC1eGZpOmz9/0kV/UAMNRNXM3E2leLh7AtYdqMT9GS1Z2yVMjQ6SO8ju8kAuEmBAekt44Wc7atWYPTzTJ3mYn4uaejtcbg+EfB62TtWj3uZCC6kQV+pseOmro6ht6qOmji2CoVrDfz7836E9p2tR0DsJAJ3TQhMpRpBpAYAAwrtQOAr+V3FbHW8CAoEAI0eOxMiRI+/E5e8obrb+9s3A7abl59oMiJf9TjqEoZTC9z73X7y2YzkSzFcAAF9l3oOF9z4OkywK+OEMMuIUmLz2MKb016K4ysjCFgtsmaLHySv1kAj5iGkhwSMf/EISeDCW7TVFea1NpVLU0j9/cBH+5KVqoI2JxPImY+tMTcMfQmokjDDCuP345z//iQkTJmDixIkAgLfeegs7d+7Eu+++iyVLlgR8/7333kNCQgLeeustAEB6ejoOHjyIpUuX/qEc71BBOOh1VUZato3qXJ2rtXCeg2DwJdZsNkcu6FhkIry67Tin3rW/o0ElfZs5OB1WpzugP5wtw7in3IDpg9NQU2fndD4XbzuO2cMz8fKGEuwtN5CB5V4paujbaSDg8zCmR2IAL0mwXleTxYm1BypJB8xfXxloDmIrZCKcrmmAKkIcdJ9TyMWY90Ampn91lNWZnj08nXSWYlgC4L45qsX0wR0gEvCxZYoedpdvj2cjuwOACIkQ74zrQmZF66wOANfXpqaQi7HkwWxUGiwwNZVcE4GOSX3akdw1XLaYP87WNpJBmyUPZv8uHfFQKi5DbU0kCMPe2NGcNSZkwGJaSFjHyfY7AcDqcNPaD8UibofVP9AQp5Rh0ahsvPL1UYztkUgbG3Ft4p1ye70Bzw/x3BbqkiEXC8meceKdJL7DVMKu16qxdmJPjPvoF9Q2OGhjayERcmbTa+psAe8QFUSATSLkY9q97WFxuDjnpa1KhtxEFbonRf9pstpcuCOO958ZN1N/+2bidtLys2XZiV4wAHhcn3zHXkquexRla0DqrOex7ut1AICLLWJgWPpvVCR1wT8okUxNpBhysSAoW6zR4sDaA5XYW27wOdEJSk6ja0+5AV4AC0dkAQCr0w1Q5Fp4PEZ9xtZK2U1tewgjjDD+9+BwOHDo0CHMmDGD9vn999+Pffv2MR6zf/9+3H///bTPBg4ciJUrV8LpdEIkuo4WosZGQMBt8N4tULgdkDls5L9ddQ3kvyV2C+1v/pA5rPA2ONA9VoKJOenQtJBg5Y5S+K/CpacvoX+8HPvPXAs4h65dNI6cvIiDxy/Sjjt8/CJauO14e0R7yEQCuOxWrP5rBo5cMOGTfZWwONzwOoCVO0oxMCkS7353inZ+WdM5JHYrnshtifd+PEu7bvVFX+arq1qElTsuBowZAHI0YhwoqcLEnFiM7xSLRLUcr31ThpU7mqsAVhXk4rDf2GUOa9B5O3z8Imb2jcfwx7ug9KIZL63ZD6/DDRl8jsmbI9Lx6S+VtGsRWXgmySQCdlNDwHgIHDx+AY6+bclzvvVwZ85xXrpgwLOf/xe92kXjbz0T8cQXR9EpXoEVI9rjxS+OBjjfkW4bnl7bXBH3YKre9y5cB6pNVszdWIq9ZyjOXjs1nh2Qismr96JTWyWWDE7HXLuVZmv0aheNv+XE4sUvjkLmNy7q/Vj69WG8+7cukPgdr9OqsWhQOyi8ToBDRksB4PVB7TCb4/hz10yc80q8Y/MGZWDljhIcOnMNMgDqSBHeGdcZy3adwj82FOOzST2xxGahPde6dmqMZfmdABDldkDhFUMRwYOZB+w8zvHuadXQ8JwB96jR0IDsaBHW7T5Ojo0A8U7N65+IeIkn4HcS7yQAvDMuB1PWNjvCxHme6J2CN746iMN+5z50/CLetNvwycOZqLc5Eem2A42+igubuQ6FObEQ260B8/HKgGR44EX+qgPwNjhp54yXeDAgIQJ7yw14ac1+LH2oIz7YfgRP3aPFvfFy7GOZl1YCNxReJxQRPIDQtw/ybPzhcB3vJs/rDVKD8T+Euro6KBQKmM1mREVF3ZExnKlpwL3//In1798/3/ems4jfrSAI5u62CBjbPbr/1H4s/O5dtGzwLS5rugzF8gGF+GhKf7y5M7AcaPI9WtTZXHjiP4dYr/Xu37pAJOCTvXFElrtQl0zLnBAgIqDDslvjosmK2BYS1NTbsfZAJXafuBrw/QHpsXh1VDYabK6AeTZbHJiyvpg1Wh3W9g4jjDuHu2G/AoBLly6hTZs22Lt3L3r37k1+vnjxYqxZswYnT54MOKZ9+/YoKCjAyy+/TH62b98+6HQ6XLp0Ca1btw44xm63w25vLkesq6tDfHw8zADu3K8PI4wwwggjDG7UwRdICmW/Dme8bzNuN5nZzWBPv1W4nVl2f3DNi/890jQaMe+79zHspE9f81rbJDzR50n8Fp+FKf21WOrndAOEvAoPM4ekcY5DLOBjKoUN1+Xx4qVBabA7A8vruMhb5gzzVQpQnW+dVo1ZQzOaehEDr303tj2EEUYYdyd4lP5UAPB6vQGfBfs+0+cElixZgvnz5//OUYYRRhhhhBHG3Yuw432bcTvJzO7GMuK7IRAQbF7Ie/TlEag3foE5338Ila0ebr4Al5+YiqHKe2Dy+Eofe6eoOfu6XvL6CGr2lLP3FvlLWwDAlqm6gO9z9c8t2HoMhbpkjOuRSNO0VMnZSzrv1raHMMII4+6BRqOBQCDA5cuXaZ/X1NSgZcuWjMe0atWK8ftCoRBqtZrxmJkzZ+L5558n/01kvHHpEnAHM/43ArPFAUODA40OJ6KkYizcdpzsax6vS0Kf9jFwuj2QiwWIEAkhEvCwaHsZLXA6f0Qmvj12mZVp/P6MVpi7+Rjeergznv38vwB85aiT1wb2ZbJ9TuCLp3ri+7IafLKvEksf6sj5Xeq5dO2iMbZnIl784ihy4pV4YWB7HL1Yh5gmwqVWCikcLjdcHi+sDjeiI8V4+4dyjOrclhwzFU/2S8GR86aAUl65WICXBqchrVULVJtsEAt5OHrRTJbJ92oXjU7xSnRso4BCJoJcLEClwQqxkAeRgI/HP2GvOvt8Ug90jFcx/s1sceDvXxyh3QO5WIDHeieie1I0PF4vlHIxjl2qw7LvT2HBiCys+6WKVtpNlJb7l5NT79uawm4wNjppvwsA1k/qAT54aHS40EIqgjoEe8lsccBkceBqgwOPUnSoiXF3bKOAw+VFG5UU35+owQMd45AcE4lqkxWzm9jjqb9RwOchQiLErrIr5Hz7Y9tUPVJuYaUmdWwEereLxjjKvH7xVC889O5+AL5n1OHy0p4xzmdrUBoy2rTAJaMNUVIhEqLliPOTsjpb04Chy4sC5lEi4uPIBRNy2irxxKeHyRYGuVhAPjvv/60Lii+YAo4h5pN4p+RiAaYP6oDU2EhcrXegTbQM35ddwRcHz2PBiCx8+ktlQGn4s/en4qF3A1n9Cfi/+19P7oWlO09i35lrQdeF/3uyJ2rr7YiOEOODn8/ilSHpmEORDWOaZ398mN8Vj6/xvX86rRr/eKjT/2ZCp64OiIsL6athx/sO4HaQmd1t7OkAs8N7X3os5j2QCZvTc13O+I068KHOS5y5Biv/by5E330LALBndYTj/Q8R2bkzvqLct2tNGqZssDrdWDAiE3M2HaM5375S9FRMWPNbwDF5Wg0a7a4AYrRQWFCJ8vRQAjl3QsM9jDDC+GNBLBaja9eu+O677zBq1Cjy8++++w4jRoxgPKZXr17YsmUL7bNvv/0Wubm5rP3dEokEEgmDnnREhO+/PxAUERFQxDT/+x8FyqD7/eK/KQK+o++UGBCk12nVGKtPRslFMz6a3BdKuQhWsY9d/ZDBidyMNgEs4FaxjPwOE6psfPxr3yUAIhwyONElow0rKWfb+Bi8OykPsVFSfHv8MqZsOoUcbSvMHpmNK/U2bDltwqGmtqklP1cEED4V9EmDkMdjHM/7B69g2ZgcOKXnaHt0F60ampYq2MRCfFpygbKXiqDLaIWxumSsO1AJp9SJ3ilRMDrd+KTkKvaWG7AyP5fzt0dEK1mfL0VEBBaM7UHaDHKxAK83VZ39a19zv3heqgYfP30PKq9Z8NJDXXG1zg4+n4dGu48Ma8qmU7BABIibn31hVCQ5rshoBX6+dBmf/VqFR7on4M2C3pCLBDB4vdh7xkASsAVLnFSbrKis82D5D752NeL89HGX0e7H6KgWMPOEmL6jFHuqGgGxFFbA9zzsuwSdVo1CXTJ+rbHD4PcbgCYN6ZYqgMPWoNprCpkIERIh6qxOmKxORIgFiJAIoZSJWO2V1hER+EdBb9r7IRXxMW/zMXJMTomMfG6tYhkkcj7tvhPPll1Cfya7aNWIbqnCu79e8FUbujy4YnfBavEiUiJEo90Fs9WJ6KhI6DslkAzlTqnTJ/Pn8qBbZjxiIiWIiI7CrqpGOHacwexhGdhV1Qh5ZASiYlT49fAV2tzrtGq8nt8L6w5U4pDBCWvTvL+04yxW5ufiiQ1HsTI/F7/V2HHBIcCUTadQqE/GuP4ZsLs8UMhEsDnd2FVpZn1fdVo1eW4CTqkc35+3+O5zkHXhvJ2PyV+UYWV+Lradrcc4Gw+7mp4RwLfe9EpRc57DIZGTf99V1YharwiKP9h6HhLc3NJ8VIQd7zuEGy2zDtXhvNvKiJkcXrlYgIe7JwSwhgbbXK4nk+8/Xx6Pl3te6mxQfPwhMGMGRA0NgEQCzJsHyd//DkmTwUidN2d1Hefvdrg82HTkEoZkt8Irw9JRb3NBJhKgtsEOTQsxuiQoacySeq0as4dn4MeTVzB3WCYWbj1GGlHB2F0VMhE2Tu4dciDnTmi4hxFGGH88PP/883j00UeRm5uLXr164YMPPkBVVRWpyz1z5kxcvHgRn3zyCQDgySefxIoVK/D888/j8ccfx/79+7Fy5UqsX7/+Tv6MO4ZQ9num7yjkoAXpIyRCCPk8VBosyIpTYP9ZA2QiPllVtaqogpHhWHEdslEEKSeAAMKr/N5JWLK9DGN7JALwon3LFqQyxq8VBmw8cokkCmWqzipqIgct1CUzKm5YHG58dqAKLw7sgCf7toPZ6iRZvaes82XmZg/LwN/v74BLZiv5t3UHKjG2RyLWHfBlirslRmPGoHS4PV443G5snaqH1wvsPnkF7/90lszahrLPxSllWPpQJ5ypaYBMLMA/vz3JqFIyb8sx5CSoMG19MVaMzcEVsx1bSy6xOkQEk7Zeq4bL48WZmnqsndgTC7YeC2glI5ivuRInZosDP568Sl4zJ0EVlCG/qNyAlzeUYOGILE7m8An6FIxvYg/3l0UNFuCn2mvUdjn/Z2tq/1QkRstZye6Y3o+lD3Ui3w2ZWECOUd7EPr5kVDZioyQk6e3RCyZ0T47G0/20cHu9cLg8KD5vwoyvjuKNv3TEKxtKaEGrPK0a4/XJmLLOl43+8sneWLD1GMb6Sd4Bvvv4UX43jP3wF/x8upbUyi7UJwdwABHzyAMwfVAaHvmAnrEmbD0Bj4cCXTK8Td8nrpeXqsHT/bSY2sQ6vmxMDnhAAGM6EzO5xd7sIIYiOUt9Vv31v1cVVeD+jJasDOl5Wg1UchFWFXQjpdPClZRhx/sPhetxOO+2MmKmQADbZhBscwk1k880X1waqCmGC2j5wEDgt6ZFUK8HPvoI6NCB9ZgIsYBTpmL/WQP6tY/BY6t+RZcEJab01+JynROfHajE433aoVtyNKnbSBgRr31Thow4BUa+sxeF+mRMH5yG89esiI/mbg9QycUhE/MRAYlp96biqX7tAqLqYW3vMMIIg8DDDz8Mg8GABQsWoLq6GllZWdi+fTsSExMBANXV1aiqqiK/n5ycjO3bt+O5557D22+/jbi4OCxbtux/UkrsVoPJ4YiO8MksqSPEiJKJMKJTG7y8oQQ/n67FN8eqMTS7NQop+4rN6WaVlvSXU6JKi80amoGK2kZybyKkxOwuD164vwMpK7V2Yg9ER0rI8werzmJz5HRaNV4Zmg6by439Zw2k5nGXBBWg9xn6M78uwTfP5CExWg6DxeH7G4DPmpzvGV8dxfCOcVhECVoDPidqzvBM9EpWo9HhxuU6G+5p7ytLCCanKRXy0VopRbXJxqopTlSdWRxulFw0o3WUNCB4TvxGwiHSadUo0CVj2a7TmDYgFQv9AibU+SHk0tgSJyaLE1ltozBzQwkAegCF6378fLoWjUHkoGxON1744ggK9cmY3E8LAZ8Hi8ONeJWMkxXe314LpnX+4qAOaLC7ENtCEpL9QX03zBYHlu48ie7J0UhUy1FTb8f2kksBcz/lHi1aR0lhtDrxfUUNVhVVYFKfFHxcVBFwbwmunkl9UuDyeHHZbENGnII1iMHDSfI+EVrZXHNfVG5AYYMjoHyfcIgtlHmnvs8lF804cM6AL5/sBYfLgyiZCItHZaP8aiOEAh4EPB72nzUESP/ptGoIBc0cG1ySszqtGlf8ZMWYZAgLV/+Gj/K7gYeTtKpOvVaNfF0Sxn10gCZHGBUkCPhnQNjx/oPgekvH77YyYqZAQLDNgGlzCTWTf6XOhnO1jRjbIwHPDmgPkYCHarMNLaOkAdqZQrcLk379Gs/sXQ+J2wlvZCRqZy3AhYcfQ1SEBBqLg7a4Exn0CLEQR84bMWtoOhZsPR5gQBALVk68koxYR0iEWL67HDkJKizbfRo5CSpG9vJxPRJhcbhxpMqI+zOa+ii9PORp1Ywb//VkqJkCEnmpGmyZqgcPCKmPLIwwwvhzYfLkyZg8eTLj31avXh3wWd++fXH48OFbPKo/J5ic8eVjclBttqHymgXJ6giawycXC7CqoFuAtGSeVoPJ92gDWp4sDjf+W2VETrySdK6p2FtuwIzBPgNep1VDwOPRKrKCVWfZGByK+GgZSi6Y8cPJK+jbviX+W2Wk2Qd5WjVWjM3BlHXFOGdoxLFLdeidooZMIsCgzFYY0TkOYz74BY90TwhwugGfE0VkpVfsLkdeqgY9U6Jx8ko9IqUiiAQ8lNc0oEYqRLxKjrbRvh5fYr88VGnEB4929cl+xivhcHsQ20JK2hYiAR8qua+/PCtOgQlrDpIqJAW6ZERKhBDweRAL+ag227B8TA4tmPHcfe0Zs4bEfBN61UBg4uSSyYpZG0swpkci7R4SAZQIMbepz9S3TUWSJgL/+GsniAV87D/bHKT//vm+nMf522uc8qrltSioT8KENQdviItIIRdj/ogs/HTqKvafNWBbSTWzg8/joWdKNN7ceYp0BlVyEd7adZr8HnHfiMBPkloOjwewOFzBf4MuCQAQIRaiT6ompHeBCj0lECYX0cdB6LAT8z8sOw4ZcQoAPtt09d4KHKw0YtmYHBRXGWn3NS9Vg/zeSSgqryWdbbbqljytGrOHZ+Kb0mos2lZGnqf4vCkg0VTb4MDYD3/BvOEZmD64A2xOD5wuD/b5Of5Ehv8ff+3MOR9/BvyhHO+ff/4Zb775Jg4dOoTq6mps2LABI0eOvNPDui0I1eEkHEOz1YFNT+vA44HcFIgXNjdRddvLiKMjxPjyyV5wub2IkAgA8GCycvdHM2Xlg2XyG+1O30b55RHGKPNf39+PLgnNjnDy+VN4Y/u/kVnj0yW13Xsfdk6bjxbt20Ho8EAkcqPSboG8wQ6pUICZG0po90GnVSOjTRRyElS0iCR1QwXgkwjTJ6PB5iY30RW7y2mbKRUOt4c0ih754BdYHG7IxYKmjD2PFlm8ngw1WwBnz+lazN98LCwhFkYYYYTxBwSxbi/eXoaDlUbS4SP2pCpDIwp1Sfj7/R1gaPDJtp24XAd1JHPL06KR2fjLe8w67QBgdXiwMj/XRxDqdNOyYaGUsFJJRXVaNYZmt0acUoZkjRyzNpQGOKHU7GNblQyf/lJJd8xTNXjjLx0hEwmCcqEAvj1v1sZS0hEnbIQJaw6iS4ISr47KhlImIp3uJ/qmIE4pQ7FfQIA4bsq6w+iaoMKyMTlweXwM/haHG6uKfHu/vp0Gf3lvP+uc1Nm4s85UB46aOCH39HIDCvzsCWKOc+KVnOeOkooY287kYgFmDU2Hw+lBhFhI/i4gtGC/v70WzAkl/n6w0oifTl1FbqIKDXYX2RfeYHNxVibEKWXITVSh6pqFMYsL+O57Qe8kAM3O5jP3tqf9Zib1mLxUDeYMy4DRym2D2l0e9EnVQCkX4bXRHXGullvfmfqu9EnVYNGobFgdLvRrHwNNpAQfFp1lbD34/Ncq2vxTiZunUZRyAKCtSgalXIxZG0qw94yB5mwT3326nxZiIR+REiFMVifGfvgLahvoNvrJ6josGZVNVtcQ6JkSjU7xKpLklymZBPgy/A02F6PKzp8JfyjHu7GxEZ06dcL48eP/dCVrITucfk4VdVPISVBiVUE3JEXLr8u5+r1M5JdMVszaUEpzFnVaNV4enM55nP/mUtvgYNzQqdFJsUgQ4HQDgeVaIocNH5/6Gl3/byWEXg8aIqLgePMfKB84Ev+3uxx79zVnAPqnxWDmkHTM/Poo43mPnDfjiN9mTP2dxedN2FtuwHMD2kMm9o2f2GDYNqJkTQQGZ7fChDW/kc67xeHGhDUHMWtoOl4Zlg6bw33dxHx3W+9/GGGEEUYYNwdU45vJOVx3oAoLR2QhtoWEJG37eO85vD66I2YOTkeD3ceeXW224vw1S4DhTUWD3UVKYWoixThZXY/Fo7LQMkoKkYCPdY/3wD5KCxMBvV9pe55Wg9nDM/Dd8cvIaqOAxeFhLefeU16Lvw/sgJILZsY+awB45t5Uzjmi7rm+zH06uidFIzpCDI/Xi7UTe+D7EzVYuPU4XhjYAYeaMog1dTbM8WPWJs4BNNsWHvgkQQGfbbJibA5WFVUEdX4jpQLOvxO2T59UDSKlQrI8XiYWoFO8Eocqjb6MJENVXPF5E2sfrk6rxpELJiwYkYVXNpaQv4cI9L/zQzle3lBK+z6bHelvK0bLxZCLBeT9DyUgQ3V8Z35dwtoX7p8VJ65ttPi4EIJdZ/MUn3KMxeFGC2nz99nK4fecrsWCLccwcwi33RqnlOGVoek4W9uIKJkIiWo5aztin1QNtDGRjNw8ZosDU9YXs/aGMyVbghE3zx+RRXPMJ+hTECEWwO3xYh+lkiEvVYMVY7ugcHWz/dknVYMFI7LQmnINs9UJm9PtIxFuapMYR6m6YEK4x/sP5ngPHjwYgwcPvtPDuCMIVjqukIkZM5n+m4KAxyPJUELB75UkM1sceOnLowFyWnvLDThygXmTIK5BRPOoY5jSX0vrSfGPTq7Mzw3ag9XtfClmfbgc7a5dBADUDhkB77//DbtKg+UbSmgLnVwswKM9k9Boc7Oed9G2MmyZose8LccYgx5Ef4zZ6oQ6MgLvP9oVbZQyTOmvJUlAqNBp1ZAI+LTNjoDF4cbLG0rx3XN90DmBWQIFYA+W3G29/2GEEUYYYdw8xPkZxnKxAAI+DwI+D0spUj7+pG0HK41YuPU4lo/JwYQ1BwP2Wir0WjWOXjDh7bFdUG22wtjoRE6iCvM3l9L2ST2FGIzo83xxYBqMjQ68M64LJEI+ktQRGL6iyEdCteMEplKyj0xwuj1YtK2M8W97TtdiRpPTywZ/5+/8NQtZTk/s2ReuNeKlwWlwub34uKAbIqVCxKtk+Od3p8hSc//S30JKz7pI4CO865qkwsdFFSgqN6AzhezMHzqtGjV19qB9+HqtGgtHZuFcbQNMVhfiFDI02Hzlz//3RC/8dKoGc4ZnYt4Weq/48UtmzB6WSTpH1PMSNkrvdj72cqJyr61Khjd2nAhw1veWGxjtSLYWti+f7IXHVv2K2gZH0J7i4vMmFOp9DPVEFWF0hJiR0I7aZtnocNOu/eWTvQLOT4U6UgKjxUEGhgr1yWRggruU3ICZ4LGTiaVqUHbJjJkU2+3etBjMGpoRMPdEpWJrpQyJCGT55kqSFJUbYHMyJ23YiBzNFgesDjeeHZAKuUQIAc/X9uCfFAN87xEPwDfT8mC0OAIceOo1LpmsOFfbSP62YMGVsFrOH8zx/jMjGAO13eXhZKUkNoVQspqE0+b2erFwS2Cv1PVIktU2OBg1rAGfw7pxsg4Ltx0PcOyJaJ5/abR/T4p/dJKrlCnCboF2/kv44vM1AABbTEtM00/Et+17YWekCgajNeC3PtE3BVIRH4ZGO+t5LQ43zl+z4MWBHVDQO4m13BwAWdr2xH8OQa9VY0hWK1pEmNgIDY3cZfiNdvayNK5gyd3W+x9GGGGEEcbNxY2wqEdIhNieqCKzplz9ny8MTINIANRZXdhWUo2cBBU+2GNkJpzi8fD1U71xyWzD4Sojxnz4C7nfEdVky8fkIEIsRJcEVVMrGjv8+2/9+175fHYuFH8iOYDuKOwtN0Ai5GPW0IwA3eg8rQZrJ/bE6zvKGEt/qWXYl802LByZBZPVSfYO+88n8Tt6pRA98m68NCgNy3adxq4TNbTrzhqWDpfHi/szWuK1b8qQ1joKgzNbBxC35WnV0KfGYHROGzw3oD1cHi/kYgF44OH7E5cxspPv85p6O2mjzPjqKDmfEWIhLE43jlfXQS4SsPacE3akzeWBsclWeXXb8cC++tO18HrL8J8JPTD63X347NcqrCrohnqbT6KLuHfHL5kxtkcipq0vxjtju6BzvDKkZMrPp2tRXWfDq1vp1xY3sXGzOfhOtwdjPzxA3rsZXx3Fa6M7AgheDl91zYIXBqYFkInlpWowuV8gX8L3J66STP5EUEMpE6FdbCRaRrHLcN2MJElzFYADTrcngET3laHprPb5z6dr4XB7OBM8gC/Qd9lsJZ9nhUyElfm54PF4tPcSCKvlEPifdrztdjvs9maHqa6OW/rpbga1hOxnP4dq0cgslF9t4DyeuphwvbBUpy3YghdKWTLX4mFxuFFhaMScYRng83iMpTH+UT8qYUihLhmtFFLaJsgWbet35iBe3fk22tRfBQCs73g/4j5Yjm83+DbFC0Yr44J7T4dYvL7jBGsvNgG314tvj19BcVWg8QHQS86JcxWVG7Bkexk+m9QTF4xWmrP+9VO9Oa/H5iAHI+F786FOYQmxMMIII4wwaIhTyjBnWAbqbU48mNMGszeVBvSKxkZJ8H1ZDcZ8+As+m9QTy38op3GWMGHP6VrYnB5Ey8XIaB2FFWO74HCVERU1DXhhUAfM2UjPkm+fpud0muQiQUCfdZ5Wg3WP98TENb/BbHVgvD4Z/lwoTPJKVEeccBzuz2iJuQwl5XvKa7Fw6zF0TlBh94mr5OfE916iZNpjWkhwpc4KHq/ZHqHaLo/rU9BaKcWirccDJKnmDM/E33omkn3zxedNGPXOPrz3aFes3luBsT0SUVNnC5CM843RAM+OE1g0Iguz/H6Dr28/C395b7+PjVqfjNwEFckA7z+fIzu3oSUF/GG0ODBncymplc5mKxaVG2BsdGDHtDw4vV7M20S/33mpGswbnokztQ1YMbYL4lQyzKdk7IM5wiaLM+Da1WYbK2v+eF0yrA431ozvDpfH45OI+2tnuD1ejNclB63kFAl4GPvhL00cCklwuD1orZAhSiLEsBVFjPO1+8RVPNYzCQebCAtNVieMFgekQj6rDX09SRKmCkf/KgDi91OlXiu52gAA3ftJREFU6fKNVs5rVF2zIEIiDDonSrmYsS+eer3cRFVYLacJ/9OO95IlSzB//vw7PYybBqb+jUipEK9sKGnS1WSHlFLSHKrT5r/g+UeaHS43zBZu5zvY4iHk+5hRCRksYgEh+mPcXm/A4k8lZfm/J+glRf6lTCqLGbN3f4QHj/0AADC1jsfkPk+AN+Be5Ji9tGOZnHYeQGpiBouiExFtPnwboH9E2+p0Y0p/LS0yvqfcgIJ6O405tk+qBqqIG9PYDtbD3Wh3sQZwwotiGGGEEcafF3weDw++ux/P3ZeKodmtMWNwGhrtbjTaXeQeR92LQ3WODI12GuFSXqoGs4dl4I0dJ9ApQUWSwElFAtTU2THlHi3t/ECT1NiQdNTbXBjXIxET9ClkRm1PeS288OI/hd0hEwuwvbQaPdtF45kBqXB7vIiSifBfvwo0qiNObVnLiVdyOpHjGYLwe8sNcDTNgb4pOPDP707i2QH0snnCdpnSX4viIuYKgYVbjqNnu2hYnR7kxCuRGReF/0zoAZVchEJdMvh8Htq3bMHYiiYXC5CToILF4Q6Yo6JyA2ZvPIbxuiTkpcag3uZChETAwgBfi/lbjqFQn0yWYvtXGEQ0Xau4yhTcObY60UYpw7zNDNc6XYs5m5tJ7j57vCdtXoKVLkdJRYFKNXweyT/ARHr7nwndES0RoabODpvTQ85R1wQlFo3MRp5Ww5gJzkvVoKbeTt5HQi3gHztPYEyTEg0T5GIBWiulKC6iB4yobZv+znOkVBiSDchU4bjkwWxsP1rN2OIJNLeehoJQqlsjJEJOmbhNT+sgEwk4pef+TPifdrxnzpyJ559/nvx3XV0d4uPjb/l1fy8ZGRf8y8PO1DRgV1kNxvZIYO070WvV8Hp9zt71OG3UBY+N6TFYvzdXiTyhE1hTb0eERAgegOkMPUIbJvfGZbMdv1VeC9j4o6T0R5gs5/J6ody6CfN3vQeNxQwPj4/zjz2OB1sNQpq2FS3ynZeqIaPe/v3jtqYNZVVRBTZO1gVEmfO0auQ3nYuIaH82qScmNDgYI9o6rRoP5rTBmvHdyd9D3bQIB7hllPSGHORg5UkmixNdEiM5CTjCCCOMMML484HYr9//6WwToZgdxedNjJVcFnvzPhzMOfLHntO1WLj1OF4c2AGv7zhB2yP7p8VgxuB0DOsYRzpNUpEArRVS/GPnCeyiZJupGbXDVSZ4AZitLnRuq0KUTIRdZVfwwc8+xZK1E3tg+ZgcUrps57Er5L49pb+WdByCkUOxOZlXG+ykLvfib8owY3A6hCxl71x9xIeqjJj3QCbmbC5lJMibtr4Yy8fkBCRCZCIB1JFivLXrFGvW8VCVEfNGZJIkcVyZaqJf/v6Mlnj3x3Jy3DanG73bqSEU8HGmpt6XbODxGM9BQCLko9HhCtoOqYkUQ8CnnytYX/j20moUVxlpXALF503ISWCe4zytBqcu19P6sKlztHDbccwfkYm5fpl5wvaSiwXonhQNs9UJlVyEOU3f82eUp6JQn4xFfpKzQHMl4pIHszHja7pizn3psVg0MguzNpYG2ICLR2XD0OjAmasNsLs8JLkeYRvHtpCwlpBTqy6Z5MGoc1J83hRSdWuDzcXOIl9ei/NGq893CKvmAPgfd7wlEgkkEsltvebvJSO7XtTZfOQpLaMkKNAlw4vAKHGBLhkCHu+6nTbqgsfG9Bis35sokWcqeZlyTyqcLg8OnzfiXG0jvADG65LRKV5JOth7TtdiwdbjTZFV+uLKlBm2ONxY+MEufHTgY6Tu/x4AYOuQjtp/vY2r6Z2w3O3BvjPN+oJ5qRosHJGFIcv2kNHLBrsLLrcXMS0kEAv4ZMa9wtAYIBsW00JCyn0R1//2+BXEKaT4sOgsYwRw7uZjKOidhOOXzFg2JgdtFFJ89VQvKGVimgMcjKGSCcEqDGxONy6ZrIhTysILYBhhhBFGGCT8JYk+KezO2utNraILhTTLH3tO1+LJvu0Cjtl94ir44OGVYemoqLVAIuQjWS0nHRwqiGPfGdsFcUoZY88zYTNca3SQWfcp/bU0nWOqIxwK8zYT2qpkyElQkbbFeF0yHv/kIJaNyYEHYHVM/FGoT8a8zezs6ZP6pEAlFzEmQvRaNSboU9CxrRLZbRSk1rhMxMcHj3aFQibGPEoJerBMdeU1C746dB7TB6VjgV85ur6JKO/k5Tp0ilcGrQiMksVwXsvu8uD10R3hcNPHxPb8UQMRxH0kMrnEMTyAlozK06oZdev9M8GT+7XD4OzWmDE4HWarEzEtJIhtISFtpga7C1fq3Ki388jfzPUO9EpRswZafj5di6sNDhyqNNI+/67M1+f/5kOd0GBzkTagVMTH3M3HsKusmQeAGjiwONwhy7atKqrA9ml5mL2plJMYOFg/ebCEj83ps+XDqjk+/KEc74aGBpSXNz+8FRUV+O9//4vo6GgkJCTcwZH5YLY48NOpqyjonYQx3RNopB+hkpFdL6KkIhTqk3HZbKf1Y/mX1nxS2J12fcasvExEi6I63B4MymyFoxdMaKWQcS4cXC9UnFKGFWNyUF1ng8niCxQAQFH5VaS1isJv566RBCRA4CLi30NWqE/G0fMmMjO8eFQ2Kq9ZYLY4kLzpMySvmAdpYz08IhHe6fUw/t19NJw/WaC7eAovDkxDboIKGQ9FQSUXoa1ShkaHG6sKukEpF6G40oiF28rIhTxPq8bK/FxMWHMQQj4vYA6m9NciJ0FJW2xXFVXg8yd6MpaCAc0Gx9geiVh/oBILR2YjnSUoEwpJDhXBKgz2nTXgvZ/OhPW6wwgjjDDCCAA14OvxetE1UcVoWzjcbjJbxkXElu/XV02FmUUTedeJGhTqk9FWKcM3x6rRMkrKqVbyypB09p5n+GyGK3U20jn87NcqfJTfDfwmgiyqo8LlQPlLoRHQadXYeewKzT4wW50BnDQAoJSLIOCxO/dc2XCf/FkaGu0uxkTI4SoTnhbxcZDBphqvS4arwU6bR7YgAmEHxkfLMKV/KhYxzK2POO8khmS1wqh39jEGGIjrfv5rFR7oGMf6m4mxxEZJsPPYFdr8U+fw5cHpqLxmYSSvpWZyAeBagx3zHsj0OaJOD6RiPuQiIYaz9GFTj3e4vXh5QynytD4CMj4lC3/hmgUvfX0Ue8sNeGdcF/JztndAr/W1GnLB0GCn2bwEviurwYzBLlor5pT1xUHVi0INHuUmqqCSi7BohI8nio0YOBjpbmQI8m1AWDWHwB/K8T548CDuuece8t9EGXl+fj5Wr159h0bVDKPFia1HLwUsPMQLdTOiPUx9IPp2ajQ63LTeZ3+0kApp9P9MWfnFo7Kxenw3/Pv7035EG2pM8+tV8kewF0ohF+NsbSMe+eAX8rMp/bVYWcTcFwLQ+1CIjXFvuQGzh2bgcX0yFHIxLpmsmPn1UVT+VorXdixHetVRAIA1pysKdJNwIKKN33lPICdB1SSvkYGZG0poEVF/p9+3SfEwa2g644bMFFm1ONy4WsfOgg74NuW1TZIZVpa+oBsBV4UBNTocjjyGEUYYYYTBBGrA93UGXfA+qRq8MbojlozKxswNvhJZwjma3E8LAZ8Hi8MNTaSYVhHmDy4HwWR14u0fy9EtKZpTxQMAXB4va0Z5b7kBT/fTIiZKgt7t1Fi0tQyP9EjAsu9PoVOCEhPzUtBWJcPK/FzYXR5EiIUYkN4SwIkAW27O8Ey89g1dyiwvVYN5D2TissmKnCY2Z5vTjYRoOdl7TJ27b57Jg0zEZ+0jDoar9XYAPMbfW6hPxoomwjv/OeADeGEgXWqNyaa5HonWPadrUdA7iTHAoJCJ8OOpq/j81yrMHpaBAxXXglZF6NppGB1Yi8ON4ioj+raPofHh+CNCIsT7j3ZFsjoCC7Yew/SvSsi/6ZuqLNmeRaDZziSSQ3vKa3HRZMWENQdJG5lajUB9fv3nwO7yIDFaDoVchIYgzy8AfLy3grH3mmpbc3H4+JeQs811/zRf5cG6iT0gEfJR2+hApESIz36tIrPsVAQj3b1ksuJgpTGkipewao4PfyjHu1+/fmSv8t0Gs8WB2RtLOJ1ILuc0lL5wNod57vBM/HL0Emepz+EqE1o1SRewsV6/vKEEg7NaM0aN/z6QO4IWESTiZbY4IPPTrA4W2aVGL6kLnM3pJqXGZnxRjPbrV+GDPZ9C5rLDLZXh5NSXYJr4JCa5gRK/CKIvYpyO+zNaYvbGUkaNSoDu9O8pr8UzA1IRp5BheMfWWLS1jNwwLQ431h2oxNzhmbjaYIfL44WAxwsp4kj8Rrao/40iTinD7GEZOH/NwhrBDEcewwgjjDDCCIZgLU+zhqaTqiBSkQA2pxuCJucTALomqhidhTythjF7TIDYI2c29Ur7g1qdZ22qWvOXLyLg8nqxZHsZXh6ajol9kvH27nIcqjKhY1sloiNFOGdoBI/Hw/HqOqwqqkDPlGi8NCgNtQ0OeL1etFHKsLWkGhNW/4a3x3XBBH0KzFYnJEI+Si6acaTKiPQ4BS6ZfCzRx6vr8MIXR5CToCTlqh7pnoCceCXqrE643ALMHJIGz/ayAOc+Noq7PTKmhQRmizNgDuwuDxKi5Zwa1K8M5dPIapmc3OuRaKX+3T/xs32aHqM6t0Fkz0S8sqEE+84YgpaMD8xsyejAEjZMsMyq2+NFyUUzPtl/jjFD/1Q/Lefx8dFyLB6VBerjRvy+n0/XYuaGEnSKV5I8A/4OLnUO8lI1WDwyC4YGO5Ry5kpEuViAWUPToZCJMK5HIhKi5QBAe4apzmqwkm5qCfmqgm4Q8Hi0aw5Ij/VJ5W0sCehfXzQyCwBoznew9lSCkPlQpTFoxUtYNacZfyjH+26GT6+aPeJaqEtmjfaE0hfOJRM1b8sx5CapMHtYZkC5FXVR654UDQCcrNfT7k1llJDg88AZ0RIL2B3Ni0YLKg0WyMQCWpQ31AXdv0eMmMe63/6L5+eOR+fqUwCA0rSumNznSVTxWwOrDiJPqwnY9OwuDwQ8gM/ns2pU+jv9AFDTxDxObHQFuiREyUQQ8fng8wG7y42xHx4go8WVhsaQIoB2l4eMrt5MCHg8GousP8KRxzDCCCOMMEIBV8uTkM9n3WvkYgG2TtUHaGLrtGq8MLAD/v39KcbjqHuk2epEld9+ykb26l+x1jxGHh7PawezxYlGuxuHqkxYNiYHq/dWsLa5vb7jBIZmt0ZuUjRcbjfiFFK8Pa4L3txxgrT1iHGs3luBoi+OMp5HIqzER/nd8ObOQBK5eU0Be5PFSTqX35fVcNoOpRfq0ClewTgHn07o7mt/Y9E4v9bowOyh6SSxGNXJfbqfFi6vFyq5KCSJ1mB/tzjcaKOUwdDoIPuRp60vxqQ+KXhlSAbqbE60kAjB5wHfll0BANTU2UmSYP8Agl6rxsCMlpxzY3O6MTCzJWvwYf9ZA2ulga9d4DKOVJmQ2UZB2sHU30dk+AmwtlikajBzcBpGvbsPtQ0Okj/Ii2b7Wy4WYGV+Lt75oZzWlugvwUV1VoNx+FBLyOOVMiwcmYVGuwsWhxsKmQhRMhFe+OJIgK/y8+lazNpYijcf6oQZg10hcwpRM/BMwRKCAyksJUZH2PG+SQgWiQLAGO0JprtM9OJSH3D/KKdUJECrKAmqjJYA8i9qprPe5kSwegGz1Ym3x3bBkQsmZLdRkOf3er2YoGfXRTRbHQAiAs5H7YeRiwVYMTYHgBd7yg1BF/S2KhnWPd4DkRIhClf7yDDyUjXQiAHMm4c2ixcj3umELaIFPhk9BYtb9QYovTR7ymvhgRerCroFMKeuzM/lvLZ/UIAYKxHRzEvV4IGOrfHiVyWQiwVYO7EHWaom4PEQp5Bh7vBMLNx6nJO0QiETBbB43gxw9XqHI49hhBFGGGHcDHDtNV0TVXB7PIx2yYQ1v+GNv3SE0+3l3COjZEIs3FZGc3DYyF6ZKtb0WjVUchEum+0wWd3wegOzumzHPzegPXaVXcaA9Fb4piSw1zyU8wDAP3aeCPjO7hNX4XR50cmPfZtwqKnn8Z+XTwq7Y9bQdNq15WIB4pSyAI1zqiPXQiZEVlsFrTqSKOO+L70l/v39KfylK13550aI8wCgzubC9tLLyElQ4t2/dYFEKEDJRZ9duWT7cT8SPA02T9HD2GjD/BFZmLuJXo2o16ox74EsXDZZOe3QqeuLsfShTozjAXyO8obJvbHAj2HcvxXPs8OLQn0yiquMAb+PahtaHG7M+OooVhV0Q73NRVZBFJ83Yem3J/Ha6I7kOQtX/4Yvn+yFgt422F0etFXJ8MaOE6xVl7OHZaBf+xias8r1ruWlahAfLcfnk3r47M8tdAK2Pqm+fnWuxJuhwQ6JSIBkTURITjLV72Fqdf2/J3phyxR9WDXHD2HH+yYhWCSqrYqZRTqY7rKh0QHAl1F9Z1wXVsmIvFQN5g7LwIyvfFFXwinvkqAC9L4FJ5Qsp4DHg4SBnCNPq0GhPhndkqIZHfstU/QB5zJbHJjZ5HQT4IGHwdmtUaBLRnSEmF0vUavBt8d9ZCU6rRqvje6IdQcq8XyUCZG9ewBlx8EH8G1qT8g+fA+Lv7nA+Hv2lhtQzyF1wAaJkE/T4XZ7vGQp24lLZswcmoHhy4vITfKf356kbSQ6rRoT9Sko1CXhyb7taAsysRDrtWq0kApvieNNZacN63WHEUYYYYRxKxBsr7E62blnSi6a8fQ97Vj3yLxUDdweb0D5cUwLSUhtanlaDfJ1SeDzeYhTSuFwe1BTZw+5za2m3g6Hy4uFW3xs6WOapMYI24Aru0o9D3v5dy0KdEm0z6i/9aVBabhgtAbMy9UGOzrFK3DJbCPtsXiVHHM3sbOhzxqaDpfbC5vTg5eHZsDp9qDabIOQzyMDIa+N7hjQEsiV1Z3cL5AhnPibNiYCHxedxcyvm/usF4/KwsdFFTRbSS4WoFOCElfrbeCBB6vDjVeGZIDHB7weAPDC6fHikQ/2o0OrFuieHI2cBBWeG9AeZqsTCpkIp67Uk3PDldCxONyoNtmQk6DCjMFpOH8tcG6J3zm5nxZdE1Q4csFEJlWIJBe1KvSR7gl4fUdgYAXwOelEEMficGN76WUcOW/CntO1WJmfy1l1OW94ZoDuNdu7ptOqkd87Ca99U4Zp97bH3C3HsJsiuwf4/Il8o5WccyZt9vNGK574z6GQlZiC+T0KmZAkhgujGWHH+yYhWIaR6K/2B1emXC4WwAsEsBjqmyTCfjl7jXz595yuxfytx/GfCT2waFugdvSqgm5klpOL9drt9TKSc+wpr4UXXnROUAWUlbFlUP3L7wv1yfjPL+eQEadAyygpaurtmD08g9zUqL/vhYEdMOZDHxHb3nIDZHYb5v32Gdqu+QB8eIGYGNQuWYpPPKkYGx0LgNnxBgKZU4nSbq6SoxOX6/DZpJ5kFJNYmE5cqsP0QelwON1Y+lAnJETL8fo3ZYwyJ3wAPdup0TUxGusPVAZEeF8Y2AEf/HQGr47KZh3778GNyJGFEUYYYYQRxvWAa68xWxysNke3xGgUrvZJbq09UBmQhVwwIhMWh4+YippRo7JJMyFCIsSWqTrwvDz89YP9+LigG85ebUB2GyVq6u2IbcHdR01kNSVCPrLbKMgkBBGQJ0q8M1pHhXSe6/0O8Vtz4pWMZGIyoQBCPp+W3eYiQSPY0A31Dri9Xoz58BfSjpxKcTinrS/GqoJuNG1naiBgcj8tPF4vZCIBIsQCiIR8dE1Q0ewonVaN+Q9kYp6fXQcgoGKAq2VgvC4Z6w5UYmyPRAh5PNQ2OFDbFMyYsOYgGRB476czvlbCJnWZYBn6g01zltE6ipOozeP1wgtvgOpOXqqGVLoBgH7tY0LmKlpVVIEtU/WYv/lY0GeDjVAwTinDmw91wpmaBpgYglVEFYW/402Aa84f6BgHuVgQVCaYQDAVHYJbKmxz0hF2vG8S2CJReU1MiGwPXpRUxBh9OnrBhM5tlbhitmFM9wSM1yWTvTpF5QZ4gQAGxD2na2FsdNBKj4jzNtpd5IbDxXrN4zGzZQI+corJ/bQB7KZsGVT/oEJuggqd45W0F54gl5g+OA0WuxsujxctpL7ScmIz6H3uv5jz3nIkmH19QNcefBj2N5di9s+XUNA7MSBC6w+5SIDn7kvFPR1iAQA2py9bP31QGkS7TtIWKB9DaQZ44DH2pY3XJeONHWXIaqvEBz+fxedP9GRn/GwicpOJ+XhlaDoMjU5aVH/596cxa1jGLV2UqL15BIHf2dpGVgK/MMIII4wwwrhesPWBcylt8JvYz9nItIyNDpy4XB/gSAVrUxPyeXj4/V+w9KFOvv5WuQjflV1BK4UMKRo5IiXBe2WJMurMuGbnuvi8iVbi7c8Fw3SeYPaJQsY8Fr1WjZKLZlrPdqRYiJgoMXjg4YLRign6FHRPjobXC0SIuc35q/V2XDbbcMlsA9CswkK1I7smKBEhFmC8LgkebzNTPFGO3iVBCR54+NdPp8j2wUJ9Mp7q1w4CPg+NDje8Xi+u1NlIu4pqh8rFQhoJXrBS/ZwEFdbsPYcXB3Ug/0Ylc1t3oBIzBqfD2GjHqyOzcclkRb3dhQc6xgVouhOBBmqbHwHm9k0plnxTFpiEOl0LeL34v0m9IBL67gMX/EvTeQCWj8lBddN9YANXhWqDzYWxHx2gfSYXC8hnpYVEiIEZrWB3+aojJEJf4qi0Sc2Hbc4Xbj1GPg/BZIIB37u9YEQWXvEjlvbnlgrbmXSEHe+biDilDEsezEalwUKLRM3fcgzzR2Qxlm1oIsVYVdANy3f7S3hp0DM5GoVrDpIOKLVXh23RN1mb2S6ZolqEo7xoZBbKawJ1+9j6Y4iFSSET4YsneiFSIoBcLIRSLuIMKlChkIuw9NuTtBfU4nDj5Q2l0GnVmD00A1tLqkkikChbA2b+sApjjn4LALC2isNT+kmY887f4XR7sOvEEew7ew3Lx+TQstfURZTHA1oppYiNaolX/RhE87QavDCoAx7rmQSL0w2lTAQ+H9hypBqHzl2jbSzEgiwXCzBtQHtfpDdRBYudWwrscp0NhgY75m05TjtPTrwScQopXJ7gEfGbgVAI/MIII4wwwgjjZiNOKcNShiwdYduwSaEOzW6NRX793YDPASZIuPyh06rx46mrZNlxnlaN4kojMuIU+KjoLIqrTHh7bA4tq+t/fE2dDRP1KThebUaiOgLvjOtCJkQ6xStIMqxg2dUrdTZ0S4rmaKlTI04hDfg7IV1mbLRj2e5yrNhdTtp0i7aV0ZIrBEFXdhsF5z1o2UIKHnhYtK1ZDq2o3IBXhmYgT6tBpESICIkA5VcbIeLzUahLxpR7tHB6vHC6PCi9ZAYPgFjIx7geiZigTyEdaKIlMCdBhZx4JYwWbjuUsGWFPF5Af7s/SzsASER8aCJ9XEdE0EWnVWNsj0R4vF60Uckx86ujNNI7Hwmuz0bWREoglwjgcLmxuqAb6u0u2JxuX3CliWjPf4x5qRrk906iVZYS2FNuwDMuN5bsOBVS8IVAn1QN1JSER6g8PP6qR26vl1buTp1nohLg37tPBzjDE/TJaKOS0cr//X8XMWdysQAerxdnaho41ZbMVkdQbqkw6Ag73jcRZosDM74uYVzM7S7mso0Guwtv+70gQDMxGDUa6U/8wVSqQrzkbJHEn0/X4qWvjmLpQ53IDLjd5UHXBBVyxijRSiEhNxliUQXA6sS/NrojFHLm+fAvQxEKeIzOLHEtL6+5F+r+U/ux8Lt30bLhGgBgTZehSPpgGUSlBogF/CYtS9+GPXV9MZaNyYEHXsZFdEp/LYqrjIxzjB1edEpQ0cq1iNIytk2D6Bubtr4Yy5sMAi6oIyWshsWOZ/KCHv97ESqBXxhhhBFGGGHcCrSMksLt8dKqAqf013I60B6G/m67ywO5SIAB6S3B451kJWYjHN/ZwzMx8u29WD4mh9yDn17XZDN4vX7BeDVmD8+Ey+1Gg92DX84Y8ObOU7TzD85qRTo9XP3Pc4dnYFtJNcZ8+AvWTezJqDiTr0vGQ+/vx6qCbnjS5ssaiwS8piy5Fyt2l9PsPn+brlCfjA/3nEWnBBUUMhFWNumI+8uq5aVqUFNvw9PrigOcSGOjA62VUhRXGjFr0zHy73qtGotGZuMv7+2DxeHGsjE5WOXXn82UDCKcL7lYgOVNjO9sGe0X7m/OZAcrgV76l0749EAl4qPl2DJVB2OjE2IBH5ESIS5cs9DGRbW35GIBtk3VY1ZTBSNRJk5cb2i2jdFW3nO6Fh6vN6CylAChHZ+ToAqJfM6/OjRUHh6mpEleqobG3k99Nqb017JmtHkA5gzLoH3ub4/HtpDg2QGp6NRWiQV+7QJMyZpIiYi11B4IK+gwIex430QEI0rzL9swWxyoNFg4+3L8o2nUz/zLrfJSm3UxuchDDlYafUQPR6tpUVa9Vo1CfTJO19QjK06BnHgl/u+JXqipt+HTXyoZnXgux00hF2PxqGzM3FDSVAbvZHdmUzUYndMGa4clQvvqK2i5YzMA4Ex0G8wYNBXSe/phTtsYzE1phXmbj2Havanksf5kJG/6EV1wzQU1wgfQy4LYghfUoAhXxDuvadHl6gNrdDD38dxMXO9zGUYYYYQRRhg3G/694FEyER7JjcfLG0oCyKLG65JR2+Ajl2UKXMvFAvzfpF6YPsiLmjpfIJ7ItHVNUGHuAxm4cM2KS0YrLA53QMmvvzPfViXDt8evYOTbezF/eCY2H7nIyN2yaGsZjTDL/zzx0TK4PV5sK6lGdhsl/vmwCgIBMKxjHGNWsGuCCoBP6uqzX6vw9/vao1O8Cjanh3Z9JjuGqX2PmD/CMeuaqEJ+7yRGpxvwZZPnbCxFpwQV7e9F5QbM3lSKv9/fARdN1pBY4InfVnrJjJX5uT75LM6+82ZiWa6y84Vbj2PeA5l4ZWg6Zm2ktwDqtWrMHpbBKINLnHcOpW2QarMRDPFUOS//a788JB33Z7REtdkGkYBPBjUIriCu4MvCEVmoszowqnMbRn4dHoDB2a2R3zuJnLuapqQSwJ402XO6Fl5KUID6bHDZu0XlBngo0kbsySU1eiRH41CViXY8k80fVtC5foQd75uIYJJi/iUXtQ0OsjScDUxZbbvLA72fjMOAtFi8MiwdV8x2dE+KRkwLCTZM7o06qwu/VV6jRT8L9cmYvbEkYEEsKjc0sY63ohGocZXccDlul0xWzNtyDJ3ilSjonQRVhIjdmT11FTtnLMWEr5ZBZDbCzReg9qlpuPj4s3hSLEHLKCm2lVSj9KIZj3RPAB88msNLRJ/7tY8JIO8QcWiME/NJRP3io2VotLmxqqAboqTCoKQZRLad+IyArilyTkTaibH4Z/rlIgGqTdYA9sqbiet9LsMII4wwwgjjVoCpF5xwxk1WB+xOD/adNZAOLVtGvGuCCkcvmrBoWxm5r+bEK/Hlk73xw8kreGDFXnz0WC7UTYa/f6LC35lfmZ9LlkxnxEXhxa+adbn99+7EphJowq4izkOUW/dOUeNf3zUTchEthfU2F+wuD3hNsqc9U6LxzL3tca3Bgew2CjwwsScWbD2GmRtKAwjkmGxBpvY9oJncdcsUPQR84PUdJxidUp1WDZGAH5CAILDndC2mD+qAhGh5SARiREAhQSXDyj1nMTGvHeMxBKwOD1lmz50gqYXN6cZr35ShuMoUqFVeacITfVNoc05lns9oHYXxTaXxn/1ahddGdyTHTnV0mVBpsGDtgUqM1yVjyrrDyElQYmV+LggxGjaOAm1MJBI1EWCS2QV8TvV0Bqca8DmsxDvBljShci5Rn41gpG0Wh5t0lNmTSwZ4EMgjBQTa/GEFnetH2PG+iQhGre9fclFncwYlCWH6u1ImwsKR2bA5XejYVgFNhBhKuRhzNpYGMGf/fWAHnKmpp5WlBFvg/OUtgpXcGC0OmC2B2XwiUkdoCa7Mz0WvFHXAOdqYa/DqzrfRr+IQAKA+LQsF+icg65yLzlesWLHb149CRME/O1CFl4akYVr/VPDhWySIyB2VwZz4LJhcl1TEHPULReubTfrjSp0N35RWo2uCEjV1Ns7I4tP9UyEXC27ZAhXsuYyQCIP28YQRRhh/ThiNRkybNg2bN/uqkB544AEsX74cSqWS9ZiCggKsWbOG9lmPHj3wyy+/3MqhhvEHhT8JaMsoKQakxbJmxPNSNZj/QCb4ANZN7InqOh/BVfF5E9Y2MWEDIEmy+jRVAzJVp8nFAswemoHWCik+e7wnREI+rlkctL8z7d16SlbZ4nA32ye/VmFgRkvSoZSLBXjzL51w7KIZsRR1mzZKGR7MaYPyqw0Q8vkQ8nl4bUcZGWTwt/2YbEGifY8Je8oNsDhdeOObE5g1LBN2l4dGJEuMlyD5YnPYLhitQYnb7C6fA11TZ8eqogp8/kRPVBmtcHu9nMc12F3Ib7I3gzqMTjdyk6Mxe1gmFm49FpDhnz88E+//dBYA8ETfFAzObM34PcJJfKR7Agp1yayKQwQkQn5AZp8PHgr1SeTz5B/EIRxnLtQ2OHCo0hgYRGjKqBM93VyQigT4/vm+sLuagyrBfAqFTETOQaiyev7wT9aEFXSuD2HH+yYimLi9UMCjOajRcjEEfB7ytGrGchydX1Yb8DnTVqcbQ5ftQU6CEnOGZeLIeSM2HbnEKgE2fVAalu06jeVjcjC1idGRC0wLINdLaLY6MXV9Ma33gxqpIyKPrRQS1FubFwie14O/FW/HSz+tQaTDCrtAhIopL2Bx2hD0SvFJNIynXJNc/HTJsDs94PN5eGFgGl4cBHi9wNKdJ2hRWyKax9WDk6dVA/BiDUPULxiIBY5YdLskqDB57WFyQ9tVdgXj9ck+hnQKEyoVRGRx8Uh25vvfi2DP5cFKI41sI0y6FkYYYRAYO3YsLly4gB07dgAAJk2ahEcffRRbtmzhPG7QoEH4+OOPyX+LxWEjLIzg4MqIU416AJiy7jCj7UToJytkIjIjN3dTKWlPMJGTzdzQvAeundiD/H+2rCBRIbh2Yg9ca3Sg+LwJ6w9UYtq97fHOj+Uo0CVh5tB08OCF2eLE1pLqgKq4JLUcZdV1+Nd3p0nuGKKy0D9QwBQ4MDZyO2ZGixN7yg1YsPUYCnXJGNcjMaDUnXAQ2Rw2sYAPp5vbKVbIRJg9PAM/nryCTwq7w2L3JXj2nzVw2F4a0slcPiYnqL3RQipETKQkoFce8N3P+VuPY97wDERHSlBTZ2P9Hh88vD66IymjtnmKLqQebaoNvKe8FjOHpOHVkdmYs6n0hjK9DXYnJ/Fco90Zgk62CO1iI2mSfVztj0Tpt0IuxvIxOThV08B5frZgCFPfNpuqQRiB4A6NhHFdIBb4Pqka2ueEuP3gf+/B1PXFqDZZcclkxayNpXjkg1+Qr0uGTqumHZOn1WBq/1SS3Iw8jy6JXDAI+v+UmEhOCbB6mwtpcVGQigRYVdANbVXcCxzbAsz0EhILE9H7YW6KFBOROk2kGJ9N6oleKWrUWd2IlPpiPSmGC/h83Qws/O49RDqs+LVtBgaPX46LTzyDn8+ZkROvBAA4/Bb8veUGSEUC/PX9/fjp1FXUNthxtd4OsdBXLkUsOoCv12VvuQGriiownmmOUzWY+0Am2ihljJs39VxMv5uQ+liZn4uV+bloo5Ri99/7YPrADhDyeMiIU2DKumI8ve4wUlu2YL1He8sNt7TXm+257JOqwdP3aLFw63Ha5/73MowwwvhzoqysDDt27MBHH32EXr16oVevXvjwww+xdetWnDx5kvNYiUSCVq1akf9FR0ffplGH8b8GhVyMdrGR6JygQrvYSCjkPoZrrv7h3ilq0kEnWNVTNBGYNzwTO57Jw5dP9sLnk3rh7R/KA86z/6wBej87ggl7ymshEQpgd3nQK0WNZwa0x3s/lWN013isPVCJ7SXV8HqB5T+UMzqBK34oJ2VO95TX4uO9PoktAAF2C/FvPcUmcXm4M8out5e8FgBMWHMQk9cexoQ1B329wQlKkiHeP8kDNNt3XLZQXqoGSpkIhgYH2sW0wJOfHoKAz4Pd5WG1vXRaNWYNSydL9aeuL4bH40Wen41CvUZxpREto6Ts9+J0LdLjorBmbwX398prySrHAemxOFFdxzrG8bpkmg1OtYEdLg+SNBFYPiYH3z/fFxsn98b3z/fF8jE5IbUOKmVi1p72j/dWQCETk0kTJlD7p6k2HtucM5G7RQdxlJl8gXDf9u9HOON9E0Cl+lfIRHjzoU6oszpRdc0CADRq/Z9P1+LHU1dpxGbU/hDAx4Id2/Rgf/RYLvh8HhrtLhSfN2HGV0cD+oSDrL0wW53IiVfCbHXis1+rsPjBbNa+qTyt7yVnIqpQ+ulN5qVqMEGfjMlrDwOg934Q+uQf5XfDGztOkNea1icRb5zahhGbP4LE7USDWIbX+hZgbc5g9E6NIRd/YoFrq5IFjKXORo8UysUCvPe3rgDoRBdUvUemHhx1pBhHz5vQRsVMy06ci8/j0fpsCBI6IY+PCyYLea2LJhuu1NnQKzkaxkbfXBPjDtZHxNR/dTPBVAok5PMweNkexmuHSdfCCCOM/fv3Q6FQoEeP5gxgz549oVAosG/fPnTo0IH12B9//BGxsbFQKpXo27cvXn31VcTGxt6OYYfxJ0CwMlyJiE/bv/wzcmaLA8cu1THaQcTez+PxgpZAN9hdUMpE0LSQ4JLRinaxLbCuqdx93YFKDM5sxRl09/83YQf62y0REiHsTg+mD0rDDB4P9TYXWkZJOGXRDlcZWcdNbd1bMCILi7YdZ/z7tPXFpC3H92OR1zcllR56fz8sDjfytBqsndgTR84b0UYl59RorzbZaHJy+R//iv9M6I7F208EMHjPeyATw5cXscrdErDY3dhTbsCYplYDNpitTqw7UIlZQzPghRf/2HkSOQkqzBichvPXrAGSWASojiiR9b3RTK/D7eF8Lhxuz3X1T1NtvEa7E4tHZsPh9qDR7mIt/Q5WDelvt4b7tm8Owo737wSbPvKCEVlkZtofsS0kNDZx//6QHc/kwePxYt6W49h1ogbvjOuCyWsP0wg6zFYn2Q+ib8cciSQgEfLJBe/n07W4cM2CAl0yvAgkBMvXJWHtgUpa7xLgc8j5fF/fM8m+WGcniUsI1FMy3bOHZeAfO5ud7swrZzC4cBrSr/j6cH5M7oqXBz2NS1GxtEWeGLNOq0bJBXNAb3lMpAT/2nUKxVUmPDsgFfemx8Ji9xGiHa4ykv078dHsUUcejwc+j4f2rVrAbGXONhObxuYpOlibWFFlIgEu19nQKkqCOqsL2xjKx5LVclytt2HtxJ4Y99EvNO1JNihkt15ywX+DKK4ycjr8YdK1MML4c+Py5cuMznJsbCwuX77MetzgwYPx0EMPITExERUVFZg9+//Zu+/wKKq2j+PfTU9IISSU0JJggNAJIMUQpQvSBBtiAcGCCIINQUVAEWyPoiIoCiKvglgQFSsoICAgIKhUCS30EkhCerKZ949ll2yyqSQkgd/nurieZ2dnZ85O1pm555xz3xPp0qULW7Zswd3d3eFn0tLSSEu7eKOXkJBw6V9ArlgFDcOt7Jl/cODn5YZbHtdl67V/6cjIAucpO5lg8Icb+W50R5ycTfRuFkTvZkGcjE+lcU0/zqflP5ot5zU4Z/b17DWyc87H/fyh9kzs05gXv9uZqw549vspsNxjLHqgHS7OTni5OpNuziI+OYPwmr7c/v56BrWty6NdGhCbZJ8hHuDlW5rz9q//2RLluro44Wwysf5CEjzrd1gTfYYXl+3g2tAqhAf52jp4crY7qn4gtfzs788a1fDB3cWZ0V3CuC8ylNQMsy0Ajj6VaKvLnh/riMrC5E5aGx3LsfhUqvu60bR2Za4NqYKLkxOLNsY4rLmefdh5VAn0+iYW8LtIuvB+UeZPF/UhQEGBvZebM21DqmjedglT4H0J8quPPPGb7XYBY/asmF5uLrYg0TqMxfpeujmLLMMgIS2TB6+vx13tg/HxcLE9cXwlR6msyLAAujWqTtfwqvyaLXGGlbUH29/LlXX7LnzOZGLHsXhLb3WnMOJTLEne/j0az45j8dx14Wnh/w1vx5q9p6lV2ZPGQb4cPpdCVR93XJ1NHI9PpbqfB9uPJthlk/S8UGLBz8uNVnUrM2HJv7hnpDHmj0U8uHEJLkYWcZ4+ZLz+P1y738xzqZm5ni5a629aLxzZk1REhQVQ2cuVezuEMLlvJV74bgczVuy1+76v39bC1gsfGRbgsLa3dVtT+jfl192n8pwT0zrYn6XbjvH34Tim39yUQ+dSGP7xZr4dFZnn8DGAp3uG8+KyHbxyS3OGf7yZkwmpec7lj6ofSDUfxzejpamoyQBF5MowefJkpkyZku86mzZtArBlYM7OMAyHy63uuOMO2/9v2rQpbdq0ITg4mO+//56BAwc6/Mz06dMLbJOIVUmUMfLPJ4hITjfj7GTC09nJligtp6iwQNZeWH74bDIjP/2LT+9vh4+HCx+s3c+66Fg6NaiabxtcciR/zfkQ3lEQDZZ7Sn8vNwwMbmpWgzHd6tuSy+bsrY0MC2DVf6eZ+Vs084ZeS6Y5i1mr9tndu/4dc45bImrh5e5sF8iP6hLGwo2HaHyhxGxaZhbVfT34accJu2o5VmujY7kvMpRh8zfx4ZBrMbHH7thFhQXwfJ/GJKdn8uOYKOKT0/Gv5Mb51Ez+O5lIbX9Pok8lMvX7XbZtW+fc51u+tX4g3u6We+X81sseQKdmmElMNXNtSBVbOTdrxvO8HmREhgXwYv+mlxyAFuX+qzTnTxcU2CvQLnkKvC+BNYGYozJRf8Wco82F+ox5ZcWMDAtg5uAITJj4cO1+uyB9Yu/GRNStjMlkwtvDEqj/72dL0J1zf8npmYy/qREmTKzYfcpu+0MiQ1i48RDP9m7MZ3/GAJYnaX8eOEuX8Gr0fWddrjZmL8kQVT+Q9qFVbEOJrNvNXlrhxf5NAfj7cBx/xcRRw9cDPy83ktPNXHt4Oy//9A7XnD0KwMme/fj36Rep1TCYSpkG763en+ukPLFvE37cftx24rU+AY6qH8jITmH0m7mORzpfwyfrD+YKZNdEnwETPNL5Gt5duY95Q9pwIDY5z8Rmk77ZQesQf4dJV57r3YhWdf05Fp9C3+ZBJGWYqVLp4smwoOFjf8XEMbmfF5/e3w5nJxNP92rETUfiefH7nRdHEtQP5NUyGrqj+osiV6dRo0YxaNCgfNcJCQnhn3/+4eTJk7neO336NNWrVy/0/oKCgggODmbv3r15rjNhwgQef/xx2+uEhATq1KlT6H3I1aUkyhgV5hoYczaJJ3s2hJ+xHwIdFsB9HUMYtdASEFfzcefT+9thzjJISjMzuW8Tpv+4i7XRZwoVuFtfOzuZ+G50JIfPplDd153/TiTmGvLs5WbJ1/PCdzsYGhnKhK+3293D2dWTvpC0zRq4+7i7YGDwQMdQHr7hGlxdnDifmslfMee47f313NMhmKd6NuRpU0OcnZwwmSiwVrijXvsziekM/mADwzqGMjQyxFaG7e8jcfR/dx3J6Wbb95i6bKd9RZ76gXw/uiNnk9PxdnfB292FqAvzl/Mq3zrkuhBe/G4n346K5JedJxjeMTTXelFhAQzJMbLSz9OVgbP/sH2H8V/9w7yh1/Jw6jXEp2ZQ1dsdNxcnjsen8s6dEZw6n4a/16V3SpSn+y8lRru8TIZRwDiaK0hCQgJ+fn7Ex8fj6+t7ydvbGnOOuz7c6PBkFxkWwKQ+Tbh51jqGdQxla8w5h4Fat0bVuD8qlKS0i0OZA7zdmLHiP7vSDwvvb8fgDzfme3Kd0r8JJxNSOZds6cHefiwew4BmtfwAqO7rgZMJzialk242cHdx4q4PNwKWp5p5tdHRMKfsy6LCAripWRCtQ6ow+IMNLH6wA9d4GsSPeQK/jz4AIK1qdd697THe9rEE6bPuasWTX/zNI52voXN4dQ6eScLL1RnzhZ6U1AwzldxcyMzKomZlTxJTM3FzcWLlnlPM+X0/ix9qb3to4MhPY6I4GpfC9mPxdAwL5JbZ6/Ncd+6QNoy+MA8pok5lMrMMQgMq8cKyHXbzvyLDAnjqxnBm/raX+zvWY9AHeZfGWfxge86nZfLxugO5LihT+jXh9Pk0vN1d8PFwoW6A4zqPl8OxuJQ8b1xKs7a4iOSvpK9XxbFr1y4aN27Mxo0badu2LQAbN26kffv27N69O9853tnFxsZSq1Yt5syZw7333luoz5SH7y/lnzXHTnGHwxZ0Ddx3KpG+M9fyzp0ReLg620YIbj0cZ+vxjQoLpFezGjzz9XbbNqzlXM8nZ1DNz4Op3+90ELiHMmrhxZF+wzuGcuZ8Gm1CqjDpmx1siTnHzMERfLTW/j5i+sBm/PDPMdZEx9qmIkLueuPuLk5UqeTGXR9utAWWc4e0Yf66g7aHBq2D/WmRo6xU9vvMJ3s0dFgrHBzfG1r3MfzjzbnWXzoyktikNFsHlWEYzMujokz2bXdrVI3xvRox5VvLMcnvbxEZFkCfZkHU8PPk7yNxtvvfar7u/LrLcv9oXa93syBMQFVfD1sw/vadEbY5+rnusy90lJTUvZHuv64cRbleqcf7Evh6uOZZamJddCwvfr+TiX0aU83H3WGtPC83Zwa1rcu7v9ln1ewYFsDQyFBbWQmA82mZjOoSRo/G1Xktx3BzsPT0Tvp2B0OvC+HJL/4GsJ04sw/Fzj5k5sN7L9apLmo9P/vSCrEMjQzlxe92cnf7YPjxB5j4JH6HDwPwT8/beKfXAyw/djFLtruLE15uznRrVIMth86yYtdJuxNdXg8YrE9ZMzKz8qx/mJxu5nxqpm2OfdOafg6/V3bZ59mP6hLGgvUH8yhFsZsX+je1Pa11NNJh3toDeHu4YDYMWtT1Z0tM3MU5UBemIdgeWlw4yZZV6S7VXxSRvDRq1IiePXvywAMP8P777wOWcmJ9+vSxC7rDw8OZPn06AwYMIDExkcmTJ3PLLbcQFBTEwYMHeeaZZwgMDGTAgAFl9VXkCnWpvXUFXQMDvd1oE+zP6EVbefvOCD7deChXMPZIpzCGfbzJbrtros+QhUFEXX92HYvnqRsbcl9kKGmZZkICKnEsLgUnTLx+Wwtb8GgNwn8aG8ULNzfh+aXbGbVw64VeY8v9Vq3KnmQZ2EqAZp/PnDNfEFiC4OyjFbcejrO1zTod8uEbrrElqh3WMZRODaoSn5LB8I71cMtWxzonR/eG2TOkZ79HAjCZsAuSP72/XaG2vWLXKTAMHulyDUlpZqr6uNNv5sWOl5z3YnWrePHvkXi6hFfFZDKx/UiCXc6lqLAAJvVrwtnEdJLSzRyPT+GhG+qRYTZs95wb9p+1Swrn5+lKrcoeJRoQXwn3X9mTS/t6uhJYqWK1vywo8L4Egd5uRF4TkGfAumbvGZ7v05i4FMdJqvKrD2lceN96MgwNqMSC9QeJqFM5zxIaa/aeYcQN1/D2nRHsOBaf5wMB677/uFAyY210bIGZOx29n31ZJXcX7m1QiWvfmkjlJZ9bFtarx8nX3+Z8s3Ysv9Bbbz05ujo78fGwtmw5dJY3lv/HvKH289fze6DhBEwd0IytMefyHPrk5ebM1yOvI8uArALSvtfy97Sbf53fQ4g10bHsP5PE2aR05g29lnd+25urDXOHtGHFrpO8uXyvw+FYdg8tLpTueufOiDI7WWmYkYjk5dNPP+XRRx+lR48eAPTr14+ZM2farbNnzx7i4+MBcHZ25t9//2XBggXExcURFBRE586dWbx4MT4+Ppe9/SIFye8amH1Ie/YM3b4erqSbs/DxcGHQnA0OE5Wui45lfK9G3N66Ni98t4MVF0Yx/t/wtg57hK1OnU9jxP9tYWLvRjzbpzFxSRlU8nDmVEIad8/dyMw7W9nWLex85qiwQJ68sSHDLzwgyH4f4u7qRLdG1RjUtm6uIeXZa5o7kv0+0BrQTvthl63zZOHGQ4DlvupoXArXXRNAj8bVeeTTvzAXcG+Wfdsrdp/mznbBDP94M7Puuvj9He0n5mwywYFe+Li7cu+8P7mldW2+evg6ElIsweG2mHP0m7nO7oHEpD5NOBKXYvvujh5i/DQmKt/2FkdFvv/KK7n0y2XYmVQRKPC+BH5ebrg65589MT4lA18P+8NsDUBvbFK9UL3MwzqG8sKyHayLjrUlPstvf4s2HmJcz0Z2c7Udbdv6BNeEKc8skNa21qniyay7Wtn16to+YxhUWvoVYRPHUTk5niyTE8kjR+H9yjSSkw3cktJzZWQ3mUz8uP0EO4/F8/ItzTmblG534Sgo+D16LiXPhwrP9W6Eu6sTk77dwVM3huPr4ZJvyY1/DsfxVM9w7ktMtwxxd8//PwtL6bAUvt12NI8HAyZah/jbtSlnZvbsFxSV7hKR8qpKlSp88skn+a6Tfcaap6cnP//8c2k3S+SycdQzac4y6DHjd2bd1Srf6iCnElKp7uPHgzdcw5M3hnM2yZJMzMrRyDn/CxnZX/x+FxN7N6J+dR8On03Bw9UyStLV5WJCtrzmPUfVD2RS38bsO53E3CFt2Ho4jnd+3cuHQ67l/o83cSYx3XYfUtnTjZcGNOPJz7exNSbObjRhQRVXQgMr8cnwtni7u+LsZCIuKZ0nezTE2cnEaz/tto1kzH7/0zEsgPnD2nIyITXfbVfzcbdV0vFwdcbfy1KmNvv96rCOoXZDw3PuZ8GwtqRkmMnKMthwIJY/D5x1PEJ12U4euL5evu0p7bKvFUl+yaXLujOpvFPgfQnik9PJMOffUxyfksHek+dtyTWyD6FuHOSb73Bl60kxexBamDIJa6JjGZ93wlmAC0nZLCUzrMm/cmbdzi8p3Nwhbfjz4FmqnY9l1h9zabbtdwD2BNbl6V5j8I2I5B2TKwmpSfh4uOSZkf2+SMtJc+h19sOVCuqBz2sUwbroWJ7p1YgjZy2B+XO9nTiVkHKh5MYOu+9n3f/4r/7h8e4NaFDdhwxzVq565Tm5uzjRrJaf3RD+7NZEn2FoZIjt9daYOJ7uGW73Nw70drOrT67SXSIiIuWTo3KcUPA9WQ1fD1LTzfy+9wxbY86xNSaOxQ92ICosgC35VFzJnnh3Xba545FhAdzYuIbtnjJnrWywzGf+90i8Xa+uVWqmpfTqoDkbcHdxspXGOpOY7rA9o7qE2UZG5hQZFsC2w3G0CfbnlR932Xr0wZKXKLymX56jOid9s537IkPzzlIeFsh/J8/nmjf/9p0R7D6RYLtftQ5jz2s/z3+7g8e7NyA1w0y/5jX5v/WHHP6d1kSfYULvRg7fs/JydyY+WZ0kcDG5tCPqTMqfAu9LEJuUTiV3l3xPStb5LHOHtAEsc36tJ4gHOtbLM7B9+84IXC6Ua8kehBZ2WFFSAU/mrBeL5HQzZ5PSbb3fgC04zXe4twH37vqVlR+9TKWURDKcXJjZ4XZmdbiNDGdXuPAfXmVPN1IyzLaM7Dm3AxBR1x//SvbBbmEeMOQlOcPMk19a5rknpGTg5e5KzNlknuvTmCPnUmxJR7YejmP8V//w8i3NWbjxEMfiU+nUoCrp5qw8s5Baj3HjoPyTJ1j/ZtaHF6/9tNs+yVqOIegq3SUiIlIxWMtB5VviKiyA5btO0qNxdbsOlPvm/8mHQ65l17GEPCuuAPRqFuTwvunNFXssmdZ/MlgTHWsbFm1N2BZ7Pt0uYM1ubXQsD6dmMrF3I04mpPJI5zAAElIzHN7zZe9Rz5ls1povqFXdyrSs628XeMelZOQ7cnFtdCz3d6yXq6IMXKxgMzyPefPje1oqzmAykZaZlf8Iyb1nGHpdCMM/3kzHsAA+HHItgz9wPDXAMIxc937WzrEO9QI4lZDGuaR06lbxopa/l8P9lWclOR87oYDOInUm5U2B9yXIzDKYseI/hkaGYpC7vIH1pJScbrbVfs68MKdlWGQoNf09mfLdDocnVhPYTkjWINPLzRlXZxOT+jThxRwZMiPDAri/Yz3+PhLH3CFtMAGLHmjHun2xuWotZg/Qrf/f+tT0yxEdGBqfSlpmFnWqeDo8mdU9d5yHpz7DdTH/APBPzYY82XM0/1UNsVvvXHI6WVkGPh4utKjrz9ALSSqy9+pbh71nZWF3wsv/YhZoa78jSWmZnEm0JHLzcnchPdNMXX8vDp9LzjWvylqjMvswJWuwbGDkeaHJXlvcEevfLK+HF2uiY8m68P4/h+NUuktERKSCsJaDynOod7bSVR3DAu06UKyltr4ccR0Tvv7X4fatSWsd+W33aR6MqsfLtzQnNSOLuJR00jKy+GN/LKMWbuX121rk2/b4lAwigv35eccJpn6/i+9GdcTXw9VhAJu9R/3pXuEcPpti67iw3t9aa3dn5+7iVODIxeQMM09+8bddEjN3FydCAirRd+baPOfNJ6Rm8MCCzSx6oD2uLk4cPJOU737SL4xMXRsdi4k9uab+WSWmZjAkMoQsjFxJfnMOYX95YHNqV6k4wXdJz8cuSh1ysafA+xJkZRn8tvs0G/af5cHr6/HsTY1ISM3Ey80ZEyZ+23Ox/mlyupkTCalU8/awJQWbN/TaPDM6ro2O5ZmbGvPliPb4ebnZJb54f/V+3rkzghE3XGMrp7D9WDwGBpsOnrUbAt0xR89q9uAx+/8HiKhbGVcXJ2r4euDh6kxsUrpdm5yyzNy3+VueXPMJnplpmD08+X3IGIb7diDLyTnXd/B2d+GfI3G0rOOfbyK0tMwsnJ0sQTBYnmpaL2Ym7J+yRoUFMvXmpvx5INZu7o81kI+oW5nNh87Z9pFptgypn7UymjHdGuT6jLXWevbgOPuF5ske4cQmpQHYXWi2Ho4rcKQDFJwt/pFOYdzVtq6G5IiIiFQQeSVdg4ulq6z3C36erqTnCEKT082cSUzLdx/5Ba4uzk52va7xyelU9/WgS8NqeLrlvh/Lzt3FibikDFseoPOpGYQGVuJgrOMA1tqj3jjI11a6LDsvN2eqVHKzu78yDKPAetfuLk4Ok5gtfrB9vvOp41MybMfv36PxtA2pku+0zdr+nrapfTmnAlp1DAvA082FRxZu5e72wTzWrQGV3F2Y9v1Oh0PYJ3z9LzMryDzmkpiPnbO33NvDhe6NqrF816lc617uOuQVjQLvS5Ccnmn7/01r+TH9h1255hC/d1drMo0sqvq4k5qeRWxSGhF1/dkaE0dqRv7DweOS06np58Gmg2d5rndjnl36r+0p3PZj8fRqEsR7qyylyEZ1CWPuWsdzXEyY+OzB9phM4GIykZRu5oN727B+f6xdQH5/R0tiiYTUDKb9uMuuTESD0wd59ce3aXn8PwDWBTcn8NP5eNSow8h9sbaTnaerM1mGgZ+HJQFG8zqVLT3NHesRUdff1vuePelYFS9XvNxcSM/M4qmeDRlnCudccjpGlqXXf1jHehiGQUAld84lp3HqfCrf/n0s17GeO6QN3u4u3DFng+2hQnxyBlV93bizXTCv/rQ7Vw923+ZBXGuq4vAp78zfopm39gBLR0YyZZn9yITdxxOYenNTJi7dYTcsyVoKzvowoyAers6q1ygiIlLBWJOunTqfRszZZMC+XBZYgpBqPu54uTnnelifWUBW7/ym1HnlCK6tc9Djk9P54d8T+SaU3Xo4jhubVLct8/Fwxc/Ljdr++d+LOGqPtVf4jV/25Lone7F/U7qFV2PF7tzBWfayYznb5+yUf5Iiazu2Ho5j57F4ujWqxtwhbZi5MtphPqJdxxLy7OW2rjc0MpQZK/7j7vbBNK3lx5sr/mNYZGi+VYQqyjzmS52PnVdv+dSbmwLYBd/WOuQV4biUFQXel8DvQubJvIYTx8QmU6eKJ89/sz3X/N6ZgyNwIv+TSyV3F44npLL072M0qumXa+jL+6v32+o7VvN1XCscLiT7Oh8CwPCPN/PT2Ci8DejTPMiWmGLr4Tj+PhLHifgUlv17nHXRsUTU9ef6EF9afTKbkeu/wC0rkwT3SkztPJyjAwfxQv36+GdZ5teYTCZ2Hk9g3toDXFcvgOf6NGbi0n9znYiz976vi45lVOcwqvl6MCnHMco5VB8s9Sir+rjnStIGF8uMvdC/KbMGt2JzzDkWbjxE90Y1CA7w4qN1jj8zddkuxvcKz/NvkJxu5kBsEhF1/RnZKQyzYeBiMuHr6UpKRiYTbgrnqSyD1Awz7i7OxCal2dXmLCgjqI+H/hMUERGpiKwBbyV3F8Z/9Q+/5whOrEGIn5cbLw9szoSv/7UFMH/FnMtz5FxU/UBO5ZH1OzIsgEpuju8dziSm8+L3O1k6MpIXlu1wOF1u0cZDtnu/qPqBmA2DfacTqezllmfAHhUW4LA9+eUCev6b7Uwb0IyUTHOuqZjP923Cyz/uyvW97osMZW30mTzz7ETVvzjV0Doycs+J8yzdmn+VGev3BfDzdLX1zuccNj+yUxhvrvivUFWEKso85kuZj51fb/lzS7fz2m0tGN8rs8LWIS8Luuu/BNY5PhF1KjNv7QG7Egyers7UC/TixWU7cz0xs7w2cV/HkHznMbu7OJGUbkk+di7ZMuw750nOGmxnr2voSPYhS/tPJzHy07/wcnPmyxEdmPbDLtZGx15IAHdxntLmxT/y4e/v4R29B4Bf6rfnue4PUz+iAZP6NmH6DzvtkmlYA+vtR+NtvfPZOSqt5V/JLVfQnde61u+Q1/D8NdGxJKZnsjnmHFtjzjG6c32q+7rb9bDn/swZning6aqLk4m/Y87Rsk5l28k5KiyA9tcEkJJhefCQmWVQv5o77/z6H83qVKZzw2oAuDk75fvkefOhc1Ryd1HNQxERkQrKUcmxnEFI7SpezMy2jq+nK4Pa1OGZr/+1C9gtAWgIJky57hEjwwIY3aU+lfMYxp2QmnEhr9AmFgxry7H4VNuUxK2H41i08RBP92rE8PmbmD6gKU1r+7HvdKKl4yAxjWk3N+WZpdtz5RAa1aU+/pXccrXnunoB+SZQO5ecQZ9mNe3mcG89HMfgDzbwePcGjOwURmaWQVJapi3h7T0dgpnSvwmTvrEfURh1oRf9hWU7gIvTAhcMa5t3z/SFoeWZWQajuoRxXb0AktPNdp1FgG2YujnLsI3Q9HLNf8h+RZnHXNB8bA+3vLO1F9RbnpiayTXVvEuknVcLBd6XwM/LjWkDmhF9KtFxSYj6gQy5LoQ/9p/NNV9lTfQZnu7VkPG9wjmVkIbJZLLNR2lVtzJDIkMYOPsP2zDwnk1qAHnPGS5KFvDstRGdnWHqzU1JuXAiikvOwDM9lSfW/B/DNn+LEwbJflXY9/x0Mrv14cMqXpw+n8bLP+7it2xBN1wMiB/r1iDPUlvZ65MDZJiNPE+YOdd1d3EiOS3/4flJaWZ6Nwuid9MgXF1NnEhIxdkp/2OTmJaZb1bSugFePNUznEFzLmbCXBMdy7he4dzx/sVl43o24IkbGxKfnGHrlbclajPyTtT2Y7C/ah6KiIhUYDlLjhV2HWvAfi45nfiUDLYejmPUQst0teyJx+pU8WT70QRCqnjluR9rkHX4XAq3vb+eV25pTp0qniSmmrmxSXVub12bhJR0Php6LZO/28GEHKXK6lbx4n+3tSA+JYP4lAw83ZwxZxms3HOK/1t/iEFt69oF0S7O+d9fHYtPoVFNX17/OfdUv2q+HsxaFU3jmn52iW3tR3SGAJYHG/8eieOH7cd4MKoeGZmGrZzaqfP5z5VPN2dxTaA3C9YfzDUUPXvZtpzvdWtUnS7hVXPd60LFmsds7ST8PY8OoGX/HOefw3EOE60pe3nJU+B9CY7FpTD5ux0806sRE7/dnjtz9d4zZBlGnnNLTiak2WXZjgoL5JtHIvlh+3G7IdbromP550gcUWEBeSbbKKjM2MmEVI7Fp9rVRgz0duPLEdfxwrIdDG4XzMfrDvCY81F++mgUwXEnAPiqSWde7PoAcad8YeFW5g5pg6ers8MTkbWtozvnP2/J+h2iwgJIKaDsmXVd67ykTg2q5ru+i5OJ86kZVPNxZ+JSS0/6vKHX5vsZL1dnJvRqxD9H4pj6/S7bcY+8kJX06NkUkjPMdg9PvNycMQxYMKwtp86n4eHqDBhsPxLP0r+POUzUNrJTGJmGQUZmlt3QJtU8FBERuTpln589etFWuwDJeu8YVT+Qqf2bclPTGvneK2QPss4kptvdY15fP5B37ozAMOCZPEYlOmHi2T6NcHV2on41b9Iys3j88222oDlndu+n85mqB5ZRf/d/vIl5Q6/l4dRMu973zzbG8EDUNbayYXmN6LTuq+WFPEGz72rFI13CGNHJkmC4TpX8RwwG+Xry4jLHFYScyLtsG+zm6Z7hpGVm2b1f0eYxZ08EmHtkxcUpnY4SrSl7eclT4F1M1nkPWw6dI92cZevddJRVsUvDqg4zLea0JvoMk7/bQURd/1w95FO/38XSkZGcziML5ry1Byzzxk0mu2EhUReGCCWnm/lt1ylGdQnjkYV/MapLGP1aBLF+3xnGdmvAu0s2cdPc12n1zy8AHPWpyrM3PsKqa9pc3Fb9QOoFVrKV6sqLl3vBGTWtQW1iWmaB60aFBTCyc32Gf7wJFydT3nN/wgJZG32GtiFVWL8vli0xcYzqEkagt1u+dbl/3HHCVgNz6chIDsQm4eJkYuvhOBZuPETjmn5284Pyrs0dyLheDVn3lX15EGuitpm/RTN3SJtcJc1ATw1FRESuZnkFSNZArzCJWAvahp+XG0fjUvKdfnf0XArDP95MVP1AXujfhOEd6zksmTs0MhSTYSIqLMDhyMXIsAAAXrmlOcfjU6np54m7ixOnE9Po1bQG/VvUxN3ZiW8eiSQpLRMPV+d8h62P7daAeWsP8PCnf/Fkj/p0Ca/Be6v20aJu5Tw7njqGBeDj4ZLPUPS8y7ati47lTGI6EXX9baMv61bxopqPe4UJuq2sUyGOx6ey/0xSrrnt4DjRWn695RWp1788UeBdTLFJ6bSoU5kxXesTn5KRZ72/yLAA+jWvyd1z/7TrSZ07pA1/Hjyba7s5h1dbJaebiTmXTDUf9zznDFdyc+ampjUYel2IbRjQqfNpVPd1JyXDzP3X1yMjM4tXb23OJxsO0a95TZbvOsm1f6/hhWfHUD3R0p7Dg+9jcoe7WHXkYiKNqLBA7osM4aUfdvHkjQ0LPD55JgwJC6SqjzsRdf1tPcH5zXOv6uNO65AqpGaYiahbmTm/72fm4AjAyJWw7r6OISzcEENmlkGbuv62v4c1AYe1NqNVznJqa6JjmbLM8uBj5m/RtvcXbjxk165hHS3LHNUmjz2f/0OJvEYs6KmhiIjI1a0wc8UvdRtJhRxpuGbvGZ5fup3WIVVswWfOhGRv3tGS+zqGAqYc87EDmdi3ca5pidb7Kk9XZ+pVtZ8bvDXmXL7tik/J4O07Ixj/1T+0CQnghWU7GBoZgpebM32bBzF12a5cbXjx5qb8d+p8ob6vI6kZZuatPcDE3o1oFexPYlomThfyAlW04NvPy439Z5IcloSzytkJVJgHOVI0CryLyTCw1aaeO6RNvpkdX1y20264efZMi444Ogl4uTlT19+Ll3/axZDrQsgy7IPI53o3YuZv0Q6f6llPgFmGQc3Knrz0w04a1/TjvcVrmfbTe9T46VsA9lWpxfieo9lxTQseDK/Dw30Cycwy8HF3IcuA3/ac5I99saRnZuVbw3r38QQm9mnCCzmG9ljnvGefK20Niq3HxapjWABP3tiQGSv+47fdp22jCYZFhpKZZTC5X1POp2ZyPCEFN2fLReDTDZakITe/u46u91fj9V/22LaZvc6mt7sLiRcSeWR/2mdtw9M9w4moU9kyFOpP+6FQAJHXBNCyTuU8H7JY60U64mguvp4aioiICBRurvilbKNyAdVWst+nrImO5b6O9Rg2f5PDdV2cTHyy4RDjeoYz1mwmw2zg5eaMv6crk77b4TAXkAn43+0tc22roGHNgKUzZei1JKZm8tvu02zYf5a374zggzW7aVG3MkMjLR1PlT1dqerjzsEzSTibCleezJE6/p4sG92RSd9st5sPf339QIdzosu74gwdL4mHQXKRAu9iOHoumcnZ5nRvPRxHh3wyO1qzKha0zMrRSWBi78a8uGwHa6Jj2bD/rF3CDT9PV3w9XXgm20kh577SMs0M/mAjUWGBDLkumJrffUXoS8/ieT6eLGdnZl87kLcj7yTNxQ0vsNUxzNlD/PaFmpXWoTlrcwy1fuHmJhw6k8yJ+FSeurEhz/V2JjE1Ew83JwwDu6Ab7OdAj+8VzrnkDPy9XPl5x0mGf7yJl29pbptfY5vrFBbA8/2acC45DXcXZ0tv+IWh4MfjUklON+PibLJru3W4N1gywOf3xC81IwtXFyda1fWnf4uabDscxzt3Rtie9Pp6uDJzZXQeD1l2MLF3I7sTtO34OCgPoqeGIiIicrnkN3LSmk8nu0puzg47FKLCAggO8KJxTT/umLPernb5xD6N88wFtDY6lsTUTKr72i8vKAnY1sNxrIuOxdlkIi7F0jOb/R7SOqXT3cUJbw8XMsxZmA0j3xxIBZVtO3U+jfk5phWCZVi2oznR5V1xh46XxMMgsVDgXUTxyekcik22+49w3toDdLwmMN/PpZuz7MqNebg6U93XnflDryU5w2wbqrz7WAInc5wEosICaVrblwlfW+YOZw8irT57oH2++09MtZwQ9/21k6pvjaXx9g0A7KhWjy2TXucPtyDSspXwyqv33gmY3K8py/49RpuQKjzbuzHxKRn4ebpiwgADPli73+6z0wc044d/jzE0MjTPnmAAFydLZXMXJye6hlfj2uAqbDtyjmtDqjAsMpR0cxZ1/b34cccJ+s9c53Bbs+5qRVT9QM6n5D13vKAM8OdTM5i37gD3RYbi7GQiMizQbpjNd6Mj8y1p9mzvxrlO8lH1A3m+T2OOnkth0QPtcHdxxs9TTw1FRETk8vHzcuOVApJtZWcYBvOGtiEpzWy7fz0Rn0KQnydHzqYwb+0BW+ALUMffq8C8NY7etw5rzlk3Ome7ElIz7e7jHN0Tzxt6LT7uLmw9HMfOY/Hcd6GzKOfIyqdubEhsYrpdHiAvN2ee692IZrX9SE4zc1/HerS4kNgt+31nRUyMq6HjZU+BdxGdSUy3PWmzSk43k5yR/5yZ2v6efLLhkH25sbBAhkSG8OQXf5OcbqZjWADP923Cil0nmDukDV5uLiSnZ1KlkhtHzqXku/2CEpp5u5m4569ljF/9MZXSU8hyd+fE2Kc5OfgBqjo5M8Hfy5bVO6+SZWAJLM8lp3NtcBVcnJ0sw9f9PJj+4y5ubV0HD1dn7moXzPCO9WxJ5Kr5urMmOpYWdf1zBaT5zY2/LzKUvw/HMbhdMKMvPNH09XDNs20Afp6ujOwUhn+lvIfTbD0cV+DT3uzDoar7evBi/6ZEn04k3ZxFanre84EAzqdl8kK/pqRmmklMzcTZycTa6DP0f3cdbYL9C50kRURERKSkZR8+HJ+SQWqGmT/2x+aaftclvCoebi787+ecyWQDuK9jKHWqePHDo1FMvVBbO6JOZaJPJxJcxYtRXcJyBatWeeW1qVnZk6kX7rdyzie3bsfbw5l1+87QJbyqLflt9lw7u48lYBgGGeYs23TGzzYespun7ufpio+HC8PmbyI53cxXD1/HuaR0zqdlEhpQiReW7bAbRWod8Znz+FTExLgaOl62FHgXUUJqhsMe079izuVbC/rfI/G5y41FnyELgwevr4fJBJ0bViMt00yb4ACcnUy4Ozsx/ONNvHNnBG4F1EoE8tz/bd5J1LulNy9usvRy/1e/BeY5HzAt2syahX/btXPpyEjOJeefICw+JcMuM3e3RtUY1zOcF7/bYXditp6oMrMs5cUczee2JirLfkK0njytGcU/Wnfxaer6/bH5DhlKzTAzetFWnuvdKM/geuexeCb0CgdjV672Zn+qmn041Nnki2U5CipPlmnOousbq23z0q+rF0BU/UD6Nq+pk5uIiIiUuezDh/edTmRrzDm7oDIyLICx3Rrwyk+7Hdy/xmIAr97ague/2c6gdsG5OlA65hGsFpTXprKXKx//cTDPIeenEtLYd+o8T/dsxAvLduTa5wv9m3L0bAp/7I8lom5lHl20lc8ebM/p82m2YH79/li7hwKWrOseeHu48OKyHblyGGW/Z82+v4qaGFdDx8uOAu8i8vN05WxSeq6gzhpUmsg973lSv8b0m7nO4fbWRccyoVcjzqdm5Dq5RdUPZOmFMgtnk9LzzRR+NjGd4R1D7fbvYs7kpX0/cev3H+Gcnoa5kjcLBz7MycH3sTXa0YMAS1bvp3vmX5cxp/AgX6Z8l3eNxEn9mjDrrlZ4uDrzz5E42oZWsQXZwQGeeSYquy8yFBeTiZm/RdsyveeVjC0yLIDnejdiwKw/SE43W8qvPRLJi8t25hqy9EDUNZw5n07rkCqM6xXO4bMpDp+qwsWnmdkTUuT3kOX6+oHUq+rNr4/foCeJIiIiUu6ZwGHm8jOJ6XlOrVsbHUtCagZNa/kx38H0xLUOgtXCDGnOazi0dZTo01/9w7yh1zqszb02OpaJ32znyR4Ns90vHuCXnSfZeSyexjX9aFPXn67h1bixSQ3OJaXj6uxEcnomyemZnEvOyLP0WM6qQ0qMK8WhwLuI3Jyd+HTjoVyZxZPTzXz2ZwzTBjQjKd3M+dQMPN2cOXM+jZMJqfnObU7NMJOZaTC+ZyPSMs2cTrQkDfsr5hyv/riL8Jp+7DoWz4s3N+X5pTvsyiVY6mGH8MmGgzzdqxFP9wzn4dRMjL/+osWk8fjstgyVWRXamqUPTaR2hCVj98xV+x22ZV10LFlZ5Fv3OmfijYKGph+KTbYlM7MG1KMvBLjfjorMcz45wJM9LKXLfDxc8HZ3tUukkfMCYU2sZv17HDiTxJM9GvJs70YkpGTieSHB28o9p3h/9X4i6lama6Nq+SZasz7NDPR2sz1sySv4j7pwQanu65EraYiIiIhIeRRQyY1/DsflupebdVerfD+XkJJJ10bVmLFir8P310bH8lzvxnQLr1akjgjrcOhT59OIOZtsW/7pxkOcSUznTGI6a6NjbSMLcw43d3Mx2d0vtguuwi2tavHisp20rFPZruoNWEZ8Tu7XlPRMI992WasOaU60FJcC7yKIT05nwtf/smbvmVyZxSt7uuLibGLf6SQ+XLufYZGhDP1oE8M6hnJjk+r5bjfDnIWPlysv/7QrVy/u8I6hVPNxJ6JOZfafTuKZ3o0wDIPD51JwcTLZ9dKmZGbxeMc6/H3fWB7cuAQXI4tzHj680PUBvm7SGc6ZmHvh5JSf5PRM7usYgqNa2UMcJN4oaHvZ388+XGdrzDlcnJ3yfJq6LjqW8b0sZSDOp2by+94ztp7mnBeHyLAAANtJuFVdf7zdXXBzcQIDUi88DHE2mahfzYd37oxg6+E4ft11Ks8h6dfXD7Qc45hz+Hm6MrlvE56/kM3eejIf2SkMZyfLCb6Ov6fmbouIiEiFklcvc0Glx/w8XTiTmP/0xNQMMy3rOi6fW1CbziRenOZnzQmUlplFaoY53xxBN7eoSbfwaqzYfcryXpcw3ltzjoi6/g47e9ZEx/L8t9t5rFuDfNsUEuDFr4/fcMWOZIxPtjzUSEjNwNfTlcBKV+b3LEsKvIvgTGK6LUBzlEXxq4c7cDw+hWGRoQR6uzFvyLW8s9LyFDCvocmRYQEkp5uZlUd5KidM3NSshl15qpy9xlZpq36n8bQ5tD6wD4Bl4VFM7vYgZypdPOFZe4jz4+PpwofL9/NUz3CGXpgT4+HqTJ0qnhw9m8Lrt7WwPVWct/ZAvtvzcnOmtr8nc4e0sXsa2atpDQDikvI/YZ9LziAqLIDQgEq4uzrRr3lNW1m1nMdj/Ff/5JuobeHGQwxuF8yTX1jmtQ/rGErz2pWJDAvk4U7X8Me+i3N+ouoHMrJzGL3eXmM7xp890C7XUKzs84R+ffyGfL+LiIiISHnkKOmWt4dLvuWnPF3zT+wLlzYPOiFb8rLsPdh1qnjmW4FnyrKdjLuxISmZZtZFx9pGZg6LDM1zhOa66Fie7umUbx6hSu4uVPZ0vSKD0WNxKbkyylfUeuXlmQLvIkgoIHthlgHf/3ucddGxjO1Wny0Hz7IuOpatMXF5zku+LzIUk8mU55wSR/W+rQH5ogfa42QykREXR8BLkwn+bD4Ap7yr8Fz3h/mlQQe7z3m5ORMa4EVSupm5Q9pgMplswbM1uIwKCyQrCx7r1pCUjEyGf7zZ9lRxyrf2CSesydO2H4t3OP/cy82ZuUPa8OpPu3N97uaWtejdrEaBw3pcnEwMiQwlLSuLBxdsASwB84hOYbg6m6jk5sI/R+JtJ+O8TsLuLk7c1S4YT1dn3r+nNf5ebvxzJI5RC/+y++5LR0ZiMsHmQ+ds2S6t1u6LZduF42Ud2tQ4yJeZg1txMiFVc31ERESkwnKUdCuv8lPTBjRj8rfbCa/pl2+wWph7o7x6Wn1zBO3ZO7061AvIe5rj3jOM7HSNrbPEy80S7hQ0QvN4fKrD0mORYQEMuS6EXm+toU2w/xUXjMYnp+cKuqHi1isvzxR4F0HOE0BOGZlZtv9Qm9eubJvz4mhecp0qnvy84ySPLtrK67e1yHe7jk4Ua6LPMK5XQ358dR53fTSdWudPA7Ayqh+V3nqDtV/vhWxBozUInvZD7kze1qyTrev68+SNDRn+8SbOJKaz8P52QP51vQH6t6jJ1JubMfGb7Xb/0T7XuxGzVkY7zA455dsdjOvZEH8v1zyHekfVD6Sajwff/3sMT1cnWxA887doZv4WzbLRHTmTmIazEywY1hZPV2eHJ2EvN2cGtwtm/roDeX735HQza6LPMGXZDqb2b8qEJf/m2s68tQd4d3ArRrk5885ve+1Lw9UP5IYGVfHzyvUxEZEK66WXXuL7779n27ZtuLm5ERcXV+BnDMNgypQpzJkzh3PnztGuXTveffddmjRpUvoNFpESlVf5qdikdFbsPs0f+886znsTFsiL/ZsWGLDl19Ma6O3msMd93toDRIUF5rtdNxcn27z1uUPaABQ44tPFyWQrX/tYtwbEXygfnH1a55UYjGYf0ZtTRaxXXp4p8C6CnCeA7EkdANxdnW11C12cTHafzTk0fdZdrWyv/QqYQ+PoRFE5JYHAkQ8w7tsvAThUuQYTbhzFHyEtidpyhom9GzPh64vBozUIztmzbs08/tmD7fll50ne+vU/Xr6lOY8u2sof+2PpGBaQb/K0ddGxPNUjnJT0DJ66sSFDrwuxPVgwm7Grg5jdmugzTHBqRHJ6Ji/0a8Lz3+7IlX18yHUh9Ju5loi6lenVNAgvN2e7HujD55J54vO/GdYxlABvdzLMjnvPC3pwkD3j5rro2Dxrsienm/n7SJxtJIPd97kCT8QiIunp6dx222106NCBuXPnFuozr776Km+88Qbz58+nQYMGTJ06le7du7Nnzx58fHxKucUiUtIc9YTvP5MEOO5ccndxoqqPO/5e+d/fFqan1VGPe0TdylRyzz+Eqezpxjt3RnA0LoW0zCyiwgLZejgu36mfWw/H2e7XI+pUtiudm7N9V1IwWtCI3opYr7y8UuBdBNbkE09/9Q9bDp1zOJ84KiyQZaM7km7OfziLNZiODAvAx8OlwBOBjWHQe/dapqx4j8DkeMwmJ+a16ccbHe8mxc0DsAS1Y7vXt82rDq7iRUqGOZ8gOJah59Ns3yMtM4thHUPtsnfnJzXTTFqmwYYDZ8kwG0TUqczx+FSqFHBCOpOURkZmFqMXbWVi70Y8c1MjjsWlAPZPF9dFx/Lidzty1U/083C1e6BhfaKZU0EPDrKXhwBIyScDfbNafnlm77zSTsQiIlOmTAFg/vz5hVrfMAxmzJjBs88+y8CBAwH4+OOPqV69OgsXLuShhx4qraaKyGWUfRSoo7xHP4+NKvB+qDA9rddU8+adOyM4Hp/K/jNJtko2K3adzLe0qzUB2pnEdG59bz1v3xnBwo2H8hxKfp+D5MH5uZKC0YJG9FbUeuXlkQLvIqpZ2ZNpNzclNTOLFxzUrl4TfYaJ32xndJewvIdQhwUS4O3Gd6Mj+fdIPMPmb+LlW5oDuctTPdIpjGEfbwKg2vlYpi6fTY+9GwA4E1yf+68fwbaaDXPt42RCmq1M1nejIzl1Pi3f75Uz8/iwyFDbU8wvR3TI55OWE663uzPNavkxd+3FBxHzhl6b7+cyzQZpmVkkp5uZ8PV2Ft7fLs+ni2uiYxmaLUCODAugtr+n3QiErYfjHM41L0rWdQBvdxe6N6pGwyDfXCUqTKY8NnLBlXQiFhEpqgMHDnDixAl69OhhW+bu7s4NN9zAH3/8kWfgnZaWRlraxetUQkJCqbdVRIovr2HgYAl8a/h6FLiNwva0WgP4aT/ssht16miIe85SX4HebrQJ9rf1yruYTDzZoyHje5lITc/C082Zf45c7OwByz1mNV/3fNt2JQWjBf0tlcOo5CjwLgZfT1cS4lLyTIi2LjqWB6OuYUq/Jkz6xnHd7cEfbAQsQ8Dfu7s1sUnpPN0znPTMLAwD0s1ZbDp4lpQMMxF1/Ki9ZBHPrpyHb1oSmc4uxD32FF3dOhBvdjxfxdqj3jEsgFMJaQXOa8n5vjUYTU43k5ll5PkQITIsgL9iznFj4xq89eteu5PfXzHn8u3J/yvmnG2YPkBcSv4nYGubosICeaRLGH6ernbzjnw9XRnUpg7PfP2v3cmjKEP5o8ICcHYyMbGPZah+9ie4HcMC6Ns8KN9tXUknYhGRojpx4gQA1avbl9GsXr06hw4dyvNz06dPt/Wui0j5l1cJsqLUuPbzdGVUl7BcnRzWpL/Z76ly7s/aOTSxT2Oe79OYlAvr5yz1lf1z2e/prq8fyLO9GzFg1h8M6xjKOxdKlVl71AsqN3slBaMl8beUwlHgXQx+Xm7sPZWY7zrurk5M+34nrUP8Gd8rnPNpmZizDNbvj7U9VbM8UfPg3nl/XsysXT+Qm1vW5Ikv/gGgYeJJ5qz7gOBtll7u881b8dUjk4m/piFND+SeawwXh6d3DAvg+b5NGPzBBga1rVv44ezYD4VfuecUU/o14flvtufKTn5fZCif/RlDt/Dqubadfai6oyE9Czfa34QV9HDAWpasqo871bzdbSeCnCeEd+6M4NT5NE6fT8PH0wV3F2eiwgLtHoA4+u6RYQFM7NsEkwmeXbo91/dZGx3LXzFxeiooIhXa5MmTCwxyN23aRJs2jqfvFIYpx/AgwzByLctuwoQJPP7447bXCQkJ1KlTp9j7F5HSl1fitcIGam7OTmyNOZerBOzbd0aw+M+YXPdU1v3FJqVjzjIwZxkkp2fi4uxEaKBHnvvNq50AbYL9HU5H7N6oGtMHNMvVmXOlBqOX+reUwlHgXUxebvnXLjRnGazYfZrwmn7EpWTwwILNtkRs/7u9BbX9Pfn3Qhms7ENbRnYKI8DbjWpezvRd9SVPrvkEz8w0UlzcOfrEMxy8+36Wb4hh6+r9jrNI1g9kUt8mZGZl0TEsgMEfbOBMYjrz1h5g7pA2OGHK1QOfc16LNRi1vrdo4yFcnU2M6xnOw6mZxKdk2J4ILtp4iPG9GtkyP2aXPeHG+F7hHD6bYvuctaZ29v1uPRyXb8/6LztPMvO3aJY/dj018injYE0CUsndhfFf/cPmC/PxszByZNy0BNoHziQxd0gbth6O49i5FEIDK+U55+jFZTv54dEonv9m+1VxIhaRK8+oUaMYNGhQvuuEhIQUa9s1atQALD3fQUEXRwidOnUqVy94du7u7ri75z+0U0TKH0eJ1wojPjmdCV//6zDxrQnyvKfy83IjKd1c5JrTebUzr57eF/o3JegqC0aL+7eUwqtwgfesWbN47bXXOH78OE2aNGHGjBlERUVd9nZUcss7IVpUWCDr91uWR9SpzPr9sUTUtU/wZc2I/uG9bXBxduJ8agZbD8cx/ONN9HOOZflX/8PvX0tQui64OeN7Pkr/Lh3ZvfmIrS5hZpZhG56ekJpBNR93Vuw6xcs/7OLpm8Lx83Bl3tBrScvIIsOcxZ8Hz9I6xJ+hkSGkm7Oo7e/J9hzBf1RYIM/1acTxuFQAFm48xJiuDXBxhiPnUgny88DdxYlMs0GHegEMbFmLI+dSCPRx/B+qNeFG72ZBuLs44eriRId6AQB2+wXYfSyBKf2aMPGb7bkC5CEXHg5cXz+Qaj6FuznL/vQuKS2DaTc3IyXDbJec4+Z319m14eexUcSlpOe5zeR0Mwkp6VfViVhEriyBgYEEBuZfiqe4QkNDqVGjBsuXLyciwvJwOD09ndWrV/PKK6+Uyj5FpOLJL7Ha2uhYUjMc5+cp6ZrTBfX0KhjNX1412MWxChV4L168mLFjxzJr1iwiIyN5//336dWrFzt37qRu3bqXtS2VvVwZ3aU+TpCrNvRzfSxzRsAyL9nRkOvkdDNbY87Rr0VNftx+nDeX78XVnMEj6z9n5PovcMvKJMG9ElM7D+fz5t3BZGLe2gMsHRnJlGU7cmRSt/Tcnk/JoF1oFfo0D2LQnA28fEtzPlp3gK0xcXw98jr+zDE0vVt4VZ7t05j/G96WTLNBUroZwzA4HpdKcobZNv/6zg828PptLWzJ2gC+H90Rs2Fw+5z1NKzhw8sDmuU7BNvDxYnhH2+2JcPYGnPOLuCNqh/I4PZ1OXo2xfZgAaCarzu/7jrFo4u20ibYv8i9yjlPmPHJ6XbJOXK2s4avB2cS8w68ASq5u+pELCJXhZiYGM6ePUtMTAxms5lt27YBEBYWhre3NwDh4eFMnz6dAQMGYDKZGDt2LNOmTaN+/frUr1+fadOm4eXlxeDBg8vwm4hIeVLcElalUXNa93TFk18N9rxGHlztKlTg/cYbbzB8+HDuv/9+AGbMmMHPP//M7NmzmT59+mVti5+XG8FVvOjXshbP9m7M0WxlsI7HpdqCSncXpzxrHG49HEeG2cz7q/fT8tgeXvnxLRqeiQHgbLde9GwwiFM+AbZ9tq5bGbORxXO9G5OZZXAuOZ1Ms8FfMed45cddvNC/Kb/vPYOPuyuNgnzt9plhzrIFtNn33/vttSSnm/ludCR3zNmQ5/e1T0AWyImEVEZf6LE+Ex1Lmjkr38QMXm7OtsA857Hw83QlNcPMoo0xPNe7MT6eLvh4uOLt4UJSWiadGlSlb/OaJdKrXNgEEprHLSICzz//PB9//LHttbUXe+XKlXTq1AmAPXv2EB8fb1tn3LhxpKSkMHLkSM6dO0e7du345ZdfVMNbRGyKW8JKNafLh5IeeXC1qDCBd3p6Olu2bGH8+PF2y3v06MEff/zh8DOlXZ4kqLInPRpXJy45nUruLvi4u9A4yJcq3m5EhQWwJjrWNld6XXRsruQNUWEBuGek8fiP7zFs87c4YXDaqzKTuo/gkZlPc2rmuovr1g/khf5NcHNyYvJ3O1i+65Tde9MHNKOWvxc3NKjKpG+2M+S6ELIMw7bPUV3C2JYjgYVV5IXM54VJvmbNyj46xzDxxNRMwqr55DtcJ3vAa22HdR754j9jbPNpgqlUzL9I4RRmWJGyO4qIWOp3F1TD2zAMu9cmk4nJkyczefLk0muYiFRoxS1hpZrT5UNpjDy4GlSYwPvMmTOYzWaHJUqs5UtyuhzlSazDU0wmE+dTMxn56V+24dRZ5J3ZOyoskJGdwxgxdx1fHNiKEwZfNenMi10foGmzUMzAwvvb4e7qRGVPN7vA8PXbWuQZNNas7Mnrt7UgNimdyX2bXMj4aKayl+NSWx3DAhgaGcrTX/3Dy7c0xwR2mcujwgKY1K8J8SkZRNSpzNbDcbnmZsPFE11+w3WyB7zxKRl4uTnj7GTC2cnE67e1uKz/gRY0rEjZHUVERERKR3E7OVRzunzQyIPiqTCBt1VRSpRczvIkdQMqceRssi0rd/bh1JlZBs/e1AizYZCcZiYxLZPdJxII8HajWb1qPNl7LFWSE1h1TRs6hgUw9eZmGIZBcBWvPDM65hcA5vd+zmDS3dWJI2eTeaF/U1xMJoZ1DOWpG8NJN2dRyc2ZSm4uVPZypaq3O6MXbb3kE11FmkdTkdoqIiIiUpEUp5NDoxLLB408KJ4KE3gHBgbi7Oycq3c7vxIll7s8Se0qXkwf0IwJX//LmmzDqaPqB/Ji/6ZM/X4n4UG+bI05x7roWD5ad5BXbmlOtV7hJKaaecrDBf9KbqWakMBRMOnj7lKok55OdCIiIiJSUorTyaFRiWVPIw+Kx2TknJxVjrVr147WrVsza9Ys27LGjRvTv3//QiVXS0hIwM/Pj/j4eHx9fUutndbU+jlPBsfiUpj0zXbuaFuXj9YdsBt6bg1gg8p5FsC8vpuIiJScy3W9Kq+u9u8vIlLeHYtLybNDrrzHMyWpKNerChV4L168mHvuuYf33nuPDh06MGfOHD744AN27NhBcHBwgZ8vDxfy+OR0YpPSMWcZtvnXfp4KYEVE5KLycL0qS1f79xcRqQjUIVe061WFGWoOcMcddxAbG8sLL7zA8ePHadq0KT/88EOhgu7yQvOGRURERESkolNcUzQVKvAGGDlyJCNHjizrZoiIiIiIiIgUilNZN0BERERERETkSqbAW0RERERERKQUKfAWERERERERKUUKvEVERERERERKUYVLrnYprJXTEhISyrglIiIiebNepypQxc8Speu1iIhUBEW5Xl9Vgff58+cBqFOnThm3REREpGDnz5/Hz8+vrJtx2el6LSIiFUlhrtcm4yp6nJ6VlcWxY8fw8fHBZDKVdXNsEhISqFOnDocPHy6w8LoUn47z5aHjfHnoOF8eZXWcDcPg/Pnz1KxZEyenq29WWHm9XpcU/fdbOnRcS4eOa+nQcS0dl/u4FuV6fVX1eDs5OVG7du2ybkaefH199R/eZaDjfHnoOF8eOs6XR1kc56uxp9uqvF+vS4r++y0dOq6lQ8e1dOi4lo7LeVwLe72++h6ji4iIiIiIiFxGCrxFRERERERESpEC73LA3d2dSZMm4e7uXtZNuaLpOF8eOs6Xh47z5aHjLKVBv6vSoeNaOnRcS4eOa+koz8f1qkquJiIiIiIiInK5qcdbREREREREpBQp8BYREREREREpRQq8RUREREREREqRAm8RERERERGRUqTAuxyYNWsWoaGheHh40Lp1a9asWVPWTbqi/P777/Tt25eaNWtiMplYunRpWTfpijR9+nSuvfZafHx8qFatGjfffDN79uwp62ZdcWbPnk3z5s3x9fXF19eXDh068OOPP5Z1s65406dPx2QyMXbs2LJuilQQRb22r169mtatW+Ph4UG9evV47733LlNLK5aiHNdVq1ZhMply/du9e/dlbHH5Vpx7JP1WC1bU46rfauEU916zvPxmFXiXscWLFzN27FieffZZtm7dSlRUFL169SImJqasm3bFSEpKokWLFsycObOsm3JFW716NY888ggbNmxg+fLlZGZm0qNHD5KSksq6aVeU2rVr8/LLL7N582Y2b95Mly5d6N+/Pzt27Cjrpl2xNm3axJw5c2jevHlZN0UqiKJe2w8cOMBNN91EVFQUW7du5ZlnnuHRRx/lq6++uswtL9+Ke8+0Z88ejh8/bvtXv379y9Ti8q+o90j6rRZOce899VvNX3HuNcvVb9aQMtW2bVtjxIgRdsvCw8ON8ePHl1GLrmyA8fXXX5d1M64Kp06dMgBj9erVZd2UK56/v7/x4YcflnUzrkjnz5836tevbyxfvty44YYbjDFjxpR1k6QCKOq1fdy4cUZ4eLjdsoceesho3759qbWxIirqcV25cqUBGOfOnbsMrav4CnOPpN9q0RXmuOq3WjyFudcsT79Z9XiXofT0dLZs2UKPHj3slvfo0YM//vijjFolUjLi4+MBqFKlShm35MplNpv57LPPSEpKokOHDmXdnCvSI488Qu/evenWrVtZN0UqiOJc29evX59r/RtvvJHNmzeTkZFRam2tSC7lnikiIoKgoCC6du3KypUrS7OZVzz9VkuXfqtFU5h7zfL0m3W5rHsTO2fOnMFsNlO9enW75dWrV+fEiRNl1CqRS2cYBo8//jgdO3akadOmZd2cK86///5Lhw4dSE1Nxdvbm6+//prGjRuXdbOuOJ999hl//fUXmzZtKuumSAVSnGv7iRMnHK6fmZnJmTNnCAoKKrX2VhTFOa5BQUHMmTOH1q1bk5aWxv/93//RtWtXVq1axfXXX385mn3F0W+1dOi3WnSFvdcsT79ZBd7lgMlksnttGEauZSIVyahRo/jnn39Yu3ZtWTflitSwYUO2bdtGXFwcX331FUOGDGH16tUKvkvQ4cOHGTNmDL/88gseHh5l3RypgIp6bXe0vqPlV7uiHNeGDRvSsGFD2+sOHTpw+PBhXn/9dQUzl0C/1ZKn32rRFeVes7z8ZjXUvAwFBgbi7Oyc60ntqVOncj2ZEakoRo8ezbfffsvKlSupXbt2WTfniuTm5kZYWBht2rRh+vTptGjRgrfeequsm3VF2bJlC6dOnaJ169a4uLjg4uLC6tWrefvtt3FxccFsNpd1E6WcKs61vUaNGg7Xd3FxISAgoNTaWpGU1D1T+/bt2bt3b0k376qh3+rlo99q3opyr1mefrMKvMuQm5sbrVu3Zvny5XbLly9fznXXXVdGrRIpHsMwGDVqFEuWLOG3334jNDS0rJt01TAMg7S0tLJuxhWla9eu/Pvvv2zbts32r02bNtx1111s27YNZ2fnsm6ilFPFubZ36NAh1/q//PILbdq0wdXVtdTaWpGU1D3T1q1bNRz6Eui3evnot5pbce41y9NvVkPNy9jjjz/OPffcQ5s2bejQoQNz5swhJiaGESNGlHXTrhiJiYlER0fbXh84cIBt27ZRpUoV6tatW4Ytu7I88sgjLFy4kG+++QYfHx/b00U/Pz88PT3LuHVXjmeeeYZevXpRp04dzp8/z2effcaqVav46aefyrppVxQfH59cc8YqVapEQECA8hZIgQq6tk+YMIGjR4+yYMECAEaMGMHMmTN5/PHHeeCBB1i/fj1z585l0aJFZfk1yp2iHtcZM2YQEhJCkyZNSE9P55NPPuGrr75S6atsCrpH0m+1eIp6XPVbLZzC3GuW69/sZc+jLrm8++67RnBwsOHm5ma0atVK5ZdKmLVEQ85/Q4YMKeumXVEcHWPA+Oijj8q6aVeUYcOG2c4XVatWNbp27Wr88ssvZd2sq4LKiUlR5HdtHzJkiHHDDTfYrb9q1SojIiLCcHNzM0JCQozZs2df5hZXDEU5rq+88opxzTXXGB4eHoa/v7/RsWNH4/vvvy+DVpdfBd0j6bdaPEU9rvqtFk5h7jXL82/WZBgXZpeLiIiIiIiISInTHG8RERERERGRUqTAW0RERERERKQUKfAWERERERERKUUKvEVERERERERKkQJvERERERERkVKkwFtERERERESkFCnwFhERERERESlFCrxFRERERERESpECb5EryOTJk2nZsqXt9dChQ7n55psvezsOHjyIyWRi27ZtpbqfkJAQZsyYUar7EBERKQ26ZotcXRR4i5SyoUOHYjKZMJlMuLq6Uq9ePZ588kmSkpJKfd9vvfUW8+fPL9S6l+vCC9CsWTPuv/9+h+8tWrQIV1dXTp48WertEBERyU7X7Nx0zRYpGQq8RS6Dnj17cvz4cfbv38/UqVOZNWsWTz75pMN1MzIySmy/fn5+VK5cucS2V1KGDx/O559/TnJycq735s2bR58+fahevXoZtExERK52umbb0zVbpGQo8Ba5DNzd3alRowZ16tRh8ODB3HXXXSxduhS4ONRs3rx51KtXD3d3dwzDID4+ngcffJBq1arh6+tLly5d+Pvvv+22+/LLL1O9enV8fHwYPnw4qampdu/nHLaWlZXFK6+8QlhYGO7u7tStW5eXXnoJgNDQUAAiIiIwmUx06tTJ9rmPPvqIRo0a4eHhQXh4OLNmzbLbz59//klERAQeHh60adOGrVu35ns87rnnHtLS0vjiiy/slsfExPDbb78xfPhw9u3bR//+/alevTre3t5ce+21rFixIs9tOnr6HxcXh8lkYtWqVbZlO3fu5KabbsLb25vq1atzzz33cObMGdv7X375Jc2aNcPT05OAgAC6det2WXo6RESkfNA1256u2SIlQ4G3SBnw9PS0e0oeHR3N559/zldffWW7CPXu3ZsTJ07www8/sGXLFlq1akXXrl05e/YsAJ9//jmTJk3ipZdeYvPmzQQFBeW6uOY0YcIEXnnlFSZOnMjOnTtZuHCh7Sn1n3/+CcCKFSs4fvw4S5YsAeCDDz7g2Wef5aWXXmLXrl1MmzaNiRMn8vHHHwOQlJREnz59aNiwIVu2bGHy5Ml59gxYBQQE0L9/fz766CO75R999BHVq1enV69eJCYmctNNN7FixQq2bt3KjTfeSN++fYmJiSnkUc7t+PHj3HDDDbRs2ZLNmzfz008/cfLkSW6//Xbb+3feeSfDhg1j165drFq1ioEDB2IYRrH3KSIiFZuu2bpmi5QIQ0RK1ZAhQ4z+/fvbXm/cuNEICAgwbr/9dsMwDGPSpEmGq6urcerUKds6v/76q+Hr62ukpqbabeuaa64x3n//fcMwDKNDhw7GiBEj7N5v166d0aJFC4f7TkhIMNzd3Y0PPvjAYTsPHDhgAMbWrVvtltepU8dYuHCh3bIXX3zR6NChg2EYhvH+++8bVapUMZKSkmzvz5492+G2svvxxx8Nk8lk7Nu3zzAMw8jKyjJCQkKMCRMm5PmZxo0bG++8847tdXBwsPHmm2/m2f5z584ZgLFy5UrDMAxj4sSJRo8ePey2efjwYQMw9uzZY2zZssUAjIMHD+bZBhERuXLpmu2Yrtkil0493iKXwbJly/D29sbDw4MOHTpw/fXX884779jeDw4OpmrVqrbXW7ZsITExkYCAALy9vW3/Dhw4wL59+wDYtWsXHTp0sNtPztfZ7dq1i7S0NLp27Vrodp8+fZrDhw8zfPhwu3ZMnTrVrh0tWrTAy8urUO2w6tGjB7Vr17Y9Qf/tt984ePAg9913H2B5Kj9u3DgaN25M5cqV8fb2Zvfu3Zf09HzLli2sXLnS7ruEh4cDsG/fPlq0aEHXrl1p1qwZt912Gx988AHnzp0r9v5ERKTi0TU7N12zRS6dS1k3QORq0LlzZ2bPno2rqys1a9bE1dXV7v1KlSrZvc7KyiIoKMhunpNVcROveHp6FvkzWVlZgGXoWrt27ezec3Z2Bij2kC4nJyeGDh3K/PnzmTJlCh999BHXX3899evXB+Cpp57i559/5vXXXycsLAxPT09uvfVW0tPT89xezvbkTHqTlZVF3759eeWVV3J9PigoCGdnZ5YvX84ff/zBL7/8wjvvvMOzzz7Lxo0bbfPpRETkyqZrdm66ZotcOvV4i1wGlSpVIiwsjODg4FwXcEdatWrFiRMncHFxISwszO5fYGAgAI0aNWLDhg12n8v5Orv69evj6enJr7/+6vB9Nzc3AMxms21Z9erVqVWrFvv378/VDutFrXHjxvz999+kpKQUqh3Z3XfffRw5coQlS5awZMkShg8fbntvzZo1DB06lAEDBtCsWTNq1KjBwYMH89yWtffh+PHjtmU5y6y0atWKHTt2EBISkuv7WG+kTCYTkZGRTJkyha1bt+Lm5sbXX39dqO8jIiIVn67ZjumaLXJpFHiLlEPdunWjQ4cO3Hzzzfz8888cPHiQP/74g+eee47NmzcDMGbMGObNm8e8efP477//mDRpEjt27Mhzmx4eHjz99NOMGzeOBQsWsG/fPjZs2MDcuXMBqFatGp6enrbkJfHx8YAlg+v06dN56623+O+///j333/56KOPeOONNwAYPHgwTk5ODB8+nJ07d/LDDz/w+uuvF+p7hoaG0qVLFx588EFcXV259dZbbe+FhYWxZMkStm3bxt9//83gwYNtT/Md8fT0pH379rz88svs3LmT33//neeee85unUceeYSzZ89y55138ueff7J//35++eUXhg0bhtlsZuPGjUybNo3NmzcTExPDkiVLOH36NI0aNSrU9xERkauPrtm6ZosUhgJvkXLIZDLxww8/cP311zNs2DAaNGjAoEGDOHjwoC2j6R133MHzzz/P008/TevWrTl06BAPP/xwvtudOHEiTzzxBM8//zyNGjXijjvu4NSpUwC4uLjw9ttv8/7771OzZk369+8PwP3338+HH37I/PnzadasGTfccAPz58+3PT339vbmu+++Y+fOnURERPDss886HBaWl+HDh3Pu3DkGDRpkN+fszTffxN/fn+uuu46+ffty44030qpVq3y3NW/ePDIyMmjTpg1jxoxh6tSpdu/XrFmTdevWYTabufHGG2natCljxozBz88PJycnfH19+f3337npppto0KABzz33HP/73//o1atXob+PiIhcXXTN1jVbpDBMRnEne4iIiIiIiIhIgdTjLSIiIiIiIlKKFHiLiIiIiIiIlCIF3iIiIiIiIiKlSIG3iIiIiIiISClS4C0iIiIiIiJSihR4i4iIiIiIiJQiBd4iIiIiIiIipUiBt4iIiIiIiEgpUuAtIiIiIiIiUooUeIuIiIiIiIiUIgXeIiIiIiIiIqVIgbeIiIiIiIhIKVLgLSIiIiIiIlKKFHiLiIiIiIiIlCIF3iIiIiIiIiKlSIG3iIiIiIiISClS4C0iIiIiIiJSihR4S7mxYcMGbrvtNoKCgnBzcyMoKIjbb7+dTZs2FWt7hw8fZtSoUVxzzTV4eHjg7+9Ply5dWLx4caG3ERISgslksv3z9vamXbt2LFiwwG69Tp060alTp2K1c9q0aSxdurRIn9m3bx/u7u6sX7++UOsXtn0HDx7EZDIxf/78IrVHSkZISAhDhw4t1X1MnDiRVq1akZWVVar7EREREZGLFHhLufDOO+8QGRnJkSNHePXVV1mxYgWvvfYahw8fpn379syZM6dI21u3bh3Nmzfnm2++YcyYMfz000/Mnz+foKAgBg0axJAhQzAMo1DbioyMZP369axfv5758+djMpkYMmQIs2fPLs5XzaU4gfeTTz5J9+7d6dChQ6HWnzVrFrNmzSpG6+Ry+vrrr5k4cWKp7uPJJ5/kwIEDfPzxx6W6HxERERG5yKWsGyCybt06xo4dy0033cTXX3+Ni8vFn+WgQYMYMGAAI0eOJCIigmuvvbbA7cXFxTFw4ED8/PzYuHEj1atXt73Xv39/mjdvzvjx42nZsiWPPfZYgdurXLky7du3t73u1q0bwcHBvPHGGzz88MNF/LaXbteuXSxdupSffvqpwHWTk5Px8vKicePGl6Flpcv6XS6HjIwMTCaT3W/xcoiIiCj1ffj5+XH33Xfz8ssvM3ToUEwmU6nvU0RERORqpx5vKXPTp0/HZDIxe/bsXIGOi4uLrad2+vTphdrehx9+yKlTp3j55Zftgm6rcePGER4ezvTp08nMzCxyeytXrkzDhg05dOhQvuudPXuWkSNHUqtWLdzc3KhXrx7PPvssaWlptnVMJhNJSUl8/PHHtuHsBQ0Jnz17NjVq1KB79+52yzt16kTTpk35/fffue666/Dy8mLYsGG293Ju99ixY9x+++34+Pjg5+fHHXfcwYkTJxzu84MPPqBBgwa4u7vTuHFjFi5cyNChQwkJCbFbLz09nalTpxIeHo67uztVq1blvvvu4/Tp0/l+p5wmT56MyWTir7/+4tZbb8Xf359rrrkGAMMwmDVrFi1btsTT0xN/f39uvfVW9u/fb7cNwzCYNm0awcHBeHh40KZNG5YvX57rWKxatQqTycT//d//8cQTT1CrVi3c3d2Jjo4GYMWKFXTt2hVfX1+8vLyIjIzk119/tdvX6dOnefDBB6lTp47te0dGRrJixQrbOlu3bqVPnz5Uq1YNd3d3atasSe/evTly5IhtHUdDzWNiYrj77rttn2vUqBH/+9//7IaKW6cIvP7667zxxhuEhobi7e1Nhw4d2LBhQ67je8899/Dff/+xcuXKIv1dRERERKR41OMtZcpsNrNy5UratGlD7dq1Ha5Tp04dWrduzYoVK8jKysLJKf/nRcuXL8fZ2Zm+ffs6fN9kMtGvXz9effVVtm7dWqhe9OwyMjI4dOgQVatWzXOd1NRUOnfuzL59+5gyZQrNmzdnzZo1TJ8+nW3btvH9998DsH79erp06ULnzp1tQ4x9fX3z3f/333/P9ddf7/A4HD9+nLvvvptx48Yxbdq0PI9VSkoK3bp149ixY0yfPp0GDRrw/fffc8cdd+Rad86cOTz00EPccsstvPnmm8THxzNlyhS7BwgAWVlZ9O/fnzVr1jBu3Diuu+46Dh06xKRJk+jUqRObN2/G09Mz3++W08CBAxk0aBAjRowgKSkJgIceeoj58+fz6KOP8sorr3D27FleeOEFrrvuOv7++2/bw5Znn32W6dOn8+CDDzJw4EAOHz7M/fffT0ZGBg0aNMi1rwkTJtChQwfee+89nJycqFatGp988gn33nsv/fv35+OPP8bV1ZX333+fG2+8kZ9//pmuXbsClkD2r7/+4qWXXqJBgwbExcXx119/ERsbC0BSUhLdu3cnNDSUd999l+rVq3PixAlWrlzJ+fPn8/z+p0+f5rrrriM9PZ0XX3yRkJAQli1bxpNPPsm+fftyTR949913CQ8PZ8aMGYBlPvdNN93EgQMH8PPzs63XunVrvL29+f777+nSpUuR/iYiIiIiUgyGSBk6ceKEARiDBg3Kd7077rjDAIzTp08XuM3w8HCjRo0a+a4ze/ZsAzC++OKLfNcLDg42brrpJiMjI8PIyMgwDhw4YAwZMsQAjKeeesq23g033GDccMMNttfvvfeeARiff/653fZeeeUVAzB++eUX27JKlSoZQ4YMKfB7GYZhnDx50gCMl19+Odd7N9xwgwEYv/76q8P3srfP+v2/+eYbu/UeeOABAzA++ugjwzAMw2w2GzVq1DDatWtnt96hQ4cMV1dXIzg42LZs0aJFBmB89dVXdutu2rTJAIxZs2YV6jsahmFMmjTJAIznn3/ebvn69esNwPjf//5nt/zw4cOGp6enMW7cOMMwDOPs2bOGu7u7cccddzj8fPZjsXLlSgMwrr/+ert1k5KSjCpVqhh9+/a1W242m40WLVoYbdu2tS3z9vY2xo4dm+f32bx5swEYS5cuzfd7BwcH2/0Wxo8fbwDGxo0b7dZ7+OGHDZPJZOzZs8cwDMM4cOCAARjNmjUzMjMzbev9+eefBmAsWrQo174iIyNz/V1FREREpHRoqLlUCMaFRGjW+ahZWVlkZmba/pnN5kvaXn5++OEHXF1dcXV1JTQ0lM8//5zRo0czderUPD/z22+/UalSJW699Va75dZhxDmHKhfWsWPHAKhWrZrD962Z2wuycuVKfHx86Nevn93ywYMH273es2cPJ06c4Pbbb7dbXrduXSIjI+2WLVu2jMqVK9O3b1+7v03Lli2pUaMGq1atKrBdOd1yyy259mEymbj77rvt9lGjRg1atGhh28eGDRtIS0vL1e727dvnGh6f177++OMPzp49y5AhQ+z2lZWVRc+ePdm0aZOtF75t27bMnz+fqVOnsmHDBjIyMuy2FRYWhr+/P08//TTvvfceO3fuLNT3/+2332jcuDFt27a1Wz506FAMw+C3336zW967d2+cnZ1tr5s3bw7gcFpEtWrVOHr0aKHaISIiIiKXRoG3lKnAwEC8vLw4cOBAvusdPHgQT09PAgICABg2bJgtGHZ1dbUN+QVLUHj69GlbUJTX9sAyjL0gHTt2ZNOmTWzevJmdO3cSFxfH22+/jZubW56fiY2NpUaNGrkC+2rVquHi4mIbglxUKSkpAHh4eDh8PygoqFDbiY2NdTj/vUaNGrnWAxyum3PZyZMniYuLw83Nze5v4+rqyokTJzhz5kyh2pZdzu9z8uRJDMOgevXqufaxYcMG2z6K0u789gVw66235trXK6+8gmEYnD17FoDFixczZMgQPvzwQzp06ECVKlW49957bXPm/fz8WL16NS1btuSZZ56hSZMm1KxZk0mTJuUK0rOLjY11+DetWbOm3fe0sv73YeXu7g5c/N1k5+Hh4XC5iIiIiJQ8zfGWMuXs7EyXLl348ccfOXLkiMN53keOHGHLli307NnTtmzy5MmMGjXK9trHx8f2/3v06MEvv/zCd999x6BBg3JtzzAMvv32WwICAmjRokWBbfTz86NNmzZF+l4BAQFs3LgRwzDsgu9Tp06RmZlJYGBgkbZnZf2cNeDLqbAZqgMCAvjzzz9zLc+ZXM0ayFmD0PzWDQwMJCAgIM9s69n/RoWV8/sEBgZiMplYs2aNLajMzrqsoHY76vV2tC+wlLrLntU+O2sQHxgYyIwZM5gxYwYxMTF8++23jB8/nlOnTtmOR7Nmzfjss88wDIN//vmH+fPn88ILL+Dp6cn48eMdbj8gIIDjx4/nWm4d+VDc3xFYfkOX8nkRERERKTz1eEuZGz9+PIZhMHLkyFxDxs1mMw8//DBms5kxY8bYloeEhNCmTRvbv4YNG9reGz58ONWrV2fChAmcOnUq1/5effVVdu/ezYgRIxwGbyWha9euJCYm5qrPvWDBAtv7Vu7u7oXueQwODsbT05N9+/ZdUvs6d+7M+fPn+fbbb+2WL1y40O51w4YNqVGjBp9//rnd8piYGP744w+7ZX369CE2Nhaz2Wz3t3H0NyquPn36YBgGR48edbiPZs2aAdCuXTvc3d1ZvHix3ec3bNhQYDZ6q8jISCpXrszOnTsd7qtNmzYORz3UrVuXUaNG0b17d/76669c75tMJlq0aMGbb75J5cqVHa5j1bVrV3bu3JlrnQULFmAymejcuXOhvosj+/fvvyLKzImIiIhUBOrxljIXGRnJjBkzGDNmDB07dmTUqFHUrVuXmJgY3n33XdavX8/kyZNzlc/KS+XKlfnqq6/o06cPrVu35qmnnqJFixYkJCSwePFiPv30U7p3787kyZNL7Tvde++9vPvuuwwZMoSDBw/SrFkz1q5dy7Rp07jpppvo1q2bbd1mzZqxatUqvvvuO4KCgvDx8ckzSHVzc8uzRFRR2/fmm29y77338tJLL1G/fn1++OEHfv75Z7v1nJycmDJlCg899BC33norw4YNIy4ujilTphAUFGSXNX3QoEF8+umn3HTTTYwZM4a2bdvi6urKkSNHWLlyJf3792fAgAGX1O7IyEgefPBB7rvvPjZv3sz1119PpUqVOH78OGvXrqVZs2Y8/PDDVKlShccff5zp06fj7+/PgAEDOHLkiMN258Xb25t33nmHIUOGcPbsWW699VaqVavG6dOn+fvvvzl9+jSzZ88mPj6ezp07M3jwYMLDw/Hx8WHTpk389NNPDBw4ELDMTZ81axY333wz9erVwzAMlixZQlxcXL6/68cee4wFCxbQu3dvXnjhBYKDg/n++++ZNWsWDz/8sMPs7IURGxvL3r17GT16dLE+LyIiIiJFVEZJ3URy+eOPP4xbbrnFqF69uuHk5GQAhoeHh/H9998Xa3uHDh0yRo4caYSGhhqurq4GYADGCy+8YJf5OT/BwcFG7969C1wvZ9ZwwzCM2NhYY8SIEUZQUJDh4uJiBAcHGxMmTDBSU1Pt1tu2bZsRGRlpeHl55cq47cjcuXMNZ2dn49ixY7na0KRJk0K378iRI8Ytt9xieHt7Gz4+PsYtt9xi/PHHH3ZZza3mzJljhIWFGW5ubkaDBg2MefPmGf379zciIiLs1svIyDBef/11o0WLFoaHh4fh7e1thIeHGw899JCxd+/efL9Xdtas5nllsZ83b57Rrl07o1KlSoanp6dxzTXXGPfee6+xefNm2zpZWVnG1KlTjdq1axtubm5G8+bNjWXLlhktWrQwBgwYYFvPmtU8rwz3q1evNnr37m1UqVLFcHV1NWrVqmX07t3btn5qaqoxYsQIo3nz5oavr6/h6elpNGzY0Jg0aZKRlJRkGIZh7N6927jzzjuNa665xvD09DT8/PyMtm3bGvPnz7fbV86s5oZh+R0PHjzYCAgIMFxdXY2GDRsar732mmE2m23rWLOav/baa7naDxiTJk2yWzZ37lzD1dXVOHHihMPvLCIiIiIly2QYF9I7i5QzCxYsYMiQIYwbN45XXnnlkrf377//EhUVRcuWLfnxxx+LXFO6vEhNTaVu3bo88cQTPP3002XShri4OBo0aMDNN9/MnDlzyqQNxXHgwAHCw8OZNGkSzzzzTFk3p8xERUVRt25dPv3007JuioiIiMhVQYG3lGuvvPIK48ePZ8qUKTz//POXvL3Vq1dz44030rlzZ7755pt8M5OXZ7Nnz2by5Mns37+fSpUqleq+Tpw4wUsvvUTnzp0JCAjg0KFDvPnmm+zevZvNmzfTpEmTUt1/cf39998sWrSI6667Dl9fX/bs2cOrr75KQkIC27dvzzO7+ZXu999/p0ePHuzcuZN69eqVdXNERERErgoKvEUqILPZzKuvvkqfPn1sCcVKy7lz57j33nvZtGkTZ8+excvLi/bt2zNlyhTatWtXpG1lZWWRlZWV7zouLiWTeiI6OpoRI0bw999/ExcXh5+fH506deKll14qkURvFdXXX39NRkZGrhrnIiIiIlJ6FHiLyGUzefJkpkyZku86Bw4ccFjuS0RERESkolLgLSKXzbFjx2w1qPPSvHnzCjsFQERERETEEQXeIiIiIiIiIqWo4GK2IiIiIiIiIlJsJZPFqILIysri2LFj+Pj4YDKZyro5IiIiDhmGwfnz56lZsyZOTnpGLiIiUtFdVYH3sWPHqFOnTlk3Q0REpFAOHz5M7dq1y7oZIiIicomuqsDbx8cHsNzI+Pr6lnFrREREHEtISKBOnTq265aIiIhUbFdV4G0dXu7r66vAW0REyj1NixIREbkyaOKYiIiIiIiISClS4C0iIiIiIiJSihR4i4iIiIiIiJQiBd4iIiIiIiIipeiqSq4mIiJS0sxmWLMGjh+HoCCIigJn57JulYiIiJQnCrxFRESKackSGDMGjhy5uKx2bXjrLRg4sOzaJSIiIuWLhpqLiIgUw5IlcOut9kE3wNGjluVLlpRNu0RERKT8UeAtIiJSRGazpafbMHK/Z102dqxlPREREREF3iIiIkW0Zk3unu7sDAMOH7asJyIiIqLAW0REpIiOHy/Z9UREROTKpsBbRESkiIKCSnY9ERERubIp8BYRESmiqChL9nKTyfH7JhPUqWNZT0RERESBt4iISBE5O1tKhkHu4Nv6esYM1fMWERERCwXeIiIixTBwIHz5JdSqZb+8dm3LctXxFhERESuXsm6AiIhIRTVwIPTvb8lefvy4ZU53VJR6ukVERMSeAm8REZFL4OwMnTqVdStERESkPNNQcxEREREREZFSpMBbREREREREpBQp8BYREREREREpRQq8RUREREREREqRAm8RERERERGRUqTAW0RERERERKQUKfAWERERERERKUUKvEVERERERERKkQJvERERERERkVKkwFtERERERESkFCnwFhERERERESlFCrxFRERERERESpECbxEREREREZFSpMBbREREREREpBQp8BYREREREREpRQq8RUREREREREqRAm8RERERERGRUqTAW0RERERERKQUKfAWERERERERKUUKvEVERERERERKkQJvERERERERkVKkwFtERERERESkFCnwFhERERERESlFCrxFRERERERESpECbxEREREREZFSpMBbREREREREpBQp8BYREREREREpRQq8RUREREREREqRS1k3QEREpDwwm2HNGjh+HIKCICoKnJ3LulUiIiJyJVDgLSIiV70lS2DMGDhy5OKy2rXhrbdg4MCya5eIiIhcGSrMUPPp06dz7bXX4uPjQ7Vq1bj55pvZs2dPWTdLREQquCVL4NZb7YNugKNHLcuXLCmbdomIiMiVo8IE3qtXr+aRRx5hw4YNLF++nMzMTHr06EFSUlJZN01ERCoos9nS020Yud+zLhs71rKeiIiISHGZDMPR7Ub5d/r0aapVq8bq1au5/vrrC/WZhIQE/Pz8iI+Px9fXt5RbKCIi5d2qVdC5c8HrrVwJnTqVdmsu0vVKRETkylJherxzio+PB6BKlSpl3BIREamojh8v2fVEREREHKmQydUMw+Dxxx+nY8eONG3aNM/10tLSSEtLs71OSEi4HM0TEZEKIiioZNcTERERcaRC9niPGjWKf/75h0WLFuW73vTp0/Hz87P9q1OnzmVqoYiIVARRUZbs5SaT4/dNJqhTx7KeiIiISHFVuMB79OjRfPvtt6xcuZLatWvnu+6ECROIj4+3/Tt8+PBlaqWIiFQEzs6WkmGQO/i2vp4xQ/W8RURE5NJUmMDbMAxGjRrFkiVL+O233wgNDS3wM+7u7vj6+tr9ExERyW7gQPjyS6hVy3557dqW5arjLSIiIpeqwszxfuSRR1i4cCHffPMNPj4+nDhxAgA/Pz88PT3LuHUiIlKRDRwI/fvDmjWWRGpBQZbh5erpFhERkZJQYcqJmfKYgPfRRx8xdOjQQm1D5VlERKQi0PVKRETkylJherwryPMBERERERERETsVZo63iIiIiIiISEWkwFtERERERESkFFWYoeYiIiKXwmxW8jQREREpGwq8RUTkipMzyD5zBh57DI4cubhO7dqWGt4qFyYiIiKlTYG3iIhUaIUJsh05ehRuvVW1ukVERKT0KfAWEZEKa8kSGDOm4CDbEcMAkwnGjrXU8NawcxERESktSq4mIiIV0pIllh7r4gTdVoYBhw9besxFRERESosCbxERqXDS02HECEvgXBKOHy+Z7YiIiIg4osBbREQqBLMZVq2yzN+uVg1Ony65bQcFldy2RERERHLSHG8RESn3LmUud35MJkt286iokt2uiIiISHbq8RYRkXLLbIYXXoBbbimdoBtgxgwlVhMREZHSpcBbRETKHWvAXbUqTJpUOvuoXVulxEREROTy0FBzEREpV5YsgQcfhNjYkttmnTrwv/9ZAnlrve+oKPV0i4iIyOWhwFtERMqNJUssw8ovRdWq8O67CrJFRESk/FDgLSIi5YLZbEmgdimqVrXMBXdzK5k2iYiIiJQEBd4iIlIurFlT/ARq1kRp772noFtERETKHyVXExGRMmc2W4aHF5cSpYmIiEh5ph5vEREpM2YzvPQSvPYaJCYW7bOBgXD33dC/v+Zwi4iISPmmwFtERMrEpWQvnzIFnn1WwbaIiIhUDAq8RUTksrL2chenPndAAMyZoyHlIiIiUrEUOfA+fPgwJpOJ2rVrA/Dnn3+ycOFCGjduzIMPPljiDRQRkSvHl1/Cww/DmTNF/+wtt8DixeW4lzslBTw9y7oVIiIiUg4VObna4MGDWblyJQAnTpyge/fu/PnnnzzzzDO88MILJd5AERG5MowbB7fdVrygG2DUqHIYdBsGrF5t6YJv1szSnS8iIiKSQ5ED7+3bt9O2bVsAPv/8c5o2bcoff/zBwoULmT9/fkm3T0RErgCLF1sSqBVXnTqWBGrlRmoqzJ8PrVpBp07w9dewbx/88UdZt0xERETKoSIPNc/IyMDd3R2AFStW0K9fPwDCw8M5fvx4ybZOREQqvMWL4c47i/95kwlmzCgnvd0nTliKhc+eDadOWZZ5esK998Kjj0LjxmXbPhERESmXitzj3aRJE9577z3WrFnD8uXL6dmzJwDHjh0jICCgxBsoIiIV11NPwaBBlhHZxREQUE7qc//1FwwZAnXrWlKqnzplKR7+8stw5IglGFfQLSIiInkoco/3K6+8woABA3jttdcYMmQILVq0AODbb7+1DUEXEZGrm9lsCbi//LJ4n/f0hPHjy7hkmNkM33xj6W5fs+bi8g4dYOxYGDAAXF3LqHEiIiJSkZgMo+j9EGazmYSEBPz9/W3LDh48iJeXF9WqVSvRBpakhIQE/Pz8iI+Px9fXt6ybIyJyRfryS7jnHss06OLw9YXTp8HNrWTbVWhxcTB3LrzzDhw6ZFnm4gK33w5jxsBleMis65WIiMiVpVh1vA3DYMuWLezbt4/Bgwfj4+ODm5sbXl5eJd0+ERGpQMaNu7QkagAffVRGQfd//8Hbb1uSpiUlWZYFBMCIEZYaaLVqlUGjRERE5EpQ5MD70KFD9OzZk5iYGNLS0ujevTs+Pj68+uqrpKam8t5775VGO0VEpJwriczlM2Zc5vnchgErVlh2/MMPF5c3bWrp3b7rLtXmFhERkUtW5MB7zJgxtGnThr///tsumdqAAQO4//77S7RxIiJSMXzxRfEzl48ebQm2o6Iu43zu5GT45BN46y3YudOyzGSCPn0sAXeXLpbXIiIiIiWgyIH32rVrWbduHW45xgEGBwdz9OjREmuYiIhUDF9+aZn+XByffQZ33FGy7cnXkSPw7rswZw6cPWtZ5u0Nw4ZZngCEhV3GxoiIiMjVosiBd1ZWFmazOdfyI0eO4OPjUyKNEhGRimHxYkv28uJ48snLGHRv2GAZTv7ll5Zs5QChoZZge9gw8PO7TA0RERGRq1GR63h3796dGTNm2F6bTCYSExOZNGkSN910U0m2TUREyiGzGX75xVK2urhB9+OPX3oStgJlZMCiRdC+vaUE2OLFlsbfcAN8/TXs3QuPPaagW0REREpdkcuJHTt2jM6dO+Ps7MzevXtp06YNe/fuJTAwkN9//13lxERErlBmM7z4IkybZolpi+uJJ+D110uuXbnExlqGkr/7LlinQLm5weDBlvnbLVuW4s5Lhq5XIiIiV5YiDzWvWbMm27ZtY9GiRfz1119kZWUxfPhw7rrrLjyV+VVE5IpTUgG3m5sln9ltt5Vc2+xs324pB/Z//3exiHj16jByJDz0kOX/i4iIiJSBIvd4V2TqQRARKbz0dHjwQUuw7CC1R5H4+MCZM6VQnzsry1IG7K23LGXBrFq1grFjLVnf3N1LeKelT9crERGRK0uRe7wXLFiQ7/v33ntvsRsjIiLlw7hxluHgJfVodv78Eg66z5+Hjz+29HDv3WtZ5uQEAwZYAu7ISJUDExERkXKjyD3e/v7+dq8zMjJITk7Gzc0NLy8vzlrLs5RD6kEQESnYuHEll/jMycmS0+zWW0tmexw4ADNnwocfQkKCZZmfHzzwADzyCISElNCOypauVyIiIleWIvd4nzt3LteyvXv38vDDD/PUU0+VSKNERKRspKeXbLbxzz4rgaDbMOD33y3Dyb/5xjK8HKBBA0uytHvvtdTiFhERESmnihx4O1K/fn1efvll7r77bnbv3l0SmxQRkTIQFlYy2/HxsQwvHzjwEjaSlmaJ3GfMgG3bLi7v0cMynPzGGy1d6iIiIiLlXIkE3gDOzs4cO3aspDYnIiKX2WOPweHDl76d22+HhQvB2bmYGzhxAt57D2bPhlOnLMs8PS09248+aikgLiIiIlKBFDnw/vbbb+1eG4bB8ePHmTlzJpGRkSXWMBERuTzMZpg40dKxfCk8PS35zopdLuyvvyzDyT/7zDLmHaB2bcvc7QcegICAS2ugiIiISBkpcuB988032702mUxUrVqVLl268L///a+k2iUiIpfBkiVw110Xy14XR6NGlni5S5di9HKbzZZ522+9ZZnHbdWhg2U4+YAB4Opa/MaJiIiIlANFDryzrEltRESkQluyBG65pfif9/CABQuK2cMdFwdz51oylB88aFnm4mIZpz5mDLRtW/yGiYiIiJQzJTbHW0REKo6UlOIPCffwgKeftgxPL3IP93//WWpvz58PSUmWZQEB8NBDMHIk1KpVvEaJiIiIlGOFCrwff/zxQm/wjTfeKHZjRESk9D3xBBT3VH3LLZa63EUKuA0DVqywDCf//vuLy5s0sQwnv+suywRxERERkStUoQLvrVu3FmpjJpPpkhpTkN9//53XXnuNLVu2cPz4cb7++utcc85FRMSxlBQIDobTp4v3+fBw+PLLInwgORk+/dQScO/YYVlmMkHv3paAu0sXy2sRERGRK1yhAu+VK1eWdjsKJSkpiRYtWnDfffdxy6VMTBQRuYqkp0NEBOzcWfxtuLvD9u2FXPnIEZg1C95/H86etSzz9ob77oPRo6F+/eI3RERERKQCqlBzvHv16kWvXr3KuhkiIhXGpQwrz+6TTwoxvHzDBkvv9hdfWLKVA4SEWGpvDxsGfn6X3hARERGRCqhYgfemTZv44osviImJId1aa/WCJUuWlEjDRETk0rRpA1u2XPp2nnoKbr01jzczMuCrryxFwDduvLj8hhssw8n79i1GBjYRERGRK0uRA+/PPvuMe++9lx49erB8+XJ69OjB3r17OXHiBAMGDCiNNhZbWloaaWlpttcJCQll2BoRkcsjPR1q1IBz5y59W599Bnfc4eCN2FiYMwfefReOHrUsc3ODwYMt5cBatrz0nYuIiIhcIZyK+oFp06bx5ptvsmzZMtzc3HjrrbfYtWsXt99+O3Xr1i2NNhbb9OnT8fPzs/2rU6dOWTdJRKRUjRtnmY9dEkH35587CLp37IAHH4TateGZZyxBd/XqMGUKxMTARx8p6BYRERHJociB9759++jduzcA7u7uJCUlYTKZeOyxx5gzZ06JN/BSTJgwgfj4eNu/w4cPl3WTRERKzRNPwGuvXfp2XF0to8dtdb6zsixlwLp3h6ZN4YMPIDXVkrFtwQI4dAief94SgIuIiIhILkUeal6lShXOnz8PQK1atdi+fTvNmjUjLi6O5OTkEm/gpXB3d8fd3b2smyEiUmrMZvjxRxg61DL6+1LZ1elOTIT58+Htt2HvXssKTk4wYIBlOHnHjioHJiIiIlIIRQ68o6KiWL58Oc2aNeP2229nzJgx/PbbbyxfvpyuXbuWRhttEhMTiY6Otr0+cOAA27Zto0qVKuVumLuISGlKT7ckCv/005Lbpm0+94EDMHMmzJ0L8fGWN/384P77YdQoS6ZyERERESk0k2EYRmFW3LZtGy1btuTs2bOkpqZSs2ZNsrKyeP3111m7di1hYWFMnDgRf3//UmvsqlWr6Ny5c67lQ4YMYf78+QV+PiEhAT8/P+Lj4/H19S2FFoqIlL6SKhFmVakSLPjYYGDVNZbs5N98YxleDtCggaUc2JAhllrcclnoeiUiInJlKXTg7eTkREREBPfffz+DBw/GrwLWY9WNjIhUdNdeC5s3l8y2ataEj+ek0eXUZzi9PQO2bbv4Zo8eluHkPXtahpfLZaXrlYiIyJWl0HdT69ato1WrVowfP56goCDuvvtuVq5cWZptExGRC8xmCAsruaB74oMnOfrAZLoNq4vTsKGWoNvT05KxfPt2+PlnuOkmBd0iIiIiJaDQPd5WKSkpfP7553z00UesWbOGkJAQhg0bxpAhQ6hdu3ZptbNEqAdBRCoih2W9iqklW/n6hrcIWb/IMlEcLKXBHnkEHngAAgJKZkdySXS9EhERubIUOfDObt++fXz00UcsWLCA48eP0717d3744YeSbF+J0o2MiFQ0ffvCsmWXtg0nzPTjWyZ4zKBt6u8X32jfHsaOhYEDLTXEpNzQ9UpEROTKckmBN1gyjX/66ac888wzxMXFYTabS6ptJU43MiJSkVxzDezfX/zP+xHHMOYxmncI5aBloYuLpUD3mDHQrl2JtFNKnq5XIiIiV5YilxOzWr16NfPmzeOrr77C2dmZ22+/neHDh5dk20RErkrp6VC9OsTFFe/zYezlUd7mPj7CmyTLwoAAeOghGDkSatUqsbaKiIiISMGKFHgfPnyY+fPnM3/+fA4cOMB1113HO++8w+23306lSpVKq40iIleNxx6zVPQqOoOu/MpYZtCH721Ljwc0IejlsXDXXZbkaSIiIiJy2RU68O7evTsrV66katWq3HvvvQwbNoyGDRuWZttERK4q9erBgQNF+4wHKdzNJ4zhLZqyw7Y8ulEfgv83hqCeXcFkKuGWioiIiEhRFDrw9vT05KuvvqJPnz44OzuXZptERK46Hh6Qllb49WtxhJHM4kHmEEgsAEmmSng8PAznsaMJq1+/lFoqIiIiIkVV6MD722+/Lc12iIhclcxmS0Lxwqa5bMtGxjKDW/kSVzIBOEAIS2uP5rF/h0HlyqXXWBEREREpFqeyboCIyNXq888tScYLCrpdyOAOPmM97dlIe+7kM1zJZBU3MIAlzBwTzWOHH1fQLSIiIlJOFTuruYiIFF+fPvD99/mvU4VYHmQOj/AutTkKQBpuLOJO3mIM/3lFcO4cuLldhgaLiIiISLEp8BYRucyqV4dTp/J+vzE7GMNb3M0neJECwAmqM5uHeY8RnKI6LVtC0tbL014RERERuTQKvEVELqOqVeHMmdzLTWTRix8Zw1v0YLlt+V9EMIOxLOYO0nEHoHVr2Lz5crVYRERERC5VoQLvoiRW69evX7EbIyJyJUpPh5dfhkmTcr9XiUSGMp9HeZsG7AXAjBNLuZkZjGUtHYGL5cAeewzeeOMyNVxERERESkShAu+bb77Z7rXJZMLIlg3IlK1GrNlsLpmWiYhUcOnp0KULrFuX+71gDjKKmdzPh1QmHoA4/PiQ+5nJKA4RYrd+5cpw8qTmc4uIiIhURIXKap6VlWX798svv9CyZUt+/PFH4uLiiI+P54cffqBVq1b89NNPpd1eEZFyLz0dIiPB3T1n0G0Qxe98yS3s4xqe5H9UJp7/qM8jzKQ2R3iK13MF3b17oyRqIiIiIhVYked4jx07lvfee4+OHTvalt144414eXnx4IMPsmvXrhJtoIhIRZFXD7cbadzBYsYyg1ZczIj2C92ZwVh+oidGHs9BNbRcREREpOIrcuC9b98+/Pz8ci338/Pj4MGDJdEmEZEKZ+RImD3bflk1TjKC93iY2dTgJAApeLCAe3mbR9lJk3y3+fnncNttpdViEREREblcihx4X3vttYwdO5ZPPvmEoKAgAE6cOMETTzxB27ZtS7yBIiLlVUoKPPAAfPqp/fKWbGUMb3Eni3AnHYAj1GImo/iABzhLQL7bdXKy9J47O5dWy0VERETkcipy4D1v3jwGDBhAcHAwdevWBSAmJoYGDRqwdOnSkm6fiEi5k54OzZvDnj0Xlzlhph/fMpYZ3MDvtuXrac8MxrKEgWTiWuC2q1SB2NjSaLWIiIiIlJUiB95hYWH8888/LF++nN27d2MYBo0bN6Zbt2522c1FRK5EDz8M77138bUv8QxnLqN5h1AOApCBC19wG28xhj9pV+htBwQ4rvEtIiIiIhWbycheF6yIUlNTcXd3rzABd0JCAn5+fsTHx+Pr61vWzRGRCiI9HaZOhRdfvLgsjL08ytsMZT4+JAIQSxXe5yFmMZKj1C7SPkJDYf/+kmy1VGS6XomIiFxZClVOLLusrCxefPFFatWqhbe3NwcOHABg4sSJzJ07t8QbKCJSVhITISTEUhbMEnQbdGUF39KXPTRkNDPxIZEdNOYB5lCHwzzLtCIH3Z98oqBbRERE5EpW5MB76tSpzJ8/n1dffRW3bEVlmzVrxocffliijRMRKQuJieDnBz4+cOgQeJDC/XzAvzRjBd3pyzKcMFhGb7qxnKZs50MeIAWvQu/D2Rm++QYyM+Guu0rxy4iIiIhImSvyHO8FCxYwZ84cunbtyogRI2zLmzdvzu7du0u0cSIil1NKCtSuDWfPWl7X5CiP8C4PModALBnPEqnER9zHO4xmLw2KvA93d8s8bm/vkmy5iIiIiJRnRQ68jx49SlhYWK7lWVlZZGRklEijREQup9OnLQF3uqXyF23ZyBje4ja+wJVMAA4QwjuMZh7DiKdykffh6mrZj59fCTZcRERERCqEIgfeTZo0Yc2aNQQHB9st/+KLL4iIiCixhomIlLazZyEwEAwDXMjgdpYwlhl0YINtndVczwzG8i39yKLohbWdnCz7UcAtIiIicvUqcuA9adIk7rnnHo4ePUpWVhZLlixhz549LFiwgGXLlpVGG0VESlR8vCXgzsyEKsTyAB8wipnU5igAabixiDt5izFso/gPFGNjLXW5RUREROTqVuTAu2/fvixevJhp06ZhMpl4/vnnadWqFd999x3du3cvjTaKiJSIo0ctQ8oBGrODR3mbe/g/vEgB4CTVmMVI3mMEp6he7P0cPw41apREi0VERETkSlCkwDszM5OXXnqJYcOGsXr16tJqk4hIiUlJgXvvhS+/BBNZ9OInxjKDHiy3rfMXEcxgLIu5g3Tci70v9XCLiIiIiCNFKifm4uLCa6+9htlsLq32iIhcspQUuO02MJnAywt+/DKRkbzLLhrxA73pwXLMOPEVA7me1bRmC//HvcUOuk+dsswTV9AtIiIiIo4Ueah5t27dWLVqFUOHDi2F5oiIFN/p01CrFlgLLARzkFHM5H4+pDLxAMThx4fcz0xGcYiQS9rfkSOW/YmIiIiI5KfIgXevXr2YMGEC27dvp3Xr1lSqVMnu/X79+pVY40RECiN7dnIw6MhaxjKDm1mKM1kA/Ed93mIMHzOEJC6tiPapU1C16qW3W0RERESuDibDsNyqFpaTU96j000mU7kehp6QkICfnx/x8fH4+vqWdXNE5BIdOAD16ln+vxtp3MFixjKDVmy1rfML3XmLMfxIL4yiza7JRXO45XLR9UpEROTKUuQe76ysrNJoh4hIoezcCU2aXHxdjZOM4D0eZjY1OAlACh78H/fwNo+yg6aXvE8F3CIiIiJyKYoceGeXmpqKh4dHSbVFRMSh6GioX99+WQu2MYa3GMxC3EkH4Ai1eJdH+IAHiCXwkvbp7GwpC6Yh5SIiIiJyqYo87tJsNvPiiy9Sq1YtvL292b9/PwATJ05k7ty5Jd5AEbn6pKTAwIGWrOQm08Wg2wkz/VnKSjqxjQjuYz7upLOe9gxiEaEc4GUmXFLQ7eQE589DZqaCbhEREREpGUUOvF966SXmz5/Pq6++ipubm215s2bN+PDDD0u0cSJyddmz52IJsK+/vrjcl3ge4w32Up+lDKATq8nAhUUMoj3ruY71LGYQmbhe0v5jY8FsBu9Ly70mIiIiImKnyIH3ggULmDNnDnfddRfOzs625c2bN2f37t0l2jgRufLFx0OzZpaAOzzc/r0w9vIWj3KE2rzBE9TjALFUYRoTCOUAg1nERtpf0v59fS0Bt+pwi4iIiEhpKfIc76NHjxIWFpZreVZWFhnW4rkiIgXImSTtIoMu/MZYZtCb73HCUnhhB42ZwVg+5S5S8Lrk/T/zDEyaBNkG7oiIiIiIlIoiB95NmjRhzZo1BAcH2y3/4osviIiIKLGGiciVJz0dxo+HN9/M/Z4HKdzFp4zhLZqx3bZ8Gb15izGsoBtguqT9e3nBrl1Qt+4lbUZEREREpEiKHHhPmjSJe+65h6NHj5KVlcWSJUvYs2cPCxYsYNmyZaXRRhGp4BxlJbeqyVFGMouHeJ9AYgFIpBIfcR/vMJq9NLjk/R86pGBbRERERMpOkQPvvn37snjxYqZNm4bJZOL555+nVatWfPfdd3Tv3r002igiFVBiIvTrBytXOn7/Wv5kLDO4jS9wJROAgwTzNo8yj2HEU/mS26D62yIiIiJSHpgMwzDKuhGXS0JCAn5+fsTHx+Pr61vWzRG5IiUmQlCQ5X9zciGDgSxhLDPowAbb8tVcz1uM4Vv6YS7680A7Xl5w8KBKgUnFpuuViIjIlaXIWc1FRPLSvDn4+OQOuqsQy9O8zH7qsZhBdGADabgxnyFE8BedWM3XDLykoPvppyEtDZKSFHSLiIiISPlSqLtcf39/TKbCJTU6e/bsJTVIRCqemBjIkW8RgEbsZAxvcQ//hxcpAJykGrMYyXuM4BTVL2m/O3ZA48aXtAkRERERkVJXqMB7xowZtv8fGxvL1KlTufHGG+nQoQMA69ev5+eff2bixIml0sjsZs2axWuvvcbx48dp0qQJM2bMICoqqtT3KyK5bdsGOYsZmMiiJz8xlhn0YLlt+VZaMoOxfMYg0nEv9j6fegqmTlUZMBERERGpOIo8x/uWW26hc+fOjBo1ym75zJkzWbFiBUuXLi3J9tlZvHgx99xzD7NmzSIyMpL333+fDz/8kJ07d1K3ECmLNWdO5NIlJkLfvrBqlf3ySiQyhI95lLdpyH8AmHHiG/ozg7GsIYrilANzcrJkRQ8NvfS2i1QUul6JiIhcWYoceHt7e7Nt2zbCwsLslu/du5eIiAgSHWVUKiHt2rWjVatWzJ4927asUaNG3HzzzUyfPr3Az+tGRuTStGkDW7bYL6v7/+3deXyU1d3//9ckkLAjsithEW4QymIFS0FRsMp2V0EUAQVEqQiyJF9say1FXL5Wu/g1AYqiVqJ15VZAiopQb3ABAaHEBVBQwCiLCMgi0kSG+f0xP0bDmmWGyfJ6Ph48ZM51zbk+1wQJ75xzncPnjGEqN/MYZ7AXgL1U43F+xVTGsJnCJWZHtlWW+f1KkqTSpcArGdWsWZPZs2fzm9/8Jk/7nDlzqFmzZtQKO1pubi6rVq3id7/7XZ727t27s3Tp0uO+Jycnh5ycnMjrffv2xaw+qbTLu2haiIt4h1QyuIrZJHIYgPX8F5MZx5PcwLdULfA1ypcPj26757YkSZJKkwIH77vvvpvhw4ezePHiyDPey5YtY/78+Tz++ONRL/CInTt3EgwGqVs372JMdevWZfv27cd9z/3338/dd98ds5qksmDLFmjQIPz7JHIYwAukkkF7/h05ZyGXkU4ar9GLUCE2S3jsMbjxRkhMjFbVkiRJUvFR4OA9bNgwWrZsyeTJk5k1axahUIhWrVqxZMkSOnbsGIsa8zh6dfVQKHTCFdfvuOMOxo8fH3m9b98+UlJSYlqfVBoc/Rx3bXYwkke4lWnU4ysADlKBfzCEyYxjDa0LdR1XJZckSVJZUKDg/f333zNixAgmTpzIM888E6uajqtWrVokJiYeM7q9Y8eOY0bBj0hOTiY5ufCrJ0tlTW5ueJr3V+FsTTuySCWD63iWZHIB2MJZTGUMj3Ezu6hV4Gt07Qr//CdUqRLFwiVJkqRirEBzQsuXL8/s2bNjVctJJSUl0b59exYuXJinfeHChXTu3DkuNUmlyYgRkJwMX38VpA9zWERXsvgpN5JJMrksoyMDeY7GbOYB7ihw6N6wAUIhWLTI0C1JkqSypcBTza+66irmzJmTZwr36TJ+/HiGDBlChw4d6NSpE48++ijZ2dmMHDnytNcilRbZ2dCoEVRjL2k8wVimcA6bADhEIv9DfzJIZTk/L1T/LVvC2rXRrFiSJEkqWQocvJs1a8a9997L0qVLad++PZUrV85zfNy4cVEr7mgDBgxg165d3HPPPWzbto3WrVvz6quv0qhRo5hdUyqtDh6ESpWgGRvIYAo3MoOqhJct38WZTOcWpnErW2hQqP4DAdi3z9FtSZIkqcD7eDdpcuI9eQOBABs3bixyUbHivqhSePT5Jz8JcSn/Sxrp/DevkED4r4E1tCKDVJ5mMAepVKj+mzaFFSvgzDOjWbVUtvj9SpKk0qXAI96bNm2KRR2SYmjvXrjoIvj0o4NczzN8QAZt+ChyfB7/TQap/IvLgOPvEnAqq1fDeedFp15JkiSpNClw8D5i586dBAIBatasGc16JEXJ7t3hIPzFF3AWW7iVadzCdGqxC4BvqUwmw5jMODbQvEjXKti8GUmSJKlsKdCq5nv27GH06NHUqlWLunXrUqdOHWrVqsWYMWPYs2dPjEqUlF/bt4ef2w4EoGZNqPfFCp7hOjbTmAn8kVrsYjONuI2/0oAvGcvUIoXu6683dEuSJEmnku8R7927d9OpUye2bNnC9ddfT8uWLQmFQqxbt47MzEzeeOMNli5dSo0aNWJZr6Sj7N0LXbrAhx+GX5fje65lFqlk0Jl3I+e9RRfSSWMuVxIs/GQXABIT4bvvICmpSN1IkiRJZUK+//V9zz33kJSUxGeffUbdunWPOda9e3fuueceHnrooagXKSmvI1uA/VgNdnMzjzGGqaTwJQA5JPE8A8kgldWcX+TrunCaJEmSVHD5XtW8cePGTJ8+nR49ehz3+Pz58xk5ciSbN2+OZn1R5SqxKql274bzz4fPPz/2WEvWMo7JDOUpKnEQgK+ow8OM4hFG8hX1inz9DRugWbMidyMpn/x+JUlS6ZLvEe9t27bxk5/85ITHW7duzfbt26NSlCTYtAnOOef4xwIcpifzSSWDHiyItK/mPNJJ43kGkktykWto0QI+/rjI3UiSJEllWr6Dd61atdi8eTMNGjQ47vFNmza5wrlUSMEgPPssDB168vMq8y1DeYpUMmjBegAOE2AOfUknjbfpQmG3A/ux8uXDo+xVqhS5K0mSJKnMy3fw7tmzJxMmTGDhwoUkHbWiUk5ODhMnTqRnz55RL1AqzU42qv1jDfmcMUzlZh7jDPYCsJdqPM6vmMoYNtMkajXt2QPVq0etO0mSJKnMy/cz3l9++SUdOnQgOTmZ0aNHc+655wKwdu1apk2bRk5ODitXriQlJSWmBReFz8wp3nbvhg4dwoH71EJcyBLSSOcqZpPIYQA20IwMUnmSG/iWqlGpKxCAdevCU8slxZ/fryRJKl3yPeLdoEED3n33XW699VbuuOMOjuT1QCDA5ZdfztSpU4t16JbiacsWOMFTGsdIIodrmUka6bTn35H2hVxGBqm8Sm9CJESlrr//HW64Ibw9mCRJkqTYKNBmvk2aNOG1117jm2++YcOGDQA0a9aMM91bSDrGli3h7bdycvJ3fm12MJJHGMXD1Ce8UOFBKvAPhjCZcayhdVTqqlQpPLrdsGFUupMkSZJ0CgUK3kfUqFGDn/3sZ9GuRSqxgkGYOROuvx7y9/DGD9qRRSoZXMezJJMLwBbO4m+M5lFGsItaRa6vZk346COoV/SdxSRJkiQVUKGCt6SwvXvD+2tv3Fiw9yUQ5Ar+SSoZdGNxpH05PyOdNF7kGg5Rvki1NWsGy5eDE1IkSZKk+DJ4S4WwfTucdVbBR7ersZebeIKxTOEcwiusHSKRF7mGdNJYzs+LVFe1arB2LZx9dpG6kSRJkhRFBm8pn7Zvh3PPDY9yF1RTPmUsU7iJJ6jKtwDspgbTuYVp3MqXFH5hwkGDwoukVaxY6C4kSZIkxZDBWzqBgwfh5pvhmWcK20OIS/lfUsngl8wjgfDw+BpakUEqTzOYg1QqcK9OIZckSZJKFoO39CMHD8KoUfDkk4XvowIHuY5nSSOdNnwUaX+F3qSTxr+4DAjku79AAO64AyZNgqSkwtclSZIkKT4M3hLw7bfhrb927Ch8H/XZyq1MYySPUItd4X6pTCbDmMJY1tMiX/2UKwfr10OTJoWvRZIkSVLxYfBWmbZ3b3iRtO++K3wfF7CCVDK4lpmU5xAAm2nEFMbyd4azlzNO2Ue5cvDUU3DttZCYWPhaJEmSJBU/Bm+VOcEgvPwy9O8Phw8Xro9EDtGPWaSRTmfejbS/RRcySOVl+hA8xf9e55wD//43VK9euBokSZIklQwGb5UpTz4Jw4YV/v012M3NPMYYppLClwDkUp7nGEQGqazm/JO+PzExvFjbNdc4si1JkiSVFQZvlXrBIMybB1ddVfB9t49oyVrGMZmhPEUlDgLwFXV4mFE8wki+ot4J31uxYjjw9+tn2JYkSZLKIoO3Sp3cXPh//w+mToUtWwrfT4DD9OB10kinBwsi7as5jwxSeZ6B5FDhmPclJISvW+/EWVySJElSGWLwVqlx8CB07Agffli0firzLUN5inFM5lw+AeAwAV6mD+mk8RYXc7ztwHr0gBdfhCpVinZ9SZIkSaWLwVslUjAIr70GEybA2rVw6FDR+2zI54zmb9zMY9RgDwB7qcbfGc5UxrCJc455T+3a8MEHjm5LkiRJOjGDt0qM3FxIT4fJk4s2hTyvEBeyhFQy6McsEgkvc76BZkxmHJkM41uq5nlHSgqsWhUO3ZIkSZJ0KgZvFWsHD0Jqangl8KLstX208uQygBdIJYMOrIq0/4tfkE4ar9KbEAmR9l69YOZMp5FLkiRJKjiDt4qdYBAWLIAhQ2DXruj2XZsd3MJ0bmUa9dkOwEEq8DSDmcw4PqJN5NzGjcPPixu2JUmSJBWFwVvFRjAIkybBH/9Y+G2/TqQt75NKBtfxLBXIAWALZ/E3RvMoI9hFrci5gwZBZiYkJUW3BkmSJEllk8FbcZebCzffDE89Fd1+EwhyBf8klQy6sTjSvpyfkU4aL3INhygPQLly8NJL8N//7V7bkiRJkqLL4K24yc2F7t3hzTej229V9nETTzCOyZzDJgAOkciLXEM6aSzn55FzK1SAr792OrkkSZKk2DF467TJzQ2vSD5rFnz0EezfH93+m/IpY5nCTTxBVb4FYDc1mM4tTONWviQlcm6lSrB1K1SvHt0aJEmSJOloBm/FXDAIAwfCiy/GovcQ3VhEGun8knkkEH44fC0tySCVfzCEg1QCoGJF6NYNXnjBEW5JkiRJp4/BW1EXDMIbb8CMGbBkCXzxRfSvUYGDXMezpJJBWz6MtL9Cb9JJ419cBgS47DKYOzccuiVJkiQpHgzeKrLcXJg6Fd56CzZuhDVr4PDh2FyrPlu5lWncwnRqsxOAA1RiBjcyhbF8UbEFLVrAq38MPz/uQmmSJEmS4s3grQL7cdDOyoLPP4/9NTvwHmmkcy0zKc8hADbTiMeTx1Dr9uHcOqEGY9z+S5IkSVIxZPBWvgWDcN11MHPm6bleIofoxyxSyeBClkbaV1W8iC+uTqP39D7830r+EZYkSZJUvJladFLBICxeDNOmwZw5sZtC/mM12M2veJwxTKUh4QfEvw+UJzBoIOXGp9K+fXvax74MSZIkSYoKg7fyOBK0//d/4Z13YMUK+M9/Ts+1z2Ud45jMDTxJJQ4CsDe5NlV/M4ryo0dBvXqnpxBJkiRJiiKDtyJmzYIRI2DXrtN3zQCH6cHrpJJBT16PtO+o344z70mj+uCBUKHC6StIkiRJkqLM4F3GBIPw9tuwZQt8/TXUrBn+75Il4eB9ulTiAEN5ilQyOJdPADhMgNAVfUi8LY06F18MgcDpK0iSJEmSYsTgXUodL2AvWgQvvwy7d8evrhSyGcNUbuYxarAHgJwK1Sg3YjiJqWPgnHPiV5wkSZIkxYDBu4Q7ErC3bYM6dcJt8+bBM8+EA3fxEOJClpBKBlcxm3IEw81Nm0JqKsnDhkHVqnGtUJIkSZJixeBdAvw4XNevD507w9Kl4dHr4hWw8ypPLtcyk18npnNecFWkPXTpLwj8nzTo3RsSEuJXoCRJkiSdBgbvYm7WLEhNhS+//KEtMTEcxoujhAS4qPkObmE6V26ZRpX92yEIJCfDkCEwbhyBNm3iXaYkSZIknTYlJnjfd999vPLKK2RlZZGUlMSePXviXVLMzZoF11wDoVDe9uIUugMBuPBCuPhiuLLR+1zwbgYJzz0LOTnhE846C269Nbxceu3a8S1WkiRJkuKgxATv3Nxc+vfvT6dOnfj73/8e73JiLhgMj3QfHbqLi4oV4be/hYm/D5L42jxIT4c/Lv7hhAsugLS08E8OkpLiVKUkSZIkxV+JCd533303AJmZmfEt5DR5++2808vjLTkZOnaEiy6CSy+FrufvI/HJJ6DlFNi4MXxSYmI4aKemws9/7nZgkiRJkkQJCt6FkZOTQ86RKc/Avn374ljNqf14EbW1a+NdzQ8mTYKJE8O5mk8/hSlT4KoZsH9/+IQaNcJTyUePhpSUuNYqSZIkScVNqQ7e999/f2SkvDg4enXyLl3+/zDL8RdRi7eUlPAM8n5XhcKbgGdkwD//+cP895Ytw0UPHgyVK8e1VkmSJEkqruIavO+6665TBuP33nuPDh06FKr/O+64g/Hjx0de79u3j5Q4jcgeL1g3aBDOsnD8RdRiqUYN6NMnPG38669h165w+5lnQr16cPbZ0OWC/5D4wrPQLh0+/PCHN/fqFX5++/LLnU4uSZIkSacQ1+A9ZswYBg4ceNJzGjduXOj+k5OTSU5OLvT7T+RkI9fHc6LVybdsgauvhpo1YxO6a9eGQYOgSZPwNXbtCredffYpat66FR5+GPo/Ajt3htsqVYJhw2DcOGjRIvrFSpIkSVIpFdfgXatWLWrVqhXPEgrsZCPX/fode/7JVic/0nZktDm/jt7Hu3ZtuP56+OUvw6937MjfDwSO8d574Rt54QU4dCjc1rAhjB0Lw4eHh8klSZIkSQVSYp7xzs7OZvfu3WRnZxMMBsnKygKgWbNmVKlS5bTUcLKR62uugRdfPDZ8R2t18j/8AVq1Cgfqzp1h6dL8j7if1KFDMHt2+GHupUt/aL/oovB08j59oFyJ+WMiSZIkScVOIBQqrjtF5zVs2DCefPLJY9oXLVpE165d89XHvn37qF69Onv37qVatWoFun4wCI0bnzhEBwLhke9Nm/KG4Oeeg+uuK9CljmvRIsjnbebP7t3w+OMwdSp88UW4rXx5GDgwPETfvn0ULyZJKoiifL+SJEnFT4kJ3tFQlH/ILF4M3bqd+ryjA3J+33ciJwr0hbZuHUyeDE89Bd99F26rXRtGjYKRI8ND6JKkuDJ4S5JUujiHOJ+2bSvceV26hIPzli3Hf847EAivJL57d/j1j885smB4enoRQ/fhw7BgQbij11//ob1du/B08oEDoUKFIlxAkiRJknQiCfEuoKTI70Dw0eclJv6wZdjRO28def3oo+Hnw88+O+/xBg2O/9x4vh04EF6dvFWr8BZgr78evmjfvuGh+dWrwyuVG7olSZIkKWacap5PR57xPtnI9cmmhB9vNfSUlPAg9JFgXdBtyk4oOzv87PZjj8GePeG2qlXDK5OPHQvnnFOITiVJp4tTzSVJKl0M3gVwZFVzOP6U8FONTkctWB9PKBRelTw9PbxK+ZH9xpo2De+9PWwY+I83SSoRDN6SJJUuPuNdAP36hcP18fbx/vHI9YkkJkZ5ZXKA3FyYOTM8n33lyh/aL700/Px2795RTPeSJEmSpIIyeBdQv37hra1jNnKdXzt2wPTpMG0abN8ebktOhsGDwz8ZaNPmNBckSZIkSToeg3chxGTkOr8++CA8uv3MM5CTE26rXx9Gj4YRI8Jbg0mSJEmSig2Dd0kQDMK8eeHAvWjRD+0XXBCeTn7NNZCUFLfyJEmSJEknZvAuzvbtgxkzYPJk2Lgx3JaYCFdfHQ7cP//5sXuUSZIkSZKKFYN3cfTZZzBlCjzxBOzfH26rUSM8lXz06PA+ZJIkSZKkEsHgXVyEQrB4cXh59H/+84f9ylq2DC+WNngwVK4czwolSZIkSYVg8I63//wHnn02/Pz2Bx/80N6rV3g6+eWXO51ckiRJkkowg3e8bN0KDz8MjzwCO3eG2ypVgmHDYOxYOPfcuJYnSZIkSYoOg/fptnJleDr5zJnw/ffhtoYNYcwY+NWvws9yS5IkSZJKDYP36XDoEMyeHZ5OvmTJD+0XXRR+frtvXyjnl0KSJEmSSiPTXix98w089hhMnQpffBFuK18eBgwIB+4OHeJbnyRJkiQp5gzesbBuXXjv7aeegu++C7fVrg0jR8KoUVC/fnzrkyRJkiSdNgbvaDl8GBYsCE8nnz//h/a2bcOrkw8aBBUqxK08SZIkSVJ8GLyL6sAB+Mc/woH744/DbYEAXHllOHBfconbgUmSJElSGWbwLqzsbPjb3+DRR2HPnnBb1aowfHh4hfKmTeNaniRJkiSpeDB4F8bBg9CmDezbF37dtCmMGxfeg7tatbiWJkmSJEkqXgzehVGxIgweHJ5anpYGvXtDYmK8q5IkSZIkFUMG78LKyHDvbUmSJEnSKSXEu4ASy9AtSZIkScoHg7ckSZIkSTFk8JYkSZIkKYYM3pIkSZIkxZDBW5IkSZKkGDJ4S5IkSZIUQwZvSZIkSZJiyOAtSZIkSVIMGbwlSZIkSYqhcvEu4HQKhUIA7Nu3L86VSJJ0Yke+Tx35viVJkkq2MhW89+/fD0BKSkqcK5Ek6dT2799P9erV412GJEkqokCoDP04/fDhw2zdupWqVasSCATiXc5J7du3j5SUFL744guqVasW73JiwnssHUr7PZb2+wPvsTgKhULs37+fs846i4QEnwqTJKmkK1Mj3gkJCTRo0CDeZRRItWrVSsQ/EovCeywdSvs9lvb7A++xuHGkW5Kk0sMfo0uSJEmSFEMGb0mSJEmSYsjgXUwlJyczadIkkpOT411KzHiPpUNpv8fSfn/gPUqSJMVamVpcTZIkSZKk080Rb0mSJEmSYsjgLUmSJElSDBm8JUmSJEmKIYN3CXHllVfSsGFDKlSoQP369RkyZAhbt26Nd1lRsXnzZoYPH06TJk2oWLEiTZs2ZdKkSeTm5sa7tKi677776Ny5M5UqVeKMM86IdzlRMW3aNJo0aUKFChVo3749b7/9drxLiqq33nqLK664grPOOotAIMCcOXPiXVJU3X///VxwwQVUrVqVOnXq0LdvXz755JN4lxVVDz/8MG3bto3s392pUydee+21eJclSZLKGIN3CdGtWzdmzpzJJ598wksvvcRnn33GNddcE++youLjjz/m8OHDTJ8+nTVr1vDQQw/xyCOP8Pvf/z7epUVVbm4u/fv3Z9SoUfEuJSpeeOEF0tLSmDBhAqtXr6ZLly706tWL7OzseJcWNQcOHKBdu3ZMnTo13qXExJtvvsno0aNZtmwZCxcu5NChQ3Tv3p0DBw7Eu7SoadCgAQ888AArV65k5cqVXHrppfTp04c1a9bEuzRJklSGuKp5CTV37lz69u1LTk4O5cuXj3c5UfeXv/yFhx9+mI0bN8a7lKjLzMwkLS2NPXv2xLuUIunYsSPnn38+Dz/8cKStZcuW9O3bl/vvvz+OlcVGIBBg9uzZ9O3bN96lxMzXX39NnTp1ePPNN7n44ovjXU7MnHnmmfzlL39h+PDh8S5FkiSVEY54l0C7d+/mmWeeoXPnzqUydAPs3buXM888M95l6ARyc3NZtWoV3bt3z9PevXt3li5dGqeqVFR79+4FKLX/7wWDQZ5//nkOHDhAp06d4l2OJEkqQwzeJcjtt99O5cqVqVmzJtnZ2bz88svxLikmPvvsM6ZMmcLIkSPjXYpOYOfOnQSDQerWrZunvW7dumzfvj1OVakoQqEQ48eP56KLLqJ169bxLieqPvzwQ6pUqUJycjIjR45k9uzZtGrVKt5lSZKkMsTgHUd33XUXgUDgpL9WrlwZOf83v/kNq1evZsGCBSQmJjJ06FCK85MCBb0/gK1bt9KzZ0/69+/Pr371qzhVnn+FucfSJBAI5HkdCoWOaVPJMGbMGD744AOee+65eJcSdS1atCArK4tly5YxatQobrjhBtauXRvvsiRJUhlSLt4FlGVjxoxh4MCBJz2ncePGkd/XqlWLWrVq0bx5c1q2bElKSgrLli0rtlMmC3p/W7dupVu3bnTq1IlHH300xtVFR0HvsbSoVasWiYmJx4xu79ix45hRcBV/Y8eOZe7cubz11ls0aNAg3uVEXVJSEs2aNQOgQ4cOvPfee2RkZDB9+vQ4VyZJksoKg3ccHQnShXFkpDsnJyeaJUVVQe5vy5YtdOvWjfbt2zNjxgwSEkrGZIyifA1LsqSkJNq3b8/ChQu56qqrIu0LFy6kT58+caxMBREKhRg7diyzZ89m8eLFNGnSJN4lnRahUKhY/90pSZJKH4N3CbBixQpWrFjBRRddRI0aNdi4cSN33nknTZs2Lbaj3QWxdetWunbtSsOGDfnrX//K119/HTlWr169OFYWXdnZ2ezevZvs7GyCwSBZWVkANGvWjCpVqsS3uEIYP348Q4YMoUOHDpFZCtnZ2aXq2fxvv/2WTz/9NPJ606ZNZGVlceaZZ9KwYcM4VhYdo0eP5tlnn+Xll1+matWqkRkM1atXp2LFinGuLjp+//vf06tXL1JSUti/fz/PP/88ixcvZv78+fEuTZIklSFuJ1YCfPjhh6SmpvL+++9z4MAB6tevT8+ePfnDH/7A2WefHe/yiiwzM5Mbb7zxuMdK0x/PYcOG8eSTTx7TvmjRIrp27Xr6C4qCadOm8ec//5lt27bRunVrHnrooVK1DdXixYvp1q3bMe033HADmZmZp7+gKDvR8/gzZsxg2LBhp7eYGBk+fDhvvPEG27Zto3r16rRt25bbb7+dyy+/PN6lSZKkMsTgLUmSJElSDJWMB2klSZIkSSqhDN6SJEmSJMWQwVuSJEmSpBgyeEuSJEmSFEMGb0mSJEmSYsjgLUmSJElSDBm8JUmSJEmKIYO3JEmSJEkxZPCWomDz5s0EAgGysrLiXUqBNG7cmPT09Kj117VrV9LS0qLWXzwEAgHmzJkDlNyvqyRJkooXg7d0CoFA4KS/hg0bFu8STykzM5MzzjjjmPb33nuPESNGnP6CioG77rqL884775j2bdu20atXr9NfkCRJkkqtcvEuQCrutm3bFvn9Cy+8wJ133sknn3wSaatYsSLffPNNPEojGAwSCARISCjcz9Bq164d5YpKvnr16sW7BEmSJJUyjnhLp1CvXr3Ir+rVqxMIBI5pO2Ljxo1069aNSpUq0a5dO9599908fS1dupSLL76YihUrkpKSwrhx4zhw4EDk+DfffMPQoUOpUaMGlSpVolevXmzYsCFy/MjI9bx582jVqhXJycl8/vnn5Obm8tvf/pazzz6bypUr07FjRxYvXgzA4sWLufHGG9m7d29klP6uu+4Cjp1qvmfPHkaMGEHdunWpUKECrVu3Zt68eQDs2rWLQYMG0aBBAypVqkSbNm147rnnCvx5PvDAA9StW5eqVasyfPhwfve73+UZeT7edPW+ffvmmVnw9NNP06FDB6pWrUq9evW47rrr2LFjR+T44sWLCQQCvPHGG3To0IFKlSrRuXPnyA9MMjMzufvuu3n//fcjn0lmZiaQd6r58axdu5bevXtTpUoV6taty5AhQ9i5c2fk+IsvvkibNm2oWLEiNWvW5LLLLsvzNZYkSVLZY/CWomjChAn8+te/Jisri+bNmzNo0CAOHToEwIcffkiPHj3o168fH3zwAS+88ALvvPMOY8aMibx/2LBhrFy5krlz5/Luu+8SCoXo3bs333//feSc7777jvvvv5/HH3+cNWvWUKdOHW688UaWLFnC888/zwcffED//v3p2bMnGzZsoHPnzqSnp1OtWjW2bdvGtm3b+PWvf31M7YcPH6ZXr14sXbqUp59+mrVr1/LAAw+QmJgIwH/+8x/at2/PvHnz+OijjxgxYgRDhgxh+fLl+f58Zs6cyaRJk7jvvvtYuXIl9evXZ9q0aQX+nHNzc7n33nt5//33mTNnDps2bTrulP8JEybw4IMPsnLlSsqVK8dNN90EwIABA7jtttv4yU9+EvlMBgwYcMrrbtu2jUsuuYTzzjuPlStXMn/+fL766iuuvfbayPFBgwZx0003sW7dOhYvXky/fv0IhUIFvkdJkiSVIiFJ+TZjxoxQ9erVj2nftGlTCAg9/vjjkbY1a9aEgNC6detCoVAoNGTIkNCIESPyvO/tt98OJSQkhA4ePBhav359CAgtWbIkcnznzp2hihUrhmbOnBm5PhDKysqKnPPpp5+GAoFAaMuWLXn6/sUvfhG64447Tlp3o0aNQg899FAoFAqFXn/99VBCQkLok08+yffn0bt379Btt90WeX3JJZeEUlNTT3h+p06dQiNHjszT1rFjx1C7du1O2kefPn1CN9xwwwn7XbFiRQgI7d+/PxQKhUKLFi0KAaF//etfkXNeeeWVEBA6ePBgKBQKhSZNmpTnukcAodmzZ4dCoR++rqtXrw6FQqHQxIkTQ927d89z/hdffBECQp988klo1apVISC0efPmE9YqSZKksscRbymK2rZtG/l9/fr1ASJToFetWkVmZiZVqlSJ/OrRoweHDx9m06ZNrFu3jnLlytGxY8dIHzVr1qRFixasW7cu0paUlJTnOv/+978JhUI0b948T99vvvkmn332Wb5rz8rKokGDBjRv3vy4x4PBIPfddx9t27alZs2aVKlShQULFpCdnZ3va6xbt45OnTrlaTv6dX6sXr2aPn360KhRI6pWrUrXrl0BjqnlZF+Pwli1ahWLFi3K8zmfe+65AHz22We0a9eOX/ziF7Rp04b+/fvz2GOPxe35f0mSJBUfLq4mRVH58uUjvw8EAkB4CveR/95yyy2MGzfumPc1bNiQ9evXH7fPUCgU6QvCi7n9+PXhw4dJTExk1apVkWnhR1SpUiXftVesWPGkxx988EEeeugh0tPTadOmDZUrVyYtLY3c3Nx8XyM/EhISjpma/eOp9gcOHKB79+50796dp59+mtq1a5OdnU2PHj2OqeVkX4/COHz4MFdccQV/+tOfjjlWv359EhMTWbhwIUuXLmXBggVMmTKFCRMmsHz5cpo0aVLo60qSJKlkM3hLp8n555/PmjVraNas2XGPt2rVikOHDrF8+XI6d+4MhBc0W79+PS1btjxhvz/96U8JBoPs2LGDLl26HPecpKQkgsHgSetr27YtX375JevXrz/uqPfbb79Nnz59GDx4MBAOoRs2bDhpbUdr2bIly5YtY+jQoZG2ZcuW5Tmndu3aeVaSDwaDfPTRR3Tr1g2Ajz/+mJ07d/LAAw+QkpICwMqVK/NdwxH5+UyOdv755/PSSy/RuHFjypU7/l+fgUCACy+8kAsvvJA777yTRo0aMXv2bMaPH1/gGiVJklQ6ONVcOk1uv/123n33XUaPHk1WVhYbNmxg7ty5jB07FoD/+q//ok+fPtx888288847vP/++wwePJizzz6bPn36nLDf5s2bc/311zN06FBmzZrFpk2beO+99/jTn/7Eq6++CoRXL//2229544032LlzJ999990x/VxyySVcfPHFXH311SxcuJBNmzbx2muvMX/+fACaNWsWGc1dt24dt9xyC9u3by/QZ5CamsoTTzzBE088wfr165k0aRJr1qzJc86ll17KK6+8wiuvvMLHH3/Mrbfeyp49eyLHGzZsSFJSElOmTGHjxo3MnTuXe++9t0B1HPlMNm3aRFZWFjt37iQnJ+eU7xk9ejS7d+9m0KBBrFixgo0bN7JgwQJuuukmgsEgy5cv549//CMrV64kOzubWbNm8fXXXxfohxOSJEkqfQze0mnStm1b3nzzTTZs2ECXLl346U9/ysSJEyPPHgPMmDGD9u3b88tf/pJOnToRCoV49dVX80yZPp4ZM2YwdOhQbrvtNlq0aMGVV17J8uXLIyPCnTt3ZuTIkQwYMIDatWvz5z//+bj9vPTSS1xwwQUMGjSIVq1a8dvf/jYyKjxx4kTOP/98evToQdeuXalXrx59+/Yt0GcwYMAA7rzzTm6//Xbat2/P559/zqhRo/Kcc9NNN3HDDTcwdOhQLrnkEpo0aRIZ7YbwiHhmZib/8z//Q6tWrXjggQf461//WqA6AK6++mp69uxJt27dqF27dr62RjvrrLNYsmQJwWCQHj160Lp1a1JTU6levToJCQlUq1aNt956i969e9O8eXP+8Ic/8OCDD9KrV68C1ydJkqTSIxA6+mFKSTqN7rrrLubMmUNWVla8S5EkSZJiwhFvSZIkSZJiyOAtSZIkSVIMOdVckiRJkqQYcsRbkiRJkqQYMnhLkiRJkhRDBm9JkiRJkmLI4C1JkiRJUgwZvCVJkiRJiiGDtyRJkiRJMWTwliRJkiQphgzekiRJkiTFkMFbkiRJkqQY+v8AhVDagT/p5wYAAAAASUVORK5CYII=",
      "text/plain": [
       "<Figure size 1000x700 with 3 Axes>"
      ]
     },
     "metadata": {},
     "output_type": "display_data"
    },
    {
     "data": {
      "image/png": "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",
      "text/plain": [
       "<Figure size 1000x700 with 3 Axes>"
      ]
     },
     "metadata": {},
     "output_type": "display_data"
    }
   ],
   "source": [
    "# Define the models\n",
    "models = {\n",
    "    'linear_regression': LinearRegression(),\n",
    "    'ridge_regression': Ridge(alpha=best_alpha),\n",
    "    'polynomial_regression_degree_2': make_pipeline(PolynomialFeatures(2), LinearRegression())\n",
    "}\n",
    "\n",
    "# Loop over the models\n",
    "for model_name, model in models.items():\n",
    "    # Fit the model and generate predictions\n",
    "    model.fit(X_train, y_train)\n",
    "    y_pred = model.predict(X_test)\n",
    "\n",
    "    # Calculate residuals\n",
    "    residuals = y_test - y_pred\n",
    "\n",
    "    # Create a figure for the plots\n",
    "    plt.figure(figsize=(10, 7))\n",
    "\n",
    "    # Plot predicted vs actual values\n",
    "    plt.subplot(221)\n",
    "    sns.scatterplot(x=y_pred, y=y_test)\n",
    "    plt.plot([min(y_test), max(y_test)], [min(y_test), max(y_test)], color='red')  # Add red line (y=x)\n",
    "    plt.xlabel('Predicted Values')\n",
    "    plt.ylabel('Actual Values')\n",
    "    plt.title(f'Predicted vs Actual Values ({model_name})')\n",
    "\n",
    "    # Plot residuals\n",
    "    plt.subplot(222)\n",
    "    sns.scatterplot(x=y_pred, y=residuals)\n",
    "    plt.axhline(y=0, color='red')  # Add red line at y=0\n",
    "    plt.xlabel('Predicted Values')\n",
    "    plt.ylabel('Residuals')\n",
    "    plt.title(f'Residuals ({model_name})')\n",
    "\n",
    "    # Plot a Q-Q plot of the residuals\n",
    "    plt.subplot(223)\n",
    "    stats.probplot(residuals, dist=\"norm\", plot=plt)\n",
    "    plt.title(f'Q-Q Plot ({model_name})')\n",
    "\n",
    "    plt.tight_layout()\n",
    "    plt.show()\n",
    "\n"
   ]
  },
  {
   "attachments": {},
   "cell_type": "markdown",
   "metadata": {},
   "source": [
    "Actual vs. Predicted Values Plot: Ideally, the points should fall along the red line (line of perfect prediction). If they are scattered far from the line or show a systematic pattern, it means that the model has room for improvement."
   ]
  },
  {
   "attachments": {},
   "cell_type": "markdown",
   "metadata": {},
   "source": [
    "Residuals Plot: In this plot, residuals are scattered around the horizontal line at zero. If the points are randomly dispersed around the horizontal axis, it suggests that the assumptions of linear regression (constant variance, or homoscedasticity) hold. If you see patterns in the residuals (e.g., a U-shape or a funnel shape), it could indicate problems like heteroscedasticity (the variance of the errors changes across levels of the independent variables) or that the relationship between predictors and response is not linear."
   ]
  },
  {
   "cell_type": "code",
   "execution_count": 27,
   "metadata": {},
   "outputs": [
    {
     "name": "stdout",
     "output_type": "stream",
     "text": [
      "Test MSE: 0.07947277265964221\n"
     ]
    }
   ],
   "source": [
    "# Fit the best model to the training data\n",
    "best_model = make_pipeline(PolynomialFeatures(2), LinearRegression())\n",
    "best_model.fit(X_train, y_train)\n",
    "\n",
    "# Predict on the test data\n",
    "y_pred = best_model.predict(X_test)\n",
    "\n",
    "# Calculate the Mean Squared Error on the test data\n",
    "mse_test = mean_squared_error(y_test, y_pred)\n",
    "\n",
    "print(f'Test MSE: {mse_test}')"
   ]
  },
  {
   "cell_type": "code",
   "execution_count": 30,
   "metadata": {},
   "outputs": [
    {
     "data": {
      "text/plain": [
       "(0.0, 1.0)"
      ]
     },
     "execution_count": 30,
     "metadata": {},
     "output_type": "execute_result"
    },
    {
     "data": {
      "image/png": "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",
      "text/plain": [
       "<Figure size 640x480 with 1 Axes>"
      ]
     },
     "metadata": {},
     "output_type": "display_data"
    }
   ],
   "source": [
    "from sklearn.model_selection import learning_curve\n",
    "import matplotlib.pyplot as plt\n",
    "import numpy as np\n",
    "\n",
    "# Choose your model. This could be PolynomialFeatures with degree 2.\n",
    "model = make_pipeline(PolynomialFeatures(2), LinearRegression())\n",
    "\n",
    "train_sizes, train_scores, test_scores = learning_curve(model, X, y, cv=10)\n",
    "\n",
    "train_scores_mean = np.mean(train_scores, axis=1)\n",
    "test_scores_mean = np.mean(test_scores, axis=1)\n",
    "\n",
    "plt.plot(train_sizes, train_scores_mean, label='Training error')\n",
    "plt.plot(train_sizes, test_scores_mean, label='Validation error')\n",
    "plt.ylabel('MSE', fontsize=14)\n",
    "plt.xlabel('Training set size', fontsize=14)\n",
    "plt.title('Learning curves for a polynomial regression model', fontsize=18, y=1.03)\n",
    "plt.legend()\n",
    "plt.ylim(0,1)\n"
   ]
  },
  {
   "cell_type": "code",
   "execution_count": 29,
   "metadata": {},
   "outputs": [
    {
     "data": {
      "text/plain": [
       "(0.0, 1.0)"
      ]
     },
     "execution_count": 29,
     "metadata": {},
     "output_type": "execute_result"
    },
    {
     "data": {
      "image/png": "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",
      "text/plain": [
       "<Figure size 640x480 with 1 Axes>"
      ]
     },
     "metadata": {},
     "output_type": "display_data"
    }
   ],
   "source": [
    "from sklearn.model_selection import learning_curve\n",
    "import matplotlib.pyplot as plt\n",
    "import numpy as np\n",
    "\n",
    "# Choose your model. This could be PolynomialFeatures with degree 2.\n",
    "model = make_pipeline(PolynomialFeatures(2), LinearRegression())\n",
    "\n",
    "train_sizes, train_scores, test_scores = learning_curve(model, X, y, cv=10)\n",
    "\n",
    "train_scores_mean = np.mean(train_scores, axis=1)\n",
    "test_scores_mean = np.mean(test_scores, axis=1)\n",
    "\n",
    "plt.plot(train_sizes, train_scores_mean, label='Training error')\n",
    "plt.plot(train_sizes, test_scores_mean, label='Validation error')\n",
    "plt.ylabel('MSE', fontsize=14)\n",
    "plt.xlabel('Training set size', fontsize=14)\n",
    "plt.title('Learning curves for a polynomial regression model', fontsize=18, y=1.03)\n",
    "plt.legend()\n",
    "plt.ylim(0,1)\n"
   ]
  },
  {
   "cell_type": "code",
   "execution_count": 14,
   "metadata": {},
   "outputs": [],
   "source": [
    "from sklearn.model_selection import validation_curve\n",
    "\n",
    "# Define a range of degrees for polynomial features\n",
    "degrees = np.arange(1, 10)\n",
    "\n",
    "# Calculate the training and test scores using validation_curve\n",
    "train_scores, test_scores = validation_curve(model, X, y, param_name=\"polynomialfeatures__degree\", param_range=degrees, cv=10, scoring='neg_mean_squared_error')\n",
    "\n",
    "train_scores_mean = np.mean(train_scores, axis=1)\n",
    "test_scores_mean = np.mean(test_scores, axis=1)\n",
    "\n",
    "plt.figure(figsize=(8, 5))\n",
    "plt.plot(degrees, train_scores_mean, label='Training error')\n",
    "plt.plot(degrees, test_scores_mean, label='Validation error')\n",
    "plt.ylabel('MSE', fontsize=14)\n",
    "plt.xlabel('Degree of polynomial', fontsize=14)\n",
    "plt.title('Complexity curve for a polynomial regression model', fontsize=18, y=1.03)\n",
    "plt.legend()\n",
    "plt.ylim(0,40)\n"
   ]
  },
  {
   "cell_type": "code",
   "execution_count": null,
   "metadata": {},
   "outputs": [],
   "source": []
  }
 ],
 "metadata": {
  "kernelspec": {
   "display_name": "Python 3.9.16 ('base')",
   "language": "python",
   "name": "python3"
  },
  "language_info": {
   "codemirror_mode": {
    "name": "ipython",
    "version": 3
   },
   "file_extension": ".py",
   "mimetype": "text/x-python",
   "name": "python",
   "nbconvert_exporter": "python",
   "pygments_lexer": "ipython3",
   "version": "3.9.13"
  },
  "orig_nbformat": 4,
  "vscode": {
   "interpreter": {
    "hash": "4d8924c1b2505bdba90260062e9738e0000286674d2dd5e22ed396f570b10439"
   }
  }
 },
 "nbformat": 4,
 "nbformat_minor": 2
}
