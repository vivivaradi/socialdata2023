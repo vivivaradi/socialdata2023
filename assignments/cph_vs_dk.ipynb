{
 "cells": [
  {
   "attachments": {},
   "cell_type": "markdown",
   "metadata": {},
   "source": [
    "# Explainer Jupyter Notebook\n",
    "### A Copenhagen Data Story - Inequality in Health and Wealth\n",
    "Technical University of Denmark\n",
    "\n",
    "02806 Social Data Analysis and Visualization\n",
    "\n",
    "May 12, 2023\n",
    "* Søren Blatt Bendtsen - s164521\n",
    "* Vivién Varadi - s222737\n",
    "* Thomas Adamopoulos -s213163"
   ]
  },
  {
   "attachments": {},
   "cell_type": "markdown",
   "metadata": {},
   "source": [
    "# 1. Motivation\n",
    "\n",
    "As also mentioned in the article, our motivation to deap dive further into health and wealth in Copenhagen came from discussions on different views on life in Copenhagen. We were very motivated to look further into actual topics that we notice in our everyday life of living in Copenhagen. \n",
    "\n",
    "We have gathered our data set from the tool Velstand & Ulighed created by Rockwool Fonden. Rockwool Fonden uses data delivered by Danmark Statistik (DST) from their administrative register. The underlying data is therefore row based on individual people living in Denmark identifiable by their CPR-number [1]. The data publicly available to download from Rockwool Fonden's tool is aggregated on a yearly base for groups of the population.\n",
    "\n",
    "First of all, as this project is for the class \"Social Data Analysis and Visualization\", we wanted to have a social aspect on the project. And working with inequality has just that. Second of all, we chose to work with this specific data set as it has several interesting continous numerical attributes, as well as interesting demographic categorical attributes, that we imagined to find interesting trends within. We decided to work with the 20 municipalities located in the greater region of Copenhagen, as well as an average for the whole of Denmark.\n",
    "\n",
    "Our goal with this project was to bring facts into a discussion that is very often based on assumptions, opinions and what you are used to hearing in the news. We, among ourselves in the group, had discussions based on experience, and we believed that looking at the actual data within these topics, would bring a deeper dimension to our discussion. For the end user of the article, we wanted to create an article with interactive visualizations, where we would highlight the most important aspects, but that at the same time would allow the user dig down even further in the data."
   ]
  },
  {
   "attachments": {},
   "cell_type": "markdown",
   "metadata": {},
   "source": [
    "# 2. Basic stats and data preparation\n",
    "\n",
    "Quite a lot of data preparation and cleaning was required to create the final data set that we have worked on. This work has been done in four separate Jupyter Notebooks, as it required many lines of code. Among other things, the following have been done.\n",
    "\n",
    "* From the tool Velstand & Ulighed, we decided to download data sets for disposable income, number of days spent in the hospital and number of hospitalizations. Only small chunks of data could be downloaded at the time for small group of years, municipalities, ages, genders, educations and ethnicities and therefore many small data sets had to be merged together.\n",
    "* When downloading the data sets, the demographic variables were not named. This therefore had to be done for each small data set before merging them together.\n",
    "* Remove duplicates. Every chunk of data included an average for the total Denmark. Duplicates of this have been moved.\n",
    "* Translation from Danish to English\n",
    "* Matching of municipality code to actual municipality name\n",
    "* Weighted calculations: as the data is on an aggregated basis, we had to use the number of observations (included from Velstand & Ulighed) within each group in order to calculate a variety of weighted numbers, that can then be used when grouping by a combination of different variables.\n",
    "* Calculate Greater Copenhagen average. We wanted to compare the whole of Denmark to Copenhagen. For that reason we have calculated weighted averages for the Greater Copenhagen Region based on data from the 20 municipalities within Copenhagen.\n",
    "* Select relevant columns\n",
    "\n",
    "After doing the above work for the data sets related to Income, Days in Hospital and Number of Hospitalizations, they have at last been merged together to one complete data set called copenhagen_data.csv."
   ]
  },
  {
   "cell_type": "code",
   "execution_count": 1,
   "metadata": {},
   "outputs": [],
   "source": [
    "# import libraries\n",
    "# Used for working with dataframes, visualizing data and doing machine learning\n",
    "import pandas as pd\n",
    "import numpy as np\n",
    "import matplotlib.pyplot as plt\n",
    "import plotly.express as px\n",
    "import plotly.graph_objs as go\n",
    "from sklearn.cluster import KMeans\n",
    "from sklearn.preprocessing import StandardScaler\n",
    "from sklearn.decomposition import PCA\n",
    "import matplotlib.pyplot as plt\n",
    "import seaborn as sns\n",
    "import matplotlib.cm as cm\n",
    "from sklearn.preprocessing import OrdinalEncoder, LabelEncoder\n",
    "from sklearn.linear_model import LinearRegression\n",
    "from sklearn.metrics import mean_squared_error, r2_score\n",
    "from sklearn.model_selection import train_test_split"
   ]
  },
  {
   "cell_type": "code",
   "execution_count": 2,
   "metadata": {},
   "outputs": [],
   "source": [
    "# Load data set and save to data frame\n",
    "df = pd.read_csv('copenhagen_data.csv')"
   ]
  },
  {
   "attachments": {},
   "cell_type": "markdown",
   "metadata": {},
   "source": [
    "At this point, we realized that there was many rows with Null Values. This was due to the data for Income, Days in Hospital and Number of Hospitalizations not being available for the same number of years and demographic groups. For that reason we are dropping missing values below."
   ]
  },
  {
   "cell_type": "code",
   "execution_count": 3,
   "metadata": {},
   "outputs": [],
   "source": [
    "# Drop rows with missing values\n",
    "df_2= df.dropna()\n",
    "df_dk = df_2[df_2.municipality == 'Denmark']\n",
    "df_cph = df_2[df_2.municipality == 'Greater Copenhagen']"
   ]
  },
  {
   "cell_type": "code",
   "execution_count": null,
   "metadata": {},
   "outputs": [],
   "source": [
    "df_2.describe()"
   ]
  },
  {
   "cell_type": "code",
   "execution_count": null,
   "metadata": {},
   "outputs": [],
   "source": [
    "#This doesn't really make sense\n",
    "#df_boxplot = df_2[['income', 'days in hospital', 'number of hospitalizations']]\n",
    "#plt.figure(figsize= (10,6))\n",
    "#df_boxplot.boxplot()\n",
    "#plt.xticks(rotation=45)\n",
    "#plt.title('Exploratory analysis of main variables')\n",
    "#plt.show()"
   ]
  },
  {
   "attachments": {},
   "cell_type": "markdown",
   "metadata": {},
   "source": [
    "After dropping the NaN values, we ended up having 11320 observations that we could work with, which is still more than enough. \n",
    "- box plots of distribution of income, health. \n",
    "- also distribution of # of observations. Who are the biggest groups and who are the smallest ones?"
   ]
  },
  {
   "attachments": {},
   "cell_type": "markdown",
   "metadata": {},
   "source": [
    "Why do we do one-hot encoding? And what is the purpose of the following box-plots? \n",
    "\n",
    "Let's consider what we include and show here. I think some plots of distributions etc. is a good idea, but let's consider what makes sence."
   ]
  },
  {
   "cell_type": "code",
   "execution_count": null,
   "metadata": {},
   "outputs": [],
   "source": [
    "# Perform one-hot encoding on the 'gender' column\n",
    "one_hot_encoded_gender = pd.get_dummies(df.gender, prefix='gender')\n",
    "\n",
    "# Concatenate the one-hot encoded columns to the original DataFrame\n",
    "df_gender = pd.concat([df.drop('gender', axis=1), one_hot_encoded_gender], axis=1)\n",
    "df_gender\n"
   ]
  },
  {
   "cell_type": "code",
   "execution_count": null,
   "metadata": {},
   "outputs": [],
   "source": [
    "women_dk = df[(df.gender == 'Women') & (df.municipality == 'Denmark')]\n",
    "women_cph = df[(df.gender == 'Women') & (df.municipality == 'Greater Copenhagen')]"
   ]
  },
  {
   "cell_type": "code",
   "execution_count": null,
   "metadata": {},
   "outputs": [],
   "source": [
    "women_cph.isnull().sum()"
   ]
  },
  {
   "cell_type": "code",
   "execution_count": null,
   "metadata": {},
   "outputs": [],
   "source": [
    "women_dk.isnull().sum()"
   ]
  },
  {
   "cell_type": "code",
   "execution_count": null,
   "metadata": {},
   "outputs": [],
   "source": [
    "women_dk.describe()"
   ]
  },
  {
   "cell_type": "code",
   "execution_count": null,
   "metadata": {},
   "outputs": [],
   "source": [
    "women_cph.describe()"
   ]
  },
  {
   "cell_type": "code",
   "execution_count": null,
   "metadata": {},
   "outputs": [],
   "source": [
    "plt.figure(figsize= (10,6))\n",
    "women_dk.boxplot()\n",
    "plt.xticks(rotation=45)\n",
    "plt.title('Women in Denmark features boxplot')\n",
    "plt.show()\n",
    "\n",
    "plt.figure(figsize= (10,6))\n",
    "women_cph.boxplot()\n",
    "plt.xticks(rotation=45)\n",
    "plt.title('Women in Copenhagen features boxplot ')\n",
    "plt.show()"
   ]
  },
  {
   "cell_type": "code",
   "execution_count": null,
   "metadata": {},
   "outputs": [],
   "source": [
    "women_dk_drop = women_dk.dropna()\n",
    "women_cph_drop = women_cph.dropna()"
   ]
  },
  {
   "cell_type": "code",
   "execution_count": null,
   "metadata": {},
   "outputs": [],
   "source": [
    "df_2= df.dropna()\n",
    "df_dk = df_2[df_2.municipality == 'Denmark']\n",
    "df_cph = df_2[df_2.municipality == 'Greater Copenhagen']"
   ]
  },
  {
   "cell_type": "code",
   "execution_count": null,
   "metadata": {},
   "outputs": [],
   "source": [
    "df2_dk_income_per_year = df_dk.groupby('year')['weighted_inc_mun'].sum().reset_index(name='count')\n",
    "df2_cph_income_per_year = df_cph.groupby('year')['weighted_inc_mun'].sum().reset_index(name='count')"
   ]
  },
  {
   "cell_type": "code",
   "execution_count": null,
   "metadata": {},
   "outputs": [],
   "source": [
    "dk_income_per_year = df_dk.groupby('year')['weighted_inc_mun'].sum().reset_index(name='count')\n",
    "cph_income_per_year = df_cph.groupby('year')['weighted_inc_mun'].sum().reset_index(name='count')\n",
    "\n",
    "dk_income_per_year\n"
   ]
  },
  {
   "attachments": {},
   "cell_type": "markdown",
   "metadata": {},
   "source": [
    "# 3. Data analysis\n",
    "\n",
    "Describe your data analysis and explain what you've learned about the dataset.\n",
    "If relevant, talk about your machine-learning."
   ]
  },
  {
   "attachments": {},
   "cell_type": "markdown",
   "metadata": {},
   "source": [
    "# 4. Genre\n",
    "\n",
    "We have written this article in the Magazine Genre while following the Martini Glass Structure. By this, we mean that we have started out with a broader scope, which was a comparison of Greater Copenhagen to the rest of Denmark. Then we have found some interesting insights and afterwards narrowed our scope down to understand these insights better within the Region of Copenhagen. \n",
    "\n",
    "### 4.1 Visual Narrative:\n",
    "We have applied a variety of different visual narrative tactics to assist and facilitate our story telling. From a visual structuring perspective, we have used Progress Bars in our bar plots in section 5.1 below. We have done so in order visualize a development over time with side by side bars to compare different categories. This is a way to include a lot of information into one visualization that is easy to follow for the reader and does not feel confusing or overcrowded with information. From a highlighting perspetive, we have used a combination of Motion and Feature Distinction in our Maps in section 5.2 below. We have used an intense color scheme as feature distinction so that the reader quickly cathces the areas with large differenes, which is what we are trying to highlight in this story on inequality. And at the same time we are using Motion in form of a Gif, where the reader can press play and the map changes from year to year. In order to transition from one visualization to the next, we have applied Continuity Editing with descriptive texts that guides the reader.\n",
    "\n",
    "### 4.2 Narrative Structure:\n",
    "With a focus on narrative structure within each visualization, we have had a strong focus on interactivity to engage the reader with the story. But first of all from an ordering perspective, we have guided the reader through our visualizations linearly by focusing on the development over time. As mentioned, we have wanted to engage the reader with interactive plots, where we have applied drop-down menus for filtering as well as informative tool-tips for hover highlighting. Due to limitations in our plots, we have also used explicit instructions in order to guide the reader on how to interact with the visualizations. Although the reader can play around with the visualizations and find interesting insights, we have used an accompanying article to highlight the most important messages that we have found."
   ]
  },
  {
   "attachments": {},
   "cell_type": "markdown",
   "metadata": {},
   "source": [
    "# 5. Visualizations\n",
    "\n",
    "As mentioned above, we have had a strong focus on interactivity in our visualizations. For that reason, we have applied the open source graphing library of Plotly, which is a leading Python library for interactive, scientific data visualization."
   ]
  },
  {
   "attachments": {},
   "cell_type": "markdown",
   "metadata": {},
   "source": [
    "## 5.1 Plotting timelines - Greater Copenhagen vs Denmark\n",
    "\n",
    "Starting at the wide foot of our martini glass structure, we have made comparative visualizations between the Region of Greater Copenhagen and Denmark as a whole. We have decided to create a side by side bar plot with our 3 continous variables respectively on the y-axis and years on the x-axis. The side by side bars show Denmark and Greater Copenhagen.\n",
    "\n",
    "### Data prep\n",
    "As a first step, a bit of data preparation was required to set up the right data frames for the visualization., such as filtering for the correct regions, creating lists with unique variables and grouping over these variables. We have used the sum of the weighted variables in the grouping by, to take into considerations the number of observations and their respective weight.\n",
    "\n",
    "### Plotly side by side bar\n",
    "We have used the graph.objs library of Plotly to create the side by side bar plots, where we have added a trace for DK and CPH respectively to show them as bars side by side. We have used different colors for CPH and DK together with a descriptive legend to visually separate them.\n",
    "\n",
    "### Drop down menus\n",
    "Four drop down menus are created for each of the demographic variables. These are then placed side by side on the top of the visualization. We had expected it to be possible to create cross-filtering, so that several drop down filters could be applied at the same time, slicing and dicing the data set inside the visualization. In the process, after trying many different approaches and reading blogs and Stack Overflow, we found out that this was not possible with more than 2 attributes. For that reason only one drop down filter can be applied at the time."
   ]
  },
  {
   "cell_type": "code",
   "execution_count": 4,
   "metadata": {},
   "outputs": [],
   "source": [
    "# Data preparation for visualization:\n",
    "\n",
    "# Data frame with Greater Copenhagen and Denmark\n",
    "df_cop_dk = df_2[(df_2.municipality == 'Denmark') | (df_2.municipality == 'Greater Copenhagen')]\n",
    "\n",
    "# unique years and municipalities for plotting\n",
    "years = df_cop_dk.year.unique()\n",
    "municipalities = df_cop_dk.municipality.unique()\n",
    "\n",
    "# Yearly average income\n",
    "dk_yearly_avg_inc = df_cop_dk[(df_cop_dk.municipality=='Denmark')].groupby(['year', 'municipality'])['weighted_inc_mun'].sum()\n",
    "cop_yearly_avg_inc = df_cop_dk[(df_cop_dk.municipality=='Greater Copenhagen')].groupby(['year', 'municipality'])['weighted_inc_mun'].sum()\n",
    "df_income = df_cop_dk.groupby(['year', 'municipality'])['weighted_inc_mun'].sum().reset_index(name='count')\n",
    "\n",
    "# Yearly average days in hospital\n",
    "dk_yearly_avg_hosp_days = df_cop_dk[(df_cop_dk.municipality=='Denmark')].groupby(['year', 'municipality'])['weighted_hosp_days_mun'].sum()\n",
    "cop_yearly_avg_hosp_days = df_cop_dk[(df_cop_dk.municipality=='Greater Copenhagen')].groupby(['year', 'municipality'])['weighted_hosp_days_mun'].sum()\n",
    "df_days = df_cop_dk.groupby(['year', 'municipality'])['weighted_hosp_days_mun'].sum().reset_index(name='count')\n",
    "\n",
    "# Yearly average hospitalizations\n",
    "dk_yearly_avg_hosp_times = df_cop_dk[(df_cop_dk.municipality=='Denmark')].groupby(['year', 'municipality'])['weighted_hospitalizations_mun'].sum()\n",
    "cop_yearly_avg_hosp_times = df_cop_dk[(df_cop_dk.municipality=='Greater Copenhagen')].groupby(['year', 'municipality'])['weighted_hospitalizations_mun'].sum()\n",
    "df_hosp = df_cop_dk.groupby(['year', 'municipality'])['weighted_hospitalizations_mun'].sum().reset_index(name='count')"
   ]
  },
  {
   "attachments": {},
   "cell_type": "markdown",
   "metadata": {},
   "source": [
    "### Interactive visualization for income with filters for age, gender, education and ethnicity"
   ]
  },
  {
   "cell_type": "code",
   "execution_count": 5,
   "metadata": {},
   "outputs": [
    {
     "data": {
      "application/vnd.plotly.v1+json": {
       "config": {
        "plotlyServerURL": "https://plot.ly"
       },
       "data": [
        {
         "marker": {
          "color": "rgb(55, 83, 109)"
         },
         "name": "Denmark",
         "type": "bar",
         "x": [
          2005,
          2006,
          2007,
          2008,
          2009,
          2010,
          2011,
          2012,
          2013,
          2014,
          2015,
          2016,
          2017,
          2018
         ],
         "y": [
          255616.32526608012,
          260120.7657516041,
          262272.00872240536,
          256640.5968274187,
          258339.40698911736,
          275387.016033431,
          273380.45813095843,
          272492.81552348053,
          277541.72464290314,
          283093.914696419,
          288426.16922337335,
          292967.28475570463,
          298112.57671105646,
          304094.2555620311
         ]
        },
        {
         "marker": {
          "color": "rgb(26, 118, 255)"
         },
         "name": "Greater Copenhagen",
         "type": "bar",
         "x": [
          2005,
          2006,
          2007,
          2008,
          2009,
          2010,
          2011,
          2012,
          2013,
          2014,
          2015,
          2016,
          2017,
          2018
         ],
         "y": [
          271686.73150448233,
          275662.66075669276,
          276050.1566439862,
          269909.53812569403,
          269207.93785791105,
          290563.9268522387,
          289335.7664705521,
          287875.98877217557,
          293504.78056068585,
          300087.8300778641,
          306151.8093014965,
          310943.18766815745,
          315684.46268450306,
          321978.1360394762
         ]
        }
       ],
       "layout": {
        "bargap": 0.15,
        "bargroupgap": 0.1,
        "barmode": "group",
        "legend": {
         "bgcolor": "rgba(255, 255, 255, 0)",
         "bordercolor": "rgba(255, 255, 255, 0)",
         "title": {
          "text": ""
         },
         "x": 0.01,
         "y": 1
        },
        "template": {
         "data": {
          "bar": [
           {
            "error_x": {
             "color": "#2a3f5f"
            },
            "error_y": {
             "color": "#2a3f5f"
            },
            "marker": {
             "line": {
              "color": "#E5ECF6",
              "width": 0.5
             },
             "pattern": {
              "fillmode": "overlay",
              "size": 10,
              "solidity": 0.2
             }
            },
            "type": "bar"
           }
          ],
          "barpolar": [
           {
            "marker": {
             "line": {
              "color": "#E5ECF6",
              "width": 0.5
             },
             "pattern": {
              "fillmode": "overlay",
              "size": 10,
              "solidity": 0.2
             }
            },
            "type": "barpolar"
           }
          ],
          "carpet": [
           {
            "aaxis": {
             "endlinecolor": "#2a3f5f",
             "gridcolor": "white",
             "linecolor": "white",
             "minorgridcolor": "white",
             "startlinecolor": "#2a3f5f"
            },
            "baxis": {
             "endlinecolor": "#2a3f5f",
             "gridcolor": "white",
             "linecolor": "white",
             "minorgridcolor": "white",
             "startlinecolor": "#2a3f5f"
            },
            "type": "carpet"
           }
          ],
          "choropleth": [
           {
            "colorbar": {
             "outlinewidth": 0,
             "ticks": ""
            },
            "type": "choropleth"
           }
          ],
          "contour": [
           {
            "colorbar": {
             "outlinewidth": 0,
             "ticks": ""
            },
            "colorscale": [
             [
              0,
              "#0d0887"
             ],
             [
              0.1111111111111111,
              "#46039f"
             ],
             [
              0.2222222222222222,
              "#7201a8"
             ],
             [
              0.3333333333333333,
              "#9c179e"
             ],
             [
              0.4444444444444444,
              "#bd3786"
             ],
             [
              0.5555555555555556,
              "#d8576b"
             ],
             [
              0.6666666666666666,
              "#ed7953"
             ],
             [
              0.7777777777777778,
              "#fb9f3a"
             ],
             [
              0.8888888888888888,
              "#fdca26"
             ],
             [
              1,
              "#f0f921"
             ]
            ],
            "type": "contour"
           }
          ],
          "contourcarpet": [
           {
            "colorbar": {
             "outlinewidth": 0,
             "ticks": ""
            },
            "type": "contourcarpet"
           }
          ],
          "heatmap": [
           {
            "colorbar": {
             "outlinewidth": 0,
             "ticks": ""
            },
            "colorscale": [
             [
              0,
              "#0d0887"
             ],
             [
              0.1111111111111111,
              "#46039f"
             ],
             [
              0.2222222222222222,
              "#7201a8"
             ],
             [
              0.3333333333333333,
              "#9c179e"
             ],
             [
              0.4444444444444444,
              "#bd3786"
             ],
             [
              0.5555555555555556,
              "#d8576b"
             ],
             [
              0.6666666666666666,
              "#ed7953"
             ],
             [
              0.7777777777777778,
              "#fb9f3a"
             ],
             [
              0.8888888888888888,
              "#fdca26"
             ],
             [
              1,
              "#f0f921"
             ]
            ],
            "type": "heatmap"
           }
          ],
          "heatmapgl": [
           {
            "colorbar": {
             "outlinewidth": 0,
             "ticks": ""
            },
            "colorscale": [
             [
              0,
              "#0d0887"
             ],
             [
              0.1111111111111111,
              "#46039f"
             ],
             [
              0.2222222222222222,
              "#7201a8"
             ],
             [
              0.3333333333333333,
              "#9c179e"
             ],
             [
              0.4444444444444444,
              "#bd3786"
             ],
             [
              0.5555555555555556,
              "#d8576b"
             ],
             [
              0.6666666666666666,
              "#ed7953"
             ],
             [
              0.7777777777777778,
              "#fb9f3a"
             ],
             [
              0.8888888888888888,
              "#fdca26"
             ],
             [
              1,
              "#f0f921"
             ]
            ],
            "type": "heatmapgl"
           }
          ],
          "histogram": [
           {
            "marker": {
             "pattern": {
              "fillmode": "overlay",
              "size": 10,
              "solidity": 0.2
             }
            },
            "type": "histogram"
           }
          ],
          "histogram2d": [
           {
            "colorbar": {
             "outlinewidth": 0,
             "ticks": ""
            },
            "colorscale": [
             [
              0,
              "#0d0887"
             ],
             [
              0.1111111111111111,
              "#46039f"
             ],
             [
              0.2222222222222222,
              "#7201a8"
             ],
             [
              0.3333333333333333,
              "#9c179e"
             ],
             [
              0.4444444444444444,
              "#bd3786"
             ],
             [
              0.5555555555555556,
              "#d8576b"
             ],
             [
              0.6666666666666666,
              "#ed7953"
             ],
             [
              0.7777777777777778,
              "#fb9f3a"
             ],
             [
              0.8888888888888888,
              "#fdca26"
             ],
             [
              1,
              "#f0f921"
             ]
            ],
            "type": "histogram2d"
           }
          ],
          "histogram2dcontour": [
           {
            "colorbar": {
             "outlinewidth": 0,
             "ticks": ""
            },
            "colorscale": [
             [
              0,
              "#0d0887"
             ],
             [
              0.1111111111111111,
              "#46039f"
             ],
             [
              0.2222222222222222,
              "#7201a8"
             ],
             [
              0.3333333333333333,
              "#9c179e"
             ],
             [
              0.4444444444444444,
              "#bd3786"
             ],
             [
              0.5555555555555556,
              "#d8576b"
             ],
             [
              0.6666666666666666,
              "#ed7953"
             ],
             [
              0.7777777777777778,
              "#fb9f3a"
             ],
             [
              0.8888888888888888,
              "#fdca26"
             ],
             [
              1,
              "#f0f921"
             ]
            ],
            "type": "histogram2dcontour"
           }
          ],
          "mesh3d": [
           {
            "colorbar": {
             "outlinewidth": 0,
             "ticks": ""
            },
            "type": "mesh3d"
           }
          ],
          "parcoords": [
           {
            "line": {
             "colorbar": {
              "outlinewidth": 0,
              "ticks": ""
             }
            },
            "type": "parcoords"
           }
          ],
          "pie": [
           {
            "automargin": true,
            "type": "pie"
           }
          ],
          "scatter": [
           {
            "fillpattern": {
             "fillmode": "overlay",
             "size": 10,
             "solidity": 0.2
            },
            "type": "scatter"
           }
          ],
          "scatter3d": [
           {
            "line": {
             "colorbar": {
              "outlinewidth": 0,
              "ticks": ""
             }
            },
            "marker": {
             "colorbar": {
              "outlinewidth": 0,
              "ticks": ""
             }
            },
            "type": "scatter3d"
           }
          ],
          "scattercarpet": [
           {
            "marker": {
             "colorbar": {
              "outlinewidth": 0,
              "ticks": ""
             }
            },
            "type": "scattercarpet"
           }
          ],
          "scattergeo": [
           {
            "marker": {
             "colorbar": {
              "outlinewidth": 0,
              "ticks": ""
             }
            },
            "type": "scattergeo"
           }
          ],
          "scattergl": [
           {
            "marker": {
             "colorbar": {
              "outlinewidth": 0,
              "ticks": ""
             }
            },
            "type": "scattergl"
           }
          ],
          "scattermapbox": [
           {
            "marker": {
             "colorbar": {
              "outlinewidth": 0,
              "ticks": ""
             }
            },
            "type": "scattermapbox"
           }
          ],
          "scatterpolar": [
           {
            "marker": {
             "colorbar": {
              "outlinewidth": 0,
              "ticks": ""
             }
            },
            "type": "scatterpolar"
           }
          ],
          "scatterpolargl": [
           {
            "marker": {
             "colorbar": {
              "outlinewidth": 0,
              "ticks": ""
             }
            },
            "type": "scatterpolargl"
           }
          ],
          "scatterternary": [
           {
            "marker": {
             "colorbar": {
              "outlinewidth": 0,
              "ticks": ""
             }
            },
            "type": "scatterternary"
           }
          ],
          "surface": [
           {
            "colorbar": {
             "outlinewidth": 0,
             "ticks": ""
            },
            "colorscale": [
             [
              0,
              "#0d0887"
             ],
             [
              0.1111111111111111,
              "#46039f"
             ],
             [
              0.2222222222222222,
              "#7201a8"
             ],
             [
              0.3333333333333333,
              "#9c179e"
             ],
             [
              0.4444444444444444,
              "#bd3786"
             ],
             [
              0.5555555555555556,
              "#d8576b"
             ],
             [
              0.6666666666666666,
              "#ed7953"
             ],
             [
              0.7777777777777778,
              "#fb9f3a"
             ],
             [
              0.8888888888888888,
              "#fdca26"
             ],
             [
              1,
              "#f0f921"
             ]
            ],
            "type": "surface"
           }
          ],
          "table": [
           {
            "cells": {
             "fill": {
              "color": "#EBF0F8"
             },
             "line": {
              "color": "white"
             }
            },
            "header": {
             "fill": {
              "color": "#C8D4E3"
             },
             "line": {
              "color": "white"
             }
            },
            "type": "table"
           }
          ]
         },
         "layout": {
          "annotationdefaults": {
           "arrowcolor": "#2a3f5f",
           "arrowhead": 0,
           "arrowwidth": 1
          },
          "autotypenumbers": "strict",
          "coloraxis": {
           "colorbar": {
            "outlinewidth": 0,
            "ticks": ""
           }
          },
          "colorscale": {
           "diverging": [
            [
             0,
             "#8e0152"
            ],
            [
             0.1,
             "#c51b7d"
            ],
            [
             0.2,
             "#de77ae"
            ],
            [
             0.3,
             "#f1b6da"
            ],
            [
             0.4,
             "#fde0ef"
            ],
            [
             0.5,
             "#f7f7f7"
            ],
            [
             0.6,
             "#e6f5d0"
            ],
            [
             0.7,
             "#b8e186"
            ],
            [
             0.8,
             "#7fbc41"
            ],
            [
             0.9,
             "#4d9221"
            ],
            [
             1,
             "#276419"
            ]
           ],
           "sequential": [
            [
             0,
             "#0d0887"
            ],
            [
             0.1111111111111111,
             "#46039f"
            ],
            [
             0.2222222222222222,
             "#7201a8"
            ],
            [
             0.3333333333333333,
             "#9c179e"
            ],
            [
             0.4444444444444444,
             "#bd3786"
            ],
            [
             0.5555555555555556,
             "#d8576b"
            ],
            [
             0.6666666666666666,
             "#ed7953"
            ],
            [
             0.7777777777777778,
             "#fb9f3a"
            ],
            [
             0.8888888888888888,
             "#fdca26"
            ],
            [
             1,
             "#f0f921"
            ]
           ],
           "sequentialminus": [
            [
             0,
             "#0d0887"
            ],
            [
             0.1111111111111111,
             "#46039f"
            ],
            [
             0.2222222222222222,
             "#7201a8"
            ],
            [
             0.3333333333333333,
             "#9c179e"
            ],
            [
             0.4444444444444444,
             "#bd3786"
            ],
            [
             0.5555555555555556,
             "#d8576b"
            ],
            [
             0.6666666666666666,
             "#ed7953"
            ],
            [
             0.7777777777777778,
             "#fb9f3a"
            ],
            [
             0.8888888888888888,
             "#fdca26"
            ],
            [
             1,
             "#f0f921"
            ]
           ]
          },
          "colorway": [
           "#636efa",
           "#EF553B",
           "#00cc96",
           "#ab63fa",
           "#FFA15A",
           "#19d3f3",
           "#FF6692",
           "#B6E880",
           "#FF97FF",
           "#FECB52"
          ],
          "font": {
           "color": "#2a3f5f"
          },
          "geo": {
           "bgcolor": "white",
           "lakecolor": "white",
           "landcolor": "#E5ECF6",
           "showlakes": true,
           "showland": true,
           "subunitcolor": "white"
          },
          "hoverlabel": {
           "align": "left"
          },
          "hovermode": "closest",
          "mapbox": {
           "style": "light"
          },
          "paper_bgcolor": "white",
          "plot_bgcolor": "#E5ECF6",
          "polar": {
           "angularaxis": {
            "gridcolor": "white",
            "linecolor": "white",
            "ticks": ""
           },
           "bgcolor": "#E5ECF6",
           "radialaxis": {
            "gridcolor": "white",
            "linecolor": "white",
            "ticks": ""
           }
          },
          "scene": {
           "xaxis": {
            "backgroundcolor": "#E5ECF6",
            "gridcolor": "white",
            "gridwidth": 2,
            "linecolor": "white",
            "showbackground": true,
            "ticks": "",
            "zerolinecolor": "white"
           },
           "yaxis": {
            "backgroundcolor": "#E5ECF6",
            "gridcolor": "white",
            "gridwidth": 2,
            "linecolor": "white",
            "showbackground": true,
            "ticks": "",
            "zerolinecolor": "white"
           },
           "zaxis": {
            "backgroundcolor": "#E5ECF6",
            "gridcolor": "white",
            "gridwidth": 2,
            "linecolor": "white",
            "showbackground": true,
            "ticks": "",
            "zerolinecolor": "white"
           }
          },
          "shapedefaults": {
           "line": {
            "color": "#2a3f5f"
           }
          },
          "ternary": {
           "aaxis": {
            "gridcolor": "white",
            "linecolor": "white",
            "ticks": ""
           },
           "baxis": {
            "gridcolor": "white",
            "linecolor": "white",
            "ticks": ""
           },
           "bgcolor": "#E5ECF6",
           "caxis": {
            "gridcolor": "white",
            "linecolor": "white",
            "ticks": ""
           }
          },
          "title": {
           "x": 0.05
          },
          "xaxis": {
           "automargin": true,
           "gridcolor": "white",
           "linecolor": "white",
           "ticks": "",
           "title": {
            "standoff": 15
           },
           "zerolinecolor": "white",
           "zerolinewidth": 2
          },
          "yaxis": {
           "automargin": true,
           "gridcolor": "white",
           "linecolor": "white",
           "ticks": "",
           "title": {
            "standoff": 15
           },
           "zerolinecolor": "white",
           "zerolinewidth": 2
          }
         }
        },
        "title": {
         "text": "<b>Annual dissposable income by gender, age, education or ethnicity<b>"
        },
        "updatemenus": [
         {
          "active": 0,
          "buttons": [
           {
            "args": [
             {
              "visible": [
               true,
               true
              ],
              "x": [
               [
                2005,
                2006,
                2007,
                2008,
                2009,
                2010,
                2011,
                2012,
                2013,
                2014,
                2015,
                2016,
                2017,
                2018
               ],
               [
                2005,
                2006,
                2007,
                2008,
                2009,
                2010,
                2011,
                2012,
                2013,
                2014,
                2015,
                2016,
                2017,
                2018
               ]
              ],
              "y": [
               [
                255616.32526608012,
                260120.7657516041,
                262272.00872240536,
                256640.5968274187,
                258339.40698911736,
                275387.016033431,
                273380.45813095843,
                272492.81552348053,
                277541.72464290314,
                283093.914696419,
                288426.16922337335,
                292967.28475570463,
                298112.57671105646,
                304094.2555620311
               ],
               [
                271686.73150448233,
                275662.66075669276,
                276050.1566439862,
                269909.53812569403,
                269207.93785791105,
                290563.9268522387,
                289335.7664705521,
                287875.98877217557,
                293504.78056068585,
                300087.8300778641,
                306151.8093014965,
                310943.18766815745,
                315684.46268450306,
                321978.1360394762
               ]
              ]
             }
            ],
            "label": "Gender",
            "method": "update"
           },
           {
            "args": [
             {
              "visible": [
               true,
               true
              ],
              "x": [
               [
                2005,
                2006,
                2007,
                2008,
                2009,
                2010,
                2011,
                2012,
                2013,
                2014,
                2015,
                2016,
                2017,
                2018
               ],
               [
                2005,
                2006,
                2007,
                2008,
                2009,
                2010,
                2011,
                2012,
                2013,
                2014,
                2015,
                2016,
                2017,
                2018
               ]
              ],
              "y": [
               [
                256344.59735534847,
                260733.90422862017,
                263027.834527846,
                258039.76989817823,
                259678.559446148,
                277028.5474008803,
                274937.1008626648,
                273625.8994511366,
                278487.5422498559,
                284526.2622077037,
                290065.3166180831,
                294794.4305733327,
                299741.06330890895,
                306548.3050182929
               ],
               [
                272905.5874281097,
                277251.05134006497,
                277316.7120813592,
                271123.28611689457,
                269922.9873498877,
                292190.3671041596,
                290865.2768097168,
                288907.0725082984,
                294655.4863289442,
                301212.75835428,
                307335.9464009689,
                312318.1847065628,
                317294.8241760219,
                324153.8694719548
               ]
              ]
             }
            ],
            "label": "Men",
            "method": "update"
           },
           {
            "args": [
             {
              "visible": [
               true,
               true
              ],
              "x": [
               [
                2005,
                2006,
                2007,
                2008,
                2009,
                2010,
                2011,
                2012,
                2013,
                2014,
                2015,
                2016,
                2017,
                2018
               ],
               [
                2005,
                2006,
                2007,
                2008,
                2009,
                2010,
                2011,
                2012,
                2013,
                2014,
                2015,
                2016,
                2017,
                2018
               ]
              ],
              "y": [
               [
                254922.49916265503,
                259537.33780283,
                261551.4091604857,
                255312.64959464266,
                257069.0704764591,
                273829.4097438811,
                271904.19962388393,
                271417.2097295354,
                276643.71582853614,
                281733.2196619694,
                286865.3770722307,
                291222.3717646406,
                296555.1024351528,
                301743.907596313
               ],
               [
                270512.7841916316,
                274135.3631392141,
                274827.85617336055,
                268747.2001225806,
                268523.7682798461,
                289007.5044824832,
                287871.9095774151,
                286884.9411066788,
                292400.11453402747,
                299007.68993810937,
                305010.4558991772,
                309616.21478203905,
                314130.6594494165,
                319878.0253359577
               ]
              ]
             }
            ],
            "label": "Women",
            "method": "update"
           }
          ],
          "direction": "down",
          "showactive": true,
          "x": 0.15,
          "y": 1.13
         },
         {
          "active": 0,
          "buttons": [
           {
            "args": [
             {
              "visible": [
               true,
               true,
               true,
               true
              ],
              "x": [
               [
                2005,
                2006,
                2007,
                2008,
                2009,
                2010,
                2011,
                2012,
                2013,
                2014,
                2015,
                2016,
                2017,
                2018
               ],
               [
                2005,
                2006,
                2007,
                2008,
                2009,
                2010,
                2011,
                2012,
                2013,
                2014,
                2015,
                2016,
                2017,
                2018
               ],
               [
                2005,
                2006,
                2007,
                2008,
                2009,
                2010,
                2011,
                2012,
                2013,
                2014,
                2015,
                2016,
                2017,
                2018
               ],
               [
                2005,
                2006,
                2007,
                2008,
                2009,
                2010,
                2011,
                2012,
                2013,
                2014,
                2015,
                2016,
                2017,
                2018
               ]
              ],
              "y": [
               [
                255616.32526608012,
                260120.7657516041,
                262272.00872240536,
                256640.5968274187,
                258339.40698911736,
                275387.016033431,
                273380.45813095843,
                272492.81552348053,
                277541.72464290314,
                283093.914696419,
                288426.16922337335,
                292967.28475570463,
                298112.57671105646,
                304094.2555620311
               ],
               [
                271686.73150448233,
                275662.66075669276,
                276050.1566439862,
                269909.53812569403,
                269207.93785791105,
                290563.9268522387,
                289335.7664705521,
                287875.98877217557,
                293504.78056068585,
                300087.8300778641,
                306151.8093014965,
                310943.18766815745,
                315684.46268450306,
                321978.1360394762
               ]
              ]
             }
            ],
            "label": "Age",
            "method": "update"
           },
           {
            "args": [
             {
              "visible": [
               true,
               true,
               true,
               true
              ],
              "x": [
               [
                2005,
                2006,
                2007,
                2008,
                2009,
                2010,
                2011,
                2012,
                2013,
                2014,
                2015,
                2016,
                2017,
                2018
               ],
               [
                2005,
                2006,
                2007,
                2008,
                2009,
                2010,
                2011,
                2012,
                2013,
                2014,
                2015,
                2016,
                2017,
                2018
               ],
               [
                2005,
                2006,
                2007,
                2008,
                2009,
                2010,
                2011,
                2012,
                2013,
                2014,
                2015,
                2016,
                2017,
                2018
               ],
               [
                2005,
                2006,
                2007,
                2008,
                2009,
                2010,
                2011,
                2012,
                2013,
                2014,
                2015,
                2016,
                2017,
                2018
               ]
              ],
              "y": [
               [
                227422.65029379487,
                230083.8798369937,
                231191.01838626972,
                227802.8374832497,
                230895.6636575781,
                244692.47991848728,
                241720.75453098086,
                239197.826071625,
                242061.6305089619,
                245050.24819002728,
                246238.3854421938,
                249250.6901583563,
                252050.6595058227,
                256935.00547787195
               ],
               [
                242305.45943269017,
                244283.819200052,
                243830.17219673246,
                240282.01970058522,
                242022.63269140862,
                258118.78467050297,
                254977.158619118,
                251453.56705629456,
                254802.46024169223,
                257876.44574226532,
                259426.79625047007,
                263520.7267548591,
                266596.6534301278,
                272301.06755492854
               ]
              ]
             }
            ],
            "label": "30-39",
            "method": "update"
           },
           {
            "args": [
             {
              "visible": [
               true,
               true,
               true,
               true
              ],
              "x": [
               [
                2005,
                2006,
                2007,
                2008,
                2009,
                2010,
                2011,
                2012,
                2013,
                2014,
                2015,
                2016,
                2017,
                2018
               ],
               [
                2005,
                2006,
                2007,
                2008,
                2009,
                2010,
                2011,
                2012,
                2013,
                2014,
                2015,
                2016,
                2017,
                2018
               ],
               [
                2005,
                2006,
                2007,
                2008,
                2009,
                2010,
                2011,
                2012,
                2013,
                2014,
                2015,
                2016,
                2017,
                2018
               ],
               [
                2005,
                2006,
                2007,
                2008,
                2009,
                2010,
                2011,
                2012,
                2013,
                2014,
                2015,
                2016,
                2017,
                2018
               ]
              ],
              "y": [
               [
                255495.90328008716,
                259419.39410268108,
                261440.23816665108,
                255542.7671120948,
                255926.3084015463,
                273224.527946365,
                271660.8169048823,
                270656.9316612477,
                276074.67134623183,
                281666.4509394061,
                287096.0140861679,
                290954.7729562398,
                295987.44782409136,
                301259.5236448265
               ],
               [
                274575.38014281046,
                277511.8388940897,
                278629.3865168262,
                272410.07813210064,
                269930.58584871405,
                293053.4072159116,
                292093.54732453637,
                290792.86623670557,
                297399.80854374106,
                304795.3897127079,
                311857.7419663975,
                315317.65728269966,
                319663.6860551738,
                325107.73481954134
               ]
              ]
             }
            ],
            "label": "40-49",
            "method": "update"
           },
           {
            "args": [
             {
              "visible": [
               true,
               true,
               true,
               true
              ],
              "x": [
               [
                2005,
                2006,
                2007,
                2008,
                2009,
                2010,
                2011,
                2012,
                2013,
                2014,
                2015,
                2016,
                2017,
                2018
               ],
               [
                2005,
                2006,
                2007,
                2008,
                2009,
                2010,
                2011,
                2012,
                2013,
                2014,
                2015,
                2016,
                2017,
                2018
               ],
               [
                2005,
                2006,
                2007,
                2008,
                2009,
                2010,
                2011,
                2012,
                2013,
                2014,
                2015,
                2016,
                2017,
                2018
               ],
               [
                2005,
                2006,
                2007,
                2008,
                2009,
                2010,
                2011,
                2012,
                2013,
                2014,
                2015,
                2016,
                2017,
                2018
               ]
              ],
              "y": [
               [
                295986.69731945015,
                300357.9858107876,
                301306.88157161564,
                293606.0294615867,
                295527.12531868287,
                315341.81035306276,
                311799.0114715232,
                310090.9833887048,
                315844.2832026683,
                322283.48886484833,
                330105.0927737408,
                335201.1691139036,
                341095.7614558072,
                348539.46259782783
               ],
               [
                315474.7927285852,
                319791.4067643017,
                317812.97828044405,
                308004.35348979227,
                307405.5958524764,
                335092.0222762894,
                334490.37984469393,
                333744.4117535481,
                340467.9142435296,
                348565.93894276355,
                358151.9946294757,
                363198.1809482965,
                368700.56661739637,
                376484.9962583368
               ]
              ]
             }
            ],
            "label": "50-59",
            "method": "update"
           },
           {
            "args": [
             {
              "visible": [
               true,
               true,
               true,
               true
              ],
              "x": [
               [
                2005,
                2006,
                2007,
                2008,
                2009,
                2010,
                2011,
                2012,
                2013,
                2014,
                2015,
                2016,
                2017,
                2018
               ],
               [
                2005,
                2006,
                2007,
                2008,
                2009,
                2010,
                2011,
                2012,
                2013,
                2014,
                2015,
                2016,
                2017,
                2018
               ],
               [
                2005,
                2006,
                2007,
                2008,
                2009,
                2010,
                2011,
                2012,
                2013,
                2014,
                2015,
                2016,
                2017,
                2018
               ],
               [
                2005,
                2006,
                2007,
                2008,
                2009,
                2010,
                2011,
                2012,
                2013,
                2014,
                2015,
                2016,
                2017,
                2018
               ]
              ],
              "y": [
               [
                263251.6738901134,
                271150.50810831174,
                275667.45491507475,
                268120.1661363232,
                269679.88547640684,
                287768.22346366977,
                286807.97251173895,
                288592.6734015425,
                293870.9467100893,
                300624.91121238255,
                307518.2954478022,
                313961.3423094446,
                321011.9716187068,
                327547.9352556646
               ],
               [
                284835.95102680055,
                294100.3947097272,
                296376.0001818464,
                288107.1862836976,
                286362.00128079555,
                308687.32955068036,
                310385.4560631715,
                312645.9450502572,
                318399.16442648304,
                327624.55659154005,
                335952.307924625,
                344220.1746089137,
                351737.03886163206,
                357182.95188103535
               ]
              ]
             }
            ],
            "label": "60-65",
            "method": "update"
           }
          ],
          "direction": "down",
          "showactive": true,
          "x": 0.27,
          "y": 1.13
         },
         {
          "active": 0,
          "buttons": [
           {
            "args": [
             {
              "visible": [
               true,
               true,
               true
              ],
              "x": [
               [
                2005,
                2006,
                2007,
                2008,
                2009,
                2010,
                2011,
                2012,
                2013,
                2014,
                2015,
                2016,
                2017,
                2018
               ],
               [
                2005,
                2006,
                2007,
                2008,
                2009,
                2010,
                2011,
                2012,
                2013,
                2014,
                2015,
                2016,
                2017,
                2018
               ],
               [
                2005,
                2006,
                2007,
                2008,
                2009,
                2010,
                2011,
                2012,
                2013,
                2014,
                2015,
                2016,
                2017,
                2018
               ]
              ],
              "y": [
               [
                255616.32526608012,
                260120.7657516041,
                262272.00872240536,
                256640.5968274187,
                258339.40698911736,
                275387.016033431,
                273380.45813095843,
                272492.81552348053,
                277541.72464290314,
                283093.914696419,
                288426.16922337335,
                292967.28475570463,
                298112.57671105646,
                304094.2555620311
               ],
               [
                271686.73150448233,
                275662.66075669276,
                276050.1566439862,
                269909.53812569403,
                269207.93785791105,
                290563.9268522387,
                289335.7664705521,
                287875.98877217557,
                293504.78056068585,
                300087.8300778641,
                306151.8093014965,
                310943.18766815745,
                315684.46268450306,
                321978.1360394762
               ]
              ]
             }
            ],
            "label": "Ethnicity",
            "method": "update"
           },
           {
            "args": [
             {
              "visible": [
               true,
               true,
               true
              ],
              "x": [
               [
                2005,
                2006,
                2007,
                2008,
                2009,
                2010,
                2011,
                2012,
                2013,
                2014,
                2015,
                2016,
                2017,
                2018
               ],
               [
                2005,
                2006,
                2007,
                2008,
                2009,
                2010,
                2011,
                2012,
                2013,
                2014,
                2015,
                2016,
                2017,
                2018
               ],
               [
                2005,
                2006,
                2007,
                2008,
                2009,
                2010,
                2011,
                2012,
                2013,
                2014,
                2015,
                2016,
                2017,
                2018
               ]
              ],
              "y": [
               [
                258281.37486202142,
                263074.8512751737,
                265450.2801674658,
                259900.76411290476,
                262057.47815189857,
                280592.6402209399,
                279072.1726272854,
                278476.8675847834,
                284243.6900527954,
                290652.4525272264,
                296773.4395842691,
                302379.7568665498,
                308400.37200254254,
                314615.28074235516
               ],
               [
                281072.9995751542,
                286007.2115813999,
                287107.13991342555,
                280920.21660173807,
                280581.64037084655,
                305655.3228689073,
                305548.34291118314,
                304905.940650965,
                312107.5634525918,
                320507.84487348434,
                328488.64115252515,
                335287.6849744296,
                341701.51076571405,
                348700.7659735383
               ]
              ]
             }
            ],
            "label": "Danish",
            "method": "update"
           },
           {
            "args": [
             {
              "visible": [
               true,
               true,
               true
              ],
              "x": [
               [
                2005,
                2006,
                2007,
                2008,
                2009,
                2010,
                2011,
                2012,
                2013,
                2014,
                2015,
                2016,
                2017,
                2018
               ],
               [
                2005,
                2006,
                2007,
                2008,
                2009,
                2010,
                2011,
                2012,
                2013,
                2014,
                2015,
                2016,
                2017,
                2018
               ],
               [
                2005,
                2006,
                2007,
                2008,
                2009,
                2010,
                2011,
                2012,
                2013,
                2014,
                2015,
                2016,
                2017,
                2018
               ]
              ],
              "y": [
               [
                208360.57088823454,
                212267.7242559319,
                214441.8391821674,
                211818.7505999703,
                212044.97117511064,
                221208.42823664026,
                218319.50951579836,
                217162.19427055042,
                219694.9404932719,
                223539.05811649482,
                226589.42552210877,
                228211.36576163367,
                231332.32841949572,
                238259.39219755313
               ],
               [
                210853.8679955954,
                214133.13326837434,
                214245.08332174597,
                211951.35523898914,
                211910.010877796,
                220691.556767576,
                218026.93418132828,
                217160.74108647034,
                220521.02075995127,
                225388.799048367,
                229877.3538417182,
                232874.36894401937,
                236624.43495214375,
                244549.4596423637
               ]
              ]
             }
            ],
            "label": "Immigrants and descendants",
            "method": "update"
           },
           {
            "args": [
             {
              "visible": [
               true,
               true,
               true
              ],
              "x": [
               [
                2005,
                2006,
                2007,
                2008,
                2009,
                2010,
                2011,
                2012,
                2013,
                2014,
                2015,
                2016,
                2017,
                2018
               ],
               [
                2005,
                2006,
                2007,
                2008,
                2009,
                2010,
                2011,
                2012,
                2013,
                2014,
                2015,
                2016,
                2017,
                2018
               ],
               [
                2005,
                2006,
                2007,
                2008,
                2009,
                2010,
                2011,
                2012,
                2013,
                2014,
                2015,
                2016,
                2017,
                2018
               ]
              ],
              "y": [
               [
                255096.1796228542,
                258384.29051739804,
                259757.80077547373,
                252991.72061780703,
                252803.88451731755,
                263993.5899087795,
                260471.46837407397,
                259396.50643259048,
                262802.12391920004,
                266039.0215524669,
                270516.17964343145,
                273297.28334005736,
                277085.4019564684,
                283350.06819559867
               ],
               [
                245154.27334199083,
                244692.9621608295,
                242879.62612768266,
                237243.34600144564,
                236198.13485571882,
                246055.77686896766,
                243351.7520424782,
                241293.69874209617,
                244832.04345201593,
                248911.72312374462,
                253356.87010138744,
                256132.8204783971,
                259323.3451716284,
                265826.5415123864
               ]
              ]
             }
            ],
            "label": "Non-western immigrants and descendants",
            "method": "update"
           }
          ],
          "direction": "down",
          "showactive": true,
          "x": 0.68,
          "y": 1.13
         },
         {
          "active": 0,
          "buttons": [
           {
            "args": [
             {
              "visible": [
               true,
               true
              ],
              "x": [
               [
                2005,
                2006,
                2007,
                2008,
                2009,
                2010,
                2011,
                2012,
                2013,
                2014,
                2015,
                2016,
                2017,
                2018
               ],
               [
                2005,
                2006,
                2007,
                2008,
                2009,
                2010,
                2011,
                2012,
                2013,
                2014,
                2015,
                2016,
                2017,
                2018
               ]
              ],
              "y": [
               [
                255616.32526608012,
                260120.7657516041,
                262272.00872240536,
                256640.5968274187,
                258339.40698911736,
                275387.016033431,
                273380.45813095843,
                272492.81552348053,
                277541.72464290314,
                283093.914696419,
                288426.16922337335,
                292967.28475570463,
                298112.57671105646,
                304094.2555620311
               ],
               [
                271686.73150448233,
                275662.66075669276,
                276050.1566439862,
                269909.53812569403,
                269207.93785791105,
                290563.9268522387,
                289335.7664705521,
                287875.98877217557,
                293504.78056068585,
                300087.8300778641,
                306151.8093014965,
                310943.18766815745,
                315684.46268450306,
                321978.1360394762
               ]
              ]
             }
            ],
            "label": "Education",
            "method": "update"
           },
           {
            "args": [
             {
              "visible": [
               true,
               true
              ],
              "x": [
               [
                2005,
                2006,
                2007,
                2008,
                2009,
                2010,
                2011,
                2012,
                2013,
                2014,
                2015,
                2016,
                2017,
                2018
               ],
               [
                2005,
                2006,
                2007,
                2008,
                2009,
                2010,
                2011,
                2012,
                2013,
                2014,
                2015,
                2016,
                2017,
                2018
               ]
              ],
              "y": [
               [
                284361.8110917449,
                289116.62980455806,
                291184.59623634646,
                282994.36679687485,
                285369.979010013,
                307919.79613698315,
                304834.07883400033,
                303500.9008607487,
                309348.1128167865,
                315241.7827472412,
                320335.5931497686,
                324742.0257007762,
                329868.8767251307,
                335716.11321875214
               ],
               [
                303436.7117018064,
                307863.04593411833,
                308380.0292638882,
                299038.46956215316,
                297646.62842070713,
                326149.9813244057,
                323865.2116674666,
                321224.81649943365,
                327688.3754089365,
                335062.8609823504,
                340343.110329618,
                345083.2103759737,
                349601.8765476272,
                355998.91897391767
               ]
              ]
             }
            ],
            "label": "Higher education",
            "method": "update"
           },
           {
            "args": [
             {
              "visible": [
               true,
               true
              ],
              "x": [
               [
                2005,
                2006,
                2007,
                2008,
                2009,
                2010,
                2011,
                2012,
                2013,
                2014,
                2015,
                2016,
                2017,
                2018
               ],
               [
                2005,
                2006,
                2007,
                2008,
                2009,
                2010,
                2011,
                2012,
                2013,
                2014,
                2015,
                2016,
                2017,
                2018
               ]
              ],
              "y": [
               [
                240107.33419044022,
                244205.58076366433,
                246198.34886959256,
                241655.86480217066,
                242578.89706002283,
                255885.22210481425,
                253953.12215630853,
                252757.72227809933,
                256662.4059909357,
                261343.53248152882,
                266165.1655522709,
                270169.07597559236,
                274746.6443359318,
                280373.83756688633
               ],
               [
                249302.1541758533,
                252426.9619020995,
                252230.90300689393,
                247743.58072532612,
                246842.45690111123,
                261573.79845984158,
                260128.07175369078,
                258586.90584851225,
                262379.8204077089,
                267155.3590995728,
                272774.96756252245,
                276439.88182622107,
                280427.9659252753,
                285908.20572169684
               ]
              ]
             }
            ],
            "label": "No higher education",
            "method": "update"
           }
          ],
          "direction": "down",
          "showactive": true,
          "x": 0.92,
          "y": 1.13
         }
        ],
        "xaxis": {
         "domain": [
          0,
          1
         ],
         "tickfont": {
          "size": 14
         },
         "title": {
          "font": {
           "size": 16
          },
          "text": ""
         }
        },
        "yaxis": {
         "range": [
          0,
          390000
         ],
         "tickfont": {
          "size": 14
         },
         "title": {
          "font": {
           "size": 16
          },
          "text": "<b>Income<b>"
         }
        }
       }
      }
     },
     "metadata": {},
     "output_type": "display_data"
    }
   ],
   "source": [
    "# Create the initial plot\n",
    "fig = go.Figure()\n",
    "# Line plot (commented out)\n",
    "#fig = px.line(df_income, x='year', y='count', color='municipality', markers=True, width=900, height=400)\n",
    "#fig.update_traces(line_color='rgb(55, 83, 109)', selector=dict(name='Denmark'))\n",
    "#fig.update_traces(line_color='rgb(26, 118, 255)', selector=dict(name='Greater Copenhagen'))\n",
    "# Bar plot \n",
    "fig.add_trace(go.Bar(x=years,\n",
    "                y=dk_yearly_avg_inc,\n",
    "                name='Denmark',\n",
    "                marker_color='rgb(55, 83, 109)'\n",
    "                ))\n",
    "fig.add_trace(go.Bar(x=years,\n",
    "                y=cop_yearly_avg_inc,\n",
    "                name='Greater Copenhagen',\n",
    "                marker_color='rgb(26, 118, 255)'\n",
    "                ))\n",
    "\n",
    "# Define the dropdown menu\n",
    "genders = df_cop_dk.gender.unique()\n",
    "buttons = []\n",
    "# Add button for all genders\n",
    "buttons.append(dict(method='update',\n",
    "                    label='Gender',\n",
    "                    args=[{'x': [years]*2,\n",
    "                           'y': [dk_yearly_avg_inc, cop_yearly_avg_inc],\n",
    "                           'visible': [True]*2}],\n",
    "                    )\n",
    "             )\n",
    "\n",
    "\n",
    "# Add button for each gender\n",
    "for gender in genders:\n",
    "    dk_yearly_avg_count = df_cop_dk[(df_cop_dk.municipality=='Denmark') & (df_cop_dk.gender==gender)].groupby(['year', 'municipality', 'gender'])['weighted_inc_gen_mun'].sum()\n",
    "    cop_yearly_avg_count = df_cop_dk[(df_cop_dk.municipality=='Greater Copenhagen') & (df_cop_dk.gender==gender)].groupby(['year', 'municipality', 'gender'])['weighted_inc_gen_mun'].sum()\n",
    "    buttons.append(dict(method='update',\n",
    "                        label=gender,\n",
    "                        args=[{'x': [years]*2,\n",
    "                               'y': [dk_yearly_avg_count, cop_yearly_avg_count],\n",
    "                               'visible': [True]*2}],\n",
    "                        )   \n",
    "                 )\n",
    "\n",
    "# Define the dropdown menu for Age\n",
    "ages = df_cop_dk.age.unique()\n",
    "buttons_2 = []\n",
    "# Add button for all ages\n",
    "buttons_2.append(dict(method='update',\n",
    "                    label='Age',\n",
    "                    args=[{'x': [years]*4,\n",
    "                           'y': [dk_yearly_avg_inc, cop_yearly_avg_inc],\n",
    "                           'visible': [True]*4}],\n",
    "                    )\n",
    "             )\n",
    "# Add button for each age\n",
    "for age in ages:\n",
    "    age_dk_yearly_avg_count = df_cop_dk[(df_cop_dk.municipality=='Denmark') & (df_cop_dk.age==age)].groupby(['year', 'municipality', 'age'])['weighted_inc_age_mun'].sum()\n",
    "    age_cop_yearly_avg_count = df_cop_dk[(df_cop_dk.municipality=='Greater Copenhagen') & (df_cop_dk.age==age)].groupby(['year', 'municipality', 'age'])['weighted_inc_age_mun'].sum()\n",
    "    buttons_2.append(dict(method='update',\n",
    "                        label=age,\n",
    "                        args=[{'x': [years]*4,\n",
    "                               'y': [age_dk_yearly_avg_count, age_cop_yearly_avg_count],\n",
    "                               'visible': [True]*4}],\n",
    "                        )\n",
    "                 )\n",
    "    \n",
    "# Define the dropdown menu for ethnicity\n",
    "ethnicities = df_cop_dk.ethnicity.unique()\n",
    "buttons_3 = []\n",
    "# Add button for all ethnicities\n",
    "buttons_3.append(dict(method='update',\n",
    "                    label='Ethnicity',\n",
    "                    args=[{'x': [years]*3,\n",
    "                           'y': [dk_yearly_avg_inc, cop_yearly_avg_inc],\n",
    "                           'visible': [True]*3}],\n",
    "                    )\n",
    "             )\n",
    "# Add button for each ehtnicity\n",
    "for ethnicity in ethnicities:\n",
    "    eth_dk_yearly_avg_count = df_cop_dk[(df_cop_dk.municipality=='Denmark') & (df_cop_dk.ethnicity==ethnicity)].groupby(['year', 'municipality', 'ethnicity'])['weighted_inc_eth_mun'].sum()\n",
    "    eth_cop_yearly_avg_count = df_cop_dk[(df_cop_dk.municipality=='Greater Copenhagen') & (df_cop_dk.ethnicity==ethnicity)].groupby(['year', 'municipality', 'ethnicity'])['weighted_inc_eth_mun'].sum()\n",
    "    buttons_3.append(dict(method='update',\n",
    "                        label=ethnicity,\n",
    "                        args=[{'x': [years]*3,\n",
    "                               'y': [eth_dk_yearly_avg_count, eth_cop_yearly_avg_count],\n",
    "                               'visible': [True]*3}],\n",
    "    )\n",
    "                       )\n",
    "    \n",
    "# Define the dropdown menu for education\n",
    "educations = df_cop_dk.education.unique()\n",
    "buttons_4 = []\n",
    "# Add button for all educations\n",
    "buttons_4.append(dict(method='update',\n",
    "                    label='Education',\n",
    "                    args=[{'x': [years]*2,\n",
    "                           'y': [dk_yearly_avg_inc, cop_yearly_avg_inc],\n",
    "                           'visible': [True]*2}],\n",
    "                    )\n",
    "             )\n",
    "# Add button for each education\n",
    "for education in educations:\n",
    "    edu_dk_yearly_avg_count = df_cop_dk[(df_cop_dk.municipality=='Denmark') & (df_cop_dk.education==education)].groupby(['year', 'municipality', 'education'])['weighted_inc_edu_mun'].sum()\n",
    "    edu_cop_yearly_avg_count = df_cop_dk[(df_cop_dk.municipality=='Greater Copenhagen') & (df_cop_dk.education==education)].groupby(['year', 'municipality', 'education'])['weighted_inc_edu_mun'].sum()\n",
    "    buttons_4.append(dict(method='update',\n",
    "                        label=education,\n",
    "                        args=[{'x': [years]*2,\n",
    "                               'y': [edu_dk_yearly_avg_count, edu_cop_yearly_avg_count],\n",
    "                               'visible': [True]*2}],\n",
    "    )\n",
    "                       )\n",
    "\n",
    "updatemenus = [{'buttons': buttons,\n",
    "                'direction': 'down',\n",
    "                'showactive': True,\n",
    "                'active': 0,\n",
    "                'y': 1.13,\n",
    "                'x': 0.15}, \n",
    "                {'buttons': buttons_2,\n",
    "                 'direction': 'down',\n",
    "                 'showactive': True,\n",
    "                 'active': 0,\n",
    "                 'y': 1.13,\n",
    "                 'x': 0.27}, \n",
    "                 {'buttons': buttons_3,\n",
    "                 'direction': 'down',\n",
    "                 'showactive': True,\n",
    "                 'active': 0,\n",
    "                 'y': 1.13,\n",
    "                 'x': 0.68},\n",
    "                 {'buttons': buttons_4,\n",
    "                 'direction': 'down',\n",
    "                 'showactive': True,\n",
    "                 'active': 0,\n",
    "                 'y': 1.13,\n",
    "                 'x': 0.92}]\n",
    "\n",
    "\n",
    "# Update the layout to add the dropdown menu and set the title\n",
    "fig.update_layout(\n",
    "    updatemenus=updatemenus,\n",
    "    title='<b>Annual dissposable income by gender, age, education or ethnicity<b>',\n",
    "    xaxis_tickfont_size=14,\n",
    "    xaxis=dict(\n",
    "              title='',\n",
    "              titlefont_size=16,\n",
    "              domain=[0, 1],\n",
    "    ),\n",
    "    # fix the yaxis range to be the same for all plots\n",
    "    yaxis=dict(\n",
    "        title='<b>Income<b>',\n",
    "        titlefont_size=16,\n",
    "        tickfont_size=14,\n",
    "        range=[0, 390000],\n",
    "    ),\n",
    "    legend=dict(\n",
    "        title='',\n",
    "        x=0.01,\n",
    "        y=1,\n",
    "        bgcolor='rgba(255, 255, 255, 0)',\n",
    "        bordercolor='rgba(255, 255, 255, 0)'\n",
    "    ),\n",
    "    barmode='group',\n",
    "    bargap=0.15, # gap between bars of adjacent location coordinates.\n",
    "    bargroupgap=0.1 # gap between bars of the same location coordinate.\n",
    ")\n",
    "fig.write_html('dk_cph_income_bar.html')\n",
    "fig.show()"
   ]
  },
  {
   "attachments": {},
   "cell_type": "markdown",
   "metadata": {},
   "source": [
    "### Interactive visualization for days in hospital with filters for age, gender, education and ethnicity"
   ]
  },
  {
   "cell_type": "code",
   "execution_count": null,
   "metadata": {},
   "outputs": [],
   "source": [
    "# Create the initial plot\n",
    "fig = go.Figure()\n",
    "# Line plot (commented out)\n",
    "#fig = px.line(df_income, x='year', y='count', color='municipality', markers=True, width=900, height=400)\n",
    "#fig.update_traces(line_color='rgb(55, 83, 109)', selector=dict(name='Denmark'))\n",
    "#fig.update_traces(line_color='rgb(26, 118, 255)', selector=dict(name='Greater Copenhagen'))\n",
    "# Bar plot \n",
    "fig.add_trace(go.Bar(x=years,\n",
    "                y=dk_yearly_avg_hosp_days,\n",
    "                name='Denmark',\n",
    "                marker_color='rgb(55, 83, 109)'\n",
    "                ))\n",
    "fig.add_trace(go.Bar(x=years,\n",
    "                y=cop_yearly_avg_hosp_days,\n",
    "                name='Greater Copenhagen',\n",
    "                marker_color='rgb(26, 118, 255)'\n",
    "                ))\n",
    "\n",
    "# Define the dropdown menu\n",
    "genders = df_cop_dk.gender.unique()\n",
    "buttons = []\n",
    "# Add button for all genders\n",
    "buttons.append(dict(method='update',\n",
    "                    label='Gender',\n",
    "                    args=[{'x': [years]*2,\n",
    "                           'y': [dk_yearly_avg_hosp_days, cop_yearly_avg_hosp_days],\n",
    "                           'visible': [True]*2}],\n",
    "                    )\n",
    "             )\n",
    "\n",
    "\n",
    "# Add button for each gender\n",
    "for gender in genders:\n",
    "    dk_yearly_avg_count = df_cop_dk[(df_cop_dk.municipality=='Denmark') & (df_cop_dk.gender==gender)].groupby(['year', 'municipality', 'gender'])['weighted_days_gen_mun'].sum()\n",
    "    cop_yearly_avg_count = df_cop_dk[(df_cop_dk.municipality=='Greater Copenhagen') & (df_cop_dk.gender==gender)].groupby(['year', 'municipality', 'gender'])['weighted_days_gen_mun'].sum()\n",
    "    buttons.append(dict(method='update',\n",
    "                        label=gender,\n",
    "                        args=[{'x': [years]*2,\n",
    "                               'y': [dk_yearly_avg_count, cop_yearly_avg_count],\n",
    "                               'visible': [True]*2}],\n",
    "                        )\n",
    "                        # add selection to the list of visible values\n",
    "                        \n",
    "                 )\n",
    "\n",
    "# Define the dropdown menu for Age\n",
    "ages = df_cop_dk.age.unique()\n",
    "buttons_2 = []\n",
    "# Add button for all ages\n",
    "buttons_2.append(dict(method='update',\n",
    "                    label='Age',\n",
    "                    args=[{'x': [years]*4,\n",
    "                           'y': [dk_yearly_avg_hosp_days, cop_yearly_avg_hosp_days],\n",
    "                           'visible': [True]*4}],\n",
    "                    )\n",
    "             )\n",
    "# Add button for each age\n",
    "for age in ages:\n",
    "    age_dk_yearly_avg_count = df_cop_dk[(df_cop_dk.municipality=='Denmark') & (df_cop_dk.age==age)].groupby(['year', 'municipality', 'age'])['weighted_days_age_mun'].sum()\n",
    "    age_cop_yearly_avg_count = df_cop_dk[(df_cop_dk.municipality=='Greater Copenhagen') & (df_cop_dk.age==age)].groupby(['year', 'municipality', 'age'])['weighted_days_age_mun'].sum()\n",
    "    buttons_2.append(dict(method='update',\n",
    "                        label=age,\n",
    "                        args=[{'x': [years]*4,\n",
    "                               'y': [age_dk_yearly_avg_count, age_cop_yearly_avg_count],\n",
    "                               'visible': [True]*4}],\n",
    "                        )\n",
    "                 )\n",
    "    \n",
    "# Define the dropdown menu for ethnicity\n",
    "ethnicities = df_cop_dk.ethnicity.unique()\n",
    "buttons_3 = []\n",
    "# Add button for all ethnicities\n",
    "buttons_3.append(dict(method='update',\n",
    "                    label='Ethnicity',\n",
    "                    args=[{'x': [years]*3,\n",
    "                           'y': [dk_yearly_avg_hosp_days, cop_yearly_avg_hosp_days],\n",
    "                           'visible': [True]*3}],\n",
    "                    )\n",
    "             )\n",
    "# Add button for each ehtnicity\n",
    "for ethnicity in ethnicities:\n",
    "    eth_dk_yearly_avg_count = df_cop_dk[(df_cop_dk.municipality=='Denmark') & (df_cop_dk.ethnicity==ethnicity)].groupby(['year', 'municipality', 'ethnicity'])['weighted_days_eth_mun'].sum()\n",
    "    eth_cop_yearly_avg_count = df_cop_dk[(df_cop_dk.municipality=='Greater Copenhagen') & (df_cop_dk.ethnicity==ethnicity)].groupby(['year', 'municipality', 'ethnicity'])['weighted_days_eth_mun'].sum()\n",
    "    buttons_3.append(dict(method='update',\n",
    "                        label=ethnicity,\n",
    "                        args=[{'x': [years]*3,\n",
    "                               'y': [eth_dk_yearly_avg_count, eth_cop_yearly_avg_count],\n",
    "                               'visible': [True]*3}],\n",
    "    )\n",
    "                       )\n",
    "    \n",
    "# Define the dropdown menu for education\n",
    "educations = df_cop_dk.education.unique()\n",
    "buttons_4 = []\n",
    "# Add button for all educations\n",
    "buttons_4.append(dict(method='update',\n",
    "                    label='Education',\n",
    "                    args=[{'x': [years]*2,\n",
    "                           'y': [dk_yearly_avg_hosp_days, cop_yearly_avg_hosp_days],\n",
    "                           'visible': [True]*2}],\n",
    "                    )\n",
    "             )\n",
    "# Add button for each education\n",
    "for education in educations:\n",
    "    edu_dk_yearly_avg_count = df_cop_dk[(df_cop_dk.municipality=='Denmark') & (df_cop_dk.education==education)].groupby(['year', 'municipality', 'education'])['weighted_days_edu_mun'].sum()\n",
    "    edu_cop_yearly_avg_count = df_cop_dk[(df_cop_dk.municipality=='Greater Copenhagen') & (df_cop_dk.education==education)].groupby(['year', 'municipality', 'education'])['weighted_days_edu_mun'].sum()\n",
    "    buttons_4.append(dict(method='update',\n",
    "                        label=education,\n",
    "                        args=[{'x': [years]*2,\n",
    "                               'y': [edu_dk_yearly_avg_count, edu_cop_yearly_avg_count],\n",
    "                               'visible': [True]*2}],\n",
    "    )\n",
    "                       )\n",
    "\n",
    "updatemenus = [{'buttons': buttons,\n",
    "                'direction': 'down',\n",
    "                'showactive': True,\n",
    "                'active': 0,\n",
    "                'y': 1.13,\n",
    "                'x': 0.15}, \n",
    "                {'buttons': buttons_2,\n",
    "                 'direction': 'down',\n",
    "                 'showactive': True,\n",
    "                 'active': 0,\n",
    "                 'y': 1.13,\n",
    "                 'x': 0.27}, \n",
    "                 {'buttons': buttons_3,\n",
    "                 'direction': 'down',\n",
    "                 'showactive': True,\n",
    "                 'active': 0,\n",
    "                 'y': 1.13,\n",
    "                 'x': 0.68},\n",
    "                 {'buttons': buttons_4,\n",
    "                 'direction': 'down',\n",
    "                 'showactive': True,\n",
    "                 'active': 0,\n",
    "                 'y': 1.13,\n",
    "                 'x': 0.92}]\n",
    "\n",
    "\n",
    "# Update the layout to add the dropdown menu and set the title\n",
    "fig.update_layout(\n",
    "    updatemenus=updatemenus,\n",
    "    title='<b>Annual number of days spent in the hospital by gender, age, education or ethnicity<b>',\n",
    "    xaxis_tickfont_size=14,\n",
    "    xaxis=dict(\n",
    "              title='',\n",
    "              titlefont_size=16,\n",
    "              domain=[0, 1],\n",
    "    ),\n",
    "    # fix the yaxis range to be the same for all plots\n",
    "    yaxis=dict(\n",
    "        title='<b>Days spent in hospital<b>',\n",
    "        titlefont_size=16,\n",
    "        tickfont_size=14,\n",
    "        range=[0, 3],\n",
    "    ),\n",
    "    legend=dict(\n",
    "        title='',\n",
    "        x=0.01,\n",
    "        y=1,\n",
    "        bgcolor='rgba(255, 255, 255, 0)',\n",
    "        bordercolor='rgba(255, 255, 255, 0)'\n",
    "    ),\n",
    "    barmode='group',\n",
    "    bargap=0.15, # gap between bars of adjacent location coordinates.\n",
    "    bargroupgap=0.1 # gap between bars of the same location coordinate.\n",
    ")\n",
    "fig.write_html('dk_cph_days_hospital_bar.html')\n",
    "fig.show()"
   ]
  },
  {
   "attachments": {},
   "cell_type": "markdown",
   "metadata": {},
   "source": [
    "### Interactive visualization for number of hospitalizations with filters for age, gender, education and ethnicity"
   ]
  },
  {
   "cell_type": "code",
   "execution_count": null,
   "metadata": {},
   "outputs": [],
   "source": [
    "# Create the initial plot\n",
    "fig = go.Figure()\n",
    "# Line plot (commented out)\n",
    "#fig = px.line(df_income, x='year', y='count', color='municipality', markers=True, width=900, height=400)\n",
    "#fig.update_traces(line_color='rgb(55, 83, 109)', selector=dict(name='Denmark'))\n",
    "#fig.update_traces(line_color='rgb(26, 118, 255)', selector=dict(name='Greater Copenhagen'))\n",
    "# Bar plot \n",
    "fig.add_trace(go.Bar(x=years,\n",
    "                y=dk_yearly_avg_hosp_times,\n",
    "                name='Denmark',\n",
    "                marker_color='rgb(55, 83, 109)'\n",
    "                ))\n",
    "fig.add_trace(go.Bar(x=years,\n",
    "                y=cop_yearly_avg_hosp_times,\n",
    "                name='Greater Copenhagen',\n",
    "                marker_color='rgb(26, 118, 255)'\n",
    "                ))\n",
    "\n",
    "# Define the dropdown menu\n",
    "genders = df_cop_dk.gender.unique()\n",
    "buttons = []\n",
    "# Add button for all genders\n",
    "buttons.append(dict(method='update',\n",
    "                    label='Gender',\n",
    "                    args=[{'x': [years]*2,\n",
    "                           'y': [dk_yearly_avg_hosp_times, cop_yearly_avg_hosp_times],\n",
    "                           'visible': [True]*2}],\n",
    "                    )\n",
    "             )\n",
    "\n",
    "\n",
    "# Add button for each gender\n",
    "for gender in genders:\n",
    "    dk_yearly_avg_count = df_cop_dk[(df_cop_dk.municipality=='Denmark') & (df_cop_dk.gender==gender)].groupby(['year', 'municipality', 'gender'])['weighted_hosp_gen_mun'].sum()\n",
    "    cop_yearly_avg_count = df_cop_dk[(df_cop_dk.municipality=='Greater Copenhagen') & (df_cop_dk.gender==gender)].groupby(['year', 'municipality', 'gender'])['weighted_hosp_gen_mun'].sum()\n",
    "    buttons.append(dict(method='update',\n",
    "                        label=gender,\n",
    "                        args=[{'x': [years]*2,\n",
    "                               'y': [dk_yearly_avg_count, cop_yearly_avg_count],\n",
    "                               'visible': [True]*2}],\n",
    "                        )\n",
    "                        # add selection to the list of visible values\n",
    "                        \n",
    "                 )\n",
    "\n",
    "# Define the dropdown menu for Age\n",
    "ages = df_cop_dk.age.unique()\n",
    "buttons_2 = []\n",
    "# Add button for all ages\n",
    "buttons_2.append(dict(method='update',\n",
    "                    label='Age',\n",
    "                    args=[{'x': [years]*4,\n",
    "                           'y': [dk_yearly_avg_hosp_times, cop_yearly_avg_hosp_times],\n",
    "                           'visible': [True]*4}],\n",
    "                    )\n",
    "             )\n",
    "# Add button for each age\n",
    "for age in ages:\n",
    "    age_dk_yearly_avg_count = df_cop_dk[(df_cop_dk.municipality=='Denmark') & (df_cop_dk.age==age)].groupby(['year', 'municipality', 'age'])['weighted_hosp_age_mun'].sum()\n",
    "    age_cop_yearly_avg_count = df_cop_dk[(df_cop_dk.municipality=='Greater Copenhagen') & (df_cop_dk.age==age)].groupby(['year', 'municipality', 'age'])['weighted_hosp_age_mun'].sum()\n",
    "    buttons_2.append(dict(method='update',\n",
    "                        label=age,\n",
    "                        args=[{'x': [years]*4,\n",
    "                               'y': [age_dk_yearly_avg_count, age_cop_yearly_avg_count],\n",
    "                               'visible': [True]*4}],\n",
    "                        )\n",
    "                 )\n",
    "    \n",
    "# Define the dropdown menu for ethnicity\n",
    "ethnicities = df_cop_dk.ethnicity.unique()\n",
    "buttons_3 = []\n",
    "# Add button for all ethnicities\n",
    "buttons_3.append(dict(method='update',\n",
    "                    label='Ethnicity',\n",
    "                    args=[{'x': [years]*3,\n",
    "                           'y': [dk_yearly_avg_hosp_times, cop_yearly_avg_hosp_times],\n",
    "                           'visible': [True]*3}],\n",
    "                    )\n",
    "             )\n",
    "# Add button for each ehtnicity\n",
    "for ethnicity in ethnicities:\n",
    "    eth_dk_yearly_avg_count = df_cop_dk[(df_cop_dk.municipality=='Denmark') & (df_cop_dk.ethnicity==ethnicity)].groupby(['year', 'municipality', 'ethnicity'])['weighted_hosp_eth_mun'].sum()\n",
    "    eth_cop_yearly_avg_count = df_cop_dk[(df_cop_dk.municipality=='Greater Copenhagen') & (df_cop_dk.ethnicity==ethnicity)].groupby(['year', 'municipality', 'ethnicity'])['weighted_hosp_eth_mun'].sum()\n",
    "    buttons_3.append(dict(method='update',\n",
    "                        label=ethnicity,\n",
    "                        args=[{'x': [years]*3,\n",
    "                               'y': [eth_dk_yearly_avg_count, eth_cop_yearly_avg_count],\n",
    "                               'visible': [True]*3}],\n",
    "    )\n",
    "                       )\n",
    "    \n",
    "# Define the dropdown menu for education\n",
    "educations = df_cop_dk.education.unique()\n",
    "buttons_4 = []\n",
    "# Add button for all educations\n",
    "buttons_4.append(dict(method='update',\n",
    "                    label='Education',\n",
    "                    args=[{'x': [years]*2,\n",
    "                           'y': [dk_yearly_avg_hosp_times, cop_yearly_avg_hosp_times],\n",
    "                           'visible': [True]*2}],\n",
    "                    )\n",
    "             )\n",
    "# Add button for each education\n",
    "for education in educations:\n",
    "    edu_dk_yearly_avg_count = df_cop_dk[(df_cop_dk.municipality=='Denmark') & (df_cop_dk.education==education)].groupby(['year', 'municipality', 'education'])['weighted_hosp_edu_mun'].sum()\n",
    "    edu_cop_yearly_avg_count = df_cop_dk[(df_cop_dk.municipality=='Greater Copenhagen') & (df_cop_dk.education==education)].groupby(['year', 'municipality', 'education'])['weighted_hosp_edu_mun'].sum()\n",
    "    buttons_4.append(dict(method='update',\n",
    "                        label=education,\n",
    "                        args=[{'x': [years]*2,\n",
    "                               'y': [edu_dk_yearly_avg_count, edu_cop_yearly_avg_count],\n",
    "                               'visible': [True]*2}],\n",
    "    )\n",
    "                       )\n",
    "\n",
    "updatemenus = [{'buttons': buttons,\n",
    "                'direction': 'down',\n",
    "                'showactive': True,\n",
    "                'active': 0,\n",
    "                'y': 1.13,\n",
    "                'x': 0.15}, \n",
    "                {'buttons': buttons_2,\n",
    "                 'direction': 'down',\n",
    "                 'showactive': True,\n",
    "                 'active': 0,\n",
    "                 'y': 1.13,\n",
    "                 'x': 0.27}, \n",
    "                 {'buttons': buttons_3,\n",
    "                 'direction': 'down',\n",
    "                 'showactive': True,\n",
    "                 'active': 0,\n",
    "                 'y': 1.13,\n",
    "                 'x': 0.68},\n",
    "                 {'buttons': buttons_4,\n",
    "                 'direction': 'down',\n",
    "                 'showactive': True,\n",
    "                 'active': 0,\n",
    "                 'y': 1.13,\n",
    "                 'x': 0.92}]\n",
    "\n",
    "\n",
    "# Update the layout to add the dropdown menu and set the title\n",
    "fig.update_layout(\n",
    "    updatemenus=updatemenus,\n",
    "    title='<b>Annual number of hospitalizations by gender, age, education or ethnicity<b>',\n",
    "    xaxis_tickfont_size=14,\n",
    "    xaxis=dict(\n",
    "              title='',\n",
    "              titlefont_size=16,\n",
    "              domain=[0, 1],\n",
    "    ),\n",
    "    # fix the yaxis range to be the same for all plots\n",
    "    yaxis=dict(\n",
    "        title='<b>Number of hospitalizations<b>',\n",
    "        titlefont_size=16,\n",
    "        tickfont_size=14,\n",
    "        range=[0, 0.5],\n",
    "    ),\n",
    "    legend=dict(\n",
    "        title='',\n",
    "        x=0.01,\n",
    "        y=1,\n",
    "        bgcolor='rgba(255, 255, 255, 0)',\n",
    "        bordercolor='rgba(255, 255, 255, 0)'\n",
    "    ),\n",
    "    barmode='group',\n",
    "    bargap=0.15, # gap between bars of adjacent location coordinates.\n",
    "    bargroupgap=0.1 # gap between bars of the same location coordinate.\n",
    ")\n",
    "fig.write_html('dk_cph_hospitalizations_bar.html')\n",
    "fig.show()"
   ]
  },
  {
   "attachments": {},
   "cell_type": "markdown",
   "metadata": {},
   "source": [
    "### Timelines for Income, Days in Hospital and # of Hospitalizations\n",
    "In the process we also created a more simple line plot over time for each of the three continous variables. At the end of the day we decided not to use these in the article, as the visualizations above capture the same story told in these visualizations."
   ]
  },
  {
   "cell_type": "code",
   "execution_count": null,
   "metadata": {},
   "outputs": [],
   "source": [
    "# Group the data by 'year' and 'municipality', then calculate the sum of 'weighted_inc_mun' for each group\n",
    "df_income = df_cop_dk.groupby(['year', 'municipality'])['weighted_inc_mun'].sum().reset_index(name='count')\n",
    "\n",
    "# Create a line chart using Plotly Express, with 'year' on the x-axis, 'count' on the y-axis, and colored by 'municipality'\n",
    "fig = px.line(df_income, x='year', y='count', color='municipality', markers=True, width=900, height=300)  # Adding markers to the line plot for better visibility of data points\n",
    "\n",
    "# update line colors to rgb(55, 83, 109) for Denmark and rgb(26, 118, 255) for Greater Copenhagen\n",
    "fig.update_traces(line_color='rgb(55, 83, 109)', selector=dict(name='Denmark'))\n",
    "fig.update_traces(line_color='rgb(26, 118, 255)', selector=dict(name='Greater Copenhagen'))\n",
    "\n",
    "# Edit the layout\n",
    "fig.update_layout(title='<b>Income by year per municipality<b>',\n",
    "                   xaxis_title='',\n",
    "                   yaxis_title='<b>Income DKK<b>')\n",
    "\n",
    "fig.show()"
   ]
  },
  {
   "cell_type": "code",
   "execution_count": null,
   "metadata": {},
   "outputs": [],
   "source": [
    "# Group the data by 'year' and 'municipality', then calculate the sum of 'weighted_hosp_days_mun' for each group\n",
    "df_hosp_days = df_cop_dk.groupby(['year', 'municipality'])['weighted_hosp_days_mun'].sum().reset_index(name='count')\n",
    "\n",
    "# Create a line chart using Plotly Express, with 'year' on the x-axis, 'count' on the y-axis, and colored by 'municipality'\n",
    "fig = px.line(df_hosp_days, x='year', y='count', color='municipality', markers=True, width=900, height=300)  # Adding markers to the line plot for better visibility of data points\n",
    "\n",
    "# update line colors to rgb(55, 83, 109) for Denmark and rgb(26, 118, 255) for Greater Copenhagen\n",
    "fig.update_traces(line_color='rgb(55, 83, 109)', selector=dict(name='Denmark'))\n",
    "fig.update_traces(line_color='rgb(26, 118, 255)', selector=dict(name='Greater Copenhagen'))\n",
    "\n",
    "# Edit the layout\n",
    "fig.update_layout(title='<b>Days spent in hospital<b>',\n",
    "                   xaxis_title='',\n",
    "                   yaxis_title='<b>Days per hospital visit<b>')\n",
    "\n",
    "fig.show()"
   ]
  },
  {
   "cell_type": "code",
   "execution_count": null,
   "metadata": {},
   "outputs": [],
   "source": [
    "# Group the data by 'year' and 'municipality', then calculate the sum of 'weighted_hospitalizations_mun' for each group\n",
    "df_hosp_times = df_cop_dk.groupby(['year', 'municipality'])['weighted_hospitalizations_mun'].sum().reset_index(name='count')\n",
    "\n",
    "# Create a line chart using Plotly Express, with 'year' on the x-axis, 'count' on the y-axis, and colored by 'municipality'\n",
    "fig = px.line(df_hosp_times, x='year', y='count', color='municipality', markers=True, width=900, height=300)  # Adding markers to the line plot for better visibility of data points\n",
    "\n",
    "# update line colors to rgb(55, 83, 109) for Denmark and rgb(26, 118, 255) for Greater Copenhagen\n",
    "fig.update_traces(line_color='rgb(55, 83, 109)', selector=dict(name='Denmark'))\n",
    "fig.update_traces(line_color='rgb(26, 118, 255)', selector=dict(name='Greater Copenhagen'))\n",
    "\n",
    "# Edit the layout\n",
    "fig.update_layout(title='<b> Number of hospitalizations per year <b>',\n",
    "                   xaxis_title='<b>Year<b>',\n",
    "                   yaxis_title='<b>Number of hospitalizations<b>')\n",
    "\n",
    "fig.show()"
   ]
  },
  {
   "attachments": {},
   "cell_type": "markdown",
   "metadata": {},
   "source": [
    "## Thomas\n",
    "\n",
    "With the updated plots above, is anything still needed from here? :)\n"
   ]
  },
  {
   "cell_type": "code",
   "execution_count": null,
   "metadata": {},
   "outputs": [],
   "source": [
    "# Group the data by 'year' and 'municipality', then calculate the sum of 'weighted_inc_mun' for each group\n",
    "df_income_gender = df_2.groupby(['year', 'municipality', 'gender'])['weighted_inc_mun'].sum().reset_index(name='count')\n",
    "df_income_gender"
   ]
  },
  {
   "cell_type": "code",
   "execution_count": null,
   "metadata": {},
   "outputs": [],
   "source": [
    "men_yearly_avg_inc = df_income_gender[df_income_gender.gender=='Men'].groupby('year')['count'].mean()\n",
    "women_yearly_avg_inc = df_income_gender[df_income_gender.gender=='Women'].groupby('year')['count'].mean()\n",
    "men_yearly_avg_inc"
   ]
  },
  {
   "cell_type": "code",
   "execution_count": null,
   "metadata": {},
   "outputs": [],
   "source": [
    "years = df_income_gender.year.unique()\n",
    "\n",
    "fig = go.Figure()\n",
    "fig.add_trace(go.Bar(x=years,\n",
    "                y=men_yearly_avg_inc,\n",
    "                name='Men',\n",
    "                marker_color='rgb(55, 83, 109)'\n",
    "                ))\n",
    "fig.add_trace(go.Bar(x=years,\n",
    "                y=women_yearly_avg_inc,\n",
    "                name='Women',\n",
    "                marker_color='rgb(26, 118, 255)'\n",
    "                ))\n",
    "\n",
    "fig.update_layout(\n",
    "    title='Annual gender income',\n",
    "    xaxis_tickfont_size=14,\n",
    "    yaxis=dict(\n",
    "        title='DKK',\n",
    "        titlefont_size=16,\n",
    "        tickfont_size=14,\n",
    "    ),\n",
    "    legend=dict(\n",
    "        x=0,\n",
    "        y=1.0,\n",
    "        bgcolor='rgba(255, 255, 255, 0)',\n",
    "        bordercolor='rgba(255, 255, 255, 0)'\n",
    "    ),\n",
    "    barmode='group',\n",
    "    bargap=0.15, # gap between bars of adjacent location coordinates.\n",
    "    bargroupgap=0.1 # gap between bars of the same location coordinate.\n",
    ")\n",
    "fig.show()"
   ]
  },
  {
   "cell_type": "code",
   "execution_count": null,
   "metadata": {},
   "outputs": [],
   "source": [
    "import plotly.graph_objs as go\n",
    "\n",
    "# Define years and initial municipality for the plot\n",
    "years = df_income_gender.year.unique()\n",
    "municipality = df_income_gender.municipality.unique()[0]\n",
    "\n",
    "# Get the yearly average count for men and women for the initial municipality\n",
    "men_yearly_avg_count = df_income_gender[(df_income_gender.gender=='Men') & (df_income_gender.municipality==municipality)].groupby('year')['count'].mean()\n",
    "women_yearly_avg_count = df_income_gender[(df_income_gender.gender=='Women') & (df_income_gender.municipality==municipality)].groupby('year')['count'].mean()\n",
    "\n",
    "# Create the initial plot\n",
    "fig = go.Figure()\n",
    "fig.add_trace(go.Bar(x=years,\n",
    "                y=men_yearly_avg_count,\n",
    "                name='Men',\n",
    "                marker_color='rgb(55, 83, 109)'\n",
    "                ))\n",
    "fig.add_trace(go.Bar(x=years,\n",
    "                y=women_yearly_avg_count,\n",
    "                name='Women',\n",
    "                marker_color='rgb(26, 118, 255)'\n",
    "                ))\n",
    "\n",
    "# Define the dropdown menu\n",
    "municipalities = df_income_gender.municipality.unique()\n",
    "buttons = []\n",
    "# Add button for all municipalities\n",
    "men_yearly_avg_count_all = df_income_gender[df_income_gender.gender=='Men'].groupby('year')['count'].mean()\n",
    "women_yearly_avg_count_all = df_income_gender[df_income_gender.gender=='Women'].groupby('year')['count'].mean()\n",
    "buttons.append(dict(method='update',\n",
    "                    label='All',\n",
    "                    args=[{'x': [years]*2,\n",
    "                           'y': [men_yearly_avg_count_all, women_yearly_avg_count_all],\n",
    "                           'visible': [True]*2}],\n",
    "                    )\n",
    "             )\n",
    "# Add button for each municipality\n",
    "for municipality in municipalities:\n",
    "    men_yearly_avg_count = df_income_gender[(df_income_gender.gender=='Men') & (df_income_gender.municipality==municipality)].groupby('year')['count'].mean()\n",
    "    women_yearly_avg_count = df_income_gender[(df_income_gender.gender=='Women') & (df_income_gender.municipality==municipality)].groupby('year')['count'].mean()\n",
    "    buttons.append(dict(method='update',\n",
    "                        label=municipality,\n",
    "                        args=[{'x': [years]*2,\n",
    "                               'y': [men_yearly_avg_count, women_yearly_avg_count],\n",
    "                               'visible': [True]*2}],\n",
    "                        )\n",
    "                 )\n",
    "updatemenus = [{'buttons': buttons,\n",
    "                'direction': 'down',\n",
    "                'showactive': True,\n",
    "                'active': 0}]\n",
    "\n",
    "# Update the layout to add the dropdown menu and set the title\n",
    "fig.update_layout(\n",
    "    updatemenus=updatemenus,\n",
    "    title='Annual income by gender for {}'.format(municipalities[0]),\n",
    "    xaxis_tickfont_size=14,\n",
    "    yaxis=dict(\n",
    "        title='Count',\n",
    "        titlefont_size=16,\n",
    "        tickfont_size=14,\n",
    "    ),\n",
    "    legend=dict(\n",
    "        x=0,\n",
    "        y=1.0,\n",
    "        bgcolor='rgba(255, 255, 255, 0)',\n",
    "        bordercolor='rgba(255, 255, 255, 0)'\n",
    "    ),\n",
    "    barmode='group',\n",
    "    bargap=0.15, # gap between bars of adjacent location coordinates.\n",
    "    bargroupgap=0.1 # gap between bars of the same location coordinate.\n",
    ")\n",
    "\n",
    "fig.show()\n"
   ]
  },
  {
   "attachments": {},
   "cell_type": "markdown",
   "metadata": {},
   "source": [
    "## 5.2 Plotting maps - Copenhagen municipalities"
   ]
  },
  {
   "attachments": {},
   "cell_type": "markdown",
   "metadata": {},
   "source": [
    "We're also displaying the above processed data on a map of the Greater Copenhagen area, for which we use Plotly's Choropleth Mapbox. In order to achieve this, we needed GeoJSON data, which we obtained from [Information Lab](https://lab.information.dk/). \n",
    "\n",
    "But this GeoJSON ended up needing a lot of processing to be displayable properly.\n",
    "\n",
    "### Processing the GeoJSON\n",
    "\n",
    "As Denmark consists of a lot of islands and some municipalities occupy more than one geometry, the GeoJSON initially contained multiple polygons for the same municipality, which Plotly is not equipped to handle. It will not display any warnings, but it's only going to display the first instance of the municipality that it finds, which resulted in unexpected behavior on the Copenhagen map. Therefore we had to find a way to remove these redundancies.\n",
    "\n",
    "After some research, we found [MapShaper](https://mapshaper.org/), which is a handy tool for manipulating and exporting map data. Here we could import our GeoJSON, which got displayed on a map inside the tool. There we had the option to select municipalities, merge them and edit their attributes. It was a very manual and tedious job (merging all of 153 small islands into Tårnby is not a small feat), but eventually we ended up with the desired file. \n",
    "\n",
    "After that we were almost done, but there were issues arising from the file encoding as well, we had to convert it to ISO8859-1 to handle the special characters. \n",
    "\n",
    "After all this, there was only one issue remaining: rendering a time-series map with the processed GeoJSON took too long. We don't actually know how long, as we stopped it after around 40 minutes. So we went back to MapShaper, and simplified the GeoJSON file, to contain less and simpler polygons, and it finally worked as expected. The result of this can be seen below."
   ]
  },
  {
   "attachments": {},
   "cell_type": "markdown",
   "metadata": {},
   "source": [
    "### Maps\n",
    "Below we see three maps, each depicting a different aspect of Copenhagen data. "
   ]
  },
  {
   "attachments": {},
   "cell_type": "markdown",
   "metadata": {},
   "source": [
    "This first map depicts the average income per municipality in the Greater Copenhagen area, from 2005 to 2018."
   ]
  },
  {
   "cell_type": "code",
   "execution_count": null,
   "metadata": {},
   "outputs": [],
   "source": [
    "df_mun = df_2.loc[(df_2['municipality'] != 'Denmark') & (df_2['municipality'] != 'Greater Copenhagen')]\n",
    "df_mun_income = df_mun.groupby(['year', 'municipality'])['weighted_inc_mun'].sum().reset_index(name='count')\n",
    "df_mun_hosp_days = df_mun.groupby(['year', 'municipality'])['weighted_hosp_days_mun'].sum().reset_index(name='count')\n",
    "df_mun_hosp_times = df_mun.groupby(['year', 'municipality'])['weighted_hospitalizations_mun'].sum().reset_index(name='count')"
   ]
  },
  {
   "cell_type": "code",
   "execution_count": null,
   "metadata": {},
   "outputs": [],
   "source": [
    "import json\n",
    "with open('denmark.json', encoding='iso-8859-1') as f:\n",
    "    counties = json.load(f)\n",
    "\n",
    "fig = px.choropleth_mapbox(df_mun_income, geojson=counties, locations='municipality', featureidkey='properties.KOMNAVN', color='count',\n",
    "                            color_continuous_scale=\"hot_r\",\n",
    "                            range_color=(200000, 520000),\n",
    "                            mapbox_style=\"carto-positron\",\n",
    "                            zoom=9, center = {\"lat\": 55.7061, \"lon\": 12.5683},\n",
    "                            animation_frame='year',\n",
    "                            opacity=0.5,\n",
    "                            width=900,\n",
    "                            height=650,\n",
    "                            labels={'year': 'Year', 'count': ''},\n",
    "                            title='<b>Average income per municipality per year (DKK)</b>'\n",
    ")\n",
    "fig.update_layout(margin={\"r\":0,\"l\":0, \"b\":0}, title_x=0.5)\n",
    "fig.layout.sliders[0].pad.t = 10\n",
    "fig.layout.updatemenus[0].pad.t = 10\n",
    "fig.layout.updatemenus[0].buttons[0].args[1][\"frame\"][\"duration\"] = 900\n",
    "fig.layout.updatemenus[0].buttons[0].args[1][\"transition\"][\"duration\"] = 900\n",
    "fig.write_html('cph_income_time_map.html')\n",
    "#fig.show()"
   ]
  },
  {
   "attachments": {},
   "cell_type": "markdown",
   "metadata": {},
   "source": [
    "This map depicts the average days spent in hospital during the years."
   ]
  },
  {
   "cell_type": "code",
   "execution_count": null,
   "metadata": {},
   "outputs": [],
   "source": [
    "fig = px.choropleth_mapbox(df_mun_hosp_days, geojson=counties, locations='municipality', featureidkey='properties.KOMNAVN', color='count',\n",
    "                            color_continuous_scale=\"hot_r\",\n",
    "                            range_color=(0.6, 1.3),\n",
    "                            mapbox_style=\"carto-positron\",\n",
    "                            zoom=9, center = {\"lat\": 55.7061, \"lon\": 12.5683},\n",
    "                            animation_frame='year',\n",
    "                            opacity=0.5,\n",
    "                            width=900,\n",
    "                            height=650,\n",
    "                            labels={'year': 'Year', 'count': ''},\n",
    "                            title='<b>Weighted average of days spent in hospital per municipality per year</b>'\n",
    ")\n",
    "fig.update_layout(margin={\"r\":0,\"l\":0, \"b\":0}, title_x=0.5)\n",
    "fig.layout.sliders[0].pad.t = 10\n",
    "fig.layout.updatemenus[0].pad.t = 10\n",
    "fig.layout.updatemenus[0].buttons[0].args[1][\"frame\"][\"duration\"] = 900\n",
    "fig.layout.updatemenus[0].buttons[0].args[1][\"transition\"][\"duration\"] = 900\n",
    "fig.write_html('cph_hosp_days_time_map.html')\n",
    "#fig.show()"
   ]
  },
  {
   "attachments": {},
   "cell_type": "markdown",
   "metadata": {},
   "source": [
    "And the last one shows the number of hospital visits by municipality and year. "
   ]
  },
  {
   "cell_type": "code",
   "execution_count": null,
   "metadata": {},
   "outputs": [],
   "source": [
    "fig = px.choropleth_mapbox(df_mun_hosp_times, geojson=counties, locations='municipality', featureidkey='properties.KOMNAVN', color='count',\n",
    "                            color_continuous_scale=\"hot_r\",\n",
    "                            range_color=(0.14, 0.24),\n",
    "                            mapbox_style=\"carto-positron\",\n",
    "                            zoom=9, center = {\"lat\": 55.7061, \"lon\": 12.5683},\n",
    "                            animation_frame='year',\n",
    "                            opacity=0.5,\n",
    "                            width=900,\n",
    "                            height=650,\n",
    "                            labels={'year': 'Year', 'count': ''},\n",
    "                            title='<b>Weighted average of times of hospitalizations per municipality per year</b>'\n",
    ")\n",
    "fig.update_layout(margin={\"r\":0,\"l\":0, \"b\":0}, title_x=0.5)\n",
    "fig.layout.sliders[0].pad.t = 10\n",
    "fig.layout.updatemenus[0].pad.t = 10\n",
    "fig.layout.updatemenus[0].buttons[0].args[1][\"frame\"][\"duration\"] = 900\n",
    "fig.layout.updatemenus[0].buttons[0].args[1][\"transition\"][\"duration\"] = 900\n",
    "fig.write_html('cph_hosp_times_time_map.html')\n",
    "#fig.show()"
   ]
  },
  {
   "attachments": {},
   "cell_type": "markdown",
   "metadata": {},
   "source": [
    "From running the time series it is visible, that with the salaries raising the average time spent in hospitals is decreasing. But what's even more interesting is that the number of hospital visits seems to increase everywhere expcept for Copenhagen municipality. "
   ]
  },
  {
   "attachments": {},
   "cell_type": "markdown",
   "metadata": {},
   "source": [
    "# 6. Discussion\n",
    "In general, this has been a fun and informative data set to work on. However, it has also had a few drawbacks.\n",
    "\n",
    "### Velstand & Ulighed - tool by Rockwool Fonden\n",
    "When we first found the Vesltand & Ulighed tool by Rockwool Fonden, and saw that the underlying data could be downloaded, we got very excited to work with it. And it wasn't until we had advanced quite a lot with our idea generations for the project, that we realized that only small chunks of data could be downloaded at the time, and that these required a lot of cleaning to get ready for a final data set. At this point, it felt too late to go looking for a different data set. As the data preparation took a very long time, we had to limit ourselves to only work with 3 continous variables, Disposable Income, Days in Hospital and Number of Hospitalizations. Many more interesting attributes were available, such as different measures for education as well as Gini Coefficients for measuring inequality. \n",
    "\n",
    "### Aggregated data\n",
    "Another drawback of the data from Velstand & Ulighed, is the fact that it is aggregated data where each row of data represents a group of people and their income and health values are an average of that specific group. This put a limit to the number of rows we had to work with. For our data visualization, the aggregated data was not a problem, we just had to take into the consideration the weighted numbers based on # of Observations. However, for our machine learning models, having row-level data available would have given much more informative data sets with many rows to train our models on.\n",
    "\n",
    "### Cross filtering\n",
    "As already mentioned, we wished to apply cross filtering for our comparison between Denmark and Greater Copenhagen, which we after a while found out was not possible following the method that we had. There was one way to do so, which was through Plotly's Dash features which is a platform for building, scaling, and deploying data apps in Python. Although Plotly mention that Dash is suppose to be a low-code feature, we were not able to set up the proper apps and get them integrated with html to our Jekyll webpage."
   ]
  },
  {
   "attachments": {},
   "cell_type": "markdown",
   "metadata": {},
   "source": [
    "# 7. Contributions\n",
    "In cooperation we have put together this Jupyter Explainer Notebook, although each of us have taken lead on different parts of the project:\n",
    "\n",
    "### Vivien Váradi:\n",
    "Responsible for the analysis of the 20 Copenhagen Municipalities, creating the GeoJson file for plotting the maps, coding the map plots and writing the article with the insights from the visualization.\n",
    "\n",
    "### Thomas Adamopoulos:\n",
    "Responsible for the machine learning models (Clustering and Regression) applied in this project, the data preparation required for these, their visualizations and interpretations. Also coworked on visualizing the interactive plots for the Denmark vs Greater Copenhagen analysis.\n",
    "\n",
    "### Søren Blatt Bendtsen\n",
    "Responsible for setting up the Jekyll website with the Start Bootstrap - Clean Blog theme, doing the initial data preparation work, writing the article and coworked on visualizing the interactive plots for the Denmark vs Greater Copenhagen analysis."
   ]
  },
  {
   "attachments": {},
   "cell_type": "markdown",
   "metadata": {},
   "source": [
    "# 8. References\n",
    "\n",
    "[1]: Rockwool Fonden, Velstand & Ulighed Documentation, https://www.velstandogulighed.dk/pages/documentation"
   ]
  },
  {
   "attachments": {},
   "cell_type": "markdown",
   "metadata": {},
   "source": [
    "## K-means Clustering"
   ]
  },
  {
   "cell_type": "code",
   "execution_count": null,
   "metadata": {},
   "outputs": [],
   "source": [
    "# Load data set and save to data frame\n",
    "df = pd.read_csv('copenhagen_data.csv')"
   ]
  },
  {
   "cell_type": "code",
   "execution_count": null,
   "metadata": {},
   "outputs": [],
   "source": [
    "# Drop rows with missing values\n",
    "df_cluster= df.dropna()"
   ]
  },
  {
   "cell_type": "code",
   "execution_count": null,
   "metadata": {},
   "outputs": [],
   "source": [
    "# Pick observation only for Denamrk and Copenhagen\n",
    "df_cluster = df_cluster[(df_cluster.municipality == 'Denmark') | (df_cluster.municipality == 'Greater Copenhagen')]"
   ]
  },
  {
   "cell_type": "code",
   "execution_count": null,
   "metadata": {},
   "outputs": [],
   "source": [
    "# # Perform one-hot encoding on the relevant columns\n",
    "one_hot_encoded_municipality = pd.get_dummies(df_cluster.municipality, prefix='municipality')\n",
    "one_hot_encoded_gender = pd.get_dummies(df_cluster.gender, prefix='gender')\n",
    "one_hot_encoded_ethnicity = pd.get_dummies(df_cluster.ethnicity, prefix='ethnicity')\n",
    "one_hot_encoded_age = pd.get_dummies(df_cluster.age, prefix='age')\n",
    "one_hot_encoded_education = pd.get_dummies(df_cluster.education, prefix='education')"
   ]
  },
  {
   "cell_type": "code",
   "execution_count": null,
   "metadata": {},
   "outputs": [],
   "source": [
    "# # Concatenate the one-hot encoded columns to the original DataFrame\n",
    "df_cluster = pd.concat([df_cluster.drop('municipality', axis=1), one_hot_encoded_municipality], axis=1)\n",
    "df_cluster = pd.concat([df_cluster.drop('gender', axis=1), one_hot_encoded_gender], axis=1)\n",
    "df_cluster = pd.concat([df_cluster.drop('ethnicity', axis=1), one_hot_encoded_ethnicity], axis=1)\n",
    "df_cluster = pd.concat([df_cluster.drop('age', axis=1), one_hot_encoded_age], axis=1)\n",
    "df_cluster = pd.concat([df_cluster.drop('education', axis=1), one_hot_encoded_education], axis=1)\n",
    "\n",
    "\n",
    "data_encoded = ['municipality_Denmark', 'municipality_Greater Copenhagen' ]\n",
    "\n",
    "\n",
    "df_cluster.head()\n",
    "df_cluster.shape\n",
    "# df_cluster.columns\n",
    "# df.head()\n",
    "# df.shape"
   ]
  },
  {
   "cell_type": "code",
   "execution_count": null,
   "metadata": {},
   "outputs": [],
   "source": [
    "df_cluster = df_cluster.drop(['year', 'municipality code', 'income observations', 'weighted_inc_mun', 'weighted_inc_gen_mun', 'weighted_inc_age_mun', 'weighted_inc_eth_mun',\n",
    "       'weighted_inc_edu_mun', 'days in hospital observations','weighted_hosp_days_mun', 'weighted_days_gen_mun', 'weighted_days_age_mun', 'weighted_days_eth_mun', \n",
    "       'weighted_days_edu_mun', 'number of hospitalizations', 'number of hospitalizations observations',  'weighted_hospitalizations_mun', 'weighted_hosp_gen_mun',\n",
    "       'weighted_hosp_age_mun', 'weighted_hosp_eth_mun', 'weighted_hosp_edu_mun'], axis=1)\n",
    "df_cluster.columns"
   ]
  },
  {
   "cell_type": "code",
   "execution_count": null,
   "metadata": {},
   "outputs": [],
   "source": [
    "# Standardize data, including numerical variables. This step is important for K-Means because it relies on distance measures:\n",
    "\n",
    "scaler = StandardScaler()\n",
    "data_scaled = scaler.fit_transform(df_cluster)"
   ]
  },
  {
   "cell_type": "code",
   "execution_count": null,
   "metadata": {},
   "outputs": [],
   "source": [
    "inertias = []\n",
    "K = range(1, 11)\n",
    "\n",
    "for k in K:\n",
    "    kmeans = KMeans(n_clusters=k, random_state=42)\n",
    "    kmeans.fit(data_scaled)\n",
    "    inertias.append(kmeans.inertia_)\n",
    "\n",
    "# Plotting the results\n",
    "figure = plt.subplots(figsize = (12, 6))\n",
    "\n",
    "plt.plot(K, inertias, 'bx-', color = 'orange')\n",
    "plt.xlabel(\"Number of Clusters (K)\")\n",
    "plt.ylabel(\"Cluster Inertia\")\n",
    "plt.title(\"Elbow Plot of KMeans\")\n",
    "plt.show()"
   ]
  },
  {
   "cell_type": "code",
   "execution_count": null,
   "metadata": {},
   "outputs": [],
   "source": [
    "k = 4  # Choose an appropriate value based on the elbow plot\n",
    "kmeans = KMeans(n_clusters=k, random_state=42)\n",
    "kmeans.fit(data_scaled)"
   ]
  },
  {
   "cell_type": "code",
   "execution_count": null,
   "metadata": {},
   "outputs": [],
   "source": [
    "df_cluster['cluster'] = kmeans.labels_\n",
    "df_cluster.head()"
   ]
  },
  {
   "cell_type": "code",
   "execution_count": null,
   "metadata": {},
   "outputs": [],
   "source": [
    "cluster_sizes = df_cluster['cluster'].value_counts()\n",
    "print(cluster_sizes)"
   ]
  },
  {
   "cell_type": "code",
   "execution_count": null,
   "metadata": {},
   "outputs": [],
   "source": [
    "# Create a DataFrame with the scaled data\n",
    "data_scaled_df = pd.DataFrame(df_cluster, columns=df_cluster.columns)\n",
    "\n",
    "# Add the cluster labels\n",
    "data_scaled_df['cluster'] = kmeans.labels_\n",
    "\n",
    "# Calculate the cluster centroids in the scaled data\n",
    "centroids_scaled = data_scaled_df.groupby('cluster').mean().reset_index()\n",
    "\n",
    "# Transform the centroids back to the original data scale\n",
    "centroids = scaler.inverse_transform(centroids_scaled.drop('cluster', axis=1))\n",
    "\n",
    "# Create a DataFrame with the original-scale centroids\n",
    "centroids_df = pd.DataFrame(centroids, columns=df_cluster.columns[:-1])\n",
    "print(centroids_df)"
   ]
  },
  {
   "cell_type": "code",
   "execution_count": null,
   "metadata": {},
   "outputs": [],
   "source": [
    "# Create a list of age group column names to loop through\n",
    "age_cols = ['age_30-39', 'age_40-49', 'age_50-59', 'age_60-65']\n",
    "\n",
    "# Loop through the age group columns and create scatter plots for each one\n",
    "for age_col in age_cols:\n",
    "    plt.figure(figsize=(10, 6))\n",
    "    sns.scatterplot(x=age_col, y='income', hue='cluster', data=df_cluster, palette='Set1')\n",
    "    plt.xlabel(age_col)\n",
    "    plt.ylabel('Income')\n",
    "    plt.title('K-Means Clustering (k = {})'.format(k))\n",
    "    plt.show()"
   ]
  },
  {
   "cell_type": "code",
   "execution_count": null,
   "metadata": {},
   "outputs": [],
   "source": [
    "# Calculate the cluster centroids in the scaled data\n",
    "centroids_scaled = data_scaled_df.groupby('cluster').mean().reset_index()\n",
    "\n",
    "# Transform the centroids back to the original data scale\n",
    "centroids = scaler.inverse_transform(centroids_scaled.drop('cluster', axis=1))\n",
    "\n",
    "# Create a DataFrame with the original-scale centroids\n",
    "centroids_df = pd.DataFrame(centroids, columns=df_cluster.columns[:-1])\n",
    "print(centroids_df)"
   ]
  },
  {
   "cell_type": "code",
   "execution_count": null,
   "metadata": {},
   "outputs": [],
   "source": [
    "# Create a dictionary that maps each cluster label to a unique color\n",
    "colors = cm.rainbow(np.linspace(0, 1, k))\n",
    "color_dict = {i: colors[i] for i in range(k)}\n",
    "\n",
    "# Plot the scatter plot with color and cluster labels\n",
    "plt.scatter(df_cluster[\"income\"], df_cluster[\"days in hospital\"], c=df_cluster[\"cluster\"], cmap=cm.rainbow)\n",
    "plt.xlabel(\"Income\")\n",
    "plt.ylabel(\"Days in Hospital\")\n",
    "plt.title(\"K-Means Clustering (k = {})\".format(k))\n",
    "\n",
    "# Add a legend with color and cluster labels\n",
    "legend_elements = [plt.scatter([], [], marker=\"o\", s=50, color=color_dict[i], label=\"Cluster {}\".format(i)) for i in range(k)]\n",
    "plt.legend(handles=legend_elements, title=\"Clusters\")\n",
    "\n",
    "# # Add cluster labels\n",
    "# for i, row in df_cluster.iterrows():\n",
    "#     plt.text(row[\"income\"], row[\"days in hospital\"], str(row[\"cluster\"]), color=\"black\")\n",
    "\n",
    "plt.show()"
   ]
  },
  {
   "attachments": {},
   "cell_type": "markdown",
   "metadata": {},
   "source": [
    "## Liner Regression "
   ]
  },
  {
   "cell_type": "code",
   "execution_count": null,
   "metadata": {},
   "outputs": [],
   "source": [
    "# Drop rows with missing values\n",
    "df_reg = df.dropna()\n",
    "df_reg.head()\n",
    "# df_reg.shape"
   ]
  },
  {
   "cell_type": "code",
   "execution_count": null,
   "metadata": {},
   "outputs": [],
   "source": [
    "# assuming df is your DataFrame\n",
    "ordinal_enc = OrdinalEncoder()\n",
    "label_enc = LabelEncoder()\n",
    "\n",
    "# apply ordinal encoding to age\n",
    "df_reg['age'] = ordinal_enc.fit_transform(df_reg[['age']])\n",
    "\n",
    "# apply ordinal label encoding to education\n",
    "df_reg['education'] = label_enc.fit_transform(df_reg['education'])\n",
    "\n",
    "# apply one-hot encoding to gender and ethnicity\n",
    "df_reg = pd.get_dummies(df_reg, columns=['gender', 'ethnicity', 'municipality'])\n"
   ]
  },
  {
   "cell_type": "code",
   "execution_count": null,
   "metadata": {},
   "outputs": [],
   "source": [
    "# Define our features and target variable\n",
    "X = df_reg[['income', 'age', 'education', 'gender_Men', 'gender_Women',\n",
    "            'ethnicity_Danish', 'ethnicity_Immigrants and descendants',\n",
    "            'ethnicity_Non-western immigrants and descendants',\n",
    "            'municipality_Albertslund', 'municipality_Ballerup',\n",
    "            'municipality_Brøndby', 'municipality_Copenhagen',\n",
    "            'municipality_Denmark', 'municipality_Dragør',\n",
    "            'municipality_Frederiksberg', 'municipality_Furesø',\n",
    "            'municipality_Gentofte', 'municipality_Gladsaxe',\n",
    "            'municipality_Glostrup', 'municipality_Greater Copenhagen',\n",
    "            'municipality_Greve', 'municipality_Herlev', 'municipality_Hvidovre',\n",
    "            'municipality_Høje-Taastrup', 'municipality_Ishøj',\n",
    "            'municipality_Lyngby-Taarbæk', 'municipality_Rudersdal',\n",
    "            'municipality_Rødovre', 'municipality_Tårnby',\n",
    "            'municipality_Vallensbæk']]\n",
    "y = df_reg['days in hospital']\n"
   ]
  },
  {
   "cell_type": "code",
   "execution_count": null,
   "metadata": {},
   "outputs": [],
   "source": [
    "# Create a LinearRegression object\n",
    "model = LinearRegression()\n",
    "\n",
    "# Split the data into a training set and a test set\n",
    "X_train, X_test, y_train, y_test = train_test_split(X, y, test_size=0.2, random_state=42)\n",
    "\n",
    "# Fit the model to your training data\n",
    "model.fit(X_train, y_train)\n",
    "\n",
    "# Make predictions on the training data\n",
    "y_pred_train = model.predict(X_train)\n",
    "# Print out the mean squared error and R-squared for the training data\n",
    "print(\"Training Mean Squared Error: \", mean_squared_error(y_train, y_pred_train))\n",
    "print(\"Training R-squared: \", r2_score(y_train, y_pred_train))\n",
    "\n",
    "# Use the trained model to make predictions on the test data\n",
    "y_pred_test = model.predict(X_test)\n",
    "\n",
    "print(\"Test Mean Squared Error: \", mean_squared_error(y_test, y_pred_test))\n",
    "print(\"Test R-squared: \", r2_score(y_test, y_pred_test))\n"
   ]
  },
  {
   "cell_type": "code",
   "execution_count": null,
   "metadata": {},
   "outputs": [],
   "source": []
  },
  {
   "cell_type": "code",
   "execution_count": null,
   "metadata": {},
   "outputs": [],
   "source": []
  },
  {
   "cell_type": "code",
   "execution_count": null,
   "metadata": {},
   "outputs": [],
   "source": []
  }
 ],
 "metadata": {
  "kernelspec": {
   "display_name": "Python 3.9.16 ('base')",
   "language": "python",
   "name": "python3"
  },
  "language_info": {
   "codemirror_mode": {
    "name": "ipython",
    "version": 3
   },
   "file_extension": ".py",
   "mimetype": "text/x-python",
   "name": "python",
   "nbconvert_exporter": "python",
   "pygments_lexer": "ipython3",
   "version": "3.9.13"
  },
  "orig_nbformat": 4,
  "vscode": {
   "interpreter": {
    "hash": "4d8924c1b2505bdba90260062e9738e0000286674d2dd5e22ed396f570b10439"
   }
  }
 },
 "nbformat": 4,
 "nbformat_minor": 2
}
