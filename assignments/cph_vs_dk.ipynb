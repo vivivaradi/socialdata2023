{
 "cells": [
  {
   "cell_type": "code",
   "execution_count": 2,
   "metadata": {},
   "outputs": [],
   "source": [
    "import pandas as pd\n",
    "import matplotlib.pyplot as plt\n",
    "import plotly.express as px\n",
    "import plotly.graph_objs as go\n",
    "\n",
    "%matplotlib inline "
   ]
  },
  {
   "cell_type": "code",
   "execution_count": 3,
   "metadata": {},
   "outputs": [],
   "source": [
    "df = pd.read_csv('copenhagen_data.csv')"
   ]
  },
  {
   "cell_type": "code",
   "execution_count": 4,
   "metadata": {},
   "outputs": [
    {
     "data": {
      "text/html": [
       "<div>\n",
       "<style scoped>\n",
       "    .dataframe tbody tr th:only-of-type {\n",
       "        vertical-align: middle;\n",
       "    }\n",
       "\n",
       "    .dataframe tbody tr th {\n",
       "        vertical-align: top;\n",
       "    }\n",
       "\n",
       "    .dataframe thead th {\n",
       "        text-align: right;\n",
       "    }\n",
       "</style>\n",
       "<table border=\"1\" class=\"dataframe\">\n",
       "  <thead>\n",
       "    <tr style=\"text-align: right;\">\n",
       "      <th></th>\n",
       "      <th>municipality</th>\n",
       "      <th>municipality code</th>\n",
       "      <th>year</th>\n",
       "      <th>gender</th>\n",
       "      <th>age</th>\n",
       "      <th>ethnicity</th>\n",
       "      <th>education</th>\n",
       "      <th>income</th>\n",
       "      <th>income observations</th>\n",
       "      <th>weighted_inc_mun</th>\n",
       "      <th>days in hospital</th>\n",
       "      <th>days in hospital observations</th>\n",
       "      <th>weighted_hosp_days_mun</th>\n",
       "      <th>number of hospitalizations</th>\n",
       "      <th>number of hospitalizations observations</th>\n",
       "      <th>weighted_hospitalizations_mun</th>\n",
       "    </tr>\n",
       "  </thead>\n",
       "  <tbody>\n",
       "    <tr>\n",
       "      <th>0</th>\n",
       "      <td>Denmark</td>\n",
       "      <td>0</td>\n",
       "      <td>2005</td>\n",
       "      <td>Men</td>\n",
       "      <td>18-29</td>\n",
       "      <td>Danish</td>\n",
       "      <td>Higher education</td>\n",
       "      <td>NaN</td>\n",
       "      <td>NaN</td>\n",
       "      <td>NaN</td>\n",
       "      <td>0.186</td>\n",
       "      <td>30425.0</td>\n",
       "      <td>0.001379</td>\n",
       "      <td>0.049</td>\n",
       "      <td>30425.0</td>\n",
       "      <td>0.000364</td>\n",
       "    </tr>\n",
       "    <tr>\n",
       "      <th>1</th>\n",
       "      <td>Denmark</td>\n",
       "      <td>0</td>\n",
       "      <td>2005</td>\n",
       "      <td>Men</td>\n",
       "      <td>18-29</td>\n",
       "      <td>Danish</td>\n",
       "      <td>No higher education</td>\n",
       "      <td>NaN</td>\n",
       "      <td>NaN</td>\n",
       "      <td>NaN</td>\n",
       "      <td>0.269</td>\n",
       "      <td>296267.0</td>\n",
       "      <td>0.019420</td>\n",
       "      <td>0.076</td>\n",
       "      <td>296267.0</td>\n",
       "      <td>0.005493</td>\n",
       "    </tr>\n",
       "    <tr>\n",
       "      <th>2</th>\n",
       "      <td>Denmark</td>\n",
       "      <td>0</td>\n",
       "      <td>2005</td>\n",
       "      <td>Men</td>\n",
       "      <td>18-29</td>\n",
       "      <td>Immigrants and descendants</td>\n",
       "      <td>Higher education</td>\n",
       "      <td>NaN</td>\n",
       "      <td>NaN</td>\n",
       "      <td>NaN</td>\n",
       "      <td>0.159</td>\n",
       "      <td>1925.0</td>\n",
       "      <td>0.000075</td>\n",
       "      <td>0.047</td>\n",
       "      <td>1925.0</td>\n",
       "      <td>0.000022</td>\n",
       "    </tr>\n",
       "    <tr>\n",
       "      <th>3</th>\n",
       "      <td>Denmark</td>\n",
       "      <td>0</td>\n",
       "      <td>2005</td>\n",
       "      <td>Men</td>\n",
       "      <td>18-29</td>\n",
       "      <td>Immigrants and descendants</td>\n",
       "      <td>No higher education</td>\n",
       "      <td>NaN</td>\n",
       "      <td>NaN</td>\n",
       "      <td>NaN</td>\n",
       "      <td>0.256</td>\n",
       "      <td>26048.0</td>\n",
       "      <td>0.001625</td>\n",
       "      <td>0.078</td>\n",
       "      <td>26048.0</td>\n",
       "      <td>0.000496</td>\n",
       "    </tr>\n",
       "    <tr>\n",
       "      <th>4</th>\n",
       "      <td>Denmark</td>\n",
       "      <td>0</td>\n",
       "      <td>2005</td>\n",
       "      <td>Men</td>\n",
       "      <td>18-29</td>\n",
       "      <td>Non-western immigrants and descendants</td>\n",
       "      <td>Higher education</td>\n",
       "      <td>NaN</td>\n",
       "      <td>NaN</td>\n",
       "      <td>NaN</td>\n",
       "      <td>0.155</td>\n",
       "      <td>1096.0</td>\n",
       "      <td>0.000041</td>\n",
       "      <td>0.047</td>\n",
       "      <td>1096.0</td>\n",
       "      <td>0.000013</td>\n",
       "    </tr>\n",
       "  </tbody>\n",
       "</table>\n",
       "</div>"
      ],
      "text/plain": [
       "  municipality  municipality code  year gender    age  \\\n",
       "0      Denmark                  0  2005    Men  18-29   \n",
       "1      Denmark                  0  2005    Men  18-29   \n",
       "2      Denmark                  0  2005    Men  18-29   \n",
       "3      Denmark                  0  2005    Men  18-29   \n",
       "4      Denmark                  0  2005    Men  18-29   \n",
       "\n",
       "                                ethnicity            education  income  \\\n",
       "0                                  Danish     Higher education     NaN   \n",
       "1                                  Danish  No higher education     NaN   \n",
       "2              Immigrants and descendants     Higher education     NaN   \n",
       "3              Immigrants and descendants  No higher education     NaN   \n",
       "4  Non-western immigrants and descendants     Higher education     NaN   \n",
       "\n",
       "   income observations  weighted_inc_mun  days in hospital  \\\n",
       "0                  NaN               NaN             0.186   \n",
       "1                  NaN               NaN             0.269   \n",
       "2                  NaN               NaN             0.159   \n",
       "3                  NaN               NaN             0.256   \n",
       "4                  NaN               NaN             0.155   \n",
       "\n",
       "   days in hospital observations  weighted_hosp_days_mun  \\\n",
       "0                        30425.0                0.001379   \n",
       "1                       296267.0                0.019420   \n",
       "2                         1925.0                0.000075   \n",
       "3                        26048.0                0.001625   \n",
       "4                         1096.0                0.000041   \n",
       "\n",
       "   number of hospitalizations  number of hospitalizations observations  \\\n",
       "0                       0.049                                  30425.0   \n",
       "1                       0.076                                 296267.0   \n",
       "2                       0.047                                   1925.0   \n",
       "3                       0.078                                  26048.0   \n",
       "4                       0.047                                   1096.0   \n",
       "\n",
       "   weighted_hospitalizations_mun  \n",
       "0                       0.000364  \n",
       "1                       0.005493  \n",
       "2                       0.000022  \n",
       "3                       0.000496  \n",
       "4                       0.000013  "
      ]
     },
     "execution_count": 4,
     "metadata": {},
     "output_type": "execute_result"
    }
   ],
   "source": [
    "df.head()"
   ]
  },
  {
   "cell_type": "code",
   "execution_count": 5,
   "metadata": {},
   "outputs": [
    {
     "data": {
      "text/html": [
       "<div>\n",
       "<style scoped>\n",
       "    .dataframe tbody tr th:only-of-type {\n",
       "        vertical-align: middle;\n",
       "    }\n",
       "\n",
       "    .dataframe tbody tr th {\n",
       "        vertical-align: top;\n",
       "    }\n",
       "\n",
       "    .dataframe thead th {\n",
       "        text-align: right;\n",
       "    }\n",
       "</style>\n",
       "<table border=\"1\" class=\"dataframe\">\n",
       "  <thead>\n",
       "    <tr style=\"text-align: right;\">\n",
       "      <th></th>\n",
       "      <th>municipality</th>\n",
       "      <th>municipality code</th>\n",
       "      <th>year</th>\n",
       "      <th>age</th>\n",
       "      <th>ethnicity</th>\n",
       "      <th>education</th>\n",
       "      <th>income</th>\n",
       "      <th>income observations</th>\n",
       "      <th>weighted_inc_mun</th>\n",
       "      <th>days in hospital</th>\n",
       "      <th>days in hospital observations</th>\n",
       "      <th>weighted_hosp_days_mun</th>\n",
       "      <th>number of hospitalizations</th>\n",
       "      <th>number of hospitalizations observations</th>\n",
       "      <th>weighted_hospitalizations_mun</th>\n",
       "      <th>gender_Men</th>\n",
       "      <th>gender_Women</th>\n",
       "    </tr>\n",
       "  </thead>\n",
       "  <tbody>\n",
       "    <tr>\n",
       "      <th>0</th>\n",
       "      <td>Denmark</td>\n",
       "      <td>0</td>\n",
       "      <td>2005</td>\n",
       "      <td>18-29</td>\n",
       "      <td>Danish</td>\n",
       "      <td>Higher education</td>\n",
       "      <td>NaN</td>\n",
       "      <td>NaN</td>\n",
       "      <td>NaN</td>\n",
       "      <td>0.186</td>\n",
       "      <td>30425.0</td>\n",
       "      <td>0.001379</td>\n",
       "      <td>0.049</td>\n",
       "      <td>30425.0</td>\n",
       "      <td>0.000364</td>\n",
       "      <td>1</td>\n",
       "      <td>0</td>\n",
       "    </tr>\n",
       "    <tr>\n",
       "      <th>1</th>\n",
       "      <td>Denmark</td>\n",
       "      <td>0</td>\n",
       "      <td>2005</td>\n",
       "      <td>18-29</td>\n",
       "      <td>Danish</td>\n",
       "      <td>No higher education</td>\n",
       "      <td>NaN</td>\n",
       "      <td>NaN</td>\n",
       "      <td>NaN</td>\n",
       "      <td>0.269</td>\n",
       "      <td>296267.0</td>\n",
       "      <td>0.019420</td>\n",
       "      <td>0.076</td>\n",
       "      <td>296267.0</td>\n",
       "      <td>0.005493</td>\n",
       "      <td>1</td>\n",
       "      <td>0</td>\n",
       "    </tr>\n",
       "    <tr>\n",
       "      <th>2</th>\n",
       "      <td>Denmark</td>\n",
       "      <td>0</td>\n",
       "      <td>2005</td>\n",
       "      <td>18-29</td>\n",
       "      <td>Immigrants and descendants</td>\n",
       "      <td>Higher education</td>\n",
       "      <td>NaN</td>\n",
       "      <td>NaN</td>\n",
       "      <td>NaN</td>\n",
       "      <td>0.159</td>\n",
       "      <td>1925.0</td>\n",
       "      <td>0.000075</td>\n",
       "      <td>0.047</td>\n",
       "      <td>1925.0</td>\n",
       "      <td>0.000022</td>\n",
       "      <td>1</td>\n",
       "      <td>0</td>\n",
       "    </tr>\n",
       "    <tr>\n",
       "      <th>3</th>\n",
       "      <td>Denmark</td>\n",
       "      <td>0</td>\n",
       "      <td>2005</td>\n",
       "      <td>18-29</td>\n",
       "      <td>Immigrants and descendants</td>\n",
       "      <td>No higher education</td>\n",
       "      <td>NaN</td>\n",
       "      <td>NaN</td>\n",
       "      <td>NaN</td>\n",
       "      <td>0.256</td>\n",
       "      <td>26048.0</td>\n",
       "      <td>0.001625</td>\n",
       "      <td>0.078</td>\n",
       "      <td>26048.0</td>\n",
       "      <td>0.000496</td>\n",
       "      <td>1</td>\n",
       "      <td>0</td>\n",
       "    </tr>\n",
       "    <tr>\n",
       "      <th>4</th>\n",
       "      <td>Denmark</td>\n",
       "      <td>0</td>\n",
       "      <td>2005</td>\n",
       "      <td>18-29</td>\n",
       "      <td>Non-western immigrants and descendants</td>\n",
       "      <td>Higher education</td>\n",
       "      <td>NaN</td>\n",
       "      <td>NaN</td>\n",
       "      <td>NaN</td>\n",
       "      <td>0.155</td>\n",
       "      <td>1096.0</td>\n",
       "      <td>0.000041</td>\n",
       "      <td>0.047</td>\n",
       "      <td>1096.0</td>\n",
       "      <td>0.000013</td>\n",
       "      <td>1</td>\n",
       "      <td>0</td>\n",
       "    </tr>\n",
       "    <tr>\n",
       "      <th>...</th>\n",
       "      <td>...</td>\n",
       "      <td>...</td>\n",
       "      <td>...</td>\n",
       "      <td>...</td>\n",
       "      <td>...</td>\n",
       "      <td>...</td>\n",
       "      <td>...</td>\n",
       "      <td>...</td>\n",
       "      <td>...</td>\n",
       "      <td>...</td>\n",
       "      <td>...</td>\n",
       "      <td>...</td>\n",
       "      <td>...</td>\n",
       "      <td>...</td>\n",
       "      <td>...</td>\n",
       "      <td>...</td>\n",
       "      <td>...</td>\n",
       "    </tr>\n",
       "    <tr>\n",
       "      <th>39600</th>\n",
       "      <td>Greater Copenhagen</td>\n",
       "      <td>1</td>\n",
       "      <td>2020</td>\n",
       "      <td>60-65</td>\n",
       "      <td>Danish</td>\n",
       "      <td>No higher education</td>\n",
       "      <td>327995.938342</td>\n",
       "      <td>19143.0</td>\n",
       "      <td>9789.862554</td>\n",
       "      <td>NaN</td>\n",
       "      <td>NaN</td>\n",
       "      <td>NaN</td>\n",
       "      <td>NaN</td>\n",
       "      <td>NaN</td>\n",
       "      <td>NaN</td>\n",
       "      <td>0</td>\n",
       "      <td>1</td>\n",
       "    </tr>\n",
       "    <tr>\n",
       "      <th>39601</th>\n",
       "      <td>Greater Copenhagen</td>\n",
       "      <td>1</td>\n",
       "      <td>2020</td>\n",
       "      <td>60-65</td>\n",
       "      <td>Immigrants and descendants</td>\n",
       "      <td>Higher education</td>\n",
       "      <td>360832.894995</td>\n",
       "      <td>1075.0</td>\n",
       "      <td>604.801301</td>\n",
       "      <td>NaN</td>\n",
       "      <td>NaN</td>\n",
       "      <td>NaN</td>\n",
       "      <td>NaN</td>\n",
       "      <td>NaN</td>\n",
       "      <td>NaN</td>\n",
       "      <td>0</td>\n",
       "      <td>1</td>\n",
       "    </tr>\n",
       "    <tr>\n",
       "      <th>39602</th>\n",
       "      <td>Greater Copenhagen</td>\n",
       "      <td>1</td>\n",
       "      <td>2020</td>\n",
       "      <td>60-65</td>\n",
       "      <td>Immigrants and descendants</td>\n",
       "      <td>No higher education</td>\n",
       "      <td>233379.566602</td>\n",
       "      <td>2257.0</td>\n",
       "      <td>821.282403</td>\n",
       "      <td>NaN</td>\n",
       "      <td>NaN</td>\n",
       "      <td>NaN</td>\n",
       "      <td>NaN</td>\n",
       "      <td>NaN</td>\n",
       "      <td>NaN</td>\n",
       "      <td>0</td>\n",
       "      <td>1</td>\n",
       "    </tr>\n",
       "    <tr>\n",
       "      <th>39603</th>\n",
       "      <td>Greater Copenhagen</td>\n",
       "      <td>1</td>\n",
       "      <td>2020</td>\n",
       "      <td>60-65</td>\n",
       "      <td>Non-western immigrants and descendants</td>\n",
       "      <td>Higher education</td>\n",
       "      <td>258666.804848</td>\n",
       "      <td>369.0</td>\n",
       "      <td>148.821334</td>\n",
       "      <td>NaN</td>\n",
       "      <td>NaN</td>\n",
       "      <td>NaN</td>\n",
       "      <td>NaN</td>\n",
       "      <td>NaN</td>\n",
       "      <td>NaN</td>\n",
       "      <td>0</td>\n",
       "      <td>1</td>\n",
       "    </tr>\n",
       "    <tr>\n",
       "      <th>39604</th>\n",
       "      <td>Greater Copenhagen</td>\n",
       "      <td>1</td>\n",
       "      <td>2020</td>\n",
       "      <td>60-65</td>\n",
       "      <td>Non-western immigrants and descendants</td>\n",
       "      <td>No higher education</td>\n",
       "      <td>209047.890537</td>\n",
       "      <td>1352.0</td>\n",
       "      <td>440.677230</td>\n",
       "      <td>NaN</td>\n",
       "      <td>NaN</td>\n",
       "      <td>NaN</td>\n",
       "      <td>NaN</td>\n",
       "      <td>NaN</td>\n",
       "      <td>NaN</td>\n",
       "      <td>0</td>\n",
       "      <td>1</td>\n",
       "    </tr>\n",
       "  </tbody>\n",
       "</table>\n",
       "<p>39605 rows × 17 columns</p>\n",
       "</div>"
      ],
      "text/plain": [
       "             municipality  municipality code  year    age  \\\n",
       "0                 Denmark                  0  2005  18-29   \n",
       "1                 Denmark                  0  2005  18-29   \n",
       "2                 Denmark                  0  2005  18-29   \n",
       "3                 Denmark                  0  2005  18-29   \n",
       "4                 Denmark                  0  2005  18-29   \n",
       "...                   ...                ...   ...    ...   \n",
       "39600  Greater Copenhagen                  1  2020  60-65   \n",
       "39601  Greater Copenhagen                  1  2020  60-65   \n",
       "39602  Greater Copenhagen                  1  2020  60-65   \n",
       "39603  Greater Copenhagen                  1  2020  60-65   \n",
       "39604  Greater Copenhagen                  1  2020  60-65   \n",
       "\n",
       "                                    ethnicity            education  \\\n",
       "0                                      Danish     Higher education   \n",
       "1                                      Danish  No higher education   \n",
       "2                  Immigrants and descendants     Higher education   \n",
       "3                  Immigrants and descendants  No higher education   \n",
       "4      Non-western immigrants and descendants     Higher education   \n",
       "...                                       ...                  ...   \n",
       "39600                                  Danish  No higher education   \n",
       "39601              Immigrants and descendants     Higher education   \n",
       "39602              Immigrants and descendants  No higher education   \n",
       "39603  Non-western immigrants and descendants     Higher education   \n",
       "39604  Non-western immigrants and descendants  No higher education   \n",
       "\n",
       "              income  income observations  weighted_inc_mun  days in hospital  \\\n",
       "0                NaN                  NaN               NaN             0.186   \n",
       "1                NaN                  NaN               NaN             0.269   \n",
       "2                NaN                  NaN               NaN             0.159   \n",
       "3                NaN                  NaN               NaN             0.256   \n",
       "4                NaN                  NaN               NaN             0.155   \n",
       "...              ...                  ...               ...               ...   \n",
       "39600  327995.938342              19143.0       9789.862554               NaN   \n",
       "39601  360832.894995               1075.0        604.801301               NaN   \n",
       "39602  233379.566602               2257.0        821.282403               NaN   \n",
       "39603  258666.804848                369.0        148.821334               NaN   \n",
       "39604  209047.890537               1352.0        440.677230               NaN   \n",
       "\n",
       "       days in hospital observations  weighted_hosp_days_mun  \\\n",
       "0                            30425.0                0.001379   \n",
       "1                           296267.0                0.019420   \n",
       "2                             1925.0                0.000075   \n",
       "3                            26048.0                0.001625   \n",
       "4                             1096.0                0.000041   \n",
       "...                              ...                     ...   \n",
       "39600                            NaN                     NaN   \n",
       "39601                            NaN                     NaN   \n",
       "39602                            NaN                     NaN   \n",
       "39603                            NaN                     NaN   \n",
       "39604                            NaN                     NaN   \n",
       "\n",
       "       number of hospitalizations  number of hospitalizations observations  \\\n",
       "0                           0.049                                  30425.0   \n",
       "1                           0.076                                 296267.0   \n",
       "2                           0.047                                   1925.0   \n",
       "3                           0.078                                  26048.0   \n",
       "4                           0.047                                   1096.0   \n",
       "...                           ...                                      ...   \n",
       "39600                         NaN                                      NaN   \n",
       "39601                         NaN                                      NaN   \n",
       "39602                         NaN                                      NaN   \n",
       "39603                         NaN                                      NaN   \n",
       "39604                         NaN                                      NaN   \n",
       "\n",
       "       weighted_hospitalizations_mun  gender_Men  gender_Women  \n",
       "0                           0.000364           1             0  \n",
       "1                           0.005493           1             0  \n",
       "2                           0.000022           1             0  \n",
       "3                           0.000496           1             0  \n",
       "4                           0.000013           1             0  \n",
       "...                              ...         ...           ...  \n",
       "39600                            NaN           0             1  \n",
       "39601                            NaN           0             1  \n",
       "39602                            NaN           0             1  \n",
       "39603                            NaN           0             1  \n",
       "39604                            NaN           0             1  \n",
       "\n",
       "[39605 rows x 17 columns]"
      ]
     },
     "execution_count": 5,
     "metadata": {},
     "output_type": "execute_result"
    }
   ],
   "source": [
    "# Perform one-hot encoding on the 'gender' column\n",
    "one_hot_encoded_gender = pd.get_dummies(df.gender, prefix='gender')\n",
    "\n",
    "# Concatenate the one-hot encoded columns to the original DataFrame\n",
    "df_gender = pd.concat([df.drop('gender', axis=1), one_hot_encoded_gender], axis=1)\n",
    "df_gender\n"
   ]
  },
  {
   "cell_type": "code",
   "execution_count": 6,
   "metadata": {},
   "outputs": [],
   "source": [
    "women_dk = df[(df.gender == 'Women') & (df.municipality == 'Denmark')]\n",
    "women_cph = df[(df.gender == 'Women') & (df.municipality == 'Greater Copenhagen')]"
   ]
  },
  {
   "cell_type": "code",
   "execution_count": 7,
   "metadata": {},
   "outputs": [
    {
     "data": {
      "text/plain": [
       "municipality                                 0\n",
       "municipality code                            0\n",
       "year                                         0\n",
       "gender                                       0\n",
       "age                                          0\n",
       "ethnicity                                    0\n",
       "education                                    0\n",
       "income                                      84\n",
       "income observations                         84\n",
       "weighted_inc_mun                            84\n",
       "days in hospital                           480\n",
       "days in hospital observations              480\n",
       "weighted_hosp_days_mun                     480\n",
       "number of hospitalizations                 480\n",
       "number of hospitalizations observations    480\n",
       "weighted_hospitalizations_mun              480\n",
       "dtype: int64"
      ]
     },
     "execution_count": 7,
     "metadata": {},
     "output_type": "execute_result"
    }
   ],
   "source": [
    "women_cph.isnull().sum()"
   ]
  },
  {
   "cell_type": "code",
   "execution_count": 8,
   "metadata": {},
   "outputs": [
    {
     "data": {
      "text/plain": [
       "municipality                                 0\n",
       "municipality code                            0\n",
       "year                                         0\n",
       "gender                                       0\n",
       "age                                          0\n",
       "ethnicity                                    0\n",
       "education                                    0\n",
       "income                                      84\n",
       "income observations                         84\n",
       "weighted_inc_mun                            84\n",
       "days in hospital                           480\n",
       "days in hospital observations              480\n",
       "weighted_hosp_days_mun                     480\n",
       "number of hospitalizations                 480\n",
       "number of hospitalizations observations    480\n",
       "weighted_hospitalizations_mun              480\n",
       "dtype: int64"
      ]
     },
     "execution_count": 8,
     "metadata": {},
     "output_type": "execute_result"
    }
   ],
   "source": [
    "women_dk.isnull().sum()"
   ]
  },
  {
   "cell_type": "code",
   "execution_count": 9,
   "metadata": {},
   "outputs": [
    {
     "data": {
      "text/html": [
       "<div>\n",
       "<style scoped>\n",
       "    .dataframe tbody tr th:only-of-type {\n",
       "        vertical-align: middle;\n",
       "    }\n",
       "\n",
       "    .dataframe tbody tr th {\n",
       "        vertical-align: top;\n",
       "    }\n",
       "\n",
       "    .dataframe thead th {\n",
       "        text-align: right;\n",
       "    }\n",
       "</style>\n",
       "<table border=\"1\" class=\"dataframe\">\n",
       "  <thead>\n",
       "    <tr style=\"text-align: right;\">\n",
       "      <th></th>\n",
       "      <th>municipality code</th>\n",
       "      <th>year</th>\n",
       "      <th>income</th>\n",
       "      <th>income observations</th>\n",
       "      <th>weighted_inc_mun</th>\n",
       "      <th>days in hospital</th>\n",
       "      <th>days in hospital observations</th>\n",
       "      <th>weighted_hosp_days_mun</th>\n",
       "      <th>number of hospitalizations</th>\n",
       "      <th>number of hospitalizations observations</th>\n",
       "      <th>weighted_hospitalizations_mun</th>\n",
       "    </tr>\n",
       "  </thead>\n",
       "  <tbody>\n",
       "    <tr>\n",
       "      <th>count</th>\n",
       "      <td>900.0</td>\n",
       "      <td>900.000000</td>\n",
       "      <td>816.000000</td>\n",
       "      <td>816.000000</td>\n",
       "      <td>816.000000</td>\n",
       "      <td>420.000000</td>\n",
       "      <td>420.000000</td>\n",
       "      <td>420.000000</td>\n",
       "      <td>420.000000</td>\n",
       "      <td>420.000000</td>\n",
       "      <td>420.000000</td>\n",
       "    </tr>\n",
       "    <tr>\n",
       "      <th>mean</th>\n",
       "      <td>0.0</td>\n",
       "      <td>2004.246667</td>\n",
       "      <td>231148.001544</td>\n",
       "      <td>50582.045343</td>\n",
       "      <td>5242.652856</td>\n",
       "      <td>0.688081</td>\n",
       "      <td>73545.061905</td>\n",
       "      <td>0.016225</td>\n",
       "      <td>0.175255</td>\n",
       "      <td>73545.061905</td>\n",
       "      <td>0.003613</td>\n",
       "    </tr>\n",
       "    <tr>\n",
       "      <th>std</th>\n",
       "      <td>0.0</td>\n",
       "      <td>9.711021</td>\n",
       "      <td>54344.204847</td>\n",
       "      <td>75442.268114</td>\n",
       "      <td>7776.173635</td>\n",
       "      <td>0.523846</td>\n",
       "      <td>115823.896253</td>\n",
       "      <td>0.047336</td>\n",
       "      <td>0.076952</td>\n",
       "      <td>115823.896253</td>\n",
       "      <td>0.008649</td>\n",
       "    </tr>\n",
       "    <tr>\n",
       "      <th>min</th>\n",
       "      <td>0.0</td>\n",
       "      <td>1987.000000</td>\n",
       "      <td>132744.213000</td>\n",
       "      <td>95.000000</td>\n",
       "      <td>10.842936</td>\n",
       "      <td>0.146000</td>\n",
       "      <td>739.000000</td>\n",
       "      <td>0.000136</td>\n",
       "      <td>0.064000</td>\n",
       "      <td>739.000000</td>\n",
       "      <td>0.000046</td>\n",
       "    </tr>\n",
       "    <tr>\n",
       "      <th>25%</th>\n",
       "      <td>0.0</td>\n",
       "      <td>1996.000000</td>\n",
       "      <td>187093.794000</td>\n",
       "      <td>3094.000000</td>\n",
       "      <td>273.547178</td>\n",
       "      <td>0.360750</td>\n",
       "      <td>6866.750000</td>\n",
       "      <td>0.000811</td>\n",
       "      <td>0.124750</td>\n",
       "      <td>6866.750000</td>\n",
       "      <td>0.000226</td>\n",
       "    </tr>\n",
       "    <tr>\n",
       "      <th>50%</th>\n",
       "      <td>0.0</td>\n",
       "      <td>2005.000000</td>\n",
       "      <td>223897.277000</td>\n",
       "      <td>8358.500000</td>\n",
       "      <td>754.998928</td>\n",
       "      <td>0.487000</td>\n",
       "      <td>15870.500000</td>\n",
       "      <td>0.001970</td>\n",
       "      <td>0.153000</td>\n",
       "      <td>15870.500000</td>\n",
       "      <td>0.000608</td>\n",
       "    </tr>\n",
       "    <tr>\n",
       "      <th>75%</th>\n",
       "      <td>0.0</td>\n",
       "      <td>2013.000000</td>\n",
       "      <td>262636.062750</td>\n",
       "      <td>92572.500000</td>\n",
       "      <td>10046.301530</td>\n",
       "      <td>0.733500</td>\n",
       "      <td>119248.000000</td>\n",
       "      <td>0.011903</td>\n",
       "      <td>0.184000</td>\n",
       "      <td>119248.000000</td>\n",
       "      <td>0.003465</td>\n",
       "    </tr>\n",
       "    <tr>\n",
       "      <th>max</th>\n",
       "      <td>0.0</td>\n",
       "      <td>2020.000000</td>\n",
       "      <td>432689.526000</td>\n",
       "      <td>271526.000000</td>\n",
       "      <td>28641.438926</td>\n",
       "      <td>2.549000</td>\n",
       "      <td>566835.000000</td>\n",
       "      <td>0.293683</td>\n",
       "      <td>0.408000</td>\n",
       "      <td>566835.000000</td>\n",
       "      <td>0.051088</td>\n",
       "    </tr>\n",
       "  </tbody>\n",
       "</table>\n",
       "</div>"
      ],
      "text/plain": [
       "       municipality code         year         income  income observations  \\\n",
       "count              900.0   900.000000     816.000000           816.000000   \n",
       "mean                 0.0  2004.246667  231148.001544         50582.045343   \n",
       "std                  0.0     9.711021   54344.204847         75442.268114   \n",
       "min                  0.0  1987.000000  132744.213000            95.000000   \n",
       "25%                  0.0  1996.000000  187093.794000          3094.000000   \n",
       "50%                  0.0  2005.000000  223897.277000          8358.500000   \n",
       "75%                  0.0  2013.000000  262636.062750         92572.500000   \n",
       "max                  0.0  2020.000000  432689.526000        271526.000000   \n",
       "\n",
       "       weighted_inc_mun  days in hospital  days in hospital observations  \\\n",
       "count        816.000000        420.000000                     420.000000   \n",
       "mean        5242.652856          0.688081                   73545.061905   \n",
       "std         7776.173635          0.523846                  115823.896253   \n",
       "min           10.842936          0.146000                     739.000000   \n",
       "25%          273.547178          0.360750                    6866.750000   \n",
       "50%          754.998928          0.487000                   15870.500000   \n",
       "75%        10046.301530          0.733500                  119248.000000   \n",
       "max        28641.438926          2.549000                  566835.000000   \n",
       "\n",
       "       weighted_hosp_days_mun  number of hospitalizations  \\\n",
       "count              420.000000                  420.000000   \n",
       "mean                 0.016225                    0.175255   \n",
       "std                  0.047336                    0.076952   \n",
       "min                  0.000136                    0.064000   \n",
       "25%                  0.000811                    0.124750   \n",
       "50%                  0.001970                    0.153000   \n",
       "75%                  0.011903                    0.184000   \n",
       "max                  0.293683                    0.408000   \n",
       "\n",
       "       number of hospitalizations observations  weighted_hospitalizations_mun  \n",
       "count                               420.000000                     420.000000  \n",
       "mean                              73545.061905                       0.003613  \n",
       "std                              115823.896253                       0.008649  \n",
       "min                                 739.000000                       0.000046  \n",
       "25%                                6866.750000                       0.000226  \n",
       "50%                               15870.500000                       0.000608  \n",
       "75%                              119248.000000                       0.003465  \n",
       "max                              566835.000000                       0.051088  "
      ]
     },
     "execution_count": 9,
     "metadata": {},
     "output_type": "execute_result"
    }
   ],
   "source": [
    "women_dk.describe()"
   ]
  },
  {
   "cell_type": "code",
   "execution_count": 10,
   "metadata": {},
   "outputs": [
    {
     "data": {
      "text/html": [
       "<div>\n",
       "<style scoped>\n",
       "    .dataframe tbody tr th:only-of-type {\n",
       "        vertical-align: middle;\n",
       "    }\n",
       "\n",
       "    .dataframe tbody tr th {\n",
       "        vertical-align: top;\n",
       "    }\n",
       "\n",
       "    .dataframe thead th {\n",
       "        text-align: right;\n",
       "    }\n",
       "</style>\n",
       "<table border=\"1\" class=\"dataframe\">\n",
       "  <thead>\n",
       "    <tr style=\"text-align: right;\">\n",
       "      <th></th>\n",
       "      <th>municipality code</th>\n",
       "      <th>year</th>\n",
       "      <th>income</th>\n",
       "      <th>income observations</th>\n",
       "      <th>weighted_inc_mun</th>\n",
       "      <th>days in hospital</th>\n",
       "      <th>days in hospital observations</th>\n",
       "      <th>weighted_hosp_days_mun</th>\n",
       "      <th>number of hospitalizations</th>\n",
       "      <th>number of hospitalizations observations</th>\n",
       "      <th>weighted_hospitalizations_mun</th>\n",
       "    </tr>\n",
       "  </thead>\n",
       "  <tbody>\n",
       "    <tr>\n",
       "      <th>count</th>\n",
       "      <td>900.0</td>\n",
       "      <td>900.000000</td>\n",
       "      <td>816.000000</td>\n",
       "      <td>816.000000</td>\n",
       "      <td>816.000000</td>\n",
       "      <td>420.000000</td>\n",
       "      <td>420.000000</td>\n",
       "      <td>420.000000</td>\n",
       "      <td>420.000000</td>\n",
       "      <td>420.000000</td>\n",
       "      <td>420.000000</td>\n",
       "    </tr>\n",
       "    <tr>\n",
       "      <th>mean</th>\n",
       "      <td>1.0</td>\n",
       "      <td>2004.246667</td>\n",
       "      <td>227421.468557</td>\n",
       "      <td>12102.427696</td>\n",
       "      <td>5495.549291</td>\n",
       "      <td>0.748357</td>\n",
       "      <td>18396.780952</td>\n",
       "      <td>0.016753</td>\n",
       "      <td>0.187238</td>\n",
       "      <td>18396.780952</td>\n",
       "      <td>0.003720</td>\n",
       "    </tr>\n",
       "    <tr>\n",
       "      <th>std</th>\n",
       "      <td>0.0</td>\n",
       "      <td>9.711021</td>\n",
       "      <td>73910.812681</td>\n",
       "      <td>16153.552222</td>\n",
       "      <td>7530.139170</td>\n",
       "      <td>0.649131</td>\n",
       "      <td>23544.299073</td>\n",
       "      <td>0.046669</td>\n",
       "      <td>0.092704</td>\n",
       "      <td>23544.299073</td>\n",
       "      <td>0.007929</td>\n",
       "    </tr>\n",
       "    <tr>\n",
       "      <th>min</th>\n",
       "      <td>1.0</td>\n",
       "      <td>1987.000000</td>\n",
       "      <td>0.000000</td>\n",
       "      <td>0.000000</td>\n",
       "      <td>0.000000</td>\n",
       "      <td>0.142508</td>\n",
       "      <td>189.000000</td>\n",
       "      <td>0.000116</td>\n",
       "      <td>0.070749</td>\n",
       "      <td>189.000000</td>\n",
       "      <td>0.000040</td>\n",
       "    </tr>\n",
       "    <tr>\n",
       "      <th>25%</th>\n",
       "      <td>1.0</td>\n",
       "      <td>1996.000000</td>\n",
       "      <td>183312.118565</td>\n",
       "      <td>934.250000</td>\n",
       "      <td>362.998452</td>\n",
       "      <td>0.349352</td>\n",
       "      <td>2943.250000</td>\n",
       "      <td>0.001316</td>\n",
       "      <td>0.127060</td>\n",
       "      <td>2943.250000</td>\n",
       "      <td>0.000420</td>\n",
       "    </tr>\n",
       "    <tr>\n",
       "      <th>50%</th>\n",
       "      <td>1.0</td>\n",
       "      <td>2005.000000</td>\n",
       "      <td>219904.990893</td>\n",
       "      <td>3262.000000</td>\n",
       "      <td>1232.432108</td>\n",
       "      <td>0.496680</td>\n",
       "      <td>6892.000000</td>\n",
       "      <td>0.003411</td>\n",
       "      <td>0.159697</td>\n",
       "      <td>6892.000000</td>\n",
       "      <td>0.001144</td>\n",
       "    </tr>\n",
       "    <tr>\n",
       "      <th>75%</th>\n",
       "      <td>1.0</td>\n",
       "      <td>2013.000000</td>\n",
       "      <td>269361.221787</td>\n",
       "      <td>22497.750000</td>\n",
       "      <td>10117.321605</td>\n",
       "      <td>0.756136</td>\n",
       "      <td>29409.000000</td>\n",
       "      <td>0.013196</td>\n",
       "      <td>0.200414</td>\n",
       "      <td>29409.000000</td>\n",
       "      <td>0.003842</td>\n",
       "    </tr>\n",
       "    <tr>\n",
       "      <th>max</th>\n",
       "      <td>1.0</td>\n",
       "      <td>2020.000000</td>\n",
       "      <td>481647.943619</td>\n",
       "      <td>58907.000000</td>\n",
       "      <td>27843.156313</td>\n",
       "      <td>3.033039</td>\n",
       "      <td>104615.000000</td>\n",
       "      <td>0.304670</td>\n",
       "      <td>0.505179</td>\n",
       "      <td>104615.000000</td>\n",
       "      <td>0.046701</td>\n",
       "    </tr>\n",
       "  </tbody>\n",
       "</table>\n",
       "</div>"
      ],
      "text/plain": [
       "       municipality code         year         income  income observations  \\\n",
       "count              900.0   900.000000     816.000000           816.000000   \n",
       "mean                 1.0  2004.246667  227421.468557         12102.427696   \n",
       "std                  0.0     9.711021   73910.812681         16153.552222   \n",
       "min                  1.0  1987.000000       0.000000             0.000000   \n",
       "25%                  1.0  1996.000000  183312.118565           934.250000   \n",
       "50%                  1.0  2005.000000  219904.990893          3262.000000   \n",
       "75%                  1.0  2013.000000  269361.221787         22497.750000   \n",
       "max                  1.0  2020.000000  481647.943619         58907.000000   \n",
       "\n",
       "       weighted_inc_mun  days in hospital  days in hospital observations  \\\n",
       "count        816.000000        420.000000                     420.000000   \n",
       "mean        5495.549291          0.748357                   18396.780952   \n",
       "std         7530.139170          0.649131                   23544.299073   \n",
       "min            0.000000          0.142508                     189.000000   \n",
       "25%          362.998452          0.349352                    2943.250000   \n",
       "50%         1232.432108          0.496680                    6892.000000   \n",
       "75%        10117.321605          0.756136                   29409.000000   \n",
       "max        27843.156313          3.033039                  104615.000000   \n",
       "\n",
       "       weighted_hosp_days_mun  number of hospitalizations  \\\n",
       "count              420.000000                  420.000000   \n",
       "mean                 0.016753                    0.187238   \n",
       "std                  0.046669                    0.092704   \n",
       "min                  0.000116                    0.070749   \n",
       "25%                  0.001316                    0.127060   \n",
       "50%                  0.003411                    0.159697   \n",
       "75%                  0.013196                    0.200414   \n",
       "max                  0.304670                    0.505179   \n",
       "\n",
       "       number of hospitalizations observations  weighted_hospitalizations_mun  \n",
       "count                               420.000000                     420.000000  \n",
       "mean                              18396.780952                       0.003720  \n",
       "std                               23544.299073                       0.007929  \n",
       "min                                 189.000000                       0.000040  \n",
       "25%                                2943.250000                       0.000420  \n",
       "50%                                6892.000000                       0.001144  \n",
       "75%                               29409.000000                       0.003842  \n",
       "max                              104615.000000                       0.046701  "
      ]
     },
     "execution_count": 10,
     "metadata": {},
     "output_type": "execute_result"
    }
   ],
   "source": [
    "women_cph.describe()"
   ]
  },
  {
   "cell_type": "code",
   "execution_count": 11,
   "metadata": {},
   "outputs": [
    {
     "data": {
      "image/png": "[encoded data removed]",
      "text/plain": [
       "<Figure size 1000x600 with 1 Axes>"
      ]
     },
     "metadata": {},
     "output_type": "display_data"
    },
    {
     "data": {
      "image/png": "[encoded data removed]",
      "text/plain": [
       "<Figure size 1000x600 with 1 Axes>"
      ]
     },
     "metadata": {},
     "output_type": "display_data"
    }
   ],
   "source": [
    "plt.figure(figsize= (10,6))\n",
    "women_dk.boxplot()\n",
    "plt.xticks(rotation=45)\n",
    "plt.title('Women in Denmark features boxplot')\n",
    "plt.show()\n",
    "\n",
    "plt.figure(figsize= (10,6))\n",
    "women_cph.boxplot()\n",
    "plt.xticks(rotation=45)\n",
    "plt.title('Women in Copenhagen features boxplot ')\n",
    "plt.show()"
   ]
  },
  {
   "cell_type": "code",
   "execution_count": 12,
   "metadata": {},
   "outputs": [],
   "source": [
    "women_dk_drop = women_dk.dropna()\n",
    "women_cph_drop = women_cph.dropna()"
   ]
  },
  {
   "cell_type": "code",
   "execution_count": 13,
   "metadata": {},
   "outputs": [
    {
     "data": {
      "text/html": [
       "<div>\n",
       "<style scoped>\n",
       "    .dataframe tbody tr th:only-of-type {\n",
       "        vertical-align: middle;\n",
       "    }\n",
       "\n",
       "    .dataframe tbody tr th {\n",
       "        vertical-align: top;\n",
       "    }\n",
       "\n",
       "    .dataframe thead th {\n",
       "        text-align: right;\n",
       "    }\n",
       "</style>\n",
       "<table border=\"1\" class=\"dataframe\">\n",
       "  <thead>\n",
       "    <tr style=\"text-align: right;\">\n",
       "      <th></th>\n",
       "      <th>municipality</th>\n",
       "      <th>municipality code</th>\n",
       "      <th>year</th>\n",
       "      <th>gender</th>\n",
       "      <th>age</th>\n",
       "      <th>ethnicity</th>\n",
       "      <th>education</th>\n",
       "      <th>income</th>\n",
       "      <th>income observations</th>\n",
       "      <th>weighted_inc_mun</th>\n",
       "      <th>days in hospital</th>\n",
       "      <th>days in hospital observations</th>\n",
       "      <th>weighted_hosp_days_mun</th>\n",
       "      <th>number of hospitalizations</th>\n",
       "      <th>number of hospitalizations observations</th>\n",
       "      <th>weighted_hospitalizations_mun</th>\n",
       "    </tr>\n",
       "  </thead>\n",
       "  <tbody>\n",
       "    <tr>\n",
       "      <th>6</th>\n",
       "      <td>Denmark</td>\n",
       "      <td>0</td>\n",
       "      <td>2005</td>\n",
       "      <td>Men</td>\n",
       "      <td>30-39</td>\n",
       "      <td>Danish</td>\n",
       "      <td>Higher education</td>\n",
       "      <td>271510.362</td>\n",
       "      <td>98566.0</td>\n",
       "      <td>10707.481497</td>\n",
       "      <td>0.215</td>\n",
       "      <td>103551.0</td>\n",
       "      <td>0.005425</td>\n",
       "      <td>0.056</td>\n",
       "      <td>103551.0</td>\n",
       "      <td>0.001415</td>\n",
       "    </tr>\n",
       "    <tr>\n",
       "      <th>7</th>\n",
       "      <td>Denmark</td>\n",
       "      <td>0</td>\n",
       "      <td>2005</td>\n",
       "      <td>Men</td>\n",
       "      <td>30-39</td>\n",
       "      <td>Danish</td>\n",
       "      <td>No higher education</td>\n",
       "      <td>218419.246</td>\n",
       "      <td>229065.0</td>\n",
       "      <td>20018.126583</td>\n",
       "      <td>0.386</td>\n",
       "      <td>249125.0</td>\n",
       "      <td>0.023433</td>\n",
       "      <td>0.096</td>\n",
       "      <td>249125.0</td>\n",
       "      <td>0.005835</td>\n",
       "    </tr>\n",
       "    <tr>\n",
       "      <th>8</th>\n",
       "      <td>Denmark</td>\n",
       "      <td>0</td>\n",
       "      <td>2005</td>\n",
       "      <td>Men</td>\n",
       "      <td>30-39</td>\n",
       "      <td>Immigrants and descendants</td>\n",
       "      <td>Higher education</td>\n",
       "      <td>220190.110</td>\n",
       "      <td>5813.0</td>\n",
       "      <td>512.120219</td>\n",
       "      <td>0.202</td>\n",
       "      <td>6508.0</td>\n",
       "      <td>0.000320</td>\n",
       "      <td>0.062</td>\n",
       "      <td>6508.0</td>\n",
       "      <td>0.000098</td>\n",
       "    </tr>\n",
       "    <tr>\n",
       "      <th>9</th>\n",
       "      <td>Denmark</td>\n",
       "      <td>0</td>\n",
       "      <td>2005</td>\n",
       "      <td>Men</td>\n",
       "      <td>30-39</td>\n",
       "      <td>Immigrants and descendants</td>\n",
       "      <td>No higher education</td>\n",
       "      <td>169031.486</td>\n",
       "      <td>14256.0</td>\n",
       "      <td>964.137750</td>\n",
       "      <td>0.359</td>\n",
       "      <td>15981.0</td>\n",
       "      <td>0.001398</td>\n",
       "      <td>0.094</td>\n",
       "      <td>15981.0</td>\n",
       "      <td>0.000366</td>\n",
       "    </tr>\n",
       "    <tr>\n",
       "      <th>10</th>\n",
       "      <td>Denmark</td>\n",
       "      <td>0</td>\n",
       "      <td>2005</td>\n",
       "      <td>Men</td>\n",
       "      <td>30-39</td>\n",
       "      <td>Non-western immigrants and descendants</td>\n",
       "      <td>Higher education</td>\n",
       "      <td>190374.958</td>\n",
       "      <td>3201.0</td>\n",
       "      <td>243.819977</td>\n",
       "      <td>0.266</td>\n",
       "      <td>3532.0</td>\n",
       "      <td>0.000229</td>\n",
       "      <td>0.079</td>\n",
       "      <td>3532.0</td>\n",
       "      <td>0.000068</td>\n",
       "    </tr>\n",
       "    <tr>\n",
       "      <th>...</th>\n",
       "      <td>...</td>\n",
       "      <td>...</td>\n",
       "      <td>...</td>\n",
       "      <td>...</td>\n",
       "      <td>...</td>\n",
       "      <td>...</td>\n",
       "      <td>...</td>\n",
       "      <td>...</td>\n",
       "      <td>...</td>\n",
       "      <td>...</td>\n",
       "      <td>...</td>\n",
       "      <td>...</td>\n",
       "      <td>...</td>\n",
       "      <td>...</td>\n",
       "      <td>...</td>\n",
       "      <td>...</td>\n",
       "    </tr>\n",
       "    <tr>\n",
       "      <th>863</th>\n",
       "      <td>Denmark</td>\n",
       "      <td>0</td>\n",
       "      <td>2018</td>\n",
       "      <td>Women</td>\n",
       "      <td>60-65</td>\n",
       "      <td>Danish</td>\n",
       "      <td>No higher education</td>\n",
       "      <td>287411.536</td>\n",
       "      <td>118749.0</td>\n",
       "      <td>13983.567277</td>\n",
       "      <td>1.755</td>\n",
       "      <td>566835.0</td>\n",
       "      <td>0.215740</td>\n",
       "      <td>0.379</td>\n",
       "      <td>566835.0</td>\n",
       "      <td>0.046714</td>\n",
       "    </tr>\n",
       "    <tr>\n",
       "      <th>864</th>\n",
       "      <td>Denmark</td>\n",
       "      <td>0</td>\n",
       "      <td>2018</td>\n",
       "      <td>Women</td>\n",
       "      <td>60-65</td>\n",
       "      <td>Immigrants and descendants</td>\n",
       "      <td>Higher education</td>\n",
       "      <td>321121.430</td>\n",
       "      <td>3182.0</td>\n",
       "      <td>418.652110</td>\n",
       "      <td>1.109</td>\n",
       "      <td>9948.0</td>\n",
       "      <td>0.002393</td>\n",
       "      <td>0.260</td>\n",
       "      <td>9948.0</td>\n",
       "      <td>0.000562</td>\n",
       "    </tr>\n",
       "    <tr>\n",
       "      <th>865</th>\n",
       "      <td>Denmark</td>\n",
       "      <td>0</td>\n",
       "      <td>2018</td>\n",
       "      <td>Women</td>\n",
       "      <td>60-65</td>\n",
       "      <td>Immigrants and descendants</td>\n",
       "      <td>No higher education</td>\n",
       "      <td>221294.912</td>\n",
       "      <td>5924.0</td>\n",
       "      <td>537.118731</td>\n",
       "      <td>1.549</td>\n",
       "      <td>18113.0</td>\n",
       "      <td>0.006085</td>\n",
       "      <td>0.346</td>\n",
       "      <td>18113.0</td>\n",
       "      <td>0.001363</td>\n",
       "    </tr>\n",
       "    <tr>\n",
       "      <th>866</th>\n",
       "      <td>Denmark</td>\n",
       "      <td>0</td>\n",
       "      <td>2018</td>\n",
       "      <td>Women</td>\n",
       "      <td>60-65</td>\n",
       "      <td>Non-western immigrants and descendants</td>\n",
       "      <td>Higher education</td>\n",
       "      <td>261165.446</td>\n",
       "      <td>1252.0</td>\n",
       "      <td>133.968861</td>\n",
       "      <td>0.931</td>\n",
       "      <td>2768.0</td>\n",
       "      <td>0.000559</td>\n",
       "      <td>0.241</td>\n",
       "      <td>2768.0</td>\n",
       "      <td>0.000145</td>\n",
       "    </tr>\n",
       "    <tr>\n",
       "      <th>867</th>\n",
       "      <td>Denmark</td>\n",
       "      <td>0</td>\n",
       "      <td>2018</td>\n",
       "      <td>Women</td>\n",
       "      <td>60-65</td>\n",
       "      <td>Non-western immigrants and descendants</td>\n",
       "      <td>No higher education</td>\n",
       "      <td>195830.441</td>\n",
       "      <td>3674.0</td>\n",
       "      <td>294.783502</td>\n",
       "      <td>1.147</td>\n",
       "      <td>7078.0</td>\n",
       "      <td>0.001761</td>\n",
       "      <td>0.270</td>\n",
       "      <td>7078.0</td>\n",
       "      <td>0.000416</td>\n",
       "    </tr>\n",
       "  </tbody>\n",
       "</table>\n",
       "<p>700 rows × 16 columns</p>\n",
       "</div>"
      ],
      "text/plain": [
       "    municipality  municipality code  year gender    age  \\\n",
       "6        Denmark                  0  2005    Men  30-39   \n",
       "7        Denmark                  0  2005    Men  30-39   \n",
       "8        Denmark                  0  2005    Men  30-39   \n",
       "9        Denmark                  0  2005    Men  30-39   \n",
       "10       Denmark                  0  2005    Men  30-39   \n",
       "..           ...                ...   ...    ...    ...   \n",
       "863      Denmark                  0  2018  Women  60-65   \n",
       "864      Denmark                  0  2018  Women  60-65   \n",
       "865      Denmark                  0  2018  Women  60-65   \n",
       "866      Denmark                  0  2018  Women  60-65   \n",
       "867      Denmark                  0  2018  Women  60-65   \n",
       "\n",
       "                                  ethnicity            education      income  \\\n",
       "6                                    Danish     Higher education  271510.362   \n",
       "7                                    Danish  No higher education  218419.246   \n",
       "8                Immigrants and descendants     Higher education  220190.110   \n",
       "9                Immigrants and descendants  No higher education  169031.486   \n",
       "10   Non-western immigrants and descendants     Higher education  190374.958   \n",
       "..                                      ...                  ...         ...   \n",
       "863                                  Danish  No higher education  287411.536   \n",
       "864              Immigrants and descendants     Higher education  321121.430   \n",
       "865              Immigrants and descendants  No higher education  221294.912   \n",
       "866  Non-western immigrants and descendants     Higher education  261165.446   \n",
       "867  Non-western immigrants and descendants  No higher education  195830.441   \n",
       "\n",
       "     income observations  weighted_inc_mun  days in hospital  \\\n",
       "6                98566.0      10707.481497             0.215   \n",
       "7               229065.0      20018.126583             0.386   \n",
       "8                 5813.0        512.120219             0.202   \n",
       "9                14256.0        964.137750             0.359   \n",
       "10                3201.0        243.819977             0.266   \n",
       "..                   ...               ...               ...   \n",
       "863             118749.0      13983.567277             1.755   \n",
       "864               3182.0        418.652110             1.109   \n",
       "865               5924.0        537.118731             1.549   \n",
       "866               1252.0        133.968861             0.931   \n",
       "867               3674.0        294.783502             1.147   \n",
       "\n",
       "     days in hospital observations  weighted_hosp_days_mun  \\\n",
       "6                         103551.0                0.005425   \n",
       "7                         249125.0                0.023433   \n",
       "8                           6508.0                0.000320   \n",
       "9                          15981.0                0.001398   \n",
       "10                          3532.0                0.000229   \n",
       "..                             ...                     ...   \n",
       "863                       566835.0                0.215740   \n",
       "864                         9948.0                0.002393   \n",
       "865                        18113.0                0.006085   \n",
       "866                         2768.0                0.000559   \n",
       "867                         7078.0                0.001761   \n",
       "\n",
       "     number of hospitalizations  number of hospitalizations observations  \\\n",
       "6                         0.056                                 103551.0   \n",
       "7                         0.096                                 249125.0   \n",
       "8                         0.062                                   6508.0   \n",
       "9                         0.094                                  15981.0   \n",
       "10                        0.079                                   3532.0   \n",
       "..                          ...                                      ...   \n",
       "863                       0.379                                 566835.0   \n",
       "864                       0.260                                   9948.0   \n",
       "865                       0.346                                  18113.0   \n",
       "866                       0.241                                   2768.0   \n",
       "867                       0.270                                   7078.0   \n",
       "\n",
       "     weighted_hospitalizations_mun  \n",
       "6                         0.001415  \n",
       "7                         0.005835  \n",
       "8                         0.000098  \n",
       "9                         0.000366  \n",
       "10                        0.000068  \n",
       "..                             ...  \n",
       "863                       0.046714  \n",
       "864                       0.000562  \n",
       "865                       0.001363  \n",
       "866                       0.000145  \n",
       "867                       0.000416  \n",
       "\n",
       "[700 rows x 16 columns]"
      ]
     },
     "execution_count": 13,
     "metadata": {},
     "output_type": "execute_result"
    }
   ],
   "source": [
    "df_2= df.dropna()\n",
    "df_dk = df_2[df_2.municipality == 'Denmark']\n",
    "df_cph = df_2[df_2.municipality == 'Greater Copenhagen']\n",
    "df_dk\n",
    "# df2"
   ]
  },
  {
   "cell_type": "code",
   "execution_count": 14,
   "metadata": {},
   "outputs": [],
   "source": [
    "df2_dk_income_per_year = df_dk.groupby('year')['weighted_inc_mun'].sum().reset_index(name='count')\n",
    "df2_cph_income_per_year = df_cph.groupby('year')['weighted_inc_mun'].sum().reset_index(name='count')"
   ]
  },
  {
   "cell_type": "code",
   "execution_count": 15,
   "metadata": {},
   "outputs": [
    {
     "data": {
      "image/png": "[encoded data removed]",
      "text/plain": [
       "<Figure size 640x480 with 1 Axes>"
      ]
     },
     "metadata": {},
     "output_type": "display_data"
    }
   ],
   "source": [
    "dk_income_per_year = df_dk.groupby('year')['weighted_inc_mun'].sum().reset_index(name='count')\n",
    "cph_income_per_year = df_cph.groupby('year')['weighted_inc_mun'].sum().reset_index(name='count')\n",
    "\n",
    "# Create a line plot with 'year' on the x-axis and 'income' on the y-axis\n",
    "plt.plot(dk_income_per_year['year'], dk_income_per_year['count'], label='Denmark')\n",
    "plt.plot(cph_income_per_year['year'], cph_income_per_year['count'], label='Copenhagen')\n",
    "\n",
    "# Set the labels for the x-axis and y-axis\n",
    "plt.xlabel('Year')\n",
    "plt.ylabel('Income')\n",
    "\n",
    "# Set the title for the plot\n",
    "plt.title('Income by Year')\n",
    "\n",
    "# Display the legend\n",
    "plt.legend()\n",
    "\n",
    "# Display the plot\n",
    "plt.show()\n"
   ]
  },
  {
   "cell_type": "code",
   "execution_count": 16,
   "metadata": {},
   "outputs": [
    {
     "data": {
      "image/png": "[encoded data removed]",
      "text/plain": [
       "<Figure size 640x480 with 1 Axes>"
      ]
     },
     "metadata": {},
     "output_type": "display_data"
    }
   ],
   "source": [
    "dk_hosp_days = df_dk.groupby('year')['weighted_hosp_days_mun'].sum().reset_index(name='count')\n",
    "cph_hosp_days = df_cph.groupby('year')['weighted_hosp_days_mun'].sum().reset_index(name='count')\n",
    "\n",
    "# Create a line plot with 'year' on the x-axis and 'income' on the y-axis\n",
    "plt.plot(dk_hosp_days['year'], dk_hosp_days['count'], label='Denmark')\n",
    "plt.plot(cph_hosp_days['year'], cph_hosp_days['count'], label='Copenhagen')\n",
    "\n",
    "# Set the labels for the x-axis and y-axis\n",
    "plt.xlabel('Year')\n",
    "plt.ylabel('Days')\n",
    "\n",
    "# Set the title for the plot\n",
    "plt.title('Days in hospital')\n",
    "\n",
    "# Display the legend\n",
    "plt.legend()\n",
    "\n",
    "# Display the plot\n",
    "plt.show()"
   ]
  },
  {
   "cell_type": "code",
   "execution_count": 17,
   "metadata": {},
   "outputs": [
    {
     "data": {
      "image/png": "[encoded data removed]",
      "text/plain": [
       "<Figure size 640x480 with 1 Axes>"
      ]
     },
     "metadata": {},
     "output_type": "display_data"
    }
   ],
   "source": [
    "dk_hosp_times = df_dk.groupby('year')['weighted_hospitalizations_mun'].sum().reset_index(name='count')\n",
    "cph_hosp_times = df_cph.groupby('year')['weighted_hospitalizations_mun'].sum().reset_index(name='count')\n",
    "\n",
    "# Create a line plot with 'year' on the x-axis and 'income' on the y-axis\n",
    "plt.plot(dk_hosp_times['year'], dk_hosp_times['count'], label='Denmark')\n",
    "plt.plot(cph_hosp_times ['year'], cph_hosp_times ['count'], label='Copenhagen')\n",
    "\n",
    "# Set the labels for the x-axis and y-axis\n",
    "plt.xlabel('Year')\n",
    "plt.ylabel('Times')\n",
    "\n",
    "# Set the title for the plot\n",
    "plt.title('Times in hospital')\n",
    "\n",
    "# Display the legend\n",
    "plt.legend()\n",
    "\n",
    "# Display the plot\n",
    "plt.show()"
   ]
  },
  {
   "cell_type": "code",
   "execution_count": 18,
   "metadata": {},
   "outputs": [
    {
     "data": {
      "text/html": [
       "<div>\n",
       "<style scoped>\n",
       "    .dataframe tbody tr th:only-of-type {\n",
       "        vertical-align: middle;\n",
       "    }\n",
       "\n",
       "    .dataframe tbody tr th {\n",
       "        vertical-align: top;\n",
       "    }\n",
       "\n",
       "    .dataframe thead th {\n",
       "        text-align: right;\n",
       "    }\n",
       "</style>\n",
       "<table border=\"1\" class=\"dataframe\">\n",
       "  <thead>\n",
       "    <tr style=\"text-align: right;\">\n",
       "      <th></th>\n",
       "      <th>year</th>\n",
       "      <th>count</th>\n",
       "    </tr>\n",
       "  </thead>\n",
       "  <tbody>\n",
       "    <tr>\n",
       "      <th>0</th>\n",
       "      <td>2005</td>\n",
       "      <td>255616.325266</td>\n",
       "    </tr>\n",
       "    <tr>\n",
       "      <th>1</th>\n",
       "      <td>2006</td>\n",
       "      <td>260120.765752</td>\n",
       "    </tr>\n",
       "    <tr>\n",
       "      <th>2</th>\n",
       "      <td>2007</td>\n",
       "      <td>262272.008722</td>\n",
       "    </tr>\n",
       "    <tr>\n",
       "      <th>3</th>\n",
       "      <td>2008</td>\n",
       "      <td>256640.596827</td>\n",
       "    </tr>\n",
       "    <tr>\n",
       "      <th>4</th>\n",
       "      <td>2009</td>\n",
       "      <td>258339.406989</td>\n",
       "    </tr>\n",
       "    <tr>\n",
       "      <th>5</th>\n",
       "      <td>2010</td>\n",
       "      <td>275387.016033</td>\n",
       "    </tr>\n",
       "    <tr>\n",
       "      <th>6</th>\n",
       "      <td>2011</td>\n",
       "      <td>273380.458131</td>\n",
       "    </tr>\n",
       "    <tr>\n",
       "      <th>7</th>\n",
       "      <td>2012</td>\n",
       "      <td>272492.815523</td>\n",
       "    </tr>\n",
       "    <tr>\n",
       "      <th>8</th>\n",
       "      <td>2013</td>\n",
       "      <td>277541.724643</td>\n",
       "    </tr>\n",
       "    <tr>\n",
       "      <th>9</th>\n",
       "      <td>2014</td>\n",
       "      <td>283093.914696</td>\n",
       "    </tr>\n",
       "    <tr>\n",
       "      <th>10</th>\n",
       "      <td>2015</td>\n",
       "      <td>288426.169223</td>\n",
       "    </tr>\n",
       "    <tr>\n",
       "      <th>11</th>\n",
       "      <td>2016</td>\n",
       "      <td>292967.284756</td>\n",
       "    </tr>\n",
       "    <tr>\n",
       "      <th>12</th>\n",
       "      <td>2017</td>\n",
       "      <td>298112.576711</td>\n",
       "    </tr>\n",
       "    <tr>\n",
       "      <th>13</th>\n",
       "      <td>2018</td>\n",
       "      <td>304094.255562</td>\n",
       "    </tr>\n",
       "  </tbody>\n",
       "</table>\n",
       "</div>"
      ],
      "text/plain": [
       "    year          count\n",
       "0   2005  255616.325266\n",
       "1   2006  260120.765752\n",
       "2   2007  262272.008722\n",
       "3   2008  256640.596827\n",
       "4   2009  258339.406989\n",
       "5   2010  275387.016033\n",
       "6   2011  273380.458131\n",
       "7   2012  272492.815523\n",
       "8   2013  277541.724643\n",
       "9   2014  283093.914696\n",
       "10  2015  288426.169223\n",
       "11  2016  292967.284756\n",
       "12  2017  298112.576711\n",
       "13  2018  304094.255562"
      ]
     },
     "execution_count": 18,
     "metadata": {},
     "output_type": "execute_result"
    }
   ],
   "source": [
    "dk_income_per_year = df_dk.groupby('year')['weighted_inc_mun'].sum().reset_index(name='count')\n",
    "cph_income_per_year = df_cph.groupby('year')['weighted_inc_mun'].sum().reset_index(name='count')\n",
    "\n",
    "dk_income_per_year\n"
   ]
  },
  {
   "cell_type": "code",
   "execution_count": 19,
   "metadata": {},
   "outputs": [
    {
     "data": {
      "application/vnd.plotly.v1+json": {
       "config": {
        "plotlyServerURL": "https://plot.ly"
       },
       "data": [
        {
         "hovertemplate": "municipality=Albertslund<br>year=%{x}<br>count=%{y}<extra></extra>",
         "legendgroup": "Albertslund",
         "line": {
          "color": "#636efa",
          "dash": "solid"
         },
         "marker": {
          "symbol": "circle"
         },
         "mode": "markers+lines",
         "name": "Albertslund",
         "orientation": "v",
         "showlegend": true,
         "type": "scatter",
         "visible": "legendonly",
         "x": [
          2005,
          2006,
          2007,
          2008,
          2009,
          2010,
          2011,
          2012,
          2013,
          2014,
          2015,
          2016,
          2017,
          2018
         ],
         "xaxis": "x",
         "y": [
          222225.66285146345,
          224268.40186731677,
          224703.1455571669,
          224522.56533929447,
          228213.4051988887,
          239146.83688170632,
          230388.274115948,
          228101.416773247,
          245030.28234568005,
          248385.9219088268,
          252070.10836895436,
          252666.05092940578,
          254164.90037268185,
          261020.17756025316
         ],
         "yaxis": "y"
        },
        {
         "hovertemplate": "municipality=Ballerup<br>year=%{x}<br>count=%{y}<extra></extra>",
         "legendgroup": "Ballerup",
         "line": {
          "color": "#EF553B",
          "dash": "solid"
         },
         "marker": {
          "symbol": "circle"
         },
         "mode": "markers+lines",
         "name": "Ballerup",
         "orientation": "v",
         "showlegend": true,
         "type": "scatter",
         "visible": "legendonly",
         "x": [
          2005,
          2006,
          2007,
          2008,
          2009,
          2010,
          2011,
          2012,
          2013,
          2014,
          2015,
          2016,
          2017,
          2018
         ],
         "xaxis": "x",
         "y": [
          235967.68605650592,
          240168.68518825978,
          242034.4617918525,
          261793.55527742443,
          261447.7284329767,
          276541.2396370609,
          276228.46661597444,
          275148.1834447345,
          279321.7717438135,
          285314.61985466944,
          291094.61178963154,
          294674.25084978767,
          297786.1982648659,
          303510.98531850835
         ],
         "yaxis": "y"
        },
        {
         "hovertemplate": "municipality=Brøndby<br>year=%{x}<br>count=%{y}<extra></extra>",
         "legendgroup": "Brøndby",
         "line": {
          "color": "#00cc96",
          "dash": "solid"
         },
         "marker": {
          "symbol": "circle"
         },
         "mode": "markers+lines",
         "name": "Brøndby",
         "orientation": "v",
         "showlegend": true,
         "type": "scatter",
         "visible": "legendonly",
         "x": [
          2005,
          2006,
          2007,
          2008,
          2009,
          2010,
          2011,
          2012,
          2013,
          2014,
          2015,
          2016,
          2017,
          2018
         ],
         "xaxis": "x",
         "y": [
          241759.06595949002,
          243612.85672214875,
          243437.32180880036,
          241767.23017265415,
          242437.59211939631,
          253610.7590447348,
          249104.62679695658,
          245685.8510919789,
          249145.70338756227,
          251361.1049155001,
          254292.11964125306,
          257007.96614762675,
          258576.0512810587,
          263410.10695587686
         ],
         "yaxis": "y"
        },
        {
         "hovertemplate": "municipality=Copenhagen<br>year=%{x}<br>count=%{y}<extra></extra>",
         "legendgroup": "Copenhagen",
         "line": {
          "color": "#ab63fa",
          "dash": "solid"
         },
         "marker": {
          "symbol": "circle"
         },
         "mode": "markers+lines",
         "name": "Copenhagen",
         "orientation": "v",
         "showlegend": true,
         "type": "scatter",
         "visible": "legendonly",
         "x": [
          2005,
          2006,
          2007,
          2008,
          2009,
          2010,
          2011,
          2012,
          2013,
          2014,
          2015,
          2016,
          2017,
          2018
         ],
         "xaxis": "x",
         "y": [
          237525.33318062525,
          241697.075576154,
          242073.38209309743,
          239838.0521024473,
          244386.8042791119,
          259462.1565400183,
          257598.9524069957,
          256098.80494567656,
          260680.83911827672,
          266029.41929328477,
          271340.96773161634,
          276414.16834221705,
          281302.7475060202,
          289444.1075677858
         ],
         "yaxis": "y"
        },
        {
         "hovertemplate": "municipality=Denmark<br>year=%{x}<br>count=%{y}<extra></extra>",
         "legendgroup": "Denmark",
         "line": {
          "color": "#FFA15A",
          "dash": "solid"
         },
         "marker": {
          "symbol": "circle"
         },
         "mode": "markers+lines",
         "name": "Denmark",
         "orientation": "v",
         "showlegend": true,
         "type": "scatter",
         "visible": true,
         "x": [
          2005,
          2006,
          2007,
          2008,
          2009,
          2010,
          2011,
          2012,
          2013,
          2014,
          2015,
          2016,
          2017,
          2018
         ],
         "xaxis": "x",
         "y": [
          255616.32526608012,
          260120.7657516041,
          262272.00872240536,
          256640.5968274187,
          258339.40698911736,
          275387.016033431,
          273380.45813095843,
          272492.81552348053,
          277541.72464290314,
          283093.914696419,
          288426.16922337335,
          292967.28475570463,
          298112.57671105646,
          304094.2555620311
         ],
         "yaxis": "y"
        },
        {
         "hovertemplate": "municipality=Dragør<br>year=%{x}<br>count=%{y}<extra></extra>",
         "legendgroup": "Dragør",
         "line": {
          "color": "#19d3f3",
          "dash": "solid"
         },
         "marker": {
          "symbol": "circle"
         },
         "mode": "markers+lines",
         "name": "Dragør",
         "orientation": "v",
         "showlegend": true,
         "type": "scatter",
         "visible": "legendonly",
         "x": [
          2005,
          2006,
          2007,
          2008,
          2009,
          2010,
          2011,
          2012,
          2013,
          2014,
          2015,
          2016,
          2017,
          2018
         ],
         "xaxis": "x",
         "y": [
          283791.6983585317,
          285408.7256883401,
          292870.405323758,
          286912.8326315609,
          279746.4336131702,
          308980.98804643913,
          316432.7564773483,
          315555.68856935744,
          322307.38752303814,
          330623.06155949784,
          341591.92505344073,
          343627.2191406279,
          349774.95913755056,
          352534.90914747136
         ],
         "yaxis": "y"
        },
        {
         "hovertemplate": "municipality=Frederiksberg<br>year=%{x}<br>count=%{y}<extra></extra>",
         "legendgroup": "Frederiksberg",
         "line": {
          "color": "#FF6692",
          "dash": "solid"
         },
         "marker": {
          "symbol": "circle"
         },
         "mode": "markers+lines",
         "name": "Frederiksberg",
         "orientation": "v",
         "showlegend": true,
         "type": "scatter",
         "visible": "legendonly",
         "x": [
          2005,
          2006,
          2007,
          2008,
          2009,
          2010,
          2011,
          2012,
          2013,
          2014,
          2015,
          2016,
          2017,
          2018
         ],
         "xaxis": "x",
         "y": [
          283928.68435953767,
          288610.15146993654,
          286648.8040102908,
          279193.488201874,
          282037.699131642,
          307256.723946882,
          305318.539445866,
          302753.4577985511,
          310839.3018195489,
          319509.42981323815,
          325543.97639307176,
          329607.2319156911,
          339097.4847455256,
          346021.38419492275
         ],
         "yaxis": "y"
        },
        {
         "hovertemplate": "municipality=Furesø<br>year=%{x}<br>count=%{y}<extra></extra>",
         "legendgroup": "Furesø",
         "line": {
          "color": "#B6E880",
          "dash": "solid"
         },
         "marker": {
          "symbol": "circle"
         },
         "mode": "markers+lines",
         "name": "Furesø",
         "orientation": "v",
         "showlegend": true,
         "type": "scatter",
         "visible": "legendonly",
         "x": [
          2005,
          2006,
          2007,
          2008,
          2009,
          2010,
          2011,
          2012,
          2013,
          2014,
          2015,
          2016,
          2017,
          2018
         ],
         "xaxis": "x",
         "y": [
          291040.29324981046,
          297400.2419666978,
          302440.52820294513,
          293660.06515457825,
          288886.4948415589,
          318999.41224851646,
          344077.1191030064,
          343940.95784849225,
          355252.7960420075,
          364199.3088606959,
          367873.7880128003,
          374079.7657135045,
          378856.7350698005,
          388267.91907439433
         ],
         "yaxis": "y"
        },
        {
         "hovertemplate": "municipality=Gentofte<br>year=%{x}<br>count=%{y}<extra></extra>",
         "legendgroup": "Gentofte",
         "line": {
          "color": "#FF97FF",
          "dash": "solid"
         },
         "marker": {
          "symbol": "circle"
         },
         "mode": "markers+lines",
         "name": "Gentofte",
         "orientation": "v",
         "showlegend": true,
         "type": "scatter",
         "visible": "legendonly",
         "x": [
          2005,
          2006,
          2007,
          2008,
          2009,
          2010,
          2011,
          2012,
          2013,
          2014,
          2015,
          2016,
          2017,
          2018
         ],
         "xaxis": "x",
         "y": [
          396874.7003353493,
          408571.6889259404,
          415099.84377052775,
          381126.80557906156,
          366507.3303918095,
          426433.3089783388,
          436067.3052813113,
          437616.037005873,
          451696.8618458724,
          468564.79835084465,
          491191.6780665036,
          500943.75288613635,
          510565.14684075676,
          520105.1828436244
         ],
         "yaxis": "y"
        },
        {
         "hovertemplate": "municipality=Gladsaxe<br>year=%{x}<br>count=%{y}<extra></extra>",
         "legendgroup": "Gladsaxe",
         "line": {
          "color": "#FECB52",
          "dash": "solid"
         },
         "marker": {
          "symbol": "circle"
         },
         "mode": "markers+lines",
         "name": "Gladsaxe",
         "orientation": "v",
         "showlegend": true,
         "type": "scatter",
         "visible": "legendonly",
         "x": [
          2005,
          2006,
          2007,
          2008,
          2009,
          2010,
          2011,
          2012,
          2013,
          2014,
          2015,
          2016,
          2017,
          2018
         ],
         "xaxis": "x",
         "y": [
          271164.32231272466,
          274336.1654741428,
          273285.9815135688,
          271138.3294893416,
          270251.5055027057,
          290487.022519535,
          290669.83085465775,
          288413.26899760496,
          293889.2824120552,
          299916.2741655569,
          305974.28050305694,
          309633.56163849,
          312617.2956337847,
          318451.3950134092
         ],
         "yaxis": "y"
        },
        {
         "hovertemplate": "municipality=Glostrup<br>year=%{x}<br>count=%{y}<extra></extra>",
         "legendgroup": "Glostrup",
         "line": {
          "color": "#636efa",
          "dash": "solid"
         },
         "marker": {
          "symbol": "circle"
         },
         "mode": "markers+lines",
         "name": "Glostrup",
         "orientation": "v",
         "showlegend": true,
         "type": "scatter",
         "visible": "legendonly",
         "x": [
          2005,
          2006,
          2007,
          2008,
          2009,
          2010,
          2011,
          2012,
          2013,
          2014,
          2015,
          2016,
          2017,
          2018
         ],
         "xaxis": "x",
         "y": [
          235239.6915891557,
          239455.0416856122,
          242217.84552014334,
          237892.80272685937,
          241057.1970553398,
          255422.59267012295,
          249579.4415911555,
          246980.23163354362,
          248972.70667623205,
          251842.7004323654,
          255388.27481805114,
          256512.3901669712,
          261373.7108164467,
          269196.33559933543
         ],
         "yaxis": "y"
        },
        {
         "hovertemplate": "municipality=Greater Copenhagen<br>year=%{x}<br>count=%{y}<extra></extra>",
         "legendgroup": "Greater Copenhagen",
         "line": {
          "color": "#EF553B",
          "dash": "solid"
         },
         "marker": {
          "symbol": "circle"
         },
         "mode": "markers+lines",
         "name": "Greater Copenhagen",
         "orientation": "v",
         "showlegend": true,
         "type": "scatter",
         "visible": true,
         "x": [
          2005,
          2006,
          2007,
          2008,
          2009,
          2010,
          2011,
          2012,
          2013,
          2014,
          2015,
          2016,
          2017,
          2018
         ],
         "xaxis": "x",
         "y": [
          271686.73150448233,
          275662.66075669276,
          276050.1566439862,
          269909.53812569403,
          269207.93785791105,
          290563.9268522387,
          289335.7664705521,
          287875.98877217557,
          293504.78056068585,
          300087.8300778641,
          306151.8093014965,
          310943.18766815745,
          315684.46268450306,
          321978.1360394762
         ],
         "yaxis": "y"
        },
        {
         "hovertemplate": "municipality=Greve<br>year=%{x}<br>count=%{y}<extra></extra>",
         "legendgroup": "Greve",
         "line": {
          "color": "#00cc96",
          "dash": "solid"
         },
         "marker": {
          "symbol": "circle"
         },
         "mode": "markers+lines",
         "name": "Greve",
         "orientation": "v",
         "showlegend": true,
         "type": "scatter",
         "visible": "legendonly",
         "x": [
          2005,
          2006,
          2007,
          2008,
          2009,
          2010,
          2011,
          2012,
          2013,
          2014,
          2015,
          2016,
          2017,
          2018
         ],
         "xaxis": "x",
         "y": [
          256643.9687345162,
          260453.80860260886,
          265894.7467022562,
          289012.7155753612,
          280118.42525839026,
          302524.2495804022,
          301203.6896436854,
          301899.14570674987,
          308150.10320248554,
          315051.4466812562,
          320358.7683974389,
          324985.6539988335,
          330232.8302169912,
          336254.69672622636
         ],
         "yaxis": "y"
        },
        {
         "hovertemplate": "municipality=Herlev<br>year=%{x}<br>count=%{y}<extra></extra>",
         "legendgroup": "Herlev",
         "line": {
          "color": "#ab63fa",
          "dash": "solid"
         },
         "marker": {
          "symbol": "circle"
         },
         "mode": "markers+lines",
         "name": "Herlev",
         "orientation": "v",
         "showlegend": true,
         "type": "scatter",
         "visible": "legendonly",
         "x": [
          2005,
          2006,
          2007,
          2008,
          2009,
          2010,
          2011,
          2012,
          2013,
          2014,
          2015,
          2016,
          2017,
          2018
         ],
         "xaxis": "x",
         "y": [
          233706.3273472747,
          237731.49950828447,
          239392.62188391108,
          236162.01023907788,
          235486.66761703763,
          250378.24509927322,
          246530.3219250532,
          245269.22930196044,
          248769.53292439025,
          253033.6065310231,
          284981.4013243024,
          286204.68802880857,
          290736.2494388156,
          293698.8700789599
         ],
         "yaxis": "y"
        },
        {
         "hovertemplate": "municipality=Hvidovre<br>year=%{x}<br>count=%{y}<extra></extra>",
         "legendgroup": "Hvidovre",
         "line": {
          "color": "#FFA15A",
          "dash": "solid"
         },
         "marker": {
          "symbol": "circle"
         },
         "mode": "markers+lines",
         "name": "Hvidovre",
         "orientation": "v",
         "showlegend": true,
         "type": "scatter",
         "visible": "legendonly",
         "x": [
          2005,
          2006,
          2007,
          2008,
          2009,
          2010,
          2011,
          2012,
          2013,
          2014,
          2015,
          2016,
          2017,
          2018
         ],
         "xaxis": "x",
         "y": [
          227812.46016539124,
          230381.32580342973,
          258324.80404997335,
          256329.36702728202,
          254999.15766141837,
          269930.21420364134,
          266947.3995189055,
          266627.1118730657,
          270603.98764424794,
          275414.6546118182,
          279444.65024774254,
          283097.35251405934,
          285406.0794954016,
          290715.37566582725
         ],
         "yaxis": "y"
        },
        {
         "hovertemplate": "municipality=Høje-Taastrup<br>year=%{x}<br>count=%{y}<extra></extra>",
         "legendgroup": "Høje-Taastrup",
         "line": {
          "color": "#19d3f3",
          "dash": "solid"
         },
         "marker": {
          "symbol": "circle"
         },
         "mode": "markers+lines",
         "name": "Høje-Taastrup",
         "orientation": "v",
         "showlegend": true,
         "type": "scatter",
         "visible": "legendonly",
         "x": [
          2005,
          2006,
          2007,
          2008,
          2009,
          2010,
          2011,
          2012,
          2013,
          2014,
          2015,
          2016,
          2017,
          2018
         ],
         "xaxis": "x",
         "y": [
          232767.91798240444,
          233945.33046412302,
          235089.99180662076,
          257043.0854381062,
          255136.61380728727,
          267787.2258695884,
          264921.54022983543,
          261476.41069335383,
          265036.5170931266,
          269582.51665146713,
          272934.40811349475,
          274674.97804769967,
          277153.5106389541,
          283245.8460197095
         ],
         "yaxis": "y"
        },
        {
         "hovertemplate": "municipality=Ishøj<br>year=%{x}<br>count=%{y}<extra></extra>",
         "legendgroup": "Ishøj",
         "line": {
          "color": "#FF6692",
          "dash": "solid"
         },
         "marker": {
          "symbol": "circle"
         },
         "mode": "markers+lines",
         "name": "Ishøj",
         "orientation": "v",
         "showlegend": true,
         "type": "scatter",
         "visible": "legendonly",
         "x": [
          2005,
          2006,
          2007,
          2008,
          2009,
          2010,
          2011,
          2012,
          2013,
          2014,
          2015,
          2016,
          2017,
          2018
         ],
         "xaxis": "x",
         "y": [
          211150.84047383498,
          216647.04332273465,
          219548.92729828772,
          217729.2038117365,
          215707.26885611037,
          223726.91276799823,
          219647.624811766,
          217383.5898327788,
          218844.68691369527,
          220138.57961778488,
          222442.52810379534,
          245005.9573178815,
          247192.89796350143,
          249352.96873746993
         ],
         "yaxis": "y"
        },
        {
         "hovertemplate": "municipality=Lyngby-Taarbæk<br>year=%{x}<br>count=%{y}<extra></extra>",
         "legendgroup": "Lyngby-Taarbæk",
         "line": {
          "color": "#B6E880",
          "dash": "solid"
         },
         "marker": {
          "symbol": "circle"
         },
         "mode": "markers+lines",
         "name": "Lyngby-Taarbæk",
         "orientation": "v",
         "showlegend": true,
         "type": "scatter",
         "visible": "legendonly",
         "x": [
          2005,
          2006,
          2007,
          2008,
          2009,
          2010,
          2011,
          2012,
          2013,
          2014,
          2015,
          2016,
          2017,
          2018
         ],
         "xaxis": "x",
         "y": [
          328839.3256891953,
          333162.9413646313,
          331709.26096521073,
          324610.10059811716,
          317047.1950656699,
          357487.42281823506,
          355820.7974681118,
          357455.34358799853,
          366846.24677064584,
          378926.82179291744,
          387913.53785087797,
          393527.4534035472,
          399548.1825795875,
          401320.7421105242
         ],
         "yaxis": "y"
        },
        {
         "hovertemplate": "municipality=Rudersdal<br>year=%{x}<br>count=%{y}<extra></extra>",
         "legendgroup": "Rudersdal",
         "line": {
          "color": "#FF97FF",
          "dash": "solid"
         },
         "marker": {
          "symbol": "circle"
         },
         "mode": "markers+lines",
         "name": "Rudersdal",
         "orientation": "v",
         "showlegend": true,
         "type": "scatter",
         "visible": "legendonly",
         "x": [
          2005,
          2006,
          2007,
          2008,
          2009,
          2010,
          2011,
          2012,
          2013,
          2014,
          2015,
          2016,
          2017,
          2018
         ],
         "xaxis": "x",
         "y": [
          387484.7464511604,
          394557.8157886436,
          398622.7535638098,
          378709.55165487505,
          355435.5215000663,
          415716.31034614355,
          418758.75896669517,
          423955.4317707896,
          437432.5795374597,
          456370.6535263158,
          468246.0902063311,
          481141.9541202606,
          487923.263840756,
          492649.159429389
         ],
         "yaxis": "y"
        },
        {
         "hovertemplate": "municipality=Rødovre<br>year=%{x}<br>count=%{y}<extra></extra>",
         "legendgroup": "Rødovre",
         "line": {
          "color": "#FECB52",
          "dash": "solid"
         },
         "marker": {
          "symbol": "circle"
         },
         "mode": "markers+lines",
         "name": "Rødovre",
         "orientation": "v",
         "showlegend": true,
         "type": "scatter",
         "visible": "legendonly",
         "x": [
          2005,
          2006,
          2007,
          2008,
          2009,
          2010,
          2011,
          2012,
          2013,
          2014,
          2015,
          2016,
          2017,
          2018
         ],
         "xaxis": "x",
         "y": [
          227718.36239777366,
          231460.57373504326,
          232208.0732335432,
          229501.04240004934,
          229803.13838553175,
          241147.5173911218,
          239521.6787305087,
          263946.2834906494,
          267785.61802333815,
          272316.01087565604,
          277601.8255031994,
          282158.4339531739,
          286146.82227035204,
          289697.55291080533
         ],
         "yaxis": "y"
        },
        {
         "hovertemplate": "municipality=Tårnby<br>year=%{x}<br>count=%{y}<extra></extra>",
         "legendgroup": "Tårnby",
         "line": {
          "color": "#636efa",
          "dash": "solid"
         },
         "marker": {
          "symbol": "circle"
         },
         "mode": "markers+lines",
         "name": "Tårnby",
         "orientation": "v",
         "showlegend": true,
         "type": "scatter",
         "visible": "legendonly",
         "x": [
          2005,
          2006,
          2007,
          2008,
          2009,
          2010,
          2011,
          2012,
          2013,
          2014,
          2015,
          2016,
          2017,
          2018
         ],
         "xaxis": "x",
         "y": [
          237225.57161719826,
          240112.83902976883,
          240742.29258450778,
          239100.1934671949,
          239645.1360440703,
          253406.7821541669,
          252332.26764261277,
          249822.84045985132,
          253075.76730905843,
          289786.33502814104,
          293539.68414198805,
          298295.0877406373,
          304123.63268736383,
          310042.4125273831
         ],
         "yaxis": "y"
        },
        {
         "hovertemplate": "municipality=Vallensbæk<br>year=%{x}<br>count=%{y}<extra></extra>",
         "legendgroup": "Vallensbæk",
         "line": {
          "color": "#EF553B",
          "dash": "solid"
         },
         "marker": {
          "symbol": "circle"
         },
         "mode": "markers+lines",
         "name": "Vallensbæk",
         "orientation": "v",
         "showlegend": true,
         "type": "scatter",
         "visible": "legendonly",
         "x": [
          2005,
          2006,
          2007,
          2008,
          2009,
          2010,
          2011,
          2012,
          2013,
          2014,
          2015,
          2016,
          2017,
          2018
         ],
         "xaxis": "x",
         "y": [
          267075.3773612485,
          271134.80152734776,
          266099.5978973038,
          261103.48416034633,
          263106.2582773165,
          279347.9220808552,
          272837.70086127444,
          272235.89286458824,
          274365.67369024886,
          276745.42847856047,
          313869.82669388695,
          315065.9300300045,
          316194.0464987372,
          317874.47103477013
         ],
         "yaxis": "y"
        }
       ],
       "layout": {
        "legend": {
         "title": {
          "text": "municipality"
         },
         "tracegroupgap": 0
        },
        "margin": {
         "t": 60
        },
        "template": {
         "data": {
          "bar": [
           {
            "error_x": {
             "color": "#2a3f5f"
            },
            "error_y": {
             "color": "#2a3f5f"
            },
            "marker": {
             "line": {
              "color": "#E5ECF6",
              "width": 0.5
             },
             "pattern": {
              "fillmode": "overlay",
              "size": 10,
              "solidity": 0.2
             }
            },
            "type": "bar"
           }
          ],
          "barpolar": [
           {
            "marker": {
             "line": {
              "color": "#E5ECF6",
              "width": 0.5
             },
             "pattern": {
              "fillmode": "overlay",
              "size": 10,
              "solidity": 0.2
             }
            },
            "type": "barpolar"
           }
          ],
          "carpet": [
           {
            "aaxis": {
             "endlinecolor": "#2a3f5f",
             "gridcolor": "white",
             "linecolor": "white",
             "minorgridcolor": "white",
             "startlinecolor": "#2a3f5f"
            },
            "baxis": {
             "endlinecolor": "#2a3f5f",
             "gridcolor": "white",
             "linecolor": "white",
             "minorgridcolor": "white",
             "startlinecolor": "#2a3f5f"
            },
            "type": "carpet"
           }
          ],
          "choropleth": [
           {
            "colorbar": {
             "outlinewidth": 0,
             "ticks": ""
            },
            "type": "choropleth"
           }
          ],
          "contour": [
           {
            "colorbar": {
             "outlinewidth": 0,
             "ticks": ""
            },
            "colorscale": [
             [
              0,
              "#0d0887"
             ],
             [
              0.1111111111111111,
              "#46039f"
             ],
             [
              0.2222222222222222,
              "#7201a8"
             ],
             [
              0.3333333333333333,
              "#9c179e"
             ],
             [
              0.4444444444444444,
              "#bd3786"
             ],
             [
              0.5555555555555556,
              "#d8576b"
             ],
             [
              0.6666666666666666,
              "#ed7953"
             ],
             [
              0.7777777777777778,
              "#fb9f3a"
             ],
             [
              0.8888888888888888,
              "#fdca26"
             ],
             [
              1,
              "#f0f921"
             ]
            ],
            "type": "contour"
           }
          ],
          "contourcarpet": [
           {
            "colorbar": {
             "outlinewidth": 0,
             "ticks": ""
            },
            "type": "contourcarpet"
           }
          ],
          "heatmap": [
           {
            "colorbar": {
             "outlinewidth": 0,
             "ticks": ""
            },
            "colorscale": [
             [
              0,
              "#0d0887"
             ],
             [
              0.1111111111111111,
              "#46039f"
             ],
             [
              0.2222222222222222,
              "#7201a8"
             ],
             [
              0.3333333333333333,
              "#9c179e"
             ],
             [
              0.4444444444444444,
              "#bd3786"
             ],
             [
              0.5555555555555556,
              "#d8576b"
             ],
             [
              0.6666666666666666,
              "#ed7953"
             ],
             [
              0.7777777777777778,
              "#fb9f3a"
             ],
             [
              0.8888888888888888,
              "#fdca26"
             ],
             [
              1,
              "#f0f921"
             ]
            ],
            "type": "heatmap"
           }
          ],
          "heatmapgl": [
           {
            "colorbar": {
             "outlinewidth": 0,
             "ticks": ""
            },
            "colorscale": [
             [
              0,
              "#0d0887"
             ],
             [
              0.1111111111111111,
              "#46039f"
             ],
             [
              0.2222222222222222,
              "#7201a8"
             ],
             [
              0.3333333333333333,
              "#9c179e"
             ],
             [
              0.4444444444444444,
              "#bd3786"
             ],
             [
              0.5555555555555556,
              "#d8576b"
             ],
             [
              0.6666666666666666,
              "#ed7953"
             ],
             [
              0.7777777777777778,
              "#fb9f3a"
             ],
             [
              0.8888888888888888,
              "#fdca26"
             ],
             [
              1,
              "#f0f921"
             ]
            ],
            "type": "heatmapgl"
           }
          ],
          "histogram": [
           {
            "marker": {
             "pattern": {
              "fillmode": "overlay",
              "size": 10,
              "solidity": 0.2
             }
            },
            "type": "histogram"
           }
          ],
          "histogram2d": [
           {
            "colorbar": {
             "outlinewidth": 0,
             "ticks": ""
            },
            "colorscale": [
             [
              0,
              "#0d0887"
             ],
             [
              0.1111111111111111,
              "#46039f"
             ],
             [
              0.2222222222222222,
              "#7201a8"
             ],
             [
              0.3333333333333333,
              "#9c179e"
             ],
             [
              0.4444444444444444,
              "#bd3786"
             ],
             [
              0.5555555555555556,
              "#d8576b"
             ],
             [
              0.6666666666666666,
              "#ed7953"
             ],
             [
              0.7777777777777778,
              "#fb9f3a"
             ],
             [
              0.8888888888888888,
              "#fdca26"
             ],
             [
              1,
              "#f0f921"
             ]
            ],
            "type": "histogram2d"
           }
          ],
          "histogram2dcontour": [
           {
            "colorbar": {
             "outlinewidth": 0,
             "ticks": ""
            },
            "colorscale": [
             [
              0,
              "#0d0887"
             ],
             [
              0.1111111111111111,
              "#46039f"
             ],
             [
              0.2222222222222222,
              "#7201a8"
             ],
             [
              0.3333333333333333,
              "#9c179e"
             ],
             [
              0.4444444444444444,
              "#bd3786"
             ],
             [
              0.5555555555555556,
              "#d8576b"
             ],
             [
              0.6666666666666666,
              "#ed7953"
             ],
             [
              0.7777777777777778,
              "#fb9f3a"
             ],
             [
              0.8888888888888888,
              "#fdca26"
             ],
             [
              1,
              "#f0f921"
             ]
            ],
            "type": "histogram2dcontour"
           }
          ],
          "mesh3d": [
           {
            "colorbar": {
             "outlinewidth": 0,
             "ticks": ""
            },
            "type": "mesh3d"
           }
          ],
          "parcoords": [
           {
            "line": {
             "colorbar": {
              "outlinewidth": 0,
              "ticks": ""
             }
            },
            "type": "parcoords"
           }
          ],
          "pie": [
           {
            "automargin": true,
            "type": "pie"
           }
          ],
          "scatter": [
           {
            "fillpattern": {
             "fillmode": "overlay",
             "size": 10,
             "solidity": 0.2
            },
            "type": "scatter"
           }
          ],
          "scatter3d": [
           {
            "line": {
             "colorbar": {
              "outlinewidth": 0,
              "ticks": ""
             }
            },
            "marker": {
             "colorbar": {
              "outlinewidth": 0,
              "ticks": ""
             }
            },
            "type": "scatter3d"
           }
          ],
          "scattercarpet": [
           {
            "marker": {
             "colorbar": {
              "outlinewidth": 0,
              "ticks": ""
             }
            },
            "type": "scattercarpet"
           }
          ],
          "scattergeo": [
           {
            "marker": {
             "colorbar": {
              "outlinewidth": 0,
              "ticks": ""
             }
            },
            "type": "scattergeo"
           }
          ],
          "scattergl": [
           {
            "marker": {
             "colorbar": {
              "outlinewidth": 0,
              "ticks": ""
             }
            },
            "type": "scattergl"
           }
          ],
          "scattermapbox": [
           {
            "marker": {
             "colorbar": {
              "outlinewidth": 0,
              "ticks": ""
             }
            },
            "type": "scattermapbox"
           }
          ],
          "scatterpolar": [
           {
            "marker": {
             "colorbar": {
              "outlinewidth": 0,
              "ticks": ""
             }
            },
            "type": "scatterpolar"
           }
          ],
          "scatterpolargl": [
           {
            "marker": {
             "colorbar": {
              "outlinewidth": 0,
              "ticks": ""
             }
            },
            "type": "scatterpolargl"
           }
          ],
          "scatterternary": [
           {
            "marker": {
             "colorbar": {
              "outlinewidth": 0,
              "ticks": ""
             }
            },
            "type": "scatterternary"
           }
          ],
          "surface": [
           {
            "colorbar": {
             "outlinewidth": 0,
             "ticks": ""
            },
            "colorscale": [
             [
              0,
              "#0d0887"
             ],
             [
              0.1111111111111111,
              "#46039f"
             ],
             [
              0.2222222222222222,
              "#7201a8"
             ],
             [
              0.3333333333333333,
              "#9c179e"
             ],
             [
              0.4444444444444444,
              "#bd3786"
             ],
             [
              0.5555555555555556,
              "#d8576b"
             ],
             [
              0.6666666666666666,
              "#ed7953"
             ],
             [
              0.7777777777777778,
              "#fb9f3a"
             ],
             [
              0.8888888888888888,
              "#fdca26"
             ],
             [
              1,
              "#f0f921"
             ]
            ],
            "type": "surface"
           }
          ],
          "table": [
           {
            "cells": {
             "fill": {
              "color": "#EBF0F8"
             },
             "line": {
              "color": "white"
             }
            },
            "header": {
             "fill": {
              "color": "#C8D4E3"
             },
             "line": {
              "color": "white"
             }
            },
            "type": "table"
           }
          ]
         },
         "layout": {
          "annotationdefaults": {
           "arrowcolor": "#2a3f5f",
           "arrowhead": 0,
           "arrowwidth": 1
          },
          "autotypenumbers": "strict",
          "coloraxis": {
           "colorbar": {
            "outlinewidth": 0,
            "ticks": ""
           }
          },
          "colorscale": {
           "diverging": [
            [
             0,
             "#8e0152"
            ],
            [
             0.1,
             "#c51b7d"
            ],
            [
             0.2,
             "#de77ae"
            ],
            [
             0.3,
             "#f1b6da"
            ],
            [
             0.4,
             "#fde0ef"
            ],
            [
             0.5,
             "#f7f7f7"
            ],
            [
             0.6,
             "#e6f5d0"
            ],
            [
             0.7,
             "#b8e186"
            ],
            [
             0.8,
             "#7fbc41"
            ],
            [
             0.9,
             "#4d9221"
            ],
            [
             1,
             "#276419"
            ]
           ],
           "sequential": [
            [
             0,
             "#0d0887"
            ],
            [
             0.1111111111111111,
             "#46039f"
            ],
            [
             0.2222222222222222,
             "#7201a8"
            ],
            [
             0.3333333333333333,
             "#9c179e"
            ],
            [
             0.4444444444444444,
             "#bd3786"
            ],
            [
             0.5555555555555556,
             "#d8576b"
            ],
            [
             0.6666666666666666,
             "#ed7953"
            ],
            [
             0.7777777777777778,
             "#fb9f3a"
            ],
            [
             0.8888888888888888,
             "#fdca26"
            ],
            [
             1,
             "#f0f921"
            ]
           ],
           "sequentialminus": [
            [
             0,
             "#0d0887"
            ],
            [
             0.1111111111111111,
             "#46039f"
            ],
            [
             0.2222222222222222,
             "#7201a8"
            ],
            [
             0.3333333333333333,
             "#9c179e"
            ],
            [
             0.4444444444444444,
             "#bd3786"
            ],
            [
             0.5555555555555556,
             "#d8576b"
            ],
            [
             0.6666666666666666,
             "#ed7953"
            ],
            [
             0.7777777777777778,
             "#fb9f3a"
            ],
            [
             0.8888888888888888,
             "#fdca26"
            ],
            [
             1,
             "#f0f921"
            ]
           ]
          },
          "colorway": [
           "#636efa",
           "#EF553B",
           "#00cc96",
           "#ab63fa",
           "#FFA15A",
           "#19d3f3",
           "#FF6692",
           "#B6E880",
           "#FF97FF",
           "#FECB52"
          ],
          "font": {
           "color": "#2a3f5f"
          },
          "geo": {
           "bgcolor": "white",
           "lakecolor": "white",
           "landcolor": "#E5ECF6",
           "showlakes": true,
           "showland": true,
           "subunitcolor": "white"
          },
          "hoverlabel": {
           "align": "left"
          },
          "hovermode": "closest",
          "mapbox": {
           "style": "light"
          },
          "paper_bgcolor": "white",
          "plot_bgcolor": "#E5ECF6",
          "polar": {
           "angularaxis": {
            "gridcolor": "white",
            "linecolor": "white",
            "ticks": ""
           },
           "bgcolor": "#E5ECF6",
           "radialaxis": {
            "gridcolor": "white",
            "linecolor": "white",
            "ticks": ""
           }
          },
          "scene": {
           "xaxis": {
            "backgroundcolor": "#E5ECF6",
            "gridcolor": "white",
            "gridwidth": 2,
            "linecolor": "white",
            "showbackground": true,
            "ticks": "",
            "zerolinecolor": "white"
           },
           "yaxis": {
            "backgroundcolor": "#E5ECF6",
            "gridcolor": "white",
            "gridwidth": 2,
            "linecolor": "white",
            "showbackground": true,
            "ticks": "",
            "zerolinecolor": "white"
           },
           "zaxis": {
            "backgroundcolor": "#E5ECF6",
            "gridcolor": "white",
            "gridwidth": 2,
            "linecolor": "white",
            "showbackground": true,
            "ticks": "",
            "zerolinecolor": "white"
           }
          },
          "shapedefaults": {
           "line": {
            "color": "#2a3f5f"
           }
          },
          "ternary": {
           "aaxis": {
            "gridcolor": "white",
            "linecolor": "white",
            "ticks": ""
           },
           "baxis": {
            "gridcolor": "white",
            "linecolor": "white",
            "ticks": ""
           },
           "bgcolor": "#E5ECF6",
           "caxis": {
            "gridcolor": "white",
            "linecolor": "white",
            "ticks": ""
           }
          },
          "title": {
           "x": 0.05
          },
          "xaxis": {
           "automargin": true,
           "gridcolor": "white",
           "linecolor": "white",
           "ticks": "",
           "title": {
            "standoff": 15
           },
           "zerolinecolor": "white",
           "zerolinewidth": 2
          },
          "yaxis": {
           "automargin": true,
           "gridcolor": "white",
           "linecolor": "white",
           "ticks": "",
           "title": {
            "standoff": 15
           },
           "zerolinecolor": "white",
           "zerolinewidth": 2
          }
         }
        },
        "title": {
         "text": "Income by year per municiplaity"
        },
        "xaxis": {
         "anchor": "y",
         "domain": [
          0,
          1
         ],
         "title": {
          "text": ""
         }
        },
        "yaxis": {
         "anchor": "x",
         "domain": [
          0,
          1
         ],
         "title": {
          "text": "Income"
         }
        }
       }
      }
     },
     "metadata": {},
     "output_type": "display_data"
    }
   ],
   "source": [
    "# import plotly.express as px\n",
    "# import plotly.graph_objs as go\n",
    "\n",
    "# Group the data by 'year' and 'municipality', then calculate the sum of 'weighted_inc_mun' for each group\n",
    "df_income = df_2.groupby(['year', 'municipality'])['weighted_inc_mun'].sum().reset_index(name='count')\n",
    "\n",
    "# Filter the data to only include the Greater Copenhagen and Denmark Municipality\n",
    "selected_municipalities = ['Greater Copenhagen', 'Denmark']\n",
    "\n",
    "# Create a line chart using Plotly Express, with 'year' on the x-axis, 'count' on the y-axis, and colored by 'municipality'\n",
    "fig = px.line(df_income, x='year', y='count', color='municipality', markers=True)  # Adding markers to the line plot for better visibility of data points\n",
    "\n",
    "# Set visibility to True only for the selected municipalities\n",
    "for trace in fig.data:\n",
    "    if trace.name in selected_municipalities:\n",
    "        trace.visible = True\n",
    "    else:\n",
    "        trace.visible = 'legendonly'\n",
    "\n",
    "# Edit the layout\n",
    "fig.update_layout(title='Income by year per municiplaity',\n",
    "                   xaxis_title='',\n",
    "                   yaxis_title='Income')\n",
    "\n",
    "fig.show()"
   ]
  },
  {
   "cell_type": "code",
   "execution_count": 20,
   "metadata": {},
   "outputs": [
    {
     "data": {
      "application/vnd.plotly.v1+json": {
       "config": {
        "plotlyServerURL": "https://plot.ly"
       },
       "data": [
        {
         "hovertemplate": "municipality=Albertslund<br>year=%{x}<br>count=%{y}<extra></extra>",
         "legendgroup": "Albertslund",
         "line": {
          "color": "#636efa",
          "dash": "solid"
         },
         "marker": {
          "symbol": "circle"
         },
         "mode": "markers+lines",
         "name": "Albertslund",
         "orientation": "v",
         "showlegend": true,
         "type": "scatter",
         "visible": "legendonly",
         "x": [
          2005,
          2006,
          2007,
          2008,
          2009,
          2010,
          2011,
          2012,
          2013,
          2014,
          2015,
          2016,
          2017,
          2018
         ],
         "xaxis": "x",
         "y": [
          0.9173298199177562,
          0.9193355231838506,
          0.9450936308430999,
          0.880537665621048,
          0.8823801251517683,
          0.8903957928802573,
          0.938849392898051,
          0.9798710772992786,
          0.9231670186474931,
          1.0073804710806342,
          0.8536862779637114,
          0.8019559022769966,
          0.821978020548834,
          0.787764705882351
         ],
         "yaxis": "y"
        },
        {
         "hovertemplate": "municipality=Ballerup<br>year=%{x}<br>count=%{y}<extra></extra>",
         "legendgroup": "Ballerup",
         "line": {
          "color": "#EF553B",
          "dash": "solid"
         },
         "marker": {
          "symbol": "circle"
         },
         "mode": "markers+lines",
         "name": "Ballerup",
         "orientation": "v",
         "showlegend": true,
         "type": "scatter",
         "visible": "legendonly",
         "x": [
          2005,
          2006,
          2007,
          2008,
          2009,
          2010,
          2011,
          2012,
          2013,
          2014,
          2015,
          2016,
          2017,
          2018
         ],
         "xaxis": "x",
         "y": [
          1.0604167908035622,
          1.0381611580691343,
          0.999105344736913,
          0.9774017495899382,
          0.9867193244049214,
          0.9787575977039228,
          0.9959406703378146,
          1.0559571578947353,
          0.967949951976739,
          0.9964856775850978,
          0.9730387404237854,
          0.9000287459575976,
          0.8961354140062301,
          0.8387063068557176
         ],
         "yaxis": "y"
        },
        {
         "hovertemplate": "municipality=Brøndby<br>year=%{x}<br>count=%{y}<extra></extra>",
         "legendgroup": "Brøndby",
         "line": {
          "color": "#00cc96",
          "dash": "solid"
         },
         "marker": {
          "symbol": "circle"
         },
         "mode": "markers+lines",
         "name": "Brøndby",
         "orientation": "v",
         "showlegend": true,
         "type": "scatter",
         "visible": "legendonly",
         "x": [
          2005,
          2006,
          2007,
          2008,
          2009,
          2010,
          2011,
          2012,
          2013,
          2014,
          2015,
          2016,
          2017,
          2018
         ],
         "xaxis": "x",
         "y": [
          1.182985020393028,
          1.2142593593778908,
          1.1854715940430207,
          1.1875218346205918,
          1.2220966037460808,
          1.1020097394429453,
          1.2039504862639296,
          1.047240635880841,
          1.079181064390783,
          1.069301530891195,
          1.076833889169612,
          1.0595738471299272,
          1.0436206247523425,
          0.9805393091125649
         ],
         "yaxis": "y"
        },
        {
         "hovertemplate": "municipality=Copenhagen<br>year=%{x}<br>count=%{y}<extra></extra>",
         "legendgroup": "Copenhagen",
         "line": {
          "color": "#ab63fa",
          "dash": "solid"
         },
         "marker": {
          "symbol": "circle"
         },
         "mode": "markers+lines",
         "name": "Copenhagen",
         "orientation": "v",
         "showlegend": true,
         "type": "scatter",
         "visible": "legendonly",
         "x": [
          2005,
          2006,
          2007,
          2008,
          2009,
          2010,
          2011,
          2012,
          2013,
          2014,
          2015,
          2016,
          2017,
          2018
         ],
         "xaxis": "x",
         "y": [
          0.9273480924969252,
          0.9043068314081352,
          0.9061095287409424,
          0.8829632044793246,
          0.8660643167728785,
          0.8249713452420881,
          0.7769629005410363,
          0.7722104141422123,
          0.7290628074945618,
          0.6960644158556084,
          0.6562760929866446,
          0.646228129306478,
          0.6243734818683789,
          0.5896864943495131
         ],
         "yaxis": "y"
        },
        {
         "hovertemplate": "municipality=Denmark<br>year=%{x}<br>count=%{y}<extra></extra>",
         "legendgroup": "Denmark",
         "line": {
          "color": "#FFA15A",
          "dash": "solid"
         },
         "marker": {
          "symbol": "circle"
         },
         "mode": "markers+lines",
         "name": "Denmark",
         "orientation": "v",
         "showlegend": true,
         "type": "scatter",
         "visible": true,
         "x": [
          2005,
          2006,
          2007,
          2008,
          2009,
          2010,
          2011,
          2012,
          2013,
          2014,
          2015,
          2016,
          2017,
          2018
         ],
         "xaxis": "x",
         "y": [
          1.017884474305135,
          1.012262539992452,
          0.9998110393942922,
          0.9781689343939935,
          0.96948237160028,
          0.9472355920717627,
          0.9145240238685118,
          0.9014076222305092,
          0.8838315792691391,
          0.8723144686169769,
          0.8444634760587834,
          0.821964230840899,
          0.8082126151393425,
          0.7744991102973222
         ],
         "yaxis": "y"
        },
        {
         "hovertemplate": "municipality=Dragør<br>year=%{x}<br>count=%{y}<extra></extra>",
         "legendgroup": "Dragør",
         "line": {
          "color": "#19d3f3",
          "dash": "solid"
         },
         "marker": {
          "symbol": "circle"
         },
         "mode": "markers+lines",
         "name": "Dragør",
         "orientation": "v",
         "showlegend": true,
         "type": "scatter",
         "visible": "legendonly",
         "x": [
          2005,
          2006,
          2007,
          2008,
          2009,
          2010,
          2011,
          2012,
          2013,
          2014,
          2015,
          2016,
          2017,
          2018
         ],
         "xaxis": "x",
         "y": [
          0.9592207650273217,
          1.0701443298969067,
          1.1194298934682014,
          1.0692062207072852,
          1.0921294873144531,
          1.0813976103896097,
          1.1433432560049264,
          1.0407928168291427,
          1.0429040072675881,
          1.0734704643466044,
          1.0838908161219165,
          1.1022657460758984,
          1.0141982588049063,
          1.0431453705523879
         ],
         "yaxis": "y"
        },
        {
         "hovertemplate": "municipality=Frederiksberg<br>year=%{x}<br>count=%{y}<extra></extra>",
         "legendgroup": "Frederiksberg",
         "line": {
          "color": "#FF6692",
          "dash": "solid"
         },
         "marker": {
          "symbol": "circle"
         },
         "mode": "markers+lines",
         "name": "Frederiksberg",
         "orientation": "v",
         "showlegend": true,
         "type": "scatter",
         "visible": "legendonly",
         "x": [
          2005,
          2006,
          2007,
          2008,
          2009,
          2010,
          2011,
          2012,
          2013,
          2014,
          2015,
          2016,
          2017,
          2018
         ],
         "xaxis": "x",
         "y": [
          1.1381236843915508,
          1.0973763904622795,
          1.1174766265515865,
          1.1115666671135702,
          1.1499660850787572,
          1.0025547198194786,
          0.9555487260742781,
          0.8652544308537172,
          0.866650998723987,
          0.8646847774778784,
          0.8092752427591305,
          0.786198444407667,
          0.769738472801122,
          0.7409864641245706
         ],
         "yaxis": "y"
        },
        {
         "hovertemplate": "municipality=Furesø<br>year=%{x}<br>count=%{y}<extra></extra>",
         "legendgroup": "Furesø",
         "line": {
          "color": "#B6E880",
          "dash": "solid"
         },
         "marker": {
          "symbol": "circle"
         },
         "mode": "markers+lines",
         "name": "Furesø",
         "orientation": "v",
         "showlegend": true,
         "type": "scatter",
         "visible": "legendonly",
         "x": [
          2005,
          2006,
          2007,
          2008,
          2009,
          2010,
          2011,
          2012,
          2013,
          2014,
          2015,
          2016,
          2017,
          2018
         ],
         "xaxis": "x",
         "y": [
          0.9078444527039572,
          0.8946233484229497,
          0.8774995482635235,
          0.9015246255760356,
          0.9098993404072253,
          0.8754839680067935,
          0.7727160121904212,
          0.7884251987724911,
          0.8167839078080239,
          0.8809675222986298,
          0.8545443988387209,
          0.796555090519757,
          0.7997470629774651,
          0.7944678385041446
         ],
         "yaxis": "y"
        },
        {
         "hovertemplate": "municipality=Gentofte<br>year=%{x}<br>count=%{y}<extra></extra>",
         "legendgroup": "Gentofte",
         "line": {
          "color": "#FF97FF",
          "dash": "solid"
         },
         "marker": {
          "symbol": "circle"
         },
         "mode": "markers+lines",
         "name": "Gentofte",
         "orientation": "v",
         "showlegend": true,
         "type": "scatter",
         "visible": "legendonly",
         "x": [
          2005,
          2006,
          2007,
          2008,
          2009,
          2010,
          2011,
          2012,
          2013,
          2014,
          2015,
          2016,
          2017,
          2018
         ],
         "xaxis": "x",
         "y": [
          0.9992935466946467,
          1.005694497651066,
          0.9601327408830692,
          0.867725105468437,
          0.872721301484319,
          0.8732049098002841,
          0.8481115865889752,
          0.8356776709221432,
          0.8351590048177686,
          0.8777286503122994,
          0.8423956930878683,
          0.837680830354297,
          0.795003339895934,
          0.7391970076560533
         ],
         "yaxis": "y"
        },
        {
         "hovertemplate": "municipality=Gladsaxe<br>year=%{x}<br>count=%{y}<extra></extra>",
         "legendgroup": "Gladsaxe",
         "line": {
          "color": "#FECB52",
          "dash": "solid"
         },
         "marker": {
          "symbol": "circle"
         },
         "mode": "markers+lines",
         "name": "Gladsaxe",
         "orientation": "v",
         "showlegend": true,
         "type": "scatter",
         "visible": "legendonly",
         "x": [
          2005,
          2006,
          2007,
          2008,
          2009,
          2010,
          2011,
          2012,
          2013,
          2014,
          2015,
          2016,
          2017,
          2018
         ],
         "xaxis": "x",
         "y": [
          1.0720954069679955,
          0.9982159737277022,
          1.0019099412981949,
          0.9487361328084299,
          0.9341980181769667,
          0.9233011497969146,
          0.8990933105585106,
          0.9113010220125766,
          0.8951187161639578,
          0.840156263723672,
          0.8785898682648252,
          0.8565364754937524,
          0.8072703010906926,
          0.7699193113990371
         ],
         "yaxis": "y"
        },
        {
         "hovertemplate": "municipality=Glostrup<br>year=%{x}<br>count=%{y}<extra></extra>",
         "legendgroup": "Glostrup",
         "line": {
          "color": "#636efa",
          "dash": "solid"
         },
         "marker": {
          "symbol": "circle"
         },
         "mode": "markers+lines",
         "name": "Glostrup",
         "orientation": "v",
         "showlegend": true,
         "type": "scatter",
         "visible": "legendonly",
         "x": [
          2005,
          2006,
          2007,
          2008,
          2009,
          2010,
          2011,
          2012,
          2013,
          2014,
          2015,
          2016,
          2017,
          2018
         ],
         "xaxis": "x",
         "y": [
          1.3010347416645445,
          1.1738320324893703,
          1.2145883981376613,
          1.1255757331013907,
          1.264815024675561,
          1.197659428911361,
          1.0592934526613271,
          1.088059761877239,
          1.0922685665431735,
          1.1110043253567,
          0.9971771765098045,
          1.0026434365171313,
          0.9847249890061553,
          0.9611833040807357
         ],
         "yaxis": "y"
        },
        {
         "hovertemplate": "municipality=Greater Copenhagen<br>year=%{x}<br>count=%{y}<extra></extra>",
         "legendgroup": "Greater Copenhagen",
         "line": {
          "color": "#EF553B",
          "dash": "solid"
         },
         "marker": {
          "symbol": "circle"
         },
         "mode": "markers+lines",
         "name": "Greater Copenhagen",
         "orientation": "v",
         "showlegend": true,
         "type": "scatter",
         "visible": true,
         "x": [
          2005,
          2006,
          2007,
          2008,
          2009,
          2010,
          2011,
          2012,
          2013,
          2014,
          2015,
          2016,
          2017,
          2018
         ],
         "xaxis": "x",
         "y": [
          1.0163778191337378,
          1.0134964417219907,
          1.0019659433732337,
          0.9669269251590779,
          0.9681727637325243,
          0.9332540877681378,
          0.8964687604634008,
          0.879933852158128,
          0.8564572552328836,
          0.8520921186207542,
          0.8183434440547106,
          0.7969028809904927,
          0.7704370659614085,
          0.7339596313933288
         ],
         "yaxis": "y"
        },
        {
         "hovertemplate": "municipality=Greve<br>year=%{x}<br>count=%{y}<extra></extra>",
         "legendgroup": "Greve",
         "line": {
          "color": "#00cc96",
          "dash": "solid"
         },
         "marker": {
          "symbol": "circle"
         },
         "mode": "markers+lines",
         "name": "Greve",
         "orientation": "v",
         "showlegend": true,
         "type": "scatter",
         "visible": "legendonly",
         "x": [
          2005,
          2006,
          2007,
          2008,
          2009,
          2010,
          2011,
          2012,
          2013,
          2014,
          2015,
          2016,
          2017,
          2018
         ],
         "xaxis": "x",
         "y": [
          0.9697025652680306,
          1.0149410773465133,
          1.0420460341534645,
          0.9937233391729913,
          0.9552995403121458,
          0.8938670169101937,
          0.8995879890166635,
          0.8517822632944212,
          0.8471340958285437,
          0.8663537294027098,
          0.8380813911143463,
          0.8349716874582866,
          0.8789241029542264,
          0.8083885914852765
         ],
         "yaxis": "y"
        },
        {
         "hovertemplate": "municipality=Herlev<br>year=%{x}<br>count=%{y}<extra></extra>",
         "legendgroup": "Herlev",
         "line": {
          "color": "#ab63fa",
          "dash": "solid"
         },
         "marker": {
          "symbol": "circle"
         },
         "mode": "markers+lines",
         "name": "Herlev",
         "orientation": "v",
         "showlegend": true,
         "type": "scatter",
         "visible": "legendonly",
         "x": [
          2005,
          2006,
          2007,
          2008,
          2009,
          2010,
          2011,
          2012,
          2013,
          2014,
          2015,
          2016,
          2017,
          2018
         ],
         "xaxis": "x",
         "y": [
          1.1229938520558715,
          1.1980314750863332,
          1.118180834774017,
          0.9972705347434997,
          1.069290324160218,
          1.0369211604095547,
          1.0093380560928418,
          0.9419111367570672,
          0.9239223856595548,
          0.9281681959992644,
          0.9142784215471328,
          0.9465748996780861,
          0.9490086707746461,
          0.8197092824974844
         ],
         "yaxis": "y"
        },
        {
         "hovertemplate": "municipality=Hvidovre<br>year=%{x}<br>count=%{y}<extra></extra>",
         "legendgroup": "Hvidovre",
         "line": {
          "color": "#FFA15A",
          "dash": "solid"
         },
         "marker": {
          "symbol": "circle"
         },
         "mode": "markers+lines",
         "name": "Hvidovre",
         "orientation": "v",
         "showlegend": true,
         "type": "scatter",
         "visible": "legendonly",
         "x": [
          2005,
          2006,
          2007,
          2008,
          2009,
          2010,
          2011,
          2012,
          2013,
          2014,
          2015,
          2016,
          2017,
          2018
         ],
         "xaxis": "x",
         "y": [
          1.1713640520112039,
          1.2309681080229053,
          1.2026261831720793,
          1.1374167295826698,
          1.1667863796315445,
          1.102834198737526,
          1.069946961325965,
          1.0506147976193396,
          1.0106773326228058,
          1.0686172585922737,
          1.0039998820977154,
          0.9863694634329037,
          0.8733253127110925,
          0.8971307772743098
         ],
         "yaxis": "y"
        },
        {
         "hovertemplate": "municipality=Høje-Taastrup<br>year=%{x}<br>count=%{y}<extra></extra>",
         "legendgroup": "Høje-Taastrup",
         "line": {
          "color": "#19d3f3",
          "dash": "solid"
         },
         "marker": {
          "symbol": "circle"
         },
         "mode": "markers+lines",
         "name": "Høje-Taastrup",
         "orientation": "v",
         "showlegend": true,
         "type": "scatter",
         "visible": "legendonly",
         "x": [
          2005,
          2006,
          2007,
          2008,
          2009,
          2010,
          2011,
          2012,
          2013,
          2014,
          2015,
          2016,
          2017,
          2018
         ],
         "xaxis": "x",
         "y": [
          0.9744338423489469,
          1.0153300169109338,
          0.9800280960775654,
          0.9721314565417255,
          0.9634773579849929,
          1.0220890660289608,
          0.925115035131278,
          0.9474553529564972,
          0.958038803432015,
          0.9537860217518637,
          0.9270614986040173,
          0.9456709401709383,
          0.8828091270035762,
          0.8462770691333961
         ],
         "yaxis": "y"
        },
        {
         "hovertemplate": "municipality=Ishøj<br>year=%{x}<br>count=%{y}<extra></extra>",
         "legendgroup": "Ishøj",
         "line": {
          "color": "#FF6692",
          "dash": "solid"
         },
         "marker": {
          "symbol": "circle"
         },
         "mode": "markers+lines",
         "name": "Ishøj",
         "orientation": "v",
         "showlegend": true,
         "type": "scatter",
         "visible": "legendonly",
         "x": [
          2005,
          2006,
          2007,
          2008,
          2009,
          2010,
          2011,
          2012,
          2013,
          2014,
          2015,
          2016,
          2017,
          2018
         ],
         "xaxis": "x",
         "y": [
          0.8533652329511554,
          0.9325220133882584,
          0.8233222841931791,
          0.8703737937084837,
          0.8569809376927808,
          0.8819707792207779,
          0.8405082354365977,
          0.9153567442412714,
          0.8093384759781762,
          0.7934921433060951,
          0.9033261171246169,
          0.8438611413043463,
          0.7930920989624883,
          0.7853497267759547
         ],
         "yaxis": "y"
        },
        {
         "hovertemplate": "municipality=Lyngby-Taarbæk<br>year=%{x}<br>count=%{y}<extra></extra>",
         "legendgroup": "Lyngby-Taarbæk",
         "line": {
          "color": "#B6E880",
          "dash": "solid"
         },
         "marker": {
          "symbol": "circle"
         },
         "mode": "markers+lines",
         "name": "Lyngby-Taarbæk",
         "orientation": "v",
         "showlegend": true,
         "type": "scatter",
         "visible": "legendonly",
         "x": [
          2005,
          2006,
          2007,
          2008,
          2009,
          2010,
          2011,
          2012,
          2013,
          2014,
          2015,
          2016,
          2017,
          2018
         ],
         "xaxis": "x",
         "y": [
          1.0910126150698927,
          0.9941515119997906,
          0.9807696384922149,
          0.9488362828448859,
          1.0036327246833814,
          0.9193571661278583,
          0.911978204874181,
          0.9059304409222585,
          0.9351020653796139,
          0.9481527050195235,
          0.8939638579731267,
          0.871768843518387,
          0.8102523384105784,
          0.7627682547782499
         ],
         "yaxis": "y"
        },
        {
         "hovertemplate": "municipality=Rudersdal<br>year=%{x}<br>count=%{y}<extra></extra>",
         "legendgroup": "Rudersdal",
         "line": {
          "color": "#FF97FF",
          "dash": "solid"
         },
         "marker": {
          "symbol": "circle"
         },
         "mode": "markers+lines",
         "name": "Rudersdal",
         "orientation": "v",
         "showlegend": true,
         "type": "scatter",
         "visible": "legendonly",
         "x": [
          2005,
          2006,
          2007,
          2008,
          2009,
          2010,
          2011,
          2012,
          2013,
          2014,
          2015,
          2016,
          2017,
          2018
         ],
         "xaxis": "x",
         "y": [
          1.0662981252265764,
          1.1432467336939862,
          1.0180960057134096,
          0.9151931140015283,
          0.8943240009146093,
          0.9758960855884184,
          0.9297801253714927,
          0.9089395673515681,
          0.8976397411255181,
          0.9301163917824052,
          0.8864329786728712,
          0.7922625660288746,
          0.8331036396999025,
          0.7970733285406162
         ],
         "yaxis": "y"
        },
        {
         "hovertemplate": "municipality=Rødovre<br>year=%{x}<br>count=%{y}<extra></extra>",
         "legendgroup": "Rødovre",
         "line": {
          "color": "#FECB52",
          "dash": "solid"
         },
         "marker": {
          "symbol": "circle"
         },
         "mode": "markers+lines",
         "name": "Rødovre",
         "orientation": "v",
         "showlegend": true,
         "type": "scatter",
         "visible": "legendonly",
         "x": [
          2005,
          2006,
          2007,
          2008,
          2009,
          2010,
          2011,
          2012,
          2013,
          2014,
          2015,
          2016,
          2017,
          2018
         ],
         "xaxis": "x",
         "y": [
          1.0509853778001859,
          1.1378192860948304,
          1.0626559929701216,
          1.0563410203147539,
          1.0878680582353955,
          1.0257737345625308,
          0.9985381025904941,
          0.9462329248117746,
          0.9619959492662178,
          0.966293158861339,
          0.9694742097046944,
          0.9530510868864072,
          0.8479646710589116,
          0.8544571366269992
         ],
         "yaxis": "y"
        },
        {
         "hovertemplate": "municipality=Tårnby<br>year=%{x}<br>count=%{y}<extra></extra>",
         "legendgroup": "Tårnby",
         "line": {
          "color": "#636efa",
          "dash": "solid"
         },
         "marker": {
          "symbol": "circle"
         },
         "mode": "markers+lines",
         "name": "Tårnby",
         "orientation": "v",
         "showlegend": true,
         "type": "scatter",
         "visible": "legendonly",
         "x": [
          2005,
          2006,
          2007,
          2008,
          2009,
          2010,
          2011,
          2012,
          2013,
          2014,
          2015,
          2016,
          2017,
          2018
         ],
         "xaxis": "x",
         "y": [
          1.0706742701336691,
          1.1659691590638621,
          1.1523212714257558,
          1.1745763435950938,
          1.1613842793346696,
          1.227650999615531,
          1.1092838258899052,
          1.0710320104829634,
          1.073198267624301,
          1.0795806972141861,
          1.114588235294116,
          1.0506293635415096,
          1.0011652899928671,
          0.9857205982728416
         ],
         "yaxis": "y"
        },
        {
         "hovertemplate": "municipality=Vallensbæk<br>year=%{x}<br>count=%{y}<extra></extra>",
         "legendgroup": "Vallensbæk",
         "line": {
          "color": "#EF553B",
          "dash": "solid"
         },
         "marker": {
          "symbol": "circle"
         },
         "mode": "markers+lines",
         "name": "Vallensbæk",
         "orientation": "v",
         "showlegend": true,
         "type": "scatter",
         "visible": "legendonly",
         "x": [
          2005,
          2006,
          2007,
          2008,
          2009,
          2010,
          2011,
          2012,
          2013,
          2014,
          2015,
          2016,
          2017,
          2018
         ],
         "xaxis": "x",
         "y": [
          1.0384540897698786,
          1.1208803698274883,
          1.1549824207815467,
          0.954574475174941,
          0.9558601929788536,
          0.9240007752689201,
          0.98587882760558,
          0.8675702755357627,
          0.8771325085171231,
          0.9248892567744167,
          0.8557451450081258,
          0.8069337961395178,
          0.8109855337545714,
          0.762866476371708
         ],
         "yaxis": "y"
        }
       ],
       "layout": {
        "legend": {
         "title": {
          "text": "municipality"
         },
         "tracegroupgap": 0
        },
        "margin": {
         "t": 60
        },
        "template": {
         "data": {
          "bar": [
           {
            "error_x": {
             "color": "#2a3f5f"
            },
            "error_y": {
             "color": "#2a3f5f"
            },
            "marker": {
             "line": {
              "color": "#E5ECF6",
              "width": 0.5
             },
             "pattern": {
              "fillmode": "overlay",
              "size": 10,
              "solidity": 0.2
             }
            },
            "type": "bar"
           }
          ],
          "barpolar": [
           {
            "marker": {
             "line": {
              "color": "#E5ECF6",
              "width": 0.5
             },
             "pattern": {
              "fillmode": "overlay",
              "size": 10,
              "solidity": 0.2
             }
            },
            "type": "barpolar"
           }
          ],
          "carpet": [
           {
            "aaxis": {
             "endlinecolor": "#2a3f5f",
             "gridcolor": "white",
             "linecolor": "white",
             "minorgridcolor": "white",
             "startlinecolor": "#2a3f5f"
            },
            "baxis": {
             "endlinecolor": "#2a3f5f",
             "gridcolor": "white",
             "linecolor": "white",
             "minorgridcolor": "white",
             "startlinecolor": "#2a3f5f"
            },
            "type": "carpet"
           }
          ],
          "choropleth": [
           {
            "colorbar": {
             "outlinewidth": 0,
             "ticks": ""
            },
            "type": "choropleth"
           }
          ],
          "contour": [
           {
            "colorbar": {
             "outlinewidth": 0,
             "ticks": ""
            },
            "colorscale": [
             [
              0,
              "#0d0887"
             ],
             [
              0.1111111111111111,
              "#46039f"
             ],
             [
              0.2222222222222222,
              "#7201a8"
             ],
             [
              0.3333333333333333,
              "#9c179e"
             ],
             [
              0.4444444444444444,
              "#bd3786"
             ],
             [
              0.5555555555555556,
              "#d8576b"
             ],
             [
              0.6666666666666666,
              "#ed7953"
             ],
             [
              0.7777777777777778,
              "#fb9f3a"
             ],
             [
              0.8888888888888888,
              "#fdca26"
             ],
             [
              1,
              "#f0f921"
             ]
            ],
            "type": "contour"
           }
          ],
          "contourcarpet": [
           {
            "colorbar": {
             "outlinewidth": 0,
             "ticks": ""
            },
            "type": "contourcarpet"
           }
          ],
          "heatmap": [
           {
            "colorbar": {
             "outlinewidth": 0,
             "ticks": ""
            },
            "colorscale": [
             [
              0,
              "#0d0887"
             ],
             [
              0.1111111111111111,
              "#46039f"
             ],
             [
              0.2222222222222222,
              "#7201a8"
             ],
             [
              0.3333333333333333,
              "#9c179e"
             ],
             [
              0.4444444444444444,
              "#bd3786"
             ],
             [
              0.5555555555555556,
              "#d8576b"
             ],
             [
              0.6666666666666666,
              "#ed7953"
             ],
             [
              0.7777777777777778,
              "#fb9f3a"
             ],
             [
              0.8888888888888888,
              "#fdca26"
             ],
             [
              1,
              "#f0f921"
             ]
            ],
            "type": "heatmap"
           }
          ],
          "heatmapgl": [
           {
            "colorbar": {
             "outlinewidth": 0,
             "ticks": ""
            },
            "colorscale": [
             [
              0,
              "#0d0887"
             ],
             [
              0.1111111111111111,
              "#46039f"
             ],
             [
              0.2222222222222222,
              "#7201a8"
             ],
             [
              0.3333333333333333,
              "#9c179e"
             ],
             [
              0.4444444444444444,
              "#bd3786"
             ],
             [
              0.5555555555555556,
              "#d8576b"
             ],
             [
              0.6666666666666666,
              "#ed7953"
             ],
             [
              0.7777777777777778,
              "#fb9f3a"
             ],
             [
              0.8888888888888888,
              "#fdca26"
             ],
             [
              1,
              "#f0f921"
             ]
            ],
            "type": "heatmapgl"
           }
          ],
          "histogram": [
           {
            "marker": {
             "pattern": {
              "fillmode": "overlay",
              "size": 10,
              "solidity": 0.2
             }
            },
            "type": "histogram"
           }
          ],
          "histogram2d": [
           {
            "colorbar": {
             "outlinewidth": 0,
             "ticks": ""
            },
            "colorscale": [
             [
              0,
              "#0d0887"
             ],
             [
              0.1111111111111111,
              "#46039f"
             ],
             [
              0.2222222222222222,
              "#7201a8"
             ],
             [
              0.3333333333333333,
              "#9c179e"
             ],
             [
              0.4444444444444444,
              "#bd3786"
             ],
             [
              0.5555555555555556,
              "#d8576b"
             ],
             [
              0.6666666666666666,
              "#ed7953"
             ],
             [
              0.7777777777777778,
              "#fb9f3a"
             ],
             [
              0.8888888888888888,
              "#fdca26"
             ],
             [
              1,
              "#f0f921"
             ]
            ],
            "type": "histogram2d"
           }
          ],
          "histogram2dcontour": [
           {
            "colorbar": {
             "outlinewidth": 0,
             "ticks": ""
            },
            "colorscale": [
             [
              0,
              "#0d0887"
             ],
             [
              0.1111111111111111,
              "#46039f"
             ],
             [
              0.2222222222222222,
              "#7201a8"
             ],
             [
              0.3333333333333333,
              "#9c179e"
             ],
             [
              0.4444444444444444,
              "#bd3786"
             ],
             [
              0.5555555555555556,
              "#d8576b"
             ],
             [
              0.6666666666666666,
              "#ed7953"
             ],
             [
              0.7777777777777778,
              "#fb9f3a"
             ],
             [
              0.8888888888888888,
              "#fdca26"
             ],
             [
              1,
              "#f0f921"
             ]
            ],
            "type": "histogram2dcontour"
           }
          ],
          "mesh3d": [
           {
            "colorbar": {
             "outlinewidth": 0,
             "ticks": ""
            },
            "type": "mesh3d"
           }
          ],
          "parcoords": [
           {
            "line": {
             "colorbar": {
              "outlinewidth": 0,
              "ticks": ""
             }
            },
            "type": "parcoords"
           }
          ],
          "pie": [
           {
            "automargin": true,
            "type": "pie"
           }
          ],
          "scatter": [
           {
            "fillpattern": {
             "fillmode": "overlay",
             "size": 10,
             "solidity": 0.2
            },
            "type": "scatter"
           }
          ],
          "scatter3d": [
           {
            "line": {
             "colorbar": {
              "outlinewidth": 0,
              "ticks": ""
             }
            },
            "marker": {
             "colorbar": {
              "outlinewidth": 0,
              "ticks": ""
             }
            },
            "type": "scatter3d"
           }
          ],
          "scattercarpet": [
           {
            "marker": {
             "colorbar": {
              "outlinewidth": 0,
              "ticks": ""
             }
            },
            "type": "scattercarpet"
           }
          ],
          "scattergeo": [
           {
            "marker": {
             "colorbar": {
              "outlinewidth": 0,
              "ticks": ""
             }
            },
            "type": "scattergeo"
           }
          ],
          "scattergl": [
           {
            "marker": {
             "colorbar": {
              "outlinewidth": 0,
              "ticks": ""
             }
            },
            "type": "scattergl"
           }
          ],
          "scattermapbox": [
           {
            "marker": {
             "colorbar": {
              "outlinewidth": 0,
              "ticks": ""
             }
            },
            "type": "scattermapbox"
           }
          ],
          "scatterpolar": [
           {
            "marker": {
             "colorbar": {
              "outlinewidth": 0,
              "ticks": ""
             }
            },
            "type": "scatterpolar"
           }
          ],
          "scatterpolargl": [
           {
            "marker": {
             "colorbar": {
              "outlinewidth": 0,
              "ticks": ""
             }
            },
            "type": "scatterpolargl"
           }
          ],
          "scatterternary": [
           {
            "marker": {
             "colorbar": {
              "outlinewidth": 0,
              "ticks": ""
             }
            },
            "type": "scatterternary"
           }
          ],
          "surface": [
           {
            "colorbar": {
             "outlinewidth": 0,
             "ticks": ""
            },
            "colorscale": [
             [
              0,
              "#0d0887"
             ],
             [
              0.1111111111111111,
              "#46039f"
             ],
             [
              0.2222222222222222,
              "#7201a8"
             ],
             [
              0.3333333333333333,
              "#9c179e"
             ],
             [
              0.4444444444444444,
              "#bd3786"
             ],
             [
              0.5555555555555556,
              "#d8576b"
             ],
             [
              0.6666666666666666,
              "#ed7953"
             ],
             [
              0.7777777777777778,
              "#fb9f3a"
             ],
             [
              0.8888888888888888,
              "#fdca26"
             ],
             [
              1,
              "#f0f921"
             ]
            ],
            "type": "surface"
           }
          ],
          "table": [
           {
            "cells": {
             "fill": {
              "color": "#EBF0F8"
             },
             "line": {
              "color": "white"
             }
            },
            "header": {
             "fill": {
              "color": "#C8D4E3"
             },
             "line": {
              "color": "white"
             }
            },
            "type": "table"
           }
          ]
         },
         "layout": {
          "annotationdefaults": {
           "arrowcolor": "#2a3f5f",
           "arrowhead": 0,
           "arrowwidth": 1
          },
          "autotypenumbers": "strict",
          "coloraxis": {
           "colorbar": {
            "outlinewidth": 0,
            "ticks": ""
           }
          },
          "colorscale": {
           "diverging": [
            [
             0,
             "#8e0152"
            ],
            [
             0.1,
             "#c51b7d"
            ],
            [
             0.2,
             "#de77ae"
            ],
            [
             0.3,
             "#f1b6da"
            ],
            [
             0.4,
             "#fde0ef"
            ],
            [
             0.5,
             "#f7f7f7"
            ],
            [
             0.6,
             "#e6f5d0"
            ],
            [
             0.7,
             "#b8e186"
            ],
            [
             0.8,
             "#7fbc41"
            ],
            [
             0.9,
             "#4d9221"
            ],
            [
             1,
             "#276419"
            ]
           ],
           "sequential": [
            [
             0,
             "#0d0887"
            ],
            [
             0.1111111111111111,
             "#46039f"
            ],
            [
             0.2222222222222222,
             "#7201a8"
            ],
            [
             0.3333333333333333,
             "#9c179e"
            ],
            [
             0.4444444444444444,
             "#bd3786"
            ],
            [
             0.5555555555555556,
             "#d8576b"
            ],
            [
             0.6666666666666666,
             "#ed7953"
            ],
            [
             0.7777777777777778,
             "#fb9f3a"
            ],
            [
             0.8888888888888888,
             "#fdca26"
            ],
            [
             1,
             "#f0f921"
            ]
           ],
           "sequentialminus": [
            [
             0,
             "#0d0887"
            ],
            [
             0.1111111111111111,
             "#46039f"
            ],
            [
             0.2222222222222222,
             "#7201a8"
            ],
            [
             0.3333333333333333,
             "#9c179e"
            ],
            [
             0.4444444444444444,
             "#bd3786"
            ],
            [
             0.5555555555555556,
             "#d8576b"
            ],
            [
             0.6666666666666666,
             "#ed7953"
            ],
            [
             0.7777777777777778,
             "#fb9f3a"
            ],
            [
             0.8888888888888888,
             "#fdca26"
            ],
            [
             1,
             "#f0f921"
            ]
           ]
          },
          "colorway": [
           "#636efa",
           "#EF553B",
           "#00cc96",
           "#ab63fa",
           "#FFA15A",
           "#19d3f3",
           "#FF6692",
           "#B6E880",
           "#FF97FF",
           "#FECB52"
          ],
          "font": {
           "color": "#2a3f5f"
          },
          "geo": {
           "bgcolor": "white",
           "lakecolor": "white",
           "landcolor": "#E5ECF6",
           "showlakes": true,
           "showland": true,
           "subunitcolor": "white"
          },
          "hoverlabel": {
           "align": "left"
          },
          "hovermode": "closest",
          "mapbox": {
           "style": "light"
          },
          "paper_bgcolor": "white",
          "plot_bgcolor": "#E5ECF6",
          "polar": {
           "angularaxis": {
            "gridcolor": "white",
            "linecolor": "white",
            "ticks": ""
           },
           "bgcolor": "#E5ECF6",
           "radialaxis": {
            "gridcolor": "white",
            "linecolor": "white",
            "ticks": ""
           }
          },
          "scene": {
           "xaxis": {
            "backgroundcolor": "#E5ECF6",
            "gridcolor": "white",
            "gridwidth": 2,
            "linecolor": "white",
            "showbackground": true,
            "ticks": "",
            "zerolinecolor": "white"
           },
           "yaxis": {
            "backgroundcolor": "#E5ECF6",
            "gridcolor": "white",
            "gridwidth": 2,
            "linecolor": "white",
            "showbackground": true,
            "ticks": "",
            "zerolinecolor": "white"
           },
           "zaxis": {
            "backgroundcolor": "#E5ECF6",
            "gridcolor": "white",
            "gridwidth": 2,
            "linecolor": "white",
            "showbackground": true,
            "ticks": "",
            "zerolinecolor": "white"
           }
          },
          "shapedefaults": {
           "line": {
            "color": "#2a3f5f"
           }
          },
          "ternary": {
           "aaxis": {
            "gridcolor": "white",
            "linecolor": "white",
            "ticks": ""
           },
           "baxis": {
            "gridcolor": "white",
            "linecolor": "white",
            "ticks": ""
           },
           "bgcolor": "#E5ECF6",
           "caxis": {
            "gridcolor": "white",
            "linecolor": "white",
            "ticks": ""
           }
          },
          "title": {
           "x": 0.05
          },
          "xaxis": {
           "automargin": true,
           "gridcolor": "white",
           "linecolor": "white",
           "ticks": "",
           "title": {
            "standoff": 15
           },
           "zerolinecolor": "white",
           "zerolinewidth": 2
          },
          "yaxis": {
           "automargin": true,
           "gridcolor": "white",
           "linecolor": "white",
           "ticks": "",
           "title": {
            "standoff": 15
           },
           "zerolinecolor": "white",
           "zerolinewidth": 2
          }
         }
        },
        "title": {
         "text": "Days in hospitality"
        },
        "xaxis": {
         "anchor": "y",
         "domain": [
          0,
          1
         ],
         "title": {
          "text": ""
         }
        },
        "yaxis": {
         "anchor": "x",
         "domain": [
          0,
          1
         ],
         "title": {
          "text": "Days"
         }
        }
       }
      }
     },
     "metadata": {},
     "output_type": "display_data"
    }
   ],
   "source": [
    "# import plotly.express as px\n",
    "# import plotly.graph_objs as go\n",
    "\n",
    "# Group the data by 'year' and 'municipality', then calculate the sum of 'weighted_hosp_days_mun' for each group\n",
    "df_hosp_days = df_2.groupby(['year', 'municipality'])['weighted_hosp_days_mun'].sum().reset_index(name='count')\n",
    "\n",
    "# Filter the data to only include the Greater Copenhagen and Denmark Municipality\n",
    "selected_municipalities = ['Greater Copenhagen', 'Denmark']\n",
    "\n",
    "# Create a line chart using Plotly Express, with 'year' on the x-axis, 'count' on the y-axis, and colored by 'municipality'\n",
    "fig = px.line(df_hosp_days, x='year', y='count', color='municipality', markers=True)  # Adding markers to the line plot for better visibility of data points\n",
    "\n",
    "# Set visibility to True only for the selected municipalities\n",
    "for trace in fig.data:\n",
    "    if trace.name in selected_municipalities:\n",
    "        trace.visible = True\n",
    "    else:\n",
    "        trace.visible = 'legendonly'\n",
    "\n",
    "# Edit the layout\n",
    "fig.update_layout(title='Days in hospitality',\n",
    "                   xaxis_title='',\n",
    "                   yaxis_title='Days')\n",
    "\n",
    "fig.show()"
   ]
  },
  {
   "cell_type": "code",
   "execution_count": 21,
   "metadata": {},
   "outputs": [
    {
     "data": {
      "application/vnd.plotly.v1+json": {
       "config": {
        "plotlyServerURL": "https://plot.ly"
       },
       "data": [
        {
         "hovertemplate": "municipality=Albertslund<br>year=%{x}<br>count=%{y}<extra></extra>",
         "legendgroup": "Albertslund",
         "line": {
          "color": "#636efa",
          "dash": "solid"
         },
         "marker": {
          "symbol": "circle"
         },
         "mode": "markers+lines",
         "name": "Albertslund",
         "orientation": "v",
         "showlegend": true,
         "type": "scatter",
         "visible": "legendonly",
         "x": [
          2005,
          2006,
          2007,
          2008,
          2009,
          2010,
          2011,
          2012,
          2013,
          2014,
          2015,
          2016,
          2017,
          2018
         ],
         "xaxis": "x",
         "y": [
          0.15599919648343175,
          0.1558801294868116,
          0.1582957209433681,
          0.15635207640807008,
          0.1742628654151471,
          0.17940947757743722,
          0.1876757388316132,
          0.206415840239096,
          0.2026004493372259,
          0.2212365644062498,
          0.20792051259467878,
          0.1996946811765202,
          0.18831443187237001,
          0.1854205081591119
         ],
         "yaxis": "y"
        },
        {
         "hovertemplate": "municipality=Ballerup<br>year=%{x}<br>count=%{y}<extra></extra>",
         "legendgroup": "Ballerup",
         "line": {
          "color": "#EF553B",
          "dash": "solid"
         },
         "marker": {
          "symbol": "circle"
         },
         "mode": "markers+lines",
         "name": "Ballerup",
         "orientation": "v",
         "showlegend": true,
         "type": "scatter",
         "visible": "legendonly",
         "x": [
          2005,
          2006,
          2007,
          2008,
          2009,
          2010,
          2011,
          2012,
          2013,
          2014,
          2015,
          2016,
          2017,
          2018
         ],
         "xaxis": "x",
         "y": [
          0.18435737373169445,
          0.177773216141078,
          0.1826880899000784,
          0.17744024056861496,
          0.1866794176652371,
          0.19713661114240338,
          0.212372736418509,
          0.21867773684210348,
          0.21273296472237202,
          0.22459545279383253,
          0.2301604704194297,
          0.21968695138853012,
          0.21308382285334665,
          0.2029862529857174
         ],
         "yaxis": "y"
        },
        {
         "hovertemplate": "municipality=Brøndby<br>year=%{x}<br>count=%{y}<extra></extra>",
         "legendgroup": "Brøndby",
         "line": {
          "color": "#00cc96",
          "dash": "solid"
         },
         "marker": {
          "symbol": "circle"
         },
         "mode": "markers+lines",
         "name": "Brøndby",
         "orientation": "v",
         "showlegend": true,
         "type": "scatter",
         "visible": "legendonly",
         "x": [
          2005,
          2006,
          2007,
          2008,
          2009,
          2010,
          2011,
          2012,
          2013,
          2014,
          2015,
          2016,
          2017,
          2018
         ],
         "xaxis": "x",
         "y": [
          0.18635695216907464,
          0.19352382892056852,
          0.19621555432983825,
          0.19271173908268777,
          0.2187689308359429,
          0.2113717160826573,
          0.2292627244977621,
          0.22125414131466753,
          0.2324878226477912,
          0.23645086112629632,
          0.2374786929425614,
          0.22848979864426922,
          0.2183920552106703,
          0.2240368936536274
         ],
         "yaxis": "y"
        },
        {
         "hovertemplate": "municipality=Copenhagen<br>year=%{x}<br>count=%{y}<extra></extra>",
         "legendgroup": "Copenhagen",
         "line": {
          "color": "#ab63fa",
          "dash": "solid"
         },
         "marker": {
          "symbol": "circle"
         },
         "mode": "markers+lines",
         "name": "Copenhagen",
         "orientation": "v",
         "showlegend": true,
         "type": "scatter",
         "visible": "legendonly",
         "x": [
          2005,
          2006,
          2007,
          2008,
          2009,
          2010,
          2011,
          2012,
          2013,
          2014,
          2015,
          2016,
          2017,
          2018
         ],
         "xaxis": "x",
         "y": [
          0.15077792358883443,
          0.15686525974433838,
          0.1589626097079291,
          0.1521675175432136,
          0.1632327927806304,
          0.1674184105165111,
          0.1666501237420305,
          0.1668289865576457,
          0.1632834795431675,
          0.1642196555331932,
          0.16161343088735688,
          0.1590291263344877,
          0.1461091110410667,
          0.1401099200544564
         ],
         "yaxis": "y"
        },
        {
         "hovertemplate": "municipality=Denmark<br>year=%{x}<br>count=%{y}<extra></extra>",
         "legendgroup": "Denmark",
         "line": {
          "color": "#FFA15A",
          "dash": "solid"
         },
         "marker": {
          "symbol": "circle"
         },
         "mode": "markers+lines",
         "name": "Denmark",
         "orientation": "v",
         "showlegend": true,
         "type": "scatter",
         "visible": true,
         "x": [
          2005,
          2006,
          2007,
          2008,
          2009,
          2010,
          2011,
          2012,
          2013,
          2014,
          2015,
          2016,
          2017,
          2018
         ],
         "xaxis": "x",
         "y": [
          0.1741144502375346,
          0.17915780965147327,
          0.18130644302035198,
          0.1783064577621164,
          0.1887686221043544,
          0.19394735848365874,
          0.1949479583435654,
          0.1971320751347023,
          0.1970082712651897,
          0.201199739395784,
          0.1991448786600204,
          0.1954423676142803,
          0.1910824644265829,
          0.18251291966823602
         ],
         "yaxis": "y"
        },
        {
         "hovertemplate": "municipality=Dragør<br>year=%{x}<br>count=%{y}<extra></extra>",
         "legendgroup": "Dragør",
         "line": {
          "color": "#19d3f3",
          "dash": "solid"
         },
         "marker": {
          "symbol": "circle"
         },
         "mode": "markers+lines",
         "name": "Dragør",
         "orientation": "v",
         "showlegend": true,
         "type": "scatter",
         "visible": "legendonly",
         "x": [
          2005,
          2006,
          2007,
          2008,
          2009,
          2010,
          2011,
          2012,
          2013,
          2014,
          2015,
          2016,
          2017,
          2018
         ],
         "xaxis": "x",
         "y": [
          0.14610688524590099,
          0.1778849701573513,
          0.1801659313461737,
          0.1762666169578177,
          0.1966890198968305,
          0.2068345974025965,
          0.2209122356805577,
          0.2164415597742425,
          0.2347989300494592,
          0.24520138401363872,
          0.2376637256867848,
          0.2504282733955885,
          0.2247914523149973,
          0.2354227442500485
         ],
         "yaxis": "y"
        },
        {
         "hovertemplate": "municipality=Frederiksberg<br>year=%{x}<br>count=%{y}<extra></extra>",
         "legendgroup": "Frederiksberg",
         "line": {
          "color": "#FF6692",
          "dash": "solid"
         },
         "marker": {
          "symbol": "circle"
         },
         "mode": "markers+lines",
         "name": "Frederiksberg",
         "orientation": "v",
         "showlegend": true,
         "type": "scatter",
         "visible": "legendonly",
         "x": [
          2005,
          2006,
          2007,
          2008,
          2009,
          2010,
          2011,
          2012,
          2013,
          2014,
          2015,
          2016,
          2017,
          2018
         ],
         "xaxis": "x",
         "y": [
          0.1874073330123113,
          0.18805440375612273,
          0.19418897308102498,
          0.1868735704613386,
          0.20986540015632404,
          0.2089106612545528,
          0.20438206363290398,
          0.2011266100848702,
          0.2052187377306613,
          0.2158308541411966,
          0.2150422538584012,
          0.2131114092531718,
          0.1890897143734258,
          0.18002494077310224
         ],
         "yaxis": "y"
        },
        {
         "hovertemplate": "municipality=Furesø<br>year=%{x}<br>count=%{y}<extra></extra>",
         "legendgroup": "Furesø",
         "line": {
          "color": "#B6E880",
          "dash": "solid"
         },
         "marker": {
          "symbol": "circle"
         },
         "mode": "markers+lines",
         "name": "Furesø",
         "orientation": "v",
         "showlegend": true,
         "type": "scatter",
         "visible": "legendonly",
         "x": [
          2005,
          2006,
          2007,
          2008,
          2009,
          2010,
          2011,
          2012,
          2013,
          2014,
          2015,
          2016,
          2017,
          2018
         ],
         "xaxis": "x",
         "y": [
          0.16321891841664993,
          0.1574056898899545,
          0.1601985110765768,
          0.1611102390552982,
          0.1718026240321177,
          0.1734302095130224,
          0.17112799943951945,
          0.17949264193053271,
          0.191708898319703,
          0.2045346905426551,
          0.19301675176026784,
          0.18773609759262697,
          0.1816389869679643,
          0.18047052796721283
         ],
         "yaxis": "y"
        },
        {
         "hovertemplate": "municipality=Gentofte<br>year=%{x}<br>count=%{y}<extra></extra>",
         "legendgroup": "Gentofte",
         "line": {
          "color": "#FF97FF",
          "dash": "solid"
         },
         "marker": {
          "symbol": "circle"
         },
         "mode": "markers+lines",
         "name": "Gentofte",
         "orientation": "v",
         "showlegend": true,
         "type": "scatter",
         "visible": "legendonly",
         "x": [
          2005,
          2006,
          2007,
          2008,
          2009,
          2010,
          2011,
          2012,
          2013,
          2014,
          2015,
          2016,
          2017,
          2018
         ],
         "xaxis": "x",
         "y": [
          0.1759076398417931,
          0.18014087545617496,
          0.17685208758656423,
          0.17082991721722324,
          0.18182579376781502,
          0.1869638428554854,
          0.18655271754704203,
          0.193242168606938,
          0.18662013166120942,
          0.1919091337014551,
          0.18374717425851975,
          0.1911258627402381,
          0.17930816692448098,
          0.17734806145867799
         ],
         "yaxis": "y"
        },
        {
         "hovertemplate": "municipality=Gladsaxe<br>year=%{x}<br>count=%{y}<extra></extra>",
         "legendgroup": "Gladsaxe",
         "line": {
          "color": "#FECB52",
          "dash": "solid"
         },
         "marker": {
          "symbol": "circle"
         },
         "mode": "markers+lines",
         "name": "Gladsaxe",
         "orientation": "v",
         "showlegend": true,
         "type": "scatter",
         "visible": "legendonly",
         "x": [
          2005,
          2006,
          2007,
          2008,
          2009,
          2010,
          2011,
          2012,
          2013,
          2014,
          2015,
          2016,
          2017,
          2018
         ],
         "xaxis": "x",
         "y": [
          0.18579598942549325,
          0.1806739144433217,
          0.17952485324549006,
          0.17700314524359825,
          0.19092064501569253,
          0.1928766342675836,
          0.2024733057916876,
          0.2106427869496833,
          0.2086911832946615,
          0.20805712867316908,
          0.212347958010589,
          0.2027529643900871,
          0.1924805311850479,
          0.18882108021545851
         ],
         "yaxis": "y"
        },
        {
         "hovertemplate": "municipality=Glostrup<br>year=%{x}<br>count=%{y}<extra></extra>",
         "legendgroup": "Glostrup",
         "line": {
          "color": "#636efa",
          "dash": "solid"
         },
         "marker": {
          "symbol": "circle"
         },
         "mode": "markers+lines",
         "name": "Glostrup",
         "orientation": "v",
         "showlegend": true,
         "type": "scatter",
         "visible": "legendonly",
         "x": [
          2005,
          2006,
          2007,
          2008,
          2009,
          2010,
          2011,
          2012,
          2013,
          2014,
          2015,
          2016,
          2017,
          2018
         ],
         "xaxis": "x",
         "y": [
          0.1843245100534476,
          0.1893621422679093,
          0.1907449351956702,
          0.18415475894632122,
          0.20690361298970228,
          0.2209367638310518,
          0.2071861752237386,
          0.2187170847300881,
          0.23991473354231835,
          0.24367043028873034,
          0.2483830768376007,
          0.2387998675715925,
          0.2187276824977994,
          0.2219108161474315
         ],
         "yaxis": "y"
        },
        {
         "hovertemplate": "municipality=Greater Copenhagen<br>year=%{x}<br>count=%{y}<extra></extra>",
         "legendgroup": "Greater Copenhagen",
         "line": {
          "color": "#EF553B",
          "dash": "solid"
         },
         "marker": {
          "symbol": "circle"
         },
         "mode": "markers+lines",
         "name": "Greater Copenhagen",
         "orientation": "v",
         "showlegend": true,
         "type": "scatter",
         "visible": true,
         "x": [
          2005,
          2006,
          2007,
          2008,
          2009,
          2010,
          2011,
          2012,
          2013,
          2014,
          2015,
          2016,
          2017,
          2018
         ],
         "xaxis": "x",
         "y": [
          0.1682945105759108,
          0.17354344863430515,
          0.17475326782431264,
          0.16896855134407796,
          0.18306119306697932,
          0.18814280605371778,
          0.1899301065075116,
          0.1924498456238731,
          0.1916172905667165,
          0.1966668025764897,
          0.1953520751115149,
          0.1911744277561356,
          0.1788860687072057,
          0.1738810968768509
         ],
         "yaxis": "y"
        },
        {
         "hovertemplate": "municipality=Greve<br>year=%{x}<br>count=%{y}<extra></extra>",
         "legendgroup": "Greve",
         "line": {
          "color": "#00cc96",
          "dash": "solid"
         },
         "marker": {
          "symbol": "circle"
         },
         "mode": "markers+lines",
         "name": "Greve",
         "orientation": "v",
         "showlegend": true,
         "type": "scatter",
         "visible": "legendonly",
         "x": [
          2005,
          2006,
          2007,
          2008,
          2009,
          2010,
          2011,
          2012,
          2013,
          2014,
          2015,
          2016,
          2017,
          2018
         ],
         "xaxis": "x",
         "y": [
          0.1700529988038942,
          0.17806303692645528,
          0.1818216870863243,
          0.1763011826397398,
          0.19264457947797142,
          0.20100222350325103,
          0.2093645540610573,
          0.20466772417907067,
          0.20657638162657693,
          0.208322560034075,
          0.21809337648102572,
          0.2229518022657034,
          0.2287299078739736,
          0.20352102182011522
         ],
         "yaxis": "y"
        },
        {
         "hovertemplate": "municipality=Herlev<br>year=%{x}<br>count=%{y}<extra></extra>",
         "legendgroup": "Herlev",
         "line": {
          "color": "#ab63fa",
          "dash": "solid"
         },
         "marker": {
          "symbol": "circle"
         },
         "mode": "markers+lines",
         "name": "Herlev",
         "orientation": "v",
         "showlegend": true,
         "type": "scatter",
         "visible": "legendonly",
         "x": [
          2005,
          2006,
          2007,
          2008,
          2009,
          2010,
          2011,
          2012,
          2013,
          2014,
          2015,
          2016,
          2017,
          2018
         ],
         "xaxis": "x",
         "y": [
          0.18276859138304008,
          0.1916766650221986,
          0.18956028649049,
          0.1736990214490446,
          0.19578518264616462,
          0.20022038030229022,
          0.21143955512572388,
          0.21559617234083328,
          0.221570117769473,
          0.2250243163883266,
          0.223459710974899,
          0.21319535211888546,
          0.215574119718308,
          0.2022025272178724
         ],
         "yaxis": "y"
        },
        {
         "hovertemplate": "municipality=Hvidovre<br>year=%{x}<br>count=%{y}<extra></extra>",
         "legendgroup": "Hvidovre",
         "line": {
          "color": "#FFA15A",
          "dash": "solid"
         },
         "marker": {
          "symbol": "circle"
         },
         "mode": "markers+lines",
         "name": "Hvidovre",
         "orientation": "v",
         "showlegend": true,
         "type": "scatter",
         "visible": "legendonly",
         "x": [
          2005,
          2006,
          2007,
          2008,
          2009,
          2010,
          2011,
          2012,
          2013,
          2014,
          2015,
          2016,
          2017,
          2018
         ],
         "xaxis": "x",
         "y": [
          0.18058819176489083,
          0.189541533126673,
          0.19328241432654045,
          0.18952755721017203,
          0.2061690385013437,
          0.2126794695581331,
          0.210764264188848,
          0.2134497567480782,
          0.2119177405290166,
          0.22414464162028974,
          0.22131925580079,
          0.2151163966663524,
          0.20665432903961958,
          0.2110340188218868
         ],
         "yaxis": "y"
        },
        {
         "hovertemplate": "municipality=Høje-Taastrup<br>year=%{x}<br>count=%{y}<extra></extra>",
         "legendgroup": "Høje-Taastrup",
         "line": {
          "color": "#19d3f3",
          "dash": "solid"
         },
         "marker": {
          "symbol": "circle"
         },
         "mode": "markers+lines",
         "name": "Høje-Taastrup",
         "orientation": "v",
         "showlegend": true,
         "type": "scatter",
         "visible": "legendonly",
         "x": [
          2005,
          2006,
          2007,
          2008,
          2009,
          2010,
          2011,
          2012,
          2013,
          2014,
          2015,
          2016,
          2017,
          2018
         ],
         "xaxis": "x",
         "y": [
          0.1596240761510349,
          0.1662295941375404,
          0.17066155244600956,
          0.1680415652550142,
          0.1812203912111449,
          0.1916383153978991,
          0.1906938824026605,
          0.2017839541547258,
          0.2038665842158132,
          0.2135777234405624,
          0.2181095656110854,
          0.2198088533175216,
          0.1984379687270215,
          0.195727604673805
         ],
         "yaxis": "y"
        },
        {
         "hovertemplate": "municipality=Ishøj<br>year=%{x}<br>count=%{y}<extra></extra>",
         "legendgroup": "Ishøj",
         "line": {
          "color": "#FF6692",
          "dash": "solid"
         },
         "marker": {
          "symbol": "circle"
         },
         "mode": "markers+lines",
         "name": "Ishøj",
         "orientation": "v",
         "showlegend": true,
         "type": "scatter",
         "visible": "legendonly",
         "x": [
          2005,
          2006,
          2007,
          2008,
          2009,
          2010,
          2011,
          2012,
          2013,
          2014,
          2015,
          2016,
          2017,
          2018
         ],
         "xaxis": "x",
         "y": [
          0.1529902578036969,
          0.1570765319258482,
          0.14797065534288092,
          0.15830523875172195,
          0.1680454040715594,
          0.1754850526831645,
          0.1819353881555029,
          0.20050255283780422,
          0.19571883615885322,
          0.2010389692017583,
          0.22287149597557435,
          0.2043103804347812,
          0.1796268156424565,
          0.1803138923917596
         ],
         "yaxis": "y"
        },
        {
         "hovertemplate": "municipality=Lyngby-Taarbæk<br>year=%{x}<br>count=%{y}<extra></extra>",
         "legendgroup": "Lyngby-Taarbæk",
         "line": {
          "color": "#B6E880",
          "dash": "solid"
         },
         "marker": {
          "symbol": "circle"
         },
         "mode": "markers+lines",
         "name": "Lyngby-Taarbæk",
         "orientation": "v",
         "showlegend": true,
         "type": "scatter",
         "visible": "legendonly",
         "x": [
          2005,
          2006,
          2007,
          2008,
          2009,
          2010,
          2011,
          2012,
          2013,
          2014,
          2015,
          2016,
          2017,
          2018
         ],
         "xaxis": "x",
         "y": [
          0.18132177607595099,
          0.1777838997373809,
          0.1759383507011435,
          0.1762016541237494,
          0.1876623264330384,
          0.1862964188156262,
          0.1904342431147198,
          0.1897042339249611,
          0.1887341726445507,
          0.201461139156108,
          0.19455071884044117,
          0.19126171164871836,
          0.18094037927736484,
          0.1779946418630523
         ],
         "yaxis": "y"
        },
        {
         "hovertemplate": "municipality=Rudersdal<br>year=%{x}<br>count=%{y}<extra></extra>",
         "legendgroup": "Rudersdal",
         "line": {
          "color": "#FF97FF",
          "dash": "solid"
         },
         "marker": {
          "symbol": "circle"
         },
         "mode": "markers+lines",
         "name": "Rudersdal",
         "orientation": "v",
         "showlegend": true,
         "type": "scatter",
         "visible": "legendonly",
         "x": [
          2005,
          2006,
          2007,
          2008,
          2009,
          2010,
          2011,
          2012,
          2013,
          2014,
          2015,
          2016,
          2017,
          2018
         ],
         "xaxis": "x",
         "y": [
          0.1871799419959591,
          0.2012857762580366,
          0.1851273274498782,
          0.17720780413159706,
          0.18929559716470423,
          0.1967769918187524,
          0.1975881721235715,
          0.19953992254754294,
          0.19175745115690432,
          0.20149088541666488,
          0.19615313732009534,
          0.18397055992487196,
          0.1881891157410614,
          0.18963660397485935
         ],
         "yaxis": "y"
        },
        {
         "hovertemplate": "municipality=Rødovre<br>year=%{x}<br>count=%{y}<extra></extra>",
         "legendgroup": "Rødovre",
         "line": {
          "color": "#FECB52",
          "dash": "solid"
         },
         "marker": {
          "symbol": "circle"
         },
         "mode": "markers+lines",
         "name": "Rødovre",
         "orientation": "v",
         "showlegend": true,
         "type": "scatter",
         "visible": "legendonly",
         "x": [
          2005,
          2006,
          2007,
          2008,
          2009,
          2010,
          2011,
          2012,
          2013,
          2014,
          2015,
          2016,
          2017,
          2018
         ],
         "xaxis": "x",
         "y": [
          0.17566675070229631,
          0.1823582312200306,
          0.178709384885763,
          0.1737355561032271,
          0.18971348886160141,
          0.1942502696121048,
          0.2049078401097944,
          0.206610857895268,
          0.2141650508001841,
          0.2223184441820788,
          0.223014374918692,
          0.2062498871186201,
          0.1993467010407694,
          0.1983259609993127
         ],
         "yaxis": "y"
        },
        {
         "hovertemplate": "municipality=Tårnby<br>year=%{x}<br>count=%{y}<extra></extra>",
         "legendgroup": "Tårnby",
         "line": {
          "color": "#636efa",
          "dash": "solid"
         },
         "marker": {
          "symbol": "circle"
         },
         "mode": "markers+lines",
         "name": "Tårnby",
         "orientation": "v",
         "showlegend": true,
         "type": "scatter",
         "visible": "legendonly",
         "x": [
          2005,
          2006,
          2007,
          2008,
          2009,
          2010,
          2011,
          2012,
          2013,
          2014,
          2015,
          2016,
          2017,
          2018
         ],
         "xaxis": "x",
         "y": [
          0.17672707321939096,
          0.20323307549913922,
          0.1999753070204226,
          0.1899974889120779,
          0.2174505533622402,
          0.2385637254901939,
          0.2312813395020915,
          0.2368079371022072,
          0.23209947288924365,
          0.2360303546962991,
          0.2477693696404371,
          0.23892839469369342,
          0.21425522937960362,
          0.2149385701991258
         ],
         "yaxis": "y"
        },
        {
         "hovertemplate": "municipality=Vallensbæk<br>year=%{x}<br>count=%{y}<extra></extra>",
         "legendgroup": "Vallensbæk",
         "line": {
          "color": "#EF553B",
          "dash": "solid"
         },
         "marker": {
          "symbol": "circle"
         },
         "mode": "markers+lines",
         "name": "Vallensbæk",
         "orientation": "v",
         "showlegend": true,
         "type": "scatter",
         "visible": "legendonly",
         "x": [
          2005,
          2006,
          2007,
          2008,
          2009,
          2010,
          2011,
          2012,
          2013,
          2014,
          2015,
          2016,
          2017,
          2018
         ],
         "xaxis": "x",
         "y": [
          0.1720668717247657,
          0.1770383357762988,
          0.1827593774493328,
          0.1711581694990552,
          0.1753311435023599,
          0.1854770811125097,
          0.1895652214626826,
          0.1922883384358463,
          0.1996104536489139,
          0.2194573494815703,
          0.2028245358884406,
          0.2022090247206219,
          0.18479680744928362,
          0.188992863939104
         ],
         "yaxis": "y"
        }
       ],
       "layout": {
        "legend": {
         "title": {
          "text": "municipality"
         },
         "tracegroupgap": 0
        },
        "margin": {
         "t": 60
        },
        "template": {
         "data": {
          "bar": [
           {
            "error_x": {
             "color": "#2a3f5f"
            },
            "error_y": {
             "color": "#2a3f5f"
            },
            "marker": {
             "line": {
              "color": "#E5ECF6",
              "width": 0.5
             },
             "pattern": {
              "fillmode": "overlay",
              "size": 10,
              "solidity": 0.2
             }
            },
            "type": "bar"
           }
          ],
          "barpolar": [
           {
            "marker": {
             "line": {
              "color": "#E5ECF6",
              "width": 0.5
             },
             "pattern": {
              "fillmode": "overlay",
              "size": 10,
              "solidity": 0.2
             }
            },
            "type": "barpolar"
           }
          ],
          "carpet": [
           {
            "aaxis": {
             "endlinecolor": "#2a3f5f",
             "gridcolor": "white",
             "linecolor": "white",
             "minorgridcolor": "white",
             "startlinecolor": "#2a3f5f"
            },
            "baxis": {
             "endlinecolor": "#2a3f5f",
             "gridcolor": "white",
             "linecolor": "white",
             "minorgridcolor": "white",
             "startlinecolor": "#2a3f5f"
            },
            "type": "carpet"
           }
          ],
          "choropleth": [
           {
            "colorbar": {
             "outlinewidth": 0,
             "ticks": ""
            },
            "type": "choropleth"
           }
          ],
          "contour": [
           {
            "colorbar": {
             "outlinewidth": 0,
             "ticks": ""
            },
            "colorscale": [
             [
              0,
              "#0d0887"
             ],
             [
              0.1111111111111111,
              "#46039f"
             ],
             [
              0.2222222222222222,
              "#7201a8"
             ],
             [
              0.3333333333333333,
              "#9c179e"
             ],
             [
              0.4444444444444444,
              "#bd3786"
             ],
             [
              0.5555555555555556,
              "#d8576b"
             ],
             [
              0.6666666666666666,
              "#ed7953"
             ],
             [
              0.7777777777777778,
              "#fb9f3a"
             ],
             [
              0.8888888888888888,
              "#fdca26"
             ],
             [
              1,
              "#f0f921"
             ]
            ],
            "type": "contour"
           }
          ],
          "contourcarpet": [
           {
            "colorbar": {
             "outlinewidth": 0,
             "ticks": ""
            },
            "type": "contourcarpet"
           }
          ],
          "heatmap": [
           {
            "colorbar": {
             "outlinewidth": 0,
             "ticks": ""
            },
            "colorscale": [
             [
              0,
              "#0d0887"
             ],
             [
              0.1111111111111111,
              "#46039f"
             ],
             [
              0.2222222222222222,
              "#7201a8"
             ],
             [
              0.3333333333333333,
              "#9c179e"
             ],
             [
              0.4444444444444444,
              "#bd3786"
             ],
             [
              0.5555555555555556,
              "#d8576b"
             ],
             [
              0.6666666666666666,
              "#ed7953"
             ],
             [
              0.7777777777777778,
              "#fb9f3a"
             ],
             [
              0.8888888888888888,
              "#fdca26"
             ],
             [
              1,
              "#f0f921"
             ]
            ],
            "type": "heatmap"
           }
          ],
          "heatmapgl": [
           {
            "colorbar": {
             "outlinewidth": 0,
             "ticks": ""
            },
            "colorscale": [
             [
              0,
              "#0d0887"
             ],
             [
              0.1111111111111111,
              "#46039f"
             ],
             [
              0.2222222222222222,
              "#7201a8"
             ],
             [
              0.3333333333333333,
              "#9c179e"
             ],
             [
              0.4444444444444444,
              "#bd3786"
             ],
             [
              0.5555555555555556,
              "#d8576b"
             ],
             [
              0.6666666666666666,
              "#ed7953"
             ],
             [
              0.7777777777777778,
              "#fb9f3a"
             ],
             [
              0.8888888888888888,
              "#fdca26"
             ],
             [
              1,
              "#f0f921"
             ]
            ],
            "type": "heatmapgl"
           }
          ],
          "histogram": [
           {
            "marker": {
             "pattern": {
              "fillmode": "overlay",
              "size": 10,
              "solidity": 0.2
             }
            },
            "type": "histogram"
           }
          ],
          "histogram2d": [
           {
            "colorbar": {
             "outlinewidth": 0,
             "ticks": ""
            },
            "colorscale": [
             [
              0,
              "#0d0887"
             ],
             [
              0.1111111111111111,
              "#46039f"
             ],
             [
              0.2222222222222222,
              "#7201a8"
             ],
             [
              0.3333333333333333,
              "#9c179e"
             ],
             [
              0.4444444444444444,
              "#bd3786"
             ],
             [
              0.5555555555555556,
              "#d8576b"
             ],
             [
              0.6666666666666666,
              "#ed7953"
             ],
             [
              0.7777777777777778,
              "#fb9f3a"
             ],
             [
              0.8888888888888888,
              "#fdca26"
             ],
             [
              1,
              "#f0f921"
             ]
            ],
            "type": "histogram2d"
           }
          ],
          "histogram2dcontour": [
           {
            "colorbar": {
             "outlinewidth": 0,
             "ticks": ""
            },
            "colorscale": [
             [
              0,
              "#0d0887"
             ],
             [
              0.1111111111111111,
              "#46039f"
             ],
             [
              0.2222222222222222,
              "#7201a8"
             ],
             [
              0.3333333333333333,
              "#9c179e"
             ],
             [
              0.4444444444444444,
              "#bd3786"
             ],
             [
              0.5555555555555556,
              "#d8576b"
             ],
             [
              0.6666666666666666,
              "#ed7953"
             ],
             [
              0.7777777777777778,
              "#fb9f3a"
             ],
             [
              0.8888888888888888,
              "#fdca26"
             ],
             [
              1,
              "#f0f921"
             ]
            ],
            "type": "histogram2dcontour"
           }
          ],
          "mesh3d": [
           {
            "colorbar": {
             "outlinewidth": 0,
             "ticks": ""
            },
            "type": "mesh3d"
           }
          ],
          "parcoords": [
           {
            "line": {
             "colorbar": {
              "outlinewidth": 0,
              "ticks": ""
             }
            },
            "type": "parcoords"
           }
          ],
          "pie": [
           {
            "automargin": true,
            "type": "pie"
           }
          ],
          "scatter": [
           {
            "fillpattern": {
             "fillmode": "overlay",
             "size": 10,
             "solidity": 0.2
            },
            "type": "scatter"
           }
          ],
          "scatter3d": [
           {
            "line": {
             "colorbar": {
              "outlinewidth": 0,
              "ticks": ""
             }
            },
            "marker": {
             "colorbar": {
              "outlinewidth": 0,
              "ticks": ""
             }
            },
            "type": "scatter3d"
           }
          ],
          "scattercarpet": [
           {
            "marker": {
             "colorbar": {
              "outlinewidth": 0,
              "ticks": ""
             }
            },
            "type": "scattercarpet"
           }
          ],
          "scattergeo": [
           {
            "marker": {
             "colorbar": {
              "outlinewidth": 0,
              "ticks": ""
             }
            },
            "type": "scattergeo"
           }
          ],
          "scattergl": [
           {
            "marker": {
             "colorbar": {
              "outlinewidth": 0,
              "ticks": ""
             }
            },
            "type": "scattergl"
           }
          ],
          "scattermapbox": [
           {
            "marker": {
             "colorbar": {
              "outlinewidth": 0,
              "ticks": ""
             }
            },
            "type": "scattermapbox"
           }
          ],
          "scatterpolar": [
           {
            "marker": {
             "colorbar": {
              "outlinewidth": 0,
              "ticks": ""
             }
            },
            "type": "scatterpolar"
           }
          ],
          "scatterpolargl": [
           {
            "marker": {
             "colorbar": {
              "outlinewidth": 0,
              "ticks": ""
             }
            },
            "type": "scatterpolargl"
           }
          ],
          "scatterternary": [
           {
            "marker": {
             "colorbar": {
              "outlinewidth": 0,
              "ticks": ""
             }
            },
            "type": "scatterternary"
           }
          ],
          "surface": [
           {
            "colorbar": {
             "outlinewidth": 0,
             "ticks": ""
            },
            "colorscale": [
             [
              0,
              "#0d0887"
             ],
             [
              0.1111111111111111,
              "#46039f"
             ],
             [
              0.2222222222222222,
              "#7201a8"
             ],
             [
              0.3333333333333333,
              "#9c179e"
             ],
             [
              0.4444444444444444,
              "#bd3786"
             ],
             [
              0.5555555555555556,
              "#d8576b"
             ],
             [
              0.6666666666666666,
              "#ed7953"
             ],
             [
              0.7777777777777778,
              "#fb9f3a"
             ],
             [
              0.8888888888888888,
              "#fdca26"
             ],
             [
              1,
              "#f0f921"
             ]
            ],
            "type": "surface"
           }
          ],
          "table": [
           {
            "cells": {
             "fill": {
              "color": "#EBF0F8"
             },
             "line": {
              "color": "white"
             }
            },
            "header": {
             "fill": {
              "color": "#C8D4E3"
             },
             "line": {
              "color": "white"
             }
            },
            "type": "table"
           }
          ]
         },
         "layout": {
          "annotationdefaults": {
           "arrowcolor": "#2a3f5f",
           "arrowhead": 0,
           "arrowwidth": 1
          },
          "autotypenumbers": "strict",
          "coloraxis": {
           "colorbar": {
            "outlinewidth": 0,
            "ticks": ""
           }
          },
          "colorscale": {
           "diverging": [
            [
             0,
             "#8e0152"
            ],
            [
             0.1,
             "#c51b7d"
            ],
            [
             0.2,
             "#de77ae"
            ],
            [
             0.3,
             "#f1b6da"
            ],
            [
             0.4,
             "#fde0ef"
            ],
            [
             0.5,
             "#f7f7f7"
            ],
            [
             0.6,
             "#e6f5d0"
            ],
            [
             0.7,
             "#b8e186"
            ],
            [
             0.8,
             "#7fbc41"
            ],
            [
             0.9,
             "#4d9221"
            ],
            [
             1,
             "#276419"
            ]
           ],
           "sequential": [
            [
             0,
             "#0d0887"
            ],
            [
             0.1111111111111111,
             "#46039f"
            ],
            [
             0.2222222222222222,
             "#7201a8"
            ],
            [
             0.3333333333333333,
             "#9c179e"
            ],
            [
             0.4444444444444444,
             "#bd3786"
            ],
            [
             0.5555555555555556,
             "#d8576b"
            ],
            [
             0.6666666666666666,
             "#ed7953"
            ],
            [
             0.7777777777777778,
             "#fb9f3a"
            ],
            [
             0.8888888888888888,
             "#fdca26"
            ],
            [
             1,
             "#f0f921"
            ]
           ],
           "sequentialminus": [
            [
             0,
             "#0d0887"
            ],
            [
             0.1111111111111111,
             "#46039f"
            ],
            [
             0.2222222222222222,
             "#7201a8"
            ],
            [
             0.3333333333333333,
             "#9c179e"
            ],
            [
             0.4444444444444444,
             "#bd3786"
            ],
            [
             0.5555555555555556,
             "#d8576b"
            ],
            [
             0.6666666666666666,
             "#ed7953"
            ],
            [
             0.7777777777777778,
             "#fb9f3a"
            ],
            [
             0.8888888888888888,
             "#fdca26"
            ],
            [
             1,
             "#f0f921"
            ]
           ]
          },
          "colorway": [
           "#636efa",
           "#EF553B",
           "#00cc96",
           "#ab63fa",
           "#FFA15A",
           "#19d3f3",
           "#FF6692",
           "#B6E880",
           "#FF97FF",
           "#FECB52"
          ],
          "font": {
           "color": "#2a3f5f"
          },
          "geo": {
           "bgcolor": "white",
           "lakecolor": "white",
           "landcolor": "#E5ECF6",
           "showlakes": true,
           "showland": true,
           "subunitcolor": "white"
          },
          "hoverlabel": {
           "align": "left"
          },
          "hovermode": "closest",
          "mapbox": {
           "style": "light"
          },
          "paper_bgcolor": "white",
          "plot_bgcolor": "#E5ECF6",
          "polar": {
           "angularaxis": {
            "gridcolor": "white",
            "linecolor": "white",
            "ticks": ""
           },
           "bgcolor": "#E5ECF6",
           "radialaxis": {
            "gridcolor": "white",
            "linecolor": "white",
            "ticks": ""
           }
          },
          "scene": {
           "xaxis": {
            "backgroundcolor": "#E5ECF6",
            "gridcolor": "white",
            "gridwidth": 2,
            "linecolor": "white",
            "showbackground": true,
            "ticks": "",
            "zerolinecolor": "white"
           },
           "yaxis": {
            "backgroundcolor": "#E5ECF6",
            "gridcolor": "white",
            "gridwidth": 2,
            "linecolor": "white",
            "showbackground": true,
            "ticks": "",
            "zerolinecolor": "white"
           },
           "zaxis": {
            "backgroundcolor": "#E5ECF6",
            "gridcolor": "white",
            "gridwidth": 2,
            "linecolor": "white",
            "showbackground": true,
            "ticks": "",
            "zerolinecolor": "white"
           }
          },
          "shapedefaults": {
           "line": {
            "color": "#2a3f5f"
           }
          },
          "ternary": {
           "aaxis": {
            "gridcolor": "white",
            "linecolor": "white",
            "ticks": ""
           },
           "baxis": {
            "gridcolor": "white",
            "linecolor": "white",
            "ticks": ""
           },
           "bgcolor": "#E5ECF6",
           "caxis": {
            "gridcolor": "white",
            "linecolor": "white",
            "ticks": ""
           }
          },
          "title": {
           "x": 0.05
          },
          "xaxis": {
           "automargin": true,
           "gridcolor": "white",
           "linecolor": "white",
           "ticks": "",
           "title": {
            "standoff": 15
           },
           "zerolinecolor": "white",
           "zerolinewidth": 2
          },
          "yaxis": {
           "automargin": true,
           "gridcolor": "white",
           "linecolor": "white",
           "ticks": "",
           "title": {
            "standoff": 15
           },
           "zerolinecolor": "white",
           "zerolinewidth": 2
          }
         }
        },
        "title": {
         "text": "Hospitalization number per year"
        },
        "xaxis": {
         "anchor": "y",
         "domain": [
          0,
          1
         ],
         "title": {
          "text": ""
         }
        },
        "yaxis": {
         "anchor": "x",
         "domain": [
          0,
          1
         ],
         "title": {
          "text": "Times"
         }
        }
       }
      }
     },
     "metadata": {},
     "output_type": "display_data"
    }
   ],
   "source": [
    "# import plotly.express as px\n",
    "# import plotly.graph_objs as go\n",
    "\n",
    "# Group the data by 'year' and 'municipality', then calculate the sum of 'weighted_hospitalizations_mun' for each group\n",
    "df_hosp_times = df_2.groupby(['year', 'municipality'])['weighted_hospitalizations_mun'].sum().reset_index(name='count')\n",
    "\n",
    "# Filter the data to only include the Greater Copenhagen and Denmark Municipality\n",
    "selected_municipalities = ['Greater Copenhagen', 'Denmark']\n",
    "\n",
    "# Create a line chart using Plotly Express, with 'year' on the x-axis, 'count' on the y-axis, and colored by 'municipality'\n",
    "fig = px.line(df_hosp_times, x='year', y='count', color='municipality', markers=True)  # Adding markers to the line plot for better visibility of data points\n",
    "\n",
    "# Set visibility to True only for the selected municipalities\n",
    "for trace in fig.data:\n",
    "    if trace.name in selected_municipalities:\n",
    "        trace.visible = True\n",
    "    else:\n",
    "        trace.visible = 'legendonly'\n",
    "\n",
    "# Edit the layout\n",
    "fig.update_layout(title='Hospitalization number per year',\n",
    "                   xaxis_title='',\n",
    "                   yaxis_title='Times')\n",
    "\n",
    "fig.show()"
   ]
  },
  {
   "cell_type": "code",
   "execution_count": 22,
   "metadata": {},
   "outputs": [
    {
     "data": {
      "text/html": [
       "<div>\n",
       "<style scoped>\n",
       "    .dataframe tbody tr th:only-of-type {\n",
       "        vertical-align: middle;\n",
       "    }\n",
       "\n",
       "    .dataframe tbody tr th {\n",
       "        vertical-align: top;\n",
       "    }\n",
       "\n",
       "    .dataframe thead th {\n",
       "        text-align: right;\n",
       "    }\n",
       "</style>\n",
       "<table border=\"1\" class=\"dataframe\">\n",
       "  <thead>\n",
       "    <tr style=\"text-align: right;\">\n",
       "      <th></th>\n",
       "      <th>year</th>\n",
       "      <th>municipality</th>\n",
       "      <th>gender</th>\n",
       "      <th>count</th>\n",
       "    </tr>\n",
       "  </thead>\n",
       "  <tbody>\n",
       "    <tr>\n",
       "      <th>0</th>\n",
       "      <td>2005</td>\n",
       "      <td>Albertslund</td>\n",
       "      <td>Men</td>\n",
       "      <td>119553.848536</td>\n",
       "    </tr>\n",
       "    <tr>\n",
       "      <th>1</th>\n",
       "      <td>2005</td>\n",
       "      <td>Albertslund</td>\n",
       "      <td>Women</td>\n",
       "      <td>102671.814315</td>\n",
       "    </tr>\n",
       "    <tr>\n",
       "      <th>2</th>\n",
       "      <td>2005</td>\n",
       "      <td>Ballerup</td>\n",
       "      <td>Men</td>\n",
       "      <td>125782.092141</td>\n",
       "    </tr>\n",
       "    <tr>\n",
       "      <th>3</th>\n",
       "      <td>2005</td>\n",
       "      <td>Ballerup</td>\n",
       "      <td>Women</td>\n",
       "      <td>110185.593915</td>\n",
       "    </tr>\n",
       "    <tr>\n",
       "      <th>4</th>\n",
       "      <td>2005</td>\n",
       "      <td>Brøndby</td>\n",
       "      <td>Men</td>\n",
       "      <td>119157.083143</td>\n",
       "    </tr>\n",
       "    <tr>\n",
       "      <th>...</th>\n",
       "      <td>...</td>\n",
       "      <td>...</td>\n",
       "      <td>...</td>\n",
       "      <td>...</td>\n",
       "    </tr>\n",
       "    <tr>\n",
       "      <th>611</th>\n",
       "      <td>2018</td>\n",
       "      <td>Rødovre</td>\n",
       "      <td>Women</td>\n",
       "      <td>147938.697321</td>\n",
       "    </tr>\n",
       "    <tr>\n",
       "      <th>612</th>\n",
       "      <td>2018</td>\n",
       "      <td>Tårnby</td>\n",
       "      <td>Men</td>\n",
       "      <td>151469.501442</td>\n",
       "    </tr>\n",
       "    <tr>\n",
       "      <th>613</th>\n",
       "      <td>2018</td>\n",
       "      <td>Tårnby</td>\n",
       "      <td>Women</td>\n",
       "      <td>158572.911085</td>\n",
       "    </tr>\n",
       "    <tr>\n",
       "      <th>614</th>\n",
       "      <td>2018</td>\n",
       "      <td>Vallensbæk</td>\n",
       "      <td>Men</td>\n",
       "      <td>160330.548038</td>\n",
       "    </tr>\n",
       "    <tr>\n",
       "      <th>615</th>\n",
       "      <td>2018</td>\n",
       "      <td>Vallensbæk</td>\n",
       "      <td>Women</td>\n",
       "      <td>157543.922997</td>\n",
       "    </tr>\n",
       "  </tbody>\n",
       "</table>\n",
       "<p>616 rows × 4 columns</p>\n",
       "</div>"
      ],
      "text/plain": [
       "     year municipality gender          count\n",
       "0    2005  Albertslund    Men  119553.848536\n",
       "1    2005  Albertslund  Women  102671.814315\n",
       "2    2005     Ballerup    Men  125782.092141\n",
       "3    2005     Ballerup  Women  110185.593915\n",
       "4    2005      Brøndby    Men  119157.083143\n",
       "..    ...          ...    ...            ...\n",
       "611  2018      Rødovre  Women  147938.697321\n",
       "612  2018       Tårnby    Men  151469.501442\n",
       "613  2018       Tårnby  Women  158572.911085\n",
       "614  2018   Vallensbæk    Men  160330.548038\n",
       "615  2018   Vallensbæk  Women  157543.922997\n",
       "\n",
       "[616 rows x 4 columns]"
      ]
     },
     "execution_count": 22,
     "metadata": {},
     "output_type": "execute_result"
    }
   ],
   "source": [
    "# Group the data by 'year' and 'municipality', then calculate the sum of 'weighted_inc_mun' for each group\n",
    "df_income_gender = df_2.groupby(['year', 'municipality', 'gender'])['weighted_inc_mun'].sum().reset_index(name='count')\n",
    "df_income_gender"
   ]
  },
  {
   "cell_type": "code",
   "execution_count": 23,
   "metadata": {},
   "outputs": [],
   "source": [
    "men_yearly_avg_inc = df_income_gender[df_income_gender.gender=='Men'].groupby('year')['count'].mean()\n",
    "women_yearly_avg_inc = df_income_gender[df_income_gender.gender=='Women'].groupby('year')['count'].mean()"
   ]
  },
  {
   "cell_type": "code",
   "execution_count": 24,
   "metadata": {},
   "outputs": [
    {
     "data": {
      "application/vnd.plotly.v1+json": {
       "config": {
        "plotlyServerURL": "https://plot.ly"
       },
       "data": [
        {
         "marker": {
          "color": "rgb(55, 83, 109)"
         },
         "name": "Men",
         "type": "bar",
         "x": [
          2005,
          2006,
          2007,
          2008,
          2009,
          2010,
          2011,
          2012,
          2013,
          2014,
          2015,
          2016,
          2017,
          2018
         ],
         "y": [
          137357.15786884844,
          139126.699419269,
          139527.76719275743,
          135875.8285659493,
          134206.68677066255,
          145474.77260995068,
          144958.5641440405,
          144452.4289501342,
          147219.39448830023,
          150536.6653994018,
          154079.69569692685,
          156460.12811294358,
          158823.03509595126,
          161911.2525524194
         ]
        },
        {
         "marker": {
          "color": "rgb(26, 118, 255)"
         },
         "name": "Women",
         "type": "bar",
         "x": [
          2005,
          2006,
          2007,
          2008,
          2009,
          2010,
          2011,
          2012,
          2013,
          2014,
          2015,
          2016,
          2017,
          2018
         ],
         "y": [
          127972.1645513222,
          130368.77513616109,
          132779.82166833198,
          133837.65397952136,
          133020.80949690685,
          143786.3540132516,
          143982.49572364945,
          144671.84295834313,
          148193.97602198942,
          152931.26358803926,
          158296.323825178,
          160959.61367383946,
          163111.95511743563,
          165492.7015438603
         ]
        }
       ],
       "layout": {
        "bargap": 0.15,
        "bargroupgap": 0.1,
        "barmode": "group",
        "legend": {
         "bgcolor": "rgba(255, 255, 255, 0)",
         "bordercolor": "rgba(255, 255, 255, 0)",
         "x": 0,
         "y": 1
        },
        "template": {
         "data": {
          "bar": [
           {
            "error_x": {
             "color": "#2a3f5f"
            },
            "error_y": {
             "color": "#2a3f5f"
            },
            "marker": {
             "line": {
              "color": "#E5ECF6",
              "width": 0.5
             },
             "pattern": {
              "fillmode": "overlay",
              "size": 10,
              "solidity": 0.2
             }
            },
            "type": "bar"
           }
          ],
          "barpolar": [
           {
            "marker": {
             "line": {
              "color": "#E5ECF6",
              "width": 0.5
             },
             "pattern": {
              "fillmode": "overlay",
              "size": 10,
              "solidity": 0.2
             }
            },
            "type": "barpolar"
           }
          ],
          "carpet": [
           {
            "aaxis": {
             "endlinecolor": "#2a3f5f",
             "gridcolor": "white",
             "linecolor": "white",
             "minorgridcolor": "white",
             "startlinecolor": "#2a3f5f"
            },
            "baxis": {
             "endlinecolor": "#2a3f5f",
             "gridcolor": "white",
             "linecolor": "white",
             "minorgridcolor": "white",
             "startlinecolor": "#2a3f5f"
            },
            "type": "carpet"
           }
          ],
          "choropleth": [
           {
            "colorbar": {
             "outlinewidth": 0,
             "ticks": ""
            },
            "type": "choropleth"
           }
          ],
          "contour": [
           {
            "colorbar": {
             "outlinewidth": 0,
             "ticks": ""
            },
            "colorscale": [
             [
              0,
              "#0d0887"
             ],
             [
              0.1111111111111111,
              "#46039f"
             ],
             [
              0.2222222222222222,
              "#7201a8"
             ],
             [
              0.3333333333333333,
              "#9c179e"
             ],
             [
              0.4444444444444444,
              "#bd3786"
             ],
             [
              0.5555555555555556,
              "#d8576b"
             ],
             [
              0.6666666666666666,
              "#ed7953"
             ],
             [
              0.7777777777777778,
              "#fb9f3a"
             ],
             [
              0.8888888888888888,
              "#fdca26"
             ],
             [
              1,
              "#f0f921"
             ]
            ],
            "type": "contour"
           }
          ],
          "contourcarpet": [
           {
            "colorbar": {
             "outlinewidth": 0,
             "ticks": ""
            },
            "type": "contourcarpet"
           }
          ],
          "heatmap": [
           {
            "colorbar": {
             "outlinewidth": 0,
             "ticks": ""
            },
            "colorscale": [
             [
              0,
              "#0d0887"
             ],
             [
              0.1111111111111111,
              "#46039f"
             ],
             [
              0.2222222222222222,
              "#7201a8"
             ],
             [
              0.3333333333333333,
              "#9c179e"
             ],
             [
              0.4444444444444444,
              "#bd3786"
             ],
             [
              0.5555555555555556,
              "#d8576b"
             ],
             [
              0.6666666666666666,
              "#ed7953"
             ],
             [
              0.7777777777777778,
              "#fb9f3a"
             ],
             [
              0.8888888888888888,
              "#fdca26"
             ],
             [
              1,
              "#f0f921"
             ]
            ],
            "type": "heatmap"
           }
          ],
          "heatmapgl": [
           {
            "colorbar": {
             "outlinewidth": 0,
             "ticks": ""
            },
            "colorscale": [
             [
              0,
              "#0d0887"
             ],
             [
              0.1111111111111111,
              "#46039f"
             ],
             [
              0.2222222222222222,
              "#7201a8"
             ],
             [
              0.3333333333333333,
              "#9c179e"
             ],
             [
              0.4444444444444444,
              "#bd3786"
             ],
             [
              0.5555555555555556,
              "#d8576b"
             ],
             [
              0.6666666666666666,
              "#ed7953"
             ],
             [
              0.7777777777777778,
              "#fb9f3a"
             ],
             [
              0.8888888888888888,
              "#fdca26"
             ],
             [
              1,
              "#f0f921"
             ]
            ],
            "type": "heatmapgl"
           }
          ],
          "histogram": [
           {
            "marker": {
             "pattern": {
              "fillmode": "overlay",
              "size": 10,
              "solidity": 0.2
             }
            },
            "type": "histogram"
           }
          ],
          "histogram2d": [
           {
            "colorbar": {
             "outlinewidth": 0,
             "ticks": ""
            },
            "colorscale": [
             [
              0,
              "#0d0887"
             ],
             [
              0.1111111111111111,
              "#46039f"
             ],
             [
              0.2222222222222222,
              "#7201a8"
             ],
             [
              0.3333333333333333,
              "#9c179e"
             ],
             [
              0.4444444444444444,
              "#bd3786"
             ],
             [
              0.5555555555555556,
              "#d8576b"
             ],
             [
              0.6666666666666666,
              "#ed7953"
             ],
             [
              0.7777777777777778,
              "#fb9f3a"
             ],
             [
              0.8888888888888888,
              "#fdca26"
             ],
             [
              1,
              "#f0f921"
             ]
            ],
            "type": "histogram2d"
           }
          ],
          "histogram2dcontour": [
           {
            "colorbar": {
             "outlinewidth": 0,
             "ticks": ""
            },
            "colorscale": [
             [
              0,
              "#0d0887"
             ],
             [
              0.1111111111111111,
              "#46039f"
             ],
             [
              0.2222222222222222,
              "#7201a8"
             ],
             [
              0.3333333333333333,
              "#9c179e"
             ],
             [
              0.4444444444444444,
              "#bd3786"
             ],
             [
              0.5555555555555556,
              "#d8576b"
             ],
             [
              0.6666666666666666,
              "#ed7953"
             ],
             [
              0.7777777777777778,
              "#fb9f3a"
             ],
             [
              0.8888888888888888,
              "#fdca26"
             ],
             [
              1,
              "#f0f921"
             ]
            ],
            "type": "histogram2dcontour"
           }
          ],
          "mesh3d": [
           {
            "colorbar": {
             "outlinewidth": 0,
             "ticks": ""
            },
            "type": "mesh3d"
           }
          ],
          "parcoords": [
           {
            "line": {
             "colorbar": {
              "outlinewidth": 0,
              "ticks": ""
             }
            },
            "type": "parcoords"
           }
          ],
          "pie": [
           {
            "automargin": true,
            "type": "pie"
           }
          ],
          "scatter": [
           {
            "fillpattern": {
             "fillmode": "overlay",
             "size": 10,
             "solidity": 0.2
            },
            "type": "scatter"
           }
          ],
          "scatter3d": [
           {
            "line": {
             "colorbar": {
              "outlinewidth": 0,
              "ticks": ""
             }
            },
            "marker": {
             "colorbar": {
              "outlinewidth": 0,
              "ticks": ""
             }
            },
            "type": "scatter3d"
           }
          ],
          "scattercarpet": [
           {
            "marker": {
             "colorbar": {
              "outlinewidth": 0,
              "ticks": ""
             }
            },
            "type": "scattercarpet"
           }
          ],
          "scattergeo": [
           {
            "marker": {
             "colorbar": {
              "outlinewidth": 0,
              "ticks": ""
             }
            },
            "type": "scattergeo"
           }
          ],
          "scattergl": [
           {
            "marker": {
             "colorbar": {
              "outlinewidth": 0,
              "ticks": ""
             }
            },
            "type": "scattergl"
           }
          ],
          "scattermapbox": [
           {
            "marker": {
             "colorbar": {
              "outlinewidth": 0,
              "ticks": ""
             }
            },
            "type": "scattermapbox"
           }
          ],
          "scatterpolar": [
           {
            "marker": {
             "colorbar": {
              "outlinewidth": 0,
              "ticks": ""
             }
            },
            "type": "scatterpolar"
           }
          ],
          "scatterpolargl": [
           {
            "marker": {
             "colorbar": {
              "outlinewidth": 0,
              "ticks": ""
             }
            },
            "type": "scatterpolargl"
           }
          ],
          "scatterternary": [
           {
            "marker": {
             "colorbar": {
              "outlinewidth": 0,
              "ticks": ""
             }
            },
            "type": "scatterternary"
           }
          ],
          "surface": [
           {
            "colorbar": {
             "outlinewidth": 0,
             "ticks": ""
            },
            "colorscale": [
             [
              0,
              "#0d0887"
             ],
             [
              0.1111111111111111,
              "#46039f"
             ],
             [
              0.2222222222222222,
              "#7201a8"
             ],
             [
              0.3333333333333333,
              "#9c179e"
             ],
             [
              0.4444444444444444,
              "#bd3786"
             ],
             [
              0.5555555555555556,
              "#d8576b"
             ],
             [
              0.6666666666666666,
              "#ed7953"
             ],
             [
              0.7777777777777778,
              "#fb9f3a"
             ],
             [
              0.8888888888888888,
              "#fdca26"
             ],
             [
              1,
              "#f0f921"
             ]
            ],
            "type": "surface"
           }
          ],
          "table": [
           {
            "cells": {
             "fill": {
              "color": "#EBF0F8"
             },
             "line": {
              "color": "white"
             }
            },
            "header": {
             "fill": {
              "color": "#C8D4E3"
             },
             "line": {
              "color": "white"
             }
            },
            "type": "table"
           }
          ]
         },
         "layout": {
          "annotationdefaults": {
           "arrowcolor": "#2a3f5f",
           "arrowhead": 0,
           "arrowwidth": 1
          },
          "autotypenumbers": "strict",
          "coloraxis": {
           "colorbar": {
            "outlinewidth": 0,
            "ticks": ""
           }
          },
          "colorscale": {
           "diverging": [
            [
             0,
             "#8e0152"
            ],
            [
             0.1,
             "#c51b7d"
            ],
            [
             0.2,
             "#de77ae"
            ],
            [
             0.3,
             "#f1b6da"
            ],
            [
             0.4,
             "#fde0ef"
            ],
            [
             0.5,
             "#f7f7f7"
            ],
            [
             0.6,
             "#e6f5d0"
            ],
            [
             0.7,
             "#b8e186"
            ],
            [
             0.8,
             "#7fbc41"
            ],
            [
             0.9,
             "#4d9221"
            ],
            [
             1,
             "#276419"
            ]
           ],
           "sequential": [
            [
             0,
             "#0d0887"
            ],
            [
             0.1111111111111111,
             "#46039f"
            ],
            [
             0.2222222222222222,
             "#7201a8"
            ],
            [
             0.3333333333333333,
             "#9c179e"
            ],
            [
             0.4444444444444444,
             "#bd3786"
            ],
            [
             0.5555555555555556,
             "#d8576b"
            ],
            [
             0.6666666666666666,
             "#ed7953"
            ],
            [
             0.7777777777777778,
             "#fb9f3a"
            ],
            [
             0.8888888888888888,
             "#fdca26"
            ],
            [
             1,
             "#f0f921"
            ]
           ],
           "sequentialminus": [
            [
             0,
             "#0d0887"
            ],
            [
             0.1111111111111111,
             "#46039f"
            ],
            [
             0.2222222222222222,
             "#7201a8"
            ],
            [
             0.3333333333333333,
             "#9c179e"
            ],
            [
             0.4444444444444444,
             "#bd3786"
            ],
            [
             0.5555555555555556,
             "#d8576b"
            ],
            [
             0.6666666666666666,
             "#ed7953"
            ],
            [
             0.7777777777777778,
             "#fb9f3a"
            ],
            [
             0.8888888888888888,
             "#fdca26"
            ],
            [
             1,
             "#f0f921"
            ]
           ]
          },
          "colorway": [
           "#636efa",
           "#EF553B",
           "#00cc96",
           "#ab63fa",
           "#FFA15A",
           "#19d3f3",
           "#FF6692",
           "#B6E880",
           "#FF97FF",
           "#FECB52"
          ],
          "font": {
           "color": "#2a3f5f"
          },
          "geo": {
           "bgcolor": "white",
           "lakecolor": "white",
           "landcolor": "#E5ECF6",
           "showlakes": true,
           "showland": true,
           "subunitcolor": "white"
          },
          "hoverlabel": {
           "align": "left"
          },
          "hovermode": "closest",
          "mapbox": {
           "style": "light"
          },
          "paper_bgcolor": "white",
          "plot_bgcolor": "#E5ECF6",
          "polar": {
           "angularaxis": {
            "gridcolor": "white",
            "linecolor": "white",
            "ticks": ""
           },
           "bgcolor": "#E5ECF6",
           "radialaxis": {
            "gridcolor": "white",
            "linecolor": "white",
            "ticks": ""
           }
          },
          "scene": {
           "xaxis": {
            "backgroundcolor": "#E5ECF6",
            "gridcolor": "white",
            "gridwidth": 2,
            "linecolor": "white",
            "showbackground": true,
            "ticks": "",
            "zerolinecolor": "white"
           },
           "yaxis": {
            "backgroundcolor": "#E5ECF6",
            "gridcolor": "white",
            "gridwidth": 2,
            "linecolor": "white",
            "showbackground": true,
            "ticks": "",
            "zerolinecolor": "white"
           },
           "zaxis": {
            "backgroundcolor": "#E5ECF6",
            "gridcolor": "white",
            "gridwidth": 2,
            "linecolor": "white",
            "showbackground": true,
            "ticks": "",
            "zerolinecolor": "white"
           }
          },
          "shapedefaults": {
           "line": {
            "color": "#2a3f5f"
           }
          },
          "ternary": {
           "aaxis": {
            "gridcolor": "white",
            "linecolor": "white",
            "ticks": ""
           },
           "baxis": {
            "gridcolor": "white",
            "linecolor": "white",
            "ticks": ""
           },
           "bgcolor": "#E5ECF6",
           "caxis": {
            "gridcolor": "white",
            "linecolor": "white",
            "ticks": ""
           }
          },
          "title": {
           "x": 0.05
          },
          "xaxis": {
           "automargin": true,
           "gridcolor": "white",
           "linecolor": "white",
           "ticks": "",
           "title": {
            "standoff": 15
           },
           "zerolinecolor": "white",
           "zerolinewidth": 2
          },
          "yaxis": {
           "automargin": true,
           "gridcolor": "white",
           "linecolor": "white",
           "ticks": "",
           "title": {
            "standoff": 15
           },
           "zerolinecolor": "white",
           "zerolinewidth": 2
          }
         }
        },
        "title": {
         "text": "Annual gender income"
        },
        "xaxis": {
         "tickfont": {
          "size": 14
         }
        },
        "yaxis": {
         "tickfont": {
          "size": 14
         },
         "title": {
          "font": {
           "size": 16
          },
          "text": "DKK"
         }
        }
       }
      }
     },
     "metadata": {},
     "output_type": "display_data"
    }
   ],
   "source": [
    "years = df_income_gender.year.unique()\n",
    "\n",
    "fig = go.Figure()\n",
    "fig.add_trace(go.Bar(x=years,\n",
    "                y=men_yearly_avg_inc,\n",
    "                name='Men',\n",
    "                marker_color='rgb(55, 83, 109)'\n",
    "                ))\n",
    "fig.add_trace(go.Bar(x=years,\n",
    "                y=women_yearly_avg_inc,\n",
    "                name='Women',\n",
    "                marker_color='rgb(26, 118, 255)'\n",
    "                ))\n",
    "\n",
    "fig.update_layout(\n",
    "    title='Annual gender income',\n",
    "    xaxis_tickfont_size=14,\n",
    "    yaxis=dict(\n",
    "        title='DKK',\n",
    "        titlefont_size=16,\n",
    "        tickfont_size=14,\n",
    "    ),\n",
    "    legend=dict(\n",
    "        x=0,\n",
    "        y=1.0,\n",
    "        bgcolor='rgba(255, 255, 255, 0)',\n",
    "        bordercolor='rgba(255, 255, 255, 0)'\n",
    "    ),\n",
    "    barmode='group',\n",
    "    bargap=0.15, # gap between bars of adjacent location coordinates.\n",
    "    bargroupgap=0.1 # gap between bars of the same location coordinate.\n",
    ")\n",
    "fig.show()"
   ]
  },
  {
   "cell_type": "code",
   "execution_count": 25,
   "metadata": {},
   "outputs": [
    {
     "data": {
      "application/vnd.plotly.v1+json": {
       "config": {
        "plotlyServerURL": "https://plot.ly"
       },
       "data": [
        {
         "marker": {
          "color": "rgb(55, 83, 109)"
         },
         "name": "Men",
         "type": "bar",
         "x": [
          2005,
          2006,
          2007,
          2008,
          2009,
          2010,
          2011,
          2012,
          2013,
          2014,
          2015,
          2016,
          2017,
          2018
         ],
         "y": [
          119553.8485363124,
          119522.52401686515,
          119114.46014437945,
          118825.82172350156,
          120276.9771653865,
          125581.48151386382,
          120870.93354142184,
          119945.8787526484,
          119158.16523617365,
          120645.07358412372,
          123373.26468656334,
          125066.23032893178,
          125270.91012388855,
          128065.03001704642
         ]
        },
        {
         "marker": {
          "color": "rgb(26, 118, 255)"
         },
         "name": "Women",
         "type": "bar",
         "x": [
          2005,
          2006,
          2007,
          2008,
          2009,
          2010,
          2011,
          2012,
          2013,
          2014,
          2015,
          2016,
          2017,
          2018
         ],
         "y": [
          102671.81431515104,
          104745.87785045161,
          105588.68541278744,
          105696.74361579292,
          107936.4280335022,
          113565.3553678425,
          109517.34057452618,
          108155.53802059861,
          125872.1171095064,
          127740.84832470308,
          128696.84368239102,
          127599.82060047402,
          128893.9902487933,
          132955.14754320675
         ]
        }
       ],
       "layout": {
        "bargap": 0.15,
        "bargroupgap": 0.1,
        "barmode": "group",
        "legend": {
         "bgcolor": "rgba(255, 255, 255, 0)",
         "bordercolor": "rgba(255, 255, 255, 0)",
         "x": 0,
         "y": 1
        },
        "template": {
         "data": {
          "bar": [
           {
            "error_x": {
             "color": "#2a3f5f"
            },
            "error_y": {
             "color": "#2a3f5f"
            },
            "marker": {
             "line": {
              "color": "#E5ECF6",
              "width": 0.5
             },
             "pattern": {
              "fillmode": "overlay",
              "size": 10,
              "solidity": 0.2
             }
            },
            "type": "bar"
           }
          ],
          "barpolar": [
           {
            "marker": {
             "line": {
              "color": "#E5ECF6",
              "width": 0.5
             },
             "pattern": {
              "fillmode": "overlay",
              "size": 10,
              "solidity": 0.2
             }
            },
            "type": "barpolar"
           }
          ],
          "carpet": [
           {
            "aaxis": {
             "endlinecolor": "#2a3f5f",
             "gridcolor": "white",
             "linecolor": "white",
             "minorgridcolor": "white",
             "startlinecolor": "#2a3f5f"
            },
            "baxis": {
             "endlinecolor": "#2a3f5f",
             "gridcolor": "white",
             "linecolor": "white",
             "minorgridcolor": "white",
             "startlinecolor": "#2a3f5f"
            },
            "type": "carpet"
           }
          ],
          "choropleth": [
           {
            "colorbar": {
             "outlinewidth": 0,
             "ticks": ""
            },
            "type": "choropleth"
           }
          ],
          "contour": [
           {
            "colorbar": {
             "outlinewidth": 0,
             "ticks": ""
            },
            "colorscale": [
             [
              0,
              "#0d0887"
             ],
             [
              0.1111111111111111,
              "#46039f"
             ],
             [
              0.2222222222222222,
              "#7201a8"
             ],
             [
              0.3333333333333333,
              "#9c179e"
             ],
             [
              0.4444444444444444,
              "#bd3786"
             ],
             [
              0.5555555555555556,
              "#d8576b"
             ],
             [
              0.6666666666666666,
              "#ed7953"
             ],
             [
              0.7777777777777778,
              "#fb9f3a"
             ],
             [
              0.8888888888888888,
              "#fdca26"
             ],
             [
              1,
              "#f0f921"
             ]
            ],
            "type": "contour"
           }
          ],
          "contourcarpet": [
           {
            "colorbar": {
             "outlinewidth": 0,
             "ticks": ""
            },
            "type": "contourcarpet"
           }
          ],
          "heatmap": [
           {
            "colorbar": {
             "outlinewidth": 0,
             "ticks": ""
            },
            "colorscale": [
             [
              0,
              "#0d0887"
             ],
             [
              0.1111111111111111,
              "#46039f"
             ],
             [
              0.2222222222222222,
              "#7201a8"
             ],
             [
              0.3333333333333333,
              "#9c179e"
             ],
             [
              0.4444444444444444,
              "#bd3786"
             ],
             [
              0.5555555555555556,
              "#d8576b"
             ],
             [
              0.6666666666666666,
              "#ed7953"
             ],
             [
              0.7777777777777778,
              "#fb9f3a"
             ],
             [
              0.8888888888888888,
              "#fdca26"
             ],
             [
              1,
              "#f0f921"
             ]
            ],
            "type": "heatmap"
           }
          ],
          "heatmapgl": [
           {
            "colorbar": {
             "outlinewidth": 0,
             "ticks": ""
            },
            "colorscale": [
             [
              0,
              "#0d0887"
             ],
             [
              0.1111111111111111,
              "#46039f"
             ],
             [
              0.2222222222222222,
              "#7201a8"
             ],
             [
              0.3333333333333333,
              "#9c179e"
             ],
             [
              0.4444444444444444,
              "#bd3786"
             ],
             [
              0.5555555555555556,
              "#d8576b"
             ],
             [
              0.6666666666666666,
              "#ed7953"
             ],
             [
              0.7777777777777778,
              "#fb9f3a"
             ],
             [
              0.8888888888888888,
              "#fdca26"
             ],
             [
              1,
              "#f0f921"
             ]
            ],
            "type": "heatmapgl"
           }
          ],
          "histogram": [
           {
            "marker": {
             "pattern": {
              "fillmode": "overlay",
              "size": 10,
              "solidity": 0.2
             }
            },
            "type": "histogram"
           }
          ],
          "histogram2d": [
           {
            "colorbar": {
             "outlinewidth": 0,
             "ticks": ""
            },
            "colorscale": [
             [
              0,
              "#0d0887"
             ],
             [
              0.1111111111111111,
              "#46039f"
             ],
             [
              0.2222222222222222,
              "#7201a8"
             ],
             [
              0.3333333333333333,
              "#9c179e"
             ],
             [
              0.4444444444444444,
              "#bd3786"
             ],
             [
              0.5555555555555556,
              "#d8576b"
             ],
             [
              0.6666666666666666,
              "#ed7953"
             ],
             [
              0.7777777777777778,
              "#fb9f3a"
             ],
             [
              0.8888888888888888,
              "#fdca26"
             ],
             [
              1,
              "#f0f921"
             ]
            ],
            "type": "histogram2d"
           }
          ],
          "histogram2dcontour": [
           {
            "colorbar": {
             "outlinewidth": 0,
             "ticks": ""
            },
            "colorscale": [
             [
              0,
              "#0d0887"
             ],
             [
              0.1111111111111111,
              "#46039f"
             ],
             [
              0.2222222222222222,
              "#7201a8"
             ],
             [
              0.3333333333333333,
              "#9c179e"
             ],
             [
              0.4444444444444444,
              "#bd3786"
             ],
             [
              0.5555555555555556,
              "#d8576b"
             ],
             [
              0.6666666666666666,
              "#ed7953"
             ],
             [
              0.7777777777777778,
              "#fb9f3a"
             ],
             [
              0.8888888888888888,
              "#fdca26"
             ],
             [
              1,
              "#f0f921"
             ]
            ],
            "type": "histogram2dcontour"
           }
          ],
          "mesh3d": [
           {
            "colorbar": {
             "outlinewidth": 0,
             "ticks": ""
            },
            "type": "mesh3d"
           }
          ],
          "parcoords": [
           {
            "line": {
             "colorbar": {
              "outlinewidth": 0,
              "ticks": ""
             }
            },
            "type": "parcoords"
           }
          ],
          "pie": [
           {
            "automargin": true,
            "type": "pie"
           }
          ],
          "scatter": [
           {
            "fillpattern": {
             "fillmode": "overlay",
             "size": 10,
             "solidity": 0.2
            },
            "type": "scatter"
           }
          ],
          "scatter3d": [
           {
            "line": {
             "colorbar": {
              "outlinewidth": 0,
              "ticks": ""
             }
            },
            "marker": {
             "colorbar": {
              "outlinewidth": 0,
              "ticks": ""
             }
            },
            "type": "scatter3d"
           }
          ],
          "scattercarpet": [
           {
            "marker": {
             "colorbar": {
              "outlinewidth": 0,
              "ticks": ""
             }
            },
            "type": "scattercarpet"
           }
          ],
          "scattergeo": [
           {
            "marker": {
             "colorbar": {
              "outlinewidth": 0,
              "ticks": ""
             }
            },
            "type": "scattergeo"
           }
          ],
          "scattergl": [
           {
            "marker": {
             "colorbar": {
              "outlinewidth": 0,
              "ticks": ""
             }
            },
            "type": "scattergl"
           }
          ],
          "scattermapbox": [
           {
            "marker": {
             "colorbar": {
              "outlinewidth": 0,
              "ticks": ""
             }
            },
            "type": "scattermapbox"
           }
          ],
          "scatterpolar": [
           {
            "marker": {
             "colorbar": {
              "outlinewidth": 0,
              "ticks": ""
             }
            },
            "type": "scatterpolar"
           }
          ],
          "scatterpolargl": [
           {
            "marker": {
             "colorbar": {
              "outlinewidth": 0,
              "ticks": ""
             }
            },
            "type": "scatterpolargl"
           }
          ],
          "scatterternary": [
           {
            "marker": {
             "colorbar": {
              "outlinewidth": 0,
              "ticks": ""
             }
            },
            "type": "scatterternary"
           }
          ],
          "surface": [
           {
            "colorbar": {
             "outlinewidth": 0,
             "ticks": ""
            },
            "colorscale": [
             [
              0,
              "#0d0887"
             ],
             [
              0.1111111111111111,
              "#46039f"
             ],
             [
              0.2222222222222222,
              "#7201a8"
             ],
             [
              0.3333333333333333,
              "#9c179e"
             ],
             [
              0.4444444444444444,
              "#bd3786"
             ],
             [
              0.5555555555555556,
              "#d8576b"
             ],
             [
              0.6666666666666666,
              "#ed7953"
             ],
             [
              0.7777777777777778,
              "#fb9f3a"
             ],
             [
              0.8888888888888888,
              "#fdca26"
             ],
             [
              1,
              "#f0f921"
             ]
            ],
            "type": "surface"
           }
          ],
          "table": [
           {
            "cells": {
             "fill": {
              "color": "#EBF0F8"
             },
             "line": {
              "color": "white"
             }
            },
            "header": {
             "fill": {
              "color": "#C8D4E3"
             },
             "line": {
              "color": "white"
             }
            },
            "type": "table"
           }
          ]
         },
         "layout": {
          "annotationdefaults": {
           "arrowcolor": "#2a3f5f",
           "arrowhead": 0,
           "arrowwidth": 1
          },
          "autotypenumbers": "strict",
          "coloraxis": {
           "colorbar": {
            "outlinewidth": 0,
            "ticks": ""
           }
          },
          "colorscale": {
           "diverging": [
            [
             0,
             "#8e0152"
            ],
            [
             0.1,
             "#c51b7d"
            ],
            [
             0.2,
             "#de77ae"
            ],
            [
             0.3,
             "#f1b6da"
            ],
            [
             0.4,
             "#fde0ef"
            ],
            [
             0.5,
             "#f7f7f7"
            ],
            [
             0.6,
             "#e6f5d0"
            ],
            [
             0.7,
             "#b8e186"
            ],
            [
             0.8,
             "#7fbc41"
            ],
            [
             0.9,
             "#4d9221"
            ],
            [
             1,
             "#276419"
            ]
           ],
           "sequential": [
            [
             0,
             "#0d0887"
            ],
            [
             0.1111111111111111,
             "#46039f"
            ],
            [
             0.2222222222222222,
             "#7201a8"
            ],
            [
             0.3333333333333333,
             "#9c179e"
            ],
            [
             0.4444444444444444,
             "#bd3786"
            ],
            [
             0.5555555555555556,
             "#d8576b"
            ],
            [
             0.6666666666666666,
             "#ed7953"
            ],
            [
             0.7777777777777778,
             "#fb9f3a"
            ],
            [
             0.8888888888888888,
             "#fdca26"
            ],
            [
             1,
             "#f0f921"
            ]
           ],
           "sequentialminus": [
            [
             0,
             "#0d0887"
            ],
            [
             0.1111111111111111,
             "#46039f"
            ],
            [
             0.2222222222222222,
             "#7201a8"
            ],
            [
             0.3333333333333333,
             "#9c179e"
            ],
            [
             0.4444444444444444,
             "#bd3786"
            ],
            [
             0.5555555555555556,
             "#d8576b"
            ],
            [
             0.6666666666666666,
             "#ed7953"
            ],
            [
             0.7777777777777778,
             "#fb9f3a"
            ],
            [
             0.8888888888888888,
             "#fdca26"
            ],
            [
             1,
             "#f0f921"
            ]
           ]
          },
          "colorway": [
           "#636efa",
           "#EF553B",
           "#00cc96",
           "#ab63fa",
           "#FFA15A",
           "#19d3f3",
           "#FF6692",
           "#B6E880",
           "#FF97FF",
           "#FECB52"
          ],
          "font": {
           "color": "#2a3f5f"
          },
          "geo": {
           "bgcolor": "white",
           "lakecolor": "white",
           "landcolor": "#E5ECF6",
           "showlakes": true,
           "showland": true,
           "subunitcolor": "white"
          },
          "hoverlabel": {
           "align": "left"
          },
          "hovermode": "closest",
          "mapbox": {
           "style": "light"
          },
          "paper_bgcolor": "white",
          "plot_bgcolor": "#E5ECF6",
          "polar": {
           "angularaxis": {
            "gridcolor": "white",
            "linecolor": "white",
            "ticks": ""
           },
           "bgcolor": "#E5ECF6",
           "radialaxis": {
            "gridcolor": "white",
            "linecolor": "white",
            "ticks": ""
           }
          },
          "scene": {
           "xaxis": {
            "backgroundcolor": "#E5ECF6",
            "gridcolor": "white",
            "gridwidth": 2,
            "linecolor": "white",
            "showbackground": true,
            "ticks": "",
            "zerolinecolor": "white"
           },
           "yaxis": {
            "backgroundcolor": "#E5ECF6",
            "gridcolor": "white",
            "gridwidth": 2,
            "linecolor": "white",
            "showbackground": true,
            "ticks": "",
            "zerolinecolor": "white"
           },
           "zaxis": {
            "backgroundcolor": "#E5ECF6",
            "gridcolor": "white",
            "gridwidth": 2,
            "linecolor": "white",
            "showbackground": true,
            "ticks": "",
            "zerolinecolor": "white"
           }
          },
          "shapedefaults": {
           "line": {
            "color": "#2a3f5f"
           }
          },
          "ternary": {
           "aaxis": {
            "gridcolor": "white",
            "linecolor": "white",
            "ticks": ""
           },
           "baxis": {
            "gridcolor": "white",
            "linecolor": "white",
            "ticks": ""
           },
           "bgcolor": "#E5ECF6",
           "caxis": {
            "gridcolor": "white",
            "linecolor": "white",
            "ticks": ""
           }
          },
          "title": {
           "x": 0.05
          },
          "xaxis": {
           "automargin": true,
           "gridcolor": "white",
           "linecolor": "white",
           "ticks": "",
           "title": {
            "standoff": 15
           },
           "zerolinecolor": "white",
           "zerolinewidth": 2
          },
          "yaxis": {
           "automargin": true,
           "gridcolor": "white",
           "linecolor": "white",
           "ticks": "",
           "title": {
            "standoff": 15
           },
           "zerolinecolor": "white",
           "zerolinewidth": 2
          }
         }
        },
        "title": {
         "text": "Annual income by gender for Albertslund"
        },
        "updatemenus": [
         {
          "active": 0,
          "buttons": [
           {
            "args": [
             {
              "visible": [
               true,
               true
              ],
              "x": [
               [
                2005,
                2006,
                2007,
                2008,
                2009,
                2010,
                2011,
                2012,
                2013,
                2014,
                2015,
                2016,
                2017,
                2018
               ],
               [
                2005,
                2006,
                2007,
                2008,
                2009,
                2010,
                2011,
                2012,
                2013,
                2014,
                2015,
                2016,
                2017,
                2018
               ]
              ],
              "y": [
               [
                137357.15786884844,
                139126.699419269,
                139527.76719275743,
                135875.8285659493,
                134206.68677066255,
                145474.77260995068,
                144958.5641440405,
                144452.4289501342,
                147219.39448830023,
                150536.6653994018,
                154079.69569692685,
                156460.12811294358,
                158823.03509595126,
                161911.2525524194
               ],
               [
                127972.1645513222,
                130368.77513616109,
                132779.82166833198,
                133837.65397952136,
                133020.80949690685,
                143786.3540132516,
                143982.49572364945,
                144671.84295834313,
                148193.97602198942,
                152931.26358803926,
                158296.323825178,
                160959.61367383946,
                163111.95511743563,
                165492.7015438603
               ]
              ]
             }
            ],
            "label": "All",
            "method": "update"
           },
           {
            "args": [
             {
              "visible": [
               true,
               true
              ],
              "x": [
               [
                2005,
                2006,
                2007,
                2008,
                2009,
                2010,
                2011,
                2012,
                2013,
                2014,
                2015,
                2016,
                2017,
                2018
               ],
               [
                2005,
                2006,
                2007,
                2008,
                2009,
                2010,
                2011,
                2012,
                2013,
                2014,
                2015,
                2016,
                2017,
                2018
               ]
              ],
              "y": [
               [
                119553.8485363124,
                119522.52401686515,
                119114.46014437945,
                118825.82172350156,
                120276.9771653865,
                125581.48151386382,
                120870.93354142184,
                119945.8787526484,
                119158.16523617365,
                120645.07358412372,
                123373.26468656334,
                125066.23032893178,
                125270.91012388855,
                128065.03001704642
               ],
               [
                102671.81431515104,
                104745.87785045161,
                105588.68541278744,
                105696.74361579292,
                107936.4280335022,
                113565.3553678425,
                109517.34057452618,
                108155.53802059861,
                125872.1171095064,
                127740.84832470308,
                128696.84368239102,
                127599.82060047402,
                128893.9902487933,
                132955.14754320675
               ]
              ]
             }
            ],
            "label": "Albertslund",
            "method": "update"
           },
           {
            "args": [
             {
              "visible": [
               true,
               true
              ],
              "x": [
               [
                2005,
                2006,
                2007,
                2008,
                2009,
                2010,
                2011,
                2012,
                2013,
                2014,
                2015,
                2016,
                2017,
                2018
               ],
               [
                2005,
                2006,
                2007,
                2008,
                2009,
                2010,
                2011,
                2012,
                2013,
                2014,
                2015,
                2016,
                2017,
                2018
               ]
              ],
              "y": [
               [
                125782.09214149226,
                127490.5650110007,
                128052.98246379144,
                126867.7499250267,
                126322.88452833715,
                134520.41281998035,
                134626.977736394,
                133327.4101825732,
                135799.5134431412,
                138036.91611418486,
                141571.10081176806,
                143425.04107338836,
                145147.55478743915,
                148332.80619226772
               ],
               [
                110185.59391501365,
                112678.12017725907,
                113981.47932806106,
                134925.80535239776,
                135124.84390463954,
                142020.82681708058,
                141601.4888795804,
                141820.77326216127,
                143522.25830067229,
                147277.70374048458,
                149523.51097786345,
                151249.2097763993,
                152638.64347742673,
                155178.17912624066
               ]
              ]
             }
            ],
            "label": "Ballerup",
            "method": "update"
           },
           {
            "args": [
             {
              "visible": [
               true,
               true
              ],
              "x": [
               [
                2005,
                2006,
                2007,
                2008,
                2009,
                2010,
                2011,
                2012,
                2013,
                2014,
                2015,
                2016,
                2017,
                2018
               ],
               [
                2005,
                2006,
                2007,
                2008,
                2009,
                2010,
                2011,
                2012,
                2013,
                2014,
                2015,
                2016,
                2017,
                2018
               ]
              ],
              "y": [
               [
                119157.08314300967,
                119929.99340858997,
                118920.8361375528,
                117854.79154799468,
                118103.85372072649,
                123374.67348957261,
                122019.62278326755,
                120838.80630971312,
                121093.55182122334,
                122152.6828007221,
                123841.44021840599,
                125268.91326180391,
                126653.20853113598,
                129100.40657224075
               ],
               [
                122601.98281648033,
                123682.86331355879,
                124516.48567124756,
                123912.43862465945,
                124333.73839866983,
                130236.0855551622,
                127085.00401368903,
                124847.04478226576,
                128052.15156633891,
                129208.42211477799,
                130450.67942284708,
                131739.05288582284,
                131922.8427499227,
                134309.70038363614
               ]
              ]
             }
            ],
            "label": "Brøndby",
            "method": "update"
           },
           {
            "args": [
             {
              "visible": [
               true,
               true
              ],
              "x": [
               [
                2005,
                2006,
                2007,
                2008,
                2009,
                2010,
                2011,
                2012,
                2013,
                2014,
                2015,
                2016,
                2017,
                2018
               ],
               [
                2005,
                2006,
                2007,
                2008,
                2009,
                2010,
                2011,
                2012,
                2013,
                2014,
                2015,
                2016,
                2017,
                2018
               ]
              ],
              "y": [
               [
                121525.42510236538,
                123493.34636517805,
                123794.10298919698,
                122118.13439891808,
                123999.79523163316,
                132000.43713985616,
                130725.64175031574,
                130162.11860077377,
                132342.95880022342,
                134997.6814887306,
                137653.27986189845,
                140023.33002082066,
                142500.48407455668,
                146682.69025540948
               ],
               [
                115999.90807825986,
                118203.72921097596,
                118279.27910390044,
                117719.91770352924,
                120387.00904747874,
                127461.71940016214,
                126873.31065667997,
                125936.68634490279,
                128337.8803180533,
                131031.73780455417,
                133687.6878697179,
                136390.83832139635,
                138802.26343146348,
                142761.4173123763
               ]
              ]
             }
            ],
            "label": "Copenhagen",
            "method": "update"
           },
           {
            "args": [
             {
              "visible": [
               true,
               true
              ],
              "x": [
               [
                2005,
                2006,
                2007,
                2008,
                2009,
                2010,
                2011,
                2012,
                2013,
                2014,
                2015,
                2016,
                2017,
                2018
               ],
               [
                2005,
                2006,
                2007,
                2008,
                2009,
                2010,
                2011,
                2012,
                2013,
                2014,
                2015,
                2016,
                2017,
                2018
               ]
              ],
              "y": [
               [
                125067.71616119583,
                127129.96423872821,
                128376.10794531125,
                125650.19516674786,
                126415.2328102251,
                134880.5378450727,
                133825.07444325674,
                133252.57954735466,
                135633.30297261488,
                138613.5247913759,
                141481.31957149878,
                144003.9649820537,
                146530.04667482193,
                149965.77547849272
               ],
               [
                130548.60910488428,
                132990.8015128759,
                133895.9007770941,
                130990.40166067083,
                131924.17417889222,
                140506.47818835828,
                139555.3836877017,
                139240.23597612587,
                141908.42167028828,
                144480.38990504306,
                146944.8496518746,
                148963.31977365093,
                151582.53003623456,
                154128.4800835384
               ]
              ]
             }
            ],
            "label": "Denmark",
            "method": "update"
           },
           {
            "args": [
             {
              "visible": [
               true,
               true
              ],
              "x": [
               [
                2005,
                2006,
                2007,
                2008,
                2009,
                2010,
                2011,
                2012,
                2013,
                2014,
                2015,
                2016,
                2017,
                2018
               ],
               [
                2005,
                2006,
                2007,
                2008,
                2009,
                2010,
                2011,
                2012,
                2013,
                2014,
                2015,
                2016,
                2017,
                2018
               ]
              ],
              "y": [
               [
                150941.86965051963,
                152135.79972530244,
                154694.03576833388,
                150617.81546743034,
                147150.90070212033,
                163319.6449753942,
                167033.05270893825,
                165463.14075693575,
                169062.8353110151,
                175973.71336444688,
                182962.32861932652,
                182772.4953324766,
                187623.82443986757,
                190810.72156681432
               ],
               [
                132849.8287080121,
                133272.92596303765,
                138176.36955542414,
                136295.0171641306,
                132595.5329110498,
                145661.3430710449,
                149399.70376841002,
                150092.5478124217,
                153244.55221202303,
                154649.34819505096,
                158629.5964341142,
                160854.7238081513,
                162151.13469768298,
                161724.18758065708
               ]
              ]
             }
            ],
            "label": "Dragør",
            "method": "update"
           },
           {
            "args": [
             {
              "visible": [
               true,
               true
              ],
              "x": [
               [
                2005,
                2006,
                2007,
                2008,
                2009,
                2010,
                2011,
                2012,
                2013,
                2014,
                2015,
                2016,
                2017,
                2018
               ],
               [
                2005,
                2006,
                2007,
                2008,
                2009,
                2010,
                2011,
                2012,
                2013,
                2014,
                2015,
                2016,
                2017,
                2018
               ]
              ],
              "y": [
               [
                140939.94747814874,
                142693.12480441757,
                141832.27408862198,
                136953.6371207375,
                137268.56485062258,
                150108.21792497864,
                149071.2280213693,
                147170.70678961562,
                152064.80065125047,
                156056.30748602518,
                160015.048835663,
                161550.36546995325,
                167394.7024310868,
                170149.03030715307
               ],
               [
                142988.73688138893,
                145917.02666551893,
                144816.52992166884,
                142239.8510811365,
                144769.13428101942,
                157148.50602190336,
                156247.31142449673,
                155582.7510089355,
                158774.5011682984,
                163453.12232721297,
                165528.92755740878,
                168056.86644573783,
                171702.78231443875,
                175872.35388776968
               ]
              ]
             }
            ],
            "label": "Frederiksberg",
            "method": "update"
           },
           {
            "args": [
             {
              "visible": [
               true,
               true
              ],
              "x": [
               [
                2005,
                2006,
                2007,
                2008,
                2009,
                2010,
                2011,
                2012,
                2013,
                2014,
                2015,
                2016,
                2017,
                2018
               ],
               [
                2005,
                2006,
                2007,
                2008,
                2009,
                2010,
                2011,
                2012,
                2013,
                2014,
                2015,
                2016,
                2017,
                2018
               ]
              ],
              "y": [
               [
                147193.2733791475,
                149929.98058144425,
                152051.58834219596,
                148290.0184690548,
                146165.43013085777,
                161652.25304393694,
                163962.4991732159,
                164612.00946449416,
                169587.1074717387,
                174889.7061943151,
                177058.03586623393,
                181195.32875927247,
                182760.91443680067,
                186984.67898394834
               ],
               [
                143847.019870663,
                147470.26138525357,
                150388.93986074912,
                145370.04668552344,
                142721.06471070115,
                157347.1592045795,
                180114.61992979047,
                179328.94838399807,
                185665.68857026877,
                189309.6026663808,
                190815.75214656637,
                192884.43695423205,
                196095.82063299982,
                201283.240090446
               ]
              ]
             }
            ],
            "label": "Furesø",
            "method": "update"
           },
           {
            "args": [
             {
              "visible": [
               true,
               true
              ],
              "x": [
               [
                2005,
                2006,
                2007,
                2008,
                2009,
                2010,
                2011,
                2012,
                2013,
                2014,
                2015,
                2016,
                2017,
                2018
               ],
               [
                2005,
                2006,
                2007,
                2008,
                2009,
                2010,
                2011,
                2012,
                2013,
                2014,
                2015,
                2016,
                2017,
                2018
               ]
              ],
              "y": [
               [
                187345.66488580863,
                194099.25283251845,
                197140.66161187142,
                178126.5874849486,
                170488.2012193611,
                200074.91619787036,
                206431.11145779165,
                206535.3368457097,
                212393.30418562496,
                219912.04990838026,
                231346.8136843723,
                238308.54771601528,
                241877.21372047413,
                248006.1354057196
               ],
               [
                209529.0354495407,
                214472.436093422,
                217959.18215865636,
                203000.21809411293,
                196019.12917244842,
                226358.3927804684,
                229636.19382351963,
                231080.70016016325,
                239303.55766024746,
                248652.7484424644,
                259844.8643821313,
                262635.20517012104,
                268687.93312028266,
                272099.0474379048
               ]
              ]
             }
            ],
            "label": "Gentofte",
            "method": "update"
           },
           {
            "args": [
             {
              "visible": [
               true,
               true
              ],
              "x": [
               [
                2005,
                2006,
                2007,
                2008,
                2009,
                2010,
                2011,
                2012,
                2013,
                2014,
                2015,
                2016,
                2017,
                2018
               ],
               [
                2005,
                2006,
                2007,
                2008,
                2009,
                2010,
                2011,
                2012,
                2013,
                2014,
                2015,
                2016,
                2017,
                2018
               ]
              ],
              "y": [
               [
                132673.26962349174,
                133844.581622208,
                134025.30918083456,
                132001.13344397774,
                131356.4047334189,
                141626.93976496079,
                141351.46846495112,
                140476.61651582443,
                143305.84353785118,
                145555.8569674497,
                148774.08697433484,
                151317.78894249158,
                153495.69335102633,
                156398.5192464351
               ],
               [
                138491.05268923295,
                140491.58385193485,
                139260.67233273422,
                139137.19604536385,
                138895.1007692868,
                148860.08275457422,
                149318.36238970666,
                147936.65248178053,
                150583.43887420397,
                154360.41719810714,
                157200.19352872213,
                158315.7726959984,
                159121.60228275837,
                162052.8757669741
               ]
              ]
             }
            ],
            "label": "Gladsaxe",
            "method": "update"
           },
           {
            "args": [
             {
              "visible": [
               true,
               true
              ],
              "x": [
               [
                2005,
                2006,
                2007,
                2008,
                2009,
                2010,
                2011,
                2012,
                2013,
                2014,
                2015,
                2016,
                2017,
                2018
               ],
               [
                2005,
                2006,
                2007,
                2008,
                2009,
                2010,
                2011,
                2012,
                2013,
                2014,
                2015,
                2016,
                2017,
                2018
               ]
              ],
              "y": [
               [
                131947.65050852983,
                133292.8740772978,
                133316.2575472907,
                132323.5736167587,
                131680.98589805825,
                139327.0821150187,
                136418.56848506432,
                135030.31623491063,
                136791.9250213142,
                137273.93341820812,
                141486.20194948144,
                143951.16668239952,
                146764.49972903554,
                150048.58444406404
               ],
               [
                103292.04108062589,
                106162.16760831438,
                108901.58797285263,
                105569.22911010068,
                109376.21115728156,
                116095.51055510424,
                113160.8731060912,
                111949.915398633,
                112180.78165491785,
                114568.76701415727,
                113902.07286856968,
                112561.22348457166,
                114609.21108741117,
                119147.75115527137
               ]
              ]
             }
            ],
            "label": "Glostrup",
            "method": "update"
           },
           {
            "args": [
             {
              "visible": [
               true,
               true
              ],
              "x": [
               [
                2005,
                2006,
                2007,
                2008,
                2009,
                2010,
                2011,
                2012,
                2013,
                2014,
                2015,
                2016,
                2017,
                2018
               ],
               [
                2005,
                2006,
                2007,
                2008,
                2009,
                2010,
                2011,
                2012,
                2013,
                2014,
                2015,
                2016,
                2017,
                2018
               ]
              ],
              "y": [
               [
                133891.82032983817,
                135907.3318182114,
                136192.83727918658,
                132628.57478088167,
                131982.97558917184,
                142881.32340077395,
                142242.868111009,
                141593.50847601908,
                144320.28725804464,
                147547.34525186132,
                150840.83457210538,
                153383.55885674123,
                155811.64916462672,
                159210.4363987127
               ],
               [
                137794.91117464416,
                139755.32893848134,
                139857.31936479962,
                137280.9633448124,
                137224.9622687392,
                147682.60345146473,
                147092.8983595431,
                146282.48029615646,
                149184.4933026412,
                152540.48482600282,
                155310.9747293911,
                157559.62881141625,
                159872.81351987633,
                162767.6996407635
               ]
              ]
             }
            ],
            "label": "Greater Copenhagen",
            "method": "update"
           },
           {
            "args": [
             {
              "visible": [
               true,
               true
              ],
              "x": [
               [
                2005,
                2006,
                2007,
                2008,
                2009,
                2010,
                2011,
                2012,
                2013,
                2014,
                2015,
                2016,
                2017,
                2018
               ],
               [
                2005,
                2006,
                2007,
                2008,
                2009,
                2010,
                2011,
                2012,
                2013,
                2014,
                2015,
                2016,
                2017,
                2018
               ]
              ],
              "y": [
               [
                139235.84342475748,
                140608.21045903955,
                141998.34080750382,
                138477.27640890828,
                133318.47105906933,
                144537.79118623195,
                143342.02143762124,
                143484.41145381416,
                147575.08282853672,
                150891.25458478677,
                154256.28293569115,
                156663.98732017545,
                159628.3104619618,
                162938.82900682229
               ],
               [
                117408.12530975873,
                119845.5981435693,
                123896.4058947524,
                150535.43916645294,
                146799.95419932093,
                157986.45839417027,
                157861.66820606415,
                158414.73425293574,
                160575.0203739488,
                164160.19209646937,
                166102.48546174774,
                168321.66667865808,
                170604.51975502938,
                173315.8677194041
               ]
              ]
             }
            ],
            "label": "Greve",
            "method": "update"
           },
           {
            "args": [
             {
              "visible": [
               true,
               true
              ],
              "x": [
               [
                2005,
                2006,
                2007,
                2008,
                2009,
                2010,
                2011,
                2012,
                2013,
                2014,
                2015,
                2016,
                2017,
                2018
               ],
               [
                2005,
                2006,
                2007,
                2008,
                2009,
                2010,
                2011,
                2012,
                2013,
                2014,
                2015,
                2016,
                2017,
                2018
               ]
              ],
              "y": [
               [
                125370.14825564795,
                126294.54604180474,
                127158.95141410442,
                124653.27573458815,
                124688.2335982775,
                132614.85832783242,
                131064.22735499789,
                130983.17074709327,
                132426.54415794785,
                134477.7096540429,
                136934.09300494808,
                137490.10107046523,
                138209.1361907163,
                139729.63045427797
               ],
               [
                108336.17909162678,
                111436.95346647972,
                112233.67046980668,
                111508.73450448972,
                110798.43401876012,
                117763.3867714408,
                115466.09457005528,
                114286.05855486717,
                116342.98876644239,
                118555.8968769802,
                148047.3083193543,
                148714.5869583433,
                152527.11324809925,
                153969.23962468194
               ]
              ]
             }
            ],
            "label": "Herlev",
            "method": "update"
           },
           {
            "args": [
             {
              "visible": [
               true,
               true
              ],
              "x": [
               [
                2005,
                2006,
                2007,
                2008,
                2009,
                2010,
                2011,
                2012,
                2013,
                2014,
                2015,
                2016,
                2017,
                2018
               ],
               [
                2005,
                2006,
                2007,
                2008,
                2009,
                2010,
                2011,
                2012,
                2013,
                2014,
                2015,
                2016,
                2017,
                2018
               ]
              ],
              "y": [
               [
                123400.77646370593,
                124601.78764631458,
                125802.94275946161,
                124753.94220085451,
                123910.46897188095,
                131866.83260427928,
                130616.00903081555,
                130870.39584415067,
                132517.07139269068,
                134662.14857112555,
                137081.09155895066,
                138946.65885352762,
                139578.94691625345,
                143008.9101515991
               ],
               [
                104411.68370168531,
                105779.53815711514,
                132521.86129051173,
                131575.4248264275,
                131088.6886895374,
                138063.3815993621,
                136331.39048808996,
                135756.71602891502,
                138086.91625155727,
                140752.50604069265,
                142363.55868879188,
                144150.69366053172,
                145827.13257914814,
                147706.46551422816
               ]
              ]
             }
            ],
            "label": "Hvidovre",
            "method": "update"
           },
           {
            "args": [
             {
              "visible": [
               true,
               true
              ],
              "x": [
               [
                2005,
                2006,
                2007,
                2008,
                2009,
                2010,
                2011,
                2012,
                2013,
                2014,
                2015,
                2016,
                2017,
                2018
               ],
               [
                2005,
                2006,
                2007,
                2008,
                2009,
                2010,
                2011,
                2012,
                2013,
                2014,
                2015,
                2016,
                2017,
                2018
               ]
              ],
              "y": [
               [
                130320.69300775476,
                130432.89019767284,
                130488.29350104422,
                127352.76553040436,
                127252.12656267495,
                133995.7065532614,
                131486.09179745527,
                130361.15078999684,
                132203.2972114164,
                134988.27233925014,
                137277.33784585856,
                138316.0115631764,
                140227.4909208952,
                142678.08000845957
               ],
               [
                102447.22497464967,
                103512.4402664502,
                104601.69830557653,
                129690.31990770185,
                127884.4872446123,
                133791.51931632697,
                133435.44843238016,
                131115.259903357,
                132833.2198817102,
                134594.244312217,
                135657.07026763615,
                136358.96648452323,
                136926.01971805896,
                140567.76601124989
               ]
              ]
             }
            ],
            "label": "Høje-Taastrup",
            "method": "update"
           },
           {
            "args": [
             {
              "visible": [
               true,
               true
              ],
              "x": [
               [
                2005,
                2006,
                2007,
                2008,
                2009,
                2010,
                2011,
                2012,
                2013,
                2014,
                2015,
                2016,
                2017,
                2018
               ],
               [
                2005,
                2006,
                2007,
                2008,
                2009,
                2010,
                2011,
                2012,
                2013,
                2014,
                2015,
                2016,
                2017,
                2018
               ]
              ],
              "y": [
               [
                121375.42654863943,
                121370.34713781878,
                121564.0204412695,
                119056.63316677575,
                116756.84116535261,
                121659.17771652766,
                119685.48088505873,
                118133.23034635613,
                118245.21986336868,
                119759.89853343983,
                121755.69770004194,
                122081.63623683668,
                123427.99105581538,
                126184.34933069367
               ],
               [
                89775.41392519555,
                95276.6961849159,
                97984.90685701821,
                98672.57064496074,
                98950.42769075777,
                102067.73505147058,
                99962.14392670727,
                99250.35948642268,
                100599.46705032658,
                100378.68108434505,
                100686.83040375341,
                122924.3210810448,
                123764.90690768605,
                123168.61940677627
               ]
              ]
             }
            ],
            "label": "Ishøj",
            "method": "update"
           },
           {
            "args": [
             {
              "visible": [
               true,
               true
              ],
              "x": [
               [
                2005,
                2006,
                2007,
                2008,
                2009,
                2010,
                2011,
                2012,
                2013,
                2014,
                2015,
                2016,
                2017,
                2018
               ],
               [
                2005,
                2006,
                2007,
                2008,
                2009,
                2010,
                2011,
                2012,
                2013,
                2014,
                2015,
                2016,
                2017,
                2018
               ]
              ],
              "y": [
               [
                158175.26034261513,
                160187.01458502703,
                159842.85369623377,
                154654.5009299881,
                151742.84053376658,
                171137.8551131352,
                170058.78761702793,
                169916.7635649705,
                174505.6308393546,
                180283.6534130598,
                185114.65503595257,
                188679.64063840595,
                191924.98401322053,
                192526.68538712093
               ],
               [
                170664.06534658017,
                172975.92677960423,
                171866.40726897697,
                169955.59966812906,
                165304.3545319033,
                186349.56770509988,
                185762.00985108383,
                187538.58002302807,
                192340.61593129128,
                198643.16837985764,
                202798.88281492537,
                204847.81276514125,
                207623.198566367,
                208794.0567234033
               ]
              ]
             }
            ],
            "label": "Lyngby-Taarbæk",
            "method": "update"
           },
           {
            "args": [
             {
              "visible": [
               true,
               true
              ],
              "x": [
               [
                2005,
                2006,
                2007,
                2008,
                2009,
                2010,
                2011,
                2012,
                2013,
                2014,
                2015,
                2016,
                2017,
                2018
               ],
               [
                2005,
                2006,
                2007,
                2008,
                2009,
                2010,
                2011,
                2012,
                2013,
                2014,
                2015,
                2016,
                2017,
                2018
               ]
              ],
              "y": [
               [
                181835.97242841963,
                186754.7170885337,
                188067.7032566932,
                179300.9052063395,
                167925.4515057644,
                198042.08926883593,
                200869.31976524598,
                202321.0225895938,
                208275.20808085595,
                219326.9278955657,
                224132.76028896403,
                232122.8495552891,
                234184.03536135098,
                237667.3518771179
               ],
               [
                205648.77402274078,
                207803.0987001099,
                210555.0503071166,
                199408.64644853552,
                187510.06999430188,
                217674.22107730762,
                217889.43920144922,
                221634.4091811958,
                229157.37145660378,
                237043.7256307501,
                244113.32991736708,
                249019.1045649715,
                253739.228479405,
                254981.8075522711
               ]
              ]
             }
            ],
            "label": "Rudersdal",
            "method": "update"
           },
           {
            "args": [
             {
              "visible": [
               true,
               true
              ],
              "x": [
               [
                2005,
                2006,
                2007,
                2008,
                2009,
                2010,
                2011,
                2012,
                2013,
                2014,
                2015,
                2016,
                2017,
                2018
               ],
               [
                2005,
                2006,
                2007,
                2008,
                2009,
                2010,
                2011,
                2012,
                2013,
                2014,
                2015,
                2016,
                2017,
                2018
               ]
              ],
              "y": [
               [
                124720.32718410637,
                126517.11420420272,
                127236.58886333354,
                124563.11419268715,
                124750.72191296834,
                130179.74752059023,
                129627.42443496737,
                128778.73892725294,
                130901.15039572834,
                133418.91351699666,
                136105.60362762175,
                137477.8488696782,
                139531.25781571137,
                141758.8555893646
               ],
               [
                102998.03521366729,
                104943.45953084054,
                104971.48437020966,
                104937.92820736219,
                105052.41647256343,
                110967.76987053157,
                109894.25429554132,
                135167.54456339648,
                136884.4676276098,
                138897.09735865935,
                141496.22187557767,
                144680.5850834957,
                146615.56445464067,
                147938.6973214407
               ]
              ]
             }
            ],
            "label": "Rødovre",
            "method": "update"
           },
           {
            "args": [
             {
              "visible": [
               true,
               true
              ],
              "x": [
               [
                2005,
                2006,
                2007,
                2008,
                2009,
                2010,
                2011,
                2012,
                2013,
                2014,
                2015,
                2016,
                2017,
                2018
               ],
               [
                2005,
                2006,
                2007,
                2008,
                2009,
                2010,
                2011,
                2012,
                2013,
                2014,
                2015,
                2016,
                2017,
                2018
               ]
              ],
              "y": [
               [
                131193.20878949878,
                132155.04485073366,
                131647.75914619266,
                129120.6182524564,
                128922.69941030243,
                137078.80275837865,
                137094.47949176273,
                136422.92451774134,
                138438.88902332913,
                140084.96057919238,
                142828.90800077337,
                145252.06367975377,
                148011.66846068058,
                151469.5014419666
               ],
               [
                106032.36282769947,
                107957.79417903515,
                109094.5334383151,
                109979.5752147385,
                110722.43663376788,
                116327.97939578826,
                115237.78815085004,
                113399.91594210998,
                114636.8782857293,
                149701.37444894863,
                150710.77614121468,
                153043.02406088353,
                156111.96422668325,
                158572.91108541645
               ]
              ]
             }
            ],
            "label": "Tårnby",
            "method": "update"
           },
           {
            "args": [
             {
              "visible": [
               true,
               true
              ],
              "x": [
               [
                2005,
                2006,
                2007,
                2008,
                2009,
                2010,
                2011,
                2012,
                2013,
                2014,
                2015,
                2016,
                2017,
                2018
               ],
               [
                2005,
                2006,
                2007,
                2008,
                2009,
                2010,
                2011,
                2012,
                2013,
                2014,
                2015,
                2016,
                2017,
                2018
               ]
              ],
              "y": [
               [
                150210.1557296606,
                152396.3765110079,
                148291.97085625966,
                145077.16368190479,
                142067.0476545998,
                149984.21613856292,
                146665.52267694264,
                148273.19964541018,
                152184.98923916105,
                152258.1083295559,
                153863.11968193657,
                154825.28927110168,
                157552.24944956173,
                160330.5480375
               ],
               [
                116865.22163158792,
                118738.42501633987,
                117807.62704104415,
                116026.32047844156,
                121039.21062271671,
                129363.70594229223,
                126172.1781843318,
                123962.6932191781,
                122180.68445108781,
                124487.32014900459,
                160006.70701195038,
                160240.64075890288,
                158641.79704917545,
                157543.92299727013
               ]
              ]
             }
            ],
            "label": "Vallensbæk",
            "method": "update"
           }
          ],
          "direction": "down",
          "showactive": true
         }
        ],
        "xaxis": {
         "tickfont": {
          "size": 14
         }
        },
        "yaxis": {
         "tickfont": {
          "size": 14
         },
         "title": {
          "font": {
           "size": 16
          },
          "text": "Count"
         }
        }
       }
      }
     },
     "metadata": {},
     "output_type": "display_data"
    }
   ],
   "source": [
    "import plotly.graph_objs as go\n",
    "\n",
    "# Define years and initial municipality for the plot\n",
    "years = df_income_gender.year.unique()\n",
    "municipality = df_income_gender.municipality.unique()[0]\n",
    "\n",
    "# Get the yearly average count for men and women for the initial municipality\n",
    "men_yearly_avg_count = df_income_gender[(df_income_gender.gender=='Men') & (df_income_gender.municipality==municipality)].groupby('year')['count'].mean()\n",
    "women_yearly_avg_count = df_income_gender[(df_income_gender.gender=='Women') & (df_income_gender.municipality==municipality)].groupby('year')['count'].mean()\n",
    "\n",
    "# Create the initial plot\n",
    "fig = go.Figure()\n",
    "fig.add_trace(go.Bar(x=years,\n",
    "                y=men_yearly_avg_count,\n",
    "                name='Men',\n",
    "                marker_color='rgb(55, 83, 109)'\n",
    "                ))\n",
    "fig.add_trace(go.Bar(x=years,\n",
    "                y=women_yearly_avg_count,\n",
    "                name='Women',\n",
    "                marker_color='rgb(26, 118, 255)'\n",
    "                ))\n",
    "\n",
    "# Define the dropdown menu\n",
    "municipalities = df_income_gender.municipality.unique()\n",
    "buttons = []\n",
    "# Add button for all municipalities\n",
    "men_yearly_avg_count_all = df_income_gender[df_income_gender.gender=='Men'].groupby('year')['count'].mean()\n",
    "women_yearly_avg_count_all = df_income_gender[df_income_gender.gender=='Women'].groupby('year')['count'].mean()\n",
    "buttons.append(dict(method='update',\n",
    "                    label='All',\n",
    "                    args=[{'x': [years]*2,\n",
    "                           'y': [men_yearly_avg_count_all, women_yearly_avg_count_all],\n",
    "                           'visible': [True]*2}],\n",
    "                    )\n",
    "             )\n",
    "# Add button for each municipality\n",
    "for municipality in municipalities:\n",
    "    men_yearly_avg_count = df_income_gender[(df_income_gender.gender=='Men') & (df_income_gender.municipality==municipality)].groupby('year')['count'].mean()\n",
    "    women_yearly_avg_count = df_income_gender[(df_income_gender.gender=='Women') & (df_income_gender.municipality==municipality)].groupby('year')['count'].mean()\n",
    "    buttons.append(dict(method='update',\n",
    "                        label=municipality,\n",
    "                        args=[{'x': [years]*2,\n",
    "                               'y': [men_yearly_avg_count, women_yearly_avg_count],\n",
    "                               'visible': [True]*2}],\n",
    "                        )\n",
    "                 )\n",
    "updatemenus = [{'buttons': buttons,\n",
    "                'direction': 'down',\n",
    "                'showactive': True,\n",
    "                'active': 0}]\n",
    "\n",
    "# Update the layout to add the dropdown menu and set the title\n",
    "fig.update_layout(\n",
    "    updatemenus=updatemenus,\n",
    "    title='Annual income by gender for {}'.format(municipalities[0]),\n",
    "    xaxis_tickfont_size=14,\n",
    "    yaxis=dict(\n",
    "        title='Count',\n",
    "        titlefont_size=16,\n",
    "        tickfont_size=14,\n",
    "    ),\n",
    "    legend=dict(\n",
    "        x=0,\n",
    "        y=1.0,\n",
    "        bgcolor='rgba(255, 255, 255, 0)',\n",
    "        bordercolor='rgba(255, 255, 255, 0)'\n",
    "    ),\n",
    "    barmode='group',\n",
    "    bargap=0.15, # gap between bars of adjacent location coordinates.\n",
    "    bargroupgap=0.1 # gap between bars of the same location coordinate.\n",
    ")\n",
    "\n",
    "fig.show()\n"
   ]
  },
  {
   "cell_type": "code",
   "execution_count": 26,
   "metadata": {},
   "outputs": [
    {
     "data": {
      "text/html": [
       "<div>\n",
       "<style scoped>\n",
       "    .dataframe tbody tr th:only-of-type {\n",
       "        vertical-align: middle;\n",
       "    }\n",
       "\n",
       "    .dataframe tbody tr th {\n",
       "        vertical-align: top;\n",
       "    }\n",
       "\n",
       "    .dataframe thead th {\n",
       "        text-align: right;\n",
       "    }\n",
       "</style>\n",
       "<table border=\"1\" class=\"dataframe\">\n",
       "  <thead>\n",
       "    <tr style=\"text-align: right;\">\n",
       "      <th></th>\n",
       "      <th>municipality</th>\n",
       "      <th>municipality code</th>\n",
       "      <th>year</th>\n",
       "      <th>gender</th>\n",
       "      <th>age</th>\n",
       "      <th>ethnicity</th>\n",
       "      <th>education</th>\n",
       "      <th>income</th>\n",
       "      <th>income observations</th>\n",
       "      <th>weighted_inc_mun</th>\n",
       "      <th>days in hospital</th>\n",
       "      <th>days in hospital observations</th>\n",
       "      <th>weighted_hosp_days_mun</th>\n",
       "      <th>number of hospitalizations</th>\n",
       "      <th>number of hospitalizations observations</th>\n",
       "      <th>weighted_hospitalizations_mun</th>\n",
       "    </tr>\n",
       "  </thead>\n",
       "  <tbody>\n",
       "    <tr>\n",
       "      <th>0</th>\n",
       "      <td>Denmark</td>\n",
       "      <td>0</td>\n",
       "      <td>2005</td>\n",
       "      <td>Men</td>\n",
       "      <td>18-29</td>\n",
       "      <td>Danish</td>\n",
       "      <td>Higher education</td>\n",
       "      <td>NaN</td>\n",
       "      <td>NaN</td>\n",
       "      <td>NaN</td>\n",
       "      <td>0.186</td>\n",
       "      <td>30425.0</td>\n",
       "      <td>0.001379</td>\n",
       "      <td>0.049</td>\n",
       "      <td>30425.0</td>\n",
       "      <td>0.000364</td>\n",
       "    </tr>\n",
       "    <tr>\n",
       "      <th>1</th>\n",
       "      <td>Denmark</td>\n",
       "      <td>0</td>\n",
       "      <td>2005</td>\n",
       "      <td>Men</td>\n",
       "      <td>18-29</td>\n",
       "      <td>Danish</td>\n",
       "      <td>No higher education</td>\n",
       "      <td>NaN</td>\n",
       "      <td>NaN</td>\n",
       "      <td>NaN</td>\n",
       "      <td>0.269</td>\n",
       "      <td>296267.0</td>\n",
       "      <td>0.019420</td>\n",
       "      <td>0.076</td>\n",
       "      <td>296267.0</td>\n",
       "      <td>0.005493</td>\n",
       "    </tr>\n",
       "    <tr>\n",
       "      <th>2</th>\n",
       "      <td>Denmark</td>\n",
       "      <td>0</td>\n",
       "      <td>2005</td>\n",
       "      <td>Men</td>\n",
       "      <td>18-29</td>\n",
       "      <td>Immigrants and descendants</td>\n",
       "      <td>Higher education</td>\n",
       "      <td>NaN</td>\n",
       "      <td>NaN</td>\n",
       "      <td>NaN</td>\n",
       "      <td>0.159</td>\n",
       "      <td>1925.0</td>\n",
       "      <td>0.000075</td>\n",
       "      <td>0.047</td>\n",
       "      <td>1925.0</td>\n",
       "      <td>0.000022</td>\n",
       "    </tr>\n",
       "    <tr>\n",
       "      <th>3</th>\n",
       "      <td>Denmark</td>\n",
       "      <td>0</td>\n",
       "      <td>2005</td>\n",
       "      <td>Men</td>\n",
       "      <td>18-29</td>\n",
       "      <td>Immigrants and descendants</td>\n",
       "      <td>No higher education</td>\n",
       "      <td>NaN</td>\n",
       "      <td>NaN</td>\n",
       "      <td>NaN</td>\n",
       "      <td>0.256</td>\n",
       "      <td>26048.0</td>\n",
       "      <td>0.001625</td>\n",
       "      <td>0.078</td>\n",
       "      <td>26048.0</td>\n",
       "      <td>0.000496</td>\n",
       "    </tr>\n",
       "    <tr>\n",
       "      <th>4</th>\n",
       "      <td>Denmark</td>\n",
       "      <td>0</td>\n",
       "      <td>2005</td>\n",
       "      <td>Men</td>\n",
       "      <td>18-29</td>\n",
       "      <td>Non-western immigrants and descendants</td>\n",
       "      <td>Higher education</td>\n",
       "      <td>NaN</td>\n",
       "      <td>NaN</td>\n",
       "      <td>NaN</td>\n",
       "      <td>0.155</td>\n",
       "      <td>1096.0</td>\n",
       "      <td>0.000041</td>\n",
       "      <td>0.047</td>\n",
       "      <td>1096.0</td>\n",
       "      <td>0.000013</td>\n",
       "    </tr>\n",
       "    <tr>\n",
       "      <th>...</th>\n",
       "      <td>...</td>\n",
       "      <td>...</td>\n",
       "      <td>...</td>\n",
       "      <td>...</td>\n",
       "      <td>...</td>\n",
       "      <td>...</td>\n",
       "      <td>...</td>\n",
       "      <td>...</td>\n",
       "      <td>...</td>\n",
       "      <td>...</td>\n",
       "      <td>...</td>\n",
       "      <td>...</td>\n",
       "      <td>...</td>\n",
       "      <td>...</td>\n",
       "      <td>...</td>\n",
       "      <td>...</td>\n",
       "    </tr>\n",
       "    <tr>\n",
       "      <th>39600</th>\n",
       "      <td>Greater Copenhagen</td>\n",
       "      <td>1</td>\n",
       "      <td>2020</td>\n",
       "      <td>Women</td>\n",
       "      <td>60-65</td>\n",
       "      <td>Danish</td>\n",
       "      <td>No higher education</td>\n",
       "      <td>327995.938342</td>\n",
       "      <td>19143.0</td>\n",
       "      <td>9789.862554</td>\n",
       "      <td>NaN</td>\n",
       "      <td>NaN</td>\n",
       "      <td>NaN</td>\n",
       "      <td>NaN</td>\n",
       "      <td>NaN</td>\n",
       "      <td>NaN</td>\n",
       "    </tr>\n",
       "    <tr>\n",
       "      <th>39601</th>\n",
       "      <td>Greater Copenhagen</td>\n",
       "      <td>1</td>\n",
       "      <td>2020</td>\n",
       "      <td>Women</td>\n",
       "      <td>60-65</td>\n",
       "      <td>Immigrants and descendants</td>\n",
       "      <td>Higher education</td>\n",
       "      <td>360832.894995</td>\n",
       "      <td>1075.0</td>\n",
       "      <td>604.801301</td>\n",
       "      <td>NaN</td>\n",
       "      <td>NaN</td>\n",
       "      <td>NaN</td>\n",
       "      <td>NaN</td>\n",
       "      <td>NaN</td>\n",
       "      <td>NaN</td>\n",
       "    </tr>\n",
       "    <tr>\n",
       "      <th>39602</th>\n",
       "      <td>Greater Copenhagen</td>\n",
       "      <td>1</td>\n",
       "      <td>2020</td>\n",
       "      <td>Women</td>\n",
       "      <td>60-65</td>\n",
       "      <td>Immigrants and descendants</td>\n",
       "      <td>No higher education</td>\n",
       "      <td>233379.566602</td>\n",
       "      <td>2257.0</td>\n",
       "      <td>821.282403</td>\n",
       "      <td>NaN</td>\n",
       "      <td>NaN</td>\n",
       "      <td>NaN</td>\n",
       "      <td>NaN</td>\n",
       "      <td>NaN</td>\n",
       "      <td>NaN</td>\n",
       "    </tr>\n",
       "    <tr>\n",
       "      <th>39603</th>\n",
       "      <td>Greater Copenhagen</td>\n",
       "      <td>1</td>\n",
       "      <td>2020</td>\n",
       "      <td>Women</td>\n",
       "      <td>60-65</td>\n",
       "      <td>Non-western immigrants and descendants</td>\n",
       "      <td>Higher education</td>\n",
       "      <td>258666.804848</td>\n",
       "      <td>369.0</td>\n",
       "      <td>148.821334</td>\n",
       "      <td>NaN</td>\n",
       "      <td>NaN</td>\n",
       "      <td>NaN</td>\n",
       "      <td>NaN</td>\n",
       "      <td>NaN</td>\n",
       "      <td>NaN</td>\n",
       "    </tr>\n",
       "    <tr>\n",
       "      <th>39604</th>\n",
       "      <td>Greater Copenhagen</td>\n",
       "      <td>1</td>\n",
       "      <td>2020</td>\n",
       "      <td>Women</td>\n",
       "      <td>60-65</td>\n",
       "      <td>Non-western immigrants and descendants</td>\n",
       "      <td>No higher education</td>\n",
       "      <td>209047.890537</td>\n",
       "      <td>1352.0</td>\n",
       "      <td>440.677230</td>\n",
       "      <td>NaN</td>\n",
       "      <td>NaN</td>\n",
       "      <td>NaN</td>\n",
       "      <td>NaN</td>\n",
       "      <td>NaN</td>\n",
       "      <td>NaN</td>\n",
       "    </tr>\n",
       "  </tbody>\n",
       "</table>\n",
       "<p>39605 rows × 16 columns</p>\n",
       "</div>"
      ],
      "text/plain": [
       "             municipality  municipality code  year gender    age  \\\n",
       "0                 Denmark                  0  2005    Men  18-29   \n",
       "1                 Denmark                  0  2005    Men  18-29   \n",
       "2                 Denmark                  0  2005    Men  18-29   \n",
       "3                 Denmark                  0  2005    Men  18-29   \n",
       "4                 Denmark                  0  2005    Men  18-29   \n",
       "...                   ...                ...   ...    ...    ...   \n",
       "39600  Greater Copenhagen                  1  2020  Women  60-65   \n",
       "39601  Greater Copenhagen                  1  2020  Women  60-65   \n",
       "39602  Greater Copenhagen                  1  2020  Women  60-65   \n",
       "39603  Greater Copenhagen                  1  2020  Women  60-65   \n",
       "39604  Greater Copenhagen                  1  2020  Women  60-65   \n",
       "\n",
       "                                    ethnicity            education  \\\n",
       "0                                      Danish     Higher education   \n",
       "1                                      Danish  No higher education   \n",
       "2                  Immigrants and descendants     Higher education   \n",
       "3                  Immigrants and descendants  No higher education   \n",
       "4      Non-western immigrants and descendants     Higher education   \n",
       "...                                       ...                  ...   \n",
       "39600                                  Danish  No higher education   \n",
       "39601              Immigrants and descendants     Higher education   \n",
       "39602              Immigrants and descendants  No higher education   \n",
       "39603  Non-western immigrants and descendants     Higher education   \n",
       "39604  Non-western immigrants and descendants  No higher education   \n",
       "\n",
       "              income  income observations  weighted_inc_mun  days in hospital  \\\n",
       "0                NaN                  NaN               NaN             0.186   \n",
       "1                NaN                  NaN               NaN             0.269   \n",
       "2                NaN                  NaN               NaN             0.159   \n",
       "3                NaN                  NaN               NaN             0.256   \n",
       "4                NaN                  NaN               NaN             0.155   \n",
       "...              ...                  ...               ...               ...   \n",
       "39600  327995.938342              19143.0       9789.862554               NaN   \n",
       "39601  360832.894995               1075.0        604.801301               NaN   \n",
       "39602  233379.566602               2257.0        821.282403               NaN   \n",
       "39603  258666.804848                369.0        148.821334               NaN   \n",
       "39604  209047.890537               1352.0        440.677230               NaN   \n",
       "\n",
       "       days in hospital observations  weighted_hosp_days_mun  \\\n",
       "0                            30425.0                0.001379   \n",
       "1                           296267.0                0.019420   \n",
       "2                             1925.0                0.000075   \n",
       "3                            26048.0                0.001625   \n",
       "4                             1096.0                0.000041   \n",
       "...                              ...                     ...   \n",
       "39600                            NaN                     NaN   \n",
       "39601                            NaN                     NaN   \n",
       "39602                            NaN                     NaN   \n",
       "39603                            NaN                     NaN   \n",
       "39604                            NaN                     NaN   \n",
       "\n",
       "       number of hospitalizations  number of hospitalizations observations  \\\n",
       "0                           0.049                                  30425.0   \n",
       "1                           0.076                                 296267.0   \n",
       "2                           0.047                                   1925.0   \n",
       "3                           0.078                                  26048.0   \n",
       "4                           0.047                                   1096.0   \n",
       "...                           ...                                      ...   \n",
       "39600                         NaN                                      NaN   \n",
       "39601                         NaN                                      NaN   \n",
       "39602                         NaN                                      NaN   \n",
       "39603                         NaN                                      NaN   \n",
       "39604                         NaN                                      NaN   \n",
       "\n",
       "       weighted_hospitalizations_mun  \n",
       "0                           0.000364  \n",
       "1                           0.005493  \n",
       "2                           0.000022  \n",
       "3                           0.000496  \n",
       "4                           0.000013  \n",
       "...                              ...  \n",
       "39600                            NaN  \n",
       "39601                            NaN  \n",
       "39602                            NaN  \n",
       "39603                            NaN  \n",
       "39604                            NaN  \n",
       "\n",
       "[39605 rows x 16 columns]"
      ]
     },
     "execution_count": 26,
     "metadata": {},
     "output_type": "execute_result"
    }
   ],
   "source": [
    "df"
   ]
  },
  {
   "attachments": {},
   "cell_type": "markdown",
   "metadata": {},
   "source": [
    "## VIVIEN  "
   ]
  },
  {
   "cell_type": "code",
   "execution_count": 68,
   "metadata": {},
   "outputs": [],
   "source": [
    "import json\n",
    "with open('denmark.json', encoding='iso-8859-1') as f:\n",
    "    counties = json.load(f)\n",
    "\n",
    "fig = px.choropleth_mapbox(df_income, geojson=counties, locations='municipality', featureidkey='properties.KOMNAVN', color='count',\n",
    "                            color_continuous_scale=\"hot_r\",\n",
    "                            range_color=(200000, 520000),\n",
    "                            mapbox_style=\"carto-positron\",\n",
    "                            zoom=9, center = {\"lat\": 55.7061, \"lon\": 12.5683},\n",
    "                            animation_frame='year',\n",
    "                            opacity=0.5,\n",
    "                            width=1000,\n",
    "                            height=700,\n",
    "                            labels={'year': 'Year', 'count': ''},\n",
    "                            title='<b>Average income per municipality per year (DKK)</b>'\n",
    ")\n",
    "fig.update_layout(margin={\"r\":0,\"l\":0, \"b\":0}, title_x=0.5)\n",
    "fig.layout.sliders[0].pad.t = 10\n",
    "fig.layout.updatemenus[0].pad.t = 10\n",
    "fig.layout.updatemenus[0].buttons[0].args[1][\"frame\"][\"duration\"] = 900\n",
    "fig.layout.updatemenus[0].buttons[0].args[1][\"transition\"][\"duration\"] = 900\n",
    "fig.write_html('cph_income_time_map.html')\n",
    "#fig.show()"
   ]
  },
  {
   "cell_type": "code",
   "execution_count": 69,
   "metadata": {},
   "outputs": [],
   "source": [
    "fig = px.choropleth_mapbox(df_hosp_days, geojson=counties, locations='municipality', featureidkey='properties.KOMNAVN', color='count',\n",
    "                            color_continuous_scale=\"hot_r\",\n",
    "                            range_color=(0.6, 1.3),\n",
    "                            mapbox_style=\"carto-positron\",\n",
    "                            zoom=9, center = {\"lat\": 55.7061, \"lon\": 12.5683},\n",
    "                            animation_frame='year',\n",
    "                            opacity=0.5,\n",
    "                            width=1000,\n",
    "                            height=700,\n",
    "                            labels={'year': 'Year', 'count': ''},\n",
    "                            title='<b>Weighted average of days spent in hospital per municipality per year</b>'\n",
    ")\n",
    "fig.update_layout(margin={\"r\":0,\"l\":0, \"b\":0}, title_x=0.5)\n",
    "fig.layout.sliders[0].pad.t = 10\n",
    "fig.layout.updatemenus[0].pad.t = 10\n",
    "fig.layout.updatemenus[0].buttons[0].args[1][\"frame\"][\"duration\"] = 900\n",
    "fig.layout.updatemenus[0].buttons[0].args[1][\"transition\"][\"duration\"] = 900\n",
    "fig.write_html('cph_hosp_days_time_map.html')\n",
    "#fig.show()"
   ]
  },
  {
   "cell_type": "code",
   "execution_count": 70,
   "metadata": {},
   "outputs": [],
   "source": [
    "fig = px.choropleth_mapbox(df_hosp_times, geojson=counties, locations='municipality', featureidkey='properties.KOMNAVN', color='count',\n",
    "                            color_continuous_scale=\"hot_r\",\n",
    "                            range_color=(0.14, 0.24),\n",
    "                            mapbox_style=\"carto-positron\",\n",
    "                            zoom=9, center = {\"lat\": 55.7061, \"lon\": 12.5683},\n",
    "                            animation_frame='year',\n",
    "                            opacity=0.5,\n",
    "                            width=1000,\n",
    "                            height=700,\n",
    "                            labels={'year': 'Year', 'count': ''},\n",
    "                            title='<b>Weighted average of times of hospitalizations per municipality per year</b>'\n",
    ")\n",
    "fig.update_layout(margin={\"r\":0,\"l\":0, \"b\":0}, title_x=0.5)\n",
    "fig.layout.sliders[0].pad.t = 10\n",
    "fig.layout.updatemenus[0].pad.t = 10\n",
    "fig.layout.updatemenus[0].buttons[0].args[1][\"frame\"][\"duration\"] = 900\n",
    "fig.layout.updatemenus[0].buttons[0].args[1][\"transition\"][\"duration\"] = 900\n",
    "fig.write_html('cph_hosp_times_time_map.html')\n",
    "#fig.show()"
   ]
  },
  {
   "cell_type": "code",
   "execution_count": null,
   "metadata": {},
   "outputs": [],
   "source": []
  }
 ],
 "metadata": {
  "kernelspec": {
   "display_name": "Python 3.9.16 ('base')",
   "language": "python",
   "name": "python3"
  },
  "language_info": {
   "codemirror_mode": {
    "name": "ipython",
    "version": 3
   },
   "file_extension": ".py",
   "mimetype": "text/x-python",
   "name": "python",
   "nbconvert_exporter": "python",
   "pygments_lexer": "ipython3",
   "version": "3.9.16"
  },
  "orig_nbformat": 4,
  "vscode": {
   "interpreter": {
    "hash": "4d8924c1b2505bdba90260062e9738e0000286674d2dd5e22ed396f570b10439"
   }
  }
 },
 "nbformat": 4,
 "nbformat_minor": 2
}
