{
 "cells": [
  {
   "attachments": {},
   "cell_type": "markdown",
   "metadata": {},
   "source": [
    "# Explainer Jupyter Notebook\n",
    "### A Copenhagen Data Story - Inequality in Health and Wealth\n",
    "Technical University of Denmark\n",
    "\n",
    "02806 Social Data Analysis and Visualization\n",
    "\n",
    "May 12, 2023\n",
    "* Søren Blatt Bendtsen\n",
    "* Vivién Varadi\n",
    "* Thomas Adamopoulos"
   ]
  },
  {
   "attachments": {},
   "cell_type": "markdown",
   "metadata": {},
   "source": [
    "# 1. Motivation\n",
    "\n",
    "As also mentioned in the article, our motivation to deap dive further into health and wealth in Copenhagen came from discussions on different views on life in Copenhagen. We were very motivated to look further into actual topics that we notice in our everyday life of living in Copenhagen. \n",
    "\n",
    "We have gathered our data set from the tool Velstand & Ulighed created by Rockwool Fonden. Rockwool Fonden uses data delivered by Danmark Statistik (DST) from their administrative register. The underlying data is therefore row based on individual people living in Denmark identifiable by their CPR-number [1]. The data publicly available to download from Rockwool Fonden's tool is aggregated on a yearly base for groups of the population.\n",
    "\n",
    "First of all, as this project is for the class \"Social Data Analysis and Visualization\", we wanted to have a social aspect on the project. And working with inequality has just that. Second of all, we chose to work with this specific data set as it has several interesting continous numerical attributes, as well as interesting demographic categorical attributes, that we imagined to find interesting trends within. We decided to work with the 20 municipalities located in the greater region of Copenhagen, as well as an average for the whole of Denmark.\n",
    "\n",
    "Our goal with this project was to bring facts into a discussion that is very often based on assumptions, opinions and what you are used to hearing in the news. We, among ourselves in the group, had discussions based on experience, and we believed that looking at the actual data within these topics, would bring a deeper dimension to our discussion. For the end user of the article, we wanted to create an article with interactive visualizations, where we would highlight the most important aspects, but that at the same time would allow the user dig down even further in the data."
   ]
  },
  {
   "attachments": {},
   "cell_type": "markdown",
   "metadata": {},
   "source": [
    "# 2. Basic stats and data preparation\n",
    "\n",
    "Quite a lot of data preparation and cleaning was required to create the final data set that we have worked on. This work has been done in four separate Jupyter Notebooks, as it required many lines of code. Among other things, the following have been done.\n",
    "\n",
    "* From the tool Velstand & Ulighed, we decided to download data sets for disposable income, number of days spent in the hospital and number of hospitalizations. Only small chunks of data could be downloaded at the time for small group of years, municipalities, ages, genders, educations and ethnicities and therefore many small data sets had to be merged together.\n",
    "* When downloading the data sets, the demographic variables were not named. This therefore had to be done for each small data set before merging them together.\n",
    "* Remove duplicates. Every chunk of data included an average for the total Denmark. Duplicates of this have been moved.\n",
    "* Translation from Danish to English\n",
    "* Matching of municipality code to actual municipality name\n",
    "* Weighted calculations: as the data is on an aggregated basis, we had to use the number of observations (included from Velstand & Ulighed) within each group in order to calculate a variety of weighted numbers, that can then be used when grouping by a combination of different variables.\n",
    "* Calculate Greater Copenhagen average. We wanted to compare the whole of Denmark to Copenhagen. For that reason we have calculated weighted averages for the Greater Copenhagen Region based on data from the 20 municipalities within Copenhagen.\n",
    "* Select relevant columns\n",
    "\n",
    "After doing the above work for the data sets related to Income, Days in Hospital and Number of Hospitalizations, they have at last been merged together to one complete data set called copenhagen_data.csv."
   ]
  },
  {
   "cell_type": "code",
   "execution_count": 113,
   "metadata": {},
   "outputs": [],
   "source": [
    "# import libraries\n",
    "# Used for working with dataframes and visualizing data\n",
    "import pandas as pd\n",
    "import numpy as np\n",
    "import matplotlib.pyplot as plt\n",
    "import plotly.express as px\n",
    "import plotly.graph_objs as go"
   ]
  },
  {
   "cell_type": "code",
   "execution_count": 98,
   "metadata": {},
   "outputs": [],
   "source": [
    "# Load data set and save to data frame\n",
    "df = pd.read_csv('copenhagen_data.csv')"
   ]
  },
  {
   "attachments": {},
   "cell_type": "markdown",
   "metadata": {},
   "source": [
    "At this point, we realized that there was many rows with Null Values. This was due to the data for Income, Days in Hospital and Number of Hospitalizations not being available for the same number of years and demographic groups. For that reason we are dropping missing values below."
   ]
  },
  {
   "cell_type": "code",
   "execution_count": null,
   "metadata": {},
   "outputs": [],
   "source": [
    "# Drop rows with missing values\n",
    "df_2= df.dropna()\n",
    "df_dk = df_2[df_2.municipality == 'Denmark']\n",
    "df_cph = df_2[df_2.municipality == 'Greater Copenhagen']"
   ]
  },
  {
   "attachments": {},
   "cell_type": "markdown",
   "metadata": {},
   "source": [
    "Why do we do one-hot encoding? And what is the purpose of the following box-plots? \n",
    "\n",
    "Let's consider what we include and show here. I think some plots of distributions etc. is a good idea, but let's consider what makes sence."
   ]
  },
  {
   "cell_type": "code",
   "execution_count": 5,
   "metadata": {},
   "outputs": [
    {
     "data": {
      "text/html": [
       "<div>\n",
       "<style scoped>\n",
       "    .dataframe tbody tr th:only-of-type {\n",
       "        vertical-align: middle;\n",
       "    }\n",
       "\n",
       "    .dataframe tbody tr th {\n",
       "        vertical-align: top;\n",
       "    }\n",
       "\n",
       "    .dataframe thead th {\n",
       "        text-align: right;\n",
       "    }\n",
       "</style>\n",
       "<table border=\"1\" class=\"dataframe\">\n",
       "  <thead>\n",
       "    <tr style=\"text-align: right;\">\n",
       "      <th></th>\n",
       "      <th>municipality</th>\n",
       "      <th>municipality code</th>\n",
       "      <th>year</th>\n",
       "      <th>age</th>\n",
       "      <th>ethnicity</th>\n",
       "      <th>education</th>\n",
       "      <th>income</th>\n",
       "      <th>income observations</th>\n",
       "      <th>weighted_inc_mun</th>\n",
       "      <th>days in hospital</th>\n",
       "      <th>days in hospital observations</th>\n",
       "      <th>weighted_hosp_days_mun</th>\n",
       "      <th>number of hospitalizations</th>\n",
       "      <th>number of hospitalizations observations</th>\n",
       "      <th>weighted_hospitalizations_mun</th>\n",
       "      <th>gender_Men</th>\n",
       "      <th>gender_Women</th>\n",
       "    </tr>\n",
       "  </thead>\n",
       "  <tbody>\n",
       "    <tr>\n",
       "      <th>0</th>\n",
       "      <td>Denmark</td>\n",
       "      <td>0</td>\n",
       "      <td>2005</td>\n",
       "      <td>18-29</td>\n",
       "      <td>Danish</td>\n",
       "      <td>Higher education</td>\n",
       "      <td>NaN</td>\n",
       "      <td>NaN</td>\n",
       "      <td>NaN</td>\n",
       "      <td>0.186</td>\n",
       "      <td>30425.0</td>\n",
       "      <td>0.001379</td>\n",
       "      <td>0.049</td>\n",
       "      <td>30425.0</td>\n",
       "      <td>0.000364</td>\n",
       "      <td>1</td>\n",
       "      <td>0</td>\n",
       "    </tr>\n",
       "    <tr>\n",
       "      <th>1</th>\n",
       "      <td>Denmark</td>\n",
       "      <td>0</td>\n",
       "      <td>2005</td>\n",
       "      <td>18-29</td>\n",
       "      <td>Danish</td>\n",
       "      <td>No higher education</td>\n",
       "      <td>NaN</td>\n",
       "      <td>NaN</td>\n",
       "      <td>NaN</td>\n",
       "      <td>0.269</td>\n",
       "      <td>296267.0</td>\n",
       "      <td>0.019420</td>\n",
       "      <td>0.076</td>\n",
       "      <td>296267.0</td>\n",
       "      <td>0.005493</td>\n",
       "      <td>1</td>\n",
       "      <td>0</td>\n",
       "    </tr>\n",
       "    <tr>\n",
       "      <th>2</th>\n",
       "      <td>Denmark</td>\n",
       "      <td>0</td>\n",
       "      <td>2005</td>\n",
       "      <td>18-29</td>\n",
       "      <td>Immigrants and descendants</td>\n",
       "      <td>Higher education</td>\n",
       "      <td>NaN</td>\n",
       "      <td>NaN</td>\n",
       "      <td>NaN</td>\n",
       "      <td>0.159</td>\n",
       "      <td>1925.0</td>\n",
       "      <td>0.000075</td>\n",
       "      <td>0.047</td>\n",
       "      <td>1925.0</td>\n",
       "      <td>0.000022</td>\n",
       "      <td>1</td>\n",
       "      <td>0</td>\n",
       "    </tr>\n",
       "    <tr>\n",
       "      <th>3</th>\n",
       "      <td>Denmark</td>\n",
       "      <td>0</td>\n",
       "      <td>2005</td>\n",
       "      <td>18-29</td>\n",
       "      <td>Immigrants and descendants</td>\n",
       "      <td>No higher education</td>\n",
       "      <td>NaN</td>\n",
       "      <td>NaN</td>\n",
       "      <td>NaN</td>\n",
       "      <td>0.256</td>\n",
       "      <td>26048.0</td>\n",
       "      <td>0.001625</td>\n",
       "      <td>0.078</td>\n",
       "      <td>26048.0</td>\n",
       "      <td>0.000496</td>\n",
       "      <td>1</td>\n",
       "      <td>0</td>\n",
       "    </tr>\n",
       "    <tr>\n",
       "      <th>4</th>\n",
       "      <td>Denmark</td>\n",
       "      <td>0</td>\n",
       "      <td>2005</td>\n",
       "      <td>18-29</td>\n",
       "      <td>Non-western immigrants and descendants</td>\n",
       "      <td>Higher education</td>\n",
       "      <td>NaN</td>\n",
       "      <td>NaN</td>\n",
       "      <td>NaN</td>\n",
       "      <td>0.155</td>\n",
       "      <td>1096.0</td>\n",
       "      <td>0.000041</td>\n",
       "      <td>0.047</td>\n",
       "      <td>1096.0</td>\n",
       "      <td>0.000013</td>\n",
       "      <td>1</td>\n",
       "      <td>0</td>\n",
       "    </tr>\n",
       "    <tr>\n",
       "      <th>...</th>\n",
       "      <td>...</td>\n",
       "      <td>...</td>\n",
       "      <td>...</td>\n",
       "      <td>...</td>\n",
       "      <td>...</td>\n",
       "      <td>...</td>\n",
       "      <td>...</td>\n",
       "      <td>...</td>\n",
       "      <td>...</td>\n",
       "      <td>...</td>\n",
       "      <td>...</td>\n",
       "      <td>...</td>\n",
       "      <td>...</td>\n",
       "      <td>...</td>\n",
       "      <td>...</td>\n",
       "      <td>...</td>\n",
       "      <td>...</td>\n",
       "    </tr>\n",
       "    <tr>\n",
       "      <th>39600</th>\n",
       "      <td>Greater Copenhagen</td>\n",
       "      <td>1</td>\n",
       "      <td>2020</td>\n",
       "      <td>60-65</td>\n",
       "      <td>Danish</td>\n",
       "      <td>No higher education</td>\n",
       "      <td>327995.938342</td>\n",
       "      <td>19143.0</td>\n",
       "      <td>9789.862554</td>\n",
       "      <td>NaN</td>\n",
       "      <td>NaN</td>\n",
       "      <td>NaN</td>\n",
       "      <td>NaN</td>\n",
       "      <td>NaN</td>\n",
       "      <td>NaN</td>\n",
       "      <td>0</td>\n",
       "      <td>1</td>\n",
       "    </tr>\n",
       "    <tr>\n",
       "      <th>39601</th>\n",
       "      <td>Greater Copenhagen</td>\n",
       "      <td>1</td>\n",
       "      <td>2020</td>\n",
       "      <td>60-65</td>\n",
       "      <td>Immigrants and descendants</td>\n",
       "      <td>Higher education</td>\n",
       "      <td>360832.894995</td>\n",
       "      <td>1075.0</td>\n",
       "      <td>604.801301</td>\n",
       "      <td>NaN</td>\n",
       "      <td>NaN</td>\n",
       "      <td>NaN</td>\n",
       "      <td>NaN</td>\n",
       "      <td>NaN</td>\n",
       "      <td>NaN</td>\n",
       "      <td>0</td>\n",
       "      <td>1</td>\n",
       "    </tr>\n",
       "    <tr>\n",
       "      <th>39602</th>\n",
       "      <td>Greater Copenhagen</td>\n",
       "      <td>1</td>\n",
       "      <td>2020</td>\n",
       "      <td>60-65</td>\n",
       "      <td>Immigrants and descendants</td>\n",
       "      <td>No higher education</td>\n",
       "      <td>233379.566602</td>\n",
       "      <td>2257.0</td>\n",
       "      <td>821.282403</td>\n",
       "      <td>NaN</td>\n",
       "      <td>NaN</td>\n",
       "      <td>NaN</td>\n",
       "      <td>NaN</td>\n",
       "      <td>NaN</td>\n",
       "      <td>NaN</td>\n",
       "      <td>0</td>\n",
       "      <td>1</td>\n",
       "    </tr>\n",
       "    <tr>\n",
       "      <th>39603</th>\n",
       "      <td>Greater Copenhagen</td>\n",
       "      <td>1</td>\n",
       "      <td>2020</td>\n",
       "      <td>60-65</td>\n",
       "      <td>Non-western immigrants and descendants</td>\n",
       "      <td>Higher education</td>\n",
       "      <td>258666.804848</td>\n",
       "      <td>369.0</td>\n",
       "      <td>148.821334</td>\n",
       "      <td>NaN</td>\n",
       "      <td>NaN</td>\n",
       "      <td>NaN</td>\n",
       "      <td>NaN</td>\n",
       "      <td>NaN</td>\n",
       "      <td>NaN</td>\n",
       "      <td>0</td>\n",
       "      <td>1</td>\n",
       "    </tr>\n",
       "    <tr>\n",
       "      <th>39604</th>\n",
       "      <td>Greater Copenhagen</td>\n",
       "      <td>1</td>\n",
       "      <td>2020</td>\n",
       "      <td>60-65</td>\n",
       "      <td>Non-western immigrants and descendants</td>\n",
       "      <td>No higher education</td>\n",
       "      <td>209047.890537</td>\n",
       "      <td>1352.0</td>\n",
       "      <td>440.677230</td>\n",
       "      <td>NaN</td>\n",
       "      <td>NaN</td>\n",
       "      <td>NaN</td>\n",
       "      <td>NaN</td>\n",
       "      <td>NaN</td>\n",
       "      <td>NaN</td>\n",
       "      <td>0</td>\n",
       "      <td>1</td>\n",
       "    </tr>\n",
       "  </tbody>\n",
       "</table>\n",
       "<p>39605 rows × 17 columns</p>\n",
       "</div>"
      ],
      "text/plain": [
       "             municipality  municipality code  year    age  \\\n",
       "0                 Denmark                  0  2005  18-29   \n",
       "1                 Denmark                  0  2005  18-29   \n",
       "2                 Denmark                  0  2005  18-29   \n",
       "3                 Denmark                  0  2005  18-29   \n",
       "4                 Denmark                  0  2005  18-29   \n",
       "...                   ...                ...   ...    ...   \n",
       "39600  Greater Copenhagen                  1  2020  60-65   \n",
       "39601  Greater Copenhagen                  1  2020  60-65   \n",
       "39602  Greater Copenhagen                  1  2020  60-65   \n",
       "39603  Greater Copenhagen                  1  2020  60-65   \n",
       "39604  Greater Copenhagen                  1  2020  60-65   \n",
       "\n",
       "                                    ethnicity            education  \\\n",
       "0                                      Danish     Higher education   \n",
       "1                                      Danish  No higher education   \n",
       "2                  Immigrants and descendants     Higher education   \n",
       "3                  Immigrants and descendants  No higher education   \n",
       "4      Non-western immigrants and descendants     Higher education   \n",
       "...                                       ...                  ...   \n",
       "39600                                  Danish  No higher education   \n",
       "39601              Immigrants and descendants     Higher education   \n",
       "39602              Immigrants and descendants  No higher education   \n",
       "39603  Non-western immigrants and descendants     Higher education   \n",
       "39604  Non-western immigrants and descendants  No higher education   \n",
       "\n",
       "              income  income observations  weighted_inc_mun  days in hospital  \\\n",
       "0                NaN                  NaN               NaN             0.186   \n",
       "1                NaN                  NaN               NaN             0.269   \n",
       "2                NaN                  NaN               NaN             0.159   \n",
       "3                NaN                  NaN               NaN             0.256   \n",
       "4                NaN                  NaN               NaN             0.155   \n",
       "...              ...                  ...               ...               ...   \n",
       "39600  327995.938342              19143.0       9789.862554               NaN   \n",
       "39601  360832.894995               1075.0        604.801301               NaN   \n",
       "39602  233379.566602               2257.0        821.282403               NaN   \n",
       "39603  258666.804848                369.0        148.821334               NaN   \n",
       "39604  209047.890537               1352.0        440.677230               NaN   \n",
       "\n",
       "       days in hospital observations  weighted_hosp_days_mun  \\\n",
       "0                            30425.0                0.001379   \n",
       "1                           296267.0                0.019420   \n",
       "2                             1925.0                0.000075   \n",
       "3                            26048.0                0.001625   \n",
       "4                             1096.0                0.000041   \n",
       "...                              ...                     ...   \n",
       "39600                            NaN                     NaN   \n",
       "39601                            NaN                     NaN   \n",
       "39602                            NaN                     NaN   \n",
       "39603                            NaN                     NaN   \n",
       "39604                            NaN                     NaN   \n",
       "\n",
       "       number of hospitalizations  number of hospitalizations observations  \\\n",
       "0                           0.049                                  30425.0   \n",
       "1                           0.076                                 296267.0   \n",
       "2                           0.047                                   1925.0   \n",
       "3                           0.078                                  26048.0   \n",
       "4                           0.047                                   1096.0   \n",
       "...                           ...                                      ...   \n",
       "39600                         NaN                                      NaN   \n",
       "39601                         NaN                                      NaN   \n",
       "39602                         NaN                                      NaN   \n",
       "39603                         NaN                                      NaN   \n",
       "39604                         NaN                                      NaN   \n",
       "\n",
       "       weighted_hospitalizations_mun  gender_Men  gender_Women  \n",
       "0                           0.000364           1             0  \n",
       "1                           0.005493           1             0  \n",
       "2                           0.000022           1             0  \n",
       "3                           0.000496           1             0  \n",
       "4                           0.000013           1             0  \n",
       "...                              ...         ...           ...  \n",
       "39600                            NaN           0             1  \n",
       "39601                            NaN           0             1  \n",
       "39602                            NaN           0             1  \n",
       "39603                            NaN           0             1  \n",
       "39604                            NaN           0             1  \n",
       "\n",
       "[39605 rows x 17 columns]"
      ]
     },
     "execution_count": 5,
     "metadata": {},
     "output_type": "execute_result"
    }
   ],
   "source": [
    "# Perform one-hot encoding on the 'gender' column\n",
    "one_hot_encoded_gender = pd.get_dummies(df.gender, prefix='gender')\n",
    "\n",
    "# Concatenate the one-hot encoded columns to the original DataFrame\n",
    "df_gender = pd.concat([df.drop('gender', axis=1), one_hot_encoded_gender], axis=1)\n",
    "df_gender\n"
   ]
  },
  {
   "cell_type": "code",
   "execution_count": 6,
   "metadata": {},
   "outputs": [],
   "source": [
    "women_dk = df[(df.gender == 'Women') & (df.municipality == 'Denmark')]\n",
    "women_cph = df[(df.gender == 'Women') & (df.municipality == 'Greater Copenhagen')]"
   ]
  },
  {
   "cell_type": "code",
   "execution_count": 7,
   "metadata": {},
   "outputs": [
    {
     "data": {
      "text/plain": [
       "municipality                                 0\n",
       "municipality code                            0\n",
       "year                                         0\n",
       "gender                                       0\n",
       "age                                          0\n",
       "ethnicity                                    0\n",
       "education                                    0\n",
       "income                                      84\n",
       "income observations                         84\n",
       "weighted_inc_mun                            84\n",
       "days in hospital                           480\n",
       "days in hospital observations              480\n",
       "weighted_hosp_days_mun                     480\n",
       "number of hospitalizations                 480\n",
       "number of hospitalizations observations    480\n",
       "weighted_hospitalizations_mun              480\n",
       "dtype: int64"
      ]
     },
     "execution_count": 7,
     "metadata": {},
     "output_type": "execute_result"
    }
   ],
   "source": [
    "women_cph.isnull().sum()"
   ]
  },
  {
   "cell_type": "code",
   "execution_count": 8,
   "metadata": {},
   "outputs": [
    {
     "data": {
      "text/plain": [
       "municipality                                 0\n",
       "municipality code                            0\n",
       "year                                         0\n",
       "gender                                       0\n",
       "age                                          0\n",
       "ethnicity                                    0\n",
       "education                                    0\n",
       "income                                      84\n",
       "income observations                         84\n",
       "weighted_inc_mun                            84\n",
       "days in hospital                           480\n",
       "days in hospital observations              480\n",
       "weighted_hosp_days_mun                     480\n",
       "number of hospitalizations                 480\n",
       "number of hospitalizations observations    480\n",
       "weighted_hospitalizations_mun              480\n",
       "dtype: int64"
      ]
     },
     "execution_count": 8,
     "metadata": {},
     "output_type": "execute_result"
    }
   ],
   "source": [
    "women_dk.isnull().sum()"
   ]
  },
  {
   "cell_type": "code",
   "execution_count": 9,
   "metadata": {},
   "outputs": [
    {
     "data": {
      "text/html": [
       "<div>\n",
       "<style scoped>\n",
       "    .dataframe tbody tr th:only-of-type {\n",
       "        vertical-align: middle;\n",
       "    }\n",
       "\n",
       "    .dataframe tbody tr th {\n",
       "        vertical-align: top;\n",
       "    }\n",
       "\n",
       "    .dataframe thead th {\n",
       "        text-align: right;\n",
       "    }\n",
       "</style>\n",
       "<table border=\"1\" class=\"dataframe\">\n",
       "  <thead>\n",
       "    <tr style=\"text-align: right;\">\n",
       "      <th></th>\n",
       "      <th>municipality code</th>\n",
       "      <th>year</th>\n",
       "      <th>income</th>\n",
       "      <th>income observations</th>\n",
       "      <th>weighted_inc_mun</th>\n",
       "      <th>days in hospital</th>\n",
       "      <th>days in hospital observations</th>\n",
       "      <th>weighted_hosp_days_mun</th>\n",
       "      <th>number of hospitalizations</th>\n",
       "      <th>number of hospitalizations observations</th>\n",
       "      <th>weighted_hospitalizations_mun</th>\n",
       "    </tr>\n",
       "  </thead>\n",
       "  <tbody>\n",
       "    <tr>\n",
       "      <th>count</th>\n",
       "      <td>900.0</td>\n",
       "      <td>900.000000</td>\n",
       "      <td>816.000000</td>\n",
       "      <td>816.000000</td>\n",
       "      <td>816.000000</td>\n",
       "      <td>420.000000</td>\n",
       "      <td>420.000000</td>\n",
       "      <td>420.000000</td>\n",
       "      <td>420.000000</td>\n",
       "      <td>420.000000</td>\n",
       "      <td>420.000000</td>\n",
       "    </tr>\n",
       "    <tr>\n",
       "      <th>mean</th>\n",
       "      <td>0.0</td>\n",
       "      <td>2004.246667</td>\n",
       "      <td>231148.001544</td>\n",
       "      <td>50582.045343</td>\n",
       "      <td>5242.652856</td>\n",
       "      <td>0.688081</td>\n",
       "      <td>73545.061905</td>\n",
       "      <td>0.016225</td>\n",
       "      <td>0.175255</td>\n",
       "      <td>73545.061905</td>\n",
       "      <td>0.003613</td>\n",
       "    </tr>\n",
       "    <tr>\n",
       "      <th>std</th>\n",
       "      <td>0.0</td>\n",
       "      <td>9.711021</td>\n",
       "      <td>54344.204847</td>\n",
       "      <td>75442.268114</td>\n",
       "      <td>7776.173635</td>\n",
       "      <td>0.523846</td>\n",
       "      <td>115823.896253</td>\n",
       "      <td>0.047336</td>\n",
       "      <td>0.076952</td>\n",
       "      <td>115823.896253</td>\n",
       "      <td>0.008649</td>\n",
       "    </tr>\n",
       "    <tr>\n",
       "      <th>min</th>\n",
       "      <td>0.0</td>\n",
       "      <td>1987.000000</td>\n",
       "      <td>132744.213000</td>\n",
       "      <td>95.000000</td>\n",
       "      <td>10.842936</td>\n",
       "      <td>0.146000</td>\n",
       "      <td>739.000000</td>\n",
       "      <td>0.000136</td>\n",
       "      <td>0.064000</td>\n",
       "      <td>739.000000</td>\n",
       "      <td>0.000046</td>\n",
       "    </tr>\n",
       "    <tr>\n",
       "      <th>25%</th>\n",
       "      <td>0.0</td>\n",
       "      <td>1996.000000</td>\n",
       "      <td>187093.794000</td>\n",
       "      <td>3094.000000</td>\n",
       "      <td>273.547178</td>\n",
       "      <td>0.360750</td>\n",
       "      <td>6866.750000</td>\n",
       "      <td>0.000811</td>\n",
       "      <td>0.124750</td>\n",
       "      <td>6866.750000</td>\n",
       "      <td>0.000226</td>\n",
       "    </tr>\n",
       "    <tr>\n",
       "      <th>50%</th>\n",
       "      <td>0.0</td>\n",
       "      <td>2005.000000</td>\n",
       "      <td>223897.277000</td>\n",
       "      <td>8358.500000</td>\n",
       "      <td>754.998928</td>\n",
       "      <td>0.487000</td>\n",
       "      <td>15870.500000</td>\n",
       "      <td>0.001970</td>\n",
       "      <td>0.153000</td>\n",
       "      <td>15870.500000</td>\n",
       "      <td>0.000608</td>\n",
       "    </tr>\n",
       "    <tr>\n",
       "      <th>75%</th>\n",
       "      <td>0.0</td>\n",
       "      <td>2013.000000</td>\n",
       "      <td>262636.062750</td>\n",
       "      <td>92572.500000</td>\n",
       "      <td>10046.301530</td>\n",
       "      <td>0.733500</td>\n",
       "      <td>119248.000000</td>\n",
       "      <td>0.011903</td>\n",
       "      <td>0.184000</td>\n",
       "      <td>119248.000000</td>\n",
       "      <td>0.003465</td>\n",
       "    </tr>\n",
       "    <tr>\n",
       "      <th>max</th>\n",
       "      <td>0.0</td>\n",
       "      <td>2020.000000</td>\n",
       "      <td>432689.526000</td>\n",
       "      <td>271526.000000</td>\n",
       "      <td>28641.438926</td>\n",
       "      <td>2.549000</td>\n",
       "      <td>566835.000000</td>\n",
       "      <td>0.293683</td>\n",
       "      <td>0.408000</td>\n",
       "      <td>566835.000000</td>\n",
       "      <td>0.051088</td>\n",
       "    </tr>\n",
       "  </tbody>\n",
       "</table>\n",
       "</div>"
      ],
      "text/plain": [
       "       municipality code         year         income  income observations  \\\n",
       "count              900.0   900.000000     816.000000           816.000000   \n",
       "mean                 0.0  2004.246667  231148.001544         50582.045343   \n",
       "std                  0.0     9.711021   54344.204847         75442.268114   \n",
       "min                  0.0  1987.000000  132744.213000            95.000000   \n",
       "25%                  0.0  1996.000000  187093.794000          3094.000000   \n",
       "50%                  0.0  2005.000000  223897.277000          8358.500000   \n",
       "75%                  0.0  2013.000000  262636.062750         92572.500000   \n",
       "max                  0.0  2020.000000  432689.526000        271526.000000   \n",
       "\n",
       "       weighted_inc_mun  days in hospital  days in hospital observations  \\\n",
       "count        816.000000        420.000000                     420.000000   \n",
       "mean        5242.652856          0.688081                   73545.061905   \n",
       "std         7776.173635          0.523846                  115823.896253   \n",
       "min           10.842936          0.146000                     739.000000   \n",
       "25%          273.547178          0.360750                    6866.750000   \n",
       "50%          754.998928          0.487000                   15870.500000   \n",
       "75%        10046.301530          0.733500                  119248.000000   \n",
       "max        28641.438926          2.549000                  566835.000000   \n",
       "\n",
       "       weighted_hosp_days_mun  number of hospitalizations  \\\n",
       "count              420.000000                  420.000000   \n",
       "mean                 0.016225                    0.175255   \n",
       "std                  0.047336                    0.076952   \n",
       "min                  0.000136                    0.064000   \n",
       "25%                  0.000811                    0.124750   \n",
       "50%                  0.001970                    0.153000   \n",
       "75%                  0.011903                    0.184000   \n",
       "max                  0.293683                    0.408000   \n",
       "\n",
       "       number of hospitalizations observations  weighted_hospitalizations_mun  \n",
       "count                               420.000000                     420.000000  \n",
       "mean                              73545.061905                       0.003613  \n",
       "std                              115823.896253                       0.008649  \n",
       "min                                 739.000000                       0.000046  \n",
       "25%                                6866.750000                       0.000226  \n",
       "50%                               15870.500000                       0.000608  \n",
       "75%                              119248.000000                       0.003465  \n",
       "max                              566835.000000                       0.051088  "
      ]
     },
     "execution_count": 9,
     "metadata": {},
     "output_type": "execute_result"
    }
   ],
   "source": [
    "women_dk.describe()"
   ]
  },
  {
   "cell_type": "code",
   "execution_count": 10,
   "metadata": {},
   "outputs": [
    {
     "data": {
      "text/html": [
       "<div>\n",
       "<style scoped>\n",
       "    .dataframe tbody tr th:only-of-type {\n",
       "        vertical-align: middle;\n",
       "    }\n",
       "\n",
       "    .dataframe tbody tr th {\n",
       "        vertical-align: top;\n",
       "    }\n",
       "\n",
       "    .dataframe thead th {\n",
       "        text-align: right;\n",
       "    }\n",
       "</style>\n",
       "<table border=\"1\" class=\"dataframe\">\n",
       "  <thead>\n",
       "    <tr style=\"text-align: right;\">\n",
       "      <th></th>\n",
       "      <th>municipality code</th>\n",
       "      <th>year</th>\n",
       "      <th>income</th>\n",
       "      <th>income observations</th>\n",
       "      <th>weighted_inc_mun</th>\n",
       "      <th>days in hospital</th>\n",
       "      <th>days in hospital observations</th>\n",
       "      <th>weighted_hosp_days_mun</th>\n",
       "      <th>number of hospitalizations</th>\n",
       "      <th>number of hospitalizations observations</th>\n",
       "      <th>weighted_hospitalizations_mun</th>\n",
       "    </tr>\n",
       "  </thead>\n",
       "  <tbody>\n",
       "    <tr>\n",
       "      <th>count</th>\n",
       "      <td>900.0</td>\n",
       "      <td>900.000000</td>\n",
       "      <td>816.000000</td>\n",
       "      <td>816.000000</td>\n",
       "      <td>816.000000</td>\n",
       "      <td>420.000000</td>\n",
       "      <td>420.000000</td>\n",
       "      <td>420.000000</td>\n",
       "      <td>420.000000</td>\n",
       "      <td>420.000000</td>\n",
       "      <td>420.000000</td>\n",
       "    </tr>\n",
       "    <tr>\n",
       "      <th>mean</th>\n",
       "      <td>1.0</td>\n",
       "      <td>2004.246667</td>\n",
       "      <td>227421.468557</td>\n",
       "      <td>12102.427696</td>\n",
       "      <td>5495.549291</td>\n",
       "      <td>0.748357</td>\n",
       "      <td>18396.780952</td>\n",
       "      <td>0.016753</td>\n",
       "      <td>0.187238</td>\n",
       "      <td>18396.780952</td>\n",
       "      <td>0.003720</td>\n",
       "    </tr>\n",
       "    <tr>\n",
       "      <th>std</th>\n",
       "      <td>0.0</td>\n",
       "      <td>9.711021</td>\n",
       "      <td>73910.812681</td>\n",
       "      <td>16153.552222</td>\n",
       "      <td>7530.139170</td>\n",
       "      <td>0.649131</td>\n",
       "      <td>23544.299073</td>\n",
       "      <td>0.046669</td>\n",
       "      <td>0.092704</td>\n",
       "      <td>23544.299073</td>\n",
       "      <td>0.007929</td>\n",
       "    </tr>\n",
       "    <tr>\n",
       "      <th>min</th>\n",
       "      <td>1.0</td>\n",
       "      <td>1987.000000</td>\n",
       "      <td>0.000000</td>\n",
       "      <td>0.000000</td>\n",
       "      <td>0.000000</td>\n",
       "      <td>0.142508</td>\n",
       "      <td>189.000000</td>\n",
       "      <td>0.000116</td>\n",
       "      <td>0.070749</td>\n",
       "      <td>189.000000</td>\n",
       "      <td>0.000040</td>\n",
       "    </tr>\n",
       "    <tr>\n",
       "      <th>25%</th>\n",
       "      <td>1.0</td>\n",
       "      <td>1996.000000</td>\n",
       "      <td>183312.118565</td>\n",
       "      <td>934.250000</td>\n",
       "      <td>362.998452</td>\n",
       "      <td>0.349352</td>\n",
       "      <td>2943.250000</td>\n",
       "      <td>0.001316</td>\n",
       "      <td>0.127060</td>\n",
       "      <td>2943.250000</td>\n",
       "      <td>0.000420</td>\n",
       "    </tr>\n",
       "    <tr>\n",
       "      <th>50%</th>\n",
       "      <td>1.0</td>\n",
       "      <td>2005.000000</td>\n",
       "      <td>219904.990893</td>\n",
       "      <td>3262.000000</td>\n",
       "      <td>1232.432108</td>\n",
       "      <td>0.496680</td>\n",
       "      <td>6892.000000</td>\n",
       "      <td>0.003411</td>\n",
       "      <td>0.159697</td>\n",
       "      <td>6892.000000</td>\n",
       "      <td>0.001144</td>\n",
       "    </tr>\n",
       "    <tr>\n",
       "      <th>75%</th>\n",
       "      <td>1.0</td>\n",
       "      <td>2013.000000</td>\n",
       "      <td>269361.221787</td>\n",
       "      <td>22497.750000</td>\n",
       "      <td>10117.321605</td>\n",
       "      <td>0.756136</td>\n",
       "      <td>29409.000000</td>\n",
       "      <td>0.013196</td>\n",
       "      <td>0.200414</td>\n",
       "      <td>29409.000000</td>\n",
       "      <td>0.003842</td>\n",
       "    </tr>\n",
       "    <tr>\n",
       "      <th>max</th>\n",
       "      <td>1.0</td>\n",
       "      <td>2020.000000</td>\n",
       "      <td>481647.943619</td>\n",
       "      <td>58907.000000</td>\n",
       "      <td>27843.156313</td>\n",
       "      <td>3.033039</td>\n",
       "      <td>104615.000000</td>\n",
       "      <td>0.304670</td>\n",
       "      <td>0.505179</td>\n",
       "      <td>104615.000000</td>\n",
       "      <td>0.046701</td>\n",
       "    </tr>\n",
       "  </tbody>\n",
       "</table>\n",
       "</div>"
      ],
      "text/plain": [
       "       municipality code         year         income  income observations  \\\n",
       "count              900.0   900.000000     816.000000           816.000000   \n",
       "mean                 1.0  2004.246667  227421.468557         12102.427696   \n",
       "std                  0.0     9.711021   73910.812681         16153.552222   \n",
       "min                  1.0  1987.000000       0.000000             0.000000   \n",
       "25%                  1.0  1996.000000  183312.118565           934.250000   \n",
       "50%                  1.0  2005.000000  219904.990893          3262.000000   \n",
       "75%                  1.0  2013.000000  269361.221787         22497.750000   \n",
       "max                  1.0  2020.000000  481647.943619         58907.000000   \n",
       "\n",
       "       weighted_inc_mun  days in hospital  days in hospital observations  \\\n",
       "count        816.000000        420.000000                     420.000000   \n",
       "mean        5495.549291          0.748357                   18396.780952   \n",
       "std         7530.139170          0.649131                   23544.299073   \n",
       "min            0.000000          0.142508                     189.000000   \n",
       "25%          362.998452          0.349352                    2943.250000   \n",
       "50%         1232.432108          0.496680                    6892.000000   \n",
       "75%        10117.321605          0.756136                   29409.000000   \n",
       "max        27843.156313          3.033039                  104615.000000   \n",
       "\n",
       "       weighted_hosp_days_mun  number of hospitalizations  \\\n",
       "count              420.000000                  420.000000   \n",
       "mean                 0.016753                    0.187238   \n",
       "std                  0.046669                    0.092704   \n",
       "min                  0.000116                    0.070749   \n",
       "25%                  0.001316                    0.127060   \n",
       "50%                  0.003411                    0.159697   \n",
       "75%                  0.013196                    0.200414   \n",
       "max                  0.304670                    0.505179   \n",
       "\n",
       "       number of hospitalizations observations  weighted_hospitalizations_mun  \n",
       "count                               420.000000                     420.000000  \n",
       "mean                              18396.780952                       0.003720  \n",
       "std                               23544.299073                       0.007929  \n",
       "min                                 189.000000                       0.000040  \n",
       "25%                                2943.250000                       0.000420  \n",
       "50%                                6892.000000                       0.001144  \n",
       "75%                               29409.000000                       0.003842  \n",
       "max                              104615.000000                       0.046701  "
      ]
     },
     "execution_count": 10,
     "metadata": {},
     "output_type": "execute_result"
    }
   ],
   "source": [
    "women_cph.describe()"
   ]
  },
  {
   "cell_type": "code",
   "execution_count": 11,
   "metadata": {},
   "outputs": [
    {
     "data": {
      "image/png": "[encoded data removed]",
      "text/plain": [
       "<Figure size 1000x600 with 1 Axes>"
      ]
     },
     "metadata": {},
     "output_type": "display_data"
    },
    {
     "data": {
      "image/png": "[encoded data removed]",
      "text/plain": [
       "<Figure size 1000x600 with 1 Axes>"
      ]
     },
     "metadata": {},
     "output_type": "display_data"
    }
   ],
   "source": [
    "plt.figure(figsize= (10,6))\n",
    "women_dk.boxplot()\n",
    "plt.xticks(rotation=45)\n",
    "plt.title('Women in Denmark features boxplot')\n",
    "plt.show()\n",
    "\n",
    "plt.figure(figsize= (10,6))\n",
    "women_cph.boxplot()\n",
    "plt.xticks(rotation=45)\n",
    "plt.title('Women in Copenhagen features boxplot ')\n",
    "plt.show()"
   ]
  },
  {
   "cell_type": "code",
   "execution_count": 12,
   "metadata": {},
   "outputs": [],
   "source": [
    "women_dk_drop = women_dk.dropna()\n",
    "women_cph_drop = women_cph.dropna()"
   ]
  },
  {
   "cell_type": "code",
   "execution_count": 103,
   "metadata": {},
   "outputs": [
    {
     "data": {
      "text/html": [
       "<div>\n",
       "<style scoped>\n",
       "    .dataframe tbody tr th:only-of-type {\n",
       "        vertical-align: middle;\n",
       "    }\n",
       "\n",
       "    .dataframe tbody tr th {\n",
       "        vertical-align: top;\n",
       "    }\n",
       "\n",
       "    .dataframe thead th {\n",
       "        text-align: right;\n",
       "    }\n",
       "</style>\n",
       "<table border=\"1\" class=\"dataframe\">\n",
       "  <thead>\n",
       "    <tr style=\"text-align: right;\">\n",
       "      <th></th>\n",
       "      <th>municipality</th>\n",
       "      <th>municipality code</th>\n",
       "      <th>year</th>\n",
       "      <th>gender</th>\n",
       "      <th>age</th>\n",
       "      <th>ethnicity</th>\n",
       "      <th>education</th>\n",
       "      <th>income</th>\n",
       "      <th>income observations</th>\n",
       "      <th>weighted_inc_mun</th>\n",
       "      <th>...</th>\n",
       "      <th>weighted_days_age_mun</th>\n",
       "      <th>weighted_days_eth_mun</th>\n",
       "      <th>weighted_days_edu_mun</th>\n",
       "      <th>number of hospitalizations</th>\n",
       "      <th>number of hospitalizations observations</th>\n",
       "      <th>weighted_hospitalizations_mun</th>\n",
       "      <th>weighted_hosp_gen_mun</th>\n",
       "      <th>weighted_hosp_age_mun</th>\n",
       "      <th>weighted_hosp_eth_mun</th>\n",
       "      <th>weighted_hosp_edu_mun</th>\n",
       "    </tr>\n",
       "  </thead>\n",
       "  <tbody>\n",
       "    <tr>\n",
       "      <th>6</th>\n",
       "      <td>Denmark</td>\n",
       "      <td>0</td>\n",
       "      <td>2005</td>\n",
       "      <td>Men</td>\n",
       "      <td>30-39</td>\n",
       "      <td>Danish</td>\n",
       "      <td>Higher education</td>\n",
       "      <td>271510.362</td>\n",
       "      <td>98566.0</td>\n",
       "      <td>10707.481497</td>\n",
       "      <td>...</td>\n",
       "      <td>0.028632</td>\n",
       "      <td>0.005907</td>\n",
       "      <td>0.023621</td>\n",
       "      <td>0.056</td>\n",
       "      <td>103551.0</td>\n",
       "      <td>0.001415</td>\n",
       "      <td>0.002864</td>\n",
       "      <td>0.007458</td>\n",
       "      <td>0.001539</td>\n",
       "      <td>0.006177</td>\n",
       "    </tr>\n",
       "    <tr>\n",
       "      <th>7</th>\n",
       "      <td>Denmark</td>\n",
       "      <td>0</td>\n",
       "      <td>2005</td>\n",
       "      <td>Men</td>\n",
       "      <td>30-39</td>\n",
       "      <td>Danish</td>\n",
       "      <td>No higher education</td>\n",
       "      <td>218419.246</td>\n",
       "      <td>229065.0</td>\n",
       "      <td>20018.126583</td>\n",
       "      <td>...</td>\n",
       "      <td>0.123671</td>\n",
       "      <td>0.025516</td>\n",
       "      <td>0.030419</td>\n",
       "      <td>0.096</td>\n",
       "      <td>249125.0</td>\n",
       "      <td>0.005835</td>\n",
       "      <td>0.011811</td>\n",
       "      <td>0.030758</td>\n",
       "      <td>0.006346</td>\n",
       "      <td>0.007568</td>\n",
       "    </tr>\n",
       "    <tr>\n",
       "      <th>8</th>\n",
       "      <td>Denmark</td>\n",
       "      <td>0</td>\n",
       "      <td>2005</td>\n",
       "      <td>Men</td>\n",
       "      <td>30-39</td>\n",
       "      <td>Immigrants and descendants</td>\n",
       "      <td>Higher education</td>\n",
       "      <td>220190.110</td>\n",
       "      <td>5813.0</td>\n",
       "      <td>512.120219</td>\n",
       "      <td>...</td>\n",
       "      <td>0.001691</td>\n",
       "      <td>0.006485</td>\n",
       "      <td>0.001395</td>\n",
       "      <td>0.062</td>\n",
       "      <td>6508.0</td>\n",
       "      <td>0.000098</td>\n",
       "      <td>0.000199</td>\n",
       "      <td>0.000519</td>\n",
       "      <td>0.001990</td>\n",
       "      <td>0.000430</td>\n",
       "    </tr>\n",
       "    <tr>\n",
       "      <th>9</th>\n",
       "      <td>Denmark</td>\n",
       "      <td>0</td>\n",
       "      <td>2005</td>\n",
       "      <td>Men</td>\n",
       "      <td>30-39</td>\n",
       "      <td>Immigrants and descendants</td>\n",
       "      <td>No higher education</td>\n",
       "      <td>169031.486</td>\n",
       "      <td>14256.0</td>\n",
       "      <td>964.137750</td>\n",
       "      <td>...</td>\n",
       "      <td>0.007378</td>\n",
       "      <td>0.028302</td>\n",
       "      <td>0.001815</td>\n",
       "      <td>0.094</td>\n",
       "      <td>15981.0</td>\n",
       "      <td>0.000366</td>\n",
       "      <td>0.000742</td>\n",
       "      <td>0.001932</td>\n",
       "      <td>0.007411</td>\n",
       "      <td>0.000475</td>\n",
       "    </tr>\n",
       "    <tr>\n",
       "      <th>10</th>\n",
       "      <td>Denmark</td>\n",
       "      <td>0</td>\n",
       "      <td>2005</td>\n",
       "      <td>Men</td>\n",
       "      <td>30-39</td>\n",
       "      <td>Non-western immigrants and descendants</td>\n",
       "      <td>Higher education</td>\n",
       "      <td>190374.958</td>\n",
       "      <td>3201.0</td>\n",
       "      <td>243.819977</td>\n",
       "      <td>...</td>\n",
       "      <td>0.001208</td>\n",
       "      <td>0.007099</td>\n",
       "      <td>0.000997</td>\n",
       "      <td>0.079</td>\n",
       "      <td>3532.0</td>\n",
       "      <td>0.000068</td>\n",
       "      <td>0.000138</td>\n",
       "      <td>0.000359</td>\n",
       "      <td>0.002188</td>\n",
       "      <td>0.000297</td>\n",
       "    </tr>\n",
       "    <tr>\n",
       "      <th>...</th>\n",
       "      <td>...</td>\n",
       "      <td>...</td>\n",
       "      <td>...</td>\n",
       "      <td>...</td>\n",
       "      <td>...</td>\n",
       "      <td>...</td>\n",
       "      <td>...</td>\n",
       "      <td>...</td>\n",
       "      <td>...</td>\n",
       "      <td>...</td>\n",
       "      <td>...</td>\n",
       "      <td>...</td>\n",
       "      <td>...</td>\n",
       "      <td>...</td>\n",
       "      <td>...</td>\n",
       "      <td>...</td>\n",
       "      <td>...</td>\n",
       "      <td>...</td>\n",
       "      <td>...</td>\n",
       "      <td>...</td>\n",
       "      <td>...</td>\n",
       "    </tr>\n",
       "    <tr>\n",
       "      <th>863</th>\n",
       "      <td>Denmark</td>\n",
       "      <td>0</td>\n",
       "      <td>2018</td>\n",
       "      <td>Women</td>\n",
       "      <td>60-65</td>\n",
       "      <td>Danish</td>\n",
       "      <td>No higher education</td>\n",
       "      <td>287411.536</td>\n",
       "      <td>118749.0</td>\n",
       "      <td>13983.567277</td>\n",
       "      <td>...</td>\n",
       "      <td>0.660747</td>\n",
       "      <td>0.248846</td>\n",
       "      <td>0.310743</td>\n",
       "      <td>0.379</td>\n",
       "      <td>566835.0</td>\n",
       "      <td>0.046714</td>\n",
       "      <td>0.092133</td>\n",
       "      <td>0.143862</td>\n",
       "      <td>0.053739</td>\n",
       "      <td>0.067189</td>\n",
       "    </tr>\n",
       "    <tr>\n",
       "      <th>864</th>\n",
       "      <td>Denmark</td>\n",
       "      <td>0</td>\n",
       "      <td>2018</td>\n",
       "      <td>Women</td>\n",
       "      <td>60-65</td>\n",
       "      <td>Immigrants and descendants</td>\n",
       "      <td>Higher education</td>\n",
       "      <td>321121.430</td>\n",
       "      <td>3182.0</td>\n",
       "      <td>418.652110</td>\n",
       "      <td>...</td>\n",
       "      <td>0.007328</td>\n",
       "      <td>0.030444</td>\n",
       "      <td>0.007826</td>\n",
       "      <td>0.260</td>\n",
       "      <td>9948.0</td>\n",
       "      <td>0.000562</td>\n",
       "      <td>0.001109</td>\n",
       "      <td>0.001732</td>\n",
       "      <td>0.007137</td>\n",
       "      <td>0.001846</td>\n",
       "    </tr>\n",
       "    <tr>\n",
       "      <th>865</th>\n",
       "      <td>Denmark</td>\n",
       "      <td>0</td>\n",
       "      <td>2018</td>\n",
       "      <td>Women</td>\n",
       "      <td>60-65</td>\n",
       "      <td>Immigrants and descendants</td>\n",
       "      <td>No higher education</td>\n",
       "      <td>221294.912</td>\n",
       "      <td>5924.0</td>\n",
       "      <td>537.118731</td>\n",
       "      <td>...</td>\n",
       "      <td>0.018636</td>\n",
       "      <td>0.077424</td>\n",
       "      <td>0.008764</td>\n",
       "      <td>0.346</td>\n",
       "      <td>18113.0</td>\n",
       "      <td>0.001363</td>\n",
       "      <td>0.002688</td>\n",
       "      <td>0.004197</td>\n",
       "      <td>0.017294</td>\n",
       "      <td>0.001960</td>\n",
       "    </tr>\n",
       "    <tr>\n",
       "      <th>866</th>\n",
       "      <td>Denmark</td>\n",
       "      <td>0</td>\n",
       "      <td>2018</td>\n",
       "      <td>Women</td>\n",
       "      <td>60-65</td>\n",
       "      <td>Non-western immigrants and descendants</td>\n",
       "      <td>Higher education</td>\n",
       "      <td>261165.446</td>\n",
       "      <td>1252.0</td>\n",
       "      <td>133.968861</td>\n",
       "      <td>...</td>\n",
       "      <td>0.001712</td>\n",
       "      <td>0.010264</td>\n",
       "      <td>0.001828</td>\n",
       "      <td>0.241</td>\n",
       "      <td>2768.0</td>\n",
       "      <td>0.000145</td>\n",
       "      <td>0.000286</td>\n",
       "      <td>0.000447</td>\n",
       "      <td>0.002793</td>\n",
       "      <td>0.000476</td>\n",
       "    </tr>\n",
       "    <tr>\n",
       "      <th>867</th>\n",
       "      <td>Denmark</td>\n",
       "      <td>0</td>\n",
       "      <td>2018</td>\n",
       "      <td>Women</td>\n",
       "      <td>60-65</td>\n",
       "      <td>Non-western immigrants and descendants</td>\n",
       "      <td>No higher education</td>\n",
       "      <td>195830.441</td>\n",
       "      <td>3674.0</td>\n",
       "      <td>294.783502</td>\n",
       "      <td>...</td>\n",
       "      <td>0.005392</td>\n",
       "      <td>0.032336</td>\n",
       "      <td>0.002536</td>\n",
       "      <td>0.270</td>\n",
       "      <td>7078.0</td>\n",
       "      <td>0.000416</td>\n",
       "      <td>0.000820</td>\n",
       "      <td>0.001280</td>\n",
       "      <td>0.008002</td>\n",
       "      <td>0.000598</td>\n",
       "    </tr>\n",
       "  </tbody>\n",
       "</table>\n",
       "<p>700 rows × 28 columns</p>\n",
       "</div>"
      ],
      "text/plain": [
       "    municipality  municipality code  year gender    age  \\\n",
       "6        Denmark                  0  2005    Men  30-39   \n",
       "7        Denmark                  0  2005    Men  30-39   \n",
       "8        Denmark                  0  2005    Men  30-39   \n",
       "9        Denmark                  0  2005    Men  30-39   \n",
       "10       Denmark                  0  2005    Men  30-39   \n",
       "..           ...                ...   ...    ...    ...   \n",
       "863      Denmark                  0  2018  Women  60-65   \n",
       "864      Denmark                  0  2018  Women  60-65   \n",
       "865      Denmark                  0  2018  Women  60-65   \n",
       "866      Denmark                  0  2018  Women  60-65   \n",
       "867      Denmark                  0  2018  Women  60-65   \n",
       "\n",
       "                                  ethnicity            education      income  \\\n",
       "6                                    Danish     Higher education  271510.362   \n",
       "7                                    Danish  No higher education  218419.246   \n",
       "8                Immigrants and descendants     Higher education  220190.110   \n",
       "9                Immigrants and descendants  No higher education  169031.486   \n",
       "10   Non-western immigrants and descendants     Higher education  190374.958   \n",
       "..                                      ...                  ...         ...   \n",
       "863                                  Danish  No higher education  287411.536   \n",
       "864              Immigrants and descendants     Higher education  321121.430   \n",
       "865              Immigrants and descendants  No higher education  221294.912   \n",
       "866  Non-western immigrants and descendants     Higher education  261165.446   \n",
       "867  Non-western immigrants and descendants  No higher education  195830.441   \n",
       "\n",
       "     income observations  weighted_inc_mun  ...  weighted_days_age_mun  \\\n",
       "6                98566.0      10707.481497  ...               0.028632   \n",
       "7               229065.0      20018.126583  ...               0.123671   \n",
       "8                 5813.0        512.120219  ...               0.001691   \n",
       "9                14256.0        964.137750  ...               0.007378   \n",
       "10                3201.0        243.819977  ...               0.001208   \n",
       "..                   ...               ...  ...                    ...   \n",
       "863             118749.0      13983.567277  ...               0.660747   \n",
       "864               3182.0        418.652110  ...               0.007328   \n",
       "865               5924.0        537.118731  ...               0.018636   \n",
       "866               1252.0        133.968861  ...               0.001712   \n",
       "867               3674.0        294.783502  ...               0.005392   \n",
       "\n",
       "     weighted_days_eth_mun  weighted_days_edu_mun  number of hospitalizations  \\\n",
       "6                 0.005907               0.023621                       0.056   \n",
       "7                 0.025516               0.030419                       0.096   \n",
       "8                 0.006485               0.001395                       0.062   \n",
       "9                 0.028302               0.001815                       0.094   \n",
       "10                0.007099               0.000997                       0.079   \n",
       "..                     ...                    ...                         ...   \n",
       "863               0.248846               0.310743                       0.379   \n",
       "864               0.030444               0.007826                       0.260   \n",
       "865               0.077424               0.008764                       0.346   \n",
       "866               0.010264               0.001828                       0.241   \n",
       "867               0.032336               0.002536                       0.270   \n",
       "\n",
       "     number of hospitalizations observations  weighted_hospitalizations_mun  \\\n",
       "6                                   103551.0                       0.001415   \n",
       "7                                   249125.0                       0.005835   \n",
       "8                                     6508.0                       0.000098   \n",
       "9                                    15981.0                       0.000366   \n",
       "10                                    3532.0                       0.000068   \n",
       "..                                       ...                            ...   \n",
       "863                                 566835.0                       0.046714   \n",
       "864                                   9948.0                       0.000562   \n",
       "865                                  18113.0                       0.001363   \n",
       "866                                   2768.0                       0.000145   \n",
       "867                                   7078.0                       0.000416   \n",
       "\n",
       "     weighted_hosp_gen_mun  weighted_hosp_age_mun  weighted_hosp_eth_mun  \\\n",
       "6                 0.002864               0.007458               0.001539   \n",
       "7                 0.011811               0.030758               0.006346   \n",
       "8                 0.000199               0.000519               0.001990   \n",
       "9                 0.000742               0.001932               0.007411   \n",
       "10                0.000138               0.000359               0.002188   \n",
       "..                     ...                    ...                    ...   \n",
       "863               0.092133               0.143862               0.053739   \n",
       "864               0.001109               0.001732               0.007137   \n",
       "865               0.002688               0.004197               0.017294   \n",
       "866               0.000286               0.000447               0.002793   \n",
       "867               0.000820               0.001280               0.008002   \n",
       "\n",
       "     weighted_hosp_edu_mun  \n",
       "6                 0.006177  \n",
       "7                 0.007568  \n",
       "8                 0.000430  \n",
       "9                 0.000475  \n",
       "10                0.000297  \n",
       "..                     ...  \n",
       "863               0.067189  \n",
       "864               0.001846  \n",
       "865               0.001960  \n",
       "866               0.000476  \n",
       "867               0.000598  \n",
       "\n",
       "[700 rows x 28 columns]"
      ]
     },
     "execution_count": 103,
     "metadata": {},
     "output_type": "execute_result"
    }
   ],
   "source": [
    "df_2= df.dropna()\n",
    "df_dk = df_2[df_2.municipality == 'Denmark']\n",
    "df_cph = df_2[df_2.municipality == 'Greater Copenhagen']"
   ]
  },
  {
   "cell_type": "code",
   "execution_count": 14,
   "metadata": {},
   "outputs": [],
   "source": [
    "df2_dk_income_per_year = df_dk.groupby('year')['weighted_inc_mun'].sum().reset_index(name='count')\n",
    "df2_cph_income_per_year = df_cph.groupby('year')['weighted_inc_mun'].sum().reset_index(name='count')"
   ]
  },
  {
   "cell_type": "code",
   "execution_count": null,
   "metadata": {},
   "outputs": [],
   "source": [
    "dk_income_per_year = df_dk.groupby('year')['weighted_inc_mun'].sum().reset_index(name='count')\n",
    "cph_income_per_year = df_cph.groupby('year')['weighted_inc_mun'].sum().reset_index(name='count')\n",
    "\n",
    "dk_income_per_year\n"
   ]
  },
  {
   "attachments": {},
   "cell_type": "markdown",
   "metadata": {},
   "source": [
    "# 3. Data analysis\n",
    "\n",
    "Describe your data analysis and explain what you've learned about the dataset.\n",
    "If relevant, talk about your machine-learning."
   ]
  },
  {
   "attachments": {},
   "cell_type": "markdown",
   "metadata": {},
   "source": [
    "# 4. Genre\n",
    "Which tools did you use from each of the 3 categories of Visual Narrative (Figure 7 in Segal and Heer). Why?\n",
    "Which tools did you use from each of the 3 categories of Narrative Structure (Figure 7 in Segal and Heer). Why?"
   ]
  },
  {
   "attachments": {},
   "cell_type": "markdown",
   "metadata": {},
   "source": [
    "# 5. Visualizations\n",
    "\n",
    "Explain the visualizations you've chosen.\n",
    "Why are they right for the story you want to tell?"
   ]
  },
  {
   "attachments": {},
   "cell_type": "markdown",
   "metadata": {},
   "source": [
    "## 5.1 Plotting timelines - Greater Copenhagen vs Denmark"
   ]
  },
  {
   "cell_type": "code",
   "execution_count": 104,
   "metadata": {},
   "outputs": [],
   "source": [
    "# Data frame with Greater Copenhagen and Denmark\n",
    "df_cop_dk = df_2[(df_2.municipality == 'Denmark') | (df_2.municipality == 'Greater Copenhagen')]\n",
    "\n",
    "# unique years and municipalities for plotting\n",
    "years = df_cop_dk.year.unique()\n",
    "municipalities = df_cop_dk.municipality.unique()\n",
    "\n",
    "# Yearly average income\n",
    "dk_yearly_avg_inc = df_cop_dk[(df_cop_dk.municipality=='Denmark')].groupby(['year', 'municipality'])['weighted_inc_mun'].sum()\n",
    "cop_yearly_avg_inc = df_cop_dk[(df_cop_dk.municipality=='Greater Copenhagen')].groupby(['year', 'municipality'])['weighted_inc_mun'].sum()\n",
    "df_income = df_cop_dk.groupby(['year', 'municipality'])['weighted_inc_mun'].sum().reset_index(name='count')\n",
    "\n",
    "# Yearly average days in hospital\n",
    "dk_yearly_avg_hosp_days = df_cop_dk[(df_cop_dk.municipality=='Denmark')].groupby(['year', 'municipality'])['weighted_hosp_days_mun'].sum()\n",
    "cop_yearly_avg_hosp_days = df_cop_dk[(df_cop_dk.municipality=='Greater Copenhagen')].groupby(['year', 'municipality'])['weighted_hosp_days_mun'].sum()\n",
    "df_days = df_cop_dk.groupby(['year', 'municipality'])['weighted_hosp_days_mun'].sum().reset_index(name='count')\n",
    "\n",
    "# Yearly average hospitalizations\n",
    "dk_yearly_avg_hosp_times = df_cop_dk[(df_cop_dk.municipality=='Denmark')].groupby(['year', 'municipality'])['weighted_hospitalizations_mun'].sum()\n",
    "cop_yearly_avg_hosp_times = df_cop_dk[(df_cop_dk.municipality=='Greater Copenhagen')].groupby(['year', 'municipality'])['weighted_hospitalizations_mun'].sum()\n",
    "df_hosp = df_cop_dk.groupby(['year', 'municipality'])['weighted_hospitalizations_mun'].sum().reset_index(name='count')"
   ]
  },
  {
   "attachments": {},
   "cell_type": "markdown",
   "metadata": {},
   "source": [
    "### Interactive visualization for income with filters for age, gender, education and ethnicity"
   ]
  },
  {
   "cell_type": "code",
   "execution_count": 110,
   "metadata": {},
   "outputs": [
    {
     "data": {
      "application/vnd.plotly.v1+json": {
       "config": {
        "plotlyServerURL": "https://plot.ly"
       },
       "data": [
        {
         "marker": {
          "color": "rgb(55, 83, 109)"
         },
         "name": "Denmark",
         "type": "bar",
         "x": [
          2005,
          2006,
          2007,
          2008,
          2009,
          2010,
          2011,
          2012,
          2013,
          2014,
          2015,
          2016,
          2017,
          2018
         ],
         "y": [
          255616.32526608012,
          260120.7657516041,
          262272.00872240536,
          256640.5968274187,
          258339.40698911736,
          275387.016033431,
          273380.45813095843,
          272492.81552348053,
          277541.72464290314,
          283093.914696419,
          288426.16922337335,
          292967.28475570463,
          298112.57671105646,
          304094.2555620311
         ]
        },
        {
         "marker": {
          "color": "rgb(26, 118, 255)"
         },
         "name": "Greater Copenhagen",
         "type": "bar",
         "x": [
          2005,
          2006,
          2007,
          2008,
          2009,
          2010,
          2011,
          2012,
          2013,
          2014,
          2015,
          2016,
          2017,
          2018
         ],
         "y": [
          271686.73150448233,
          275662.66075669276,
          276050.1566439862,
          269909.53812569403,
          269207.93785791105,
          290563.9268522387,
          289335.7664705521,
          287875.98877217557,
          293504.78056068585,
          300087.8300778641,
          306151.8093014965,
          310943.18766815745,
          315684.46268450306,
          321978.1360394762
         ]
        }
       ],
       "layout": {
        "bargap": 0.15,
        "bargroupgap": 0.1,
        "barmode": "group",
        "legend": {
         "bgcolor": "rgba(255, 255, 255, 0)",
         "bordercolor": "rgba(255, 255, 255, 0)",
         "title": {
          "text": ""
         },
         "x": 0.01,
         "y": 1
        },
        "template": {
         "data": {
          "bar": [
           {
            "error_x": {
             "color": "#2a3f5f"
            },
            "error_y": {
             "color": "#2a3f5f"
            },
            "marker": {
             "line": {
              "color": "#E5ECF6",
              "width": 0.5
             },
             "pattern": {
              "fillmode": "overlay",
              "size": 10,
              "solidity": 0.2
             }
            },
            "type": "bar"
           }
          ],
          "barpolar": [
           {
            "marker": {
             "line": {
              "color": "#E5ECF6",
              "width": 0.5
             },
             "pattern": {
              "fillmode": "overlay",
              "size": 10,
              "solidity": 0.2
             }
            },
            "type": "barpolar"
           }
          ],
          "carpet": [
           {
            "aaxis": {
             "endlinecolor": "#2a3f5f",
             "gridcolor": "white",
             "linecolor": "white",
             "minorgridcolor": "white",
             "startlinecolor": "#2a3f5f"
            },
            "baxis": {
             "endlinecolor": "#2a3f5f",
             "gridcolor": "white",
             "linecolor": "white",
             "minorgridcolor": "white",
             "startlinecolor": "#2a3f5f"
            },
            "type": "carpet"
           }
          ],
          "choropleth": [
           {
            "colorbar": {
             "outlinewidth": 0,
             "ticks": ""
            },
            "type": "choropleth"
           }
          ],
          "contour": [
           {
            "colorbar": {
             "outlinewidth": 0,
             "ticks": ""
            },
            "colorscale": [
             [
              0,
              "#0d0887"
             ],
             [
              0.1111111111111111,
              "#46039f"
             ],
             [
              0.2222222222222222,
              "#7201a8"
             ],
             [
              0.3333333333333333,
              "#9c179e"
             ],
             [
              0.4444444444444444,
              "#bd3786"
             ],
             [
              0.5555555555555556,
              "#d8576b"
             ],
             [
              0.6666666666666666,
              "#ed7953"
             ],
             [
              0.7777777777777778,
              "#fb9f3a"
             ],
             [
              0.8888888888888888,
              "#fdca26"
             ],
             [
              1,
              "#f0f921"
             ]
            ],
            "type": "contour"
           }
          ],
          "contourcarpet": [
           {
            "colorbar": {
             "outlinewidth": 0,
             "ticks": ""
            },
            "type": "contourcarpet"
           }
          ],
          "heatmap": [
           {
            "colorbar": {
             "outlinewidth": 0,
             "ticks": ""
            },
            "colorscale": [
             [
              0,
              "#0d0887"
             ],
             [
              0.1111111111111111,
              "#46039f"
             ],
             [
              0.2222222222222222,
              "#7201a8"
             ],
             [
              0.3333333333333333,
              "#9c179e"
             ],
             [
              0.4444444444444444,
              "#bd3786"
             ],
             [
              0.5555555555555556,
              "#d8576b"
             ],
             [
              0.6666666666666666,
              "#ed7953"
             ],
             [
              0.7777777777777778,
              "#fb9f3a"
             ],
             [
              0.8888888888888888,
              "#fdca26"
             ],
             [
              1,
              "#f0f921"
             ]
            ],
            "type": "heatmap"
           }
          ],
          "heatmapgl": [
           {
            "colorbar": {
             "outlinewidth": 0,
             "ticks": ""
            },
            "colorscale": [
             [
              0,
              "#0d0887"
             ],
             [
              0.1111111111111111,
              "#46039f"
             ],
             [
              0.2222222222222222,
              "#7201a8"
             ],
             [
              0.3333333333333333,
              "#9c179e"
             ],
             [
              0.4444444444444444,
              "#bd3786"
             ],
             [
              0.5555555555555556,
              "#d8576b"
             ],
             [
              0.6666666666666666,
              "#ed7953"
             ],
             [
              0.7777777777777778,
              "#fb9f3a"
             ],
             [
              0.8888888888888888,
              "#fdca26"
             ],
             [
              1,
              "#f0f921"
             ]
            ],
            "type": "heatmapgl"
           }
          ],
          "histogram": [
           {
            "marker": {
             "pattern": {
              "fillmode": "overlay",
              "size": 10,
              "solidity": 0.2
             }
            },
            "type": "histogram"
           }
          ],
          "histogram2d": [
           {
            "colorbar": {
             "outlinewidth": 0,
             "ticks": ""
            },
            "colorscale": [
             [
              0,
              "#0d0887"
             ],
             [
              0.1111111111111111,
              "#46039f"
             ],
             [
              0.2222222222222222,
              "#7201a8"
             ],
             [
              0.3333333333333333,
              "#9c179e"
             ],
             [
              0.4444444444444444,
              "#bd3786"
             ],
             [
              0.5555555555555556,
              "#d8576b"
             ],
             [
              0.6666666666666666,
              "#ed7953"
             ],
             [
              0.7777777777777778,
              "#fb9f3a"
             ],
             [
              0.8888888888888888,
              "#fdca26"
             ],
             [
              1,
              "#f0f921"
             ]
            ],
            "type": "histogram2d"
           }
          ],
          "histogram2dcontour": [
           {
            "colorbar": {
             "outlinewidth": 0,
             "ticks": ""
            },
            "colorscale": [
             [
              0,
              "#0d0887"
             ],
             [
              0.1111111111111111,
              "#46039f"
             ],
             [
              0.2222222222222222,
              "#7201a8"
             ],
             [
              0.3333333333333333,
              "#9c179e"
             ],
             [
              0.4444444444444444,
              "#bd3786"
             ],
             [
              0.5555555555555556,
              "#d8576b"
             ],
             [
              0.6666666666666666,
              "#ed7953"
             ],
             [
              0.7777777777777778,
              "#fb9f3a"
             ],
             [
              0.8888888888888888,
              "#fdca26"
             ],
             [
              1,
              "#f0f921"
             ]
            ],
            "type": "histogram2dcontour"
           }
          ],
          "mesh3d": [
           {
            "colorbar": {
             "outlinewidth": 0,
             "ticks": ""
            },
            "type": "mesh3d"
           }
          ],
          "parcoords": [
           {
            "line": {
             "colorbar": {
              "outlinewidth": 0,
              "ticks": ""
             }
            },
            "type": "parcoords"
           }
          ],
          "pie": [
           {
            "automargin": true,
            "type": "pie"
           }
          ],
          "scatter": [
           {
            "fillpattern": {
             "fillmode": "overlay",
             "size": 10,
             "solidity": 0.2
            },
            "type": "scatter"
           }
          ],
          "scatter3d": [
           {
            "line": {
             "colorbar": {
              "outlinewidth": 0,
              "ticks": ""
             }
            },
            "marker": {
             "colorbar": {
              "outlinewidth": 0,
              "ticks": ""
             }
            },
            "type": "scatter3d"
           }
          ],
          "scattercarpet": [
           {
            "marker": {
             "colorbar": {
              "outlinewidth": 0,
              "ticks": ""
             }
            },
            "type": "scattercarpet"
           }
          ],
          "scattergeo": [
           {
            "marker": {
             "colorbar": {
              "outlinewidth": 0,
              "ticks": ""
             }
            },
            "type": "scattergeo"
           }
          ],
          "scattergl": [
           {
            "marker": {
             "colorbar": {
              "outlinewidth": 0,
              "ticks": ""
             }
            },
            "type": "scattergl"
           }
          ],
          "scattermapbox": [
           {
            "marker": {
             "colorbar": {
              "outlinewidth": 0,
              "ticks": ""
             }
            },
            "type": "scattermapbox"
           }
          ],
          "scatterpolar": [
           {
            "marker": {
             "colorbar": {
              "outlinewidth": 0,
              "ticks": ""
             }
            },
            "type": "scatterpolar"
           }
          ],
          "scatterpolargl": [
           {
            "marker": {
             "colorbar": {
              "outlinewidth": 0,
              "ticks": ""
             }
            },
            "type": "scatterpolargl"
           }
          ],
          "scatterternary": [
           {
            "marker": {
             "colorbar": {
              "outlinewidth": 0,
              "ticks": ""
             }
            },
            "type": "scatterternary"
           }
          ],
          "surface": [
           {
            "colorbar": {
             "outlinewidth": 0,
             "ticks": ""
            },
            "colorscale": [
             [
              0,
              "#0d0887"
             ],
             [
              0.1111111111111111,
              "#46039f"
             ],
             [
              0.2222222222222222,
              "#7201a8"
             ],
             [
              0.3333333333333333,
              "#9c179e"
             ],
             [
              0.4444444444444444,
              "#bd3786"
             ],
             [
              0.5555555555555556,
              "#d8576b"
             ],
             [
              0.6666666666666666,
              "#ed7953"
             ],
             [
              0.7777777777777778,
              "#fb9f3a"
             ],
             [
              0.8888888888888888,
              "#fdca26"
             ],
             [
              1,
              "#f0f921"
             ]
            ],
            "type": "surface"
           }
          ],
          "table": [
           {
            "cells": {
             "fill": {
              "color": "#EBF0F8"
             },
             "line": {
              "color": "white"
             }
            },
            "header": {
             "fill": {
              "color": "#C8D4E3"
             },
             "line": {
              "color": "white"
             }
            },
            "type": "table"
           }
          ]
         },
         "layout": {
          "annotationdefaults": {
           "arrowcolor": "#2a3f5f",
           "arrowhead": 0,
           "arrowwidth": 1
          },
          "autotypenumbers": "strict",
          "coloraxis": {
           "colorbar": {
            "outlinewidth": 0,
            "ticks": ""
           }
          },
          "colorscale": {
           "diverging": [
            [
             0,
             "#8e0152"
            ],
            [
             0.1,
             "#c51b7d"
            ],
            [
             0.2,
             "#de77ae"
            ],
            [
             0.3,
             "#f1b6da"
            ],
            [
             0.4,
             "#fde0ef"
            ],
            [
             0.5,
             "#f7f7f7"
            ],
            [
             0.6,
             "#e6f5d0"
            ],
            [
             0.7,
             "#b8e186"
            ],
            [
             0.8,
             "#7fbc41"
            ],
            [
             0.9,
             "#4d9221"
            ],
            [
             1,
             "#276419"
            ]
           ],
           "sequential": [
            [
             0,
             "#0d0887"
            ],
            [
             0.1111111111111111,
             "#46039f"
            ],
            [
             0.2222222222222222,
             "#7201a8"
            ],
            [
             0.3333333333333333,
             "#9c179e"
            ],
            [
             0.4444444444444444,
             "#bd3786"
            ],
            [
             0.5555555555555556,
             "#d8576b"
            ],
            [
             0.6666666666666666,
             "#ed7953"
            ],
            [
             0.7777777777777778,
             "#fb9f3a"
            ],
            [
             0.8888888888888888,
             "#fdca26"
            ],
            [
             1,
             "#f0f921"
            ]
           ],
           "sequentialminus": [
            [
             0,
             "#0d0887"
            ],
            [
             0.1111111111111111,
             "#46039f"
            ],
            [
             0.2222222222222222,
             "#7201a8"
            ],
            [
             0.3333333333333333,
             "#9c179e"
            ],
            [
             0.4444444444444444,
             "#bd3786"
            ],
            [
             0.5555555555555556,
             "#d8576b"
            ],
            [
             0.6666666666666666,
             "#ed7953"
            ],
            [
             0.7777777777777778,
             "#fb9f3a"
            ],
            [
             0.8888888888888888,
             "#fdca26"
            ],
            [
             1,
             "#f0f921"
            ]
           ]
          },
          "colorway": [
           "#636efa",
           "#EF553B",
           "#00cc96",
           "#ab63fa",
           "#FFA15A",
           "#19d3f3",
           "#FF6692",
           "#B6E880",
           "#FF97FF",
           "#FECB52"
          ],
          "font": {
           "color": "#2a3f5f"
          },
          "geo": {
           "bgcolor": "white",
           "lakecolor": "white",
           "landcolor": "#E5ECF6",
           "showlakes": true,
           "showland": true,
           "subunitcolor": "white"
          },
          "hoverlabel": {
           "align": "left"
          },
          "hovermode": "closest",
          "mapbox": {
           "style": "light"
          },
          "paper_bgcolor": "white",
          "plot_bgcolor": "#E5ECF6",
          "polar": {
           "angularaxis": {
            "gridcolor": "white",
            "linecolor": "white",
            "ticks": ""
           },
           "bgcolor": "#E5ECF6",
           "radialaxis": {
            "gridcolor": "white",
            "linecolor": "white",
            "ticks": ""
           }
          },
          "scene": {
           "xaxis": {
            "backgroundcolor": "#E5ECF6",
            "gridcolor": "white",
            "gridwidth": 2,
            "linecolor": "white",
            "showbackground": true,
            "ticks": "",
            "zerolinecolor": "white"
           },
           "yaxis": {
            "backgroundcolor": "#E5ECF6",
            "gridcolor": "white",
            "gridwidth": 2,
            "linecolor": "white",
            "showbackground": true,
            "ticks": "",
            "zerolinecolor": "white"
           },
           "zaxis": {
            "backgroundcolor": "#E5ECF6",
            "gridcolor": "white",
            "gridwidth": 2,
            "linecolor": "white",
            "showbackground": true,
            "ticks": "",
            "zerolinecolor": "white"
           }
          },
          "shapedefaults": {
           "line": {
            "color": "#2a3f5f"
           }
          },
          "ternary": {
           "aaxis": {
            "gridcolor": "white",
            "linecolor": "white",
            "ticks": ""
           },
           "baxis": {
            "gridcolor": "white",
            "linecolor": "white",
            "ticks": ""
           },
           "bgcolor": "#E5ECF6",
           "caxis": {
            "gridcolor": "white",
            "linecolor": "white",
            "ticks": ""
           }
          },
          "title": {
           "x": 0.05
          },
          "xaxis": {
           "automargin": true,
           "gridcolor": "white",
           "linecolor": "white",
           "ticks": "",
           "title": {
            "standoff": 15
           },
           "zerolinecolor": "white",
           "zerolinewidth": 2
          },
          "yaxis": {
           "automargin": true,
           "gridcolor": "white",
           "linecolor": "white",
           "ticks": "",
           "title": {
            "standoff": 15
           },
           "zerolinecolor": "white",
           "zerolinewidth": 2
          }
         }
        },
        "title": {
         "text": "<b>Annual dissposable income by gender, age, education or ethnicity<b>"
        },
        "updatemenus": [
         {
          "active": 0,
          "buttons": [
           {
            "args": [
             {
              "visible": [
               true,
               true
              ],
              "x": [
               [
                2005,
                2006,
                2007,
                2008,
                2009,
                2010,
                2011,
                2012,
                2013,
                2014,
                2015,
                2016,
                2017,
                2018
               ],
               [
                2005,
                2006,
                2007,
                2008,
                2009,
                2010,
                2011,
                2012,
                2013,
                2014,
                2015,
                2016,
                2017,
                2018
               ]
              ],
              "y": [
               [
                255616.32526608012,
                260120.7657516041,
                262272.00872240536,
                256640.5968274187,
                258339.40698911736,
                275387.016033431,
                273380.45813095843,
                272492.81552348053,
                277541.72464290314,
                283093.914696419,
                288426.16922337335,
                292967.28475570463,
                298112.57671105646,
                304094.2555620311
               ],
               [
                271686.73150448233,
                275662.66075669276,
                276050.1566439862,
                269909.53812569403,
                269207.93785791105,
                290563.9268522387,
                289335.7664705521,
                287875.98877217557,
                293504.78056068585,
                300087.8300778641,
                306151.8093014965,
                310943.18766815745,
                315684.46268450306,
                321978.1360394762
               ]
              ]
             }
            ],
            "label": "Gender",
            "method": "update"
           },
           {
            "args": [
             {
              "visible": [
               true,
               true
              ],
              "x": [
               [
                2005,
                2006,
                2007,
                2008,
                2009,
                2010,
                2011,
                2012,
                2013,
                2014,
                2015,
                2016,
                2017,
                2018
               ],
               [
                2005,
                2006,
                2007,
                2008,
                2009,
                2010,
                2011,
                2012,
                2013,
                2014,
                2015,
                2016,
                2017,
                2018
               ]
              ],
              "y": [
               [
                256344.59735534847,
                260733.90422862017,
                263027.834527846,
                258039.76989817823,
                259678.559446148,
                277028.5474008803,
                274937.1008626648,
                273625.8994511366,
                278487.5422498559,
                284526.2622077037,
                290065.3166180831,
                294794.4305733327,
                299741.06330890895,
                306548.3050182929
               ],
               [
                272905.5874281097,
                277251.05134006497,
                277316.7120813592,
                271123.28611689457,
                269922.9873498877,
                292190.3671041596,
                290865.2768097168,
                288907.0725082984,
                294655.4863289442,
                301212.75835428,
                307335.9464009689,
                312318.1847065628,
                317294.8241760219,
                324153.8694719548
               ]
              ]
             }
            ],
            "label": "Men",
            "method": "update"
           },
           {
            "args": [
             {
              "visible": [
               true,
               true
              ],
              "x": [
               [
                2005,
                2006,
                2007,
                2008,
                2009,
                2010,
                2011,
                2012,
                2013,
                2014,
                2015,
                2016,
                2017,
                2018
               ],
               [
                2005,
                2006,
                2007,
                2008,
                2009,
                2010,
                2011,
                2012,
                2013,
                2014,
                2015,
                2016,
                2017,
                2018
               ]
              ],
              "y": [
               [
                254922.49916265503,
                259537.33780283,
                261551.4091604857,
                255312.64959464266,
                257069.0704764591,
                273829.4097438811,
                271904.19962388393,
                271417.2097295354,
                276643.71582853614,
                281733.2196619694,
                286865.3770722307,
                291222.3717646406,
                296555.1024351528,
                301743.907596313
               ],
               [
                270512.7841916316,
                274135.3631392141,
                274827.85617336055,
                268747.2001225806,
                268523.7682798461,
                289007.5044824832,
                287871.9095774151,
                286884.9411066788,
                292400.11453402747,
                299007.68993810937,
                305010.4558991772,
                309616.21478203905,
                314130.6594494165,
                319878.0253359577
               ]
              ]
             }
            ],
            "label": "Women",
            "method": "update"
           }
          ],
          "direction": "down",
          "showactive": true,
          "x": 0.15,
          "y": 1.13
         },
         {
          "active": 0,
          "buttons": [
           {
            "args": [
             {
              "visible": [
               true,
               true,
               true,
               true
              ],
              "x": [
               [
                2005,
                2006,
                2007,
                2008,
                2009,
                2010,
                2011,
                2012,
                2013,
                2014,
                2015,
                2016,
                2017,
                2018
               ],
               [
                2005,
                2006,
                2007,
                2008,
                2009,
                2010,
                2011,
                2012,
                2013,
                2014,
                2015,
                2016,
                2017,
                2018
               ],
               [
                2005,
                2006,
                2007,
                2008,
                2009,
                2010,
                2011,
                2012,
                2013,
                2014,
                2015,
                2016,
                2017,
                2018
               ],
               [
                2005,
                2006,
                2007,
                2008,
                2009,
                2010,
                2011,
                2012,
                2013,
                2014,
                2015,
                2016,
                2017,
                2018
               ]
              ],
              "y": [
               [
                255616.32526608012,
                260120.7657516041,
                262272.00872240536,
                256640.5968274187,
                258339.40698911736,
                275387.016033431,
                273380.45813095843,
                272492.81552348053,
                277541.72464290314,
                283093.914696419,
                288426.16922337335,
                292967.28475570463,
                298112.57671105646,
                304094.2555620311
               ],
               [
                271686.73150448233,
                275662.66075669276,
                276050.1566439862,
                269909.53812569403,
                269207.93785791105,
                290563.9268522387,
                289335.7664705521,
                287875.98877217557,
                293504.78056068585,
                300087.8300778641,
                306151.8093014965,
                310943.18766815745,
                315684.46268450306,
                321978.1360394762
               ]
              ]
             }
            ],
            "label": "Age",
            "method": "update"
           },
           {
            "args": [
             {
              "visible": [
               true,
               true,
               true,
               true
              ],
              "x": [
               [
                2005,
                2006,
                2007,
                2008,
                2009,
                2010,
                2011,
                2012,
                2013,
                2014,
                2015,
                2016,
                2017,
                2018
               ],
               [
                2005,
                2006,
                2007,
                2008,
                2009,
                2010,
                2011,
                2012,
                2013,
                2014,
                2015,
                2016,
                2017,
                2018
               ],
               [
                2005,
                2006,
                2007,
                2008,
                2009,
                2010,
                2011,
                2012,
                2013,
                2014,
                2015,
                2016,
                2017,
                2018
               ],
               [
                2005,
                2006,
                2007,
                2008,
                2009,
                2010,
                2011,
                2012,
                2013,
                2014,
                2015,
                2016,
                2017,
                2018
               ]
              ],
              "y": [
               [
                227422.65029379487,
                230083.8798369937,
                231191.01838626972,
                227802.8374832497,
                230895.6636575781,
                244692.47991848728,
                241720.75453098086,
                239197.826071625,
                242061.6305089619,
                245050.24819002728,
                246238.3854421938,
                249250.6901583563,
                252050.6595058227,
                256935.00547787195
               ],
               [
                242305.45943269017,
                244283.819200052,
                243830.17219673246,
                240282.01970058522,
                242022.63269140862,
                258118.78467050297,
                254977.158619118,
                251453.56705629456,
                254802.46024169223,
                257876.44574226532,
                259426.79625047007,
                263520.7267548591,
                266596.6534301278,
                272301.06755492854
               ]
              ]
             }
            ],
            "label": "30-39",
            "method": "update"
           },
           {
            "args": [
             {
              "visible": [
               true,
               true,
               true,
               true
              ],
              "x": [
               [
                2005,
                2006,
                2007,
                2008,
                2009,
                2010,
                2011,
                2012,
                2013,
                2014,
                2015,
                2016,
                2017,
                2018
               ],
               [
                2005,
                2006,
                2007,
                2008,
                2009,
                2010,
                2011,
                2012,
                2013,
                2014,
                2015,
                2016,
                2017,
                2018
               ],
               [
                2005,
                2006,
                2007,
                2008,
                2009,
                2010,
                2011,
                2012,
                2013,
                2014,
                2015,
                2016,
                2017,
                2018
               ],
               [
                2005,
                2006,
                2007,
                2008,
                2009,
                2010,
                2011,
                2012,
                2013,
                2014,
                2015,
                2016,
                2017,
                2018
               ]
              ],
              "y": [
               [
                255495.90328008716,
                259419.39410268108,
                261440.23816665108,
                255542.7671120948,
                255926.3084015463,
                273224.527946365,
                271660.8169048823,
                270656.9316612477,
                276074.67134623183,
                281666.4509394061,
                287096.0140861679,
                290954.7729562398,
                295987.44782409136,
                301259.5236448265
               ],
               [
                274575.38014281046,
                277511.8388940897,
                278629.3865168262,
                272410.07813210064,
                269930.58584871405,
                293053.4072159116,
                292093.54732453637,
                290792.86623670557,
                297399.80854374106,
                304795.3897127079,
                311857.7419663975,
                315317.65728269966,
                319663.6860551738,
                325107.73481954134
               ]
              ]
             }
            ],
            "label": "40-49",
            "method": "update"
           },
           {
            "args": [
             {
              "visible": [
               true,
               true,
               true,
               true
              ],
              "x": [
               [
                2005,
                2006,
                2007,
                2008,
                2009,
                2010,
                2011,
                2012,
                2013,
                2014,
                2015,
                2016,
                2017,
                2018
               ],
               [
                2005,
                2006,
                2007,
                2008,
                2009,
                2010,
                2011,
                2012,
                2013,
                2014,
                2015,
                2016,
                2017,
                2018
               ],
               [
                2005,
                2006,
                2007,
                2008,
                2009,
                2010,
                2011,
                2012,
                2013,
                2014,
                2015,
                2016,
                2017,
                2018
               ],
               [
                2005,
                2006,
                2007,
                2008,
                2009,
                2010,
                2011,
                2012,
                2013,
                2014,
                2015,
                2016,
                2017,
                2018
               ]
              ],
              "y": [
               [
                295986.69731945015,
                300357.9858107876,
                301306.88157161564,
                293606.0294615867,
                295527.12531868287,
                315341.81035306276,
                311799.0114715232,
                310090.9833887048,
                315844.2832026683,
                322283.48886484833,
                330105.0927737408,
                335201.1691139036,
                341095.7614558072,
                348539.46259782783
               ],
               [
                315474.7927285852,
                319791.4067643017,
                317812.97828044405,
                308004.35348979227,
                307405.5958524764,
                335092.0222762894,
                334490.37984469393,
                333744.4117535481,
                340467.9142435296,
                348565.93894276355,
                358151.9946294757,
                363198.1809482965,
                368700.56661739637,
                376484.9962583368
               ]
              ]
             }
            ],
            "label": "50-59",
            "method": "update"
           },
           {
            "args": [
             {
              "visible": [
               true,
               true,
               true,
               true
              ],
              "x": [
               [
                2005,
                2006,
                2007,
                2008,
                2009,
                2010,
                2011,
                2012,
                2013,
                2014,
                2015,
                2016,
                2017,
                2018
               ],
               [
                2005,
                2006,
                2007,
                2008,
                2009,
                2010,
                2011,
                2012,
                2013,
                2014,
                2015,
                2016,
                2017,
                2018
               ],
               [
                2005,
                2006,
                2007,
                2008,
                2009,
                2010,
                2011,
                2012,
                2013,
                2014,
                2015,
                2016,
                2017,
                2018
               ],
               [
                2005,
                2006,
                2007,
                2008,
                2009,
                2010,
                2011,
                2012,
                2013,
                2014,
                2015,
                2016,
                2017,
                2018
               ]
              ],
              "y": [
               [
                263251.6738901134,
                271150.50810831174,
                275667.45491507475,
                268120.1661363232,
                269679.88547640684,
                287768.22346366977,
                286807.97251173895,
                288592.6734015425,
                293870.9467100893,
                300624.91121238255,
                307518.2954478022,
                313961.3423094446,
                321011.9716187068,
                327547.9352556646
               ],
               [
                284835.95102680055,
                294100.3947097272,
                296376.0001818464,
                288107.1862836976,
                286362.00128079555,
                308687.32955068036,
                310385.4560631715,
                312645.9450502572,
                318399.16442648304,
                327624.55659154005,
                335952.307924625,
                344220.1746089137,
                351737.03886163206,
                357182.95188103535
               ]
              ]
             }
            ],
            "label": "60-65",
            "method": "update"
           }
          ],
          "direction": "down",
          "showactive": true,
          "x": 0.27,
          "y": 1.13
         },
         {
          "active": 0,
          "buttons": [
           {
            "args": [
             {
              "visible": [
               true,
               true,
               true
              ],
              "x": [
               [
                2005,
                2006,
                2007,
                2008,
                2009,
                2010,
                2011,
                2012,
                2013,
                2014,
                2015,
                2016,
                2017,
                2018
               ],
               [
                2005,
                2006,
                2007,
                2008,
                2009,
                2010,
                2011,
                2012,
                2013,
                2014,
                2015,
                2016,
                2017,
                2018
               ],
               [
                2005,
                2006,
                2007,
                2008,
                2009,
                2010,
                2011,
                2012,
                2013,
                2014,
                2015,
                2016,
                2017,
                2018
               ]
              ],
              "y": [
               [
                255616.32526608012,
                260120.7657516041,
                262272.00872240536,
                256640.5968274187,
                258339.40698911736,
                275387.016033431,
                273380.45813095843,
                272492.81552348053,
                277541.72464290314,
                283093.914696419,
                288426.16922337335,
                292967.28475570463,
                298112.57671105646,
                304094.2555620311
               ],
               [
                271686.73150448233,
                275662.66075669276,
                276050.1566439862,
                269909.53812569403,
                269207.93785791105,
                290563.9268522387,
                289335.7664705521,
                287875.98877217557,
                293504.78056068585,
                300087.8300778641,
                306151.8093014965,
                310943.18766815745,
                315684.46268450306,
                321978.1360394762
               ]
              ]
             }
            ],
            "label": "Ethnicity",
            "method": "update"
           },
           {
            "args": [
             {
              "visible": [
               true,
               true,
               true
              ],
              "x": [
               [
                2005,
                2006,
                2007,
                2008,
                2009,
                2010,
                2011,
                2012,
                2013,
                2014,
                2015,
                2016,
                2017,
                2018
               ],
               [
                2005,
                2006,
                2007,
                2008,
                2009,
                2010,
                2011,
                2012,
                2013,
                2014,
                2015,
                2016,
                2017,
                2018
               ],
               [
                2005,
                2006,
                2007,
                2008,
                2009,
                2010,
                2011,
                2012,
                2013,
                2014,
                2015,
                2016,
                2017,
                2018
               ]
              ],
              "y": [
               [
                258281.37486202142,
                263074.8512751737,
                265450.2801674658,
                259900.76411290476,
                262057.47815189857,
                280592.6402209399,
                279072.1726272854,
                278476.8675847834,
                284243.6900527954,
                290652.4525272264,
                296773.4395842691,
                302379.7568665498,
                308400.37200254254,
                314615.28074235516
               ],
               [
                281072.9995751542,
                286007.2115813999,
                287107.13991342555,
                280920.21660173807,
                280581.64037084655,
                305655.3228689073,
                305548.34291118314,
                304905.940650965,
                312107.5634525918,
                320507.84487348434,
                328488.64115252515,
                335287.6849744296,
                341701.51076571405,
                348700.7659735383
               ]
              ]
             }
            ],
            "label": "Danish",
            "method": "update"
           },
           {
            "args": [
             {
              "visible": [
               true,
               true,
               true
              ],
              "x": [
               [
                2005,
                2006,
                2007,
                2008,
                2009,
                2010,
                2011,
                2012,
                2013,
                2014,
                2015,
                2016,
                2017,
                2018
               ],
               [
                2005,
                2006,
                2007,
                2008,
                2009,
                2010,
                2011,
                2012,
                2013,
                2014,
                2015,
                2016,
                2017,
                2018
               ],
               [
                2005,
                2006,
                2007,
                2008,
                2009,
                2010,
                2011,
                2012,
                2013,
                2014,
                2015,
                2016,
                2017,
                2018
               ]
              ],
              "y": [
               [
                208360.57088823454,
                212267.7242559319,
                214441.8391821674,
                211818.7505999703,
                212044.97117511064,
                221208.42823664026,
                218319.50951579836,
                217162.19427055042,
                219694.9404932719,
                223539.05811649482,
                226589.42552210877,
                228211.36576163367,
                231332.32841949572,
                238259.39219755313
               ],
               [
                210853.8679955954,
                214133.13326837434,
                214245.08332174597,
                211951.35523898914,
                211910.010877796,
                220691.556767576,
                218026.93418132828,
                217160.74108647034,
                220521.02075995127,
                225388.799048367,
                229877.3538417182,
                232874.36894401937,
                236624.43495214375,
                244549.4596423637
               ]
              ]
             }
            ],
            "label": "Immigrants and descendants",
            "method": "update"
           },
           {
            "args": [
             {
              "visible": [
               true,
               true,
               true
              ],
              "x": [
               [
                2005,
                2006,
                2007,
                2008,
                2009,
                2010,
                2011,
                2012,
                2013,
                2014,
                2015,
                2016,
                2017,
                2018
               ],
               [
                2005,
                2006,
                2007,
                2008,
                2009,
                2010,
                2011,
                2012,
                2013,
                2014,
                2015,
                2016,
                2017,
                2018
               ],
               [
                2005,
                2006,
                2007,
                2008,
                2009,
                2010,
                2011,
                2012,
                2013,
                2014,
                2015,
                2016,
                2017,
                2018
               ]
              ],
              "y": [
               [
                255096.1796228542,
                258384.29051739804,
                259757.80077547373,
                252991.72061780703,
                252803.88451731755,
                263993.5899087795,
                260471.46837407397,
                259396.50643259048,
                262802.12391920004,
                266039.0215524669,
                270516.17964343145,
                273297.28334005736,
                277085.4019564684,
                283350.06819559867
               ],
               [
                245154.27334199083,
                244692.9621608295,
                242879.62612768266,
                237243.34600144564,
                236198.13485571882,
                246055.77686896766,
                243351.7520424782,
                241293.69874209617,
                244832.04345201593,
                248911.72312374462,
                253356.87010138744,
                256132.8204783971,
                259323.3451716284,
                265826.5415123864
               ]
              ]
             }
            ],
            "label": "Non-western immigrants and descendants",
            "method": "update"
           }
          ],
          "direction": "down",
          "showactive": true,
          "x": 0.68,
          "y": 1.13
         },
         {
          "active": 0,
          "buttons": [
           {
            "args": [
             {
              "visible": [
               true,
               true
              ],
              "x": [
               [
                2005,
                2006,
                2007,
                2008,
                2009,
                2010,
                2011,
                2012,
                2013,
                2014,
                2015,
                2016,
                2017,
                2018
               ],
               [
                2005,
                2006,
                2007,
                2008,
                2009,
                2010,
                2011,
                2012,
                2013,
                2014,
                2015,
                2016,
                2017,
                2018
               ]
              ],
              "y": [
               [
                255616.32526608012,
                260120.7657516041,
                262272.00872240536,
                256640.5968274187,
                258339.40698911736,
                275387.016033431,
                273380.45813095843,
                272492.81552348053,
                277541.72464290314,
                283093.914696419,
                288426.16922337335,
                292967.28475570463,
                298112.57671105646,
                304094.2555620311
               ],
               [
                271686.73150448233,
                275662.66075669276,
                276050.1566439862,
                269909.53812569403,
                269207.93785791105,
                290563.9268522387,
                289335.7664705521,
                287875.98877217557,
                293504.78056068585,
                300087.8300778641,
                306151.8093014965,
                310943.18766815745,
                315684.46268450306,
                321978.1360394762
               ]
              ]
             }
            ],
            "label": "Education",
            "method": "update"
           },
           {
            "args": [
             {
              "visible": [
               true,
               true
              ],
              "x": [
               [
                2005,
                2006,
                2007,
                2008,
                2009,
                2010,
                2011,
                2012,
                2013,
                2014,
                2015,
                2016,
                2017,
                2018
               ],
               [
                2005,
                2006,
                2007,
                2008,
                2009,
                2010,
                2011,
                2012,
                2013,
                2014,
                2015,
                2016,
                2017,
                2018
               ]
              ],
              "y": [
               [
                284361.8110917449,
                289116.62980455806,
                291184.59623634646,
                282994.36679687485,
                285369.979010013,
                307919.79613698315,
                304834.07883400033,
                303500.9008607487,
                309348.1128167865,
                315241.7827472412,
                320335.5931497686,
                324742.0257007762,
                329868.8767251307,
                335716.11321875214
               ],
               [
                303436.7117018064,
                307863.04593411833,
                308380.0292638882,
                299038.46956215316,
                297646.62842070713,
                326149.9813244057,
                323865.2116674666,
                321224.81649943365,
                327688.3754089365,
                335062.8609823504,
                340343.110329618,
                345083.2103759737,
                349601.8765476272,
                355998.91897391767
               ]
              ]
             }
            ],
            "label": "Higher education",
            "method": "update"
           },
           {
            "args": [
             {
              "visible": [
               true,
               true
              ],
              "x": [
               [
                2005,
                2006,
                2007,
                2008,
                2009,
                2010,
                2011,
                2012,
                2013,
                2014,
                2015,
                2016,
                2017,
                2018
               ],
               [
                2005,
                2006,
                2007,
                2008,
                2009,
                2010,
                2011,
                2012,
                2013,
                2014,
                2015,
                2016,
                2017,
                2018
               ]
              ],
              "y": [
               [
                240107.33419044022,
                244205.58076366433,
                246198.34886959256,
                241655.86480217066,
                242578.89706002283,
                255885.22210481425,
                253953.12215630853,
                252757.72227809933,
                256662.4059909357,
                261343.53248152882,
                266165.1655522709,
                270169.07597559236,
                274746.6443359318,
                280373.83756688633
               ],
               [
                249302.1541758533,
                252426.9619020995,
                252230.90300689393,
                247743.58072532612,
                246842.45690111123,
                261573.79845984158,
                260128.07175369078,
                258586.90584851225,
                262379.8204077089,
                267155.3590995728,
                272774.96756252245,
                276439.88182622107,
                280427.9659252753,
                285908.20572169684
               ]
              ]
             }
            ],
            "label": "No higher education",
            "method": "update"
           }
          ],
          "direction": "down",
          "showactive": true,
          "x": 0.92,
          "y": 1.13
         }
        ],
        "xaxis": {
         "domain": [
          0,
          1
         ],
         "tickfont": {
          "size": 14
         },
         "title": {
          "font": {
           "size": 16
          },
          "text": ""
         }
        },
        "yaxis": {
         "range": [
          200000,
          390000
         ],
         "tickfont": {
          "size": 14
         },
         "title": {
          "font": {
           "size": 16
          },
          "text": "<b>Income<b>"
         }
        }
       }
      }
     },
     "metadata": {},
     "output_type": "display_data"
    }
   ],
   "source": [
    "# Create the initial plot\n",
    "fig = go.Figure()\n",
    "# Line plot (commented out)\n",
    "#fig = px.line(df_income, x='year', y='count', color='municipality', markers=True, width=900, height=400)\n",
    "#fig.update_traces(line_color='rgb(55, 83, 109)', selector=dict(name='Denmark'))\n",
    "#fig.update_traces(line_color='rgb(26, 118, 255)', selector=dict(name='Greater Copenhagen'))\n",
    "# Bar plot \n",
    "fig.add_trace(go.Bar(x=years,\n",
    "                y=dk_yearly_avg_inc,\n",
    "                name='Denmark',\n",
    "                marker_color='rgb(55, 83, 109)'\n",
    "                ))\n",
    "fig.add_trace(go.Bar(x=years,\n",
    "                y=cop_yearly_avg_inc,\n",
    "                name='Greater Copenhagen',\n",
    "                marker_color='rgb(26, 118, 255)'\n",
    "                ))\n",
    "\n",
    "# Define the dropdown menu\n",
    "genders = df_cop_dk.gender.unique()\n",
    "buttons = []\n",
    "# Add button for all genders\n",
    "buttons.append(dict(method='update',\n",
    "                    label='Gender',\n",
    "                    args=[{'x': [years]*2,\n",
    "                           'y': [dk_yearly_avg_inc, cop_yearly_avg_inc],\n",
    "                           'visible': [True]*2}],\n",
    "                    )\n",
    "             )\n",
    "\n",
    "\n",
    "# Add button for each gender\n",
    "for gender in genders:\n",
    "    dk_yearly_avg_count = df_cop_dk[(df_cop_dk.municipality=='Denmark') & (df_cop_dk.gender==gender)].groupby(['year', 'municipality', 'gender'])['weighted_inc_gen_mun'].sum()\n",
    "    cop_yearly_avg_count = df_cop_dk[(df_cop_dk.municipality=='Greater Copenhagen') & (df_cop_dk.gender==gender)].groupby(['year', 'municipality', 'gender'])['weighted_inc_gen_mun'].sum()\n",
    "    buttons.append(dict(method='update',\n",
    "                        label=gender,\n",
    "                        args=[{'x': [years]*2,\n",
    "                               'y': [dk_yearly_avg_count, cop_yearly_avg_count],\n",
    "                               'visible': [True]*2}],\n",
    "                        )\n",
    "                        # add selection to the list of visible values\n",
    "                        \n",
    "                 )\n",
    "\n",
    "# Define the dropdown menu for Age\n",
    "ages = df_cop_dk.age.unique()\n",
    "buttons_2 = []\n",
    "# Add button for all ages\n",
    "buttons_2.append(dict(method='update',\n",
    "                    label='Age',\n",
    "                    args=[{'x': [years]*4,\n",
    "                           'y': [dk_yearly_avg_inc, cop_yearly_avg_inc],\n",
    "                           'visible': [True]*4}],\n",
    "                    )\n",
    "             )\n",
    "# Add button for each age\n",
    "for age in ages:\n",
    "    age_dk_yearly_avg_count = df_cop_dk[(df_cop_dk.municipality=='Denmark') & (df_cop_dk.age==age)].groupby(['year', 'municipality', 'age'])['weighted_inc_age_mun'].sum()\n",
    "    age_cop_yearly_avg_count = df_cop_dk[(df_cop_dk.municipality=='Greater Copenhagen') & (df_cop_dk.age==age)].groupby(['year', 'municipality', 'age'])['weighted_inc_age_mun'].sum()\n",
    "    buttons_2.append(dict(method='update',\n",
    "                        label=age,\n",
    "                        args=[{'x': [years]*4,\n",
    "                               'y': [age_dk_yearly_avg_count, age_cop_yearly_avg_count],\n",
    "                               'visible': [True]*4}],\n",
    "                        )\n",
    "                 )\n",
    "    \n",
    "# Define the dropdown menu for ethnicity\n",
    "ethnicities = df_cop_dk.ethnicity.unique()\n",
    "buttons_3 = []\n",
    "# Add button for all ethnicities\n",
    "buttons_3.append(dict(method='update',\n",
    "                    label='Ethnicity',\n",
    "                    args=[{'x': [years]*3,\n",
    "                           'y': [dk_yearly_avg_inc, cop_yearly_avg_inc],\n",
    "                           'visible': [True]*3}],\n",
    "                    )\n",
    "             )\n",
    "# Add button for each ehtnicity\n",
    "for ethnicity in ethnicities:\n",
    "    eth_dk_yearly_avg_count = df_cop_dk[(df_cop_dk.municipality=='Denmark') & (df_cop_dk.ethnicity==ethnicity)].groupby(['year', 'municipality', 'ethnicity'])['weighted_inc_eth_mun'].sum()\n",
    "    eth_cop_yearly_avg_count = df_cop_dk[(df_cop_dk.municipality=='Greater Copenhagen') & (df_cop_dk.ethnicity==ethnicity)].groupby(['year', 'municipality', 'ethnicity'])['weighted_inc_eth_mun'].sum()\n",
    "    buttons_3.append(dict(method='update',\n",
    "                        label=ethnicity,\n",
    "                        args=[{'x': [years]*3,\n",
    "                               'y': [eth_dk_yearly_avg_count, eth_cop_yearly_avg_count],\n",
    "                               'visible': [True]*3}],\n",
    "    )\n",
    "                       )\n",
    "    \n",
    "# Define the dropdown menu for education\n",
    "educations = df_cop_dk.education.unique()\n",
    "buttons_4 = []\n",
    "# Add button for all educations\n",
    "buttons_4.append(dict(method='update',\n",
    "                    label='Education',\n",
    "                    args=[{'x': [years]*2,\n",
    "                           'y': [dk_yearly_avg_inc, cop_yearly_avg_inc],\n",
    "                           'visible': [True]*2}],\n",
    "                    )\n",
    "             )\n",
    "# Add button for each education\n",
    "for education in educations:\n",
    "    edu_dk_yearly_avg_count = df_cop_dk[(df_cop_dk.municipality=='Denmark') & (df_cop_dk.education==education)].groupby(['year', 'municipality', 'education'])['weighted_inc_edu_mun'].sum()\n",
    "    edu_cop_yearly_avg_count = df_cop_dk[(df_cop_dk.municipality=='Greater Copenhagen') & (df_cop_dk.education==education)].groupby(['year', 'municipality', 'education'])['weighted_inc_edu_mun'].sum()\n",
    "    buttons_4.append(dict(method='update',\n",
    "                        label=education,\n",
    "                        args=[{'x': [years]*2,\n",
    "                               'y': [edu_dk_yearly_avg_count, edu_cop_yearly_avg_count],\n",
    "                               'visible': [True]*2}],\n",
    "    )\n",
    "                       )\n",
    "\n",
    "updatemenus = [{'buttons': buttons,\n",
    "                'direction': 'down',\n",
    "                'showactive': True,\n",
    "                'active': 0,\n",
    "                'y': 1.13,\n",
    "                'x': 0.15}, \n",
    "                {'buttons': buttons_2,\n",
    "                 'direction': 'down',\n",
    "                 'showactive': True,\n",
    "                 'active': 0,\n",
    "                 'y': 1.13,\n",
    "                 'x': 0.27}, \n",
    "                 {'buttons': buttons_3,\n",
    "                 'direction': 'down',\n",
    "                 'showactive': True,\n",
    "                 'active': 0,\n",
    "                 'y': 1.13,\n",
    "                 'x': 0.68},\n",
    "                 {'buttons': buttons_4,\n",
    "                 'direction': 'down',\n",
    "                 'showactive': True,\n",
    "                 'active': 0,\n",
    "                 'y': 1.13,\n",
    "                 'x': 0.92}]\n",
    "\n",
    "\n",
    "# Update the layout to add the dropdown menu and set the title\n",
    "fig.update_layout(\n",
    "    updatemenus=updatemenus,\n",
    "    title='<b>Annual dissposable income by gender, age, education or ethnicity<b>',\n",
    "    xaxis_tickfont_size=14,\n",
    "    xaxis=dict(\n",
    "              title='',\n",
    "              titlefont_size=16,\n",
    "              domain=[0, 1],\n",
    "    ),\n",
    "    # fix the yaxis range to be the same for all plots\n",
    "    yaxis=dict(\n",
    "        title='<b>Income<b>',\n",
    "        titlefont_size=16,\n",
    "        tickfont_size=14,\n",
    "        range=[200000, 390000],\n",
    "    ),\n",
    "    legend=dict(\n",
    "        title='',\n",
    "        x=0.01,\n",
    "        y=1,\n",
    "        bgcolor='rgba(255, 255, 255, 0)',\n",
    "        bordercolor='rgba(255, 255, 255, 0)'\n",
    "    ),\n",
    "    barmode='group',\n",
    "    bargap=0.15, # gap between bars of adjacent location coordinates.\n",
    "    bargroupgap=0.1 # gap between bars of the same location coordinate.\n",
    ")\n",
    "fig.write_html('dk_cph_income_bar.html')\n",
    "fig.show()"
   ]
  },
  {
   "attachments": {},
   "cell_type": "markdown",
   "metadata": {},
   "source": [
    "### Interactive visualization for days in hospital with filters for age, gender, education and ethnicity"
   ]
  },
  {
   "cell_type": "code",
   "execution_count": 111,
   "metadata": {},
   "outputs": [
    {
     "data": {
      "application/vnd.plotly.v1+json": {
       "config": {
        "plotlyServerURL": "https://plot.ly"
       },
       "data": [
        {
         "marker": {
          "color": "rgb(55, 83, 109)"
         },
         "name": "Denmark",
         "type": "bar",
         "x": [
          2005,
          2006,
          2007,
          2008,
          2009,
          2010,
          2011,
          2012,
          2013,
          2014,
          2015,
          2016,
          2017,
          2018
         ],
         "y": [
          1.017884474305135,
          1.012262539992452,
          0.9998110393942922,
          0.9781689343939935,
          0.96948237160028,
          0.9472355920717627,
          0.9145240238685118,
          0.9014076222305092,
          0.8838315792691391,
          0.8723144686169769,
          0.8444634760587834,
          0.821964230840899,
          0.8082126151393425,
          0.7744991102973222
         ]
        },
        {
         "marker": {
          "color": "rgb(26, 118, 255)"
         },
         "name": "Greater Copenhagen",
         "type": "bar",
         "x": [
          2005,
          2006,
          2007,
          2008,
          2009,
          2010,
          2011,
          2012,
          2013,
          2014,
          2015,
          2016,
          2017,
          2018
         ],
         "y": [
          1.0163778191337378,
          1.0134964417219907,
          1.0019659433732337,
          0.9669269251590779,
          0.9681727637325243,
          0.9332540877681378,
          0.8964687604634008,
          0.879933852158128,
          0.8564572552328836,
          0.8520921186207542,
          0.8183434440547106,
          0.7969028809904927,
          0.7704370659614085,
          0.7339596313933288
         ]
        }
       ],
       "layout": {
        "bargap": 0.15,
        "bargroupgap": 0.1,
        "barmode": "group",
        "legend": {
         "bgcolor": "rgba(255, 255, 255, 0)",
         "bordercolor": "rgba(255, 255, 255, 0)",
         "title": {
          "text": ""
         },
         "x": 0.01,
         "y": 1
        },
        "template": {
         "data": {
          "bar": [
           {
            "error_x": {
             "color": "#2a3f5f"
            },
            "error_y": {
             "color": "#2a3f5f"
            },
            "marker": {
             "line": {
              "color": "#E5ECF6",
              "width": 0.5
             },
             "pattern": {
              "fillmode": "overlay",
              "size": 10,
              "solidity": 0.2
             }
            },
            "type": "bar"
           }
          ],
          "barpolar": [
           {
            "marker": {
             "line": {
              "color": "#E5ECF6",
              "width": 0.5
             },
             "pattern": {
              "fillmode": "overlay",
              "size": 10,
              "solidity": 0.2
             }
            },
            "type": "barpolar"
           }
          ],
          "carpet": [
           {
            "aaxis": {
             "endlinecolor": "#2a3f5f",
             "gridcolor": "white",
             "linecolor": "white",
             "minorgridcolor": "white",
             "startlinecolor": "#2a3f5f"
            },
            "baxis": {
             "endlinecolor": "#2a3f5f",
             "gridcolor": "white",
             "linecolor": "white",
             "minorgridcolor": "white",
             "startlinecolor": "#2a3f5f"
            },
            "type": "carpet"
           }
          ],
          "choropleth": [
           {
            "colorbar": {
             "outlinewidth": 0,
             "ticks": ""
            },
            "type": "choropleth"
           }
          ],
          "contour": [
           {
            "colorbar": {
             "outlinewidth": 0,
             "ticks": ""
            },
            "colorscale": [
             [
              0,
              "#0d0887"
             ],
             [
              0.1111111111111111,
              "#46039f"
             ],
             [
              0.2222222222222222,
              "#7201a8"
             ],
             [
              0.3333333333333333,
              "#9c179e"
             ],
             [
              0.4444444444444444,
              "#bd3786"
             ],
             [
              0.5555555555555556,
              "#d8576b"
             ],
             [
              0.6666666666666666,
              "#ed7953"
             ],
             [
              0.7777777777777778,
              "#fb9f3a"
             ],
             [
              0.8888888888888888,
              "#fdca26"
             ],
             [
              1,
              "#f0f921"
             ]
            ],
            "type": "contour"
           }
          ],
          "contourcarpet": [
           {
            "colorbar": {
             "outlinewidth": 0,
             "ticks": ""
            },
            "type": "contourcarpet"
           }
          ],
          "heatmap": [
           {
            "colorbar": {
             "outlinewidth": 0,
             "ticks": ""
            },
            "colorscale": [
             [
              0,
              "#0d0887"
             ],
             [
              0.1111111111111111,
              "#46039f"
             ],
             [
              0.2222222222222222,
              "#7201a8"
             ],
             [
              0.3333333333333333,
              "#9c179e"
             ],
             [
              0.4444444444444444,
              "#bd3786"
             ],
             [
              0.5555555555555556,
              "#d8576b"
             ],
             [
              0.6666666666666666,
              "#ed7953"
             ],
             [
              0.7777777777777778,
              "#fb9f3a"
             ],
             [
              0.8888888888888888,
              "#fdca26"
             ],
             [
              1,
              "#f0f921"
             ]
            ],
            "type": "heatmap"
           }
          ],
          "heatmapgl": [
           {
            "colorbar": {
             "outlinewidth": 0,
             "ticks": ""
            },
            "colorscale": [
             [
              0,
              "#0d0887"
             ],
             [
              0.1111111111111111,
              "#46039f"
             ],
             [
              0.2222222222222222,
              "#7201a8"
             ],
             [
              0.3333333333333333,
              "#9c179e"
             ],
             [
              0.4444444444444444,
              "#bd3786"
             ],
             [
              0.5555555555555556,
              "#d8576b"
             ],
             [
              0.6666666666666666,
              "#ed7953"
             ],
             [
              0.7777777777777778,
              "#fb9f3a"
             ],
             [
              0.8888888888888888,
              "#fdca26"
             ],
             [
              1,
              "#f0f921"
             ]
            ],
            "type": "heatmapgl"
           }
          ],
          "histogram": [
           {
            "marker": {
             "pattern": {
              "fillmode": "overlay",
              "size": 10,
              "solidity": 0.2
             }
            },
            "type": "histogram"
           }
          ],
          "histogram2d": [
           {
            "colorbar": {
             "outlinewidth": 0,
             "ticks": ""
            },
            "colorscale": [
             [
              0,
              "#0d0887"
             ],
             [
              0.1111111111111111,
              "#46039f"
             ],
             [
              0.2222222222222222,
              "#7201a8"
             ],
             [
              0.3333333333333333,
              "#9c179e"
             ],
             [
              0.4444444444444444,
              "#bd3786"
             ],
             [
              0.5555555555555556,
              "#d8576b"
             ],
             [
              0.6666666666666666,
              "#ed7953"
             ],
             [
              0.7777777777777778,
              "#fb9f3a"
             ],
             [
              0.8888888888888888,
              "#fdca26"
             ],
             [
              1,
              "#f0f921"
             ]
            ],
            "type": "histogram2d"
           }
          ],
          "histogram2dcontour": [
           {
            "colorbar": {
             "outlinewidth": 0,
             "ticks": ""
            },
            "colorscale": [
             [
              0,
              "#0d0887"
             ],
             [
              0.1111111111111111,
              "#46039f"
             ],
             [
              0.2222222222222222,
              "#7201a8"
             ],
             [
              0.3333333333333333,
              "#9c179e"
             ],
             [
              0.4444444444444444,
              "#bd3786"
             ],
             [
              0.5555555555555556,
              "#d8576b"
             ],
             [
              0.6666666666666666,
              "#ed7953"
             ],
             [
              0.7777777777777778,
              "#fb9f3a"
             ],
             [
              0.8888888888888888,
              "#fdca26"
             ],
             [
              1,
              "#f0f921"
             ]
            ],
            "type": "histogram2dcontour"
           }
          ],
          "mesh3d": [
           {
            "colorbar": {
             "outlinewidth": 0,
             "ticks": ""
            },
            "type": "mesh3d"
           }
          ],
          "parcoords": [
           {
            "line": {
             "colorbar": {
              "outlinewidth": 0,
              "ticks": ""
             }
            },
            "type": "parcoords"
           }
          ],
          "pie": [
           {
            "automargin": true,
            "type": "pie"
           }
          ],
          "scatter": [
           {
            "fillpattern": {
             "fillmode": "overlay",
             "size": 10,
             "solidity": 0.2
            },
            "type": "scatter"
           }
          ],
          "scatter3d": [
           {
            "line": {
             "colorbar": {
              "outlinewidth": 0,
              "ticks": ""
             }
            },
            "marker": {
             "colorbar": {
              "outlinewidth": 0,
              "ticks": ""
             }
            },
            "type": "scatter3d"
           }
          ],
          "scattercarpet": [
           {
            "marker": {
             "colorbar": {
              "outlinewidth": 0,
              "ticks": ""
             }
            },
            "type": "scattercarpet"
           }
          ],
          "scattergeo": [
           {
            "marker": {
             "colorbar": {
              "outlinewidth": 0,
              "ticks": ""
             }
            },
            "type": "scattergeo"
           }
          ],
          "scattergl": [
           {
            "marker": {
             "colorbar": {
              "outlinewidth": 0,
              "ticks": ""
             }
            },
            "type": "scattergl"
           }
          ],
          "scattermapbox": [
           {
            "marker": {
             "colorbar": {
              "outlinewidth": 0,
              "ticks": ""
             }
            },
            "type": "scattermapbox"
           }
          ],
          "scatterpolar": [
           {
            "marker": {
             "colorbar": {
              "outlinewidth": 0,
              "ticks": ""
             }
            },
            "type": "scatterpolar"
           }
          ],
          "scatterpolargl": [
           {
            "marker": {
             "colorbar": {
              "outlinewidth": 0,
              "ticks": ""
             }
            },
            "type": "scatterpolargl"
           }
          ],
          "scatterternary": [
           {
            "marker": {
             "colorbar": {
              "outlinewidth": 0,
              "ticks": ""
             }
            },
            "type": "scatterternary"
           }
          ],
          "surface": [
           {
            "colorbar": {
             "outlinewidth": 0,
             "ticks": ""
            },
            "colorscale": [
             [
              0,
              "#0d0887"
             ],
             [
              0.1111111111111111,
              "#46039f"
             ],
             [
              0.2222222222222222,
              "#7201a8"
             ],
             [
              0.3333333333333333,
              "#9c179e"
             ],
             [
              0.4444444444444444,
              "#bd3786"
             ],
             [
              0.5555555555555556,
              "#d8576b"
             ],
             [
              0.6666666666666666,
              "#ed7953"
             ],
             [
              0.7777777777777778,
              "#fb9f3a"
             ],
             [
              0.8888888888888888,
              "#fdca26"
             ],
             [
              1,
              "#f0f921"
             ]
            ],
            "type": "surface"
           }
          ],
          "table": [
           {
            "cells": {
             "fill": {
              "color": "#EBF0F8"
             },
             "line": {
              "color": "white"
             }
            },
            "header": {
             "fill": {
              "color": "#C8D4E3"
             },
             "line": {
              "color": "white"
             }
            },
            "type": "table"
           }
          ]
         },
         "layout": {
          "annotationdefaults": {
           "arrowcolor": "#2a3f5f",
           "arrowhead": 0,
           "arrowwidth": 1
          },
          "autotypenumbers": "strict",
          "coloraxis": {
           "colorbar": {
            "outlinewidth": 0,
            "ticks": ""
           }
          },
          "colorscale": {
           "diverging": [
            [
             0,
             "#8e0152"
            ],
            [
             0.1,
             "#c51b7d"
            ],
            [
             0.2,
             "#de77ae"
            ],
            [
             0.3,
             "#f1b6da"
            ],
            [
             0.4,
             "#fde0ef"
            ],
            [
             0.5,
             "#f7f7f7"
            ],
            [
             0.6,
             "#e6f5d0"
            ],
            [
             0.7,
             "#b8e186"
            ],
            [
             0.8,
             "#7fbc41"
            ],
            [
             0.9,
             "#4d9221"
            ],
            [
             1,
             "#276419"
            ]
           ],
           "sequential": [
            [
             0,
             "#0d0887"
            ],
            [
             0.1111111111111111,
             "#46039f"
            ],
            [
             0.2222222222222222,
             "#7201a8"
            ],
            [
             0.3333333333333333,
             "#9c179e"
            ],
            [
             0.4444444444444444,
             "#bd3786"
            ],
            [
             0.5555555555555556,
             "#d8576b"
            ],
            [
             0.6666666666666666,
             "#ed7953"
            ],
            [
             0.7777777777777778,
             "#fb9f3a"
            ],
            [
             0.8888888888888888,
             "#fdca26"
            ],
            [
             1,
             "#f0f921"
            ]
           ],
           "sequentialminus": [
            [
             0,
             "#0d0887"
            ],
            [
             0.1111111111111111,
             "#46039f"
            ],
            [
             0.2222222222222222,
             "#7201a8"
            ],
            [
             0.3333333333333333,
             "#9c179e"
            ],
            [
             0.4444444444444444,
             "#bd3786"
            ],
            [
             0.5555555555555556,
             "#d8576b"
            ],
            [
             0.6666666666666666,
             "#ed7953"
            ],
            [
             0.7777777777777778,
             "#fb9f3a"
            ],
            [
             0.8888888888888888,
             "#fdca26"
            ],
            [
             1,
             "#f0f921"
            ]
           ]
          },
          "colorway": [
           "#636efa",
           "#EF553B",
           "#00cc96",
           "#ab63fa",
           "#FFA15A",
           "#19d3f3",
           "#FF6692",
           "#B6E880",
           "#FF97FF",
           "#FECB52"
          ],
          "font": {
           "color": "#2a3f5f"
          },
          "geo": {
           "bgcolor": "white",
           "lakecolor": "white",
           "landcolor": "#E5ECF6",
           "showlakes": true,
           "showland": true,
           "subunitcolor": "white"
          },
          "hoverlabel": {
           "align": "left"
          },
          "hovermode": "closest",
          "mapbox": {
           "style": "light"
          },
          "paper_bgcolor": "white",
          "plot_bgcolor": "#E5ECF6",
          "polar": {
           "angularaxis": {
            "gridcolor": "white",
            "linecolor": "white",
            "ticks": ""
           },
           "bgcolor": "#E5ECF6",
           "radialaxis": {
            "gridcolor": "white",
            "linecolor": "white",
            "ticks": ""
           }
          },
          "scene": {
           "xaxis": {
            "backgroundcolor": "#E5ECF6",
            "gridcolor": "white",
            "gridwidth": 2,
            "linecolor": "white",
            "showbackground": true,
            "ticks": "",
            "zerolinecolor": "white"
           },
           "yaxis": {
            "backgroundcolor": "#E5ECF6",
            "gridcolor": "white",
            "gridwidth": 2,
            "linecolor": "white",
            "showbackground": true,
            "ticks": "",
            "zerolinecolor": "white"
           },
           "zaxis": {
            "backgroundcolor": "#E5ECF6",
            "gridcolor": "white",
            "gridwidth": 2,
            "linecolor": "white",
            "showbackground": true,
            "ticks": "",
            "zerolinecolor": "white"
           }
          },
          "shapedefaults": {
           "line": {
            "color": "#2a3f5f"
           }
          },
          "ternary": {
           "aaxis": {
            "gridcolor": "white",
            "linecolor": "white",
            "ticks": ""
           },
           "baxis": {
            "gridcolor": "white",
            "linecolor": "white",
            "ticks": ""
           },
           "bgcolor": "#E5ECF6",
           "caxis": {
            "gridcolor": "white",
            "linecolor": "white",
            "ticks": ""
           }
          },
          "title": {
           "x": 0.05
          },
          "xaxis": {
           "automargin": true,
           "gridcolor": "white",
           "linecolor": "white",
           "ticks": "",
           "title": {
            "standoff": 15
           },
           "zerolinecolor": "white",
           "zerolinewidth": 2
          },
          "yaxis": {
           "automargin": true,
           "gridcolor": "white",
           "linecolor": "white",
           "ticks": "",
           "title": {
            "standoff": 15
           },
           "zerolinecolor": "white",
           "zerolinewidth": 2
          }
         }
        },
        "title": {
         "text": "<b>Annual number of days spent in the hospital by gender, age, education or ethnicity<b>"
        },
        "updatemenus": [
         {
          "active": 0,
          "buttons": [
           {
            "args": [
             {
              "visible": [
               true,
               true
              ],
              "x": [
               [
                2005,
                2006,
                2007,
                2008,
                2009,
                2010,
                2011,
                2012,
                2013,
                2014,
                2015,
                2016,
                2017,
                2018
               ],
               [
                2005,
                2006,
                2007,
                2008,
                2009,
                2010,
                2011,
                2012,
                2013,
                2014,
                2015,
                2016,
                2017,
                2018
               ]
              ],
              "y": [
               [
                1.017884474305135,
                1.012262539992452,
                0.9998110393942922,
                0.9781689343939935,
                0.96948237160028,
                0.9472355920717627,
                0.9145240238685118,
                0.9014076222305092,
                0.8838315792691391,
                0.8723144686169769,
                0.8444634760587834,
                0.821964230840899,
                0.8082126151393425,
                0.7744991102973222
               ],
               [
                1.0163778191337378,
                1.0134964417219907,
                1.0019659433732337,
                0.9669269251590779,
                0.9681727637325243,
                0.9332540877681378,
                0.8964687604634008,
                0.879933852158128,
                0.8564572552328836,
                0.8520921186207542,
                0.8183434440547106,
                0.7969028809904927,
                0.7704370659614085,
                0.7339596313933288
               ]
              ]
             }
            ],
            "label": "Gender",
            "method": "update"
           },
           {
            "args": [
             {
              "visible": [
               true,
               true
              ],
              "x": [
               [
                2005,
                2006,
                2007,
                2008,
                2009,
                2010,
                2011,
                2012,
                2013,
                2014,
                2015,
                2016,
                2017,
                2018
               ],
               [
                2005,
                2006,
                2007,
                2008,
                2009,
                2010,
                2011,
                2012,
                2013,
                2014,
                2015,
                2016,
                2017,
                2018
               ]
              ],
              "y": [
               [
                1.0081960754850823,
                1.0087381177040289,
                0.9958537663305245,
                0.9771860741983805,
                0.970863731687095,
                0.9511345998832837,
                0.9261997759768058,
                0.9179803734132148,
                0.907898881420066,
                0.8986458991701198,
                0.8702125098066532,
                0.8492700025705031,
                0.8375312024937445,
                0.8054031519664244
               ],
               [
                0.9774265501994129,
                0.9873989645467083,
                0.965215869759762,
                0.9443610940462057,
                0.9381331481047132,
                0.9144977051378087,
                0.8809838457913922,
                0.8685595971306416,
                0.843308161270021,
                0.8456392175282501,
                0.8160988335058511,
                0.7997308168228553,
                0.7698101198787606,
                0.7399707038578737
               ]
              ]
             }
            ],
            "label": "Men",
            "method": "update"
           },
           {
            "args": [
             {
              "visible": [
               true,
               true
              ],
              "x": [
               [
                2005,
                2006,
                2007,
                2008,
                2009,
                2010,
                2011,
                2012,
                2013,
                2014,
                2015,
                2016,
                2017,
                2018
               ],
               [
                2005,
                2006,
                2007,
                2008,
                2009,
                2010,
                2011,
                2012,
                2013,
                2014,
                2015,
                2016,
                2017,
                2018
               ]
              ],
              "y": [
               [
                1.0273664589834473,
                1.0157051015347498,
                1.0036809377829092,
                0.9791287790282507,
                0.9681349750348647,
                0.9434339563238643,
                0.9031425836357213,
                0.8852600314167822,
                0.8603761212955263,
                0.8466542253773766,
                0.8193459117593644,
                0.7952937810307745,
                0.7795629027500833,
                0.7442897280671346
               ],
               [
                1.053233871858166,
                1.0381669487972216,
                1.0368292955704448,
                0.988293582596141,
                0.996583515185526,
                0.9510069416972066,
                0.9111344214968602,
                0.8907156839354062,
                0.868917536788261,
                0.8582042183241843,
                0.8204701643268145,
                0.7942223546093523,
                0.7710312519867086,
                0.7282638515062692
               ]
              ]
             }
            ],
            "label": "Women",
            "method": "update"
           }
          ],
          "direction": "down",
          "showactive": true,
          "x": 0.15,
          "y": 1.13
         },
         {
          "active": 0,
          "buttons": [
           {
            "args": [
             {
              "visible": [
               true,
               true,
               true,
               true
              ],
              "x": [
               [
                2005,
                2006,
                2007,
                2008,
                2009,
                2010,
                2011,
                2012,
                2013,
                2014,
                2015,
                2016,
                2017,
                2018
               ],
               [
                2005,
                2006,
                2007,
                2008,
                2009,
                2010,
                2011,
                2012,
                2013,
                2014,
                2015,
                2016,
                2017,
                2018
               ],
               [
                2005,
                2006,
                2007,
                2008,
                2009,
                2010,
                2011,
                2012,
                2013,
                2014,
                2015,
                2016,
                2017,
                2018
               ],
               [
                2005,
                2006,
                2007,
                2008,
                2009,
                2010,
                2011,
                2012,
                2013,
                2014,
                2015,
                2016,
                2017,
                2018
               ]
              ],
              "y": [
               [
                1.017884474305135,
                1.012262539992452,
                0.9998110393942922,
                0.9781689343939935,
                0.96948237160028,
                0.9472355920717627,
                0.9145240238685118,
                0.9014076222305092,
                0.8838315792691391,
                0.8723144686169769,
                0.8444634760587834,
                0.821964230840899,
                0.8082126151393425,
                0.7744991102973222
               ],
               [
                1.0163778191337378,
                1.0134964417219907,
                1.0019659433732337,
                0.9669269251590779,
                0.9681727637325243,
                0.9332540877681378,
                0.8964687604634008,
                0.879933852158128,
                0.8564572552328836,
                0.8520921186207542,
                0.8183434440547106,
                0.7969028809904927,
                0.7704370659614085,
                0.7339596313933288
               ]
              ]
             }
            ],
            "label": "Age",
            "method": "update"
           },
           {
            "args": [
             {
              "visible": [
               true,
               true,
               true,
               true
              ],
              "x": [
               [
                2005,
                2006,
                2007,
                2008,
                2009,
                2010,
                2011,
                2012,
                2013,
                2014,
                2015,
                2016,
                2017,
                2018
               ],
               [
                2005,
                2006,
                2007,
                2008,
                2009,
                2010,
                2011,
                2012,
                2013,
                2014,
                2015,
                2016,
                2017,
                2018
               ],
               [
                2005,
                2006,
                2007,
                2008,
                2009,
                2010,
                2011,
                2012,
                2013,
                2014,
                2015,
                2016,
                2017,
                2018
               ],
               [
                2005,
                2006,
                2007,
                2008,
                2009,
                2010,
                2011,
                2012,
                2013,
                2014,
                2015,
                2016,
                2017,
                2018
               ]
              ],
              "y": [
               [
                0.4356862002711019,
                0.4282942657088436,
                0.4261574899726632,
                0.4026819525088062,
                0.4035946299281434,
                0.3935981099266856,
                0.3662443919599972,
                0.35958908565494413,
                0.3376677731240221,
                0.3374122374368813,
                0.3217355132790497,
                0.32328227657541403,
                0.3073994116051933,
                0.2850928514727889
               ],
               [
                0.376199508059789,
                0.3731264940051568,
                0.3871389289650567,
                0.3554294512480661,
                0.3616132513365964,
                0.341182619623992,
                0.33238472726598933,
                0.3258577519020221,
                0.32162191301441984,
                0.3204290296079345,
                0.3070132602643752,
                0.3177164604792263,
                0.3059173477185878,
                0.2769805653630978
               ]
              ]
             }
            ],
            "label": "30-39",
            "method": "update"
           },
           {
            "args": [
             {
              "visible": [
               true,
               true,
               true,
               true
              ],
              "x": [
               [
                2005,
                2006,
                2007,
                2008,
                2009,
                2010,
                2011,
                2012,
                2013,
                2014,
                2015,
                2016,
                2017,
                2018
               ],
               [
                2005,
                2006,
                2007,
                2008,
                2009,
                2010,
                2011,
                2012,
                2013,
                2014,
                2015,
                2016,
                2017,
                2018
               ],
               [
                2005,
                2006,
                2007,
                2008,
                2009,
                2010,
                2011,
                2012,
                2013,
                2014,
                2015,
                2016,
                2017,
                2018
               ],
               [
                2005,
                2006,
                2007,
                2008,
                2009,
                2010,
                2011,
                2012,
                2013,
                2014,
                2015,
                2016,
                2017,
                2018
               ]
              ],
              "y": [
               [
                0.5626522791837154,
                0.5390032647100566,
                0.5368047958135406,
                0.5086689030187628,
                0.5009338459812798,
                0.4826205769761233,
                0.46897795742179377,
                0.4577292812040624,
                0.4472596855248024,
                0.42853577187129194,
                0.4194844104624052,
                0.4008836140148373,
                0.3899384615180309,
                0.3631170105815136
               ],
               [
                0.5474652540179977,
                0.5345703748095703,
                0.5143972470562577,
                0.4846864858169201,
                0.4889950351077328,
                0.4606735028362827,
                0.46504702439331347,
                0.4456323927549055,
                0.439783640645406,
                0.4176545914283814,
                0.4069289619419119,
                0.3966564282669152,
                0.3815968396327134,
                0.34900839360025804
               ]
              ]
             }
            ],
            "label": "40-49",
            "method": "update"
           },
           {
            "args": [
             {
              "visible": [
               true,
               true,
               true,
               true
              ],
              "x": [
               [
                2005,
                2006,
                2007,
                2008,
                2009,
                2010,
                2011,
                2012,
                2013,
                2014,
                2015,
                2016,
                2017,
                2018
               ],
               [
                2005,
                2006,
                2007,
                2008,
                2009,
                2010,
                2011,
                2012,
                2013,
                2014,
                2015,
                2016,
                2017,
                2018
               ],
               [
                2005,
                2006,
                2007,
                2008,
                2009,
                2010,
                2011,
                2012,
                2013,
                2014,
                2015,
                2016,
                2017,
                2018
               ],
               [
                2005,
                2006,
                2007,
                2008,
                2009,
                2010,
                2011,
                2012,
                2013,
                2014,
                2015,
                2016,
                2017,
                2018
               ]
              ],
              "y": [
               [
                0.9390098186381866,
                0.9166691742688623,
                0.9080984005641746,
                0.8601114833508394,
                0.8324467259698887,
                0.8321388389557207,
                0.7942933635726379,
                0.7659943628651814,
                0.7341160949138668,
                0.7288501096278087,
                0.6916723641780199,
                0.666155455482525,
                0.6464954540609058,
                0.6189797031894437
               ],
               [
                1.0132696747664036,
                0.9879786813790143,
                0.9917739844601958,
                0.9217864558673166,
                0.9079250541199675,
                0.9102668380951084,
                0.8499571098669453,
                0.8240412066337133,
                0.7776678096953705,
                0.7847021580033771,
                0.7475755476002663,
                0.7051586776956533,
                0.6733554865885925,
                0.6325155185806431
               ]
              ]
             }
            ],
            "label": "50-59",
            "method": "update"
           },
           {
            "args": [
             {
              "visible": [
               true,
               true,
               true,
               true
              ],
              "x": [
               [
                2005,
                2006,
                2007,
                2008,
                2009,
                2010,
                2011,
                2012,
                2013,
                2014,
                2015,
                2016,
                2017,
                2018
               ],
               [
                2005,
                2006,
                2007,
                2008,
                2009,
                2010,
                2011,
                2012,
                2013,
                2014,
                2015,
                2016,
                2017,
                2018
               ],
               [
                2005,
                2006,
                2007,
                2008,
                2009,
                2010,
                2011,
                2012,
                2013,
                2014,
                2015,
                2016,
                2017,
                2018
               ],
               [
                2005,
                2006,
                2007,
                2008,
                2009,
                2010,
                2011,
                2012,
                2013,
                2014,
                2015,
                2016,
                2017,
                2018
               ]
              ],
              "y": [
               [
                2.521265153298934,
                2.462209934587985,
                2.3761771875927353,
                2.3192056833536583,
                2.276371684559425,
                2.192139648880498,
                2.1073066695419063,
                2.070670103077427,
                2.030357974717844,
                1.9920388373152373,
                1.9207463672843688,
                1.859897537564322,
                1.8271110662456815,
                1.744867339151319
               ],
               [
                2.9176379761129203,
                2.859385398725816,
                2.7720769905672196,
                2.6856592799094656,
                2.6771369097070603,
                2.5715463339833025,
                2.4692529821831997,
                2.441149966700088,
                2.387573100802784,
                2.389419082095658,
                2.296194065310843,
                2.2318436926160716,
                2.156095029373578,
                2.0657102484025045
               ]
              ]
             }
            ],
            "label": "60-65",
            "method": "update"
           }
          ],
          "direction": "down",
          "showactive": true,
          "x": 0.27,
          "y": 1.13
         },
         {
          "active": 0,
          "buttons": [
           {
            "args": [
             {
              "visible": [
               true,
               true,
               true
              ],
              "x": [
               [
                2005,
                2006,
                2007,
                2008,
                2009,
                2010,
                2011,
                2012,
                2013,
                2014,
                2015,
                2016,
                2017,
                2018
               ],
               [
                2005,
                2006,
                2007,
                2008,
                2009,
                2010,
                2011,
                2012,
                2013,
                2014,
                2015,
                2016,
                2017,
                2018
               ],
               [
                2005,
                2006,
                2007,
                2008,
                2009,
                2010,
                2011,
                2012,
                2013,
                2014,
                2015,
                2016,
                2017,
                2018
               ]
              ],
              "y": [
               [
                1.017884474305135,
                1.012262539992452,
                0.9998110393942922,
                0.9781689343939935,
                0.96948237160028,
                0.9472355920717627,
                0.9145240238685118,
                0.9014076222305092,
                0.8838315792691391,
                0.8723144686169769,
                0.8444634760587834,
                0.821964230840899,
                0.8082126151393425,
                0.7744991102973222
               ],
               [
                1.0163778191337378,
                1.0134964417219907,
                1.0019659433732337,
                0.9669269251590779,
                0.9681727637325243,
                0.9332540877681378,
                0.8964687604634008,
                0.879933852158128,
                0.8564572552328836,
                0.8520921186207542,
                0.8183434440547106,
                0.7969028809904927,
                0.7704370659614085,
                0.7339596313933288
               ]
              ]
             }
            ],
            "label": "Ethnicity",
            "method": "update"
           },
           {
            "args": [
             {
              "visible": [
               true,
               true,
               true
              ],
              "x": [
               [
                2005,
                2006,
                2007,
                2008,
                2009,
                2010,
                2011,
                2012,
                2013,
                2014,
                2015,
                2016,
                2017,
                2018
               ],
               [
                2005,
                2006,
                2007,
                2008,
                2009,
                2010,
                2011,
                2012,
                2013,
                2014,
                2015,
                2016,
                2017,
                2018
               ],
               [
                2005,
                2006,
                2007,
                2008,
                2009,
                2010,
                2011,
                2012,
                2013,
                2014,
                2015,
                2016,
                2017,
                2018
               ]
              ],
              "y": [
               [
                1.0552684825377647,
                1.0524214627944415,
                1.0423938720134727,
                1.0224438914037761,
                1.0151454805523885,
                0.9951967607978981,
                0.9622542296975665,
                0.9488326021708109,
                0.9336374737207412,
                0.9234785459192686,
                0.8990325430209067,
                0.8779418203789312,
                0.8679730841784274,
                0.8332357820524645
               ],
               [
                1.090851884474634,
                1.0948768057709473,
                1.0856153820026788,
                1.051032824770129,
                1.0602466945036486,
                1.0237931555096595,
                0.9866964811997085,
                0.9692396230534205,
                0.9477565438461755,
                0.9475874931279392,
                0.9198545831268159,
                0.9005058802921244,
                0.8753066027543439,
                0.8368570756846423
               ]
              ]
             }
            ],
            "label": "Danish",
            "method": "update"
           },
           {
            "args": [
             {
              "visible": [
               true,
               true,
               true
              ],
              "x": [
               [
                2005,
                2006,
                2007,
                2008,
                2009,
                2010,
                2011,
                2012,
                2013,
                2014,
                2015,
                2016,
                2017,
                2018
               ],
               [
                2005,
                2006,
                2007,
                2008,
                2009,
                2010,
                2011,
                2012,
                2013,
                2014,
                2015,
                2016,
                2017,
                2018
               ],
               [
                2005,
                2006,
                2007,
                2008,
                2009,
                2010,
                2011,
                2012,
                2013,
                2014,
                2015,
                2016,
                2017,
                2018
               ]
              ],
              "y": [
               [
                0.6556348002821745,
                0.6360323139997239,
                0.6152839624974697,
                0.5845376991779367,
                0.5809364660602689,
                0.5501538551317232,
                0.5238996865325067,
                0.5268841022511165,
                0.5027401808591874,
                0.4944406550424601,
                0.4599515299162577,
                0.4423723770410769,
                0.4204908393050127,
                0.3983224635881464
               ],
               [
                0.6356901589513766,
                0.6092760520752702,
                0.6076517569450486,
                0.580293560130554,
                0.5521930514683795,
                0.5488799054193196,
                0.5198602781931032,
                0.5235161623436909,
                0.4989093251199387,
                0.4970520667478373,
                0.45498997671728253,
                0.4402077157832786,
                0.4248520276773398,
                0.4012319069960236
               ]
              ]
             }
            ],
            "label": "Immigrants and descendants",
            "method": "update"
           },
           {
            "args": [
             {
              "visible": [
               true,
               true,
               true
              ],
              "x": [
               [
                2005,
                2006,
                2007,
                2008,
                2009,
                2010,
                2011,
                2012,
                2013,
                2014,
                2015,
                2016,
                2017,
                2018
               ],
               [
                2005,
                2006,
                2007,
                2008,
                2009,
                2010,
                2011,
                2012,
                2013,
                2014,
                2015,
                2016,
                2017,
                2018
               ],
               [
                2005,
                2006,
                2007,
                2008,
                2009,
                2010,
                2011,
                2012,
                2013,
                2014,
                2015,
                2016,
                2017,
                2018
               ]
              ],
              "y": [
               [
                0.5081993759113876,
                0.48715456123044043,
                0.4803822038645575,
                0.46981392189934135,
                0.4592885363829191,
                0.4339665370061334,
                0.436617703515782,
                0.44285166347663313,
                0.423018116314976,
                0.4251273019119993,
                0.3949912560169785,
                0.4022846738827778,
                0.3824928249503481,
                0.3822209959054909
               ],
               [
                0.4106214941672865,
                0.39221339882905193,
                0.4121385337243394,
                0.4118239446674168,
                0.401295330932758,
                0.3911876063045689,
                0.3939471373328313,
                0.3968162721289722,
                0.3952874002459187,
                0.3895846811038006,
                0.3648408129158044,
                0.37235291734197673,
                0.3642633147257715,
                0.3578076283225534
               ]
              ]
             }
            ],
            "label": "Non-western immigrants and descendants",
            "method": "update"
           }
          ],
          "direction": "down",
          "showactive": true,
          "x": 0.68,
          "y": 1.13
         },
         {
          "active": 0,
          "buttons": [
           {
            "args": [
             {
              "visible": [
               true,
               true
              ],
              "x": [
               [
                2005,
                2006,
                2007,
                2008,
                2009,
                2010,
                2011,
                2012,
                2013,
                2014,
                2015,
                2016,
                2017,
                2018
               ],
               [
                2005,
                2006,
                2007,
                2008,
                2009,
                2010,
                2011,
                2012,
                2013,
                2014,
                2015,
                2016,
                2017,
                2018
               ]
              ],
              "y": [
               [
                1.017884474305135,
                1.012262539992452,
                0.9998110393942922,
                0.9781689343939935,
                0.96948237160028,
                0.9472355920717627,
                0.9145240238685118,
                0.9014076222305092,
                0.8838315792691391,
                0.8723144686169769,
                0.8444634760587834,
                0.821964230840899,
                0.8082126151393425,
                0.7744991102973222
               ],
               [
                1.0163778191337378,
                1.0134964417219907,
                1.0019659433732337,
                0.9669269251590779,
                0.9681727637325243,
                0.9332540877681378,
                0.8964687604634008,
                0.879933852158128,
                0.8564572552328836,
                0.8520921186207542,
                0.8183434440547106,
                0.7969028809904927,
                0.7704370659614085,
                0.7339596313933288
               ]
              ]
             }
            ],
            "label": "Education",
            "method": "update"
           },
           {
            "args": [
             {
              "visible": [
               true,
               true
              ],
              "x": [
               [
                2005,
                2006,
                2007,
                2008,
                2009,
                2010,
                2011,
                2012,
                2013,
                2014,
                2015,
                2016,
                2017,
                2018
               ],
               [
                2005,
                2006,
                2007,
                2008,
                2009,
                2010,
                2011,
                2012,
                2013,
                2014,
                2015,
                2016,
                2017,
                2018
               ]
              ],
              "y": [
               [
                0.7070505866588287,
                0.7008796313292216,
                0.6933868934284471,
                0.6704899237808389,
                0.6740631001871625,
                0.6526872863532355,
                0.640674953835778,
                0.634503279384822,
                0.6130704160261834,
                0.6115981251572509,
                0.5863174378704525,
                0.573071504558588,
                0.5555389998825356,
                0.5379384577952927
               ],
               [
                0.6585219804268868,
                0.6739650731998794,
                0.655949889677112,
                0.6248168231883328,
                0.6309519703404984,
                0.6110538089963329,
                0.593875114945044,
                0.5887225568037053,
                0.5642866003242314,
                0.5707581082481546,
                0.5339756266480129,
                0.5272511820735203,
                0.5056853803414691,
                0.4899951518644012
               ]
              ]
             }
            ],
            "label": "Higher education",
            "method": "update"
           },
           {
            "args": [
             {
              "visible": [
               true,
               true
              ],
              "x": [
               [
                2005,
                2006,
                2007,
                2008,
                2009,
                2010,
                2011,
                2012,
                2013,
                2014,
                2015,
                2016,
                2017,
                2018
               ],
               [
                2005,
                2006,
                2007,
                2008,
                2009,
                2010,
                2011,
                2012,
                2013,
                2014,
                2015,
                2016,
                2017,
                2018
               ]
              ],
              "y": [
               [
                1.1105608293032883,
                1.1082898407546213,
                1.0969173636188883,
                1.078572022097127,
                1.0686638524546435,
                1.0490780302940135,
                1.012096284173793,
                0.9991185961844681,
                0.9857121126893982,
                0.9736783745187614,
                0.9484384109660183,
                0.9256827316413471,
                0.9169062300084798,
                0.8786712988892461
               ],
               [
                1.1670317828207495,
                1.161366995052524,
                1.1575323000880973,
                1.1267091929363657,
                1.131788392130983,
                1.0961483727750856,
                1.0555896328853227,
                1.0390211908728144,
                1.0218371623068017,
                1.018577553255821,
                0.9945962564709562,
                0.97166253506948,
                0.9489501607809511,
                0.9025076112403722
               ]
              ]
             }
            ],
            "label": "No higher education",
            "method": "update"
           }
          ],
          "direction": "down",
          "showactive": true,
          "x": 0.92,
          "y": 1.13
         }
        ],
        "xaxis": {
         "domain": [
          0,
          1
         ],
         "tickfont": {
          "size": 14
         },
         "title": {
          "font": {
           "size": 16
          },
          "text": ""
         }
        },
        "yaxis": {
         "range": [
          0,
          3
         ],
         "tickfont": {
          "size": 14
         },
         "title": {
          "font": {
           "size": 16
          },
          "text": "<b>Days spent in hospital<b>"
         }
        }
       }
      }
     },
     "metadata": {},
     "output_type": "display_data"
    }
   ],
   "source": [
    "# Create the initial plot\n",
    "fig = go.Figure()\n",
    "# Line plot (commented out)\n",
    "#fig = px.line(df_income, x='year', y='count', color='municipality', markers=True, width=900, height=400)\n",
    "#fig.update_traces(line_color='rgb(55, 83, 109)', selector=dict(name='Denmark'))\n",
    "#fig.update_traces(line_color='rgb(26, 118, 255)', selector=dict(name='Greater Copenhagen'))\n",
    "# Bar plot \n",
    "fig.add_trace(go.Bar(x=years,\n",
    "                y=dk_yearly_avg_hosp_days,\n",
    "                name='Denmark',\n",
    "                marker_color='rgb(55, 83, 109)'\n",
    "                ))\n",
    "fig.add_trace(go.Bar(x=years,\n",
    "                y=cop_yearly_avg_hosp_days,\n",
    "                name='Greater Copenhagen',\n",
    "                marker_color='rgb(26, 118, 255)'\n",
    "                ))\n",
    "\n",
    "# Define the dropdown menu\n",
    "genders = df_cop_dk.gender.unique()\n",
    "buttons = []\n",
    "# Add button for all genders\n",
    "buttons.append(dict(method='update',\n",
    "                    label='Gender',\n",
    "                    args=[{'x': [years]*2,\n",
    "                           'y': [dk_yearly_avg_hosp_days, cop_yearly_avg_hosp_days],\n",
    "                           'visible': [True]*2}],\n",
    "                    )\n",
    "             )\n",
    "\n",
    "\n",
    "# Add button for each gender\n",
    "for gender in genders:\n",
    "    dk_yearly_avg_count = df_cop_dk[(df_cop_dk.municipality=='Denmark') & (df_cop_dk.gender==gender)].groupby(['year', 'municipality', 'gender'])['weighted_days_gen_mun'].sum()\n",
    "    cop_yearly_avg_count = df_cop_dk[(df_cop_dk.municipality=='Greater Copenhagen') & (df_cop_dk.gender==gender)].groupby(['year', 'municipality', 'gender'])['weighted_days_gen_mun'].sum()\n",
    "    buttons.append(dict(method='update',\n",
    "                        label=gender,\n",
    "                        args=[{'x': [years]*2,\n",
    "                               'y': [dk_yearly_avg_count, cop_yearly_avg_count],\n",
    "                               'visible': [True]*2}],\n",
    "                        )\n",
    "                        # add selection to the list of visible values\n",
    "                        \n",
    "                 )\n",
    "\n",
    "# Define the dropdown menu for Age\n",
    "ages = df_cop_dk.age.unique()\n",
    "buttons_2 = []\n",
    "# Add button for all ages\n",
    "buttons_2.append(dict(method='update',\n",
    "                    label='Age',\n",
    "                    args=[{'x': [years]*4,\n",
    "                           'y': [dk_yearly_avg_hosp_days, cop_yearly_avg_hosp_days],\n",
    "                           'visible': [True]*4}],\n",
    "                    )\n",
    "             )\n",
    "# Add button for each age\n",
    "for age in ages:\n",
    "    age_dk_yearly_avg_count = df_cop_dk[(df_cop_dk.municipality=='Denmark') & (df_cop_dk.age==age)].groupby(['year', 'municipality', 'age'])['weighted_days_age_mun'].sum()\n",
    "    age_cop_yearly_avg_count = df_cop_dk[(df_cop_dk.municipality=='Greater Copenhagen') & (df_cop_dk.age==age)].groupby(['year', 'municipality', 'age'])['weighted_days_age_mun'].sum()\n",
    "    buttons_2.append(dict(method='update',\n",
    "                        label=age,\n",
    "                        args=[{'x': [years]*4,\n",
    "                               'y': [age_dk_yearly_avg_count, age_cop_yearly_avg_count],\n",
    "                               'visible': [True]*4}],\n",
    "                        )\n",
    "                 )\n",
    "    \n",
    "# Define the dropdown menu for ethnicity\n",
    "ethnicities = df_cop_dk.ethnicity.unique()\n",
    "buttons_3 = []\n",
    "# Add button for all ethnicities\n",
    "buttons_3.append(dict(method='update',\n",
    "                    label='Ethnicity',\n",
    "                    args=[{'x': [years]*3,\n",
    "                           'y': [dk_yearly_avg_hosp_days, cop_yearly_avg_hosp_days],\n",
    "                           'visible': [True]*3}],\n",
    "                    )\n",
    "             )\n",
    "# Add button for each ehtnicity\n",
    "for ethnicity in ethnicities:\n",
    "    eth_dk_yearly_avg_count = df_cop_dk[(df_cop_dk.municipality=='Denmark') & (df_cop_dk.ethnicity==ethnicity)].groupby(['year', 'municipality', 'ethnicity'])['weighted_days_eth_mun'].sum()\n",
    "    eth_cop_yearly_avg_count = df_cop_dk[(df_cop_dk.municipality=='Greater Copenhagen') & (df_cop_dk.ethnicity==ethnicity)].groupby(['year', 'municipality', 'ethnicity'])['weighted_days_eth_mun'].sum()\n",
    "    buttons_3.append(dict(method='update',\n",
    "                        label=ethnicity,\n",
    "                        args=[{'x': [years]*3,\n",
    "                               'y': [eth_dk_yearly_avg_count, eth_cop_yearly_avg_count],\n",
    "                               'visible': [True]*3}],\n",
    "    )\n",
    "                       )\n",
    "    \n",
    "# Define the dropdown menu for education\n",
    "educations = df_cop_dk.education.unique()\n",
    "buttons_4 = []\n",
    "# Add button for all educations\n",
    "buttons_4.append(dict(method='update',\n",
    "                    label='Education',\n",
    "                    args=[{'x': [years]*2,\n",
    "                           'y': [dk_yearly_avg_hosp_days, cop_yearly_avg_hosp_days],\n",
    "                           'visible': [True]*2}],\n",
    "                    )\n",
    "             )\n",
    "# Add button for each education\n",
    "for education in educations:\n",
    "    edu_dk_yearly_avg_count = df_cop_dk[(df_cop_dk.municipality=='Denmark') & (df_cop_dk.education==education)].groupby(['year', 'municipality', 'education'])['weighted_days_edu_mun'].sum()\n",
    "    edu_cop_yearly_avg_count = df_cop_dk[(df_cop_dk.municipality=='Greater Copenhagen') & (df_cop_dk.education==education)].groupby(['year', 'municipality', 'education'])['weighted_days_edu_mun'].sum()\n",
    "    buttons_4.append(dict(method='update',\n",
    "                        label=education,\n",
    "                        args=[{'x': [years]*2,\n",
    "                               'y': [edu_dk_yearly_avg_count, edu_cop_yearly_avg_count],\n",
    "                               'visible': [True]*2}],\n",
    "    )\n",
    "                       )\n",
    "\n",
    "updatemenus = [{'buttons': buttons,\n",
    "                'direction': 'down',\n",
    "                'showactive': True,\n",
    "                'active': 0,\n",
    "                'y': 1.13,\n",
    "                'x': 0.15}, \n",
    "                {'buttons': buttons_2,\n",
    "                 'direction': 'down',\n",
    "                 'showactive': True,\n",
    "                 'active': 0,\n",
    "                 'y': 1.13,\n",
    "                 'x': 0.27}, \n",
    "                 {'buttons': buttons_3,\n",
    "                 'direction': 'down',\n",
    "                 'showactive': True,\n",
    "                 'active': 0,\n",
    "                 'y': 1.13,\n",
    "                 'x': 0.68},\n",
    "                 {'buttons': buttons_4,\n",
    "                 'direction': 'down',\n",
    "                 'showactive': True,\n",
    "                 'active': 0,\n",
    "                 'y': 1.13,\n",
    "                 'x': 0.92}]\n",
    "\n",
    "\n",
    "# Update the layout to add the dropdown menu and set the title\n",
    "fig.update_layout(\n",
    "    updatemenus=updatemenus,\n",
    "    title='<b>Annual number of days spent in the hospital by gender, age, education or ethnicity<b>',\n",
    "    xaxis_tickfont_size=14,\n",
    "    xaxis=dict(\n",
    "              title='',\n",
    "              titlefont_size=16,\n",
    "              domain=[0, 1],\n",
    "    ),\n",
    "    # fix the yaxis range to be the same for all plots\n",
    "    yaxis=dict(\n",
    "        title='<b>Days spent in hospital<b>',\n",
    "        titlefont_size=16,\n",
    "        tickfont_size=14,\n",
    "        range=[0, 3],\n",
    "    ),\n",
    "    legend=dict(\n",
    "        title='',\n",
    "        x=0.01,\n",
    "        y=1,\n",
    "        bgcolor='rgba(255, 255, 255, 0)',\n",
    "        bordercolor='rgba(255, 255, 255, 0)'\n",
    "    ),\n",
    "    barmode='group',\n",
    "    bargap=0.15, # gap between bars of adjacent location coordinates.\n",
    "    bargroupgap=0.1 # gap between bars of the same location coordinate.\n",
    ")\n",
    "fig.write_html('dk_cph_days_hospital_bar.html')\n",
    "fig.show()"
   ]
  },
  {
   "attachments": {},
   "cell_type": "markdown",
   "metadata": {},
   "source": [
    "### Interactive visualization for number of hospitalizations with filters for age, gender, education and ethnicity"
   ]
  },
  {
   "cell_type": "code",
   "execution_count": 112,
   "metadata": {},
   "outputs": [
    {
     "data": {
      "application/vnd.plotly.v1+json": {
       "config": {
        "plotlyServerURL": "https://plot.ly"
       },
       "data": [
        {
         "marker": {
          "color": "rgb(55, 83, 109)"
         },
         "name": "Denmark",
         "type": "bar",
         "x": [
          2005,
          2006,
          2007,
          2008,
          2009,
          2010,
          2011,
          2012,
          2013,
          2014,
          2015,
          2016,
          2017,
          2018
         ],
         "y": [
          0.1741144502375346,
          0.17915780965147327,
          0.18130644302035198,
          0.1783064577621164,
          0.1887686221043544,
          0.19394735848365874,
          0.1949479583435654,
          0.1971320751347023,
          0.1970082712651897,
          0.201199739395784,
          0.1991448786600204,
          0.1954423676142803,
          0.1910824644265829,
          0.18251291966823602
         ]
        },
        {
         "marker": {
          "color": "rgb(26, 118, 255)"
         },
         "name": "Greater Copenhagen",
         "type": "bar",
         "x": [
          2005,
          2006,
          2007,
          2008,
          2009,
          2010,
          2011,
          2012,
          2013,
          2014,
          2015,
          2016,
          2017,
          2018
         ],
         "y": [
          0.1682945105759108,
          0.17354344863430515,
          0.17475326782431264,
          0.16896855134407796,
          0.18306119306697932,
          0.18814280605371778,
          0.1899301065075116,
          0.1924498456238731,
          0.1916172905667165,
          0.1966668025764897,
          0.1953520751115149,
          0.1911744277561356,
          0.1788860687072057,
          0.1738810968768509
         ]
        }
       ],
       "layout": {
        "bargap": 0.15,
        "bargroupgap": 0.1,
        "barmode": "group",
        "legend": {
         "bgcolor": "rgba(255, 255, 255, 0)",
         "bordercolor": "rgba(255, 255, 255, 0)",
         "title": {
          "text": ""
         },
         "x": 0.01,
         "y": 1
        },
        "template": {
         "data": {
          "bar": [
           {
            "error_x": {
             "color": "#2a3f5f"
            },
            "error_y": {
             "color": "#2a3f5f"
            },
            "marker": {
             "line": {
              "color": "#E5ECF6",
              "width": 0.5
             },
             "pattern": {
              "fillmode": "overlay",
              "size": 10,
              "solidity": 0.2
             }
            },
            "type": "bar"
           }
          ],
          "barpolar": [
           {
            "marker": {
             "line": {
              "color": "#E5ECF6",
              "width": 0.5
             },
             "pattern": {
              "fillmode": "overlay",
              "size": 10,
              "solidity": 0.2
             }
            },
            "type": "barpolar"
           }
          ],
          "carpet": [
           {
            "aaxis": {
             "endlinecolor": "#2a3f5f",
             "gridcolor": "white",
             "linecolor": "white",
             "minorgridcolor": "white",
             "startlinecolor": "#2a3f5f"
            },
            "baxis": {
             "endlinecolor": "#2a3f5f",
             "gridcolor": "white",
             "linecolor": "white",
             "minorgridcolor": "white",
             "startlinecolor": "#2a3f5f"
            },
            "type": "carpet"
           }
          ],
          "choropleth": [
           {
            "colorbar": {
             "outlinewidth": 0,
             "ticks": ""
            },
            "type": "choropleth"
           }
          ],
          "contour": [
           {
            "colorbar": {
             "outlinewidth": 0,
             "ticks": ""
            },
            "colorscale": [
             [
              0,
              "#0d0887"
             ],
             [
              0.1111111111111111,
              "#46039f"
             ],
             [
              0.2222222222222222,
              "#7201a8"
             ],
             [
              0.3333333333333333,
              "#9c179e"
             ],
             [
              0.4444444444444444,
              "#bd3786"
             ],
             [
              0.5555555555555556,
              "#d8576b"
             ],
             [
              0.6666666666666666,
              "#ed7953"
             ],
             [
              0.7777777777777778,
              "#fb9f3a"
             ],
             [
              0.8888888888888888,
              "#fdca26"
             ],
             [
              1,
              "#f0f921"
             ]
            ],
            "type": "contour"
           }
          ],
          "contourcarpet": [
           {
            "colorbar": {
             "outlinewidth": 0,
             "ticks": ""
            },
            "type": "contourcarpet"
           }
          ],
          "heatmap": [
           {
            "colorbar": {
             "outlinewidth": 0,
             "ticks": ""
            },
            "colorscale": [
             [
              0,
              "#0d0887"
             ],
             [
              0.1111111111111111,
              "#46039f"
             ],
             [
              0.2222222222222222,
              "#7201a8"
             ],
             [
              0.3333333333333333,
              "#9c179e"
             ],
             [
              0.4444444444444444,
              "#bd3786"
             ],
             [
              0.5555555555555556,
              "#d8576b"
             ],
             [
              0.6666666666666666,
              "#ed7953"
             ],
             [
              0.7777777777777778,
              "#fb9f3a"
             ],
             [
              0.8888888888888888,
              "#fdca26"
             ],
             [
              1,
              "#f0f921"
             ]
            ],
            "type": "heatmap"
           }
          ],
          "heatmapgl": [
           {
            "colorbar": {
             "outlinewidth": 0,
             "ticks": ""
            },
            "colorscale": [
             [
              0,
              "#0d0887"
             ],
             [
              0.1111111111111111,
              "#46039f"
             ],
             [
              0.2222222222222222,
              "#7201a8"
             ],
             [
              0.3333333333333333,
              "#9c179e"
             ],
             [
              0.4444444444444444,
              "#bd3786"
             ],
             [
              0.5555555555555556,
              "#d8576b"
             ],
             [
              0.6666666666666666,
              "#ed7953"
             ],
             [
              0.7777777777777778,
              "#fb9f3a"
             ],
             [
              0.8888888888888888,
              "#fdca26"
             ],
             [
              1,
              "#f0f921"
             ]
            ],
            "type": "heatmapgl"
           }
          ],
          "histogram": [
           {
            "marker": {
             "pattern": {
              "fillmode": "overlay",
              "size": 10,
              "solidity": 0.2
             }
            },
            "type": "histogram"
           }
          ],
          "histogram2d": [
           {
            "colorbar": {
             "outlinewidth": 0,
             "ticks": ""
            },
            "colorscale": [
             [
              0,
              "#0d0887"
             ],
             [
              0.1111111111111111,
              "#46039f"
             ],
             [
              0.2222222222222222,
              "#7201a8"
             ],
             [
              0.3333333333333333,
              "#9c179e"
             ],
             [
              0.4444444444444444,
              "#bd3786"
             ],
             [
              0.5555555555555556,
              "#d8576b"
             ],
             [
              0.6666666666666666,
              "#ed7953"
             ],
             [
              0.7777777777777778,
              "#fb9f3a"
             ],
             [
              0.8888888888888888,
              "#fdca26"
             ],
             [
              1,
              "#f0f921"
             ]
            ],
            "type": "histogram2d"
           }
          ],
          "histogram2dcontour": [
           {
            "colorbar": {
             "outlinewidth": 0,
             "ticks": ""
            },
            "colorscale": [
             [
              0,
              "#0d0887"
             ],
             [
              0.1111111111111111,
              "#46039f"
             ],
             [
              0.2222222222222222,
              "#7201a8"
             ],
             [
              0.3333333333333333,
              "#9c179e"
             ],
             [
              0.4444444444444444,
              "#bd3786"
             ],
             [
              0.5555555555555556,
              "#d8576b"
             ],
             [
              0.6666666666666666,
              "#ed7953"
             ],
             [
              0.7777777777777778,
              "#fb9f3a"
             ],
             [
              0.8888888888888888,
              "#fdca26"
             ],
             [
              1,
              "#f0f921"
             ]
            ],
            "type": "histogram2dcontour"
           }
          ],
          "mesh3d": [
           {
            "colorbar": {
             "outlinewidth": 0,
             "ticks": ""
            },
            "type": "mesh3d"
           }
          ],
          "parcoords": [
           {
            "line": {
             "colorbar": {
              "outlinewidth": 0,
              "ticks": ""
             }
            },
            "type": "parcoords"
           }
          ],
          "pie": [
           {
            "automargin": true,
            "type": "pie"
           }
          ],
          "scatter": [
           {
            "fillpattern": {
             "fillmode": "overlay",
             "size": 10,
             "solidity": 0.2
            },
            "type": "scatter"
           }
          ],
          "scatter3d": [
           {
            "line": {
             "colorbar": {
              "outlinewidth": 0,
              "ticks": ""
             }
            },
            "marker": {
             "colorbar": {
              "outlinewidth": 0,
              "ticks": ""
             }
            },
            "type": "scatter3d"
           }
          ],
          "scattercarpet": [
           {
            "marker": {
             "colorbar": {
              "outlinewidth": 0,
              "ticks": ""
             }
            },
            "type": "scattercarpet"
           }
          ],
          "scattergeo": [
           {
            "marker": {
             "colorbar": {
              "outlinewidth": 0,
              "ticks": ""
             }
            },
            "type": "scattergeo"
           }
          ],
          "scattergl": [
           {
            "marker": {
             "colorbar": {
              "outlinewidth": 0,
              "ticks": ""
             }
            },
            "type": "scattergl"
           }
          ],
          "scattermapbox": [
           {
            "marker": {
             "colorbar": {
              "outlinewidth": 0,
              "ticks": ""
             }
            },
            "type": "scattermapbox"
           }
          ],
          "scatterpolar": [
           {
            "marker": {
             "colorbar": {
              "outlinewidth": 0,
              "ticks": ""
             }
            },
            "type": "scatterpolar"
           }
          ],
          "scatterpolargl": [
           {
            "marker": {
             "colorbar": {
              "outlinewidth": 0,
              "ticks": ""
             }
            },
            "type": "scatterpolargl"
           }
          ],
          "scatterternary": [
           {
            "marker": {
             "colorbar": {
              "outlinewidth": 0,
              "ticks": ""
             }
            },
            "type": "scatterternary"
           }
          ],
          "surface": [
           {
            "colorbar": {
             "outlinewidth": 0,
             "ticks": ""
            },
            "colorscale": [
             [
              0,
              "#0d0887"
             ],
             [
              0.1111111111111111,
              "#46039f"
             ],
             [
              0.2222222222222222,
              "#7201a8"
             ],
             [
              0.3333333333333333,
              "#9c179e"
             ],
             [
              0.4444444444444444,
              "#bd3786"
             ],
             [
              0.5555555555555556,
              "#d8576b"
             ],
             [
              0.6666666666666666,
              "#ed7953"
             ],
             [
              0.7777777777777778,
              "#fb9f3a"
             ],
             [
              0.8888888888888888,
              "#fdca26"
             ],
             [
              1,
              "#f0f921"
             ]
            ],
            "type": "surface"
           }
          ],
          "table": [
           {
            "cells": {
             "fill": {
              "color": "#EBF0F8"
             },
             "line": {
              "color": "white"
             }
            },
            "header": {
             "fill": {
              "color": "#C8D4E3"
             },
             "line": {
              "color": "white"
             }
            },
            "type": "table"
           }
          ]
         },
         "layout": {
          "annotationdefaults": {
           "arrowcolor": "#2a3f5f",
           "arrowhead": 0,
           "arrowwidth": 1
          },
          "autotypenumbers": "strict",
          "coloraxis": {
           "colorbar": {
            "outlinewidth": 0,
            "ticks": ""
           }
          },
          "colorscale": {
           "diverging": [
            [
             0,
             "#8e0152"
            ],
            [
             0.1,
             "#c51b7d"
            ],
            [
             0.2,
             "#de77ae"
            ],
            [
             0.3,
             "#f1b6da"
            ],
            [
             0.4,
             "#fde0ef"
            ],
            [
             0.5,
             "#f7f7f7"
            ],
            [
             0.6,
             "#e6f5d0"
            ],
            [
             0.7,
             "#b8e186"
            ],
            [
             0.8,
             "#7fbc41"
            ],
            [
             0.9,
             "#4d9221"
            ],
            [
             1,
             "#276419"
            ]
           ],
           "sequential": [
            [
             0,
             "#0d0887"
            ],
            [
             0.1111111111111111,
             "#46039f"
            ],
            [
             0.2222222222222222,
             "#7201a8"
            ],
            [
             0.3333333333333333,
             "#9c179e"
            ],
            [
             0.4444444444444444,
             "#bd3786"
            ],
            [
             0.5555555555555556,
             "#d8576b"
            ],
            [
             0.6666666666666666,
             "#ed7953"
            ],
            [
             0.7777777777777778,
             "#fb9f3a"
            ],
            [
             0.8888888888888888,
             "#fdca26"
            ],
            [
             1,
             "#f0f921"
            ]
           ],
           "sequentialminus": [
            [
             0,
             "#0d0887"
            ],
            [
             0.1111111111111111,
             "#46039f"
            ],
            [
             0.2222222222222222,
             "#7201a8"
            ],
            [
             0.3333333333333333,
             "#9c179e"
            ],
            [
             0.4444444444444444,
             "#bd3786"
            ],
            [
             0.5555555555555556,
             "#d8576b"
            ],
            [
             0.6666666666666666,
             "#ed7953"
            ],
            [
             0.7777777777777778,
             "#fb9f3a"
            ],
            [
             0.8888888888888888,
             "#fdca26"
            ],
            [
             1,
             "#f0f921"
            ]
           ]
          },
          "colorway": [
           "#636efa",
           "#EF553B",
           "#00cc96",
           "#ab63fa",
           "#FFA15A",
           "#19d3f3",
           "#FF6692",
           "#B6E880",
           "#FF97FF",
           "#FECB52"
          ],
          "font": {
           "color": "#2a3f5f"
          },
          "geo": {
           "bgcolor": "white",
           "lakecolor": "white",
           "landcolor": "#E5ECF6",
           "showlakes": true,
           "showland": true,
           "subunitcolor": "white"
          },
          "hoverlabel": {
           "align": "left"
          },
          "hovermode": "closest",
          "mapbox": {
           "style": "light"
          },
          "paper_bgcolor": "white",
          "plot_bgcolor": "#E5ECF6",
          "polar": {
           "angularaxis": {
            "gridcolor": "white",
            "linecolor": "white",
            "ticks": ""
           },
           "bgcolor": "#E5ECF6",
           "radialaxis": {
            "gridcolor": "white",
            "linecolor": "white",
            "ticks": ""
           }
          },
          "scene": {
           "xaxis": {
            "backgroundcolor": "#E5ECF6",
            "gridcolor": "white",
            "gridwidth": 2,
            "linecolor": "white",
            "showbackground": true,
            "ticks": "",
            "zerolinecolor": "white"
           },
           "yaxis": {
            "backgroundcolor": "#E5ECF6",
            "gridcolor": "white",
            "gridwidth": 2,
            "linecolor": "white",
            "showbackground": true,
            "ticks": "",
            "zerolinecolor": "white"
           },
           "zaxis": {
            "backgroundcolor": "#E5ECF6",
            "gridcolor": "white",
            "gridwidth": 2,
            "linecolor": "white",
            "showbackground": true,
            "ticks": "",
            "zerolinecolor": "white"
           }
          },
          "shapedefaults": {
           "line": {
            "color": "#2a3f5f"
           }
          },
          "ternary": {
           "aaxis": {
            "gridcolor": "white",
            "linecolor": "white",
            "ticks": ""
           },
           "baxis": {
            "gridcolor": "white",
            "linecolor": "white",
            "ticks": ""
           },
           "bgcolor": "#E5ECF6",
           "caxis": {
            "gridcolor": "white",
            "linecolor": "white",
            "ticks": ""
           }
          },
          "title": {
           "x": 0.05
          },
          "xaxis": {
           "automargin": true,
           "gridcolor": "white",
           "linecolor": "white",
           "ticks": "",
           "title": {
            "standoff": 15
           },
           "zerolinecolor": "white",
           "zerolinewidth": 2
          },
          "yaxis": {
           "automargin": true,
           "gridcolor": "white",
           "linecolor": "white",
           "ticks": "",
           "title": {
            "standoff": 15
           },
           "zerolinecolor": "white",
           "zerolinewidth": 2
          }
         }
        },
        "title": {
         "text": "<b>Annual number of hospitalizations by gender, age, education or ethnicity<b>"
        },
        "updatemenus": [
         {
          "active": 0,
          "buttons": [
           {
            "args": [
             {
              "visible": [
               true,
               true
              ],
              "x": [
               [
                2005,
                2006,
                2007,
                2008,
                2009,
                2010,
                2011,
                2012,
                2013,
                2014,
                2015,
                2016,
                2017,
                2018
               ],
               [
                2005,
                2006,
                2007,
                2008,
                2009,
                2010,
                2011,
                2012,
                2013,
                2014,
                2015,
                2016,
                2017,
                2018
               ]
              ],
              "y": [
               [
                0.1741144502375346,
                0.17915780965147327,
                0.18130644302035198,
                0.1783064577621164,
                0.1887686221043544,
                0.19394735848365874,
                0.1949479583435654,
                0.1971320751347023,
                0.1970082712651897,
                0.201199739395784,
                0.1991448786600204,
                0.1954423676142803,
                0.1910824644265829,
                0.18251291966823602
               ],
               [
                0.1682945105759108,
                0.17354344863430515,
                0.17475326782431264,
                0.16896855134407796,
                0.18306119306697932,
                0.18814280605371778,
                0.1899301065075116,
                0.1924498456238731,
                0.1916172905667165,
                0.1966668025764897,
                0.1953520751115149,
                0.1911744277561356,
                0.1788860687072057,
                0.1738810968768509
               ]
              ]
             }
            ],
            "label": "Gender",
            "method": "update"
           },
           {
            "args": [
             {
              "visible": [
               true,
               true
              ],
              "x": [
               [
                2005,
                2006,
                2007,
                2008,
                2009,
                2010,
                2011,
                2012,
                2013,
                2014,
                2015,
                2016,
                2017,
                2018
               ],
               [
                2005,
                2006,
                2007,
                2008,
                2009,
                2010,
                2011,
                2012,
                2013,
                2014,
                2015,
                2016,
                2017,
                2018
               ]
              ],
              "y": [
               [
                0.1725531388166912,
                0.17773831282995511,
                0.1783819142931195,
                0.1757330944219369,
                0.1858992105508,
                0.1913586610067268,
                0.1937122950600555,
                0.197526993719579,
                0.198857285108761,
                0.20211066197930522,
                0.2008404141848828,
                0.1973423852650219,
                0.1939580573843728,
                0.1857728258572985
               ],
               [
                0.1620602060360248,
                0.1668777485483755,
                0.1658615835777114,
                0.1616617927991128,
                0.1742082455250338,
                0.18198702038836181,
                0.1837512311210319,
                0.1865743902927462,
                0.1871583412016834,
                0.1910818873556005,
                0.1905686408311752,
                0.1858351422589504,
                0.1738113191889077,
                0.1704165469657336
               ]
              ]
             }
            ],
            "label": "Men",
            "method": "update"
           },
           {
            "args": [
             {
              "visible": [
               true,
               true
              ],
              "x": [
               [
                2005,
                2006,
                2007,
                2008,
                2009,
                2010,
                2011,
                2012,
                2013,
                2014,
                2015,
                2016,
                2017,
                2018
               ],
               [
                2005,
                2006,
                2007,
                2008,
                2009,
                2010,
                2011,
                2012,
                2013,
                2014,
                2015,
                2016,
                2017,
                2018
               ]
              ],
              "y": [
               [
                0.1756388433513714,
                0.1805407620146976,
                0.18415842356534298,
                0.1808120985093413,
                0.1915586358208142,
                0.1964629225340127,
                0.1961482165942225,
                0.1967487194344064,
                0.1952133111745696,
                0.2003156915886638,
                0.1974982005759197,
                0.19359525400169292,
                0.188286554097873,
                0.1793434155947963
               ],
               [
                0.17419239808512715,
                0.17984333329414734,
                0.1831867533982903,
                0.1758854915376569,
                0.1914320182465203,
                0.1939678927843658,
                0.19578060368099842,
                0.1980179103992006,
                0.195841645856516,
                0.2019555399308389,
                0.1998832429170054,
                0.1962343319829833,
                0.1836944482552074,
                0.177163101195578
               ]
              ]
             }
            ],
            "label": "Women",
            "method": "update"
           }
          ],
          "direction": "down",
          "showactive": true,
          "x": 0.15,
          "y": 1.13
         },
         {
          "active": 0,
          "buttons": [
           {
            "args": [
             {
              "visible": [
               true,
               true,
               true,
               true
              ],
              "x": [
               [
                2005,
                2006,
                2007,
                2008,
                2009,
                2010,
                2011,
                2012,
                2013,
                2014,
                2015,
                2016,
                2017,
                2018
               ],
               [
                2005,
                2006,
                2007,
                2008,
                2009,
                2010,
                2011,
                2012,
                2013,
                2014,
                2015,
                2016,
                2017,
                2018
               ],
               [
                2005,
                2006,
                2007,
                2008,
                2009,
                2010,
                2011,
                2012,
                2013,
                2014,
                2015,
                2016,
                2017,
                2018
               ],
               [
                2005,
                2006,
                2007,
                2008,
                2009,
                2010,
                2011,
                2012,
                2013,
                2014,
                2015,
                2016,
                2017,
                2018
               ]
              ],
              "y": [
               [
                0.1741144502375346,
                0.17915780965147327,
                0.18130644302035198,
                0.1783064577621164,
                0.1887686221043544,
                0.19394735848365874,
                0.1949479583435654,
                0.1971320751347023,
                0.1970082712651897,
                0.201199739395784,
                0.1991448786600204,
                0.1954423676142803,
                0.1910824644265829,
                0.18251291966823602
               ],
               [
                0.1682945105759108,
                0.17354344863430515,
                0.17475326782431264,
                0.16896855134407796,
                0.18306119306697932,
                0.18814280605371778,
                0.1899301065075116,
                0.1924498456238731,
                0.1916172905667165,
                0.1966668025764897,
                0.1953520751115149,
                0.1911744277561356,
                0.1788860687072057,
                0.1738810968768509
               ]
              ]
             }
            ],
            "label": "Age",
            "method": "update"
           },
           {
            "args": [
             {
              "visible": [
               true,
               true,
               true,
               true
              ],
              "x": [
               [
                2005,
                2006,
                2007,
                2008,
                2009,
                2010,
                2011,
                2012,
                2013,
                2014,
                2015,
                2016,
                2017,
                2018
               ],
               [
                2005,
                2006,
                2007,
                2008,
                2009,
                2010,
                2011,
                2012,
                2013,
                2014,
                2015,
                2016,
                2017,
                2018
               ],
               [
                2005,
                2006,
                2007,
                2008,
                2009,
                2010,
                2011,
                2012,
                2013,
                2014,
                2015,
                2016,
                2017,
                2018
               ],
               [
                2005,
                2006,
                2007,
                2008,
                2009,
                2010,
                2011,
                2012,
                2013,
                2014,
                2015,
                2016,
                2017,
                2018
               ]
              ],
              "y": [
               [
                0.11764645702101101,
                0.1202824957654014,
                0.1232275036274766,
                0.1180967214510306,
                0.1238523728859859,
                0.1233015367730799,
                0.1191567681878366,
                0.1181381844426246,
                0.1160139381112974,
                0.1192978889722358,
                0.1148391005250736,
                0.1138374083036723,
                0.1061255232153864,
                0.0996556518024316
               ],
               [
                0.1088452557304568,
                0.1123699203824649,
                0.1160056621713024,
                0.108374514561958,
                0.11596629144859791,
                0.1140413942142699,
                0.1149607620618092,
                0.1163002505102982,
                0.1173459233921678,
                0.1190264238868589,
                0.1179458066776049,
                0.11838082910966918,
                0.1077235873229933,
                0.0992146423748654
               ]
              ]
             }
            ],
            "label": "30-39",
            "method": "update"
           },
           {
            "args": [
             {
              "visible": [
               true,
               true,
               true,
               true
              ],
              "x": [
               [
                2005,
                2006,
                2007,
                2008,
                2009,
                2010,
                2011,
                2012,
                2013,
                2014,
                2015,
                2016,
                2017,
                2018
               ],
               [
                2005,
                2006,
                2007,
                2008,
                2009,
                2010,
                2011,
                2012,
                2013,
                2014,
                2015,
                2016,
                2017,
                2018
               ],
               [
                2005,
                2006,
                2007,
                2008,
                2009,
                2010,
                2011,
                2012,
                2013,
                2014,
                2015,
                2016,
                2017,
                2018
               ],
               [
                2005,
                2006,
                2007,
                2008,
                2009,
                2010,
                2011,
                2012,
                2013,
                2014,
                2015,
                2016,
                2017,
                2018
               ]
              ],
              "y": [
               [
                0.1262527013995668,
                0.1264719916521625,
                0.1265771433087018,
                0.1204192255575485,
                0.1266676284008618,
                0.1293986110435018,
                0.1308397787646984,
                0.1299305039873633,
                0.1295780176114137,
                0.1294899035097499,
                0.12725741778322192,
                0.1223732976964872,
                0.1158776905905515,
                0.1084186226069608
               ],
               [
                0.12581810284320338,
                0.12736305557579208,
                0.1241216640031412,
                0.1164590936034914,
                0.1259454088441311,
                0.1291342083544095,
                0.13424424127597198,
                0.1345676405076401,
                0.1346005433384436,
                0.1347937704683875,
                0.13180494180461239,
                0.1255636660945158,
                0.1174956066040852,
                0.1104905465847921
               ]
              ]
             }
            ],
            "label": "40-49",
            "method": "update"
           },
           {
            "args": [
             {
              "visible": [
               true,
               true,
               true,
               true
              ],
              "x": [
               [
                2005,
                2006,
                2007,
                2008,
                2009,
                2010,
                2011,
                2012,
                2013,
                2014,
                2015,
                2016,
                2017,
                2018
               ],
               [
                2005,
                2006,
                2007,
                2008,
                2009,
                2010,
                2011,
                2012,
                2013,
                2014,
                2015,
                2016,
                2017,
                2018
               ],
               [
                2005,
                2006,
                2007,
                2008,
                2009,
                2010,
                2011,
                2012,
                2013,
                2014,
                2015,
                2016,
                2017,
                2018
               ],
               [
                2005,
                2006,
                2007,
                2008,
                2009,
                2010,
                2011,
                2012,
                2013,
                2014,
                2015,
                2016,
                2017,
                2018
               ]
              ],
              "y": [
               [
                0.17694980627944348,
                0.1807461299277711,
                0.1799585218617764,
                0.1739076411166808,
                0.1795579700145526,
                0.1866056870370337,
                0.1864480635702401,
                0.1846393381580967,
                0.1819900632639318,
                0.1829167997651118,
                0.1791678728163835,
                0.1731873586599091,
                0.1663448633264272,
                0.1580813734983096
               ],
               [
                0.1851056174330963,
                0.1906239713966234,
                0.1892505861504903,
                0.1785166985747707,
                0.1884982736415198,
                0.2014995759520719,
                0.20184081846376858,
                0.2008381365943148,
                0.1965587930646244,
                0.2017175517608053,
                0.2003247679145677,
                0.1911122761082307,
                0.1765883358195727,
                0.1675106834479725
               ]
              ]
             }
            ],
            "label": "50-59",
            "method": "update"
           },
           {
            "args": [
             {
              "visible": [
               true,
               true,
               true,
               true
              ],
              "x": [
               [
                2005,
                2006,
                2007,
                2008,
                2009,
                2010,
                2011,
                2012,
                2013,
                2014,
                2015,
                2016,
                2017,
                2018
               ],
               [
                2005,
                2006,
                2007,
                2008,
                2009,
                2010,
                2011,
                2012,
                2013,
                2014,
                2015,
                2016,
                2017,
                2018
               ],
               [
                2005,
                2006,
                2007,
                2008,
                2009,
                2010,
                2011,
                2012,
                2013,
                2014,
                2015,
                2016,
                2017,
                2018
               ],
               [
                2005,
                2006,
                2007,
                2008,
                2009,
                2010,
                2011,
                2012,
                2013,
                2014,
                2015,
                2016,
                2017,
                2018
               ]
              ],
              "y": [
               [
                0.3686518119207955,
                0.37348160030026445,
                0.3735692538800504,
                0.3683300035979993,
                0.3892639948009364,
                0.3978807697764074,
                0.40007747606894517,
                0.40679994410507,
                0.4067756492152384,
                0.4161164318884441,
                0.4126233968976227,
                0.4050707060235811,
                0.3995264279561078,
                0.380876715566951
               ],
               [
                0.4012286167209549,
                0.4063979315418954,
                0.406844284333822,
                0.3974519118163137,
                0.43336632649512496,
                0.4456010942203203,
                0.4499183747148077,
                0.460695368018911,
                0.4610664444899818,
                0.4787196449381363,
                0.4779061966571209,
                0.4701262952678742,
                0.441648428945771,
                0.4353532262869494
               ]
              ]
             }
            ],
            "label": "60-65",
            "method": "update"
           }
          ],
          "direction": "down",
          "showactive": true,
          "x": 0.27,
          "y": 1.13
         },
         {
          "active": 0,
          "buttons": [
           {
            "args": [
             {
              "visible": [
               true,
               true,
               true
              ],
              "x": [
               [
                2005,
                2006,
                2007,
                2008,
                2009,
                2010,
                2011,
                2012,
                2013,
                2014,
                2015,
                2016,
                2017,
                2018
               ],
               [
                2005,
                2006,
                2007,
                2008,
                2009,
                2010,
                2011,
                2012,
                2013,
                2014,
                2015,
                2016,
                2017,
                2018
               ],
               [
                2005,
                2006,
                2007,
                2008,
                2009,
                2010,
                2011,
                2012,
                2013,
                2014,
                2015,
                2016,
                2017,
                2018
               ]
              ],
              "y": [
               [
                0.1741144502375346,
                0.17915780965147327,
                0.18130644302035198,
                0.1783064577621164,
                0.1887686221043544,
                0.19394735848365874,
                0.1949479583435654,
                0.1971320751347023,
                0.1970082712651897,
                0.201199739395784,
                0.1991448786600204,
                0.1954423676142803,
                0.1910824644265829,
                0.18251291966823602
               ],
               [
                0.1682945105759108,
                0.17354344863430515,
                0.17475326782431264,
                0.16896855134407796,
                0.18306119306697932,
                0.18814280605371778,
                0.1899301065075116,
                0.1924498456238731,
                0.1916172905667165,
                0.1966668025764897,
                0.1953520751115149,
                0.1911744277561356,
                0.1788860687072057,
                0.1738810968768509
               ]
              ]
             }
            ],
            "label": "Ethnicity",
            "method": "update"
           },
           {
            "args": [
             {
              "visible": [
               true,
               true,
               true
              ],
              "x": [
               [
                2005,
                2006,
                2007,
                2008,
                2009,
                2010,
                2011,
                2012,
                2013,
                2014,
                2015,
                2016,
                2017,
                2018
               ],
               [
                2005,
                2006,
                2007,
                2008,
                2009,
                2010,
                2011,
                2012,
                2013,
                2014,
                2015,
                2016,
                2017,
                2018
               ],
               [
                2005,
                2006,
                2007,
                2008,
                2009,
                2010,
                2011,
                2012,
                2013,
                2014,
                2015,
                2016,
                2017,
                2018
               ]
              ],
              "y": [
               [
                0.1786115434550546,
                0.18421724201016332,
                0.18677787352729341,
                0.1840504565518882,
                0.1949998207808605,
                0.2008762978646815,
                0.2021921507852773,
                0.2046629232369896,
                0.2049333783550995,
                0.2099724941530652,
                0.20855527077942881,
                0.20552883924927862,
                0.2019700761693402,
                0.19328406627808659
               ],
               [
                0.17766171765999061,
                0.1839238286573609,
                0.18526421969136148,
                0.17979724412670212,
                0.1957118872288241,
                0.20145088950253248,
                0.2035532263665559,
                0.2063429813438358,
                0.2062392760628774,
                0.2128575953619832,
                0.2127957895968525,
                0.2092447479489204,
                0.1973663959800494,
                0.1926859764476809
               ]
              ]
             }
            ],
            "label": "Danish",
            "method": "update"
           },
           {
            "args": [
             {
              "visible": [
               true,
               true,
               true
              ],
              "x": [
               [
                2005,
                2006,
                2007,
                2008,
                2009,
                2010,
                2011,
                2012,
                2013,
                2014,
                2015,
                2016,
                2017,
                2018
               ],
               [
                2005,
                2006,
                2007,
                2008,
                2009,
                2010,
                2011,
                2012,
                2013,
                2014,
                2015,
                2016,
                2017,
                2018
               ],
               [
                2005,
                2006,
                2007,
                2008,
                2009,
                2010,
                2011,
                2012,
                2013,
                2014,
                2015,
                2016,
                2017,
                2018
               ]
              ],
              "y": [
               [
                0.1278501018691628,
                0.1289714865294987,
                0.128067059379004,
                0.1241894557572547,
                0.1319284136969482,
                0.1330099044568036,
                0.13206306888544822,
                0.13320951877667742,
                0.131641568350355,
                0.13183593014602119,
                0.1280462650014597,
                0.1215929137797261,
                0.1150929186758403,
                0.10867096047816871
               ],
               [
                0.1204192567851687,
                0.122190557602781,
                0.1250867151441254,
                0.119243754707506,
                0.1267556803395185,
                0.131454359101483,
                0.1332141361968184,
                0.13632007948835811,
                0.1330419312486058,
                0.1352051684305819,
                0.1319818204448602,
                0.1273100272337854,
                0.11613641625263289,
                0.11199881295573949
               ]
              ]
             }
            ],
            "label": "Immigrants and descendants",
            "method": "update"
           },
           {
            "args": [
             {
              "visible": [
               true,
               true,
               true
              ],
              "x": [
               [
                2005,
                2006,
                2007,
                2008,
                2009,
                2010,
                2011,
                2012,
                2013,
                2014,
                2015,
                2016,
                2017,
                2018
               ],
               [
                2005,
                2006,
                2007,
                2008,
                2009,
                2010,
                2011,
                2012,
                2013,
                2014,
                2015,
                2016,
                2017,
                2018
               ],
               [
                2005,
                2006,
                2007,
                2008,
                2009,
                2010,
                2011,
                2012,
                2013,
                2014,
                2015,
                2016,
                2017,
                2018
               ]
              ],
              "y": [
               [
                0.1147410332630049,
                0.1147831700434847,
                0.1178445029670976,
                0.1143347078346566,
                0.1220461861935005,
                0.1219944743249286,
                0.12464858385500849,
                0.1277482004686359,
                0.1274497375857885,
                0.1278563966796557,
                0.125187840835342,
                0.12448627341908271,
                0.11785548821079961,
                0.1142593523101267
               ],
               [
                0.0919658443296989,
                0.0938227763047969,
                0.1006991070229617,
                0.0972920480549192,
                0.103747890534196,
                0.1086170937744012,
                0.1137060769913638,
                0.1181730693069298,
                0.1195637722454294,
                0.1199944182003263,
                0.11868143149854571,
                0.1194818462100152,
                0.1099674100482449,
                0.106647927526601
               ]
              ]
             }
            ],
            "label": "Non-western immigrants and descendants",
            "method": "update"
           }
          ],
          "direction": "down",
          "showactive": true,
          "x": 0.68,
          "y": 1.13
         },
         {
          "active": 0,
          "buttons": [
           {
            "args": [
             {
              "visible": [
               true,
               true
              ],
              "x": [
               [
                2005,
                2006,
                2007,
                2008,
                2009,
                2010,
                2011,
                2012,
                2013,
                2014,
                2015,
                2016,
                2017,
                2018
               ],
               [
                2005,
                2006,
                2007,
                2008,
                2009,
                2010,
                2011,
                2012,
                2013,
                2014,
                2015,
                2016,
                2017,
                2018
               ]
              ],
              "y": [
               [
                0.1741144502375346,
                0.17915780965147327,
                0.18130644302035198,
                0.1783064577621164,
                0.1887686221043544,
                0.19394735848365874,
                0.1949479583435654,
                0.1971320751347023,
                0.1970082712651897,
                0.201199739395784,
                0.1991448786600204,
                0.1954423676142803,
                0.1910824644265829,
                0.18251291966823602
               ],
               [
                0.1682945105759108,
                0.17354344863430515,
                0.17475326782431264,
                0.16896855134407796,
                0.18306119306697932,
                0.18814280605371778,
                0.1899301065075116,
                0.1924498456238731,
                0.1916172905667165,
                0.1966668025764897,
                0.1953520751115149,
                0.1911744277561356,
                0.1788860687072057,
                0.1738810968768509
               ]
              ]
             }
            ],
            "label": "Education",
            "method": "update"
           },
           {
            "args": [
             {
              "visible": [
               true,
               true
              ],
              "x": [
               [
                2005,
                2006,
                2007,
                2008,
                2009,
                2010,
                2011,
                2012,
                2013,
                2014,
                2015,
                2016,
                2017,
                2018
               ],
               [
                2005,
                2006,
                2007,
                2008,
                2009,
                2010,
                2011,
                2012,
                2013,
                2014,
                2015,
                2016,
                2017,
                2018
               ]
              ],
              "y": [
               [
                0.1357202491966287,
                0.1399974598434912,
                0.1419983709328137,
                0.1378086971491119,
                0.1464146646879191,
                0.1484829612103273,
                0.14940181361641489,
                0.1497205545694284,
                0.1470728442147798,
                0.1516103303967937,
                0.1479966902963018,
                0.1454226984556205,
                0.13975948609279878,
                0.1344672364225105
               ],
               [
                0.128265382537391,
                0.1343280042765254,
                0.1325309936905976,
                0.1274830975792598,
                0.136870336174312,
                0.1394557384913214,
                0.14079762514131058,
                0.1427148313644507,
                0.1392481017765495,
                0.1450564966167586,
                0.1408002632717485,
                0.1400377627470224,
                0.13014982573194592,
                0.1277716370196661
               ]
              ]
             }
            ],
            "label": "Higher education",
            "method": "update"
           },
           {
            "args": [
             {
              "visible": [
               true,
               true
              ],
              "x": [
               [
                2005,
                2006,
                2007,
                2008,
                2009,
                2010,
                2011,
                2012,
                2013,
                2014,
                2015,
                2016,
                2017,
                2018
               ],
               [
                2005,
                2006,
                2007,
                2008,
                2009,
                2010,
                2011,
                2012,
                2013,
                2014,
                2015,
                2016,
                2017,
                2018
               ]
              ],
              "y": [
               [
                0.1855213120782144,
                0.1911900968498248,
                0.1937155816185176,
                0.1914700794354598,
                0.202931423325014,
                0.2096030985145746,
                0.21110918769630752,
                0.2144164957505298,
                0.2157179416407955,
                0.2203966421537895,
                0.2196562950808621,
                0.2161939618918384,
                0.213060185013153,
                0.20357117640398928
               ],
               [
                0.18514851021862488,
                0.19062070316679408,
                0.19373395779950542,
                0.188342250089697,
                0.2054706266309078,
                0.21275504668863468,
                0.2157645677949746,
                0.219617371464649,
                0.2212570334086901,
                0.22720461362692929,
                0.22915934457745998,
                0.22431126339211552,
                0.2117495886383629,
                0.2057395324478955
               ]
              ]
             }
            ],
            "label": "No higher education",
            "method": "update"
           }
          ],
          "direction": "down",
          "showactive": true,
          "x": 0.92,
          "y": 1.13
         }
        ],
        "xaxis": {
         "domain": [
          0,
          1
         ],
         "tickfont": {
          "size": 14
         },
         "title": {
          "font": {
           "size": 16
          },
          "text": ""
         }
        },
        "yaxis": {
         "range": [
          0,
          0.5
         ],
         "tickfont": {
          "size": 14
         },
         "title": {
          "font": {
           "size": 16
          },
          "text": "<b>Number of hospitalizations<b>"
         }
        }
       }
      }
     },
     "metadata": {},
     "output_type": "display_data"
    }
   ],
   "source": [
    "# Create the initial plot\n",
    "fig = go.Figure()\n",
    "# Line plot (commented out)\n",
    "#fig = px.line(df_income, x='year', y='count', color='municipality', markers=True, width=900, height=400)\n",
    "#fig.update_traces(line_color='rgb(55, 83, 109)', selector=dict(name='Denmark'))\n",
    "#fig.update_traces(line_color='rgb(26, 118, 255)', selector=dict(name='Greater Copenhagen'))\n",
    "# Bar plot \n",
    "fig.add_trace(go.Bar(x=years,\n",
    "                y=dk_yearly_avg_hosp_times,\n",
    "                name='Denmark',\n",
    "                marker_color='rgb(55, 83, 109)'\n",
    "                ))\n",
    "fig.add_trace(go.Bar(x=years,\n",
    "                y=cop_yearly_avg_hosp_times,\n",
    "                name='Greater Copenhagen',\n",
    "                marker_color='rgb(26, 118, 255)'\n",
    "                ))\n",
    "\n",
    "# Define the dropdown menu\n",
    "genders = df_cop_dk.gender.unique()\n",
    "buttons = []\n",
    "# Add button for all genders\n",
    "buttons.append(dict(method='update',\n",
    "                    label='Gender',\n",
    "                    args=[{'x': [years]*2,\n",
    "                           'y': [dk_yearly_avg_hosp_times, cop_yearly_avg_hosp_times],\n",
    "                           'visible': [True]*2}],\n",
    "                    )\n",
    "             )\n",
    "\n",
    "\n",
    "# Add button for each gender\n",
    "for gender in genders:\n",
    "    dk_yearly_avg_count = df_cop_dk[(df_cop_dk.municipality=='Denmark') & (df_cop_dk.gender==gender)].groupby(['year', 'municipality', 'gender'])['weighted_hosp_gen_mun'].sum()\n",
    "    cop_yearly_avg_count = df_cop_dk[(df_cop_dk.municipality=='Greater Copenhagen') & (df_cop_dk.gender==gender)].groupby(['year', 'municipality', 'gender'])['weighted_hosp_gen_mun'].sum()\n",
    "    buttons.append(dict(method='update',\n",
    "                        label=gender,\n",
    "                        args=[{'x': [years]*2,\n",
    "                               'y': [dk_yearly_avg_count, cop_yearly_avg_count],\n",
    "                               'visible': [True]*2}],\n",
    "                        )\n",
    "                        # add selection to the list of visible values\n",
    "                        \n",
    "                 )\n",
    "\n",
    "# Define the dropdown menu for Age\n",
    "ages = df_cop_dk.age.unique()\n",
    "buttons_2 = []\n",
    "# Add button for all ages\n",
    "buttons_2.append(dict(method='update',\n",
    "                    label='Age',\n",
    "                    args=[{'x': [years]*4,\n",
    "                           'y': [dk_yearly_avg_hosp_times, cop_yearly_avg_hosp_times],\n",
    "                           'visible': [True]*4}],\n",
    "                    )\n",
    "             )\n",
    "# Add button for each age\n",
    "for age in ages:\n",
    "    age_dk_yearly_avg_count = df_cop_dk[(df_cop_dk.municipality=='Denmark') & (df_cop_dk.age==age)].groupby(['year', 'municipality', 'age'])['weighted_hosp_age_mun'].sum()\n",
    "    age_cop_yearly_avg_count = df_cop_dk[(df_cop_dk.municipality=='Greater Copenhagen') & (df_cop_dk.age==age)].groupby(['year', 'municipality', 'age'])['weighted_hosp_age_mun'].sum()\n",
    "    buttons_2.append(dict(method='update',\n",
    "                        label=age,\n",
    "                        args=[{'x': [years]*4,\n",
    "                               'y': [age_dk_yearly_avg_count, age_cop_yearly_avg_count],\n",
    "                               'visible': [True]*4}],\n",
    "                        )\n",
    "                 )\n",
    "    \n",
    "# Define the dropdown menu for ethnicity\n",
    "ethnicities = df_cop_dk.ethnicity.unique()\n",
    "buttons_3 = []\n",
    "# Add button for all ethnicities\n",
    "buttons_3.append(dict(method='update',\n",
    "                    label='Ethnicity',\n",
    "                    args=[{'x': [years]*3,\n",
    "                           'y': [dk_yearly_avg_hosp_times, cop_yearly_avg_hosp_times],\n",
    "                           'visible': [True]*3}],\n",
    "                    )\n",
    "             )\n",
    "# Add button for each ehtnicity\n",
    "for ethnicity in ethnicities:\n",
    "    eth_dk_yearly_avg_count = df_cop_dk[(df_cop_dk.municipality=='Denmark') & (df_cop_dk.ethnicity==ethnicity)].groupby(['year', 'municipality', 'ethnicity'])['weighted_hosp_eth_mun'].sum()\n",
    "    eth_cop_yearly_avg_count = df_cop_dk[(df_cop_dk.municipality=='Greater Copenhagen') & (df_cop_dk.ethnicity==ethnicity)].groupby(['year', 'municipality', 'ethnicity'])['weighted_hosp_eth_mun'].sum()\n",
    "    buttons_3.append(dict(method='update',\n",
    "                        label=ethnicity,\n",
    "                        args=[{'x': [years]*3,\n",
    "                               'y': [eth_dk_yearly_avg_count, eth_cop_yearly_avg_count],\n",
    "                               'visible': [True]*3}],\n",
    "    )\n",
    "                       )\n",
    "    \n",
    "# Define the dropdown menu for education\n",
    "educations = df_cop_dk.education.unique()\n",
    "buttons_4 = []\n",
    "# Add button for all educations\n",
    "buttons_4.append(dict(method='update',\n",
    "                    label='Education',\n",
    "                    args=[{'x': [years]*2,\n",
    "                           'y': [dk_yearly_avg_hosp_times, cop_yearly_avg_hosp_times],\n",
    "                           'visible': [True]*2}],\n",
    "                    )\n",
    "             )\n",
    "# Add button for each education\n",
    "for education in educations:\n",
    "    edu_dk_yearly_avg_count = df_cop_dk[(df_cop_dk.municipality=='Denmark') & (df_cop_dk.education==education)].groupby(['year', 'municipality', 'education'])['weighted_hosp_edu_mun'].sum()\n",
    "    edu_cop_yearly_avg_count = df_cop_dk[(df_cop_dk.municipality=='Greater Copenhagen') & (df_cop_dk.education==education)].groupby(['year', 'municipality', 'education'])['weighted_hosp_edu_mun'].sum()\n",
    "    buttons_4.append(dict(method='update',\n",
    "                        label=education,\n",
    "                        args=[{'x': [years]*2,\n",
    "                               'y': [edu_dk_yearly_avg_count, edu_cop_yearly_avg_count],\n",
    "                               'visible': [True]*2}],\n",
    "    )\n",
    "                       )\n",
    "\n",
    "updatemenus = [{'buttons': buttons,\n",
    "                'direction': 'down',\n",
    "                'showactive': True,\n",
    "                'active': 0,\n",
    "                'y': 1.13,\n",
    "                'x': 0.15}, \n",
    "                {'buttons': buttons_2,\n",
    "                 'direction': 'down',\n",
    "                 'showactive': True,\n",
    "                 'active': 0,\n",
    "                 'y': 1.13,\n",
    "                 'x': 0.27}, \n",
    "                 {'buttons': buttons_3,\n",
    "                 'direction': 'down',\n",
    "                 'showactive': True,\n",
    "                 'active': 0,\n",
    "                 'y': 1.13,\n",
    "                 'x': 0.68},\n",
    "                 {'buttons': buttons_4,\n",
    "                 'direction': 'down',\n",
    "                 'showactive': True,\n",
    "                 'active': 0,\n",
    "                 'y': 1.13,\n",
    "                 'x': 0.92}]\n",
    "\n",
    "\n",
    "# Update the layout to add the dropdown menu and set the title\n",
    "fig.update_layout(\n",
    "    updatemenus=updatemenus,\n",
    "    title='<b>Annual number of hospitalizations by gender, age, education or ethnicity<b>',\n",
    "    xaxis_tickfont_size=14,\n",
    "    xaxis=dict(\n",
    "              title='',\n",
    "              titlefont_size=16,\n",
    "              domain=[0, 1],\n",
    "    ),\n",
    "    # fix the yaxis range to be the same for all plots\n",
    "    yaxis=dict(\n",
    "        title='<b>Number of hospitalizations<b>',\n",
    "        titlefont_size=16,\n",
    "        tickfont_size=14,\n",
    "        range=[0, 0.5],\n",
    "    ),\n",
    "    legend=dict(\n",
    "        title='',\n",
    "        x=0.01,\n",
    "        y=1,\n",
    "        bgcolor='rgba(255, 255, 255, 0)',\n",
    "        bordercolor='rgba(255, 255, 255, 0)'\n",
    "    ),\n",
    "    barmode='group',\n",
    "    bargap=0.15, # gap between bars of adjacent location coordinates.\n",
    "    bargroupgap=0.1 # gap between bars of the same location coordinate.\n",
    ")\n",
    "fig.write_html('dk_cph_hospitalizations_bar.html')\n",
    "fig.show()"
   ]
  },
  {
   "attachments": {},
   "cell_type": "markdown",
   "metadata": {},
   "source": [
    "### Timelines for Income, Days in Hospital and # of Hospitalizations"
   ]
  },
  {
   "cell_type": "code",
   "execution_count": 49,
   "metadata": {},
   "outputs": [
    {
     "data": {
      "application/vnd.plotly.v1+json": {
       "config": {
        "plotlyServerURL": "https://plot.ly"
       },
       "data": [
        {
         "hovertemplate": "municipality=Denmark<br>year=%{x}<br>count=%{y}<extra></extra>",
         "legendgroup": "Denmark",
         "line": {
          "color": "rgb(55, 83, 109)",
          "dash": "solid"
         },
         "marker": {
          "symbol": "circle"
         },
         "mode": "lines+markers",
         "name": "Denmark",
         "orientation": "v",
         "showlegend": true,
         "type": "scatter",
         "x": [
          2005,
          2006,
          2007,
          2008,
          2009,
          2010,
          2011,
          2012,
          2013,
          2014,
          2015,
          2016,
          2017,
          2018
         ],
         "xaxis": "x",
         "y": [
          255616.32526608012,
          260120.7657516041,
          262272.00872240536,
          256640.5968274187,
          258339.40698911736,
          275387.016033431,
          273380.45813095843,
          272492.81552348053,
          277541.72464290314,
          283093.914696419,
          288426.16922337335,
          292967.28475570463,
          298112.57671105646,
          304094.2555620311
         ],
         "yaxis": "y"
        },
        {
         "hovertemplate": "municipality=Greater Copenhagen<br>year=%{x}<br>count=%{y}<extra></extra>",
         "legendgroup": "Greater Copenhagen",
         "line": {
          "color": "rgb(26, 118, 255)",
          "dash": "solid"
         },
         "marker": {
          "symbol": "circle"
         },
         "mode": "lines+markers",
         "name": "Greater Copenhagen",
         "orientation": "v",
         "showlegend": true,
         "type": "scatter",
         "x": [
          2005,
          2006,
          2007,
          2008,
          2009,
          2010,
          2011,
          2012,
          2013,
          2014,
          2015,
          2016,
          2017,
          2018
         ],
         "xaxis": "x",
         "y": [
          271686.73150448233,
          275662.66075669276,
          276050.1566439862,
          269909.53812569403,
          269207.93785791105,
          290563.9268522387,
          289335.7664705521,
          287875.98877217557,
          293504.78056068585,
          300087.8300778641,
          306151.8093014965,
          310943.18766815745,
          315684.46268450306,
          321978.1360394762
         ],
         "yaxis": "y"
        }
       ],
       "layout": {
        "height": 300,
        "legend": {
         "title": {
          "text": "municipality"
         },
         "tracegroupgap": 0
        },
        "margin": {
         "t": 60
        },
        "template": {
         "data": {
          "bar": [
           {
            "error_x": {
             "color": "#2a3f5f"
            },
            "error_y": {
             "color": "#2a3f5f"
            },
            "marker": {
             "line": {
              "color": "#E5ECF6",
              "width": 0.5
             },
             "pattern": {
              "fillmode": "overlay",
              "size": 10,
              "solidity": 0.2
             }
            },
            "type": "bar"
           }
          ],
          "barpolar": [
           {
            "marker": {
             "line": {
              "color": "#E5ECF6",
              "width": 0.5
             },
             "pattern": {
              "fillmode": "overlay",
              "size": 10,
              "solidity": 0.2
             }
            },
            "type": "barpolar"
           }
          ],
          "carpet": [
           {
            "aaxis": {
             "endlinecolor": "#2a3f5f",
             "gridcolor": "white",
             "linecolor": "white",
             "minorgridcolor": "white",
             "startlinecolor": "#2a3f5f"
            },
            "baxis": {
             "endlinecolor": "#2a3f5f",
             "gridcolor": "white",
             "linecolor": "white",
             "minorgridcolor": "white",
             "startlinecolor": "#2a3f5f"
            },
            "type": "carpet"
           }
          ],
          "choropleth": [
           {
            "colorbar": {
             "outlinewidth": 0,
             "ticks": ""
            },
            "type": "choropleth"
           }
          ],
          "contour": [
           {
            "colorbar": {
             "outlinewidth": 0,
             "ticks": ""
            },
            "colorscale": [
             [
              0,
              "#0d0887"
             ],
             [
              0.1111111111111111,
              "#46039f"
             ],
             [
              0.2222222222222222,
              "#7201a8"
             ],
             [
              0.3333333333333333,
              "#9c179e"
             ],
             [
              0.4444444444444444,
              "#bd3786"
             ],
             [
              0.5555555555555556,
              "#d8576b"
             ],
             [
              0.6666666666666666,
              "#ed7953"
             ],
             [
              0.7777777777777778,
              "#fb9f3a"
             ],
             [
              0.8888888888888888,
              "#fdca26"
             ],
             [
              1,
              "#f0f921"
             ]
            ],
            "type": "contour"
           }
          ],
          "contourcarpet": [
           {
            "colorbar": {
             "outlinewidth": 0,
             "ticks": ""
            },
            "type": "contourcarpet"
           }
          ],
          "heatmap": [
           {
            "colorbar": {
             "outlinewidth": 0,
             "ticks": ""
            },
            "colorscale": [
             [
              0,
              "#0d0887"
             ],
             [
              0.1111111111111111,
              "#46039f"
             ],
             [
              0.2222222222222222,
              "#7201a8"
             ],
             [
              0.3333333333333333,
              "#9c179e"
             ],
             [
              0.4444444444444444,
              "#bd3786"
             ],
             [
              0.5555555555555556,
              "#d8576b"
             ],
             [
              0.6666666666666666,
              "#ed7953"
             ],
             [
              0.7777777777777778,
              "#fb9f3a"
             ],
             [
              0.8888888888888888,
              "#fdca26"
             ],
             [
              1,
              "#f0f921"
             ]
            ],
            "type": "heatmap"
           }
          ],
          "heatmapgl": [
           {
            "colorbar": {
             "outlinewidth": 0,
             "ticks": ""
            },
            "colorscale": [
             [
              0,
              "#0d0887"
             ],
             [
              0.1111111111111111,
              "#46039f"
             ],
             [
              0.2222222222222222,
              "#7201a8"
             ],
             [
              0.3333333333333333,
              "#9c179e"
             ],
             [
              0.4444444444444444,
              "#bd3786"
             ],
             [
              0.5555555555555556,
              "#d8576b"
             ],
             [
              0.6666666666666666,
              "#ed7953"
             ],
             [
              0.7777777777777778,
              "#fb9f3a"
             ],
             [
              0.8888888888888888,
              "#fdca26"
             ],
             [
              1,
              "#f0f921"
             ]
            ],
            "type": "heatmapgl"
           }
          ],
          "histogram": [
           {
            "marker": {
             "pattern": {
              "fillmode": "overlay",
              "size": 10,
              "solidity": 0.2
             }
            },
            "type": "histogram"
           }
          ],
          "histogram2d": [
           {
            "colorbar": {
             "outlinewidth": 0,
             "ticks": ""
            },
            "colorscale": [
             [
              0,
              "#0d0887"
             ],
             [
              0.1111111111111111,
              "#46039f"
             ],
             [
              0.2222222222222222,
              "#7201a8"
             ],
             [
              0.3333333333333333,
              "#9c179e"
             ],
             [
              0.4444444444444444,
              "#bd3786"
             ],
             [
              0.5555555555555556,
              "#d8576b"
             ],
             [
              0.6666666666666666,
              "#ed7953"
             ],
             [
              0.7777777777777778,
              "#fb9f3a"
             ],
             [
              0.8888888888888888,
              "#fdca26"
             ],
             [
              1,
              "#f0f921"
             ]
            ],
            "type": "histogram2d"
           }
          ],
          "histogram2dcontour": [
           {
            "colorbar": {
             "outlinewidth": 0,
             "ticks": ""
            },
            "colorscale": [
             [
              0,
              "#0d0887"
             ],
             [
              0.1111111111111111,
              "#46039f"
             ],
             [
              0.2222222222222222,
              "#7201a8"
             ],
             [
              0.3333333333333333,
              "#9c179e"
             ],
             [
              0.4444444444444444,
              "#bd3786"
             ],
             [
              0.5555555555555556,
              "#d8576b"
             ],
             [
              0.6666666666666666,
              "#ed7953"
             ],
             [
              0.7777777777777778,
              "#fb9f3a"
             ],
             [
              0.8888888888888888,
              "#fdca26"
             ],
             [
              1,
              "#f0f921"
             ]
            ],
            "type": "histogram2dcontour"
           }
          ],
          "mesh3d": [
           {
            "colorbar": {
             "outlinewidth": 0,
             "ticks": ""
            },
            "type": "mesh3d"
           }
          ],
          "parcoords": [
           {
            "line": {
             "colorbar": {
              "outlinewidth": 0,
              "ticks": ""
             }
            },
            "type": "parcoords"
           }
          ],
          "pie": [
           {
            "automargin": true,
            "type": "pie"
           }
          ],
          "scatter": [
           {
            "fillpattern": {
             "fillmode": "overlay",
             "size": 10,
             "solidity": 0.2
            },
            "type": "scatter"
           }
          ],
          "scatter3d": [
           {
            "line": {
             "colorbar": {
              "outlinewidth": 0,
              "ticks": ""
             }
            },
            "marker": {
             "colorbar": {
              "outlinewidth": 0,
              "ticks": ""
             }
            },
            "type": "scatter3d"
           }
          ],
          "scattercarpet": [
           {
            "marker": {
             "colorbar": {
              "outlinewidth": 0,
              "ticks": ""
             }
            },
            "type": "scattercarpet"
           }
          ],
          "scattergeo": [
           {
            "marker": {
             "colorbar": {
              "outlinewidth": 0,
              "ticks": ""
             }
            },
            "type": "scattergeo"
           }
          ],
          "scattergl": [
           {
            "marker": {
             "colorbar": {
              "outlinewidth": 0,
              "ticks": ""
             }
            },
            "type": "scattergl"
           }
          ],
          "scattermapbox": [
           {
            "marker": {
             "colorbar": {
              "outlinewidth": 0,
              "ticks": ""
             }
            },
            "type": "scattermapbox"
           }
          ],
          "scatterpolar": [
           {
            "marker": {
             "colorbar": {
              "outlinewidth": 0,
              "ticks": ""
             }
            },
            "type": "scatterpolar"
           }
          ],
          "scatterpolargl": [
           {
            "marker": {
             "colorbar": {
              "outlinewidth": 0,
              "ticks": ""
             }
            },
            "type": "scatterpolargl"
           }
          ],
          "scatterternary": [
           {
            "marker": {
             "colorbar": {
              "outlinewidth": 0,
              "ticks": ""
             }
            },
            "type": "scatterternary"
           }
          ],
          "surface": [
           {
            "colorbar": {
             "outlinewidth": 0,
             "ticks": ""
            },
            "colorscale": [
             [
              0,
              "#0d0887"
             ],
             [
              0.1111111111111111,
              "#46039f"
             ],
             [
              0.2222222222222222,
              "#7201a8"
             ],
             [
              0.3333333333333333,
              "#9c179e"
             ],
             [
              0.4444444444444444,
              "#bd3786"
             ],
             [
              0.5555555555555556,
              "#d8576b"
             ],
             [
              0.6666666666666666,
              "#ed7953"
             ],
             [
              0.7777777777777778,
              "#fb9f3a"
             ],
             [
              0.8888888888888888,
              "#fdca26"
             ],
             [
              1,
              "#f0f921"
             ]
            ],
            "type": "surface"
           }
          ],
          "table": [
           {
            "cells": {
             "fill": {
              "color": "#EBF0F8"
             },
             "line": {
              "color": "white"
             }
            },
            "header": {
             "fill": {
              "color": "#C8D4E3"
             },
             "line": {
              "color": "white"
             }
            },
            "type": "table"
           }
          ]
         },
         "layout": {
          "annotationdefaults": {
           "arrowcolor": "#2a3f5f",
           "arrowhead": 0,
           "arrowwidth": 1
          },
          "autotypenumbers": "strict",
          "coloraxis": {
           "colorbar": {
            "outlinewidth": 0,
            "ticks": ""
           }
          },
          "colorscale": {
           "diverging": [
            [
             0,
             "#8e0152"
            ],
            [
             0.1,
             "#c51b7d"
            ],
            [
             0.2,
             "#de77ae"
            ],
            [
             0.3,
             "#f1b6da"
            ],
            [
             0.4,
             "#fde0ef"
            ],
            [
             0.5,
             "#f7f7f7"
            ],
            [
             0.6,
             "#e6f5d0"
            ],
            [
             0.7,
             "#b8e186"
            ],
            [
             0.8,
             "#7fbc41"
            ],
            [
             0.9,
             "#4d9221"
            ],
            [
             1,
             "#276419"
            ]
           ],
           "sequential": [
            [
             0,
             "#0d0887"
            ],
            [
             0.1111111111111111,
             "#46039f"
            ],
            [
             0.2222222222222222,
             "#7201a8"
            ],
            [
             0.3333333333333333,
             "#9c179e"
            ],
            [
             0.4444444444444444,
             "#bd3786"
            ],
            [
             0.5555555555555556,
             "#d8576b"
            ],
            [
             0.6666666666666666,
             "#ed7953"
            ],
            [
             0.7777777777777778,
             "#fb9f3a"
            ],
            [
             0.8888888888888888,
             "#fdca26"
            ],
            [
             1,
             "#f0f921"
            ]
           ],
           "sequentialminus": [
            [
             0,
             "#0d0887"
            ],
            [
             0.1111111111111111,
             "#46039f"
            ],
            [
             0.2222222222222222,
             "#7201a8"
            ],
            [
             0.3333333333333333,
             "#9c179e"
            ],
            [
             0.4444444444444444,
             "#bd3786"
            ],
            [
             0.5555555555555556,
             "#d8576b"
            ],
            [
             0.6666666666666666,
             "#ed7953"
            ],
            [
             0.7777777777777778,
             "#fb9f3a"
            ],
            [
             0.8888888888888888,
             "#fdca26"
            ],
            [
             1,
             "#f0f921"
            ]
           ]
          },
          "colorway": [
           "#636efa",
           "#EF553B",
           "#00cc96",
           "#ab63fa",
           "#FFA15A",
           "#19d3f3",
           "#FF6692",
           "#B6E880",
           "#FF97FF",
           "#FECB52"
          ],
          "font": {
           "color": "#2a3f5f"
          },
          "geo": {
           "bgcolor": "white",
           "lakecolor": "white",
           "landcolor": "#E5ECF6",
           "showlakes": true,
           "showland": true,
           "subunitcolor": "white"
          },
          "hoverlabel": {
           "align": "left"
          },
          "hovermode": "closest",
          "mapbox": {
           "style": "light"
          },
          "paper_bgcolor": "white",
          "plot_bgcolor": "#E5ECF6",
          "polar": {
           "angularaxis": {
            "gridcolor": "white",
            "linecolor": "white",
            "ticks": ""
           },
           "bgcolor": "#E5ECF6",
           "radialaxis": {
            "gridcolor": "white",
            "linecolor": "white",
            "ticks": ""
           }
          },
          "scene": {
           "xaxis": {
            "backgroundcolor": "#E5ECF6",
            "gridcolor": "white",
            "gridwidth": 2,
            "linecolor": "white",
            "showbackground": true,
            "ticks": "",
            "zerolinecolor": "white"
           },
           "yaxis": {
            "backgroundcolor": "#E5ECF6",
            "gridcolor": "white",
            "gridwidth": 2,
            "linecolor": "white",
            "showbackground": true,
            "ticks": "",
            "zerolinecolor": "white"
           },
           "zaxis": {
            "backgroundcolor": "#E5ECF6",
            "gridcolor": "white",
            "gridwidth": 2,
            "linecolor": "white",
            "showbackground": true,
            "ticks": "",
            "zerolinecolor": "white"
           }
          },
          "shapedefaults": {
           "line": {
            "color": "#2a3f5f"
           }
          },
          "ternary": {
           "aaxis": {
            "gridcolor": "white",
            "linecolor": "white",
            "ticks": ""
           },
           "baxis": {
            "gridcolor": "white",
            "linecolor": "white",
            "ticks": ""
           },
           "bgcolor": "#E5ECF6",
           "caxis": {
            "gridcolor": "white",
            "linecolor": "white",
            "ticks": ""
           }
          },
          "title": {
           "x": 0.05
          },
          "xaxis": {
           "automargin": true,
           "gridcolor": "white",
           "linecolor": "white",
           "ticks": "",
           "title": {
            "standoff": 15
           },
           "zerolinecolor": "white",
           "zerolinewidth": 2
          },
          "yaxis": {
           "automargin": true,
           "gridcolor": "white",
           "linecolor": "white",
           "ticks": "",
           "title": {
            "standoff": 15
           },
           "zerolinecolor": "white",
           "zerolinewidth": 2
          }
         }
        },
        "title": {
         "text": "<b>Income by year per municipality<b>"
        },
        "width": 900,
        "xaxis": {
         "anchor": "y",
         "domain": [
          0,
          1
         ],
         "title": {
          "text": ""
         }
        },
        "yaxis": {
         "anchor": "x",
         "domain": [
          0,
          1
         ],
         "title": {
          "text": "<b>Income DKK<b>"
         }
        }
       }
      }
     },
     "metadata": {},
     "output_type": "display_data"
    }
   ],
   "source": [
    "# Group the data by 'year' and 'municipality', then calculate the sum of 'weighted_inc_mun' for each group\n",
    "df_income = df_cop_dk.groupby(['year', 'municipality'])['weighted_inc_mun'].sum().reset_index(name='count')\n",
    "\n",
    "# Create a line chart using Plotly Express, with 'year' on the x-axis, 'count' on the y-axis, and colored by 'municipality'\n",
    "fig = px.line(df_income, x='year', y='count', color='municipality', markers=True, width=900, height=300)  # Adding markers to the line plot for better visibility of data points\n",
    "\n",
    "# update line colors to rgb(55, 83, 109) for Denmark and rgb(26, 118, 255) for Greater Copenhagen\n",
    "fig.update_traces(line_color='rgb(55, 83, 109)', selector=dict(name='Denmark'))\n",
    "fig.update_traces(line_color='rgb(26, 118, 255)', selector=dict(name='Greater Copenhagen'))\n",
    "\n",
    "# Edit the layout\n",
    "fig.update_layout(title='<b>Income by year per municipality<b>',\n",
    "                   xaxis_title='',\n",
    "                   yaxis_title='<b>Income DKK<b>')\n",
    "\n",
    "fig.show()"
   ]
  },
  {
   "cell_type": "code",
   "execution_count": 50,
   "metadata": {},
   "outputs": [
    {
     "data": {
      "application/vnd.plotly.v1+json": {
       "config": {
        "plotlyServerURL": "https://plot.ly"
       },
       "data": [
        {
         "hovertemplate": "municipality=Denmark<br>year=%{x}<br>count=%{y}<extra></extra>",
         "legendgroup": "Denmark",
         "line": {
          "color": "rgb(55, 83, 109)",
          "dash": "solid"
         },
         "marker": {
          "symbol": "circle"
         },
         "mode": "lines+markers",
         "name": "Denmark",
         "orientation": "v",
         "showlegend": true,
         "type": "scatter",
         "x": [
          2005,
          2006,
          2007,
          2008,
          2009,
          2010,
          2011,
          2012,
          2013,
          2014,
          2015,
          2016,
          2017,
          2018
         ],
         "xaxis": "x",
         "y": [
          1.017884474305135,
          1.012262539992452,
          0.9998110393942922,
          0.9781689343939935,
          0.96948237160028,
          0.9472355920717627,
          0.9145240238685118,
          0.9014076222305092,
          0.8838315792691391,
          0.8723144686169769,
          0.8444634760587834,
          0.821964230840899,
          0.8082126151393425,
          0.7744991102973222
         ],
         "yaxis": "y"
        },
        {
         "hovertemplate": "municipality=Greater Copenhagen<br>year=%{x}<br>count=%{y}<extra></extra>",
         "legendgroup": "Greater Copenhagen",
         "line": {
          "color": "rgb(26, 118, 255)",
          "dash": "solid"
         },
         "marker": {
          "symbol": "circle"
         },
         "mode": "lines+markers",
         "name": "Greater Copenhagen",
         "orientation": "v",
         "showlegend": true,
         "type": "scatter",
         "x": [
          2005,
          2006,
          2007,
          2008,
          2009,
          2010,
          2011,
          2012,
          2013,
          2014,
          2015,
          2016,
          2017,
          2018
         ],
         "xaxis": "x",
         "y": [
          1.0163778191337378,
          1.0134964417219907,
          1.0019659433732337,
          0.9669269251590779,
          0.9681727637325243,
          0.9332540877681378,
          0.8964687604634008,
          0.879933852158128,
          0.8564572552328836,
          0.8520921186207542,
          0.8183434440547106,
          0.7969028809904927,
          0.7704370659614085,
          0.7339596313933288
         ],
         "yaxis": "y"
        }
       ],
       "layout": {
        "height": 300,
        "legend": {
         "title": {
          "text": "municipality"
         },
         "tracegroupgap": 0
        },
        "margin": {
         "t": 60
        },
        "template": {
         "data": {
          "bar": [
           {
            "error_x": {
             "color": "#2a3f5f"
            },
            "error_y": {
             "color": "#2a3f5f"
            },
            "marker": {
             "line": {
              "color": "#E5ECF6",
              "width": 0.5
             },
             "pattern": {
              "fillmode": "overlay",
              "size": 10,
              "solidity": 0.2
             }
            },
            "type": "bar"
           }
          ],
          "barpolar": [
           {
            "marker": {
             "line": {
              "color": "#E5ECF6",
              "width": 0.5
             },
             "pattern": {
              "fillmode": "overlay",
              "size": 10,
              "solidity": 0.2
             }
            },
            "type": "barpolar"
           }
          ],
          "carpet": [
           {
            "aaxis": {
             "endlinecolor": "#2a3f5f",
             "gridcolor": "white",
             "linecolor": "white",
             "minorgridcolor": "white",
             "startlinecolor": "#2a3f5f"
            },
            "baxis": {
             "endlinecolor": "#2a3f5f",
             "gridcolor": "white",
             "linecolor": "white",
             "minorgridcolor": "white",
             "startlinecolor": "#2a3f5f"
            },
            "type": "carpet"
           }
          ],
          "choropleth": [
           {
            "colorbar": {
             "outlinewidth": 0,
             "ticks": ""
            },
            "type": "choropleth"
           }
          ],
          "contour": [
           {
            "colorbar": {
             "outlinewidth": 0,
             "ticks": ""
            },
            "colorscale": [
             [
              0,
              "#0d0887"
             ],
             [
              0.1111111111111111,
              "#46039f"
             ],
             [
              0.2222222222222222,
              "#7201a8"
             ],
             [
              0.3333333333333333,
              "#9c179e"
             ],
             [
              0.4444444444444444,
              "#bd3786"
             ],
             [
              0.5555555555555556,
              "#d8576b"
             ],
             [
              0.6666666666666666,
              "#ed7953"
             ],
             [
              0.7777777777777778,
              "#fb9f3a"
             ],
             [
              0.8888888888888888,
              "#fdca26"
             ],
             [
              1,
              "#f0f921"
             ]
            ],
            "type": "contour"
           }
          ],
          "contourcarpet": [
           {
            "colorbar": {
             "outlinewidth": 0,
             "ticks": ""
            },
            "type": "contourcarpet"
           }
          ],
          "heatmap": [
           {
            "colorbar": {
             "outlinewidth": 0,
             "ticks": ""
            },
            "colorscale": [
             [
              0,
              "#0d0887"
             ],
             [
              0.1111111111111111,
              "#46039f"
             ],
             [
              0.2222222222222222,
              "#7201a8"
             ],
             [
              0.3333333333333333,
              "#9c179e"
             ],
             [
              0.4444444444444444,
              "#bd3786"
             ],
             [
              0.5555555555555556,
              "#d8576b"
             ],
             [
              0.6666666666666666,
              "#ed7953"
             ],
             [
              0.7777777777777778,
              "#fb9f3a"
             ],
             [
              0.8888888888888888,
              "#fdca26"
             ],
             [
              1,
              "#f0f921"
             ]
            ],
            "type": "heatmap"
           }
          ],
          "heatmapgl": [
           {
            "colorbar": {
             "outlinewidth": 0,
             "ticks": ""
            },
            "colorscale": [
             [
              0,
              "#0d0887"
             ],
             [
              0.1111111111111111,
              "#46039f"
             ],
             [
              0.2222222222222222,
              "#7201a8"
             ],
             [
              0.3333333333333333,
              "#9c179e"
             ],
             [
              0.4444444444444444,
              "#bd3786"
             ],
             [
              0.5555555555555556,
              "#d8576b"
             ],
             [
              0.6666666666666666,
              "#ed7953"
             ],
             [
              0.7777777777777778,
              "#fb9f3a"
             ],
             [
              0.8888888888888888,
              "#fdca26"
             ],
             [
              1,
              "#f0f921"
             ]
            ],
            "type": "heatmapgl"
           }
          ],
          "histogram": [
           {
            "marker": {
             "pattern": {
              "fillmode": "overlay",
              "size": 10,
              "solidity": 0.2
             }
            },
            "type": "histogram"
           }
          ],
          "histogram2d": [
           {
            "colorbar": {
             "outlinewidth": 0,
             "ticks": ""
            },
            "colorscale": [
             [
              0,
              "#0d0887"
             ],
             [
              0.1111111111111111,
              "#46039f"
             ],
             [
              0.2222222222222222,
              "#7201a8"
             ],
             [
              0.3333333333333333,
              "#9c179e"
             ],
             [
              0.4444444444444444,
              "#bd3786"
             ],
             [
              0.5555555555555556,
              "#d8576b"
             ],
             [
              0.6666666666666666,
              "#ed7953"
             ],
             [
              0.7777777777777778,
              "#fb9f3a"
             ],
             [
              0.8888888888888888,
              "#fdca26"
             ],
             [
              1,
              "#f0f921"
             ]
            ],
            "type": "histogram2d"
           }
          ],
          "histogram2dcontour": [
           {
            "colorbar": {
             "outlinewidth": 0,
             "ticks": ""
            },
            "colorscale": [
             [
              0,
              "#0d0887"
             ],
             [
              0.1111111111111111,
              "#46039f"
             ],
             [
              0.2222222222222222,
              "#7201a8"
             ],
             [
              0.3333333333333333,
              "#9c179e"
             ],
             [
              0.4444444444444444,
              "#bd3786"
             ],
             [
              0.5555555555555556,
              "#d8576b"
             ],
             [
              0.6666666666666666,
              "#ed7953"
             ],
             [
              0.7777777777777778,
              "#fb9f3a"
             ],
             [
              0.8888888888888888,
              "#fdca26"
             ],
             [
              1,
              "#f0f921"
             ]
            ],
            "type": "histogram2dcontour"
           }
          ],
          "mesh3d": [
           {
            "colorbar": {
             "outlinewidth": 0,
             "ticks": ""
            },
            "type": "mesh3d"
           }
          ],
          "parcoords": [
           {
            "line": {
             "colorbar": {
              "outlinewidth": 0,
              "ticks": ""
             }
            },
            "type": "parcoords"
           }
          ],
          "pie": [
           {
            "automargin": true,
            "type": "pie"
           }
          ],
          "scatter": [
           {
            "fillpattern": {
             "fillmode": "overlay",
             "size": 10,
             "solidity": 0.2
            },
            "type": "scatter"
           }
          ],
          "scatter3d": [
           {
            "line": {
             "colorbar": {
              "outlinewidth": 0,
              "ticks": ""
             }
            },
            "marker": {
             "colorbar": {
              "outlinewidth": 0,
              "ticks": ""
             }
            },
            "type": "scatter3d"
           }
          ],
          "scattercarpet": [
           {
            "marker": {
             "colorbar": {
              "outlinewidth": 0,
              "ticks": ""
             }
            },
            "type": "scattercarpet"
           }
          ],
          "scattergeo": [
           {
            "marker": {
             "colorbar": {
              "outlinewidth": 0,
              "ticks": ""
             }
            },
            "type": "scattergeo"
           }
          ],
          "scattergl": [
           {
            "marker": {
             "colorbar": {
              "outlinewidth": 0,
              "ticks": ""
             }
            },
            "type": "scattergl"
           }
          ],
          "scattermapbox": [
           {
            "marker": {
             "colorbar": {
              "outlinewidth": 0,
              "ticks": ""
             }
            },
            "type": "scattermapbox"
           }
          ],
          "scatterpolar": [
           {
            "marker": {
             "colorbar": {
              "outlinewidth": 0,
              "ticks": ""
             }
            },
            "type": "scatterpolar"
           }
          ],
          "scatterpolargl": [
           {
            "marker": {
             "colorbar": {
              "outlinewidth": 0,
              "ticks": ""
             }
            },
            "type": "scatterpolargl"
           }
          ],
          "scatterternary": [
           {
            "marker": {
             "colorbar": {
              "outlinewidth": 0,
              "ticks": ""
             }
            },
            "type": "scatterternary"
           }
          ],
          "surface": [
           {
            "colorbar": {
             "outlinewidth": 0,
             "ticks": ""
            },
            "colorscale": [
             [
              0,
              "#0d0887"
             ],
             [
              0.1111111111111111,
              "#46039f"
             ],
             [
              0.2222222222222222,
              "#7201a8"
             ],
             [
              0.3333333333333333,
              "#9c179e"
             ],
             [
              0.4444444444444444,
              "#bd3786"
             ],
             [
              0.5555555555555556,
              "#d8576b"
             ],
             [
              0.6666666666666666,
              "#ed7953"
             ],
             [
              0.7777777777777778,
              "#fb9f3a"
             ],
             [
              0.8888888888888888,
              "#fdca26"
             ],
             [
              1,
              "#f0f921"
             ]
            ],
            "type": "surface"
           }
          ],
          "table": [
           {
            "cells": {
             "fill": {
              "color": "#EBF0F8"
             },
             "line": {
              "color": "white"
             }
            },
            "header": {
             "fill": {
              "color": "#C8D4E3"
             },
             "line": {
              "color": "white"
             }
            },
            "type": "table"
           }
          ]
         },
         "layout": {
          "annotationdefaults": {
           "arrowcolor": "#2a3f5f",
           "arrowhead": 0,
           "arrowwidth": 1
          },
          "autotypenumbers": "strict",
          "coloraxis": {
           "colorbar": {
            "outlinewidth": 0,
            "ticks": ""
           }
          },
          "colorscale": {
           "diverging": [
            [
             0,
             "#8e0152"
            ],
            [
             0.1,
             "#c51b7d"
            ],
            [
             0.2,
             "#de77ae"
            ],
            [
             0.3,
             "#f1b6da"
            ],
            [
             0.4,
             "#fde0ef"
            ],
            [
             0.5,
             "#f7f7f7"
            ],
            [
             0.6,
             "#e6f5d0"
            ],
            [
             0.7,
             "#b8e186"
            ],
            [
             0.8,
             "#7fbc41"
            ],
            [
             0.9,
             "#4d9221"
            ],
            [
             1,
             "#276419"
            ]
           ],
           "sequential": [
            [
             0,
             "#0d0887"
            ],
            [
             0.1111111111111111,
             "#46039f"
            ],
            [
             0.2222222222222222,
             "#7201a8"
            ],
            [
             0.3333333333333333,
             "#9c179e"
            ],
            [
             0.4444444444444444,
             "#bd3786"
            ],
            [
             0.5555555555555556,
             "#d8576b"
            ],
            [
             0.6666666666666666,
             "#ed7953"
            ],
            [
             0.7777777777777778,
             "#fb9f3a"
            ],
            [
             0.8888888888888888,
             "#fdca26"
            ],
            [
             1,
             "#f0f921"
            ]
           ],
           "sequentialminus": [
            [
             0,
             "#0d0887"
            ],
            [
             0.1111111111111111,
             "#46039f"
            ],
            [
             0.2222222222222222,
             "#7201a8"
            ],
            [
             0.3333333333333333,
             "#9c179e"
            ],
            [
             0.4444444444444444,
             "#bd3786"
            ],
            [
             0.5555555555555556,
             "#d8576b"
            ],
            [
             0.6666666666666666,
             "#ed7953"
            ],
            [
             0.7777777777777778,
             "#fb9f3a"
            ],
            [
             0.8888888888888888,
             "#fdca26"
            ],
            [
             1,
             "#f0f921"
            ]
           ]
          },
          "colorway": [
           "#636efa",
           "#EF553B",
           "#00cc96",
           "#ab63fa",
           "#FFA15A",
           "#19d3f3",
           "#FF6692",
           "#B6E880",
           "#FF97FF",
           "#FECB52"
          ],
          "font": {
           "color": "#2a3f5f"
          },
          "geo": {
           "bgcolor": "white",
           "lakecolor": "white",
           "landcolor": "#E5ECF6",
           "showlakes": true,
           "showland": true,
           "subunitcolor": "white"
          },
          "hoverlabel": {
           "align": "left"
          },
          "hovermode": "closest",
          "mapbox": {
           "style": "light"
          },
          "paper_bgcolor": "white",
          "plot_bgcolor": "#E5ECF6",
          "polar": {
           "angularaxis": {
            "gridcolor": "white",
            "linecolor": "white",
            "ticks": ""
           },
           "bgcolor": "#E5ECF6",
           "radialaxis": {
            "gridcolor": "white",
            "linecolor": "white",
            "ticks": ""
           }
          },
          "scene": {
           "xaxis": {
            "backgroundcolor": "#E5ECF6",
            "gridcolor": "white",
            "gridwidth": 2,
            "linecolor": "white",
            "showbackground": true,
            "ticks": "",
            "zerolinecolor": "white"
           },
           "yaxis": {
            "backgroundcolor": "#E5ECF6",
            "gridcolor": "white",
            "gridwidth": 2,
            "linecolor": "white",
            "showbackground": true,
            "ticks": "",
            "zerolinecolor": "white"
           },
           "zaxis": {
            "backgroundcolor": "#E5ECF6",
            "gridcolor": "white",
            "gridwidth": 2,
            "linecolor": "white",
            "showbackground": true,
            "ticks": "",
            "zerolinecolor": "white"
           }
          },
          "shapedefaults": {
           "line": {
            "color": "#2a3f5f"
           }
          },
          "ternary": {
           "aaxis": {
            "gridcolor": "white",
            "linecolor": "white",
            "ticks": ""
           },
           "baxis": {
            "gridcolor": "white",
            "linecolor": "white",
            "ticks": ""
           },
           "bgcolor": "#E5ECF6",
           "caxis": {
            "gridcolor": "white",
            "linecolor": "white",
            "ticks": ""
           }
          },
          "title": {
           "x": 0.05
          },
          "xaxis": {
           "automargin": true,
           "gridcolor": "white",
           "linecolor": "white",
           "ticks": "",
           "title": {
            "standoff": 15
           },
           "zerolinecolor": "white",
           "zerolinewidth": 2
          },
          "yaxis": {
           "automargin": true,
           "gridcolor": "white",
           "linecolor": "white",
           "ticks": "",
           "title": {
            "standoff": 15
           },
           "zerolinecolor": "white",
           "zerolinewidth": 2
          }
         }
        },
        "title": {
         "text": "<b>Days spent in hospital<b>"
        },
        "width": 900,
        "xaxis": {
         "anchor": "y",
         "domain": [
          0,
          1
         ],
         "title": {
          "text": ""
         }
        },
        "yaxis": {
         "anchor": "x",
         "domain": [
          0,
          1
         ],
         "title": {
          "text": "<b>Days per hospital visit<b>"
         }
        }
       }
      }
     },
     "metadata": {},
     "output_type": "display_data"
    }
   ],
   "source": [
    "# Group the data by 'year' and 'municipality', then calculate the sum of 'weighted_hosp_days_mun' for each group\n",
    "df_hosp_days = df_cop_dk.groupby(['year', 'municipality'])['weighted_hosp_days_mun'].sum().reset_index(name='count')\n",
    "\n",
    "# Create a line chart using Plotly Express, with 'year' on the x-axis, 'count' on the y-axis, and colored by 'municipality'\n",
    "fig = px.line(df_hosp_days, x='year', y='count', color='municipality', markers=True, width=900, height=300)  # Adding markers to the line plot for better visibility of data points\n",
    "\n",
    "# update line colors to rgb(55, 83, 109) for Denmark and rgb(26, 118, 255) for Greater Copenhagen\n",
    "fig.update_traces(line_color='rgb(55, 83, 109)', selector=dict(name='Denmark'))\n",
    "fig.update_traces(line_color='rgb(26, 118, 255)', selector=dict(name='Greater Copenhagen'))\n",
    "\n",
    "# Edit the layout\n",
    "fig.update_layout(title='<b>Days spent in hospital<b>',\n",
    "                   xaxis_title='',\n",
    "                   yaxis_title='<b>Days per hospital visit<b>')\n",
    "\n",
    "fig.show()"
   ]
  },
  {
   "cell_type": "code",
   "execution_count": 51,
   "metadata": {},
   "outputs": [
    {
     "data": {
      "application/vnd.plotly.v1+json": {
       "config": {
        "plotlyServerURL": "https://plot.ly"
       },
       "data": [
        {
         "hovertemplate": "municipality=Denmark<br>year=%{x}<br>count=%{y}<extra></extra>",
         "legendgroup": "Denmark",
         "line": {
          "color": "rgb(55, 83, 109)",
          "dash": "solid"
         },
         "marker": {
          "symbol": "circle"
         },
         "mode": "lines+markers",
         "name": "Denmark",
         "orientation": "v",
         "showlegend": true,
         "type": "scatter",
         "x": [
          2005,
          2006,
          2007,
          2008,
          2009,
          2010,
          2011,
          2012,
          2013,
          2014,
          2015,
          2016,
          2017,
          2018
         ],
         "xaxis": "x",
         "y": [
          0.1741144502375346,
          0.17915780965147327,
          0.18130644302035198,
          0.1783064577621164,
          0.1887686221043544,
          0.19394735848365874,
          0.1949479583435654,
          0.1971320751347023,
          0.1970082712651897,
          0.201199739395784,
          0.1991448786600204,
          0.1954423676142803,
          0.1910824644265829,
          0.18251291966823602
         ],
         "yaxis": "y"
        },
        {
         "hovertemplate": "municipality=Greater Copenhagen<br>year=%{x}<br>count=%{y}<extra></extra>",
         "legendgroup": "Greater Copenhagen",
         "line": {
          "color": "rgb(26, 118, 255)",
          "dash": "solid"
         },
         "marker": {
          "symbol": "circle"
         },
         "mode": "lines+markers",
         "name": "Greater Copenhagen",
         "orientation": "v",
         "showlegend": true,
         "type": "scatter",
         "x": [
          2005,
          2006,
          2007,
          2008,
          2009,
          2010,
          2011,
          2012,
          2013,
          2014,
          2015,
          2016,
          2017,
          2018
         ],
         "xaxis": "x",
         "y": [
          0.1682945105759108,
          0.17354344863430515,
          0.17475326782431264,
          0.16896855134407796,
          0.18306119306697932,
          0.18814280605371778,
          0.1899301065075116,
          0.1924498456238731,
          0.1916172905667165,
          0.1966668025764897,
          0.1953520751115149,
          0.1911744277561356,
          0.1788860687072057,
          0.1738810968768509
         ],
         "yaxis": "y"
        }
       ],
       "layout": {
        "height": 300,
        "legend": {
         "title": {
          "text": "municipality"
         },
         "tracegroupgap": 0
        },
        "margin": {
         "t": 60
        },
        "template": {
         "data": {
          "bar": [
           {
            "error_x": {
             "color": "#2a3f5f"
            },
            "error_y": {
             "color": "#2a3f5f"
            },
            "marker": {
             "line": {
              "color": "#E5ECF6",
              "width": 0.5
             },
             "pattern": {
              "fillmode": "overlay",
              "size": 10,
              "solidity": 0.2
             }
            },
            "type": "bar"
           }
          ],
          "barpolar": [
           {
            "marker": {
             "line": {
              "color": "#E5ECF6",
              "width": 0.5
             },
             "pattern": {
              "fillmode": "overlay",
              "size": 10,
              "solidity": 0.2
             }
            },
            "type": "barpolar"
           }
          ],
          "carpet": [
           {
            "aaxis": {
             "endlinecolor": "#2a3f5f",
             "gridcolor": "white",
             "linecolor": "white",
             "minorgridcolor": "white",
             "startlinecolor": "#2a3f5f"
            },
            "baxis": {
             "endlinecolor": "#2a3f5f",
             "gridcolor": "white",
             "linecolor": "white",
             "minorgridcolor": "white",
             "startlinecolor": "#2a3f5f"
            },
            "type": "carpet"
           }
          ],
          "choropleth": [
           {
            "colorbar": {
             "outlinewidth": 0,
             "ticks": ""
            },
            "type": "choropleth"
           }
          ],
          "contour": [
           {
            "colorbar": {
             "outlinewidth": 0,
             "ticks": ""
            },
            "colorscale": [
             [
              0,
              "#0d0887"
             ],
             [
              0.1111111111111111,
              "#46039f"
             ],
             [
              0.2222222222222222,
              "#7201a8"
             ],
             [
              0.3333333333333333,
              "#9c179e"
             ],
             [
              0.4444444444444444,
              "#bd3786"
             ],
             [
              0.5555555555555556,
              "#d8576b"
             ],
             [
              0.6666666666666666,
              "#ed7953"
             ],
             [
              0.7777777777777778,
              "#fb9f3a"
             ],
             [
              0.8888888888888888,
              "#fdca26"
             ],
             [
              1,
              "#f0f921"
             ]
            ],
            "type": "contour"
           }
          ],
          "contourcarpet": [
           {
            "colorbar": {
             "outlinewidth": 0,
             "ticks": ""
            },
            "type": "contourcarpet"
           }
          ],
          "heatmap": [
           {
            "colorbar": {
             "outlinewidth": 0,
             "ticks": ""
            },
            "colorscale": [
             [
              0,
              "#0d0887"
             ],
             [
              0.1111111111111111,
              "#46039f"
             ],
             [
              0.2222222222222222,
              "#7201a8"
             ],
             [
              0.3333333333333333,
              "#9c179e"
             ],
             [
              0.4444444444444444,
              "#bd3786"
             ],
             [
              0.5555555555555556,
              "#d8576b"
             ],
             [
              0.6666666666666666,
              "#ed7953"
             ],
             [
              0.7777777777777778,
              "#fb9f3a"
             ],
             [
              0.8888888888888888,
              "#fdca26"
             ],
             [
              1,
              "#f0f921"
             ]
            ],
            "type": "heatmap"
           }
          ],
          "heatmapgl": [
           {
            "colorbar": {
             "outlinewidth": 0,
             "ticks": ""
            },
            "colorscale": [
             [
              0,
              "#0d0887"
             ],
             [
              0.1111111111111111,
              "#46039f"
             ],
             [
              0.2222222222222222,
              "#7201a8"
             ],
             [
              0.3333333333333333,
              "#9c179e"
             ],
             [
              0.4444444444444444,
              "#bd3786"
             ],
             [
              0.5555555555555556,
              "#d8576b"
             ],
             [
              0.6666666666666666,
              "#ed7953"
             ],
             [
              0.7777777777777778,
              "#fb9f3a"
             ],
             [
              0.8888888888888888,
              "#fdca26"
             ],
             [
              1,
              "#f0f921"
             ]
            ],
            "type": "heatmapgl"
           }
          ],
          "histogram": [
           {
            "marker": {
             "pattern": {
              "fillmode": "overlay",
              "size": 10,
              "solidity": 0.2
             }
            },
            "type": "histogram"
           }
          ],
          "histogram2d": [
           {
            "colorbar": {
             "outlinewidth": 0,
             "ticks": ""
            },
            "colorscale": [
             [
              0,
              "#0d0887"
             ],
             [
              0.1111111111111111,
              "#46039f"
             ],
             [
              0.2222222222222222,
              "#7201a8"
             ],
             [
              0.3333333333333333,
              "#9c179e"
             ],
             [
              0.4444444444444444,
              "#bd3786"
             ],
             [
              0.5555555555555556,
              "#d8576b"
             ],
             [
              0.6666666666666666,
              "#ed7953"
             ],
             [
              0.7777777777777778,
              "#fb9f3a"
             ],
             [
              0.8888888888888888,
              "#fdca26"
             ],
             [
              1,
              "#f0f921"
             ]
            ],
            "type": "histogram2d"
           }
          ],
          "histogram2dcontour": [
           {
            "colorbar": {
             "outlinewidth": 0,
             "ticks": ""
            },
            "colorscale": [
             [
              0,
              "#0d0887"
             ],
             [
              0.1111111111111111,
              "#46039f"
             ],
             [
              0.2222222222222222,
              "#7201a8"
             ],
             [
              0.3333333333333333,
              "#9c179e"
             ],
             [
              0.4444444444444444,
              "#bd3786"
             ],
             [
              0.5555555555555556,
              "#d8576b"
             ],
             [
              0.6666666666666666,
              "#ed7953"
             ],
             [
              0.7777777777777778,
              "#fb9f3a"
             ],
             [
              0.8888888888888888,
              "#fdca26"
             ],
             [
              1,
              "#f0f921"
             ]
            ],
            "type": "histogram2dcontour"
           }
          ],
          "mesh3d": [
           {
            "colorbar": {
             "outlinewidth": 0,
             "ticks": ""
            },
            "type": "mesh3d"
           }
          ],
          "parcoords": [
           {
            "line": {
             "colorbar": {
              "outlinewidth": 0,
              "ticks": ""
             }
            },
            "type": "parcoords"
           }
          ],
          "pie": [
           {
            "automargin": true,
            "type": "pie"
           }
          ],
          "scatter": [
           {
            "fillpattern": {
             "fillmode": "overlay",
             "size": 10,
             "solidity": 0.2
            },
            "type": "scatter"
           }
          ],
          "scatter3d": [
           {
            "line": {
             "colorbar": {
              "outlinewidth": 0,
              "ticks": ""
             }
            },
            "marker": {
             "colorbar": {
              "outlinewidth": 0,
              "ticks": ""
             }
            },
            "type": "scatter3d"
           }
          ],
          "scattercarpet": [
           {
            "marker": {
             "colorbar": {
              "outlinewidth": 0,
              "ticks": ""
             }
            },
            "type": "scattercarpet"
           }
          ],
          "scattergeo": [
           {
            "marker": {
             "colorbar": {
              "outlinewidth": 0,
              "ticks": ""
             }
            },
            "type": "scattergeo"
           }
          ],
          "scattergl": [
           {
            "marker": {
             "colorbar": {
              "outlinewidth": 0,
              "ticks": ""
             }
            },
            "type": "scattergl"
           }
          ],
          "scattermapbox": [
           {
            "marker": {
             "colorbar": {
              "outlinewidth": 0,
              "ticks": ""
             }
            },
            "type": "scattermapbox"
           }
          ],
          "scatterpolar": [
           {
            "marker": {
             "colorbar": {
              "outlinewidth": 0,
              "ticks": ""
             }
            },
            "type": "scatterpolar"
           }
          ],
          "scatterpolargl": [
           {
            "marker": {
             "colorbar": {
              "outlinewidth": 0,
              "ticks": ""
             }
            },
            "type": "scatterpolargl"
           }
          ],
          "scatterternary": [
           {
            "marker": {
             "colorbar": {
              "outlinewidth": 0,
              "ticks": ""
             }
            },
            "type": "scatterternary"
           }
          ],
          "surface": [
           {
            "colorbar": {
             "outlinewidth": 0,
             "ticks": ""
            },
            "colorscale": [
             [
              0,
              "#0d0887"
             ],
             [
              0.1111111111111111,
              "#46039f"
             ],
             [
              0.2222222222222222,
              "#7201a8"
             ],
             [
              0.3333333333333333,
              "#9c179e"
             ],
             [
              0.4444444444444444,
              "#bd3786"
             ],
             [
              0.5555555555555556,
              "#d8576b"
             ],
             [
              0.6666666666666666,
              "#ed7953"
             ],
             [
              0.7777777777777778,
              "#fb9f3a"
             ],
             [
              0.8888888888888888,
              "#fdca26"
             ],
             [
              1,
              "#f0f921"
             ]
            ],
            "type": "surface"
           }
          ],
          "table": [
           {
            "cells": {
             "fill": {
              "color": "#EBF0F8"
             },
             "line": {
              "color": "white"
             }
            },
            "header": {
             "fill": {
              "color": "#C8D4E3"
             },
             "line": {
              "color": "white"
             }
            },
            "type": "table"
           }
          ]
         },
         "layout": {
          "annotationdefaults": {
           "arrowcolor": "#2a3f5f",
           "arrowhead": 0,
           "arrowwidth": 1
          },
          "autotypenumbers": "strict",
          "coloraxis": {
           "colorbar": {
            "outlinewidth": 0,
            "ticks": ""
           }
          },
          "colorscale": {
           "diverging": [
            [
             0,
             "#8e0152"
            ],
            [
             0.1,
             "#c51b7d"
            ],
            [
             0.2,
             "#de77ae"
            ],
            [
             0.3,
             "#f1b6da"
            ],
            [
             0.4,
             "#fde0ef"
            ],
            [
             0.5,
             "#f7f7f7"
            ],
            [
             0.6,
             "#e6f5d0"
            ],
            [
             0.7,
             "#b8e186"
            ],
            [
             0.8,
             "#7fbc41"
            ],
            [
             0.9,
             "#4d9221"
            ],
            [
             1,
             "#276419"
            ]
           ],
           "sequential": [
            [
             0,
             "#0d0887"
            ],
            [
             0.1111111111111111,
             "#46039f"
            ],
            [
             0.2222222222222222,
             "#7201a8"
            ],
            [
             0.3333333333333333,
             "#9c179e"
            ],
            [
             0.4444444444444444,
             "#bd3786"
            ],
            [
             0.5555555555555556,
             "#d8576b"
            ],
            [
             0.6666666666666666,
             "#ed7953"
            ],
            [
             0.7777777777777778,
             "#fb9f3a"
            ],
            [
             0.8888888888888888,
             "#fdca26"
            ],
            [
             1,
             "#f0f921"
            ]
           ],
           "sequentialminus": [
            [
             0,
             "#0d0887"
            ],
            [
             0.1111111111111111,
             "#46039f"
            ],
            [
             0.2222222222222222,
             "#7201a8"
            ],
            [
             0.3333333333333333,
             "#9c179e"
            ],
            [
             0.4444444444444444,
             "#bd3786"
            ],
            [
             0.5555555555555556,
             "#d8576b"
            ],
            [
             0.6666666666666666,
             "#ed7953"
            ],
            [
             0.7777777777777778,
             "#fb9f3a"
            ],
            [
             0.8888888888888888,
             "#fdca26"
            ],
            [
             1,
             "#f0f921"
            ]
           ]
          },
          "colorway": [
           "#636efa",
           "#EF553B",
           "#00cc96",
           "#ab63fa",
           "#FFA15A",
           "#19d3f3",
           "#FF6692",
           "#B6E880",
           "#FF97FF",
           "#FECB52"
          ],
          "font": {
           "color": "#2a3f5f"
          },
          "geo": {
           "bgcolor": "white",
           "lakecolor": "white",
           "landcolor": "#E5ECF6",
           "showlakes": true,
           "showland": true,
           "subunitcolor": "white"
          },
          "hoverlabel": {
           "align": "left"
          },
          "hovermode": "closest",
          "mapbox": {
           "style": "light"
          },
          "paper_bgcolor": "white",
          "plot_bgcolor": "#E5ECF6",
          "polar": {
           "angularaxis": {
            "gridcolor": "white",
            "linecolor": "white",
            "ticks": ""
           },
           "bgcolor": "#E5ECF6",
           "radialaxis": {
            "gridcolor": "white",
            "linecolor": "white",
            "ticks": ""
           }
          },
          "scene": {
           "xaxis": {
            "backgroundcolor": "#E5ECF6",
            "gridcolor": "white",
            "gridwidth": 2,
            "linecolor": "white",
            "showbackground": true,
            "ticks": "",
            "zerolinecolor": "white"
           },
           "yaxis": {
            "backgroundcolor": "#E5ECF6",
            "gridcolor": "white",
            "gridwidth": 2,
            "linecolor": "white",
            "showbackground": true,
            "ticks": "",
            "zerolinecolor": "white"
           },
           "zaxis": {
            "backgroundcolor": "#E5ECF6",
            "gridcolor": "white",
            "gridwidth": 2,
            "linecolor": "white",
            "showbackground": true,
            "ticks": "",
            "zerolinecolor": "white"
           }
          },
          "shapedefaults": {
           "line": {
            "color": "#2a3f5f"
           }
          },
          "ternary": {
           "aaxis": {
            "gridcolor": "white",
            "linecolor": "white",
            "ticks": ""
           },
           "baxis": {
            "gridcolor": "white",
            "linecolor": "white",
            "ticks": ""
           },
           "bgcolor": "#E5ECF6",
           "caxis": {
            "gridcolor": "white",
            "linecolor": "white",
            "ticks": ""
           }
          },
          "title": {
           "x": 0.05
          },
          "xaxis": {
           "automargin": true,
           "gridcolor": "white",
           "linecolor": "white",
           "ticks": "",
           "title": {
            "standoff": 15
           },
           "zerolinecolor": "white",
           "zerolinewidth": 2
          },
          "yaxis": {
           "automargin": true,
           "gridcolor": "white",
           "linecolor": "white",
           "ticks": "",
           "title": {
            "standoff": 15
           },
           "zerolinecolor": "white",
           "zerolinewidth": 2
          }
         }
        },
        "title": {
         "text": "<b> Number of hospitalizations per year <b>"
        },
        "width": 900,
        "xaxis": {
         "anchor": "y",
         "domain": [
          0,
          1
         ],
         "title": {
          "text": "<b>Year<b>"
         }
        },
        "yaxis": {
         "anchor": "x",
         "domain": [
          0,
          1
         ],
         "title": {
          "text": "<b>Number of hospitalizations<b>"
         }
        }
       }
      }
     },
     "metadata": {},
     "output_type": "display_data"
    }
   ],
   "source": [
    "# Group the data by 'year' and 'municipality', then calculate the sum of 'weighted_hospitalizations_mun' for each group\n",
    "df_hosp_times = df_cop_dk.groupby(['year', 'municipality'])['weighted_hospitalizations_mun'].sum().reset_index(name='count')\n",
    "\n",
    "# Create a line chart using Plotly Express, with 'year' on the x-axis, 'count' on the y-axis, and colored by 'municipality'\n",
    "fig = px.line(df_hosp_times, x='year', y='count', color='municipality', markers=True, width=900, height=300)  # Adding markers to the line plot for better visibility of data points\n",
    "\n",
    "# update line colors to rgb(55, 83, 109) for Denmark and rgb(26, 118, 255) for Greater Copenhagen\n",
    "fig.update_traces(line_color='rgb(55, 83, 109)', selector=dict(name='Denmark'))\n",
    "fig.update_traces(line_color='rgb(26, 118, 255)', selector=dict(name='Greater Copenhagen'))\n",
    "\n",
    "# Edit the layout\n",
    "fig.update_layout(title='<b> Number of hospitalizations per year <b>',\n",
    "                   xaxis_title='<b>Year<b>',\n",
    "                   yaxis_title='<b>Number of hospitalizations<b>')\n",
    "\n",
    "fig.show()"
   ]
  },
  {
   "attachments": {},
   "cell_type": "markdown",
   "metadata": {},
   "source": [
    "## Thomas\n",
    "\n",
    "With the updated plots above, is anything still needed from here? :)\n"
   ]
  },
  {
   "cell_type": "code",
   "execution_count": 14,
   "metadata": {},
   "outputs": [
    {
     "data": {
      "text/html": [
       "<div>\n",
       "<style scoped>\n",
       "    .dataframe tbody tr th:only-of-type {\n",
       "        vertical-align: middle;\n",
       "    }\n",
       "\n",
       "    .dataframe tbody tr th {\n",
       "        vertical-align: top;\n",
       "    }\n",
       "\n",
       "    .dataframe thead th {\n",
       "        text-align: right;\n",
       "    }\n",
       "</style>\n",
       "<table border=\"1\" class=\"dataframe\">\n",
       "  <thead>\n",
       "    <tr style=\"text-align: right;\">\n",
       "      <th></th>\n",
       "      <th>year</th>\n",
       "      <th>municipality</th>\n",
       "      <th>gender</th>\n",
       "      <th>count</th>\n",
       "    </tr>\n",
       "  </thead>\n",
       "  <tbody>\n",
       "    <tr>\n",
       "      <th>0</th>\n",
       "      <td>2005</td>\n",
       "      <td>Albertslund</td>\n",
       "      <td>Men</td>\n",
       "      <td>119553.848536</td>\n",
       "    </tr>\n",
       "    <tr>\n",
       "      <th>1</th>\n",
       "      <td>2005</td>\n",
       "      <td>Albertslund</td>\n",
       "      <td>Women</td>\n",
       "      <td>102671.814315</td>\n",
       "    </tr>\n",
       "    <tr>\n",
       "      <th>2</th>\n",
       "      <td>2005</td>\n",
       "      <td>Ballerup</td>\n",
       "      <td>Men</td>\n",
       "      <td>125782.092141</td>\n",
       "    </tr>\n",
       "    <tr>\n",
       "      <th>3</th>\n",
       "      <td>2005</td>\n",
       "      <td>Ballerup</td>\n",
       "      <td>Women</td>\n",
       "      <td>110185.593915</td>\n",
       "    </tr>\n",
       "    <tr>\n",
       "      <th>4</th>\n",
       "      <td>2005</td>\n",
       "      <td>Brøndby</td>\n",
       "      <td>Men</td>\n",
       "      <td>119157.083143</td>\n",
       "    </tr>\n",
       "    <tr>\n",
       "      <th>...</th>\n",
       "      <td>...</td>\n",
       "      <td>...</td>\n",
       "      <td>...</td>\n",
       "      <td>...</td>\n",
       "    </tr>\n",
       "    <tr>\n",
       "      <th>611</th>\n",
       "      <td>2018</td>\n",
       "      <td>Rødovre</td>\n",
       "      <td>Women</td>\n",
       "      <td>147938.697321</td>\n",
       "    </tr>\n",
       "    <tr>\n",
       "      <th>612</th>\n",
       "      <td>2018</td>\n",
       "      <td>Tårnby</td>\n",
       "      <td>Men</td>\n",
       "      <td>151469.501442</td>\n",
       "    </tr>\n",
       "    <tr>\n",
       "      <th>613</th>\n",
       "      <td>2018</td>\n",
       "      <td>Tårnby</td>\n",
       "      <td>Women</td>\n",
       "      <td>158572.911085</td>\n",
       "    </tr>\n",
       "    <tr>\n",
       "      <th>614</th>\n",
       "      <td>2018</td>\n",
       "      <td>Vallensbæk</td>\n",
       "      <td>Men</td>\n",
       "      <td>160330.548038</td>\n",
       "    </tr>\n",
       "    <tr>\n",
       "      <th>615</th>\n",
       "      <td>2018</td>\n",
       "      <td>Vallensbæk</td>\n",
       "      <td>Women</td>\n",
       "      <td>157543.922997</td>\n",
       "    </tr>\n",
       "  </tbody>\n",
       "</table>\n",
       "<p>616 rows × 4 columns</p>\n",
       "</div>"
      ],
      "text/plain": [
       "     year municipality gender          count\n",
       "0    2005  Albertslund    Men  119553.848536\n",
       "1    2005  Albertslund  Women  102671.814315\n",
       "2    2005     Ballerup    Men  125782.092141\n",
       "3    2005     Ballerup  Women  110185.593915\n",
       "4    2005      Brøndby    Men  119157.083143\n",
       "..    ...          ...    ...            ...\n",
       "611  2018      Rødovre  Women  147938.697321\n",
       "612  2018       Tårnby    Men  151469.501442\n",
       "613  2018       Tårnby  Women  158572.911085\n",
       "614  2018   Vallensbæk    Men  160330.548038\n",
       "615  2018   Vallensbæk  Women  157543.922997\n",
       "\n",
       "[616 rows x 4 columns]"
      ]
     },
     "execution_count": 14,
     "metadata": {},
     "output_type": "execute_result"
    }
   ],
   "source": [
    "# Group the data by 'year' and 'municipality', then calculate the sum of 'weighted_inc_mun' for each group\n",
    "df_income_gender = df_2.groupby(['year', 'municipality', 'gender'])['weighted_inc_mun'].sum().reset_index(name='count')\n",
    "df_income_gender"
   ]
  },
  {
   "cell_type": "code",
   "execution_count": 16,
   "metadata": {},
   "outputs": [
    {
     "data": {
      "text/plain": [
       "year\n",
       "2005    137357.157869\n",
       "2006    139126.699419\n",
       "2007    139527.767193\n",
       "2008    135875.828566\n",
       "2009    134206.686771\n",
       "2010    145474.772610\n",
       "2011    144958.564144\n",
       "2012    144452.428950\n",
       "2013    147219.394488\n",
       "2014    150536.665399\n",
       "2015    154079.695697\n",
       "2016    156460.128113\n",
       "2017    158823.035096\n",
       "2018    161911.252552\n",
       "Name: count, dtype: float64"
      ]
     },
     "execution_count": 16,
     "metadata": {},
     "output_type": "execute_result"
    }
   ],
   "source": [
    "men_yearly_avg_inc = df_income_gender[df_income_gender.gender=='Men'].groupby('year')['count'].mean()\n",
    "women_yearly_avg_inc = df_income_gender[df_income_gender.gender=='Women'].groupby('year')['count'].mean()\n",
    "men_yearly_avg_inc"
   ]
  },
  {
   "cell_type": "code",
   "execution_count": 24,
   "metadata": {},
   "outputs": [
    {
     "data": {
      "application/vnd.plotly.v1+json": {
       "config": {
        "plotlyServerURL": "https://plot.ly"
       },
       "data": [
        {
         "marker": {
          "color": "rgb(55, 83, 109)"
         },
         "name": "Men",
         "type": "bar",
         "x": [
          2005,
          2006,
          2007,
          2008,
          2009,
          2010,
          2011,
          2012,
          2013,
          2014,
          2015,
          2016,
          2017,
          2018
         ],
         "y": [
          137357.15786884844,
          139126.699419269,
          139527.76719275743,
          135875.8285659493,
          134206.68677066255,
          145474.77260995068,
          144958.5641440405,
          144452.4289501342,
          147219.39448830023,
          150536.6653994018,
          154079.69569692685,
          156460.12811294358,
          158823.03509595126,
          161911.2525524194
         ]
        },
        {
         "marker": {
          "color": "rgb(26, 118, 255)"
         },
         "name": "Women",
         "type": "bar",
         "x": [
          2005,
          2006,
          2007,
          2008,
          2009,
          2010,
          2011,
          2012,
          2013,
          2014,
          2015,
          2016,
          2017,
          2018
         ],
         "y": [
          127972.1645513222,
          130368.77513616109,
          132779.82166833198,
          133837.65397952136,
          133020.80949690685,
          143786.3540132516,
          143982.49572364945,
          144671.84295834313,
          148193.97602198942,
          152931.26358803926,
          158296.323825178,
          160959.61367383946,
          163111.95511743563,
          165492.7015438603
         ]
        }
       ],
       "layout": {
        "bargap": 0.15,
        "bargroupgap": 0.1,
        "barmode": "group",
        "legend": {
         "bgcolor": "rgba(255, 255, 255, 0)",
         "bordercolor": "rgba(255, 255, 255, 0)",
         "x": 0,
         "y": 1
        },
        "template": {
         "data": {
          "bar": [
           {
            "error_x": {
             "color": "#2a3f5f"
            },
            "error_y": {
             "color": "#2a3f5f"
            },
            "marker": {
             "line": {
              "color": "#E5ECF6",
              "width": 0.5
             },
             "pattern": {
              "fillmode": "overlay",
              "size": 10,
              "solidity": 0.2
             }
            },
            "type": "bar"
           }
          ],
          "barpolar": [
           {
            "marker": {
             "line": {
              "color": "#E5ECF6",
              "width": 0.5
             },
             "pattern": {
              "fillmode": "overlay",
              "size": 10,
              "solidity": 0.2
             }
            },
            "type": "barpolar"
           }
          ],
          "carpet": [
           {
            "aaxis": {
             "endlinecolor": "#2a3f5f",
             "gridcolor": "white",
             "linecolor": "white",
             "minorgridcolor": "white",
             "startlinecolor": "#2a3f5f"
            },
            "baxis": {
             "endlinecolor": "#2a3f5f",
             "gridcolor": "white",
             "linecolor": "white",
             "minorgridcolor": "white",
             "startlinecolor": "#2a3f5f"
            },
            "type": "carpet"
           }
          ],
          "choropleth": [
           {
            "colorbar": {
             "outlinewidth": 0,
             "ticks": ""
            },
            "type": "choropleth"
           }
          ],
          "contour": [
           {
            "colorbar": {
             "outlinewidth": 0,
             "ticks": ""
            },
            "colorscale": [
             [
              0,
              "#0d0887"
             ],
             [
              0.1111111111111111,
              "#46039f"
             ],
             [
              0.2222222222222222,
              "#7201a8"
             ],
             [
              0.3333333333333333,
              "#9c179e"
             ],
             [
              0.4444444444444444,
              "#bd3786"
             ],
             [
              0.5555555555555556,
              "#d8576b"
             ],
             [
              0.6666666666666666,
              "#ed7953"
             ],
             [
              0.7777777777777778,
              "#fb9f3a"
             ],
             [
              0.8888888888888888,
              "#fdca26"
             ],
             [
              1,
              "#f0f921"
             ]
            ],
            "type": "contour"
           }
          ],
          "contourcarpet": [
           {
            "colorbar": {
             "outlinewidth": 0,
             "ticks": ""
            },
            "type": "contourcarpet"
           }
          ],
          "heatmap": [
           {
            "colorbar": {
             "outlinewidth": 0,
             "ticks": ""
            },
            "colorscale": [
             [
              0,
              "#0d0887"
             ],
             [
              0.1111111111111111,
              "#46039f"
             ],
             [
              0.2222222222222222,
              "#7201a8"
             ],
             [
              0.3333333333333333,
              "#9c179e"
             ],
             [
              0.4444444444444444,
              "#bd3786"
             ],
             [
              0.5555555555555556,
              "#d8576b"
             ],
             [
              0.6666666666666666,
              "#ed7953"
             ],
             [
              0.7777777777777778,
              "#fb9f3a"
             ],
             [
              0.8888888888888888,
              "#fdca26"
             ],
             [
              1,
              "#f0f921"
             ]
            ],
            "type": "heatmap"
           }
          ],
          "heatmapgl": [
           {
            "colorbar": {
             "outlinewidth": 0,
             "ticks": ""
            },
            "colorscale": [
             [
              0,
              "#0d0887"
             ],
             [
              0.1111111111111111,
              "#46039f"
             ],
             [
              0.2222222222222222,
              "#7201a8"
             ],
             [
              0.3333333333333333,
              "#9c179e"
             ],
             [
              0.4444444444444444,
              "#bd3786"
             ],
             [
              0.5555555555555556,
              "#d8576b"
             ],
             [
              0.6666666666666666,
              "#ed7953"
             ],
             [
              0.7777777777777778,
              "#fb9f3a"
             ],
             [
              0.8888888888888888,
              "#fdca26"
             ],
             [
              1,
              "#f0f921"
             ]
            ],
            "type": "heatmapgl"
           }
          ],
          "histogram": [
           {
            "marker": {
             "pattern": {
              "fillmode": "overlay",
              "size": 10,
              "solidity": 0.2
             }
            },
            "type": "histogram"
           }
          ],
          "histogram2d": [
           {
            "colorbar": {
             "outlinewidth": 0,
             "ticks": ""
            },
            "colorscale": [
             [
              0,
              "#0d0887"
             ],
             [
              0.1111111111111111,
              "#46039f"
             ],
             [
              0.2222222222222222,
              "#7201a8"
             ],
             [
              0.3333333333333333,
              "#9c179e"
             ],
             [
              0.4444444444444444,
              "#bd3786"
             ],
             [
              0.5555555555555556,
              "#d8576b"
             ],
             [
              0.6666666666666666,
              "#ed7953"
             ],
             [
              0.7777777777777778,
              "#fb9f3a"
             ],
             [
              0.8888888888888888,
              "#fdca26"
             ],
             [
              1,
              "#f0f921"
             ]
            ],
            "type": "histogram2d"
           }
          ],
          "histogram2dcontour": [
           {
            "colorbar": {
             "outlinewidth": 0,
             "ticks": ""
            },
            "colorscale": [
             [
              0,
              "#0d0887"
             ],
             [
              0.1111111111111111,
              "#46039f"
             ],
             [
              0.2222222222222222,
              "#7201a8"
             ],
             [
              0.3333333333333333,
              "#9c179e"
             ],
             [
              0.4444444444444444,
              "#bd3786"
             ],
             [
              0.5555555555555556,
              "#d8576b"
             ],
             [
              0.6666666666666666,
              "#ed7953"
             ],
             [
              0.7777777777777778,
              "#fb9f3a"
             ],
             [
              0.8888888888888888,
              "#fdca26"
             ],
             [
              1,
              "#f0f921"
             ]
            ],
            "type": "histogram2dcontour"
           }
          ],
          "mesh3d": [
           {
            "colorbar": {
             "outlinewidth": 0,
             "ticks": ""
            },
            "type": "mesh3d"
           }
          ],
          "parcoords": [
           {
            "line": {
             "colorbar": {
              "outlinewidth": 0,
              "ticks": ""
             }
            },
            "type": "parcoords"
           }
          ],
          "pie": [
           {
            "automargin": true,
            "type": "pie"
           }
          ],
          "scatter": [
           {
            "fillpattern": {
             "fillmode": "overlay",
             "size": 10,
             "solidity": 0.2
            },
            "type": "scatter"
           }
          ],
          "scatter3d": [
           {
            "line": {
             "colorbar": {
              "outlinewidth": 0,
              "ticks": ""
             }
            },
            "marker": {
             "colorbar": {
              "outlinewidth": 0,
              "ticks": ""
             }
            },
            "type": "scatter3d"
           }
          ],
          "scattercarpet": [
           {
            "marker": {
             "colorbar": {
              "outlinewidth": 0,
              "ticks": ""
             }
            },
            "type": "scattercarpet"
           }
          ],
          "scattergeo": [
           {
            "marker": {
             "colorbar": {
              "outlinewidth": 0,
              "ticks": ""
             }
            },
            "type": "scattergeo"
           }
          ],
          "scattergl": [
           {
            "marker": {
             "colorbar": {
              "outlinewidth": 0,
              "ticks": ""
             }
            },
            "type": "scattergl"
           }
          ],
          "scattermapbox": [
           {
            "marker": {
             "colorbar": {
              "outlinewidth": 0,
              "ticks": ""
             }
            },
            "type": "scattermapbox"
           }
          ],
          "scatterpolar": [
           {
            "marker": {
             "colorbar": {
              "outlinewidth": 0,
              "ticks": ""
             }
            },
            "type": "scatterpolar"
           }
          ],
          "scatterpolargl": [
           {
            "marker": {
             "colorbar": {
              "outlinewidth": 0,
              "ticks": ""
             }
            },
            "type": "scatterpolargl"
           }
          ],
          "scatterternary": [
           {
            "marker": {
             "colorbar": {
              "outlinewidth": 0,
              "ticks": ""
             }
            },
            "type": "scatterternary"
           }
          ],
          "surface": [
           {
            "colorbar": {
             "outlinewidth": 0,
             "ticks": ""
            },
            "colorscale": [
             [
              0,
              "#0d0887"
             ],
             [
              0.1111111111111111,
              "#46039f"
             ],
             [
              0.2222222222222222,
              "#7201a8"
             ],
             [
              0.3333333333333333,
              "#9c179e"
             ],
             [
              0.4444444444444444,
              "#bd3786"
             ],
             [
              0.5555555555555556,
              "#d8576b"
             ],
             [
              0.6666666666666666,
              "#ed7953"
             ],
             [
              0.7777777777777778,
              "#fb9f3a"
             ],
             [
              0.8888888888888888,
              "#fdca26"
             ],
             [
              1,
              "#f0f921"
             ]
            ],
            "type": "surface"
           }
          ],
          "table": [
           {
            "cells": {
             "fill": {
              "color": "#EBF0F8"
             },
             "line": {
              "color": "white"
             }
            },
            "header": {
             "fill": {
              "color": "#C8D4E3"
             },
             "line": {
              "color": "white"
             }
            },
            "type": "table"
           }
          ]
         },
         "layout": {
          "annotationdefaults": {
           "arrowcolor": "#2a3f5f",
           "arrowhead": 0,
           "arrowwidth": 1
          },
          "autotypenumbers": "strict",
          "coloraxis": {
           "colorbar": {
            "outlinewidth": 0,
            "ticks": ""
           }
          },
          "colorscale": {
           "diverging": [
            [
             0,
             "#8e0152"
            ],
            [
             0.1,
             "#c51b7d"
            ],
            [
             0.2,
             "#de77ae"
            ],
            [
             0.3,
             "#f1b6da"
            ],
            [
             0.4,
             "#fde0ef"
            ],
            [
             0.5,
             "#f7f7f7"
            ],
            [
             0.6,
             "#e6f5d0"
            ],
            [
             0.7,
             "#b8e186"
            ],
            [
             0.8,
             "#7fbc41"
            ],
            [
             0.9,
             "#4d9221"
            ],
            [
             1,
             "#276419"
            ]
           ],
           "sequential": [
            [
             0,
             "#0d0887"
            ],
            [
             0.1111111111111111,
             "#46039f"
            ],
            [
             0.2222222222222222,
             "#7201a8"
            ],
            [
             0.3333333333333333,
             "#9c179e"
            ],
            [
             0.4444444444444444,
             "#bd3786"
            ],
            [
             0.5555555555555556,
             "#d8576b"
            ],
            [
             0.6666666666666666,
             "#ed7953"
            ],
            [
             0.7777777777777778,
             "#fb9f3a"
            ],
            [
             0.8888888888888888,
             "#fdca26"
            ],
            [
             1,
             "#f0f921"
            ]
           ],
           "sequentialminus": [
            [
             0,
             "#0d0887"
            ],
            [
             0.1111111111111111,
             "#46039f"
            ],
            [
             0.2222222222222222,
             "#7201a8"
            ],
            [
             0.3333333333333333,
             "#9c179e"
            ],
            [
             0.4444444444444444,
             "#bd3786"
            ],
            [
             0.5555555555555556,
             "#d8576b"
            ],
            [
             0.6666666666666666,
             "#ed7953"
            ],
            [
             0.7777777777777778,
             "#fb9f3a"
            ],
            [
             0.8888888888888888,
             "#fdca26"
            ],
            [
             1,
             "#f0f921"
            ]
           ]
          },
          "colorway": [
           "#636efa",
           "#EF553B",
           "#00cc96",
           "#ab63fa",
           "#FFA15A",
           "#19d3f3",
           "#FF6692",
           "#B6E880",
           "#FF97FF",
           "#FECB52"
          ],
          "font": {
           "color": "#2a3f5f"
          },
          "geo": {
           "bgcolor": "white",
           "lakecolor": "white",
           "landcolor": "#E5ECF6",
           "showlakes": true,
           "showland": true,
           "subunitcolor": "white"
          },
          "hoverlabel": {
           "align": "left"
          },
          "hovermode": "closest",
          "mapbox": {
           "style": "light"
          },
          "paper_bgcolor": "white",
          "plot_bgcolor": "#E5ECF6",
          "polar": {
           "angularaxis": {
            "gridcolor": "white",
            "linecolor": "white",
            "ticks": ""
           },
           "bgcolor": "#E5ECF6",
           "radialaxis": {
            "gridcolor": "white",
            "linecolor": "white",
            "ticks": ""
           }
          },
          "scene": {
           "xaxis": {
            "backgroundcolor": "#E5ECF6",
            "gridcolor": "white",
            "gridwidth": 2,
            "linecolor": "white",
            "showbackground": true,
            "ticks": "",
            "zerolinecolor": "white"
           },
           "yaxis": {
            "backgroundcolor": "#E5ECF6",
            "gridcolor": "white",
            "gridwidth": 2,
            "linecolor": "white",
            "showbackground": true,
            "ticks": "",
            "zerolinecolor": "white"
           },
           "zaxis": {
            "backgroundcolor": "#E5ECF6",
            "gridcolor": "white",
            "gridwidth": 2,
            "linecolor": "white",
            "showbackground": true,
            "ticks": "",
            "zerolinecolor": "white"
           }
          },
          "shapedefaults": {
           "line": {
            "color": "#2a3f5f"
           }
          },
          "ternary": {
           "aaxis": {
            "gridcolor": "white",
            "linecolor": "white",
            "ticks": ""
           },
           "baxis": {
            "gridcolor": "white",
            "linecolor": "white",
            "ticks": ""
           },
           "bgcolor": "#E5ECF6",
           "caxis": {
            "gridcolor": "white",
            "linecolor": "white",
            "ticks": ""
           }
          },
          "title": {
           "x": 0.05
          },
          "xaxis": {
           "automargin": true,
           "gridcolor": "white",
           "linecolor": "white",
           "ticks": "",
           "title": {
            "standoff": 15
           },
           "zerolinecolor": "white",
           "zerolinewidth": 2
          },
          "yaxis": {
           "automargin": true,
           "gridcolor": "white",
           "linecolor": "white",
           "ticks": "",
           "title": {
            "standoff": 15
           },
           "zerolinecolor": "white",
           "zerolinewidth": 2
          }
         }
        },
        "title": {
         "text": "Annual gender income"
        },
        "xaxis": {
         "tickfont": {
          "size": 14
         }
        },
        "yaxis": {
         "tickfont": {
          "size": 14
         },
         "title": {
          "font": {
           "size": 16
          },
          "text": "DKK"
         }
        }
       }
      }
     },
     "metadata": {},
     "output_type": "display_data"
    }
   ],
   "source": [
    "years = df_income_gender.year.unique()\n",
    "\n",
    "fig = go.Figure()\n",
    "fig.add_trace(go.Bar(x=years,\n",
    "                y=men_yearly_avg_inc,\n",
    "                name='Men',\n",
    "                marker_color='rgb(55, 83, 109)'\n",
    "                ))\n",
    "fig.add_trace(go.Bar(x=years,\n",
    "                y=women_yearly_avg_inc,\n",
    "                name='Women',\n",
    "                marker_color='rgb(26, 118, 255)'\n",
    "                ))\n",
    "\n",
    "fig.update_layout(\n",
    "    title='Annual gender income',\n",
    "    xaxis_tickfont_size=14,\n",
    "    yaxis=dict(\n",
    "        title='DKK',\n",
    "        titlefont_size=16,\n",
    "        tickfont_size=14,\n",
    "    ),\n",
    "    legend=dict(\n",
    "        x=0,\n",
    "        y=1.0,\n",
    "        bgcolor='rgba(255, 255, 255, 0)',\n",
    "        bordercolor='rgba(255, 255, 255, 0)'\n",
    "    ),\n",
    "    barmode='group',\n",
    "    bargap=0.15, # gap between bars of adjacent location coordinates.\n",
    "    bargroupgap=0.1 # gap between bars of the same location coordinate.\n",
    ")\n",
    "fig.show()"
   ]
  },
  {
   "cell_type": "code",
   "execution_count": 17,
   "metadata": {},
   "outputs": [
    {
     "data": {
      "application/vnd.plotly.v1+json": {
       "config": {
        "plotlyServerURL": "https://plot.ly"
       },
       "data": [
        {
         "marker": {
          "color": "rgb(55, 83, 109)"
         },
         "name": "Men",
         "type": "bar",
         "x": [
          2005,
          2006,
          2007,
          2008,
          2009,
          2010,
          2011,
          2012,
          2013,
          2014,
          2015,
          2016,
          2017,
          2018
         ],
         "y": [
          119553.8485363124,
          119522.52401686515,
          119114.46014437945,
          118825.82172350156,
          120276.9771653865,
          125581.48151386382,
          120870.93354142184,
          119945.8787526484,
          119158.16523617365,
          120645.07358412372,
          123373.26468656334,
          125066.23032893178,
          125270.91012388855,
          128065.03001704642
         ]
        },
        {
         "marker": {
          "color": "rgb(26, 118, 255)"
         },
         "name": "Women",
         "type": "bar",
         "x": [
          2005,
          2006,
          2007,
          2008,
          2009,
          2010,
          2011,
          2012,
          2013,
          2014,
          2015,
          2016,
          2017,
          2018
         ],
         "y": [
          102671.81431515104,
          104745.87785045161,
          105588.68541278744,
          105696.74361579292,
          107936.4280335022,
          113565.3553678425,
          109517.34057452618,
          108155.53802059861,
          125872.1171095064,
          127740.84832470308,
          128696.84368239102,
          127599.82060047402,
          128893.9902487933,
          132955.14754320675
         ]
        }
       ],
       "layout": {
        "bargap": 0.15,
        "bargroupgap": 0.1,
        "barmode": "group",
        "legend": {
         "bgcolor": "rgba(255, 255, 255, 0)",
         "bordercolor": "rgba(255, 255, 255, 0)",
         "x": 0,
         "y": 1
        },
        "template": {
         "data": {
          "bar": [
           {
            "error_x": {
             "color": "#2a3f5f"
            },
            "error_y": {
             "color": "#2a3f5f"
            },
            "marker": {
             "line": {
              "color": "#E5ECF6",
              "width": 0.5
             },
             "pattern": {
              "fillmode": "overlay",
              "size": 10,
              "solidity": 0.2
             }
            },
            "type": "bar"
           }
          ],
          "barpolar": [
           {
            "marker": {
             "line": {
              "color": "#E5ECF6",
              "width": 0.5
             },
             "pattern": {
              "fillmode": "overlay",
              "size": 10,
              "solidity": 0.2
             }
            },
            "type": "barpolar"
           }
          ],
          "carpet": [
           {
            "aaxis": {
             "endlinecolor": "#2a3f5f",
             "gridcolor": "white",
             "linecolor": "white",
             "minorgridcolor": "white",
             "startlinecolor": "#2a3f5f"
            },
            "baxis": {
             "endlinecolor": "#2a3f5f",
             "gridcolor": "white",
             "linecolor": "white",
             "minorgridcolor": "white",
             "startlinecolor": "#2a3f5f"
            },
            "type": "carpet"
           }
          ],
          "choropleth": [
           {
            "colorbar": {
             "outlinewidth": 0,
             "ticks": ""
            },
            "type": "choropleth"
           }
          ],
          "contour": [
           {
            "colorbar": {
             "outlinewidth": 0,
             "ticks": ""
            },
            "colorscale": [
             [
              0,
              "#0d0887"
             ],
             [
              0.1111111111111111,
              "#46039f"
             ],
             [
              0.2222222222222222,
              "#7201a8"
             ],
             [
              0.3333333333333333,
              "#9c179e"
             ],
             [
              0.4444444444444444,
              "#bd3786"
             ],
             [
              0.5555555555555556,
              "#d8576b"
             ],
             [
              0.6666666666666666,
              "#ed7953"
             ],
             [
              0.7777777777777778,
              "#fb9f3a"
             ],
             [
              0.8888888888888888,
              "#fdca26"
             ],
             [
              1,
              "#f0f921"
             ]
            ],
            "type": "contour"
           }
          ],
          "contourcarpet": [
           {
            "colorbar": {
             "outlinewidth": 0,
             "ticks": ""
            },
            "type": "contourcarpet"
           }
          ],
          "heatmap": [
           {
            "colorbar": {
             "outlinewidth": 0,
             "ticks": ""
            },
            "colorscale": [
             [
              0,
              "#0d0887"
             ],
             [
              0.1111111111111111,
              "#46039f"
             ],
             [
              0.2222222222222222,
              "#7201a8"
             ],
             [
              0.3333333333333333,
              "#9c179e"
             ],
             [
              0.4444444444444444,
              "#bd3786"
             ],
             [
              0.5555555555555556,
              "#d8576b"
             ],
             [
              0.6666666666666666,
              "#ed7953"
             ],
             [
              0.7777777777777778,
              "#fb9f3a"
             ],
             [
              0.8888888888888888,
              "#fdca26"
             ],
             [
              1,
              "#f0f921"
             ]
            ],
            "type": "heatmap"
           }
          ],
          "heatmapgl": [
           {
            "colorbar": {
             "outlinewidth": 0,
             "ticks": ""
            },
            "colorscale": [
             [
              0,
              "#0d0887"
             ],
             [
              0.1111111111111111,
              "#46039f"
             ],
             [
              0.2222222222222222,
              "#7201a8"
             ],
             [
              0.3333333333333333,
              "#9c179e"
             ],
             [
              0.4444444444444444,
              "#bd3786"
             ],
             [
              0.5555555555555556,
              "#d8576b"
             ],
             [
              0.6666666666666666,
              "#ed7953"
             ],
             [
              0.7777777777777778,
              "#fb9f3a"
             ],
             [
              0.8888888888888888,
              "#fdca26"
             ],
             [
              1,
              "#f0f921"
             ]
            ],
            "type": "heatmapgl"
           }
          ],
          "histogram": [
           {
            "marker": {
             "pattern": {
              "fillmode": "overlay",
              "size": 10,
              "solidity": 0.2
             }
            },
            "type": "histogram"
           }
          ],
          "histogram2d": [
           {
            "colorbar": {
             "outlinewidth": 0,
             "ticks": ""
            },
            "colorscale": [
             [
              0,
              "#0d0887"
             ],
             [
              0.1111111111111111,
              "#46039f"
             ],
             [
              0.2222222222222222,
              "#7201a8"
             ],
             [
              0.3333333333333333,
              "#9c179e"
             ],
             [
              0.4444444444444444,
              "#bd3786"
             ],
             [
              0.5555555555555556,
              "#d8576b"
             ],
             [
              0.6666666666666666,
              "#ed7953"
             ],
             [
              0.7777777777777778,
              "#fb9f3a"
             ],
             [
              0.8888888888888888,
              "#fdca26"
             ],
             [
              1,
              "#f0f921"
             ]
            ],
            "type": "histogram2d"
           }
          ],
          "histogram2dcontour": [
           {
            "colorbar": {
             "outlinewidth": 0,
             "ticks": ""
            },
            "colorscale": [
             [
              0,
              "#0d0887"
             ],
             [
              0.1111111111111111,
              "#46039f"
             ],
             [
              0.2222222222222222,
              "#7201a8"
             ],
             [
              0.3333333333333333,
              "#9c179e"
             ],
             [
              0.4444444444444444,
              "#bd3786"
             ],
             [
              0.5555555555555556,
              "#d8576b"
             ],
             [
              0.6666666666666666,
              "#ed7953"
             ],
             [
              0.7777777777777778,
              "#fb9f3a"
             ],
             [
              0.8888888888888888,
              "#fdca26"
             ],
             [
              1,
              "#f0f921"
             ]
            ],
            "type": "histogram2dcontour"
           }
          ],
          "mesh3d": [
           {
            "colorbar": {
             "outlinewidth": 0,
             "ticks": ""
            },
            "type": "mesh3d"
           }
          ],
          "parcoords": [
           {
            "line": {
             "colorbar": {
              "outlinewidth": 0,
              "ticks": ""
             }
            },
            "type": "parcoords"
           }
          ],
          "pie": [
           {
            "automargin": true,
            "type": "pie"
           }
          ],
          "scatter": [
           {
            "fillpattern": {
             "fillmode": "overlay",
             "size": 10,
             "solidity": 0.2
            },
            "type": "scatter"
           }
          ],
          "scatter3d": [
           {
            "line": {
             "colorbar": {
              "outlinewidth": 0,
              "ticks": ""
             }
            },
            "marker": {
             "colorbar": {
              "outlinewidth": 0,
              "ticks": ""
             }
            },
            "type": "scatter3d"
           }
          ],
          "scattercarpet": [
           {
            "marker": {
             "colorbar": {
              "outlinewidth": 0,
              "ticks": ""
             }
            },
            "type": "scattercarpet"
           }
          ],
          "scattergeo": [
           {
            "marker": {
             "colorbar": {
              "outlinewidth": 0,
              "ticks": ""
             }
            },
            "type": "scattergeo"
           }
          ],
          "scattergl": [
           {
            "marker": {
             "colorbar": {
              "outlinewidth": 0,
              "ticks": ""
             }
            },
            "type": "scattergl"
           }
          ],
          "scattermapbox": [
           {
            "marker": {
             "colorbar": {
              "outlinewidth": 0,
              "ticks": ""
             }
            },
            "type": "scattermapbox"
           }
          ],
          "scatterpolar": [
           {
            "marker": {
             "colorbar": {
              "outlinewidth": 0,
              "ticks": ""
             }
            },
            "type": "scatterpolar"
           }
          ],
          "scatterpolargl": [
           {
            "marker": {
             "colorbar": {
              "outlinewidth": 0,
              "ticks": ""
             }
            },
            "type": "scatterpolargl"
           }
          ],
          "scatterternary": [
           {
            "marker": {
             "colorbar": {
              "outlinewidth": 0,
              "ticks": ""
             }
            },
            "type": "scatterternary"
           }
          ],
          "surface": [
           {
            "colorbar": {
             "outlinewidth": 0,
             "ticks": ""
            },
            "colorscale": [
             [
              0,
              "#0d0887"
             ],
             [
              0.1111111111111111,
              "#46039f"
             ],
             [
              0.2222222222222222,
              "#7201a8"
             ],
             [
              0.3333333333333333,
              "#9c179e"
             ],
             [
              0.4444444444444444,
              "#bd3786"
             ],
             [
              0.5555555555555556,
              "#d8576b"
             ],
             [
              0.6666666666666666,
              "#ed7953"
             ],
             [
              0.7777777777777778,
              "#fb9f3a"
             ],
             [
              0.8888888888888888,
              "#fdca26"
             ],
             [
              1,
              "#f0f921"
             ]
            ],
            "type": "surface"
           }
          ],
          "table": [
           {
            "cells": {
             "fill": {
              "color": "#EBF0F8"
             },
             "line": {
              "color": "white"
             }
            },
            "header": {
             "fill": {
              "color": "#C8D4E3"
             },
             "line": {
              "color": "white"
             }
            },
            "type": "table"
           }
          ]
         },
         "layout": {
          "annotationdefaults": {
           "arrowcolor": "#2a3f5f",
           "arrowhead": 0,
           "arrowwidth": 1
          },
          "autotypenumbers": "strict",
          "coloraxis": {
           "colorbar": {
            "outlinewidth": 0,
            "ticks": ""
           }
          },
          "colorscale": {
           "diverging": [
            [
             0,
             "#8e0152"
            ],
            [
             0.1,
             "#c51b7d"
            ],
            [
             0.2,
             "#de77ae"
            ],
            [
             0.3,
             "#f1b6da"
            ],
            [
             0.4,
             "#fde0ef"
            ],
            [
             0.5,
             "#f7f7f7"
            ],
            [
             0.6,
             "#e6f5d0"
            ],
            [
             0.7,
             "#b8e186"
            ],
            [
             0.8,
             "#7fbc41"
            ],
            [
             0.9,
             "#4d9221"
            ],
            [
             1,
             "#276419"
            ]
           ],
           "sequential": [
            [
             0,
             "#0d0887"
            ],
            [
             0.1111111111111111,
             "#46039f"
            ],
            [
             0.2222222222222222,
             "#7201a8"
            ],
            [
             0.3333333333333333,
             "#9c179e"
            ],
            [
             0.4444444444444444,
             "#bd3786"
            ],
            [
             0.5555555555555556,
             "#d8576b"
            ],
            [
             0.6666666666666666,
             "#ed7953"
            ],
            [
             0.7777777777777778,
             "#fb9f3a"
            ],
            [
             0.8888888888888888,
             "#fdca26"
            ],
            [
             1,
             "#f0f921"
            ]
           ],
           "sequentialminus": [
            [
             0,
             "#0d0887"
            ],
            [
             0.1111111111111111,
             "#46039f"
            ],
            [
             0.2222222222222222,
             "#7201a8"
            ],
            [
             0.3333333333333333,
             "#9c179e"
            ],
            [
             0.4444444444444444,
             "#bd3786"
            ],
            [
             0.5555555555555556,
             "#d8576b"
            ],
            [
             0.6666666666666666,
             "#ed7953"
            ],
            [
             0.7777777777777778,
             "#fb9f3a"
            ],
            [
             0.8888888888888888,
             "#fdca26"
            ],
            [
             1,
             "#f0f921"
            ]
           ]
          },
          "colorway": [
           "#636efa",
           "#EF553B",
           "#00cc96",
           "#ab63fa",
           "#FFA15A",
           "#19d3f3",
           "#FF6692",
           "#B6E880",
           "#FF97FF",
           "#FECB52"
          ],
          "font": {
           "color": "#2a3f5f"
          },
          "geo": {
           "bgcolor": "white",
           "lakecolor": "white",
           "landcolor": "#E5ECF6",
           "showlakes": true,
           "showland": true,
           "subunitcolor": "white"
          },
          "hoverlabel": {
           "align": "left"
          },
          "hovermode": "closest",
          "mapbox": {
           "style": "light"
          },
          "paper_bgcolor": "white",
          "plot_bgcolor": "#E5ECF6",
          "polar": {
           "angularaxis": {
            "gridcolor": "white",
            "linecolor": "white",
            "ticks": ""
           },
           "bgcolor": "#E5ECF6",
           "radialaxis": {
            "gridcolor": "white",
            "linecolor": "white",
            "ticks": ""
           }
          },
          "scene": {
           "xaxis": {
            "backgroundcolor": "#E5ECF6",
            "gridcolor": "white",
            "gridwidth": 2,
            "linecolor": "white",
            "showbackground": true,
            "ticks": "",
            "zerolinecolor": "white"
           },
           "yaxis": {
            "backgroundcolor": "#E5ECF6",
            "gridcolor": "white",
            "gridwidth": 2,
            "linecolor": "white",
            "showbackground": true,
            "ticks": "",
            "zerolinecolor": "white"
           },
           "zaxis": {
            "backgroundcolor": "#E5ECF6",
            "gridcolor": "white",
            "gridwidth": 2,
            "linecolor": "white",
            "showbackground": true,
            "ticks": "",
            "zerolinecolor": "white"
           }
          },
          "shapedefaults": {
           "line": {
            "color": "#2a3f5f"
           }
          },
          "ternary": {
           "aaxis": {
            "gridcolor": "white",
            "linecolor": "white",
            "ticks": ""
           },
           "baxis": {
            "gridcolor": "white",
            "linecolor": "white",
            "ticks": ""
           },
           "bgcolor": "#E5ECF6",
           "caxis": {
            "gridcolor": "white",
            "linecolor": "white",
            "ticks": ""
           }
          },
          "title": {
           "x": 0.05
          },
          "xaxis": {
           "automargin": true,
           "gridcolor": "white",
           "linecolor": "white",
           "ticks": "",
           "title": {
            "standoff": 15
           },
           "zerolinecolor": "white",
           "zerolinewidth": 2
          },
          "yaxis": {
           "automargin": true,
           "gridcolor": "white",
           "linecolor": "white",
           "ticks": "",
           "title": {
            "standoff": 15
           },
           "zerolinecolor": "white",
           "zerolinewidth": 2
          }
         }
        },
        "title": {
         "text": "Annual income by gender for Albertslund"
        },
        "updatemenus": [
         {
          "active": 0,
          "buttons": [
           {
            "args": [
             {
              "visible": [
               true,
               true
              ],
              "x": [
               [
                2005,
                2006,
                2007,
                2008,
                2009,
                2010,
                2011,
                2012,
                2013,
                2014,
                2015,
                2016,
                2017,
                2018
               ],
               [
                2005,
                2006,
                2007,
                2008,
                2009,
                2010,
                2011,
                2012,
                2013,
                2014,
                2015,
                2016,
                2017,
                2018
               ]
              ],
              "y": [
               [
                137357.15786884844,
                139126.699419269,
                139527.76719275743,
                135875.8285659493,
                134206.68677066255,
                145474.77260995068,
                144958.5641440405,
                144452.4289501342,
                147219.39448830023,
                150536.6653994018,
                154079.69569692685,
                156460.12811294358,
                158823.03509595126,
                161911.2525524194
               ],
               [
                127972.1645513222,
                130368.77513616109,
                132779.82166833198,
                133837.65397952136,
                133020.80949690685,
                143786.3540132516,
                143982.49572364945,
                144671.84295834313,
                148193.97602198942,
                152931.26358803926,
                158296.323825178,
                160959.61367383946,
                163111.95511743563,
                165492.7015438603
               ]
              ]
             }
            ],
            "label": "All",
            "method": "update"
           },
           {
            "args": [
             {
              "visible": [
               true,
               true
              ],
              "x": [
               [
                2005,
                2006,
                2007,
                2008,
                2009,
                2010,
                2011,
                2012,
                2013,
                2014,
                2015,
                2016,
                2017,
                2018
               ],
               [
                2005,
                2006,
                2007,
                2008,
                2009,
                2010,
                2011,
                2012,
                2013,
                2014,
                2015,
                2016,
                2017,
                2018
               ]
              ],
              "y": [
               [
                119553.8485363124,
                119522.52401686515,
                119114.46014437945,
                118825.82172350156,
                120276.9771653865,
                125581.48151386382,
                120870.93354142184,
                119945.8787526484,
                119158.16523617365,
                120645.07358412372,
                123373.26468656334,
                125066.23032893178,
                125270.91012388855,
                128065.03001704642
               ],
               [
                102671.81431515104,
                104745.87785045161,
                105588.68541278744,
                105696.74361579292,
                107936.4280335022,
                113565.3553678425,
                109517.34057452618,
                108155.53802059861,
                125872.1171095064,
                127740.84832470308,
                128696.84368239102,
                127599.82060047402,
                128893.9902487933,
                132955.14754320675
               ]
              ]
             }
            ],
            "label": "Albertslund",
            "method": "update"
           },
           {
            "args": [
             {
              "visible": [
               true,
               true
              ],
              "x": [
               [
                2005,
                2006,
                2007,
                2008,
                2009,
                2010,
                2011,
                2012,
                2013,
                2014,
                2015,
                2016,
                2017,
                2018
               ],
               [
                2005,
                2006,
                2007,
                2008,
                2009,
                2010,
                2011,
                2012,
                2013,
                2014,
                2015,
                2016,
                2017,
                2018
               ]
              ],
              "y": [
               [
                125782.09214149226,
                127490.5650110007,
                128052.98246379144,
                126867.7499250267,
                126322.88452833715,
                134520.41281998035,
                134626.977736394,
                133327.4101825732,
                135799.5134431412,
                138036.91611418486,
                141571.10081176806,
                143425.04107338836,
                145147.55478743915,
                148332.80619226772
               ],
               [
                110185.59391501365,
                112678.12017725907,
                113981.47932806106,
                134925.80535239776,
                135124.84390463954,
                142020.82681708058,
                141601.4888795804,
                141820.77326216127,
                143522.25830067229,
                147277.70374048458,
                149523.51097786345,
                151249.2097763993,
                152638.64347742673,
                155178.17912624066
               ]
              ]
             }
            ],
            "label": "Ballerup",
            "method": "update"
           },
           {
            "args": [
             {
              "visible": [
               true,
               true
              ],
              "x": [
               [
                2005,
                2006,
                2007,
                2008,
                2009,
                2010,
                2011,
                2012,
                2013,
                2014,
                2015,
                2016,
                2017,
                2018
               ],
               [
                2005,
                2006,
                2007,
                2008,
                2009,
                2010,
                2011,
                2012,
                2013,
                2014,
                2015,
                2016,
                2017,
                2018
               ]
              ],
              "y": [
               [
                119157.08314300967,
                119929.99340858997,
                118920.8361375528,
                117854.79154799468,
                118103.85372072649,
                123374.67348957261,
                122019.62278326755,
                120838.80630971312,
                121093.55182122334,
                122152.6828007221,
                123841.44021840599,
                125268.91326180391,
                126653.20853113598,
                129100.40657224075
               ],
               [
                122601.98281648033,
                123682.86331355879,
                124516.48567124756,
                123912.43862465945,
                124333.73839866983,
                130236.0855551622,
                127085.00401368903,
                124847.04478226576,
                128052.15156633891,
                129208.42211477799,
                130450.67942284708,
                131739.05288582284,
                131922.8427499227,
                134309.70038363614
               ]
              ]
             }
            ],
            "label": "Brøndby",
            "method": "update"
           },
           {
            "args": [
             {
              "visible": [
               true,
               true
              ],
              "x": [
               [
                2005,
                2006,
                2007,
                2008,
                2009,
                2010,
                2011,
                2012,
                2013,
                2014,
                2015,
                2016,
                2017,
                2018
               ],
               [
                2005,
                2006,
                2007,
                2008,
                2009,
                2010,
                2011,
                2012,
                2013,
                2014,
                2015,
                2016,
                2017,
                2018
               ]
              ],
              "y": [
               [
                121525.42510236538,
                123493.34636517805,
                123794.10298919698,
                122118.13439891808,
                123999.79523163316,
                132000.43713985616,
                130725.64175031574,
                130162.11860077377,
                132342.95880022342,
                134997.6814887306,
                137653.27986189845,
                140023.33002082066,
                142500.48407455668,
                146682.69025540948
               ],
               [
                115999.90807825986,
                118203.72921097596,
                118279.27910390044,
                117719.91770352924,
                120387.00904747874,
                127461.71940016214,
                126873.31065667997,
                125936.68634490279,
                128337.8803180533,
                131031.73780455417,
                133687.6878697179,
                136390.83832139635,
                138802.26343146348,
                142761.4173123763
               ]
              ]
             }
            ],
            "label": "Copenhagen",
            "method": "update"
           },
           {
            "args": [
             {
              "visible": [
               true,
               true
              ],
              "x": [
               [
                2005,
                2006,
                2007,
                2008,
                2009,
                2010,
                2011,
                2012,
                2013,
                2014,
                2015,
                2016,
                2017,
                2018
               ],
               [
                2005,
                2006,
                2007,
                2008,
                2009,
                2010,
                2011,
                2012,
                2013,
                2014,
                2015,
                2016,
                2017,
                2018
               ]
              ],
              "y": [
               [
                125067.71616119583,
                127129.96423872821,
                128376.10794531125,
                125650.19516674786,
                126415.2328102251,
                134880.5378450727,
                133825.07444325674,
                133252.57954735466,
                135633.30297261488,
                138613.5247913759,
                141481.31957149878,
                144003.9649820537,
                146530.04667482193,
                149965.77547849272
               ],
               [
                130548.60910488428,
                132990.8015128759,
                133895.9007770941,
                130990.40166067083,
                131924.17417889222,
                140506.47818835828,
                139555.3836877017,
                139240.23597612587,
                141908.42167028828,
                144480.38990504306,
                146944.8496518746,
                148963.31977365093,
                151582.53003623456,
                154128.4800835384
               ]
              ]
             }
            ],
            "label": "Denmark",
            "method": "update"
           },
           {
            "args": [
             {
              "visible": [
               true,
               true
              ],
              "x": [
               [
                2005,
                2006,
                2007,
                2008,
                2009,
                2010,
                2011,
                2012,
                2013,
                2014,
                2015,
                2016,
                2017,
                2018
               ],
               [
                2005,
                2006,
                2007,
                2008,
                2009,
                2010,
                2011,
                2012,
                2013,
                2014,
                2015,
                2016,
                2017,
                2018
               ]
              ],
              "y": [
               [
                150941.86965051963,
                152135.79972530244,
                154694.03576833388,
                150617.81546743034,
                147150.90070212033,
                163319.6449753942,
                167033.05270893825,
                165463.14075693575,
                169062.8353110151,
                175973.71336444688,
                182962.32861932652,
                182772.4953324766,
                187623.82443986757,
                190810.72156681432
               ],
               [
                132849.8287080121,
                133272.92596303765,
                138176.36955542414,
                136295.0171641306,
                132595.5329110498,
                145661.3430710449,
                149399.70376841002,
                150092.5478124217,
                153244.55221202303,
                154649.34819505096,
                158629.5964341142,
                160854.7238081513,
                162151.13469768298,
                161724.18758065708
               ]
              ]
             }
            ],
            "label": "Dragør",
            "method": "update"
           },
           {
            "args": [
             {
              "visible": [
               true,
               true
              ],
              "x": [
               [
                2005,
                2006,
                2007,
                2008,
                2009,
                2010,
                2011,
                2012,
                2013,
                2014,
                2015,
                2016,
                2017,
                2018
               ],
               [
                2005,
                2006,
                2007,
                2008,
                2009,
                2010,
                2011,
                2012,
                2013,
                2014,
                2015,
                2016,
                2017,
                2018
               ]
              ],
              "y": [
               [
                140939.94747814874,
                142693.12480441757,
                141832.27408862198,
                136953.6371207375,
                137268.56485062258,
                150108.21792497864,
                149071.2280213693,
                147170.70678961562,
                152064.80065125047,
                156056.30748602518,
                160015.048835663,
                161550.36546995325,
                167394.7024310868,
                170149.03030715307
               ],
               [
                142988.73688138893,
                145917.02666551893,
                144816.52992166884,
                142239.8510811365,
                144769.13428101942,
                157148.50602190336,
                156247.31142449673,
                155582.7510089355,
                158774.5011682984,
                163453.12232721297,
                165528.92755740878,
                168056.86644573783,
                171702.78231443875,
                175872.35388776968
               ]
              ]
             }
            ],
            "label": "Frederiksberg",
            "method": "update"
           },
           {
            "args": [
             {
              "visible": [
               true,
               true
              ],
              "x": [
               [
                2005,
                2006,
                2007,
                2008,
                2009,
                2010,
                2011,
                2012,
                2013,
                2014,
                2015,
                2016,
                2017,
                2018
               ],
               [
                2005,
                2006,
                2007,
                2008,
                2009,
                2010,
                2011,
                2012,
                2013,
                2014,
                2015,
                2016,
                2017,
                2018
               ]
              ],
              "y": [
               [
                147193.2733791475,
                149929.98058144425,
                152051.58834219596,
                148290.0184690548,
                146165.43013085777,
                161652.25304393694,
                163962.4991732159,
                164612.00946449416,
                169587.1074717387,
                174889.7061943151,
                177058.03586623393,
                181195.32875927247,
                182760.91443680067,
                186984.67898394834
               ],
               [
                143847.019870663,
                147470.26138525357,
                150388.93986074912,
                145370.04668552344,
                142721.06471070115,
                157347.1592045795,
                180114.61992979047,
                179328.94838399807,
                185665.68857026877,
                189309.6026663808,
                190815.75214656637,
                192884.43695423205,
                196095.82063299982,
                201283.240090446
               ]
              ]
             }
            ],
            "label": "Furesø",
            "method": "update"
           },
           {
            "args": [
             {
              "visible": [
               true,
               true
              ],
              "x": [
               [
                2005,
                2006,
                2007,
                2008,
                2009,
                2010,
                2011,
                2012,
                2013,
                2014,
                2015,
                2016,
                2017,
                2018
               ],
               [
                2005,
                2006,
                2007,
                2008,
                2009,
                2010,
                2011,
                2012,
                2013,
                2014,
                2015,
                2016,
                2017,
                2018
               ]
              ],
              "y": [
               [
                187345.66488580863,
                194099.25283251845,
                197140.66161187142,
                178126.5874849486,
                170488.2012193611,
                200074.91619787036,
                206431.11145779165,
                206535.3368457097,
                212393.30418562496,
                219912.04990838026,
                231346.8136843723,
                238308.54771601528,
                241877.21372047413,
                248006.1354057196
               ],
               [
                209529.0354495407,
                214472.436093422,
                217959.18215865636,
                203000.21809411293,
                196019.12917244842,
                226358.3927804684,
                229636.19382351963,
                231080.70016016325,
                239303.55766024746,
                248652.7484424644,
                259844.8643821313,
                262635.20517012104,
                268687.93312028266,
                272099.0474379048
               ]
              ]
             }
            ],
            "label": "Gentofte",
            "method": "update"
           },
           {
            "args": [
             {
              "visible": [
               true,
               true
              ],
              "x": [
               [
                2005,
                2006,
                2007,
                2008,
                2009,
                2010,
                2011,
                2012,
                2013,
                2014,
                2015,
                2016,
                2017,
                2018
               ],
               [
                2005,
                2006,
                2007,
                2008,
                2009,
                2010,
                2011,
                2012,
                2013,
                2014,
                2015,
                2016,
                2017,
                2018
               ]
              ],
              "y": [
               [
                132673.26962349174,
                133844.581622208,
                134025.30918083456,
                132001.13344397774,
                131356.4047334189,
                141626.93976496079,
                141351.46846495112,
                140476.61651582443,
                143305.84353785118,
                145555.8569674497,
                148774.08697433484,
                151317.78894249158,
                153495.69335102633,
                156398.5192464351
               ],
               [
                138491.05268923295,
                140491.58385193485,
                139260.67233273422,
                139137.19604536385,
                138895.1007692868,
                148860.08275457422,
                149318.36238970666,
                147936.65248178053,
                150583.43887420397,
                154360.41719810714,
                157200.19352872213,
                158315.7726959984,
                159121.60228275837,
                162052.8757669741
               ]
              ]
             }
            ],
            "label": "Gladsaxe",
            "method": "update"
           },
           {
            "args": [
             {
              "visible": [
               true,
               true
              ],
              "x": [
               [
                2005,
                2006,
                2007,
                2008,
                2009,
                2010,
                2011,
                2012,
                2013,
                2014,
                2015,
                2016,
                2017,
                2018
               ],
               [
                2005,
                2006,
                2007,
                2008,
                2009,
                2010,
                2011,
                2012,
                2013,
                2014,
                2015,
                2016,
                2017,
                2018
               ]
              ],
              "y": [
               [
                131947.65050852983,
                133292.8740772978,
                133316.2575472907,
                132323.5736167587,
                131680.98589805825,
                139327.0821150187,
                136418.56848506432,
                135030.31623491063,
                136791.9250213142,
                137273.93341820812,
                141486.20194948144,
                143951.16668239952,
                146764.49972903554,
                150048.58444406404
               ],
               [
                103292.04108062589,
                106162.16760831438,
                108901.58797285263,
                105569.22911010068,
                109376.21115728156,
                116095.51055510424,
                113160.8731060912,
                111949.915398633,
                112180.78165491785,
                114568.76701415727,
                113902.07286856968,
                112561.22348457166,
                114609.21108741117,
                119147.75115527137
               ]
              ]
             }
            ],
            "label": "Glostrup",
            "method": "update"
           },
           {
            "args": [
             {
              "visible": [
               true,
               true
              ],
              "x": [
               [
                2005,
                2006,
                2007,
                2008,
                2009,
                2010,
                2011,
                2012,
                2013,
                2014,
                2015,
                2016,
                2017,
                2018
               ],
               [
                2005,
                2006,
                2007,
                2008,
                2009,
                2010,
                2011,
                2012,
                2013,
                2014,
                2015,
                2016,
                2017,
                2018
               ]
              ],
              "y": [
               [
                133891.82032983817,
                135907.3318182114,
                136192.83727918658,
                132628.57478088167,
                131982.97558917184,
                142881.32340077395,
                142242.868111009,
                141593.50847601908,
                144320.28725804464,
                147547.34525186132,
                150840.83457210538,
                153383.55885674123,
                155811.64916462672,
                159210.4363987127
               ],
               [
                137794.91117464416,
                139755.32893848134,
                139857.31936479962,
                137280.9633448124,
                137224.9622687392,
                147682.60345146473,
                147092.8983595431,
                146282.48029615646,
                149184.4933026412,
                152540.48482600282,
                155310.9747293911,
                157559.62881141625,
                159872.81351987633,
                162767.6996407635
               ]
              ]
             }
            ],
            "label": "Greater Copenhagen",
            "method": "update"
           },
           {
            "args": [
             {
              "visible": [
               true,
               true
              ],
              "x": [
               [
                2005,
                2006,
                2007,
                2008,
                2009,
                2010,
                2011,
                2012,
                2013,
                2014,
                2015,
                2016,
                2017,
                2018
               ],
               [
                2005,
                2006,
                2007,
                2008,
                2009,
                2010,
                2011,
                2012,
                2013,
                2014,
                2015,
                2016,
                2017,
                2018
               ]
              ],
              "y": [
               [
                139235.84342475748,
                140608.21045903955,
                141998.34080750382,
                138477.27640890828,
                133318.47105906933,
                144537.79118623195,
                143342.02143762124,
                143484.41145381416,
                147575.08282853672,
                150891.25458478677,
                154256.28293569115,
                156663.98732017545,
                159628.3104619618,
                162938.82900682229
               ],
               [
                117408.12530975873,
                119845.5981435693,
                123896.4058947524,
                150535.43916645294,
                146799.95419932093,
                157986.45839417027,
                157861.66820606415,
                158414.73425293574,
                160575.0203739488,
                164160.19209646937,
                166102.48546174774,
                168321.66667865808,
                170604.51975502938,
                173315.8677194041
               ]
              ]
             }
            ],
            "label": "Greve",
            "method": "update"
           },
           {
            "args": [
             {
              "visible": [
               true,
               true
              ],
              "x": [
               [
                2005,
                2006,
                2007,
                2008,
                2009,
                2010,
                2011,
                2012,
                2013,
                2014,
                2015,
                2016,
                2017,
                2018
               ],
               [
                2005,
                2006,
                2007,
                2008,
                2009,
                2010,
                2011,
                2012,
                2013,
                2014,
                2015,
                2016,
                2017,
                2018
               ]
              ],
              "y": [
               [
                125370.14825564795,
                126294.54604180474,
                127158.95141410442,
                124653.27573458815,
                124688.2335982775,
                132614.85832783242,
                131064.22735499789,
                130983.17074709327,
                132426.54415794785,
                134477.7096540429,
                136934.09300494808,
                137490.10107046523,
                138209.1361907163,
                139729.63045427797
               ],
               [
                108336.17909162678,
                111436.95346647972,
                112233.67046980668,
                111508.73450448972,
                110798.43401876012,
                117763.3867714408,
                115466.09457005528,
                114286.05855486717,
                116342.98876644239,
                118555.8968769802,
                148047.3083193543,
                148714.5869583433,
                152527.11324809925,
                153969.23962468194
               ]
              ]
             }
            ],
            "label": "Herlev",
            "method": "update"
           },
           {
            "args": [
             {
              "visible": [
               true,
               true
              ],
              "x": [
               [
                2005,
                2006,
                2007,
                2008,
                2009,
                2010,
                2011,
                2012,
                2013,
                2014,
                2015,
                2016,
                2017,
                2018
               ],
               [
                2005,
                2006,
                2007,
                2008,
                2009,
                2010,
                2011,
                2012,
                2013,
                2014,
                2015,
                2016,
                2017,
                2018
               ]
              ],
              "y": [
               [
                123400.77646370593,
                124601.78764631458,
                125802.94275946161,
                124753.94220085451,
                123910.46897188095,
                131866.83260427928,
                130616.00903081555,
                130870.39584415067,
                132517.07139269068,
                134662.14857112555,
                137081.09155895066,
                138946.65885352762,
                139578.94691625345,
                143008.9101515991
               ],
               [
                104411.68370168531,
                105779.53815711514,
                132521.86129051173,
                131575.4248264275,
                131088.6886895374,
                138063.3815993621,
                136331.39048808996,
                135756.71602891502,
                138086.91625155727,
                140752.50604069265,
                142363.55868879188,
                144150.69366053172,
                145827.13257914814,
                147706.46551422816
               ]
              ]
             }
            ],
            "label": "Hvidovre",
            "method": "update"
           },
           {
            "args": [
             {
              "visible": [
               true,
               true
              ],
              "x": [
               [
                2005,
                2006,
                2007,
                2008,
                2009,
                2010,
                2011,
                2012,
                2013,
                2014,
                2015,
                2016,
                2017,
                2018
               ],
               [
                2005,
                2006,
                2007,
                2008,
                2009,
                2010,
                2011,
                2012,
                2013,
                2014,
                2015,
                2016,
                2017,
                2018
               ]
              ],
              "y": [
               [
                130320.69300775476,
                130432.89019767284,
                130488.29350104422,
                127352.76553040436,
                127252.12656267495,
                133995.7065532614,
                131486.09179745527,
                130361.15078999684,
                132203.2972114164,
                134988.27233925014,
                137277.33784585856,
                138316.0115631764,
                140227.4909208952,
                142678.08000845957
               ],
               [
                102447.22497464967,
                103512.4402664502,
                104601.69830557653,
                129690.31990770185,
                127884.4872446123,
                133791.51931632697,
                133435.44843238016,
                131115.259903357,
                132833.2198817102,
                134594.244312217,
                135657.07026763615,
                136358.96648452323,
                136926.01971805896,
                140567.76601124989
               ]
              ]
             }
            ],
            "label": "Høje-Taastrup",
            "method": "update"
           },
           {
            "args": [
             {
              "visible": [
               true,
               true
              ],
              "x": [
               [
                2005,
                2006,
                2007,
                2008,
                2009,
                2010,
                2011,
                2012,
                2013,
                2014,
                2015,
                2016,
                2017,
                2018
               ],
               [
                2005,
                2006,
                2007,
                2008,
                2009,
                2010,
                2011,
                2012,
                2013,
                2014,
                2015,
                2016,
                2017,
                2018
               ]
              ],
              "y": [
               [
                121375.42654863943,
                121370.34713781878,
                121564.0204412695,
                119056.63316677575,
                116756.84116535261,
                121659.17771652766,
                119685.48088505873,
                118133.23034635613,
                118245.21986336868,
                119759.89853343983,
                121755.69770004194,
                122081.63623683668,
                123427.99105581538,
                126184.34933069367
               ],
               [
                89775.41392519555,
                95276.6961849159,
                97984.90685701821,
                98672.57064496074,
                98950.42769075777,
                102067.73505147058,
                99962.14392670727,
                99250.35948642268,
                100599.46705032658,
                100378.68108434505,
                100686.83040375341,
                122924.3210810448,
                123764.90690768605,
                123168.61940677627
               ]
              ]
             }
            ],
            "label": "Ishøj",
            "method": "update"
           },
           {
            "args": [
             {
              "visible": [
               true,
               true
              ],
              "x": [
               [
                2005,
                2006,
                2007,
                2008,
                2009,
                2010,
                2011,
                2012,
                2013,
                2014,
                2015,
                2016,
                2017,
                2018
               ],
               [
                2005,
                2006,
                2007,
                2008,
                2009,
                2010,
                2011,
                2012,
                2013,
                2014,
                2015,
                2016,
                2017,
                2018
               ]
              ],
              "y": [
               [
                158175.26034261513,
                160187.01458502703,
                159842.85369623377,
                154654.5009299881,
                151742.84053376658,
                171137.8551131352,
                170058.78761702793,
                169916.7635649705,
                174505.6308393546,
                180283.6534130598,
                185114.65503595257,
                188679.64063840595,
                191924.98401322053,
                192526.68538712093
               ],
               [
                170664.06534658017,
                172975.92677960423,
                171866.40726897697,
                169955.59966812906,
                165304.3545319033,
                186349.56770509988,
                185762.00985108383,
                187538.58002302807,
                192340.61593129128,
                198643.16837985764,
                202798.88281492537,
                204847.81276514125,
                207623.198566367,
                208794.0567234033
               ]
              ]
             }
            ],
            "label": "Lyngby-Taarbæk",
            "method": "update"
           },
           {
            "args": [
             {
              "visible": [
               true,
               true
              ],
              "x": [
               [
                2005,
                2006,
                2007,
                2008,
                2009,
                2010,
                2011,
                2012,
                2013,
                2014,
                2015,
                2016,
                2017,
                2018
               ],
               [
                2005,
                2006,
                2007,
                2008,
                2009,
                2010,
                2011,
                2012,
                2013,
                2014,
                2015,
                2016,
                2017,
                2018
               ]
              ],
              "y": [
               [
                181835.97242841963,
                186754.7170885337,
                188067.7032566932,
                179300.9052063395,
                167925.4515057644,
                198042.08926883593,
                200869.31976524598,
                202321.0225895938,
                208275.20808085595,
                219326.9278955657,
                224132.76028896403,
                232122.8495552891,
                234184.03536135098,
                237667.3518771179
               ],
               [
                205648.77402274078,
                207803.0987001099,
                210555.0503071166,
                199408.64644853552,
                187510.06999430188,
                217674.22107730762,
                217889.43920144922,
                221634.4091811958,
                229157.37145660378,
                237043.7256307501,
                244113.32991736708,
                249019.1045649715,
                253739.228479405,
                254981.8075522711
               ]
              ]
             }
            ],
            "label": "Rudersdal",
            "method": "update"
           },
           {
            "args": [
             {
              "visible": [
               true,
               true
              ],
              "x": [
               [
                2005,
                2006,
                2007,
                2008,
                2009,
                2010,
                2011,
                2012,
                2013,
                2014,
                2015,
                2016,
                2017,
                2018
               ],
               [
                2005,
                2006,
                2007,
                2008,
                2009,
                2010,
                2011,
                2012,
                2013,
                2014,
                2015,
                2016,
                2017,
                2018
               ]
              ],
              "y": [
               [
                124720.32718410637,
                126517.11420420272,
                127236.58886333354,
                124563.11419268715,
                124750.72191296834,
                130179.74752059023,
                129627.42443496737,
                128778.73892725294,
                130901.15039572834,
                133418.91351699666,
                136105.60362762175,
                137477.8488696782,
                139531.25781571137,
                141758.8555893646
               ],
               [
                102998.03521366729,
                104943.45953084054,
                104971.48437020966,
                104937.92820736219,
                105052.41647256343,
                110967.76987053157,
                109894.25429554132,
                135167.54456339648,
                136884.4676276098,
                138897.09735865935,
                141496.22187557767,
                144680.5850834957,
                146615.56445464067,
                147938.6973214407
               ]
              ]
             }
            ],
            "label": "Rødovre",
            "method": "update"
           },
           {
            "args": [
             {
              "visible": [
               true,
               true
              ],
              "x": [
               [
                2005,
                2006,
                2007,
                2008,
                2009,
                2010,
                2011,
                2012,
                2013,
                2014,
                2015,
                2016,
                2017,
                2018
               ],
               [
                2005,
                2006,
                2007,
                2008,
                2009,
                2010,
                2011,
                2012,
                2013,
                2014,
                2015,
                2016,
                2017,
                2018
               ]
              ],
              "y": [
               [
                131193.20878949878,
                132155.04485073366,
                131647.75914619266,
                129120.6182524564,
                128922.69941030243,
                137078.80275837865,
                137094.47949176273,
                136422.92451774134,
                138438.88902332913,
                140084.96057919238,
                142828.90800077337,
                145252.06367975377,
                148011.66846068058,
                151469.5014419666
               ],
               [
                106032.36282769947,
                107957.79417903515,
                109094.5334383151,
                109979.5752147385,
                110722.43663376788,
                116327.97939578826,
                115237.78815085004,
                113399.91594210998,
                114636.8782857293,
                149701.37444894863,
                150710.77614121468,
                153043.02406088353,
                156111.96422668325,
                158572.91108541645
               ]
              ]
             }
            ],
            "label": "Tårnby",
            "method": "update"
           },
           {
            "args": [
             {
              "visible": [
               true,
               true
              ],
              "x": [
               [
                2005,
                2006,
                2007,
                2008,
                2009,
                2010,
                2011,
                2012,
                2013,
                2014,
                2015,
                2016,
                2017,
                2018
               ],
               [
                2005,
                2006,
                2007,
                2008,
                2009,
                2010,
                2011,
                2012,
                2013,
                2014,
                2015,
                2016,
                2017,
                2018
               ]
              ],
              "y": [
               [
                150210.1557296606,
                152396.3765110079,
                148291.97085625966,
                145077.16368190479,
                142067.0476545998,
                149984.21613856292,
                146665.52267694264,
                148273.19964541018,
                152184.98923916105,
                152258.1083295559,
                153863.11968193657,
                154825.28927110168,
                157552.24944956173,
                160330.5480375
               ],
               [
                116865.22163158792,
                118738.42501633987,
                117807.62704104415,
                116026.32047844156,
                121039.21062271671,
                129363.70594229223,
                126172.1781843318,
                123962.6932191781,
                122180.68445108781,
                124487.32014900459,
                160006.70701195038,
                160240.64075890288,
                158641.79704917545,
                157543.92299727013
               ]
              ]
             }
            ],
            "label": "Vallensbæk",
            "method": "update"
           }
          ],
          "direction": "down",
          "showactive": true
         }
        ],
        "xaxis": {
         "tickfont": {
          "size": 14
         }
        },
        "yaxis": {
         "tickfont": {
          "size": 14
         },
         "title": {
          "font": {
           "size": 16
          },
          "text": "Count"
         }
        }
       }
      }
     },
     "metadata": {},
     "output_type": "display_data"
    }
   ],
   "source": [
    "import plotly.graph_objs as go\n",
    "\n",
    "# Define years and initial municipality for the plot\n",
    "years = df_income_gender.year.unique()\n",
    "municipality = df_income_gender.municipality.unique()[0]\n",
    "\n",
    "# Get the yearly average count for men and women for the initial municipality\n",
    "men_yearly_avg_count = df_income_gender[(df_income_gender.gender=='Men') & (df_income_gender.municipality==municipality)].groupby('year')['count'].mean()\n",
    "women_yearly_avg_count = df_income_gender[(df_income_gender.gender=='Women') & (df_income_gender.municipality==municipality)].groupby('year')['count'].mean()\n",
    "\n",
    "# Create the initial plot\n",
    "fig = go.Figure()\n",
    "fig.add_trace(go.Bar(x=years,\n",
    "                y=men_yearly_avg_count,\n",
    "                name='Men',\n",
    "                marker_color='rgb(55, 83, 109)'\n",
    "                ))\n",
    "fig.add_trace(go.Bar(x=years,\n",
    "                y=women_yearly_avg_count,\n",
    "                name='Women',\n",
    "                marker_color='rgb(26, 118, 255)'\n",
    "                ))\n",
    "\n",
    "# Define the dropdown menu\n",
    "municipalities = df_income_gender.municipality.unique()\n",
    "buttons = []\n",
    "# Add button for all municipalities\n",
    "men_yearly_avg_count_all = df_income_gender[df_income_gender.gender=='Men'].groupby('year')['count'].mean()\n",
    "women_yearly_avg_count_all = df_income_gender[df_income_gender.gender=='Women'].groupby('year')['count'].mean()\n",
    "buttons.append(dict(method='update',\n",
    "                    label='All',\n",
    "                    args=[{'x': [years]*2,\n",
    "                           'y': [men_yearly_avg_count_all, women_yearly_avg_count_all],\n",
    "                           'visible': [True]*2}],\n",
    "                    )\n",
    "             )\n",
    "# Add button for each municipality\n",
    "for municipality in municipalities:\n",
    "    men_yearly_avg_count = df_income_gender[(df_income_gender.gender=='Men') & (df_income_gender.municipality==municipality)].groupby('year')['count'].mean()\n",
    "    women_yearly_avg_count = df_income_gender[(df_income_gender.gender=='Women') & (df_income_gender.municipality==municipality)].groupby('year')['count'].mean()\n",
    "    buttons.append(dict(method='update',\n",
    "                        label=municipality,\n",
    "                        args=[{'x': [years]*2,\n",
    "                               'y': [men_yearly_avg_count, women_yearly_avg_count],\n",
    "                               'visible': [True]*2}],\n",
    "                        )\n",
    "                 )\n",
    "updatemenus = [{'buttons': buttons,\n",
    "                'direction': 'down',\n",
    "                'showactive': True,\n",
    "                'active': 0}]\n",
    "\n",
    "# Update the layout to add the dropdown menu and set the title\n",
    "fig.update_layout(\n",
    "    updatemenus=updatemenus,\n",
    "    title='Annual income by gender for {}'.format(municipalities[0]),\n",
    "    xaxis_tickfont_size=14,\n",
    "    yaxis=dict(\n",
    "        title='Count',\n",
    "        titlefont_size=16,\n",
    "        tickfont_size=14,\n",
    "    ),\n",
    "    legend=dict(\n",
    "        x=0,\n",
    "        y=1.0,\n",
    "        bgcolor='rgba(255, 255, 255, 0)',\n",
    "        bordercolor='rgba(255, 255, 255, 0)'\n",
    "    ),\n",
    "    barmode='group',\n",
    "    bargap=0.15, # gap between bars of adjacent location coordinates.\n",
    "    bargroupgap=0.1 # gap between bars of the same location coordinate.\n",
    ")\n",
    "\n",
    "fig.show()\n"
   ]
  },
  {
   "attachments": {},
   "cell_type": "markdown",
   "metadata": {},
   "source": [
    "## 5.2 Plotting maps - Copenhagen municipalities"
   ]
  },
  {
   "cell_type": "markdown",
   "metadata": {},
   "source": [
    "We're also displaying the above processed data on a map of the Greater Copenhagen area, for which we use Plotly's Choropleth Mapbox. In order to achieve this, we needed GeoJSON data, which we obtained from [Information Lab](https://lab.information.dk/). \n",
    "\n",
    "But this GeoJSON ended up needing a lot of processing to be displayable properly.\n",
    "\n",
    "### Processing the GeoJSON\n",
    "\n",
    "As Denmark consists of a lot of islands and some municipalities occupy more than one geometry, the GeoJSON initially contained multiple polygons for the same municipality, which Plotly is not equipped to handle. It will not display any warnings, but it's only going to display the first instance of the municipality that it finds, which resulted in unexpected behavior on the Copenhagen map. Therefore we had to find a way to remove these redundancies.\n",
    "\n",
    "After some research, we found [MapShaper](https://mapshaper.org/), which is a handy tool for manipulating and exporting map data. Here we could import our GeoJSON, which got displayed on a map inside the tool. There we had the option to select municipalities, merge them and edit their attributes. It was a very manual and tedious job (merging all of 153 small islands into Tårnby is not a small feat), but eventually we ended up with the desired file. \n",
    "\n",
    "After that we were almost done, but there were issues arising from the file encoding as well, we had to convert it to ISO8859-1 to handle the special characters. \n",
    "\n",
    "After all this, there was only one issue remaining: rendering a time-series map with the processed GeoJSON took too long. We don't actually know how long, as we stopped it after around 40 minutes. So we went back to MapShaper, and simplified the GeoJSON file, to contain less and simpler polygons, and it finally worked as expected. The result of this can be seen below."
   ]
  },
  {
   "cell_type": "markdown",
   "metadata": {},
   "source": [
    "### Maps\n",
    "Below we see three maps, each depicting a different aspect of Copenhagen data. "
   ]
  },
  {
   "cell_type": "markdown",
   "metadata": {},
   "source": [
    "This first map depicts the average income per municipality in the Greater Copenhagen area, from 2005 to 2018."
   ]
  },
  {
   "cell_type": "code",
   "execution_count": 68,
   "metadata": {},
   "outputs": [],
   "source": [
    "import json\n",
    "with open('denmark.json', encoding='iso-8859-1') as f:\n",
    "    counties = json.load(f)\n",
    "\n",
    "fig = px.choropleth_mapbox(df_income, geojson=counties, locations='municipality', featureidkey='properties.KOMNAVN', color='count',\n",
    "                            color_continuous_scale=\"hot_r\",\n",
    "                            range_color=(200000, 520000),\n",
    "                            mapbox_style=\"carto-positron\",\n",
    "                            zoom=9, center = {\"lat\": 55.7061, \"lon\": 12.5683},\n",
    "                            animation_frame='year',\n",
    "                            opacity=0.5,\n",
    "                            width=1000,\n",
    "                            height=700,\n",
    "                            labels={'year': 'Year', 'count': ''},\n",
    "                            title='<b>Average income per municipality per year (DKK)</b>'\n",
    ")\n",
    "fig.update_layout(margin={\"r\":0,\"l\":0, \"b\":0}, title_x=0.5)\n",
    "fig.layout.sliders[0].pad.t = 10\n",
    "fig.layout.updatemenus[0].pad.t = 10\n",
    "fig.layout.updatemenus[0].buttons[0].args[1][\"frame\"][\"duration\"] = 900\n",
    "fig.layout.updatemenus[0].buttons[0].args[1][\"transition\"][\"duration\"] = 900\n",
    "fig.write_html('cph_income_time_map.html')\n",
    "#fig.show()"
   ]
  },
  {
   "cell_type": "markdown",
   "metadata": {},
   "source": [
    "This map depicts the average days spent in hospital during the years."
   ]
  },
  {
   "cell_type": "code",
   "execution_count": 69,
   "metadata": {},
   "outputs": [],
   "source": [
    "fig = px.choropleth_mapbox(df_hosp_days, geojson=counties, locations='municipality', featureidkey='properties.KOMNAVN', color='count',\n",
    "                            color_continuous_scale=\"hot_r\",\n",
    "                            range_color=(0.6, 1.3),\n",
    "                            mapbox_style=\"carto-positron\",\n",
    "                            zoom=9, center = {\"lat\": 55.7061, \"lon\": 12.5683},\n",
    "                            animation_frame='year',\n",
    "                            opacity=0.5,\n",
    "                            width=1000,\n",
    "                            height=700,\n",
    "                            labels={'year': 'Year', 'count': ''},\n",
    "                            title='<b>Weighted average of days spent in hospital per municipality per year</b>'\n",
    ")\n",
    "fig.update_layout(margin={\"r\":0,\"l\":0, \"b\":0}, title_x=0.5)\n",
    "fig.layout.sliders[0].pad.t = 10\n",
    "fig.layout.updatemenus[0].pad.t = 10\n",
    "fig.layout.updatemenus[0].buttons[0].args[1][\"frame\"][\"duration\"] = 900\n",
    "fig.layout.updatemenus[0].buttons[0].args[1][\"transition\"][\"duration\"] = 900\n",
    "fig.write_html('cph_hosp_days_time_map.html')\n",
    "#fig.show()"
   ]
  },
  {
   "cell_type": "markdown",
   "metadata": {},
   "source": [
    "And the last one shows the number of hospital visits by municipality and year. "
   ]
  },
  {
   "cell_type": "code",
   "execution_count": 70,
   "metadata": {},
   "outputs": [],
   "source": [
    "fig = px.choropleth_mapbox(df_hosp_times, geojson=counties, locations='municipality', featureidkey='properties.KOMNAVN', color='count',\n",
    "                            color_continuous_scale=\"hot_r\",\n",
    "                            range_color=(0.14, 0.24),\n",
    "                            mapbox_style=\"carto-positron\",\n",
    "                            zoom=9, center = {\"lat\": 55.7061, \"lon\": 12.5683},\n",
    "                            animation_frame='year',\n",
    "                            opacity=0.5,\n",
    "                            width=1000,\n",
    "                            height=700,\n",
    "                            labels={'year': 'Year', 'count': ''},\n",
    "                            title='<b>Weighted average of times of hospitalizations per municipality per year</b>'\n",
    ")\n",
    "fig.update_layout(margin={\"r\":0,\"l\":0, \"b\":0}, title_x=0.5)\n",
    "fig.layout.sliders[0].pad.t = 10\n",
    "fig.layout.updatemenus[0].pad.t = 10\n",
    "fig.layout.updatemenus[0].buttons[0].args[1][\"frame\"][\"duration\"] = 900\n",
    "fig.layout.updatemenus[0].buttons[0].args[1][\"transition\"][\"duration\"] = 900\n",
    "fig.write_html('cph_hosp_times_time_map.html')\n",
    "#fig.show()"
   ]
  },
  {
   "cell_type": "markdown",
   "metadata": {},
   "source": [
    "From running the time series it is visible, that with the salaries raising the average time spent in hospitals is decreasing. But what's even more interesting is that the number of hospital visits seems to increase everywhere expcept for Copenhagen municipality. "
   ]
  },
  {
   "attachments": {},
   "cell_type": "markdown",
   "metadata": {},
   "source": [
    "# Discussion\n",
    "\n",
    "What went well?,\n",
    "What is still missing? What could be improved?, Why?"
   ]
  },
  {
   "attachments": {},
   "cell_type": "markdown",
   "metadata": {},
   "source": [
    "# Contributions\n",
    "\n",
    "You should write (just briefly) which group member was the main responsible for which elements of the assignment. (I want you guys to understand every part of the assignment, but usually there is someone who took lead role on certain portions of the work. That's what you should explain).\n",
    "It is not OK simply to write \"All group members contributed equally\"."
   ]
  },
  {
   "attachments": {},
   "cell_type": "markdown",
   "metadata": {},
   "source": [
    "# References\n",
    "\n"
   ]
  },
  {
   "attachments": {},
   "cell_type": "markdown",
   "metadata": {},
   "source": [
    "[1]: Rockwool Fonden, Velstand & Ulighed Documentation, https://www.velstandogulighed.dk/pages/documentation"
   ]
  },
  {
   "cell_type": "markdown",
   "metadata": {},
   "source": []
  }
 ],
 "metadata": {
  "kernelspec": {
   "display_name": "Python 3.9.16 ('base')",
   "language": "python",
   "name": "python3"
  },
  "language_info": {
   "codemirror_mode": {
    "name": "ipython",
    "version": 3
   },
   "file_extension": ".py",
   "mimetype": "text/x-python",
   "name": "python",
   "nbconvert_exporter": "python",
   "pygments_lexer": "ipython3",
   "version": "3.9.13"
  },
  "orig_nbformat": 4,
  "vscode": {
   "interpreter": {
    "hash": "4d8924c1b2505bdba90260062e9738e0000286674d2dd5e22ed396f570b10439"
   }
  }
 },
 "nbformat": 4,
 "nbformat_minor": 2
}
