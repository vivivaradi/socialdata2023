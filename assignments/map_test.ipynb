{
 "cells": [
  {
   "cell_type": "code",
   "execution_count": 4,
   "metadata": {},
   "outputs": [],
   "source": [
    "import pandas as pd\n",
    "import plotly.express as px"
   ]
  },
  {
   "cell_type": "code",
   "execution_count": 5,
   "metadata": {},
   "outputs": [],
   "source": [
    "randomdata = {'Komnavn': ['København', 'Frederiksberg', 'Ballerup', 'Brøndby',\n",
    "       'Dragør', 'Gentofte', 'Gladsaxe', 'Glostrup', 'Herlev',\n",
    "       'Albertslund', 'Hvidovre', 'Høje-Taastrup', 'Lyngby-Taarbæk',\n",
    "       'Rødovre', 'Ishøj', 'Tårnby', 'Vallensbæk', 'Furesø', 'Rudersdal',\n",
    "       'Greve'],\n",
    "'test': [0.1,\n",
    "0.2, 0.9, 0.3, 0.4, 0.5, 0.6, 0.7, 0.8, 0.9, 0.3, 0.1, 0.6, 0.5, 0.4, 0.9, 0.1, 0.3, 0.8, 0.5]}\n",
    "randomdata = pd.DataFrame.from_dict(randomdata)"
   ]
  },
  {
   "cell_type": "code",
   "execution_count": 6,
   "metadata": {},
   "outputs": [],
   "source": [
    "from urllib.request import urlopen\n",
    "import json\n",
    "with open('denmark.json', encoding='iso-8859-1') as f:\n",
    "    counties = json.load(f)\n",
    "\n",
    "fig = px.choropleth_mapbox(randomdata, geojson=counties, locations='Komnavn', featureidkey='properties.KOMNAVN', color='test',\n",
    "                            color_continuous_scale=\"Viridis\",\n",
    "                            range_color=(0, 1),\n",
    "                            mapbox_style=\"carto-positron\",\n",
    "                            zoom=9, center = {\"lat\": 55.6761, \"lon\": 12.5683},\n",
    "                            opacity=0.5,\n",
    ")\n",
    "fig.update_layout(margin={\"r\":0,\"t\":0,\"l\":0,\"b\":0})\n",
    "fig.write_html('test_map.html')\n"
   ]
  },
  {
   "cell_type": "code",
   "execution_count": null,
   "metadata": {},
   "outputs": [],
   "source": []
  }
 ],
 "metadata": {
  "kernelspec": {
   "display_name": "Python 3.9.16 ('base')",
   "language": "python",
   "name": "python3"
  },
  "language_info": {
   "codemirror_mode": {
    "name": "ipython",
    "version": 3
   },
   "file_extension": ".py",
   "mimetype": "text/x-python",
   "name": "python",
   "nbconvert_exporter": "python",
   "pygments_lexer": "ipython3",
   "version": "3.9.16"
  },
  "orig_nbformat": 4,
  "vscode": {
   "interpreter": {
    "hash": "4d8924c1b2505bdba90260062e9738e0000286674d2dd5e22ed396f570b10439"
   }
  }
 },
 "nbformat": 4,
 "nbformat_minor": 2
}
