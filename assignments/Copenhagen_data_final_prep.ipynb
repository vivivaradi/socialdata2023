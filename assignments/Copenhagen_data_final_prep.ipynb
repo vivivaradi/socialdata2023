{
 "cells": [
  {
   "cell_type": "code",
   "execution_count": 104,
   "metadata": {},
   "outputs": [],
   "source": [
    "import pandas as pd"
   ]
  },
  {
   "cell_type": "code",
   "execution_count": 105,
   "metadata": {},
   "outputs": [],
   "source": [
    "# outer join of three dataframes: income.csv, health_hosp.csv and health_days.csv\n",
    "health_hosp = pd.read_csv('health_hosp.csv')\n",
    "health_days = pd.read_csv('health_days.csv')\n",
    "income = pd.read_csv('income.csv')"
   ]
  },
  {
   "cell_type": "code",
   "execution_count": 106,
   "metadata": {},
   "outputs": [],
   "source": [
    "# outer join of three dataframes: income.csv, health_hosp.csv and health_days.csv\n",
    "health_hosp = pd.read_csv('health_hosp.csv')\n",
    "health_days = pd.read_csv('health_days.csv')\n",
    "income = pd.read_csv('income.csv')\n",
    "\n",
    "# merge health_hosp and health_days\n",
    "health = pd.merge(health_hosp, health_days, on=['municipality code', 'year', 'gender', 'age', 'ethnicity', 'education'], how='outer')\n",
    "\n",
    "# merge health and income\n",
    "copenhagen_data = pd.merge(health, income, on=['municipality code', 'year', 'gender', 'age', 'ethnicity', 'education'], how='outer')"
   ]
  },
  {
   "cell_type": "code",
   "execution_count": 107,
   "metadata": {},
   "outputs": [],
   "source": [
    "# convert municipality code to municipality name\n",
    "\n",
    "municipality_list = [[0, 'Denmark'], [1, 'Greater Copenhagen'], [101, 'Copenhagen'], [147, 'Frederiksberg'], [155, 'Dragør'], [185, 'Tårnby'], [165, 'Albertslund'], [151, 'Ballerup'], [153, 'Brøndby'], [190, 'Furesø'], [157, 'Gentofte'], [159, 'Gladsaxe'], [161, 'Glostrup'], [253, 'Greve'], [163, 'Herlev'], [167, 'Hvidovre'], [169, 'Høje-Taastrup'], [175, 'Rødovre'], [183, 'Ishøj'], [173, 'Lyngby-Taarbæk'], [230, 'Rudersdal'], [187, 'Vallensbæk']]\n",
    "municipality_df = pd.DataFrame(municipality_list, columns=['municipality code', 'municipality'])\n",
    "\n",
    "copenhagen_data = pd.merge(copenhagen_data, municipality_df, on='municipality code', how='left')\n",
    "cols = ['municipality', 'municipality code', 'year', 'gender', 'age', 'ethnicity', 'education', 'income', 'income observations', 'days in hospital', 'days in hospital observations', 'number of hospitalizations', 'number of hospitalizations observations']\n",
    "copenhagen_data = copenhagen_data[cols]"
   ]
  },
  {
   "cell_type": "code",
   "execution_count": 109,
   "metadata": {},
   "outputs": [],
   "source": [
    "# save to csv\n",
    "copenhagen_data.to_csv('copenhagen_data.csv', index=False)"
   ]
  }
 ],
 "metadata": {
  "kernelspec": {
   "display_name": "base",
   "language": "python",
   "name": "python3"
  },
  "language_info": {
   "codemirror_mode": {
    "name": "ipython",
    "version": 3
   },
   "file_extension": ".py",
   "mimetype": "text/x-python",
   "name": "python",
   "nbconvert_exporter": "python",
   "pygments_lexer": "ipython3",
   "version": "3.9.13"
  },
  "orig_nbformat": 4
 },
 "nbformat": 4,
 "nbformat_minor": 2
}
