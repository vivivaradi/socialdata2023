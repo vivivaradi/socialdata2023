{
 "cells": [
  {
   "cell_type": "markdown",
   "metadata": {},
   "source": [
    "# Week 2"
   ]
  },
  {
   "cell_type": "code",
   "execution_count": 40,
   "metadata": {},
   "outputs": [],
   "source": [
    "import urllib.request\n",
    "import pandas as pd\n",
    "import numpy as np\n",
    "from scipy import stats\n",
    "import matplotlib.pyplot as plt"
   ]
  },
  {
   "cell_type": "code",
   "execution_count": 4,
   "metadata": {},
   "outputs": [],
   "source": [
    "url1 = 'https://raw.githubusercontent.com/suneman/socialdata2023/main/files/data1.tsv'\n",
    "url2 = 'https://raw.githubusercontent.com/suneman/socialdata2023/main/files/data2.tsv'\n",
    "url3 = 'https://raw.githubusercontent.com/suneman/socialdata2023/main/files/data3.tsv'\n",
    "url4 = 'https://raw.githubusercontent.com/suneman/socialdata2023/main/files/data4.tsv'"
   ]
  },
  {
   "cell_type": "markdown",
   "metadata": {},
   "source": [
    "### Part 1"
   ]
  },
  {
   "cell_type": "code",
   "execution_count": 17,
   "metadata": {},
   "outputs": [],
   "source": [
    "data1 = pd.read_csv(url1, delimiter='\\t', header=None, names=['x', 'y'])\n",
    "data2 = pd.read_csv(url2, delimiter='\\t', header=None, names=['x', 'y'])\n",
    "data3 = pd.read_csv(url3, delimiter='\\t', header=None, names=['x', 'y'])\n",
    "data4 = pd.read_csv(url4, delimiter='\\t', header=None, names=['x', 'y'])"
   ]
  },
  {
   "cell_type": "code",
   "execution_count": 41,
   "metadata": {},
   "outputs": [
    {
     "data": {
      "text/html": [
       "<div>\n",
       "<style scoped>\n",
       "    .dataframe tbody tr th:only-of-type {\n",
       "        vertical-align: middle;\n",
       "    }\n",
       "\n",
       "    .dataframe tbody tr th {\n",
       "        vertical-align: top;\n",
       "    }\n",
       "\n",
       "    .dataframe thead th {\n",
       "        text-align: right;\n",
       "    }\n",
       "</style>\n",
       "<table border=\"1\" class=\"dataframe\">\n",
       "  <thead>\n",
       "    <tr style=\"text-align: right;\">\n",
       "      <th></th>\n",
       "      <th>x</th>\n",
       "      <th>y</th>\n",
       "    </tr>\n",
       "  </thead>\n",
       "  <tbody>\n",
       "    <tr>\n",
       "      <th>0</th>\n",
       "      <td>10</td>\n",
       "      <td>9.14</td>\n",
       "    </tr>\n",
       "    <tr>\n",
       "      <th>1</th>\n",
       "      <td>8</td>\n",
       "      <td>8.14</td>\n",
       "    </tr>\n",
       "    <tr>\n",
       "      <th>2</th>\n",
       "      <td>13</td>\n",
       "      <td>8.74</td>\n",
       "    </tr>\n",
       "    <tr>\n",
       "      <th>3</th>\n",
       "      <td>9</td>\n",
       "      <td>8.77</td>\n",
       "    </tr>\n",
       "    <tr>\n",
       "      <th>4</th>\n",
       "      <td>11</td>\n",
       "      <td>9.26</td>\n",
       "    </tr>\n",
       "    <tr>\n",
       "      <th>5</th>\n",
       "      <td>14</td>\n",
       "      <td>8.10</td>\n",
       "    </tr>\n",
       "    <tr>\n",
       "      <th>6</th>\n",
       "      <td>6</td>\n",
       "      <td>6.13</td>\n",
       "    </tr>\n",
       "    <tr>\n",
       "      <th>7</th>\n",
       "      <td>4</td>\n",
       "      <td>3.10</td>\n",
       "    </tr>\n",
       "    <tr>\n",
       "      <th>8</th>\n",
       "      <td>12</td>\n",
       "      <td>9.13</td>\n",
       "    </tr>\n",
       "    <tr>\n",
       "      <th>9</th>\n",
       "      <td>7</td>\n",
       "      <td>7.26</td>\n",
       "    </tr>\n",
       "    <tr>\n",
       "      <th>10</th>\n",
       "      <td>5</td>\n",
       "      <td>4.74</td>\n",
       "    </tr>\n",
       "  </tbody>\n",
       "</table>\n",
       "</div>"
      ],
      "text/plain": [
       "     x     y\n",
       "0   10  9.14\n",
       "1    8  8.14\n",
       "2   13  8.74\n",
       "3    9  8.77\n",
       "4   11  9.26\n",
       "5   14  8.10\n",
       "6    6  6.13\n",
       "7    4  3.10\n",
       "8   12  9.13\n",
       "9    7  7.26\n",
       "10   5  4.74"
      ]
     },
     "execution_count": 41,
     "metadata": {},
     "output_type": "execute_result"
    }
   ],
   "source": [
    "data2"
   ]
  },
  {
   "cell_type": "code",
   "execution_count": 55,
   "metadata": {},
   "outputs": [
    {
     "name": "stdout",
     "output_type": "stream",
     "text": [
      "1. dataset means: x=9.00, y=7.50\n",
      "1. dataset variances: x=10.000, y=3.752\n",
      "Pearson correlation coefficient:\n",
      "[[1.    0.816]\n",
      " [0.816 1.   ]]\n",
      "f(x) = 0.50x + 3.00\n",
      "\n",
      "\n",
      "2. dataset means: x=9.00, y=7.50\n",
      "2. dataset variances: x=10.000, y=3.752\n",
      "Pearson correlation coefficient:\n",
      "[[1.    0.816]\n",
      " [0.816 1.   ]]\n",
      "f(x) = 0.50x + 3.00\n",
      "\n",
      "\n",
      "3. dataset means: x=9.00, y=7.50\n",
      "3. dataset variances: x=10.000, y=3.748\n",
      "Pearson correlation coefficient:\n",
      "[[1.    0.816]\n",
      " [0.816 1.   ]]\n",
      "f(x) = 0.50x + 3.00\n",
      "\n",
      "\n",
      "4. dataset means: x=9.00, y=7.50\n",
      "4. dataset variances: x=10.000, y=3.748\n",
      "Pearson correlation coefficient:\n",
      "[[1.    0.817]\n",
      " [0.817 1.   ]]\n",
      "f(x) = 0.50x + 3.00\n",
      "\n",
      "\n"
     ]
    }
   ],
   "source": [
    "data = [data1.sort_values(by=['x']), data2.sort_values(by=['x']), data3.sort_values(by=['x']), data4.sort_values(by=['x'])]\n",
    "fittedlines = []\n",
    "for i in range(0, 4):\n",
    "    meanx = np.mean(data[i]['x'])\n",
    "    meany = np.mean(data[i]['y'])\n",
    "    print(\"{:d}. dataset means: x={:.2f}, y={:.2f}\".format(i+1, meanx, meany))\n",
    "    varx = np.var(data[i]['x'])\n",
    "    vary = np.var(data[i]['y'])\n",
    "    print(\"{:d}. dataset variances: x={:.3f}, y={:.3f}\".format(i+1, varx, vary))\n",
    "    pearson = np.corrcoef(data[i], rowvar=False)\n",
    "    np.set_printoptions(precision=3)\n",
    "    print(\"Pearson correlation coefficient:\")\n",
    "    print(pearson)\n",
    "    slope, intercept, r_value, p_value, std_err = stats.linregress(data[i]['x'],data[i]['y'])\n",
    "    print(\"f(x) = {:.2f}x + {:.2f}\".format(slope, intercept))\n",
    "    fittedlines.append((slope, intercept))\n",
    "    print('\\n')"
   ]
  },
  {
   "cell_type": "markdown",
   "metadata": {},
   "source": [
    "From the calculated values, the datasets are extremely similar, with only a slight difference in variance. "
   ]
  },
  {
   "cell_type": "code",
   "execution_count": 57,
   "metadata": {},
   "outputs": [
    {
     "data": {
      "image/png": "[encoded data removed]",
      "text/plain": [
       "<Figure size 640x480 with 4 Axes>"
      ]
     },
     "metadata": {},
     "output_type": "display_data"
    }
   ],
   "source": [
    "fig, axes = plt.subplots(ncols=2, nrows=2, sharex=True)\n",
    "i = 0\n",
    "for row in axes:\n",
    "    for col in row:\n",
    "        x = data[i]['x']\n",
    "        col.scatter(x, data[i]['y'])\n",
    "        y = fittedlines[i][0]*x + fittedlines[i][1]\n",
    "        col.plot(x, y, color='red')\n",
    "        i += 1\n",
    "plt.show()"
   ]
  },
  {
   "cell_type": "code",
   "execution_count": 56,
   "metadata": {},
   "outputs": [
    {
     "data": {
      "text/plain": [
       "[(0.5000909090909091, 3.0000909090909076),\n",
       " (0.5, 3.00090909090909),\n",
       " (0.4997272727272727, 3.0024545454545457),\n",
       " (0.4999090909090909, 3.0017272727272726)]"
      ]
     },
     "execution_count": 56,
     "metadata": {},
     "output_type": "execute_result"
    }
   ],
   "source": []
  },
  {
   "cell_type": "code",
   "execution_count": null,
   "metadata": {},
   "outputs": [],
   "source": []
  }
 ],
 "metadata": {
  "kernelspec": {
   "display_name": "Python 3.9.13 ('base')",
   "language": "python",
   "name": "python3"
  },
  "language_info": {
   "codemirror_mode": {
    "name": "ipython",
    "version": 3
   },
   "file_extension": ".py",
   "mimetype": "text/x-python",
   "name": "python",
   "nbconvert_exporter": "python",
   "pygments_lexer": "ipython3",
   "version": "3.9.13"
  },
  "orig_nbformat": 4,
  "vscode": {
   "interpreter": {
    "hash": "4d8924c1b2505bdba90260062e9738e0000286674d2dd5e22ed396f570b10439"
   }
  }
 },
 "nbformat": 4,
 "nbformat_minor": 2
}
