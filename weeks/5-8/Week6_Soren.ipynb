{
 "cells": [
  {
   "cell_type": "markdown",
   "metadata": {},
   "source": [
    "## Intro\n",
    "\n",
    "The purpose of today's class is to explore data using **interactive visualizations**. Interactivity is a key part of modern dataviz. It's a way to allow users of your visualizations get their own feel for the data ... to create richer visualization, where people who use your work can expose more of the data by exploring.\n"
   ]
  },
  {
   "cell_type": "markdown",
   "metadata": {},
   "source": [
    "## Part 1: Video Lectures and Reading\n",
    "\n",
    "Starting this week, we'll be playing around with *explanatory data visualization*. Roughly speaking this means using data visualization to communicate your results to others. Thus, there are new things to think about. \n",
    "\n",
    "Until today we have worked with static data visualization. However, exploratory data analysis means to be able to explore the multi-faceted nature of data and *interactive dataviz* is a handy tool to do it! It allows to play with the data: Toggle the view. Zoom. Drag. Show more details. All those things. Those are a key part of modern data visualization. \n",
    "\n",
    "The video below provides context about these points.\n",
    "\n",
    "We start with the video and then read a bit from a scientific article about types of explanatory dataviz. (*The video is from an old version of the class that used D3, so just ignore those parts.*).\n",
    "\n",
    "[![IMAGE ALT TEXT HERE](https://img.youtube.com/vi/yHKYMGwefso/0.jpg)](https://www.youtube.com/watch?v=yHKYMGwefso)"
   ]
  },
  {
   "cell_type": "markdown",
   "metadata": {},
   "source": [
    "> *Exercises*: Explanatory data visualization\n",
    "> * What are the three key elements to keep in mind when you design an explanatory visualization?\n",
    "> * In the video I talk about (1) *overview first*,  (2) *zoom and filter*,  (3) *details on demand*. \n",
    ">   - Go online and find a visualization that follows these principles (don't use one from the video). \n",
    ">   - Explain how your video achieves (1)-(3). It might be useful to use screenshots to illustrate your explanation.\n",
    "> * Explain in your own words: How is explanatory data analysis different from exploratory data analysis?"
   ]
  },
  {
   "attachments": {},
   "cell_type": "markdown",
   "metadata": {},
   "source": [
    "We are looking at the first Tableau dashboard in this article about endangered animal species:\n",
    "https://www.tableau.com/blog/july-viz-roundup-40813\n",
    "\n",
    "* This interactive visualization starts with an overview that shows a shape of all the different animals listed as endangered, from critical endangered to least concern. It would actually be nice with a more detailed overview showing a few statistics as well.\n",
    "* It then allows for interactivity where you can zoom and filter, eg. by clicking on each animal and getting more information about which areas they live in and their level of endangerment.\n",
    "* Details on demand: By hovering over each animal shape, you actually get the same information as by clicking, there is no tooltip with additional information on each animal. Could have been a good touch to give the viewer a deeper level of exploration.\n",
    "\n",
    "**Explanatory vs exploratory data analysis**\n",
    "These two types of data analysis vary a lot. You would always start out with an exploratory data anlysis, which is the part where you investigate the quality of the data set and the interesting patterns and stories hidden in the data. The explanatory data analysis is then the next step, where you present those patterns and stories to an audience. In the exploratory analysis you are testing out many different hypothesis, and in the explanatory analysis you pick out only the visualizations that answer the questions you are trying to answer and you present them with the audience in mind.\n",
    "\n",
    "Explanatory data analysis goes beyond data science and statistics and combines it with the skills of artistic design and story telling."
   ]
  },
  {
   "cell_type": "markdown",
   "metadata": {},
   "source": [
    "## Part 2: Interactive visualizations with Bokeh\n",
    "\n",
    "\n",
    "\n",
    "To really master interactive visualizations, you will need to work with JavaScript, especially [D3](https://d3js.org). Given the limited time available for this class, we can't squeeze that in. But luckily Python has some pretty good options for interactive visualizations. You can find a range of different options [here](https://mode.com/blog/python-interactive-plot-libraries/).\n",
    "\n",
    "Today, we'll explore [`Bokeh`](https://docs.bokeh.org/en/latest/), which provides lots of nice interactive funtionalities to Python. To work with Bokeh, we first set up our system:\n",
    "\n",
    "1. If you haven't installed it yet please do so. You can simply follow [these steps](https://docs.bokeh.org/en/latest/docs/first_steps/installation.html)\n",
    "\n",
    "2. To include Bokeh in your notebooks you can follow the [Bokeh: Using with Jupyter](https://docs.bokeh.org/en/latest/docs/user_guide/output/jupyter.html#jupyter) guide. Come back to this one when you need it\n",
    "\n",
    "3. We aim to give you a gentle start with Bokeh and I am going to include more example code than usual in the follwing.\n",
    "   * **HINT 1**: If you're not an experienced Python user, I recommend going to the [official user's guide](https://docs.bokeh.org/en/latest/docs/user_guide.html#userguide) and working through it. Start by clicking \"Introduction\" in the linked page. That page has a glossary, a section on output methods, stuff on settings, and interfaces that you can scroll through. The next page *Basic Plotting* where the action is. Spend some time working through that.\n",
    "   * **HINT 2**: And by \"working through it\", I mean copy, paste, and run the code in your own notebook. "
   ]
  },
  {
   "cell_type": "markdown",
   "metadata": {},
   "source": [
    "Ok. Let's get started. First a general announcement on the data.\n",
    "\n",
    "> **Announcement**\n",
    "> * During this entire lecture, as always, we are going to work with the SF Crime Data. \n",
    "> * We will use data for the **period 2010-2017***.\n",
    "\n",
    "\n",
    "Now, to get you in the mood here's a little gif to illustrate what the goal of this exercise is:"
   ]
  },
  {
   "cell_type": "markdown",
   "metadata": {},
   "source": [
    "![Movie](https://github.com/suneman/socialdata2021/blob/main/files/week8_1.gif?raw=true)"
   ]
  },
  {
   "cell_type": "code",
   "execution_count": 1,
   "metadata": {},
   "outputs": [],
   "source": [
    "import pandas as pd\n",
    "import numpy as np\n",
    "import matplotlib.pyplot as plt\n",
    "from bokeh.plotting import figure, show\n",
    "from bokeh.io import output_notebook\n",
    "from bokeh.models import ColumnDataSource, FactorRange, Legend\n",
    "from bokeh.palettes import Category20"
   ]
  },
  {
   "cell_type": "code",
   "execution_count": 2,
   "metadata": {},
   "outputs": [],
   "source": [
    "# read crime data\n",
    "data = pd.read_csv('/Users/sorenbendtsen/Documents/DTU Business Analytics/1st Semester/Sunessocialdata2023/files/Police_Department_Incident_Reports__Historical_2003_to_May_2018.csv')\n",
    "\n",
    "focuscrimes = ['WEAPON LAWS', 'PROSTITUTION', 'DRIVING UNDER THE INFLUENCE', 'ROBBERY', 'BURGLARY', 'ASSAULT', 'DRUNKENNESS', 'DRUG/NARCOTIC', 'TRESPASS', 'LARCENY/THEFT', 'VANDALISM', 'VEHICLE THEFT', 'STOLEN PROPERTY', 'DISORDERLY CONDUCT']\n",
    "data = data[data.Category.isin(focuscrimes)]\n",
    "\n",
    "# Create a subset of relevant columns\n",
    "data = data[['PdId', 'Date', 'Time', 'Category', 'Descript', 'PdDistrict', 'Resolution', 'DayOfWeek', 'X', 'Y', 'location']]\n",
    "\n",
    "# Convert Data to datetime\n",
    "data[\"Date\"] = pd.to_datetime(data[\"Date\"])\n",
    "\n",
    "# Create relevant datetime variables.\n",
    "data[\"Year\"] = data[\"Date\"].dt.year\n",
    "# Make a subset of data between 2010 and 2017\n",
    "data = data[(data.Year >= 2010) & (data.Year <= 2017)]\n",
    "\n",
    "data[\"Month\"] = data[\"Date\"].dt.month\n",
    "data[\"MonthOfYear\"] = data[\"Date\"].dt.strftime('%b')\n",
    "data[\"Day\"] = data[\"Date\"].dt.day\n",
    "data[\"Hour\"] = pd.to_datetime(data[\"Time\"], format = '%H:%M').dt.hour\n",
    "data[\"Weekday\"] = pd.to_datetime(data.Date).dt.weekday\n",
    "data[\"Week_hour\"] = data.Weekday*24 + data.Hour\n"
   ]
  },
  {
   "cell_type": "code",
   "execution_count": null,
   "metadata": {},
   "outputs": [],
   "source": [
    "# Data preparation for plotting with Bokeh\n",
    "# We want a pivot table where each column is a crime type and each row is a hour of the day.\n",
    "# To compare how easy the distribution differs between crime types, we normalize the data within each crime type.\n",
    "\n",
    "# Group data by hour and crime type\n",
    "crime_hour = data.groupby(['Category', 'Hour']).size().reset_index(name='Count')\n",
    "\n",
    "# Normalize data within each category\n",
    "crime_hour['Count'] = crime_hour.groupby('Category')['Count'].apply(lambda x: x/x.sum())\n",
    "\n",
    "# Transpose all categories into columns \n",
    "crime_hour = crime_hour.pivot(index='Hour', columns='Category', values='Count').reset_index()\n",
    "\n",
    "# convert to data frame\n",
    "crime_hour = pd.DataFrame(crime_hour)\n",
    "\n",
    "# Hour array with strings to use for x_range in Bokeh\n",
    "hour_list = np.array(range(0,24)).astype(str)"
   ]
  },
  {
   "cell_type": "code",
   "execution_count": 18,
   "metadata": {},
   "outputs": [],
   "source": [
    "# convert dataframe to Bokeh ColumnDataSource\n",
    "source = ColumnDataSource(crime_hour)"
   ]
  },
  {
   "cell_type": "code",
   "execution_count": null,
   "metadata": {},
   "outputs": [],
   "source": [
    "# clear output\n",
    "from bokeh.io import curdoc\n",
    "curdoc().clear()"
   ]
  },
  {
   "cell_type": "code",
   "execution_count": 39,
   "metadata": {},
   "outputs": [
    {
     "data": {
      "text/html": [
       "\n",
       "  <div class=\"bk-root\" id=\"7bd2585a-f927-4ed5-b3c6-39e00f635e4f\" data-root-id=\"8040\"></div>\n"
      ]
     },
     "metadata": {},
     "output_type": "display_data"
    },
    {
     "data": {
      "application/javascript": "(function(root) {\n  function embed_document(root) {\n  const docs_json = {\"01359fe8-8aae-4575-ba45-c4f169301844\":{\"defs\":[],\"roots\":{\"references\":[{\"attributes\":{\"below\":[{\"id\":\"8050\"}],\"center\":[{\"id\":\"8052\"},{\"id\":\"8056\"},{\"id\":\"8087\"}],\"height\":400,\"left\":[{\"id\":\"8053\"},{\"id\":\"8087\"}],\"renderers\":[{\"id\":\"8075\"},{\"id\":\"8093\"},{\"id\":\"8110\"},{\"id\":\"8127\"},{\"id\":\"8144\"},{\"id\":\"8161\"},{\"id\":\"8178\"},{\"id\":\"8195\"},{\"id\":\"8212\"},{\"id\":\"8229\"},{\"id\":\"8246\"},{\"id\":\"8263\"},{\"id\":\"8280\"},{\"id\":\"8297\"}],\"title\":{\"id\":\"8041\"},\"toolbar\":{\"id\":\"8064\"},\"width\":800,\"x_range\":{\"id\":\"8039\"},\"x_scale\":{\"id\":\"8046\"},\"y_range\":{\"id\":\"8044\"},\"y_scale\":{\"id\":\"8048\"}},\"id\":\"8040\",\"subtype\":\"Figure\",\"type\":\"Plot\"},{\"attributes\":{\"fill_alpha\":{\"value\":0.1},\"fill_color\":{\"value\":\"#ff7f0e\"},\"hatch_alpha\":{\"value\":0.1},\"hatch_color\":{\"value\":\"#ff7f0e\"},\"line_alpha\":{\"value\":0.1},\"line_color\":{\"value\":\"#ff7f0e\"},\"top\":{\"field\":\"DRIVING UNDER THE INFLUENCE\"},\"width\":{\"value\":0.8},\"x\":{\"field\":\"Hour\"}},\"id\":\"8109\",\"type\":\"VBar\"},{\"attributes\":{\"source\":{\"id\":\"2273\"}},\"id\":\"8111\",\"type\":\"CDSView\"},{\"attributes\":{\"coordinates\":null,\"data_source\":{\"id\":\"2273\"},\"glyph\":{\"id\":\"8107\"},\"group\":null,\"hover_glyph\":null,\"muted\":true,\"muted_glyph\":{\"id\":\"8109\"},\"nonselection_glyph\":{\"id\":\"8108\"},\"view\":{\"id\":\"8111\"}},\"id\":\"8110\",\"type\":\"GlyphRenderer\"},{\"attributes\":{\"fill_alpha\":{\"value\":0.1},\"fill_color\":{\"value\":\"#aec7e8\"},\"hatch_alpha\":{\"value\":0.1},\"hatch_color\":{\"value\":\"#aec7e8\"},\"line_alpha\":{\"value\":0.1},\"line_color\":{\"value\":\"#aec7e8\"},\"top\":{\"field\":\"PROSTITUTION\"},\"width\":{\"value\":0.8},\"x\":{\"field\":\"Hour\"}},\"id\":\"8091\",\"type\":\"VBar\"},{\"attributes\":{\"fill_alpha\":{\"value\":0.1},\"fill_color\":{\"value\":\"#ff7f0e\"},\"hatch_alpha\":{\"value\":0.1},\"hatch_color\":{\"value\":\"#ff7f0e\"},\"line_alpha\":{\"value\":0.1},\"line_color\":{\"value\":\"#ff7f0e\"},\"top\":{\"field\":\"DRIVING UNDER THE INFLUENCE\"},\"width\":{\"value\":0.8},\"x\":{\"field\":\"Hour\"}},\"id\":\"8108\",\"type\":\"VBar\"},{\"attributes\":{\"fill_alpha\":{\"value\":0.1},\"fill_color\":{\"value\":\"#2ca02c\"},\"hatch_alpha\":{\"value\":0.1},\"hatch_color\":{\"value\":\"#2ca02c\"},\"line_alpha\":{\"value\":0.1},\"line_color\":{\"value\":\"#2ca02c\"},\"top\":{\"field\":\"BURGLARY\"},\"width\":{\"value\":0.8},\"x\":{\"field\":\"Hour\"}},\"id\":\"8142\",\"type\":\"VBar\"},{\"attributes\":{\"source\":{\"id\":\"2273\"}},\"id\":\"8281\",\"type\":\"CDSView\"},{\"attributes\":{\"fill_color\":{\"value\":\"#c49c94\"},\"hatch_color\":{\"value\":\"#c49c94\"},\"line_color\":{\"value\":\"#c49c94\"},\"top\":{\"field\":\"VEHICLE THEFT\"},\"width\":{\"value\":0.8},\"x\":{\"field\":\"Hour\"}},\"id\":\"8260\",\"type\":\"VBar\"},{\"attributes\":{\"coordinates\":null,\"data_source\":{\"id\":\"2273\"},\"glyph\":{\"id\":\"8277\"},\"group\":null,\"hover_glyph\":null,\"muted\":true,\"muted_glyph\":{\"id\":\"8279\"},\"nonselection_glyph\":{\"id\":\"8278\"},\"view\":{\"id\":\"8281\"}},\"id\":\"8280\",\"type\":\"GlyphRenderer\"},{\"attributes\":{\"label\":{\"value\":\"VEHICLE THEFT\"},\"renderers\":[{\"id\":\"8263\"}]},\"id\":\"8275\",\"type\":\"LegendItem\"},{\"attributes\":{\"coordinates\":null,\"data_source\":{\"id\":\"2273\"},\"glyph\":{\"id\":\"8072\"},\"group\":null,\"hover_glyph\":null,\"muted\":true,\"muted_glyph\":{\"id\":\"8074\"},\"nonselection_glyph\":{\"id\":\"8073\"},\"view\":{\"id\":\"8076\"}},\"id\":\"8075\",\"type\":\"GlyphRenderer\"},{\"attributes\":{\"fill_alpha\":{\"value\":0.1},\"fill_color\":{\"value\":\"#c5b0d5\"},\"hatch_alpha\":{\"value\":0.1},\"hatch_color\":{\"value\":\"#c5b0d5\"},\"line_alpha\":{\"value\":0.1},\"line_color\":{\"value\":\"#c5b0d5\"},\"top\":{\"field\":\"LARCENY/THEFT\"},\"width\":{\"value\":0.8},\"x\":{\"field\":\"Hour\"}},\"id\":\"8228\",\"type\":\"VBar\"},{\"attributes\":{\"fill_color\":{\"value\":\"#8c564b\"},\"hatch_color\":{\"value\":\"#8c564b\"},\"line_color\":{\"value\":\"#8c564b\"},\"top\":{\"field\":\"VANDALISM\"},\"width\":{\"value\":0.8},\"x\":{\"field\":\"Hour\"}},\"id\":\"8243\",\"type\":\"VBar\"},{\"attributes\":{\"source\":{\"id\":\"2273\"}},\"id\":\"8076\",\"type\":\"CDSView\"},{\"attributes\":{},\"id\":\"8083\",\"type\":\"AllLabels\"},{\"attributes\":{},\"id\":\"2309\",\"type\":\"Selection\"},{\"attributes\":{\"coordinates\":null,\"data_source\":{\"id\":\"2273\"},\"glyph\":{\"id\":\"8209\"},\"group\":null,\"hover_glyph\":null,\"muted\":true,\"muted_glyph\":{\"id\":\"8211\"},\"nonselection_glyph\":{\"id\":\"8210\"},\"view\":{\"id\":\"8213\"}},\"id\":\"8212\",\"type\":\"GlyphRenderer\"},{\"attributes\":{\"fill_alpha\":{\"value\":0.1},\"fill_color\":{\"value\":\"#e377c2\"},\"hatch_alpha\":{\"value\":0.1},\"hatch_color\":{\"value\":\"#e377c2\"},\"line_alpha\":{\"value\":0.1},\"line_color\":{\"value\":\"#e377c2\"},\"top\":{\"field\":\"STOLEN PROPERTY\"},\"width\":{\"value\":0.8},\"x\":{\"field\":\"Hour\"}},\"id\":\"8279\",\"type\":\"VBar\"},{\"attributes\":{\"label\":{\"value\":\"WEAPON LAWS\"},\"renderers\":[{\"id\":\"8075\"}]},\"id\":\"8088\",\"type\":\"LegendItem\"},{\"attributes\":{\"fill_color\":{\"value\":\"#aec7e8\"},\"hatch_color\":{\"value\":\"#aec7e8\"},\"line_color\":{\"value\":\"#aec7e8\"},\"top\":{\"field\":\"PROSTITUTION\"},\"width\":{\"value\":0.8},\"x\":{\"field\":\"Hour\"}},\"id\":\"8090\",\"type\":\"VBar\"},{\"attributes\":{\"source\":{\"id\":\"2273\"}},\"id\":\"8247\",\"type\":\"CDSView\"},{\"attributes\":{\"fill_alpha\":{\"value\":0.1},\"fill_color\":{\"value\":\"#9467bd\"},\"hatch_alpha\":{\"value\":0.1},\"hatch_color\":{\"value\":\"#9467bd\"},\"line_alpha\":{\"value\":0.1},\"line_color\":{\"value\":\"#9467bd\"},\"top\":{\"field\":\"TRESPASS\"},\"width\":{\"value\":0.8},\"x\":{\"field\":\"Hour\"}},\"id\":\"8210\",\"type\":\"VBar\"},{\"attributes\":{\"fill_color\":{\"value\":\"#c5b0d5\"},\"hatch_color\":{\"value\":\"#c5b0d5\"},\"line_color\":{\"value\":\"#c5b0d5\"},\"top\":{\"field\":\"LARCENY/THEFT\"},\"width\":{\"value\":0.8},\"x\":{\"field\":\"Hour\"}},\"id\":\"8226\",\"type\":\"VBar\"},{\"attributes\":{\"fill_alpha\":{\"value\":0.1},\"fill_color\":{\"value\":\"#c5b0d5\"},\"hatch_alpha\":{\"value\":0.1},\"hatch_color\":{\"value\":\"#c5b0d5\"},\"line_alpha\":{\"value\":0.1},\"line_color\":{\"value\":\"#c5b0d5\"},\"top\":{\"field\":\"LARCENY/THEFT\"},\"width\":{\"value\":0.8},\"x\":{\"field\":\"Hour\"}},\"id\":\"8227\",\"type\":\"VBar\"},{\"attributes\":{\"fill_alpha\":{\"value\":0.1},\"fill_color\":{\"value\":\"#c49c94\"},\"hatch_alpha\":{\"value\":0.1},\"hatch_color\":{\"value\":\"#c49c94\"},\"line_alpha\":{\"value\":0.1},\"line_color\":{\"value\":\"#c49c94\"},\"top\":{\"field\":\"VEHICLE THEFT\"},\"width\":{\"value\":0.8},\"x\":{\"field\":\"Hour\"}},\"id\":\"8262\",\"type\":\"VBar\"},{\"attributes\":{\"fill_color\":{\"value\":\"#e377c2\"},\"hatch_color\":{\"value\":\"#e377c2\"},\"line_color\":{\"value\":\"#e377c2\"},\"top\":{\"field\":\"STOLEN PROPERTY\"},\"width\":{\"value\":0.8},\"x\":{\"field\":\"Hour\"}},\"id\":\"8277\",\"type\":\"VBar\"},{\"attributes\":{\"source\":{\"id\":\"2273\"}},\"id\":\"8213\",\"type\":\"CDSView\"},{\"attributes\":{\"label\":{\"value\":\"STOLEN PROPERTY\"},\"renderers\":[{\"id\":\"8280\"}]},\"id\":\"8292\",\"type\":\"LegendItem\"},{\"attributes\":{\"label\":{\"value\":\"DISORDERLY CONDUCT\"},\"renderers\":[{\"id\":\"8297\"}]},\"id\":\"8309\",\"type\":\"LegendItem\"},{\"attributes\":{\"label\":{\"value\":\"BURGLARY\"},\"renderers\":[{\"id\":\"8144\"}]},\"id\":\"8156\",\"type\":\"LegendItem\"},{\"attributes\":{\"fill_alpha\":{\"value\":0.1},\"fill_color\":{\"value\":\"#c49c94\"},\"hatch_alpha\":{\"value\":0.1},\"hatch_color\":{\"value\":\"#c49c94\"},\"line_alpha\":{\"value\":0.1},\"line_color\":{\"value\":\"#c49c94\"},\"top\":{\"field\":\"VEHICLE THEFT\"},\"width\":{\"value\":0.8},\"x\":{\"field\":\"Hour\"}},\"id\":\"8261\",\"type\":\"VBar\"},{\"attributes\":{\"fill_alpha\":{\"value\":0.1},\"fill_color\":{\"value\":\"#f7b6d2\"},\"hatch_alpha\":{\"value\":0.1},\"hatch_color\":{\"value\":\"#f7b6d2\"},\"line_alpha\":{\"value\":0.1},\"line_color\":{\"value\":\"#f7b6d2\"},\"top\":{\"field\":\"DISORDERLY CONDUCT\"},\"width\":{\"value\":0.8},\"x\":{\"field\":\"Hour\"}},\"id\":\"8295\",\"type\":\"VBar\"},{\"attributes\":{\"coordinates\":null,\"data_source\":{\"id\":\"2273\"},\"glyph\":{\"id\":\"8294\"},\"group\":null,\"hover_glyph\":null,\"muted\":true,\"muted_glyph\":{\"id\":\"8296\"},\"nonselection_glyph\":{\"id\":\"8295\"},\"view\":{\"id\":\"8298\"}},\"id\":\"8297\",\"type\":\"GlyphRenderer\"},{\"attributes\":{\"coordinates\":null,\"data_source\":{\"id\":\"2273\"},\"glyph\":{\"id\":\"8124\"},\"group\":null,\"hover_glyph\":null,\"muted\":true,\"muted_glyph\":{\"id\":\"8126\"},\"nonselection_glyph\":{\"id\":\"8125\"},\"view\":{\"id\":\"8128\"}},\"id\":\"8127\",\"type\":\"GlyphRenderer\"},{\"attributes\":{\"coordinates\":null,\"data_source\":{\"id\":\"2273\"},\"glyph\":{\"id\":\"8243\"},\"group\":null,\"hover_glyph\":null,\"muted\":true,\"muted_glyph\":{\"id\":\"8245\"},\"nonselection_glyph\":{\"id\":\"8244\"},\"view\":{\"id\":\"8247\"}},\"id\":\"8246\",\"type\":\"GlyphRenderer\"},{\"attributes\":{\"data\":{\"ASSAULT\":{\"__ndarray__\":\"8YnVH0FmrD/axOR2O3ipPzjdQT/t9KY/3rxM0WDTlz8UsKUS7LiMP4Wa8bmdSIg/6Jq4v5Hkjz/DAKci0b6WP00u8T3dD6E/SjQjOoFLoj+GGxiDxLmkPwfYayBf46U/F6pzFkh9qz+rvPVZ28inP9ZPCY9z96c/hxRMSW7Qqj+HFExJbtCqP89fOdooQas/0Vtth7tuqj/BgeYC4baqP4gRM0ucMqo/Nl6BH/3sqj+CoCO2QYSpP2B47RlgyKg/\",\"dtype\":\"float64\",\"order\":\"little\",\"shape\":[24]},\"BURGLARY\":{\"__ndarray__\":\"X7Yyx/WTpD/DR+PPK1GcPzrIHWrjF6A/rBTTXIjGoD+fyiFRhxWeP+ybxAhgQpo/JTb5xeRwlz+xBe7Si4egP4dWVvCs7ag/LUwlKtMJpz/PUNnt9WSlP2L1PnFUd6Q/6s+6gEdZqj8j36Cj6juhP/dLs8BXZ6M/O8ZuJgtepj9yrOXTEvWpP2yxU+UZxbA/JpGvb48ZsT9YK1X96EarP5IekSBAZKg/oAvdPr6ypz84oV04IIamP1Mi7g5KNKU/\",\"dtype\":\"float64\",\"order\":\"little\",\"shape\":[24]},\"DISORDERLY CONDUCT\":{\"__ndarray__\":\"clJTI7TEqj/Tw0o3MKOjP0ecrbnlrKA/URtKm8MWkz+D3CQgwreOPwPL8djX064/QmW+Q7epvj/vzLgVHAC6P1EbSpvDFrM/dAyHBgs1qz/Z8eXgNPSkP89ySf9WiqI/hXPydERgnz9XSeVEyGekP3zR7wSSLp0/hy0mWJvQnz93gO7MuBWcP3CYH0BdVJo/x4p6cvvIoD9rRx4IhDuZP2HIgSam0ZY/YciBJqbRlj/NuBUcABqiP89ySf9WiqI/\",\"dtype\":\"float64\",\"order\":\"little\",\"shape\":[24]},\"DRIVING UNDER THE INFLUENCE\":{\"__ndarray__\":\"MpouHtMyvz/YkjEHalK9P5atYlWGQbk/1MrD7F6NqD/TxWNa5tORPxWrMgzK5IU/ybksOpyliT9E747W1IOBPyZC5c6x44A/BBSASeLlij+8ozX1YAR0P2KcON73I4I/2lDf/IOkhD+NX9kqVmWIPwQUgEni5Yo/Lc1gcU+0kz/zfM2G+uafP6oHI6AATKI/yLTMpyPsoj8VqzIMyuSlP8MzESp3jq0/ynfaL7b3sD9vsi8jM8W3P3zIJmhuZr0/\",\"dtype\":\"float64\",\"order\":\"little\",\"shape\":[24]},\"DRUG/NARCOTIC\":{\"__ndarray__\":\"TWN5oefzoT8myR6GWiaVP4w51JvcJZE/yC4rJZeTiT/PWWbM5wCDP6lirtBEpHU/vA4yOsJ9hj8vo9IxW1qZP47cdrvGlqA/9vey3raVoz92puHOQd2jPxdn0lLz9aY/dGYHglCmqj+Rj+G2uCSvP+2KJO/TDa8/eGtqkEXNsT/MEyGNEx+0P8YG2pCaabU/pfQX/XOYsj98nRgOZ2mvP6pkJ8zlh6c/Gauelib0oz+LnJxu1V+nP251OzUOxaQ/\",\"dtype\":\"float64\",\"order\":\"little\",\"shape\":[24]},\"DRUNKENNESS\":{\"__ndarray__\":\"Ba2yqfKMtD8SkxZpq8WzPzIBVdKv9LE/HqbzFQUGnD84gY6OAXqNP5te7boWwnQ/v26iDq6ugj8FrbKp8oyUP9H2fLj5pJE/H4hNIu8Alj93Tjhnf9WWP4F0f0iPS6A/ZOQDsUnknT+QR3nTkU6eP0OJL3z76qA/Ba2yqfKMpD+s9Zpe7bqmP1yCcOgNZKg/8kJ+87ybqz/hq9BP5qKpP+gNZBgiI68/hhb2MiIJsD/mL6FGY1uzP3zh21eHkLM/\",\"dtype\":\"float64\",\"order\":\"little\",\"shape\":[24]},\"Hour\":[0,1,2,3,4,5,6,7,8,9,10,11,12,13,14,15,16,17,18,19,20,21,22,23],\"LARCENY/THEFT\":{\"__ndarray__\":\"EE/ig4w2pD8ye4PzeAqaP29bqx7L9o8/UwGJk3xrhD+RC5cfu8x6Pz155ezLKHs/KTgw+oSZhD8HIQK7DgCPP+tSv+PKepo//VQbRa9aoD9AQdL6mQylPwtAB8JUn6c/FU6TALbFrD9JJXjYDr6pP1A5nIWuh6o/lZ68cvZlrD+qWyfUOfOtPz5xUMrEJLE/D9MsFZA4tT8SH2S0YR60P1KqcJoEsLE/CvkYDuvrrD/hPJ6CYlCrP0g9N0Akyqc/\",\"dtype\":\"float64\",\"order\":\"little\",\"shape\":[24]},\"PROSTITUTION\":{\"__ndarray__\":\"LZppe46YwD+bi4jn94K4P8SvYY9t8a4/6PeCWKyeoj8P4ZOWFfiTP3589L9b3oQ/wA5yGkNFgT9+fPS/W950P4tm2p4jJnQ/Vr5CIwQHZz9WvkIjBAd3PzvqdmV0d4g/HMt5dd0/oz/leKA84SSNPzvqdmV0d5g/00OJKxI1lz9C3+lUWBuYPxohOLgARJo/+wE7yGkMpT9ugqUYmQO0P4w7e/0RpLA/y3l13T8Tqz+bi4jn94K4P7+GPbbFe8A/\",\"dtype\":\"float64\",\"order\":\"little\",\"shape\":[24]},\"ROBBERY\":{\"__ndarray__\":\"cce6IVfGrD//nuzvyf6uP5/0SZ/0Sa8/b5PxNhlvoz/abfEybISYP3JpeezrHJQ/RxJyJCFHkj/1EE4P4fSQP45pPO4bOZQ/M2yEGJzdlj8hxbv8ZnaaPxjJJzwnbZ4/KxKvIvEqoj/+kuUvWf6iP6K+ypRW96M/cGpU/JsapT8/7UApZOmnPw+Y74D5Dqg/eMQp8kbNqT+p8N1fNFOrP7BzUJBcWq4/s1EyGyWzsT/1EE4P4fSwP0wQvATBS7A/\",\"dtype\":\"float64\",\"order\":\"little\",\"shape\":[24]},\"STOLEN PROPERTY\":{\"__ndarray__\":\"64FtZ3unpj9QKGPGW0yhP0RrVnYNZp4/bJ2xSnjilz9MLNy+Q9iUP3aVv1moypA/pGyzgQCpkT8hw/gj3+WYP+i8biZdqZw/mwIc7fRIoD9+/1busyqiPwFSI5iq26U/snvjaflqqj8NKsu5qSesP0qeZUQfUK0/91kViXrzrD8TtMg75iOwP0xzF/xVnLA/ujxpsi/dsD9R0XQSMTqsPwvzQvOvsak/N5OuVA4aqD/Vsbc2THOnP4A237StoKQ/\",\"dtype\":\"float64\",\"order\":\"little\",\"shape\":[24]},\"TRESPASS\":{\"__ndarray__\":\"cjZJCdOjnD8WRmmxK7OVP2/X7AsyAJo/a7VAnjfllT914yvNl92PPz+AoGI95KM/Ew5Ql5xasz8o+XE2SQmzPxCIsLbpa7A/cl2M7OTurD9v1+wLMgCqP0QXFnpt4Kg/cP4v70NLqj9EPlldfyupP+rTGOaKKaU/QnsJ7SW0pz/A/dSnMcylP5YATobGI6Y/6qzVAnnepD+9UPLjbJKiPz1vyivA1qE/Ef15YB9NoT90bmIjYvyePx7YR1NEf54/\",\"dtype\":\"float64\",\"order\":\"little\",\"shape\":[24]},\"VANDALISM\":{\"__ndarray__\":\"rgQE780hrD/c6lQFL8CjPyEG2QfYbaI/+H0/UW+lmj+oO35/TjmSPyLK65NzC44/9LjJN/h3kT8ma02GBSqWPzuDKWqdEKA/f7qh5xpXnj9QUDsPizigP0i1M65ScJ4/T1f4LcAepD+JBIV4TwqgP5jMIzpZ56E/kXEZo408pT80L9zxBkynPyTO++l7xq4/4vPXPhvGsj/Oz4lInXCxP4sIlc5XxbA/V7ICxYvJsD9L9IvaFsCwP26ge8gx1a4/\",\"dtype\":\"float64\",\"order\":\"little\",\"shape\":[24]},\"VEHICLE THEFT\":{\"__ndarray__\":\"ZrJRrDhjoj+WIx7tM7GYP6G8mcf4q5I/AWkDGAlAiD/kU7/MzoCEP5ngQqwHdoQ/AZ8ySe9Hjz/nRhO9iE2XPwNfslKG3KA/EZwI7Cn6oD+ds1YhDQ2gP/1/AO3R1pw/Zk3pxCvnpT8E9+4gtpCeP/7EKFkqHaI/VvqjdVb3pT/2HgFvH++qP0vvesBttbE/pDrlksthtT8YchCPw/iyP12qHCXkiLQ/3fK/ThyZsj+LudvIlSq0P7kXFJ4idrA/\",\"dtype\":\"float64\",\"order\":\"little\",\"shape\":[24]},\"WEAPON LAWS\":{\"__ndarray__\":\"X3M9ZgLcqz+z0vyEijekP8cCgRsO16A/vUgSQ2dIlz/8QhPf7Q+RP/MbsuXfNn4/d69i4majhz/e+kx9qCCWP1b9J6gly5g/r2iIrI5OoD+jGwz1TgqgPweQj5YtVKE/lFX8NsdTpz+D/N6ZpuenP8FUsyhIcKY/X3M9ZgLcqz/dtvNi3qKvP4zQx0qeua8/35x5io1fsT/+yONR3qOwP19zPWYC3Ks/O4zIP0MPqz/mLuviXhuwP7ym5TWCCaw/\",\"dtype\":\"float64\",\"order\":\"little\",\"shape\":[24]},\"index\":[0,1,2,3,4,5,6,7,8,9,10,11,12,13,14,15,16,17,18,19,20,21,22,23]},\"selected\":{\"id\":\"2309\"},\"selection_policy\":{\"id\":\"2308\"}},\"id\":\"2273\",\"type\":\"ColumnDataSource\"},{\"attributes\":{\"fill_color\":{\"value\":\"#98df8a\"},\"hatch_color\":{\"value\":\"#98df8a\"},\"line_color\":{\"value\":\"#98df8a\"},\"top\":{\"field\":\"ASSAULT\"},\"width\":{\"value\":0.8},\"x\":{\"field\":\"Hour\"}},\"id\":\"8158\",\"type\":\"VBar\"},{\"attributes\":{\"fill_color\":{\"value\":\"#f7b6d2\"},\"hatch_color\":{\"value\":\"#f7b6d2\"},\"line_color\":{\"value\":\"#f7b6d2\"},\"top\":{\"field\":\"DISORDERLY CONDUCT\"},\"width\":{\"value\":0.8},\"x\":{\"field\":\"Hour\"}},\"id\":\"8294\",\"type\":\"VBar\"},{\"attributes\":{\"fill_alpha\":{\"value\":0.1},\"fill_color\":{\"value\":\"#f7b6d2\"},\"hatch_alpha\":{\"value\":0.1},\"hatch_color\":{\"value\":\"#f7b6d2\"},\"line_alpha\":{\"value\":0.1},\"line_color\":{\"value\":\"#f7b6d2\"},\"top\":{\"field\":\"DISORDERLY CONDUCT\"},\"width\":{\"value\":0.8},\"x\":{\"field\":\"Hour\"}},\"id\":\"8296\",\"type\":\"VBar\"},{\"attributes\":{\"fill_alpha\":{\"value\":0.1},\"fill_color\":{\"value\":\"#ffbb78\"},\"hatch_alpha\":{\"value\":0.1},\"hatch_color\":{\"value\":\"#ffbb78\"},\"line_alpha\":{\"value\":0.1},\"line_color\":{\"value\":\"#ffbb78\"},\"top\":{\"field\":\"ROBBERY\"},\"width\":{\"value\":0.8},\"x\":{\"field\":\"Hour\"}},\"id\":\"8125\",\"type\":\"VBar\"},{\"attributes\":{\"source\":{\"id\":\"2273\"}},\"id\":\"8298\",\"type\":\"CDSView\"},{\"attributes\":{\"fill_alpha\":{\"value\":0.1},\"fill_color\":{\"value\":\"#8c564b\"},\"hatch_alpha\":{\"value\":0.1},\"hatch_color\":{\"value\":\"#8c564b\"},\"line_alpha\":{\"value\":0.1},\"line_color\":{\"value\":\"#8c564b\"},\"top\":{\"field\":\"VANDALISM\"},\"width\":{\"value\":0.8},\"x\":{\"field\":\"Hour\"}},\"id\":\"8245\",\"type\":\"VBar\"},{\"attributes\":{\"label\":{\"value\":\"LARCENY/THEFT\"},\"renderers\":[{\"id\":\"8229\"}]},\"id\":\"8241\",\"type\":\"LegendItem\"},{\"attributes\":{\"fill_color\":{\"value\":\"#2ca02c\"},\"hatch_color\":{\"value\":\"#2ca02c\"},\"line_color\":{\"value\":\"#2ca02c\"},\"top\":{\"field\":\"BURGLARY\"},\"width\":{\"value\":0.8},\"x\":{\"field\":\"Hour\"}},\"id\":\"8141\",\"type\":\"VBar\"},{\"attributes\":{\"source\":{\"id\":\"2273\"}},\"id\":\"8128\",\"type\":\"CDSView\"},{\"attributes\":{\"fill_alpha\":{\"value\":0.1},\"fill_color\":{\"value\":\"#e377c2\"},\"hatch_alpha\":{\"value\":0.1},\"hatch_color\":{\"value\":\"#e377c2\"},\"line_alpha\":{\"value\":0.1},\"line_color\":{\"value\":\"#e377c2\"},\"top\":{\"field\":\"STOLEN PROPERTY\"},\"width\":{\"value\":0.8},\"x\":{\"field\":\"Hour\"}},\"id\":\"8278\",\"type\":\"VBar\"},{\"attributes\":{\"coordinates\":null,\"data_source\":{\"id\":\"2273\"},\"glyph\":{\"id\":\"8090\"},\"group\":null,\"hover_glyph\":null,\"muted\":true,\"muted_glyph\":{\"id\":\"8092\"},\"nonselection_glyph\":{\"id\":\"8091\"},\"view\":{\"id\":\"8094\"}},\"id\":\"8093\",\"type\":\"GlyphRenderer\"},{\"attributes\":{\"click_policy\":\"mute\",\"coordinates\":null,\"group\":null,\"items\":[{\"id\":\"8088\"},{\"id\":\"8105\"},{\"id\":\"8122\"},{\"id\":\"8139\"},{\"id\":\"8156\"},{\"id\":\"8173\"},{\"id\":\"8190\"},{\"id\":\"8207\"},{\"id\":\"8224\"},{\"id\":\"8241\"},{\"id\":\"8258\"},{\"id\":\"8275\"},{\"id\":\"8292\"},{\"id\":\"8309\"}]},\"id\":\"8087\",\"type\":\"Legend\"},{\"attributes\":{\"label\":{\"value\":\"VANDALISM\"},\"renderers\":[{\"id\":\"8246\"}]},\"id\":\"8258\",\"type\":\"LegendItem\"},{\"attributes\":{\"fill_alpha\":{\"value\":0.1},\"fill_color\":{\"value\":\"#8c564b\"},\"hatch_alpha\":{\"value\":0.1},\"hatch_color\":{\"value\":\"#8c564b\"},\"line_alpha\":{\"value\":0.1},\"line_color\":{\"value\":\"#8c564b\"},\"top\":{\"field\":\"VANDALISM\"},\"width\":{\"value\":0.8},\"x\":{\"field\":\"Hour\"}},\"id\":\"8244\",\"type\":\"VBar\"},{\"attributes\":{\"label\":{\"value\":\"TRESPASS\"},\"renderers\":[{\"id\":\"8212\"}]},\"id\":\"8224\",\"type\":\"LegendItem\"},{\"attributes\":{\"fill_alpha\":{\"value\":0.1},\"fill_color\":{\"value\":\"#aec7e8\"},\"hatch_alpha\":{\"value\":0.1},\"hatch_color\":{\"value\":\"#aec7e8\"},\"line_alpha\":{\"value\":0.1},\"line_color\":{\"value\":\"#aec7e8\"},\"top\":{\"field\":\"PROSTITUTION\"},\"width\":{\"value\":0.8},\"x\":{\"field\":\"Hour\"}},\"id\":\"8092\",\"type\":\"VBar\"},{\"attributes\":{\"source\":{\"id\":\"2273\"}},\"id\":\"8094\",\"type\":\"CDSView\"},{\"attributes\":{\"label\":{\"value\":\"ROBBERY\"},\"renderers\":[{\"id\":\"8127\"}]},\"id\":\"8139\",\"type\":\"LegendItem\"},{\"attributes\":{\"source\":{\"id\":\"2273\"}},\"id\":\"8145\",\"type\":\"CDSView\"},{\"attributes\":{\"fill_alpha\":{\"value\":0.1},\"fill_color\":{\"value\":\"#9467bd\"},\"hatch_alpha\":{\"value\":0.1},\"hatch_color\":{\"value\":\"#9467bd\"},\"line_alpha\":{\"value\":0.1},\"line_color\":{\"value\":\"#9467bd\"},\"top\":{\"field\":\"TRESPASS\"},\"width\":{\"value\":0.8},\"x\":{\"field\":\"Hour\"}},\"id\":\"8211\",\"type\":\"VBar\"},{\"attributes\":{\"fill_color\":{\"value\":\"#9467bd\"},\"hatch_color\":{\"value\":\"#9467bd\"},\"line_color\":{\"value\":\"#9467bd\"},\"top\":{\"field\":\"TRESPASS\"},\"width\":{\"value\":0.8},\"x\":{\"field\":\"Hour\"}},\"id\":\"8209\",\"type\":\"VBar\"},{\"attributes\":{\"fill_alpha\":{\"value\":0.1},\"fill_color\":{\"value\":\"#ffbb78\"},\"hatch_alpha\":{\"value\":0.1},\"hatch_color\":{\"value\":\"#ffbb78\"},\"line_alpha\":{\"value\":0.1},\"line_color\":{\"value\":\"#ffbb78\"},\"top\":{\"field\":\"ROBBERY\"},\"width\":{\"value\":0.8},\"x\":{\"field\":\"Hour\"}},\"id\":\"8126\",\"type\":\"VBar\"},{\"attributes\":{\"fill_color\":{\"value\":\"#ff7f0e\"},\"hatch_color\":{\"value\":\"#ff7f0e\"},\"line_color\":{\"value\":\"#ff7f0e\"},\"top\":{\"field\":\"DRIVING UNDER THE INFLUENCE\"},\"width\":{\"value\":0.8},\"x\":{\"field\":\"Hour\"}},\"id\":\"8107\",\"type\":\"VBar\"},{\"attributes\":{\"fill_color\":{\"value\":\"#ffbb78\"},\"hatch_color\":{\"value\":\"#ffbb78\"},\"line_color\":{\"value\":\"#ffbb78\"},\"top\":{\"field\":\"ROBBERY\"},\"width\":{\"value\":0.8},\"x\":{\"field\":\"Hour\"}},\"id\":\"8124\",\"type\":\"VBar\"},{\"attributes\":{\"fill_alpha\":{\"value\":0.1},\"fill_color\":{\"value\":\"#2ca02c\"},\"hatch_alpha\":{\"value\":0.1},\"hatch_color\":{\"value\":\"#2ca02c\"},\"line_alpha\":{\"value\":0.1},\"line_color\":{\"value\":\"#2ca02c\"},\"top\":{\"field\":\"BURGLARY\"},\"width\":{\"value\":0.8},\"x\":{\"field\":\"Hour\"}},\"id\":\"8143\",\"type\":\"VBar\"},{\"attributes\":{\"coordinates\":null,\"data_source\":{\"id\":\"2273\"},\"glyph\":{\"id\":\"8260\"},\"group\":null,\"hover_glyph\":null,\"muted\":true,\"muted_glyph\":{\"id\":\"8262\"},\"nonselection_glyph\":{\"id\":\"8261\"},\"view\":{\"id\":\"8264\"}},\"id\":\"8263\",\"type\":\"GlyphRenderer\"},{\"attributes\":{\"source\":{\"id\":\"2273\"}},\"id\":\"8230\",\"type\":\"CDSView\"},{\"attributes\":{},\"id\":\"2308\",\"type\":\"UnionRenderers\"},{\"attributes\":{\"source\":{\"id\":\"2273\"}},\"id\":\"8196\",\"type\":\"CDSView\"},{\"attributes\":{\"label\":{\"value\":\"DRUG/NARCOTIC\"},\"renderers\":[{\"id\":\"8195\"}]},\"id\":\"8207\",\"type\":\"LegendItem\"},{\"attributes\":{\"source\":{\"id\":\"2273\"}},\"id\":\"8264\",\"type\":\"CDSView\"},{\"attributes\":{\"coordinates\":null,\"data_source\":{\"id\":\"2273\"},\"glyph\":{\"id\":\"8226\"},\"group\":null,\"hover_glyph\":null,\"muted\":true,\"muted_glyph\":{\"id\":\"8228\"},\"nonselection_glyph\":{\"id\":\"8227\"},\"view\":{\"id\":\"8230\"}},\"id\":\"8229\",\"type\":\"GlyphRenderer\"},{\"attributes\":{\"label\":{\"value\":\"PROSTITUTION\"},\"renderers\":[{\"id\":\"8093\"}]},\"id\":\"8105\",\"type\":\"LegendItem\"},{\"attributes\":{\"label\":{\"value\":\"DRIVING UNDER THE INFLUENCE\"},\"renderers\":[{\"id\":\"8110\"}]},\"id\":\"8122\",\"type\":\"LegendItem\"},{\"attributes\":{\"fill_alpha\":{\"value\":0.1},\"fill_color\":{\"value\":\"#d62728\"},\"hatch_alpha\":{\"value\":0.1},\"hatch_color\":{\"value\":\"#d62728\"},\"line_alpha\":{\"value\":0.1},\"line_color\":{\"value\":\"#d62728\"},\"top\":{\"field\":\"DRUNKENNESS\"},\"width\":{\"value\":0.8},\"x\":{\"field\":\"Hour\"}},\"id\":\"8177\",\"type\":\"VBar\"},{\"attributes\":{\"source\":{\"id\":\"2273\"}},\"id\":\"8179\",\"type\":\"CDSView\"},{\"attributes\":{\"factors\":[\"1\",\"2\",\"3\",\"4\",\"5\",\"6\",\"7\",\"8\",\"9\",\"10\",\"11\",\"12\",\"13\",\"14\",\"15\",\"16\",\"17\",\"18\",\"19\",\"20\",\"21\",\"22\",\"23\",\"24\"]},\"id\":\"8039\",\"type\":\"FactorRange\"},{\"attributes\":{\"fill_alpha\":{\"value\":0.1},\"fill_color\":{\"value\":\"#ff9896\"},\"hatch_alpha\":{\"value\":0.1},\"hatch_color\":{\"value\":\"#ff9896\"},\"line_alpha\":{\"value\":0.1},\"line_color\":{\"value\":\"#ff9896\"},\"top\":{\"field\":\"DRUG/NARCOTIC\"},\"width\":{\"value\":0.8},\"x\":{\"field\":\"Hour\"}},\"id\":\"8193\",\"type\":\"VBar\"},{\"attributes\":{\"coordinates\":null,\"group\":null,\"text\":\"Crimes per hour\"},\"id\":\"8041\",\"type\":\"Title\"},{\"attributes\":{\"coordinates\":null,\"data_source\":{\"id\":\"2273\"},\"glyph\":{\"id\":\"8158\"},\"group\":null,\"hover_glyph\":null,\"muted\":true,\"muted_glyph\":{\"id\":\"8160\"},\"nonselection_glyph\":{\"id\":\"8159\"},\"view\":{\"id\":\"8162\"}},\"id\":\"8161\",\"type\":\"GlyphRenderer\"},{\"attributes\":{\"label\":{\"value\":\"ASSAULT\"},\"renderers\":[{\"id\":\"8161\"}]},\"id\":\"8173\",\"type\":\"LegendItem\"},{\"attributes\":{},\"id\":\"8044\",\"type\":\"DataRange1d\"},{\"attributes\":{\"source\":{\"id\":\"2273\"}},\"id\":\"8162\",\"type\":\"CDSView\"},{\"attributes\":{\"axis\":{\"id\":\"8050\"},\"coordinates\":null,\"group\":null,\"ticker\":null},\"id\":\"8052\",\"type\":\"Grid\"},{\"attributes\":{\"label\":{\"value\":\"DRUNKENNESS\"},\"renderers\":[{\"id\":\"8178\"}]},\"id\":\"8190\",\"type\":\"LegendItem\"},{\"attributes\":{\"fill_color\":{\"value\":\"#ff9896\"},\"hatch_color\":{\"value\":\"#ff9896\"},\"line_color\":{\"value\":\"#ff9896\"},\"top\":{\"field\":\"DRUG/NARCOTIC\"},\"width\":{\"value\":0.8},\"x\":{\"field\":\"Hour\"}},\"id\":\"8192\",\"type\":\"VBar\"},{\"attributes\":{\"overlay\":{\"id\":\"8063\"}},\"id\":\"8059\",\"type\":\"BoxZoomTool\"},{\"attributes\":{\"coordinates\":null,\"data_source\":{\"id\":\"2273\"},\"glyph\":{\"id\":\"8192\"},\"group\":null,\"hover_glyph\":null,\"muted\":true,\"muted_glyph\":{\"id\":\"8194\"},\"nonselection_glyph\":{\"id\":\"8193\"},\"view\":{\"id\":\"8196\"}},\"id\":\"8195\",\"type\":\"GlyphRenderer\"},{\"attributes\":{\"tools\":[{\"id\":\"8057\"},{\"id\":\"8058\"},{\"id\":\"8059\"},{\"id\":\"8060\"},{\"id\":\"8061\"},{\"id\":\"8062\"}]},\"id\":\"8064\",\"type\":\"Toolbar\"},{\"attributes\":{\"fill_alpha\":{\"value\":0.1},\"fill_color\":{\"value\":\"#98df8a\"},\"hatch_alpha\":{\"value\":0.1},\"hatch_color\":{\"value\":\"#98df8a\"},\"line_alpha\":{\"value\":0.1},\"line_color\":{\"value\":\"#98df8a\"},\"top\":{\"field\":\"ASSAULT\"},\"width\":{\"value\":0.8},\"x\":{\"field\":\"Hour\"}},\"id\":\"8159\",\"type\":\"VBar\"},{\"attributes\":{},\"id\":\"8051\",\"type\":\"CategoricalTicker\"},{\"attributes\":{\"fill_color\":{\"value\":\"#d62728\"},\"hatch_color\":{\"value\":\"#d62728\"},\"line_color\":{\"value\":\"#d62728\"},\"top\":{\"field\":\"DRUNKENNESS\"},\"width\":{\"value\":0.8},\"x\":{\"field\":\"Hour\"}},\"id\":\"8175\",\"type\":\"VBar\"},{\"attributes\":{\"fill_alpha\":{\"value\":0.1},\"fill_color\":{\"value\":\"#98df8a\"},\"hatch_alpha\":{\"value\":0.1},\"hatch_color\":{\"value\":\"#98df8a\"},\"line_alpha\":{\"value\":0.1},\"line_color\":{\"value\":\"#98df8a\"},\"top\":{\"field\":\"ASSAULT\"},\"width\":{\"value\":0.8},\"x\":{\"field\":\"Hour\"}},\"id\":\"8160\",\"type\":\"VBar\"},{\"attributes\":{},\"id\":\"8058\",\"type\":\"WheelZoomTool\"},{\"attributes\":{},\"id\":\"8062\",\"type\":\"HelpTool\"},{\"attributes\":{},\"id\":\"8046\",\"type\":\"CategoricalScale\"},{\"attributes\":{\"fill_alpha\":{\"value\":0.1},\"fill_color\":{\"value\":\"#1f77b4\"},\"hatch_alpha\":{\"value\":0.1},\"hatch_color\":{\"value\":\"#1f77b4\"},\"line_alpha\":{\"value\":0.1},\"line_color\":{\"value\":\"#1f77b4\"},\"top\":{\"field\":\"WEAPON LAWS\"},\"width\":{\"value\":0.8},\"x\":{\"field\":\"Hour\"}},\"id\":\"8073\",\"type\":\"VBar\"},{\"attributes\":{\"fill_alpha\":{\"value\":0.1},\"fill_color\":{\"value\":\"#d62728\"},\"hatch_alpha\":{\"value\":0.1},\"hatch_color\":{\"value\":\"#d62728\"},\"line_alpha\":{\"value\":0.1},\"line_color\":{\"value\":\"#d62728\"},\"top\":{\"field\":\"DRUNKENNESS\"},\"width\":{\"value\":0.8},\"x\":{\"field\":\"Hour\"}},\"id\":\"8176\",\"type\":\"VBar\"},{\"attributes\":{},\"id\":\"8061\",\"type\":\"ResetTool\"},{\"attributes\":{},\"id\":\"8060\",\"type\":\"SaveTool\"},{\"attributes\":{\"fill_alpha\":{\"value\":0.1},\"fill_color\":{\"value\":\"#ff9896\"},\"hatch_alpha\":{\"value\":0.1},\"hatch_color\":{\"value\":\"#ff9896\"},\"line_alpha\":{\"value\":0.1},\"line_color\":{\"value\":\"#ff9896\"},\"top\":{\"field\":\"DRUG/NARCOTIC\"},\"width\":{\"value\":0.8},\"x\":{\"field\":\"Hour\"}},\"id\":\"8194\",\"type\":\"VBar\"},{\"attributes\":{\"bottom_units\":\"screen\",\"coordinates\":null,\"fill_alpha\":0.5,\"fill_color\":\"lightgrey\",\"group\":null,\"left_units\":\"screen\",\"level\":\"overlay\",\"line_alpha\":1.0,\"line_color\":\"black\",\"line_dash\":[4,4],\"line_width\":2,\"right_units\":\"screen\",\"syncable\":false,\"top_units\":\"screen\"},\"id\":\"8063\",\"type\":\"BoxAnnotation\"},{\"attributes\":{\"coordinates\":null,\"data_source\":{\"id\":\"2273\"},\"glyph\":{\"id\":\"8175\"},\"group\":null,\"hover_glyph\":null,\"muted\":true,\"muted_glyph\":{\"id\":\"8177\"},\"nonselection_glyph\":{\"id\":\"8176\"},\"view\":{\"id\":\"8179\"}},\"id\":\"8178\",\"type\":\"GlyphRenderer\"},{\"attributes\":{\"axis_label\":\"Hour of the day\",\"coordinates\":null,\"formatter\":{\"id\":\"8082\"},\"group\":null,\"major_label_policy\":{\"id\":\"8083\"},\"ticker\":{\"id\":\"8051\"}},\"id\":\"8050\",\"type\":\"CategoricalAxis\"},{\"attributes\":{\"fill_alpha\":{\"value\":0.1},\"fill_color\":{\"value\":\"#1f77b4\"},\"hatch_alpha\":{\"value\":0.1},\"hatch_color\":{\"value\":\"#1f77b4\"},\"line_alpha\":{\"value\":0.1},\"line_color\":{\"value\":\"#1f77b4\"},\"top\":{\"field\":\"WEAPON LAWS\"},\"width\":{\"value\":0.8},\"x\":{\"field\":\"Hour\"}},\"id\":\"8074\",\"type\":\"VBar\"},{\"attributes\":{},\"id\":\"8048\",\"type\":\"LinearScale\"},{\"attributes\":{},\"id\":\"8080\",\"type\":\"AllLabels\"},{\"attributes\":{\"fill_color\":{\"value\":\"#1f77b4\"},\"hatch_color\":{\"value\":\"#1f77b4\"},\"line_color\":{\"value\":\"#1f77b4\"},\"top\":{\"field\":\"WEAPON LAWS\"},\"width\":{\"value\":0.8},\"x\":{\"field\":\"Hour\"}},\"id\":\"8072\",\"type\":\"VBar\"},{\"attributes\":{},\"id\":\"8079\",\"type\":\"BasicTickFormatter\"},{\"attributes\":{\"axis\":{\"id\":\"8053\"},\"coordinates\":null,\"dimension\":1,\"group\":null,\"ticker\":null},\"id\":\"8056\",\"type\":\"Grid\"},{\"attributes\":{},\"id\":\"8057\",\"type\":\"PanTool\"},{\"attributes\":{},\"id\":\"8054\",\"type\":\"BasicTicker\"},{\"attributes\":{},\"id\":\"8082\",\"type\":\"CategoricalTickFormatter\"},{\"attributes\":{\"coordinates\":null,\"data_source\":{\"id\":\"2273\"},\"glyph\":{\"id\":\"8141\"},\"group\":null,\"hover_glyph\":null,\"muted\":true,\"muted_glyph\":{\"id\":\"8143\"},\"nonselection_glyph\":{\"id\":\"8142\"},\"view\":{\"id\":\"8145\"}},\"id\":\"8144\",\"type\":\"GlyphRenderer\"},{\"attributes\":{\"axis_label\":\"Relative frequency\",\"coordinates\":null,\"formatter\":{\"id\":\"8079\"},\"group\":null,\"major_label_policy\":{\"id\":\"8080\"},\"ticker\":{\"id\":\"8054\"}},\"id\":\"8053\",\"type\":\"LinearAxis\"}],\"root_ids\":[\"8040\"]},\"title\":\"Bokeh Application\",\"version\":\"2.4.3\"}};\n  const render_items = [{\"docid\":\"01359fe8-8aae-4575-ba45-c4f169301844\",\"root_ids\":[\"8040\"],\"roots\":{\"8040\":\"7bd2585a-f927-4ed5-b3c6-39e00f635e4f\"}}];\n  root.Bokeh.embed.embed_items_notebook(docs_json, render_items);\n  }\n  if (root.Bokeh !== undefined) {\n    embed_document(root);\n  } else {\n    let attempts = 0;\n    const timer = setInterval(function(root) {\n      if (root.Bokeh !== undefined) {\n        clearInterval(timer);\n        embed_document(root);\n      } else {\n        attempts++;\n        if (attempts > 100) {\n          clearInterval(timer);\n          console.log(\"Bokeh: ERROR: Unable to run BokehJS code because BokehJS library is missing\");\n        }\n      }\n    }, 10, root)\n  }\n})(window);",
      "application/vnd.bokehjs_exec.v0+json": ""
     },
     "metadata": {
      "application/vnd.bokehjs_exec.v0+json": {
       "id": "8040"
      }
     },
     "output_type": "display_data"
    }
   ],
   "source": [
    "# Create empty figure\n",
    "p = figure(plot_width=800, plot_height=400, x_range=FactorRange(factors=hour_list), \n",
    "           x_axis_label='Hour of the day', y_axis_label='Relative frequency', title='Crimes per hour')\n",
    "\n",
    "# Add the bars\n",
    "bar = {}\n",
    "\n",
    "for indx, i in enumerate(focuscrimes):\n",
    "    bar[i] = p.vbar(x='Hour', top=i, width=0.8, source=source, color=Category20[20][indx], \n",
    "                    legend_label=i, muted_alpha=0.1, muted = True)\n",
    "\n",
    "# Set the legend\n",
    "p.legend.click_policy=\"mute\"\n",
    "p.legend.orientation = \"vertical\"\n",
    "# place the legend outside the plot\n",
    "p.add_layout(p.legend[0], 'left')\n",
    "\n",
    "show(p)\n"
   ]
  },
  {
   "cell_type": "markdown",
   "metadata": {},
   "source": [
    "\n",
    "> ***Exercise***: Recreate the results from **Week 2** as an interactive visualisation (shown in the gif). To complete the exercise, follow the steps below to create your own version of the dataviz.\n",
    "\n",
    "### Data prep\n",
    "\n",
    "A key step is to set up the data right. So for this one, we'll be pretty strict about the steps. The workflow is\n",
    "\n",
    "1. Take the data for the period of 2010-2017 and group it by hour-of-the-day.\n",
    "2. We would like to be able to easily compare how the distribution of crimes differ from each other, not absolute numbers, so we will work on *normalized data*:\n",
    "    * To normalise data for within a crime category you simply to devide the count for each hour by the total number of this crime type. (To give a concrete example in the `ASSAULT` category, take the number of assault-counts in 1st hour you should devide by the total number of assaults, then you devide number of assaults in 2nd hour by the total number of assaults and so on)\n",
    "    *  Your life will be easiest if you organize your dataframe as shown in [this helpful screenshot](https://github.com/suneman/socialdataanalysis2020/blob/master/files/week8_1_data.PNG?raw=true).\n",
    "\n",
    "If you've followed these steps, your data should be ready! Take a moment to celebrate. We now follow the [Bokeh guide for categorical data](https://docs.bokeh.org/en/latest/docs/user_guide/basic/bars.html):\n",
    "\n",
    "\n",
    "\n",
    "1. First, let's convert our **Pandas Dataframe** to **Bokeh ColumnDataSource**: \n",
    "  > ```python\n",
    "  > source = ColumnDataSource(your_processed_dataframe)\n",
    "  > ## it is a standard way to convert your df to bokeh\n",
    "  > ```\n",
    "2. We also need to create an empty figure (we will add our stuff here later on). Mini sub-exercise: Find the a guide how to define a figure in Bokeh online. Here is a little help:\n",
    "  > ```python\n",
    "  > p = figure(...., x_range = FactorRange(factors=hours), ...) \n",
    "  > #p is a standard way to call figures in Bokeh\n",
    "  > #make sure to add x_range. In my case hours is a list on the form ['1', '2', '3' ... , '24']\n",
    "  > #read up on the FactorRange in the guide\n",
    "  > #do not forget to add other attributes to the figure, e.g. title, axis names and so on\n",
    "  > ```\n",
    "3. Now we are going to add the bars. In order to do so, we will use **vbar** (see the guide for help):\n",
    "  > ```python\n",
    "  > bar ={} # to store vbars\n",
    "  > ### here we will do a for loop:\n",
    "  > for indx,i in enumerate(focuscrimes):\n",
    "  >     bar[i] = p.vbar(x='name_of_the_column_that_contain_hours',  top=i, source= src, \n",
    "  >                     ### we will create a vbar for each focuscrime\n",
    "  >                     legend_label=i,  muted_alpha=..., muted = ....) \n",
    "  > #i stands for a column that we use, top=y; we are specifying that our numbers comes from column i\n",
    "  > #read up what legend_label, muted and muted_alpha do... you can add more attributes (you HAVE TO)\n",
    "  > ```\n",
    "4. The last thing to do is to make your legend interactive and display the figure:\n",
    "  > ```python\n",
    "  > p.legend.click_policy=\"mute\" ### assigns the click policy (you can try to use ''hide'\n",
    "  > show(p) #displays your plot\n",
    "  > ```\n",
    "5. You will notice that the legend appears in the middle of the figure (and it occludes some of the data). In order to fix this look into [this guide](https://stackoverflow.com/questions/26254619/position-of-the-legend-in-a-bokeh-plot) as a start. Below are some code snippets that you can use to deal with this problem (but read the guide first):\n",
    "  > ```python\n",
    "  > items = [] ### for the custom legend // you need to figure out where to add it\n",
    "  > items.append((i, [bar[i]])) ### figure where to add it\n",
    "  > legend = Legend(items=..., location=.....) ## figure where to add it\n",
    "  > p.add_layout(...., ...) ## figure where to add it\n",
    "  > ### if you read the guide, it will make sense\n",
    "  > ```\n",
    "\n",
    "Now you should be able to recreate this amazing visualisation.\n",
    "\n",
    "\n",
    "**EXTRA feature**: If you're interested in detailed instructions for more Bokeh visualizations for your final project, you can find more inspiration **[here](https://github.com/suneman/socialdata2021/blob/main/lectures/Week8_extra_bokeh.ipynb)**."
   ]
  },
  {
   "cell_type": "markdown",
   "metadata": {},
   "source": [
    "## Part 3: Narrative Dataviz\n",
    "\n",
    "Let's finish up with some reading\n",
    "\n",
    "*Reading*: [Narrative Visualization: Telling Stories with Data](http://vis.stanford.edu/files/2010-Narrative-InfoVis.pdf) by Edward Segel and Jeffrey Heer. We'll read section 1-3 today. (And the rest a bit later).\n",
    "\n",
    "When you get to section 3 it's fun to open up the examples mentioned by the authors in a browser and explore them as you read the text. \n",
    "\n",
    "> *Exercise*: Answer a couple of questions about the paper.\n",
    "> \n",
    "> * What is the *Oxford English Dictionary's* defintion of a narrative?\n",
    "> * What is your favorite visualization among the examples in section 3? Explain why in a few words."
   ]
  },
  {
   "attachments": {},
   "cell_type": "markdown",
   "metadata": {},
   "source": [
    "**Oxford English dixtionary's definition of a narratice**\n",
    "The Oxford English Dictionary defines narrative as “an account of a series of events, facts, etc., given in order and with the establishing of connections between them.” Central to this definition is the notion of a chain of causally related events. Stories of this form often have a beginning, middle, and end [3, 24]: an introduction to the situation, a series of events often involving tension or conflict, and a resolution.\n",
    "\n",
    "**Favorite visualization**\n",
    "My favorite visualization is Figure 4 on Human Development Trends. This is because the visualization is from 2005! The Gapminder platform definitely looks outdated, but based on technology from 18 years ago, I was very impressed on the great story telling they were able to do. This shows the power of using visual highlighting, guiding the audience, consistent use of colors etc. "
   ]
  },
  {
   "cell_type": "code",
   "execution_count": null,
   "metadata": {},
   "outputs": [],
   "source": []
  }
 ],
 "metadata": {
  "kernelspec": {
   "display_name": "base",
   "language": "python",
   "name": "python3"
  },
  "language_info": {
   "codemirror_mode": {
    "name": "ipython",
    "version": 3
   },
   "file_extension": ".py",
   "mimetype": "text/x-python",
   "name": "python",
   "nbconvert_exporter": "python",
   "pygments_lexer": "ipython3",
   "version": "3.9.13"
  },
  "vscode": {
   "interpreter": {
    "hash": "8b2dd26ca3ec0f87e2c09f20f0c0188629d5a96d9f7a618c8b358b84f4f3a34f"
   }
  }
 },
 "nbformat": 4,
 "nbformat_minor": 4
}
